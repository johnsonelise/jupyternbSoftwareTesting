{
 "cells": [
  {
   "cell_type": "code",
   "execution_count": null,
   "id": "2fd8b9f5",
   "metadata": {},
   "outputs": [],
   "source": [
    "import time\n",
    "time.ctime()\n"
   ]
  }
 ],
 "metadata": {},
 "nbformat": 4,
 "nbformat_minor": 5
}
