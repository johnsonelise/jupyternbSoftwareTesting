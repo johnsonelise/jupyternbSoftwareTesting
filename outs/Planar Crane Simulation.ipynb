{
 "cells": [
  {
   "cell_type": "markdown",
   "metadata": {},
   "source": [
    "<h1 style=\"text-align:center\">Simluation of a Simple, Planar Crane</h1>\n",
    "<p style=\"text-align:center\">Dr. Joshua Vaughan <br>\n",
    "<a href=\"mailto:joshua.vaughan@louisiana.edu\">joshua.vaughan@louisiana.edu</a><br>\n",
    "http://www.ucs.louisiana.edu/~jev9637/   </p>"
   ]
  },
  {
   "cell_type": "markdown",
   "metadata": {},
   "source": [
    "<p style=\"text-align:center\">\n",
    "    <img src=\"http://shared.crawlab.org/crane_positionInput.png\" alt=\"The Simple, Planar Crane Model\" width=35%/><br>\n",
    "    <strong> Figure 1: The Simple, Planar Crane Model</strong>\n",
    "</p>\n",
    "\n",
    "This notebook simluates a the simple, planar crane model like the one shown in Figure 1. We'll be treating the trolley as the input to the pendulum system. This is fairily consistent with \"real\" cranes, where we can generally control the trolley location fairly well and are intersted in controlling the payload.\n",
    "\n",
    "In this case, we can more explicitly draw the model like that in Figure 2. Because we're saying that we can exactly control $x(t)$, the mass of the trolley doesn't matter. We're really just controlling the pendulum connection point.\n",
    "\n",
    "<p style=\"text-align:center\">\n",
    "    <img src=\"http://shared.crawlab.org/crane_positionInput_noTrolley.png\" alt=\"The Simpler, Planar Crane Model\" width=35%/><br>\n",
    "    <strong> Figure 2: The \"Trolley-input\" Planar Crane Model</strong>\n",
    "</p>\n",
    "\n",
    "\n",
    "If we are treating the trolley as the input, the equation of motion for the payload angle is:\n",
    "\n",
    "$ \\quad \\ddot{\\theta} + \\frac{g}{l}\\theta = \\frac{1}{l}\\ddot{x} $\n",
    "\n",
    "In order to simluate the system (in this case a single, second-order ODE), we need to write it as a system of first-order differential equations. To do so, let's define a state vector: \n",
    "\n",
    "$\\quad \\mathbf{w} = \\left[w_1 \\quad w_2\\right]^T = \\left[\\theta \\quad \\dot{\\theta}\\right]^T $\n",
    "\n",
    "We can then write the system in the form:\n",
    "\n",
    "$ \\quad \\dot{\\mathbf{w}} = f(\\mathbf{w},\\ddot{x},t) $\n",
    "\n",
    "So,\n",
    "\n",
    "$ \\quad \\dot{\\mathbf{w}} = \\left[w_2, \\ -\\frac{g}{l}w_1 + \\frac{1}{l}\\ddot{x}\\right] $"
   ]
  },
  {
   "cell_type": "markdown",
   "metadata": {},
   "source": [
    "We'll start by simluating the system using a nummerical differential equation solver, which could be used for more complex *and* nonlinear systems. We'll then see how to simluate the system using some functions from the [Python Control Systems Toolbox](https://www.cds.caltech.edu/~murray/wiki/Control_Systems_Library_for_Python).\n",
    "\n",
    "## \"Standard\" Imports\n",
    "First, we need to import [NumPy](http://www.numpy.org), the standard numerical *toolbox* we use, and [matplotlib](http://matplotlib.org), the standard plotting library. Nearly all of our projects will import NumPy, and those with plotting will always import matplotlib."
   ]
  },
  {
   "cell_type": "code",
   "execution_count": 1,
   "metadata": {
    "collapsed": false
   },
   "outputs": [],
   "source": [
    "import numpy as np"
   ]
  },
  {
   "cell_type": "code",
   "execution_count": 2,
   "metadata": {
    "collapsed": false
   },
   "outputs": [],
   "source": [
    "# We want out plots to show up inline with the notebook\n",
    "%matplotlib inline \n",
    "\n",
    "import matplotlib.pyplot as plt"
   ]
  },
  {
   "cell_type": "markdown",
   "metadata": {},
   "source": [
    "## Simulation Using an ODE Solver"
   ]
  },
  {
   "cell_type": "code",
   "execution_count": 3,
   "metadata": {
    "collapsed": false
   },
   "outputs": [],
   "source": [
    "# We need to import the ode solver\n",
    "from scipy.integrate import odeint"
   ]
  },
  {
   "cell_type": "code",
   "execution_count": 4,
   "metadata": {
    "collapsed": false
   },
   "outputs": [],
   "source": [
    "def eq_of_motion(w, t, p):\n",
    "    \"\"\"\n",
    "    Defines the differential equations for the planar pendulum system.\n",
    "\n",
    "    Arguments:\n",
    "        w :  vector of the state variables:\n",
    "        t :  time\n",
    "        p :  vector of the parameters:\n",
    "    \"\"\"\n",
    "    theta, theta_dot = w\n",
    "    m, l, Distance, StartTime, Amax, Vmax, Shaper = p\n",
    "\n",
    "    # Create sysODE = (theta', theta_dot')\n",
    "    sysODE = [theta_dot,\n",
    "             -g/l * theta + 1.0/l * x_ddot(t, p)]\n",
    "    return sysODE\n",
    "\n",
    "\n",
    "def x_ddot(t, p):\n",
    "    \"\"\"\n",
    "    Defines the accel input to the system.\n",
    "    \n",
    "    We'll make a call to our lab function accel_input()\n",
    "    \n",
    "    Depending on the desired move distance, max accel, and max velocity, the input is either\n",
    "    bang-bang or bang-coast-bang\n",
    "    \n",
    "    Arguments:\n",
    "        t : current time step \n",
    "        p : vector of parameters\n",
    "    \"\"\"\n",
    "    m, l, Distance, StartTime, Amax, Vmax, Shaper = p\n",
    "    \n",
    "    x_ddot = accel_input(Amax,Vmax,Distance,StartTime,t,Shaper)\n",
    "    \n",
    "    return x_ddot"
   ]
  },
  {
   "cell_type": "code",
   "execution_count": 5,
   "metadata": {
    "collapsed": false
   },
   "outputs": [],
   "source": [
    "# This cell includes functions to generate the acceleartion input\n",
    "\n",
    "def accel_input(Amax,Vmax,Distance,StartTime,CurrTime,Shaper):\n",
    "    \"\"\"\n",
    "    # Original MATLAB/Octave premable\n",
    "    ###########################################################################\n",
    "    # function [accel] = accel_input(Amax,Vmax,Distance,CurrTime,Shaper)\n",
    "    #\n",
    "    # Function returns acceleration at a given timestep based on user input\n",
    "    #\n",
    "    # Amax = maximum accel, assumed to besymmetric +/-\n",
    "    # Vmax = maximum velocity, assumed to be symmetric in +/-\n",
    "    # Distance = desired travel distance \n",
    "    # StartTime = Time command should begin\n",
    "    # CurrTime = current time \n",
    "    # Shaper = array of the form [Ti Ai] - matches output format of shaper functions\n",
    "    #           in toolbox\n",
    "    #          * If Shaper is empty, then unshaped is run\n",
    "    #\n",
    "    #\n",
    "    # Assumptions:\n",
    "    #   * +/- maximums are of same amplitude\n",
    "    #   * command will begin at StartTime (default = 0)\n",
    "    #   * rest-to-rest bang-coast-bang move (before shaping)\n",
    "    #\n",
    "    # Created: 9/23/11 - Joshua Vaughan - vaughanje@gatech.edu\n",
    "    #\n",
    "    # Modified: \n",
    "    #   10/11/11\n",
    "    #     * Added hard-coded shaping option - JEV (vaughanje@gatech.edu)\n",
    "    #\n",
    "    ###########################################################################\n",
    "    #\n",
    "    #\n",
    "    # Converted to Python on 3/3/13 by Joshua Vaughan (joshua.vaughan@louisiana.edu)\n",
    "    #\n",
    "    # Modified:\n",
    "    #   * 3/26/14 - Joshua Vaughan - joshua.vaughan@louisiana.edu\n",
    "    #       - Updated some commenting, corrected typos\n",
    "    #       - Updated numpy import as np\n",
    "    \"\"\"\n",
    "\n",
    "    # These are the times for a bang-coast-bang input \n",
    "    t1 = StartTime\n",
    "    t2 = (Vmax/Amax) + t1\n",
    "    t3 = (Distance/Vmax) + t1\n",
    "    t4 = (t2 + t3)-t1\n",
    "    end_time = t4\n",
    "\n",
    "    if len(Shaper) == 0:\n",
    "        # If no shaper is input, create an unshaped command\n",
    "        if t3 <= t2: # command should be bang-bang, not bang-coast-bang\n",
    "            t2 = np.sqrt(Distance/Amax)+t1\n",
    "            t3 = 2.0 * np.sqrt(Distance/Amax)+t1\n",
    "            end_time = t3\n",
    "        \n",
    "            accel = Amax*(CurrTime > t1) - 2*Amax*(CurrTime > t2) + Amax*(CurrTime > t3)\n",
    "    \n",
    "        else: # command is bang-coast-bang\n",
    "            accel = Amax*(CurrTime > t1) - Amax*(CurrTime > t2) - Amax*(CurrTime > t3) + Amax*(CurrTime > t4)\n",
    "\n",
    "    else: # create a shaped command\n",
    "        ts = np.zeros((9,1))\n",
    "        A = np.zeros((9,1))\n",
    "        # \tParse Shaper parameters\n",
    "        for ii in range(len(Shaper)):\n",
    "            ts[ii] = Shaper[ii,0]  # Shaper impulse times\n",
    "            A[ii] = Shaper[ii,1]  # Shaper impulse amplitudes\n",
    "\n",
    "        # Hard-coded for now\n",
    "        # TODO: be smarter about constructing the total input - JEV - 10/11/11\n",
    "        accel = (A[0]*(Amax*(CurrTime > (t1+ts[0])) - Amax*(CurrTime > (t2+ts[0])) - Amax*(CurrTime > (t3+ts[0])) + Amax*(CurrTime > (t4+ts[0])))\n",
    "        +\tA[1]*(Amax*(CurrTime > (t1+ts[1])) - Amax*(CurrTime > (t2+ts[1])) - Amax*(CurrTime > (t3+ts[1])) + Amax*(CurrTime > (t4+ts[1])))\n",
    "        +   A[2]*(Amax*(CurrTime > (t1+ts[2])) - Amax*(CurrTime > (t2+ts[2])) - Amax*(CurrTime > (t3+ts[2])) + Amax*(CurrTime > (t4+ts[2])))\n",
    "        +   A[3]*(Amax*(CurrTime > (t1+ts[3])) - Amax*(CurrTime > (t2+ts[3])) - Amax*(CurrTime > (t3+ts[3])) + Amax*(CurrTime > (t4+ts[3])))\n",
    "        +   A[4]*(Amax*(CurrTime > (t1+ts[4])) - Amax*(CurrTime > (t2+ts[4])) - Amax*(CurrTime > (t3+ts[4])) + Amax*(CurrTime > (t4+ts[4])))\n",
    "        +   A[5]*(Amax*(CurrTime > (t1+ts[5])) - Amax*(CurrTime > (t2+ts[5])) - Amax*(CurrTime > (t3+ts[5])) + Amax*(CurrTime > (t4+ts[5])))\n",
    "        +   A[6]*(Amax*(CurrTime > (t1+ts[6])) - Amax*(CurrTime > (t2+ts[6])) - Amax*(CurrTime > (t3+ts[6])) + Amax*(CurrTime > (t4+ts[6])))\n",
    "        +   A[7]*(Amax*(CurrTime > (t1+ts[7])) - Amax*(CurrTime > (t2+ts[7])) - Amax*(CurrTime > (t3+ts[7])) + Amax*(CurrTime > (t4+ts[7])))\n",
    "        +   A[8]*(Amax*(CurrTime > (t1+ts[8])) - Amax*(CurrTime > (t2+ts[8])) - Amax*(CurrTime > (t3+ts[8])) + Amax*(CurrTime > (t4+ts[8]))))\n",
    "\n",
    "    return accel"
   ]
  },
  {
   "cell_type": "code",
   "execution_count": 6,
   "metadata": {
    "collapsed": false
   },
   "outputs": [],
   "source": [
    "# Define the parameters for simluation\n",
    "g = 9.81                     # gravity (m/s^2)\n",
    "l = 4.0                      # cable length (m)\n",
    "\n",
    "wn = np.sqrt(g / l)            # natural frequency (rad/s)\n",
    "\n",
    "# ODE solver parameters\n",
    "abserr = 1.0e-9\n",
    "relerr = 1.0e-9\n",
    "max_step = 0.01\n",
    "stoptime = 15.0\n",
    "numpoints = 15001\n",
    "\n",
    "# Create the time samples for the output of the ODE solver\n",
    "t = np.linspace(0.,stoptime,numpoints)\n",
    "\n",
    "# Initial conditions\n",
    "theta_init = 0.0                        # initial position\n",
    "theta_dot_init = 0.0                    # initial velocity\n",
    "\n",
    "# Set up the parameters for the input function\n",
    "Distance = 2.0              # Desired move distance (m)\n",
    "Amax = 1.0                  # acceleration limit (m/s^2)\n",
    "Vmax = 0.35                 # velocity limit (m/s)\n",
    "StartTime = 0.5             # Time the y(t) input will begin\n",
    "\n",
    "# Design and define an input Shaper  \n",
    "Shaper = [] # An empty shaper means no input shaping\n",
    "\n",
    "# Pack the parameters and initial conditions into arrays \n",
    "p = [g, l, Distance, StartTime, Amax, Vmax, Shaper]\n",
    "x0 = [theta_init, theta_dot_init]"
   ]
  },
  {
   "cell_type": "code",
   "execution_count": 7,
   "metadata": {
    "collapsed": false
   },
   "outputs": [],
   "source": [
    "# Call the ODE solver.\n",
    "response = odeint(eq_of_motion, x0, t, args=(p,), atol=abserr, rtol=relerr,  hmax=max_step)"
   ]
  },
  {
   "cell_type": "code",
   "execution_count": 8,
   "metadata": {
    "collapsed": false
   },
   "outputs": [
    {
     "data": {
      "image/png": "[encoded data removed]",
      "text/plain": [
       "<matplotlib.figure.Figure at 0x10ec80278>"
      ]
     },
     "metadata": {},
     "output_type": "display_data"
    }
   ],
   "source": [
    "# Make the figure pretty, then plot the results\n",
    "#   \"pretty\" parameters selected based on pdf output, not screen output\n",
    "#   Many of these setting could also be made default by the .matplotlibrc file\n",
    "\n",
    "# Set the plot size - 3x2 aspect ratio is best\n",
    "fig = plt.figure(figsize=(6,4))\n",
    "ax = plt.gca()\n",
    "plt.subplots_adjust(bottom=0.17,left=0.17,top=0.96,right=0.96)\n",
    "\n",
    "# Change the axis units to serif\n",
    "plt.setp(ax.get_ymajorticklabels(),family='serif',fontsize=18)\n",
    "plt.setp(ax.get_xmajorticklabels(),family='serif',fontsize=18)\n",
    "\n",
    "ax.spines['right'].set_color('none')\n",
    "ax.spines['top'].set_color('none')\n",
    "\n",
    "ax.xaxis.set_ticks_position('bottom')\n",
    "ax.yaxis.set_ticks_position('left')\n",
    "\n",
    "# Turn on the plot grid and set appropriate linestyle and color\n",
    "ax.grid(True,linestyle=':',color='0.75')\n",
    "ax.set_axisbelow(True)\n",
    "\n",
    "# Define the X and Y axis labels\n",
    "plt.xlabel('Time (s)',family='serif',fontsize=22,weight='bold',labelpad=5)\n",
    "plt.ylabel('Angle (deg)',family='serif',fontsize=22,weight='bold',labelpad=10)\n",
    "\n",
    "plt.plot(t, response[:,0]*180/np.pi, linewidth=2, label=r'Angle')\n",
    "\n",
    "# uncomment below and set limits if needed\n",
    "plt.xlim(0,15)\n",
    "# plt.ylim(0,10)\n",
    "\n",
    "# Create the legend, then fix the fontsize\n",
    "# leg = plt.legend(loc='upper right', fancybox=True)\n",
    "# ltext  = leg.get_texts()\n",
    "# plt.setp(ltext,family='serif',fontsize=18)\n",
    "\n",
    "# Adjust the page layout filling the page using the new tight_layout command\n",
    "plt.tight_layout(pad=0.5)\n",
    "\n",
    "# save the figure as a high-res pdf in the current folder\n",
    "# It's saved at the original 6x4 size\n",
    "# plt.savefig('Crane_AngleResponse.pdf')\n",
    "\n",
    "fig.set_size_inches(9,6) # Resize the figure for better display in the notebook"
   ]
  },
  {
   "cell_type": "markdown",
   "metadata": {},
   "source": [
    "### What about Position?\n",
    "We can also include the trolley location in the state vector. We know that how the position and velocity are related to the acceleration input. The new state vector becomes:\n",
    "\n",
    "\n",
    "$\\quad \\mathbf{w} = \\left[\\theta \\quad \\dot{\\theta} \\quad x \\quad \\dot{x}\\right]^T $\n",
    "\n",
    "We can then write the system in the form:\n",
    "\n",
    "$ \\quad \\dot{\\mathbf{w}} = f(\\mathbf{w},\\ddot{x},t) $\n",
    "\n",
    "So,\n",
    "\n",
    "$ \\quad \\dot{\\mathbf{w}} = \\left[w_2 \\quad -\\frac{g}{l}w_1 + \\frac{1}{l}\\ddot{x} \\quad w_3 \\quad \\ddot{x}\\right] $\n",
    "\n",
    "The acceleration, $\\ddot{x}(t)$, is still the input to the system. The function from above can be used unaltered. It's recopied below to avoid confusion, but note that it is generally bad practice to have functions defined in muliple places in a script or notebook."
   ]
  },
  {
   "cell_type": "code",
   "execution_count": 9,
   "metadata": {
    "collapsed": false
   },
   "outputs": [],
   "source": [
    "def eq_of_motion_withTrolley(w, t, p):\n",
    "    \"\"\"\n",
    "    Defines the differential equations for the coupled spring-mass system.\n",
    "\n",
    "    Arguments:\n",
    "        w :  vector of the state variables:\n",
    "        t :  time\n",
    "        p :  vector of the parameters:\n",
    "    \"\"\"\n",
    "    theta, theta_dot, x, x_dot = w\n",
    "    m, l, Distance, StartTime, Amax, Vmax, Shaper = p\n",
    "\n",
    "    # Create sysODE = (theta', theta_dot')\n",
    "    sysODE = [theta_dot,\n",
    "             -g/l * theta + 1.0/l * x_ddot(t, p),\n",
    "             x_dot,\n",
    "             x_ddot(t, p)]\n",
    "    return sysODE\n",
    "\n",
    "def x_ddot(t, p):\n",
    "    \"\"\"\n",
    "    Defines the accel input to the system.\n",
    "    \n",
    "    We'll make a call to our lab function accel_input()\n",
    "    \n",
    "    Depending on the desired move distance, max accel, and max velocity, the input is either\n",
    "    bang-bang or bang-coast-bang\n",
    "    \n",
    "    Arguments:\n",
    "        t : current time step \n",
    "        p : vector of parameters\n",
    "    \"\"\"\n",
    "    m, l, Distance, StartTime, Amax, Vmax, Shaper = p\n",
    "    \n",
    "    x_ddot = accel_input(Amax,Vmax,Distance,StartTime,t,Shaper)\n",
    "    \n",
    "    return x_ddot"
   ]
  },
  {
   "cell_type": "markdown",
   "metadata": {},
   "source": [
    "We now need to specify the initial conditions for all the states, which include $x$ now. I've also respecified all the solver and system parameters for completeness. This is arguably bad practice, if the same parameters as above are being used. This also means that anytime I want to change a parameter, I would have to change it in mulitple places."
   ]
  },
  {
   "cell_type": "code",
   "execution_count": 10,
   "metadata": {
    "collapsed": false
   },
   "outputs": [],
   "source": [
    "# Define the parameters for simluation\n",
    "g = 9.81                     # gravity (m/s^2)\n",
    "l = 4.0                      # cable length (m)\n",
    "\n",
    "wn = np.sqrt(g / l)            # natural frequency (rad/s)\n",
    "\n",
    "# ODE solver parameters\n",
    "abserr = 1.0e-9\n",
    "relerr = 1.0e-9\n",
    "max_step = 0.01\n",
    "stoptime = 15.0\n",
    "numpoints = 15001\n",
    "\n",
    "# Create the time samples for the output of the ODE solver\n",
    "t = np.linspace(0.0, stoptime, numpoints)\n",
    "\n",
    "# Initial conditions\n",
    "theta_init = 0.0                        # initial angle (rad)\n",
    "theta_dot_init = 0.0                    # initial angular velocity (rad/s)\n",
    "x_init = 0.0                            # initial trolley position (m)\n",
    "x_dot_init = 0.0                        # initial trolley velocity (m/s)\n",
    "\n",
    "# Set up the parameters for the input function\n",
    "Distance = 2.0              # Desired move distance (m)\n",
    "Amax = 1.0                  # acceleration limit (m/s^2)\n",
    "Vmax = 0.35                 # velocity limit (m/s)\n",
    "StartTime = 0.5             # Time the y(t) input will begin\n",
    "\n",
    "# Design and define an input Shaper  \n",
    "Shaper = [] # An empty shaper means no input shaping\n",
    "\n",
    "# Pack the parameters and initial conditions into arrays \n",
    "p = [g, l, Distance, StartTime, Amax, Vmax, Shaper]\n",
    "x0 = [theta_init, theta_dot_init, x_init, x_dot_init]"
   ]
  },
  {
   "cell_type": "code",
   "execution_count": 11,
   "metadata": {
    "collapsed": false
   },
   "outputs": [],
   "source": [
    "# Call the ODE solver.\n",
    "response_withTrolley = odeint(eq_of_motion_withTrolley, x0, t, args=(p,), atol=abserr, rtol=relerr,  hmax=max_step)"
   ]
  },
  {
   "cell_type": "markdown",
   "metadata": {},
   "source": [
    "We can now parse the output of the ode solver (which now includes the trolley position) to plot the position of the trolley and payload. We know that the horizontal position of the payload is defined by:\n",
    "\n",
    "$ \\quad x_{paylaod} = x + l \\sin{\\theta} $"
   ]
  },
  {
   "cell_type": "code",
   "execution_count": 12,
   "metadata": {
    "collapsed": false
   },
   "outputs": [],
   "source": [
    "theta_resp = response_withTrolley[:,0]\n",
    "theta_dot_resp = response_withTrolley[:,1]\n",
    "x_resp = response_withTrolley[:,2]\n",
    "x_dot_resp = response_withTrolley[:,3]\n",
    "\n",
    "payload_position = x_resp + l * np.sin(theta_resp)"
   ]
  },
  {
   "cell_type": "code",
   "execution_count": 13,
   "metadata": {
    "collapsed": false
   },
   "outputs": [
    {
     "data": {
      "image/png": "[encoded data removed]",
      "text/plain": [
       "<matplotlib.figure.Figure at 0x110d56080>"
      ]
     },
     "metadata": {},
     "output_type": "display_data"
    }
   ],
   "source": [
    "# Now, let's plot the horizontal position response\n",
    "\n",
    "# Make the figure pretty, then plot the results\n",
    "#   \"pretty\" parameters selected based on pdf output, not screen output\n",
    "#   Many of these setting could also be made default by the .matplotlibrc file\n",
    "\n",
    "# Set the plot size - 3x2 aspect ratio is best\n",
    "fig = plt.figure(figsize=(6,4))\n",
    "ax = plt.gca()\n",
    "plt.subplots_adjust(bottom=0.17,left=0.17,top=0.96,right=0.96)\n",
    "\n",
    "# Change the axis units to serif\n",
    "plt.setp(ax.get_ymajorticklabels(),family='serif',fontsize=18)\n",
    "plt.setp(ax.get_xmajorticklabels(),family='serif',fontsize=18)\n",
    "\n",
    "ax.spines['right'].set_color('none')\n",
    "ax.spines['top'].set_color('none')\n",
    "\n",
    "ax.xaxis.set_ticks_position('bottom')\n",
    "ax.yaxis.set_ticks_position('left')\n",
    "\n",
    "# Turn on the plot grid and set appropriate linestyle and color\n",
    "ax.grid(True,linestyle=':',color='0.75')\n",
    "ax.set_axisbelow(True)\n",
    "\n",
    "# Define the X and Y axis labels\n",
    "plt.xlabel('Time (s)',family='serif',fontsize=22,weight='bold',labelpad=5)\n",
    "plt.ylabel('Position (m)',family='serif',fontsize=22,weight='bold',labelpad=10)\n",
    "\n",
    "plt.plot(t, x_resp, linewidth=2, linestyle='--', label=r'Trolley')\n",
    "plt.plot(t, payload_position, linewidth=2, linestyle='-', label=r'Payload')\n",
    "\n",
    "# uncomment below and set limits if needed\n",
    "plt.xlim(0,15)\n",
    "plt.ylim(0,3)\n",
    "\n",
    "# Create the legend, then fix the fontsize\n",
    "leg = plt.legend(loc='upper right', ncol = 2, fancybox=True)\n",
    "ltext  = leg.get_texts()\n",
    "plt.setp(ltext,family='serif',fontsize=18)\n",
    "\n",
    "# Adjust the page layout filling the page using the new tight_layout command\n",
    "plt.tight_layout(pad=0.5)\n",
    "\n",
    "# save the figure as a high-res pdf in the current folder\n",
    "# It's saved at the original 6x4 size\n",
    "# plt.savefig('Crane_Position_Response.pdf')\n",
    "\n",
    "fig.set_size_inches(9,6) # Resize the figure for better display in the notebook"
   ]
  },
  {
   "cell_type": "markdown",
   "metadata": {},
   "source": [
    "## Simluation Using the Control System Toolbox\n",
    "<em>Coming soon...</em>"
   ]
  },
  {
   "cell_type": "markdown",
   "metadata": {},
   "source": [
    "<hr class = \"style-end\">"
   ]
  },
  {
   "cell_type": "markdown",
   "metadata": {},
   "source": [
    "#### Licenses\n",
    "Code is licensed under a 3-clause BSD style license. See the licenses/LICENSE.md file.\n",
    "\n",
    "Other content is provided under a [Creative Commons Attribution-NonCommercial 4.0 International License](http://creativecommons.org/licenses/by-nc/4.0/), CC-BY-NC 4.0."
   ]
  },
  {
   "cell_type": "code",
   "execution_count": 14,
   "metadata": {
    "collapsed": false
   },
   "outputs": [
    {
     "data": {
      "text/html": [
       "<style>\n",
       "    @font-face {\n",
       "        font-family: \"Computer Modern\";\n",
       "        src: url('http://9dbb143991406a7c655e-aa5fcb0a5a4ec34cff238a2d56ca4144.r56.cf5.rackcdn.com/cmunss.otf');\n",
       "    }\n",
       "    @font-face {\n",
       "        font-family: \"Computer Modern\";\n",
       "        font-weight: bold;\n",
       "        src: url('http://9dbb143991406a7c655e-aa5fcb0a5a4ec34cff238a2d56ca4144.r56.cf5.rackcdn.com/cmunsx.otf');\n",
       "    }\n",
       "    @font-face {\n",
       "        font-family: \"Computer Modern\";\n",
       "        font-style: oblique;\n",
       "        src: url('http://9dbb143991406a7c655e-aa5fcb0a5a4ec34cff238a2d56ca4144.r56.cf5.rackcdn.com/cmunsi.otf');\n",
       "    }\n",
       "    @font-face {\n",
       "        font-family: \"Computer Modern\";\n",
       "        font-weight: bold;\n",
       "        font-style: oblique;\n",
       "        src: url('http://9dbb143991406a7c655e-aa5fcb0a5a4ec34cff238a2d56ca4144.r56.cf5.rackcdn.com/cmunso.otf');\n",
       "    }\n",
       "    \n",
       "    div.cell{\n",
       "        max-width:1100px;\n",
       "        margin-left:auto;\n",
       "        margin-right:auto;\n",
       "    }\n",
       "    \n",
       "    h1 {\n",
       "        font-family: Computer Modern;\n",
       "    }\n",
       "    \n",
       "    h4{\n",
       "        margin-top:12px;\n",
       "        margin-bottom: 3px;\n",
       "       }\n",
       "\n",
       "    div.text_cell_render{\n",
       "        font-family: Computer Modern, \"Helvetica Neue\", Arial, Helvetica, Geneva, sans-serif;\n",
       "        line-height: 145%;\n",
       "        font-size: 130%;\n",
       "        max-width:1100px;\n",
       "        margin-left:auto;\n",
       "        margin-right:auto;\n",
       "    }\n",
       "    \n",
       "    .CodeMirror{\n",
       "            font-family: \"Source Code Pro\", source-code-pro, Consolas, monospace;\n",
       "    }\n",
       "    \n",
       "    .warning{\n",
       "        color: rgb( 240, 20, 20 )\n",
       "        }  \n",
       "    \n",
       "    hr.style-end {\n",
       "    border: 0;\n",
       "    height: 1px;\n",
       "    text-align: center;\n",
       "    background: #333;\n",
       "    background-image: -webkit-linear-gradient(left, #ccc, #333, #ccc); \n",
       "    background-image:    -moz-linear-gradient(left, #ccc, #333, #ccc); \n",
       "    background-image:     -ms-linear-gradient(left, #ccc, #333, #ccc); \n",
       "    background-image:      -o-linear-gradient(left, #ccc, #333, #ccc); \n",
       "    }\n",
       "\n",
       "    hr.style-end:after {\n",
       "    content: \"⚜\";\n",
       "    display: inline-block;\n",
       "    position: relative; \n",
       "    top: -0.5em;  \n",
       "    font-size: 1.5em;\n",
       "    padding: 0 0.25em;\n",
       "    background: white;\n",
       "    }\n",
       "\n",
       "/* \n",
       "    a.anchor-link {\n",
       "        visibility: hidden;\n",
       "        padding: 0;\n",
       "        margin: 0;\n",
       "        width: 0;\n",
       "    }    \n",
       "    \n",
       "    a.anchor-link:link {\n",
       "        visibility: hidden;\n",
       "        padding: 0;\n",
       "        margin: 0;\n",
       "        width: 0;\n",
       "    }\n",
       " */\n",
       "    \n",
       "/*  Center figures, etc\n",
       "    .ui-wrapper {\n",
       "        margin-left: auto !important;\n",
       "        margin-right: auto !important;\n",
       "    }\n",
       " */\n",
       "    \n",
       "</style>\n",
       "<script>\n",
       "    MathJax.Hub.Config({\n",
       "                        TeX: {\n",
       "                           extensions: [\"AMSmath.js\"]\n",
       "                           },\n",
       "                tex2jax: {\n",
       "                    inlineMath: [ ['$','$'], [\"\\\\(\",\"\\\\)\"] ],\n",
       "                    displayMath: [ ['$$','$$'], [\"\\\\[\",\"\\\\]\"] ]\n",
       "                },\n",
       "                displayAlign: 'center', // Change this to 'center' to center equations.\n",
       "                \"HTML-CSS\": {\n",
       "                    styles: {'.MathJax_Display': {\"margin\": 4}}\n",
       "                }\n",
       "        });\n",
       "</script>\n"
      ],
      "text/plain": [
       "<IPython.core.display.HTML object>"
      ]
     },
     "execution_count": 14,
     "metadata": {},
     "output_type": "execute_result"
    }
   ],
   "source": [
    "# Ignore this cell - We just update the CSS to make the notebook look a little bit better and easier to read\n",
    "\n",
    "# Improve the notebook styling -- Run this first\n",
    "from IPython.core.display import HTML\n",
    "css_file = '../styling/CRAWLAB_IPythonNotebook.css'\n",
    "HTML(open(css_file, \"r\").read())"
   ]
  }
 ],
 "metadata": {
  "kernelspec": {
   "display_name": "Python 3",
   "language": "python",
   "name": "python3"
  },
  "language_info": {
   "codemirror_mode": {
    "name": "ipython",
    "version": 3
   },
   "file_extension": ".py",
   "mimetype": "text/x-python",
   "name": "python",
   "nbconvert_exporter": "python",
   "pygments_lexer": "ipython3",
   "version": "3.4.3"
  }
 },
 "nbformat": 4,
 "nbformat_minor": 0
}
