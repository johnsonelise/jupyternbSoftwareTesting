{
 "cells": [
  {
   "cell_type": "markdown",
   "metadata": {
    "slideshow": {
     "slide_type": "slide"
    }
   },
   "source": [
    "# Programs"
   ]
  },
  {
   "cell_type": "markdown",
   "metadata": {
    "slideshow": {
     "slide_type": "slide"
    }
   },
   "source": [
    "# Programs vs modules"
   ]
  },
  {
   "cell_type": "markdown",
   "metadata": {},
   "source": [
    "* Programs are modules.\n",
    "* \"Program\" modules can be imported like any other module.\n",
    "* Code not within a function or class is executed.\n",
    "* Best practices:\n",
    "  * Write a `main(args)` function.\n",
    "  * Call `main()` withoin `if __name__ == '__main__'` to prevent it from being called on `import`."
   ]
  },
  {
   "cell_type": "markdown",
   "metadata": {
    "slideshow": {
     "slide_type": "subslide"
    }
   },
   "source": [
    "## Example programm: copytool"
   ]
  },
  {
   "cell_type": "markdown",
   "metadata": {},
   "source": [
    "```\n",
    "usage: copytool.py [-h] [--recursive] [--preserve {access,all,time,none}]\n",
    "                   SOURCE [SOURCE ...] TARGET\n",
    "\n",
    "copy files or folders\n",
    "\n",
    "positional arguments:\n",
    "  SOURCE                file or folder to copy\n",
    "  TARGET                target file or folder\n",
    "\n",
    "optional arguments:\n",
    "  -h, --help            show this help message and exit\n",
    "  --recursive, -r       recursively copy folders\n",
    "  --preserve {access,all,time,none}, -p {access,all,time,none}\n",
    "                        preserve specified attributes, default: all\n",
    "```"
   ]
  },
  {
   "cell_type": "markdown",
   "metadata": {
    "slideshow": {
     "slide_type": "subslide"
    }
   },
   "source": [
    "## Basic structure"
   ]
  },
  {
   "cell_type": "markdown",
   "metadata": {},
   "source": [
    "```python\n",
    "\"\"\"\n",
    "Command line utility to copy files.\n",
    "\"\"\"\n",
    "import argparse\n",
    "import logging\n",
    "import sys\n",
    "\n",
    "_log = logging.getLogger('copytool')\n",
    "\n",
    "\n",
    "def main(args=None):\n",
    "    pass # TODO: Implement.\n",
    "\n",
    "\n",
    "if __name__ == \"__main__\":\n",
    "    logging.basicConfig(level=logging.INFO)\n",
    "    sys.exit(main())\n",
    "```"
   ]
  },
  {
   "cell_type": "markdown",
   "metadata": {},
   "source": [
    "## Actual processing"
   ]
  },
  {
   "cell_type": "markdown",
   "metadata": {},
   "source": [
    "Implement a function that does the actual job:"
   ]
  },
  {
   "cell_type": "code",
   "execution_count": 1,
   "metadata": {
    "collapsed": true
   },
   "outputs": [],
   "source": [
    "def copy(source, target, preserve='all', is_recursive=False):\n",
    "    _log.info('copy %s to %s', source, target)\n",
    "    # TODO: Actually copy files using shutil."
   ]
  },
  {
   "cell_type": "markdown",
   "metadata": {},
   "source": [
    "A complete implementation can be done quite easily using various functions in `shutil`."
   ]
  },
  {
   "cell_type": "markdown",
   "metadata": {
    "slideshow": {
     "slide_type": "slide"
    }
   },
   "source": [
    "## Command line arguments"
   ]
  },
  {
   "cell_type": "markdown",
   "metadata": {},
   "source": [
    "* The `argparse` module has a class `ArgumentParser` to represent command line arguments.\n",
    "* Possible arguments can be declared using `ArgumentParser.add_argument()`.\n",
    "* User arguments can be parsed using `ArgumentParser.parse_args()`.\n",
    "* `--help ` is automatically available and prints an online help and exits.\n",
    "* `--version` can easily be added to print the version number and exit.\n",
    "* Argument errors cause the program to print an error message and exit."
   ]
  },
  {
   "cell_type": "markdown",
   "metadata": {
    "slideshow": {
     "slide_type": "subslide"
    }
   },
   "source": [
    "## Parsing arguments"
   ]
  },
  {
   "cell_type": "markdown",
   "metadata": {},
   "source": [
    "\n",
    "Set up an `ArgumentParser` with a short description of the program:"
   ]
  },
  {
   "cell_type": "code",
   "execution_count": 2,
   "metadata": {
    "collapsed": false
   },
   "outputs": [],
   "source": [
    "import argparse\n",
    "parser = argparse.ArgumentParser(description='copy files or folders')"
   ]
  },
  {
   "cell_type": "markdown",
   "metadata": {
    "slideshow": {
     "slide_type": "subslide"
    }
   },
   "source": [
    "## Parsing arguments (continued)"
   ]
  },
  {
   "cell_type": "markdown",
   "metadata": {},
   "source": [
    "Add one or more `SOURCE` path (`nargs='+'`):"
   ]
  },
  {
   "cell_type": "code",
   "execution_count": 3,
   "metadata": {
    "collapsed": false
   },
   "outputs": [
    {
     "data": {
      "text/plain": [
       "_StoreAction(option_strings=[], dest='sources', nargs='+', const=None, default=None, type=None, choices=None, help='file or folder to copy', metavar='SOURCE')"
      ]
     },
     "execution_count": 3,
     "metadata": {},
     "output_type": "execute_result"
    }
   ],
   "source": [
    "parser.add_argument(\n",
    "    'sources', metavar='SOURCE', nargs='+',\n",
    "    help=\"file or folder to copy\")"
   ]
  },
  {
   "cell_type": "markdown",
   "metadata": {
    "slideshow": {
     "slide_type": "subslide"
    }
   },
   "source": [
    "## Parsing arguments (continued)"
   ]
  },
  {
   "cell_type": "markdown",
   "metadata": {},
   "source": [
    "Add a single target path:"
   ]
  },
  {
   "cell_type": "code",
   "execution_count": 4,
   "metadata": {
    "collapsed": false
   },
   "outputs": [
    {
     "data": {
      "text/plain": [
       "_StoreAction(option_strings=[], dest='target', nargs=None, const=None, default=None, type=None, choices=None, help='target file or folder', metavar='TARGET')"
      ]
     },
     "execution_count": 4,
     "metadata": {},
     "output_type": "execute_result"
    }
   ],
   "source": [
    "parser.add_argument(\n",
    "    'target', metavar='TARGET',\n",
    "    help=\"target file or folder\")"
   ]
  },
  {
   "cell_type": "markdown",
   "metadata": {
    "slideshow": {
     "slide_type": "subslide"
    }
   },
   "source": [
    "## Parsing arguments (continued)"
   ]
  },
  {
   "cell_type": "markdown",
   "metadata": {},
   "source": [
    "Add a boolean switch `--recursive` that can be enabled to copy files recursively:"
   ]
  },
  {
   "cell_type": "code",
   "execution_count": 5,
   "metadata": {
    "collapsed": false
   },
   "outputs": [
    {
     "data": {
      "text/plain": [
       "_StoreTrueAction(option_strings=['--recursive', '-r'], dest='recursive', nargs=0, const=True, default=False, type=None, choices=None, help='recursively copy folders', metavar=None)"
      ]
     },
     "execution_count": 5,
     "metadata": {},
     "output_type": "execute_result"
    }
   ],
   "source": [
    "parser.add_argument(\n",
    "    '--recursive', '-r', action='store_true',\n",
    "    help='recursively copy folders')"
   ]
  },
  {
   "cell_type": "markdown",
   "metadata": {
    "slideshow": {
     "slide_type": "subslide"
    }
   },
   "source": [
    "## Parsing arguments (continued)"
   ]
  },
  {
   "cell_type": "markdown",
   "metadata": {},
   "source": [
    "Add an optional choice `--preserve` that can specify which file attributes to preserve. If no `--preserve` ist specified, the default value is `'all'`. Note that the default value can also be referred to in the `help` argument using `'%(default)s'`."
   ]
  },
  {
   "cell_type": "code",
   "execution_count": 6,
   "metadata": {
    "collapsed": false
   },
   "outputs": [
    {
     "data": {
      "text/plain": [
       "_StoreAction(option_strings=['--preserve', '-p'], dest='preserve', nargs=None, const=None, default='all', type=None, choices=['access', 'all', 'time', 'none'], help='preserve specified attributes, default: %(default)s', metavar=None)"
      ]
     },
     "execution_count": 6,
     "metadata": {},
     "output_type": "execute_result"
    }
   ],
   "source": [
    "parser.add_argument(\n",
    "    '--preserve', '-p',\n",
    "    choices=['access', 'all', 'time', 'none'],\n",
    "    default='all',\n",
    "    help='preserve specified attributes, default: %(default)s')"
   ]
  },
  {
   "cell_type": "markdown",
   "metadata": {
    "slideshow": {
     "slide_type": "subslide"
    }
   },
   "source": [
    "## Parsing arguments (continued)"
   ]
  },
  {
   "cell_type": "markdown",
   "metadata": {},
   "source": [
    "Add `--version` to show the version number and exit:"
   ]
  },
  {
   "cell_type": "code",
   "execution_count": 7,
   "metadata": {
    "collapsed": false
   },
   "outputs": [
    {
     "data": {
      "text/plain": [
       "_VersionAction(option_strings=['--version'], dest='version', nargs=0, const=None, default='==SUPPRESS==', type=None, choices=None, help=\"show program's version number and exit\", metavar=None)"
      ]
     },
     "execution_count": 7,
     "metadata": {},
     "output_type": "execute_result"
    }
   ],
   "source": [
    "parser.add_argument(\n",
    "     '--version', action='version', version='%(prog)s 1.0')"
   ]
  },
  {
   "cell_type": "markdown",
   "metadata": {
    "slideshow": {
     "slide_type": "subslide"
    }
   },
   "source": [
    "## Parsing arguments (continued)"
   ]
  },
  {
   "cell_type": "markdown",
   "metadata": {},
   "source": [
    "Now we can parse some arguments:"
   ]
  },
  {
   "cell_type": "code",
   "execution_count": 8,
   "metadata": {
    "collapsed": false
   },
   "outputs": [
    {
     "name": "stdout",
     "output_type": "stream",
     "text": [
      "['data/customers.csv', 'data/products.csv']\n",
      "/tmp\n",
      "all\n",
      "True\n"
     ]
    }
   ],
   "source": [
    "arguments = parser.parse_args([\n",
    "    '--recursive', 'data/customers.csv', 'data/products.csv', '/tmp'\n",
    "])\n",
    "print(arguments.sources)\n",
    "print(arguments.target)\n",
    "print(arguments.preserve)\n",
    "print(arguments.recursive)"
   ]
  },
  {
   "cell_type": "markdown",
   "metadata": {
    "slideshow": {
     "slide_type": "slide"
    }
   },
   "source": [
    "# Error handling"
   ]
  },
  {
   "cell_type": "markdown",
   "metadata": {},
   "source": [
    "* `main()` returns 0 on success and 1 on error.\n",
    "* Error in command line arguments are handled by `ArgumentParser`, which automatically calls `sys.exit(2)`.\n",
    "* Best practice:\n",
    "  * For situations that can be fixed by the user, show a simple message.\n",
    "  * For situations that must be fixed by the developer, show a message with a stack trace."
   ]
  },
  {
   "cell_type": "markdown",
   "metadata": {
    "slideshow": {
     "slide_type": "subslide"
    }
   },
   "source": [
    "## Error handling: example"
   ]
  },
  {
   "cell_type": "markdown",
   "metadata": {},
   "source": [
    "```python\n",
    "    exit_code = 1\n",
    "    try:\n",
    "        for source in arguments.sources:\n",
    "            copy(\n",
    "                source, arguments.target,\n",
    "                is_recursive=arguments.recursive,\n",
    "                preserve=arguments.preserve)\n",
    "        exit_code = 0  # Success!\n",
    "    except KeyboardInterrupt:\n",
    "        _log.error('stopped as requested by user')\n",
    "    except (OSError) as error:\n",
    "        _log.error(error)\n",
    "    except Exception as error:\n",
    "        _log.exception(error)\n",
    "    return exit_code\n",
    "```"
   ]
  },
  {
   "cell_type": "markdown",
   "metadata": {
    "slideshow": {
     "slide_type": "slide"
    }
   },
   "source": [
    "#  Summary"
   ]
  },
  {
   "cell_type": "markdown",
   "metadata": {},
   "source": [
    "* Programs are modules, too.\n",
    "* Write a separate `main()` and functions for the actual processing.\n",
    "* Use `argparse.ArgumentParser` to handle command line arguments.\n",
    "* Use `sys.exit()` to return an exit code: 0 = sucess, 1 or more = error.\n",
    "* For errors the use can fix, only show a message but no stack trace."
   ]
  }
 ],
 "metadata": {
  "celltoolbar": "Slideshow",
  "kernelspec": {
   "display_name": "Python 3",
   "language": "python",
   "name": "python3"
  },
  "language_info": {
   "codemirror_mode": {
    "name": "ipython",
    "version": 3
   },
   "file_extension": ".py",
   "mimetype": "text/x-python",
   "name": "python",
   "nbconvert_exporter": "python",
   "pygments_lexer": "ipython3",
   "version": "3.5.1"
  }
 },
 "nbformat": 4,
 "nbformat_minor": 0
}
