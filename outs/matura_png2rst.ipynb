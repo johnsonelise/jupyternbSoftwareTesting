{
 "cells": [
  {
   "cell_type": "code",
   "execution_count": 36,
   "metadata": {
    "collapsed": true
   },
   "outputs": [],
   "source": [
    "import glob\n",
    "import os"
   ]
  },
  {
   "cell_type": "code",
   "execution_count": 39,
   "metadata": {
    "collapsed": false
   },
   "outputs": [
    {
     "name": "stdout",
     "output_type": "stream",
     "text": [
      "matura2015_r05.rst done\n",
      "matura2015_r09.rst done\n",
      "matura2015_r13.rst done\n",
      "matura2015_r10.rst done\n",
      "matura2015_r14.rst done\n",
      "matura2015_r02.rst done\n",
      "matura2015_r15.rst done\n",
      "matura2015_r11.rst done\n",
      "matura2015_r12.rst done\n",
      "matura2015_r04.rst done\n",
      "matura2015_r07.rst done\n",
      "matura2015_r01.rst done\n",
      "matura2015_r06.rst done\n",
      "matura2015_r08.rst done\n",
      "matura2015_r03.rst done\n",
      "matura2015_r16.rst done\n"
     ]
    }
   ],
   "source": [
    "if not (os.path.isdir('rst')):\n",
    "    os.mkdir('rst')\n",
    "\n",
    "for f in glob.glob(\"png/matura2015_r??.png\"):\n",
    "    filename = os.path.basename(f).split(\".\")[:-1][0]\n",
    "    txt=\"\"\"Zadanie {n} - \n",
    "------------\n",
    "\n",
    ".. image:: matura2015/{fname}.png\n",
    "   :align: center\n",
    "\n",
    "Poniższy kod:\n",
    "\n",
    "\n",
    ".. sagecellserver::\n",
    "\n",
    "\n",
    "\n",
    "\"\"\".format(fname=filename,n=filename.split(\"_\")[-1][1:])\n",
    "    with open(\"rst/\"+filename+\".rst\", \"w\") as text_file:\n",
    "        text_file.write(txt) \n",
    "        print filename+\".rst\", \"done\"\n"
   ]
  },
  {
   "cell_type": "code",
   "execution_count": null,
   "metadata": {
    "collapsed": false
   },
   "outputs": [],
   "source": []
  },
  {
   "cell_type": "code",
   "execution_count": null,
   "metadata": {
    "collapsed": false
   },
   "outputs": [],
   "source": []
  },
  {
   "cell_type": "code",
   "execution_count": null,
   "metadata": {
    "collapsed": false
   },
   "outputs": [],
   "source": []
  },
  {
   "cell_type": "code",
   "execution_count": null,
   "metadata": {
    "collapsed": true
   },
   "outputs": [],
   "source": []
  }
 ],
 "metadata": {
  "kernelspec": {
   "display_name": "Python 2",
   "language": "python",
   "name": "python2"
  },
  "language_info": {
   "codemirror_mode": {
    "name": "ipython",
    "version": 2
   },
   "file_extension": ".py",
   "mimetype": "text/x-python",
   "name": "python",
   "nbconvert_exporter": "python",
   "pygments_lexer": "ipython2",
   "version": "2.7.6"
  }
 },
 "nbformat": 4,
 "nbformat_minor": 0
}
