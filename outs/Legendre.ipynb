{
 "cells": [
  {
   "cell_type": "code",
   "execution_count": 1,
   "metadata": {
    "collapsed": false
   },
   "outputs": [],
   "source": [
    "import numpy as np, scipy as sp, pandas as pd, seaborn as sns\n",
    "import matplotlib.pyplot as plt\n",
    "%matplotlib inline\n",
    "sns.set_style('darkgrid')"
   ]
  },
  {
   "cell_type": "code",
   "execution_count": 2,
   "metadata": {
    "collapsed": false
   },
   "outputs": [],
   "source": [
    "y1_coeffs = [1, 0, 0,\n",
    "             1/(2*3), 0, 0,\n",
    "             1/(2*3*5*6), 0, 0,\n",
    "             1/(2*3*5*6*8*9), 0, 0,\n",
    "             ]\n",
    "y2_coeffs = [0, 1/(3*4), 0,\n",
    "             0, 1/(3*4*6*7), 0,\n",
    "             0, 1/(3*4*6*7*9*10), 0]\n",
    "\n",
    "def get_y1_coeffs(n):\n",
    "    result = [1,]\n",
    "    for i in range(1,n):\n",
    "        if divmod(i,) == 0:\n",
    "            resu\n",
    "\n",
    "def get_y1_coeffs(n):\n",
    "    result = [1,]\n",
    "    for i in range(1,n):\n",
    "        if divmod(i,3)[1] == 0:\n",
    "            denom = 1\n",
    "            for j in range(1,i+1):\n",
    "                if divmod(j-1,3)[1] == 0:\n",
    "                    pass\n",
    "                else:\n",
    "                    denom = denom * j\n",
    "            result.append(1/denom)\n",
    "        else:\n",
    "            result.append(0)\n",
    "    return result"
   ]
  },
  {
   "cell_type": "code",
   "execution_count": 3,
   "metadata": {
    "collapsed": false
   },
   "outputs": [],
   "source": [
    "from ipywidgets import interact"
   ]
  },
  {
   "cell_type": "code",
   "execution_count": 5,
   "metadata": {
    "collapsed": false
   },
   "outputs": [
    {
     "data": {
      "image/png": "[encoded data removed]",
      "text/plain": [
       "<matplotlib.figure.Figure at 0x11ad278d0>"
      ]
     },
     "metadata": {},
     "output_type": "display_data"
    }
   ],
   "source": [
    "def plot_airy1(n=1):\n",
    "    a0 = 1\n",
    "    x = np.linspace(-12,5,10000)\n",
    "    y = np.zeros_like(x)\n",
    "    for i,coeff in enumerate(get_y1_coeffs(n)):\n",
    "        y = y + (x**i)*coeff\n",
    "    plt.plot(x,y,'k--',label=\"First {n} terms\".format(n=n))\n",
    "    #plt.plot(x,sp.special.airy(x)[2]+sp.special.airy(x)[3],label=\"full solution (ish)\")\n",
    "    #plt.plot(x,sp.special.airy(x)[0],label='0')\n",
    "    #plt.plot(x,sp.special.airy(x)[1],label='1')\n",
    "    #plt.plot(x,sp.special.airy(x)[2],label='2')\n",
    "    #plt.plot(x,sp.special.airy(x)[3],label='3')\n",
    "    plt.axis([-12,5,-3,3])\n",
    "    \n",
    "    plt.legend()\n",
    "\n",
    "interact(plot_airy1,n=(0,100))"
   ]
  },
  {
   "cell_type": "code",
   "execution_count": null,
   "metadata": {
    "collapsed": false
   },
   "outputs": [],
   "source": []
  }
 ],
 "metadata": {
  "anaconda-cloud": {},
  "kernelspec": {
   "display_name": "Python [Root]",
   "language": "python",
   "name": "Python [Root]"
  },
  "language_info": {
   "codemirror_mode": {
    "name": "ipython",
    "version": 3
   },
   "file_extension": ".py",
   "mimetype": "text/x-python",
   "name": "python",
   "nbconvert_exporter": "python",
   "pygments_lexer": "ipython3",
   "version": "3.5.2"
  }
 },
 "nbformat": 4,
 "nbformat_minor": 0
}
