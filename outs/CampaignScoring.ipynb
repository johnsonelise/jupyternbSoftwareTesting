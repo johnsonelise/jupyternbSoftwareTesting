{
 "cells": [
  {
   "cell_type": "markdown",
   "metadata": {},
   "source": [
    "Code for Variance Hammer's 'Scoring Systems for Non-competitve Campaigns'\n",
    "-------\n",
    "This code is for the analysis of different ways to handle scoring systems for campaigns and other games where runaway victories and player dropout are *not* desirable outcomes. The text of the post itself is at http://www.variancehammer.com/ . Note that because this analysis uses random numbers, any results you obtain may differ from those on the blog posting due to random chance."
   ]
  },
  {
   "cell_type": "code",
   "execution_count": 1,
   "metadata": {
    "collapsed": true
   },
   "outputs": [],
   "source": [
    "%matplotlib inline"
   ]
  },
  {
   "cell_type": "code",
   "execution_count": 2,
   "metadata": {
    "collapsed": true
   },
   "outputs": [],
   "source": [
    "# Import the usual libraries\n",
    "import numpy as np\n",
    "import random as rand\n",
    "import seaborn as sns\n",
    "import matplotlib as mpl\n",
    "import matplotlib.pyplot as plt"
   ]
  },
  {
   "cell_type": "markdown",
   "metadata": {},
   "source": [
    "**Standard Scoring By Addition** Assume a victory is worth a flat number of points."
   ]
  },
  {
   "cell_type": "markdown",
   "metadata": {},
   "source": [
    "Unbiased Campaign"
   ]
  },
  {
   "cell_type": "code",
   "execution_count": 28,
   "metadata": {
    "collapsed": false
   },
   "outputs": [],
   "source": [
    "# Set up a single campaign with five gamess\n",
    "addcampaign = np.zeros([6,3])"
   ]
  },
  {
   "cell_type": "code",
   "execution_count": 33,
   "metadata": {
    "collapsed": false
   },
   "outputs": [],
   "source": [
    "for i in range(5):\n",
    "    winner = rand.random()\n",
    "    if winner >= 0.50:\n",
    "        addcampaign[i+1][0] = addcampaign[i][0]+1\n",
    "        addcampaign[i+1][1] = addcampaign[i][1]\n",
    "    else:\n",
    "        addcampaign[i+1][1] = addcampaign[i][1]+1\n",
    "        addcampaign[i+1][0] = addcampaign[i][0]\n",
    "    addcampaign[i+1][2] = abs(addcampaign[i+1][0]-addcampaign[i+1][1])"
   ]
  },
  {
   "cell_type": "code",
   "execution_count": 54,
   "metadata": {
    "collapsed": false
   },
   "outputs": [
    {
     "data": {
      "text/plain": [
       "<matplotlib.text.Text at 0x11690c2d0>"
      ]
     },
     "execution_count": 54,
     "metadata": {},
     "output_type": "execute_result"
    },
    {
     "data": {
      "image/png": "[encoded data removed]",
      "text/plain": [
       "<matplotlib.figure.Figure at 0x11685b890>"
      ]
     },
     "metadata": {},
     "output_type": "display_data"
    }
   ],
   "source": [
    "sns.set_palette(\"deep\", desat=.6)\n",
    "sns.set_context(rc={\"figure.figsize\": (8, 4)})\n",
    "plt.xlim(xmax=5)\n",
    "plt.ylim(ymax=5)\n",
    "plt.plot(addcampaign[:,0])\n",
    "plt.plot(addcampaign[:,1])\n",
    "plt.plot(addcampaign[:,2])\n",
    "plt.legend([\"Team 1\", \"Team 2\", \"Difference in Scores\"],loc=2,fontsize=14)\n",
    "plt.xlabel(\"Games\", size = 14)\n",
    "plt.ylabel(\"Points\", size = 14)"
   ]
  },
  {
   "cell_type": "code",
   "execution_count": 61,
   "metadata": {
    "collapsed": false
   },
   "outputs": [],
   "source": [
    "# Lots of Matches\n",
    "# Design a single campaign as a function that takes two arguments - a bias, and a number of games\n",
    "def add_contest(bias,games):\n",
    "    results = np.zeros([games+1,3])\n",
    "    for i in range(games):\n",
    "        winner = rand.random()\n",
    "        if winner >= bias:\n",
    "            results[i+1][0] = results[i][0]+1\n",
    "            results[i+1][1] = results[i][1]\n",
    "        else:\n",
    "            results[i+1][1] = results[i][1]+1\n",
    "            results[i+1][0] = results[i][0]\n",
    "        results[i+1][2] = abs(results[i+1][0]-results[i+1][1])\n",
    "        finaldiff = results[-1][2]\n",
    "    return finaldiff"
   ]
  },
  {
   "cell_type": "code",
   "execution_count": 130,
   "metadata": {
    "collapsed": false
   },
   "outputs": [],
   "source": [
    "nruns = 1000\n",
    "# Lets do an unbiased campaign first...\n",
    "unbiased_campaigns = np.empty([nruns,1])"
   ]
  },
  {
   "cell_type": "code",
   "execution_count": 131,
   "metadata": {
    "collapsed": true
   },
   "outputs": [],
   "source": [
    "for k in range(nruns):\n",
    "    unbiased_campaigns[k,0] = add_contest(0.50,5)"
   ]
  },
  {
   "cell_type": "code",
   "execution_count": 132,
   "metadata": {
    "collapsed": false
   },
   "outputs": [
    {
     "data": {
      "text/plain": [
       "<matplotlib.text.Text at 0x11808b1d0>"
      ]
     },
     "execution_count": 132,
     "metadata": {},
     "output_type": "execute_result"
    },
    {
     "data": {
      "image/png": "[encoded data removed]",
      "text/plain": [
       "<matplotlib.figure.Figure at 0x119011c50>"
      ]
     },
     "metadata": {},
     "output_type": "display_data"
    }
   ],
   "source": [
    "plt.xlim(xmax=6)\n",
    "plt.hist(unbiased_campaigns[:,0],alpha=0.50,bins =(0.5,1.5,2.5,3.5,4.5,5.5), color=\"DarkViolet\")\n",
    "plt.xlabel(\"Points Difference\")\n",
    "plt.ylabel(\"Number of Simulated Campaigns\")"
   ]
  },
  {
   "cell_type": "code",
   "execution_count": 133,
   "metadata": {
    "collapsed": false
   },
   "outputs": [
    {
     "data": {
      "text/plain": [
       "<matplotlib.text.Text at 0x1191bb450>"
      ]
     },
     "execution_count": 133,
     "metadata": {},
     "output_type": "execute_result"
    },
    {
     "data": {
      "image/png": "[encoded data removed]",
      "text/plain": [
       "<matplotlib.figure.Figure at 0x119161ad0>"
      ]
     },
     "metadata": {},
     "output_type": "display_data"
    }
   ],
   "source": [
    "# Now, a campaign with a slight bias - a 60/40 chance of winning\n",
    "smallbias = np.empty([nruns,1])\n",
    "for k in range(nruns):\n",
    "    smallbias[k,0] = add_contest(0.60,5)\n",
    "    \n",
    "plt.xlim(xmax=6)\n",
    "plt.hist(smallbias[:,0],alpha=0.50,bins =(0.5,1.5,2.5,3.5,4.5,5.5), color=\"DarkViolet\")\n",
    "plt.xlabel(\"Points Difference\")\n",
    "plt.ylabel(\"Number of Simulated Campaigns\")"
   ]
  },
  {
   "cell_type": "code",
   "execution_count": 134,
   "metadata": {
    "collapsed": false
   },
   "outputs": [
    {
     "data": {
      "text/plain": [
       "<matplotlib.text.Text at 0x1192c3750>"
      ]
     },
     "execution_count": 134,
     "metadata": {},
     "output_type": "execute_result"
    },
    {
     "data": {
      "image/png": "[encoded data removed]",
      "text/plain": [
       "<matplotlib.figure.Figure at 0x11925f2d0>"
      ]
     },
     "metadata": {},
     "output_type": "display_data"
    }
   ],
   "source": [
    "# Now a game with large bias, a 75/25 chance of winning\n",
    "bigbias = np.empty([nruns,1])\n",
    "for k in range(nruns):\n",
    "    bigbias[k,0] = add_contest(0.75,5)\n",
    "    \n",
    "plt.xlim(xmax=6)\n",
    "plt.hist(bigbias[:,0],alpha=0.50,bins =(0.5,1.5,2.5,3.5,4.5,5.5), color=\"DarkViolet\")\n",
    "plt.xlabel(\"Points Difference\")\n",
    "plt.ylabel(\"Number of Simulated Campaigns\")"
   ]
  },
  {
   "cell_type": "markdown",
   "metadata": {},
   "source": [
    "**Nonstandard Scoring** Proposed Scoring System where the points for winning are a multiplier x your opponents current score."
   ]
  },
  {
   "cell_type": "code",
   "execution_count": 209,
   "metadata": {
    "collapsed": false
   },
   "outputs": [],
   "source": [
    "# Single campaign with 5 games\n",
    "multcampaign = np.empty([6,2])\n",
    "multcampaign[0,0] = 5\n",
    "multcampaign[0,1] = 5\n",
    "for i in range(5):\n",
    "    winner = rand.random()\n",
    "    if winner >= 0.50:\n",
    "        multcampaign[i+1][0] = multcampaign[i][0] + (multcampaign[i][1]*0.2)\n",
    "        multcampaign[i+1][1] = multcampaign[i][1]\n",
    "    else:\n",
    "        multcampaign[i+1][1] = multcampaign[i][1] + (multcampaign[i][0]*0.2)\n",
    "        multcampaign[i+1][0] = multcampaign[i][0]"
   ]
  },
  {
   "cell_type": "code",
   "execution_count": 210,
   "metadata": {
    "collapsed": false
   },
   "outputs": [
    {
     "data": {
      "text/plain": [
       "array([[ 5.  ,  5.  ],\n",
       "       [ 6.  ,  5.  ],\n",
       "       [ 6.  ,  6.2 ],\n",
       "       [ 6.  ,  7.4 ],\n",
       "       [ 7.48,  7.4 ],\n",
       "       [ 8.96,  7.4 ]])"
      ]
     },
     "execution_count": 210,
     "metadata": {},
     "output_type": "execute_result"
    }
   ],
   "source": [
    "multcampaign"
   ]
  },
  {
   "cell_type": "code",
   "execution_count": 211,
   "metadata": {
    "collapsed": false
   },
   "outputs": [
    {
     "data": {
      "text/plain": [
       "<matplotlib.text.Text at 0x11babdc50>"
      ]
     },
     "execution_count": 211,
     "metadata": {},
     "output_type": "execute_result"
    },
    {
     "data": {
      "image/png": "[encoded data removed]",
      "text/plain": [
       "<matplotlib.figure.Figure at 0x11ba735d0>"
      ]
     },
     "metadata": {},
     "output_type": "display_data"
    }
   ],
   "source": [
    "sns.set_palette(\"deep\", desat=.6)\n",
    "sns.set_context(rc={\"figure.figsize\": (8, 4)})\n",
    "plt.xlim(xmax=5)\n",
    "plt.ylim(ymax=15)\n",
    "plt.plot(multcampaign[:,0])\n",
    "plt.plot(multcampaign[:,1])\n",
    "plt.legend([\"Team 1\", \"Team 2\"],loc=2,fontsize=14)\n",
    "plt.xlabel(\"Games\", size = 14)\n",
    "plt.ylabel(\"Points\", size = 14)"
   ]
  },
  {
   "cell_type": "code",
   "execution_count": 212,
   "metadata": {
    "collapsed": false
   },
   "outputs": [
    {
     "data": {
      "text/plain": [
       "0"
      ]
     },
     "execution_count": 212,
     "metadata": {},
     "output_type": "execute_result"
    }
   ],
   "source": [
    "if multcampaign[-1,1]+(multcampaign[-1,0]*0.2) < multcampaign[-1,0]:\n",
    "    a = 1\n",
    "else:\n",
    "    a = 0\n",
    "a"
   ]
  },
  {
   "cell_type": "code",
   "execution_count": 214,
   "metadata": {
    "collapsed": true
   },
   "outputs": [],
   "source": [
    "# Lots of Multiplied Games\n",
    "# Somewhat trickier than difference to figure out if it's \"pointless\" to participate\\\n",
    "# Will also need a new argument for the multiplying factor\n",
    "def multi_contest(bias,games,factor):\n",
    "    results = np.zeros([games+1,2])\n",
    "    results[0,0] = 5\n",
    "    results[0,1] = 5\n",
    "    for i in range(5):\n",
    "        winner = rand.random()\n",
    "        if winner >= 0.50:\n",
    "            results[i+1][0] = results[i][0] + (results[i][1]*factor)\n",
    "            results[i+1][1] = results[i][1]\n",
    "        else:\n",
    "            results[i+1][1] = results[i][1] + (results[i][0]*factor)\n",
    "            results[i+1][0] = results[i][0]\n",
    "    if results[-1,0] + (results[-1,1]*factor) < results[-1,1]:\n",
    "        pointless = 1\n",
    "    elif results[-1,1] + (results[-1,0]*factor) < results[-1,0]:\n",
    "        pointless = 1\n",
    "    else:\n",
    "        pointless = 0\n",
    "    return pointless"
   ]
  },
  {
   "cell_type": "code",
   "execution_count": 229,
   "metadata": {
    "collapsed": false
   },
   "outputs": [
    {
     "data": {
      "text/plain": [
       "[<matplotlib.text.Text at 0x11caa7390>, <matplotlib.text.Text at 0x11ca05ed0>]"
      ]
     },
     "execution_count": 229,
     "metadata": {},
     "output_type": "execute_result"
    },
    {
     "data": {
      "image/png": "[encoded data removed]",
      "text/plain": [
       "<matplotlib.figure.Figure at 0x11c7e9790>"
      ]
     },
     "metadata": {},
     "output_type": "display_data"
    }
   ],
   "source": [
    "# Lots of Multiplier-based Games\n",
    "small_factor = np.empty([nruns,1])\n",
    "for k in range(nruns):\n",
    "    small_factor[k,0] = multi_contest(0.50,5,0.20)\n",
    "\n",
    "N = 2\n",
    "PointlessBreak = (sum(small_factor[:,0]),(nruns - sum(small_factor[:,0])))\n",
    "ind = np.arange(N)\n",
    "width = 0.80\n",
    "\n",
    "fig,ax = plt.subplots()\n",
    "rects = ax.bar(ind,PointlessBreak, width)\n",
    "ax.set_ylabel('Games',size=14)\n",
    "ax.set_xlabel('Pointless Game',size=14)\n",
    "ax.set_xticks(ind+(width/2))\n",
    "ax.set_xticklabels(('Yes','No'))"
   ]
  },
  {
   "cell_type": "code",
   "execution_count": 234,
   "metadata": {
    "collapsed": false
   },
   "outputs": [
    {
     "data": {
      "text/plain": [
       "[<matplotlib.text.Text at 0x11d24f150>, <matplotlib.text.Text at 0x11d247590>]"
      ]
     },
     "execution_count": 234,
     "metadata": {},
     "output_type": "execute_result"
    },
    {
     "data": {
      "image/png": "[encoded data removed]",
      "text/plain": [
       "<matplotlib.figure.Figure at 0x11d20ca90>"
      ]
     },
     "metadata": {},
     "output_type": "display_data"
    }
   ],
   "source": [
    "big_factor = np.empty([nruns,1])\n",
    "for k in range(nruns):\n",
    "    big_factor[k,0] = multi_contest(0.50,5,0.45)\n",
    "\n",
    "N = 2\n",
    "PointlessBreak = (sum(big_factor[:,0]),(nruns - sum(big_factor[:,0])))\n",
    "ind = np.arange(N)\n",
    "width = 0.80\n",
    "\n",
    "fig,ax = plt.subplots()\n",
    "rects = ax.bar(ind,PointlessBreak, width)\n",
    "ax.set_ylabel('Games',size=14)\n",
    "ax.set_xlabel('Pointless Game',size=14)\n",
    "ax.set_xticks(ind+(width/2))\n",
    "ax.set_xticklabels(('Yes','No'))"
   ]
  },
  {
   "cell_type": "code",
   "execution_count": 235,
   "metadata": {
    "collapsed": false
   },
   "outputs": [
    {
     "data": {
      "text/plain": [
       "[<matplotlib.text.Text at 0x11d247850>, <matplotlib.text.Text at 0x11d399410>]"
      ]
     },
     "execution_count": 235,
     "metadata": {},
     "output_type": "execute_result"
    },
    {
     "data": {
      "image/png": "[encoded data removed]",
      "text/plain": [
       "<matplotlib.figure.Figure at 0x11d2ec150>"
      ]
     },
     "metadata": {},
     "output_type": "display_data"
    }
   ],
   "source": [
    "bias_factor = np.empty([nruns,1])\n",
    "for k in range(nruns):\n",
    "    bias_factor[k,0] = multi_contest(0.75,5,0.45)\n",
    "\n",
    "N = 2\n",
    "PointlessBreak = (sum(bias_factor[:,0]),(nruns - sum(bias_factor[:,0])))\n",
    "ind = np.arange(N)\n",
    "width = 0.80\n",
    "\n",
    "fig,ax = plt.subplots()\n",
    "rects = ax.bar(ind,PointlessBreak, width)\n",
    "ax.set_ylabel('Games',size=14)\n",
    "ax.set_xlabel('Pointless Game',size=14)\n",
    "ax.set_xticks(ind+(width/2))\n",
    "ax.set_xticklabels(('Yes','No'))"
   ]
  },
  {
   "cell_type": "code",
   "execution_count": null,
   "metadata": {
    "collapsed": true
   },
   "outputs": [],
   "source": []
  }
 ],
 "metadata": {
  "kernelspec": {
   "display_name": "Python 2",
   "language": "python",
   "name": "python2"
  },
  "language_info": {
   "codemirror_mode": {
    "name": "ipython",
    "version": 2
   },
   "file_extension": ".py",
   "mimetype": "text/x-python",
   "name": "python",
   "nbconvert_exporter": "python",
   "pygments_lexer": "ipython2",
   "version": "2.7.10"
  }
 },
 "nbformat": 4,
 "nbformat_minor": 0
}
