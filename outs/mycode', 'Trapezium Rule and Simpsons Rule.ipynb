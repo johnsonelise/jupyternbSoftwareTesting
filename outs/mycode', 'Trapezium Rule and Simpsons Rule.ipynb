{
 "cells": [
  {
   "cell_type": "code",
   "execution_count": 28,
   "metadata": {
    "collapsed": false
   },
   "outputs": [],
   "source": [
    "from math import sqrt, pi"
   ]
  },
  {
   "cell_type": "markdown",
   "metadata": {},
   "source": [
    "# Trapezium Rule"
   ]
  },
  {
   "cell_type": "code",
   "execution_count": 45,
   "metadata": {
    "collapsed": false
   },
   "outputs": [
    {
     "name": "stdout",
     "output_type": "stream",
     "text": [
      "The area between curve and x-axis is:  3.141592616402008\n",
      "π = 3.141592653589793 \t ΔError = 3.7187785295600406e-08\n"
     ]
    }
   ],
   "source": [
    "Nstrips = 100000  #Number of elements\n",
    "h = 1.0/Nstrips    #Stepsize\n",
    "sum_of_ys = 0.0    #This will contain only the sum from y_1 to y_(n-1)\n",
    "x = 0.0            #The x-coordinate on the graph y = 4*sqrt(1-x^2)\n",
    "\n",
    "def y_equation(x :float):\n",
    "    return(4.0*sqrt(1.0-x**2))\n",
    "\n",
    "for i in range(Nstrips-1):\n",
    "    x = (i+1)*h\n",
    "    sum_of_ys += y_equation(x) #The sum from y_1 to y_(n-1) is calculated\n",
    "\n",
    "#Apply the trapezium rule inteligently  h*(y_1+y_2+...+y_(n-1)) + 0.5*h*(y_0 + y_1)\n",
    "area = h*(sum_of_ys + 0.5*(y_equation(0)+y_equation(1)))\n",
    "\n",
    "print ('The area between curve and x-axis is: ', area)\n",
    "print ('π =', pi, '\\t ΔError =',pi-area )\n"
   ]
  },
  {
   "cell_type": "markdown",
   "metadata": {},
   "source": [
    "# Simpson's Rule"
   ]
  },
  {
   "cell_type": "code",
   "execution_count": 46,
   "metadata": {
    "collapsed": false
   },
   "outputs": [
    {
     "name": "stdout",
     "output_type": "stream",
     "text": [
      "The area between curve and x-axis is:  3.1415926484552226\n",
      "π = 3.141592653589793 \t ΔError = 5.13457054651667e-09\n"
     ]
    }
   ],
   "source": [
    "N = 100000\n",
    "Nstrips = 2*N   #Number of elements\n",
    "h = 1.0/Nstrips    #Stepsize\n",
    "sum_of_oddstep_ys = 0.0    #This will contain only the sum of y_1, y_3, y_5 ...\n",
    "sum_of_evenstep_ys = 0.0   #This will contain only the sum of y_2, y_4, y_6 ...\n",
    "\n",
    "x = 0.0            #The x-coordinate on the graph y = 4*sqrt(1-x^2)\n",
    "\n",
    "for i in range(N):\n",
    "    x = (2*i+1.0)*h\n",
    "    sum_of_oddstep_ys += y_equation(x) \n",
    "    x = (2*i+2.0)*h\n",
    "    sum_of_evenstep_ys += y_equation(x)\n",
    "    \n",
    "#Apply Simpson's rule inteligently \n",
    "area = h*(sum_of_oddstep_ys*4.0/3.0 + sum_of_evenstep_ys*2.0/3.0 + y_equation(0)/3.0)\n",
    "\n",
    "print ('The area between curve and x-axis is: ', area)\n",
    "print ('π =', pi, '\\t ΔError =',pi-area )"
   ]
  },
  {
   "cell_type": "code",
   "execution_count": null,
   "metadata": {
    "collapsed": true
   },
   "outputs": [],
   "source": []
  }
 ],
 "metadata": {
  "kernelspec": {
   "display_name": "Python [default]",
   "language": "python",
   "name": "python3"
  },
  "language_info": {
   "codemirror_mode": {
    "name": "ipython",
    "version": 3
   },
   "file_extension": ".py",
   "mimetype": "text/x-python",
   "name": "python",
   "nbconvert_exporter": "python",
   "pygments_lexer": "ipython3",
   "version": "3.5.2"
  }
 },
 "nbformat": 4,
 "nbformat_minor": 2
}
