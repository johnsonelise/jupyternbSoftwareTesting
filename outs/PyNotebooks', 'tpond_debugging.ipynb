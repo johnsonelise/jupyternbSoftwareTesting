{
 "cells": [
  {
   "cell_type": "code",
   "execution_count": 1,
   "metadata": {
    "collapsed": true
   },
   "outputs": [],
   "source": [
    "%matplotlib inline"
   ]
  },
  {
   "cell_type": "code",
   "execution_count": 2,
   "metadata": {
    "collapsed": true
   },
   "outputs": [],
   "source": [
    "gcoef = 34.7006607\n",
    "gconst = -10377.3008"
   ]
  },
  {
   "cell_type": "code",
   "execution_count": 6,
   "metadata": {
    "collapsed": true
   },
   "outputs": [],
   "source": [
    "tctop = 0.774689674\n",
    "tcbot = 1.71730316\n",
    "\n",
    "tbar1p = 300.403046\n",
    "\n",
    "A1 = 0.03262458\n",
    "B1 = 0.0105025051\n",
    "A2 = 0.0489368699\n",
    "B2 = 0.0581741817\n",
    "C2 = 0.0133333337\n",
    "\n",
    "zpond = 0.0082159061\n",
    "dz = 0.1\n",
    "dz1 = dz + zpond\n",
    "\n",
    "tfreez = 273.149994\n",
    "\n",
    "\n",
    "def g0(tsurf):\n",
    "    return gcoef * tsurf + gconst\n",
    "\n",
    "def g12(tsurf):\n",
    "    return (tsurf - tbar1p - A1 * g0(tsurf)) / B1\n",
    "\n",
    "\n",
    "def g23(tsurf):\n",
    "    return (tsurf - tbar1p - A2 * g0(tsurf) - B2 * g12(tsurf, g0)) / C2\n",
    "\n",
    "\n",
    "def tpond(tsurf, tbar1p):\n",
    "    tpnd1 = (g0(tsurf) / tctop - g12(tsurf) / tcbot) * (zpond ** 2 - dz1 ** 2) / (6 * dz1) - g0(tsurf) * (zpond - dz1) / (2 * tctop) + tbar1p \n",
    "    tpnd1 -= tfreez\n",
    "    return tpnd1"
   ]
  },
  {
   "cell_type": "code",
   "execution_count": 8,
   "metadata": {
    "collapsed": false
   },
   "outputs": [
    {
     "data": {
      "text/plain": [
       "15.71383931716831"
      ]
     },
     "execution_count": 8,
     "metadata": {},
     "output_type": "execute_result"
    }
   ],
   "source": [
    "tsurf = 287.574463\n",
    "g12(tsurf)"
   ]
  },
  {
   "cell_type": "code",
   "execution_count": 9,
   "metadata": {
    "collapsed": false
   },
   "outputs": [
    {
     "data": {
      "text/plain": [
       "10.930617438828676"
      ]
     },
     "execution_count": 9,
     "metadata": {},
     "output_type": "execute_result"
    }
   ],
   "source": [
    "tpond(tsurf, tbar1p)"
   ]
  },
  {
   "cell_type": "code",
   "execution_count": null,
   "metadata": {
    "collapsed": true
   },
   "outputs": [],
   "source": []
  }
 ],
 "metadata": {
  "kernelspec": {
   "display_name": "Python 3",
   "language": "python",
   "name": "python3"
  },
  "language_info": {
   "codemirror_mode": {
    "name": "ipython",
    "version": 3
   },
   "file_extension": ".py",
   "mimetype": "text/x-python",
   "name": "python",
   "nbconvert_exporter": "python",
   "pygments_lexer": "ipython3",
   "version": "3.4.4"
  }
 },
 "nbformat": 4,
 "nbformat_minor": 0
}
