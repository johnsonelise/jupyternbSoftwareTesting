{
 "cells": [
  {
   "cell_type": "code",
   "execution_count": 41,
   "metadata": {
    "collapsed": false
   },
   "outputs": [],
   "source": [
    "abr_to_area = {}\n",
    "\n",
    "x = \"\"\"\n",
    "RDO & 143039 \\\\\n",
    "LGR & 95914 \\\\\n",
    "PYR & 87290 \\\\\n",
    "SAG & 71655 \\\\\n",
    "BOM & 64904 \\\\\n",
    "CHU & 44977 \\\\\n",
    "STM & 41919 \\\\\n",
    "MEL & 41897 \\\\\n",
    "FEU & 41078 \\\\\n",
    "RUP & 39687 \\\\\n",
    "GRB & 34451 \\\\\n",
    "WAS & 30267 \\\\\n",
    "CAN & 29665 \\\\\n",
    "BAL & 29340 \\\\\n",
    "MAN & 29181 \\\\\n",
    "ARN & 26712 \\\\\n",
    "GEO & 24058 \\\\\n",
    "BEL & 23700 \\\\\n",
    "MOI & 18917 \\\\\n",
    "NAT & 15456 \\\\\n",
    "ROM & 12241\n",
    "\"\"\"\n",
    "for line in x.split(\"\\\\\\n\"):\n",
    "    abr, area = line.split(\"&\")\n",
    "    abr_to_area[abr.strip()] = int(area.strip())\n",
    "    \n",
    "    \n",
    "abr_to_name = {}\n",
    "index_to_abr = {}\n",
    "\n",
    "x = \"\"\"\n",
    "1 Arnaud ARN\n",
    "2 Feuilles FEU\n",
    "3 Mélèzes MEL\n",
    "4 Caniapiscau CAN\n",
    "5 Caniapiscau (Pyrite) PYR\n",
    "6 Grande rivière de la Baleine GRB\n",
    "7 Baleine BAL\n",
    "8 George GEO\n",
    "9 Churchil Falls CHU\n",
    "10 La Grande Rivière LGR\n",
    "11 Natashquan NAT\n",
    "12 Romaine ROM\n",
    "13 Moisie MOI\n",
    "14 Manicouagan MAN\n",
    "15 Rupert RUP\n",
    "16 Bell BEL\n",
    "17 Saint Maurice STM\n",
    "18 Ottawa RDO\n",
    "19 Saguenay SAG\n",
    "20 Bersimis-Outardes-Manic BOM\n",
    "21 Waswanipi WAS\n",
    "\"\"\"\n",
    "for line in x.split(\"\\n\"):\n",
    "    \n",
    "    if len(line) == 0:\n",
    "        continue \n",
    "        \n",
    "    line = line.strip()\n",
    "    abr = line[-3:]\n",
    "    line = line[:-3]\n",
    "    \n",
    "    index, long_name = line.split(maxsplit=1)\n",
    "    abr_to_name[abr] = long_name\n",
    "    index_to_abr[int(index)] = abr\n"
   ]
  },
  {
   "cell_type": "code",
   "execution_count": 42,
   "metadata": {
    "collapsed": false
   },
   "outputs": [
    {
     "data": {
      "text/plain": [
       "{'ARN': 26712,\n",
       " 'BAL': 29340,\n",
       " 'BEL': 23700,\n",
       " 'BOM': 64904,\n",
       " 'CAN': 29665,\n",
       " 'CHU': 44977,\n",
       " 'FEU': 41078,\n",
       " 'GEO': 24058,\n",
       " 'GRB': 34451,\n",
       " 'LGR': 95914,\n",
       " 'MAN': 29181,\n",
       " 'MEL': 41897,\n",
       " 'MOI': 18917,\n",
       " 'NAT': 15456,\n",
       " 'PYR': 87290,\n",
       " 'RDO': 143039,\n",
       " 'ROM': 12241,\n",
       " 'RUP': 39687,\n",
       " 'SAG': 71655,\n",
       " 'STM': 41919,\n",
       " 'WAS': 30267}"
      ]
     },
     "execution_count": 42,
     "metadata": {},
     "output_type": "execute_result"
    }
   ],
   "source": [
    "abr_to_area"
   ]
  },
  {
   "cell_type": "code",
   "execution_count": 43,
   "metadata": {
    "collapsed": false
   },
   "outputs": [
    {
     "data": {
      "text/plain": [
       "{'ARN': 'Arnaud ',\n",
       " 'BAL': 'Baleine ',\n",
       " 'BEL': 'Bell ',\n",
       " 'BOM': 'Bersimis-Outardes-Manic ',\n",
       " 'CAN': 'Caniapiscau ',\n",
       " 'CHU': 'Churchil Falls ',\n",
       " 'FEU': 'Feuilles ',\n",
       " 'GEO': 'George ',\n",
       " 'GRB': 'Grande rivière de la Baleine ',\n",
       " 'LGR': 'La Grande Rivière ',\n",
       " 'MAN': 'Manicouagan ',\n",
       " 'MEL': 'Mélèzes ',\n",
       " 'MOI': 'Moisie ',\n",
       " 'NAT': 'Natashquan ',\n",
       " 'PYR': 'Caniapiscau (Pyrite) ',\n",
       " 'RDO': 'Ottawa ',\n",
       " 'ROM': 'Romaine ',\n",
       " 'RUP': 'Rupert ',\n",
       " 'SAG': 'Saguenay ',\n",
       " 'STM': 'Saint Maurice ',\n",
       " 'WAS': 'Waswanipi '}"
      ]
     },
     "execution_count": 43,
     "metadata": {},
     "output_type": "execute_result"
    }
   ],
   "source": [
    "abr_to_name"
   ]
  },
  {
   "cell_type": "code",
   "execution_count": 44,
   "metadata": {
    "collapsed": false
   },
   "outputs": [
    {
     "name": "stdout",
     "output_type": "stream",
     "text": [
      "1 & Arnaud  & ARN & 26,712 \\\\\n",
      "2 & Feuilles  & FEU & 41,078 \\\\\n",
      "3 & Mélèzes  & MEL & 41,897 \\\\\n",
      "4 & Caniapiscau  & CAN & 29,665 \\\\\n",
      "5 & Caniapiscau (Pyrite)  & PYR & 87,290 \\\\\n",
      "6 & Grande rivière de la Baleine  & GRB & 34,451 \\\\\n",
      "7 & Baleine  & BAL & 29,340 \\\\\n",
      "8 & George  & GEO & 24,058 \\\\\n",
      "9 & Churchil Falls  & CHU & 44,977 \\\\\n",
      "10 & La Grande Rivière  & LGR & 95,914 \\\\\n",
      "11 & Natashquan  & NAT & 15,456 \\\\\n",
      "12 & Romaine  & ROM & 12,241 \\\\\n",
      "13 & Moisie  & MOI & 18,917 \\\\\n",
      "14 & Manicouagan  & MAN & 29,181 \\\\\n",
      "15 & Rupert  & RUP & 39,687 \\\\\n",
      "16 & Bell  & BEL & 23,700 \\\\\n",
      "17 & Saint Maurice  & STM & 41,919 \\\\\n",
      "18 & Ottawa  & RDO & 143,039 \\\\\n",
      "19 & Saguenay  & SAG & 71,655 \\\\\n",
      "20 & Bersimis-Outardes-Manic  & BOM & 64,904 \\\\\n",
      "21 & Waswanipi  & WAS & 30,267 \\\\\n"
     ]
    }
   ],
   "source": [
    "for ind in sorted(index_to_abr):\n",
    "    abr = index_to_abr[ind]\n",
    "    print(r\"{} & {} & {} & {:,} \\\\\".format(ind, abr_to_name[abr], abr, int(abr_to_area[abr])))"
   ]
  },
  {
   "cell_type": "code",
   "execution_count": 45,
   "metadata": {
    "collapsed": false
   },
   "outputs": [
    {
     "name": "stdout",
     "output_type": "stream",
     "text": [
      "ARN 26,712\n",
      "FEU 41,078\n",
      "MEL 41,897\n",
      "CAN 29,665\n",
      "PYR 87,290\n",
      "GRB 34,451\n",
      "BAL 29,340\n",
      "GEO 24,058\n",
      "CHU 44,977\n",
      "LGR 95,914\n",
      "NAT 15,456\n",
      "ROM 12,241\n",
      "MOI 18,917\n",
      "MAN 29,181\n",
      "RUP 39,687\n",
      "BEL 23,700\n",
      "STM 41,919\n",
      "RDO 143,039\n",
      "SAG 71,655\n",
      "BOM 64,904\n",
      "WAS 30,267\n"
     ]
    }
   ],
   "source": [
    "for ind in sorted(index_to_abr):\n",
    "    print(\"{} {:,}\".format(index_to_abr[ind], int(abr_to_area[index_to_abr[ind]])))"
   ]
  },
  {
   "cell_type": "code",
   "execution_count": null,
   "metadata": {
    "collapsed": true
   },
   "outputs": [],
   "source": []
  },
  {
   "cell_type": "code",
   "execution_count": null,
   "metadata": {
    "collapsed": true
   },
   "outputs": [],
   "source": []
  }
 ],
 "metadata": {
  "kernelspec": {
   "display_name": "Python 3",
   "language": "python",
   "name": "python3"
  },
  "language_info": {
   "codemirror_mode": {
    "name": "ipython",
    "version": 3
   },
   "file_extension": ".py",
   "mimetype": "text/x-python",
   "name": "python",
   "nbconvert_exporter": "python",
   "pygments_lexer": "ipython3",
   "version": "3.4.3"
  }
 },
 "nbformat": 4,
 "nbformat_minor": 0
}
