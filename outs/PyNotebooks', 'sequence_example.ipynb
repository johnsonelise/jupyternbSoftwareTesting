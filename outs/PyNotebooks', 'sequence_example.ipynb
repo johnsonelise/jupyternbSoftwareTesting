{
 "cells": [
  {
   "cell_type": "code",
   "execution_count": 16,
   "metadata": {
    "collapsed": true
   },
   "outputs": [],
   "source": [
    "class MySeq(object):\n",
    "    \n",
    "    \"\"\"Like range, except inclusive range(5) -> 0, 1, 2, 3, 4, 5\"\"\"\n",
    "    def __init__(self, end=0, start=0, step=1):\n",
    "        assert isinstance(start, int)\n",
    "        assert isinstance(end, int)\n",
    "        self.start = start\n",
    "        self.end = end\n",
    "        self.step = step\n",
    "    \n",
    "    def __len__(self):\n",
    "        return (self.end - self.start + 1) // self.step\n",
    "    \n",
    "    def __getitem__(self, index):\n",
    "        \n",
    "        if index >= 0:\n",
    "            el = self.start + index * self.step\n",
    "        else:\n",
    "            el = self.end + (index + 1)* self.step\n",
    "        \n",
    "        if el > self.end:\n",
    "            raise IndexError\n",
    "        \n",
    "        return el\n",
    "        \n",
    "        "
   ]
  },
  {
   "cell_type": "code",
   "execution_count": 18,
   "metadata": {
    "collapsed": false
   },
   "outputs": [
    {
     "name": "stdout",
     "output_type": "stream",
     "text": [
      "0: 0\n",
      "1: 1\n",
      "2: 2\n",
      "3: 3\n",
      "4: 4\n",
      "5: 5\n",
      "6: 6\n",
      "7: 7\n",
      "8: 8\n",
      "9: 9\n",
      "10: 10\n",
      "nels =  11\n",
      "last el =  10\n"
     ]
    }
   ],
   "source": [
    "ms = MySeq(10)\n",
    "for i, n in enumerate(ms):\n",
    "    print(\"{}: {}\".format(i, n))\n",
    "    \n",
    "print(\"nels = \", len(ms))\n",
    "print(\"last el = \", ms[-1])"
   ]
  },
  {
   "cell_type": "code",
   "execution_count": null,
   "metadata": {
    "collapsed": true
   },
   "outputs": [],
   "source": []
  }
 ],
 "metadata": {
  "kernelspec": {
   "display_name": "Python 3",
   "language": "python",
   "name": "python3"
  },
  "language_info": {
   "codemirror_mode": {
    "name": "ipython",
    "version": 3
   },
   "file_extension": ".py",
   "mimetype": "text/x-python",
   "name": "python",
   "nbconvert_exporter": "python",
   "pygments_lexer": "ipython3",
   "version": "3.4.3"
  }
 },
 "nbformat": 4,
 "nbformat_minor": 0
}
