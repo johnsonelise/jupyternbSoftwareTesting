{
 "cells": [
  {
   "cell_type": "code",
   "execution_count": 1,
   "metadata": {
    "collapsed": true
   },
   "outputs": [],
   "source": [
    "import ipywidgets as widgets\n",
    "from traitlets import Unicode, CInt\n",
    "\n",
    "class HelloWidget(widgets.DOMWidget):\n",
    "    _view_name = Unicode('HelloView').tag(sync=True)\n",
    "    _view_module = Unicode('hello').tag(sync=True)\n",
    "    radius = CInt(20).tag(sync=True)"
   ]
  },
  {
   "cell_type": "code",
   "execution_count": 2,
   "metadata": {
    "collapsed": false
   },
   "outputs": [
    {
     "data": {
      "application/javascript": [
       "require.config({\n",
       "  paths: {\n",
       "    d3: \"https://d3js.org/d3.v3.min\"\n",
       "  }\n",
       "});\n",
       "\n",
       "require.undef('hello');\n",
       "define('hello', [\"jupyter-js-widgets\", \"d3\"], function(widgets, d3) {\n",
       "\n",
       "    var HelloView = widgets.DOMWidgetView.extend({\n",
       "\n",
       "        render: function() {\n",
       "            this.svg = d3.select(this.el).append('svg')\n",
       "                .attr('width', 250)\n",
       "                .attr('height', 250)\n",
       "                .append('g')\n",
       "                    .attr('transform', 'scale(1)');\n",
       "            \n",
       "\n",
       "            this.robot = this.svg.append('circle')\n",
       "                .attr('cx', 100)\n",
       "                .attr('cy', 100)\n",
       "                .attr('r', this.model.get('radius'))\n",
       "                .attr('fill', '#FF0')\n",
       "                .attr('stroke', '#000');\n",
       "\n",
       "            this.model.on('change:radius', this.value_changed, this);\n",
       "        },\n",
       "\n",
       "        value_changed: function() {\n",
       "            this.robot.attr('r', this.model.get('radius'));\n",
       "        },\n",
       "    });\n",
       "\n",
       "    return {\n",
       "        HelloView : HelloView\n",
       "    };\n",
       "});"
      ],
      "text/plain": [
       "<IPython.core.display.Javascript object>"
      ]
     },
     "metadata": {},
     "output_type": "display_data"
    }
   ],
   "source": [
    "%%javascript\n",
    "require.config({\n",
    "  paths: {\n",
    "    d3: \"https://d3js.org/d3.v3.min\"\n",
    "  }\n",
    "});\n",
    "\n",
    "require.undef('hello');\n",
    "define('hello', [\"jupyter-js-widgets\", \"d3\"], function(widgets, d3) {\n",
    "\n",
    "    var HelloView = widgets.DOMWidgetView.extend({\n",
    "\n",
    "        render: function() {\n",
    "            this.svg = d3.select(this.el).append('svg')\n",
    "                .attr('width', 250)\n",
    "                .attr('height', 250)\n",
    "                .append('g')\n",
    "                    .attr('transform', 'scale(1)');\n",
    "            \n",
    "\n",
    "            this.robot = this.svg.append('circle')\n",
    "                .attr('cx', 100)\n",
    "                .attr('cy', 100)\n",
    "                .attr('r', this.model.get('radius'))\n",
    "                .attr('fill', '#FF0')\n",
    "                .attr('stroke', '#000');\n",
    "\n",
    "            this.model.on('change:radius', this.value_changed, this);\n",
    "        },\n",
    "\n",
    "        value_changed: function() {\n",
    "            this.robot.attr('r', this.model.get('radius'));\n",
    "        },\n",
    "    });\n",
    "\n",
    "    return {\n",
    "        HelloView : HelloView\n",
    "    };\n",
    "});"
   ]
  },
  {
   "cell_type": "code",
   "execution_count": 3,
   "metadata": {
    "collapsed": false
   },
   "outputs": [],
   "source": [
    "w = HelloWidget()"
   ]
  },
  {
   "cell_type": "code",
   "execution_count": 4,
   "metadata": {
    "collapsed": true
   },
   "outputs": [],
   "source": [
    "w"
   ]
  },
  {
   "cell_type": "code",
   "execution_count": 5,
   "metadata": {
    "collapsed": false
   },
   "outputs": [],
   "source": [
    "w.radius = 45"
   ]
  },
  {
   "cell_type": "code",
   "execution_count": null,
   "metadata": {
    "collapsed": true
   },
   "outputs": [],
   "source": []
  }
 ],
 "metadata": {
  "kernelspec": {
   "display_name": "Python 3",
   "language": "python",
   "name": "python3"
  },
  "language_info": {
   "codemirror_mode": {
    "name": "ipython",
    "version": 3
   },
   "file_extension": ".py",
   "mimetype": "text/x-python",
   "name": "python",
   "nbconvert_exporter": "python",
   "pygments_lexer": "ipython3",
   "version": "3.5.1"
  },
  "widgets": {
   "state": {
    "026c20491c3f43bb8d7fff7634aa102f": {
     "views": []
    },
    "15e91fa2a904482d883c467ec0908797": {
     "views": []
    },
    "1c7a5665a34a4a418f1bbe39b11edd7e": {
     "views": []
    },
    "37f8885f5d3a418e9202f5e509dfdfda": {
     "views": []
    },
    "3b8180827cae4385904d3f17870f9651": {
     "views": []
    },
    "44263f82728f4173b94b593f3a4f991f": {
     "views": []
    },
    "45ce6e50583a4981b63c1ddb578c0437": {
     "views": []
    },
    "45d9590ddebd482c8d719205615d3eb5": {
     "views": []
    },
    "71b6bbfa79fc4ee3ab8f51d14386adea": {
     "views": []
    },
    "761905984e434770858e50c42753485a": {
     "views": []
    },
    "80e3276410d749cda462f14b414bd951": {
     "views": [
      {
       "cell": {
        "cell_type": "code",
        "execution_count": 4,
        "metadata": {
         "collapsed": true,
         "trusted": true
        },
        "outputs": [],
        "source": "w"
       },
       "cell_index": 3,
       "root": true
      }
     ]
    },
    "8e3ef2f09170472c942cb0571e76ea23": {
     "views": []
    },
    "a3857cdd997d4123b9e5ccd78d7f5a1a": {
     "views": []
    },
    "a83e2210dd4146169569c111fe76e6bb": {
     "views": []
    },
    "b91fd99de9a94f84b8fa351dfc11f59e": {
     "views": []
    },
    "bc4228542f054c18b63d675c7a0f62d2": {
     "views": []
    },
    "c96dd445d670496e9f537b65d10d0513": {
     "views": []
    },
    "d65b04799b4140649374814f5d9d5c7d": {
     "views": []
    },
    "dca1a763a9db46988dbf1f8bc06c03ed": {
     "views": []
    },
    "edf935dd617745a5896bfc5139366a7f": {
     "views": []
    }
   },
   "version": "1.0.0"
  }
 },
 "nbformat": 4,
 "nbformat_minor": 0
}
