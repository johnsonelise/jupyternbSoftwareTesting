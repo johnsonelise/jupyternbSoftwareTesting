{
 "cells": [
  {
   "cell_type": "markdown",
   "metadata": {
    "slideshow": {
     "slide_type": "slide"
    }
   },
   "source": [
    "# CS 429: Information Retrieval\n",
    "\n",
    "<br>\n",
    "## Lecture 3: Indexing II\n",
    "\n",
    "<br>\n",
    "\n",
    "### Dr. Aron Culotta\n",
    "### Illinois Institute of Technology \n",
    "\n",
    "\n",
    "---\n",
    "<br><br><br>"
   ]
  },
  {
   "cell_type": "markdown",
   "metadata": {
    "slideshow": {
     "slide_type": "slide"
    }
   },
   "source": [
    "# Recall Inverted Index\n",
    "\n",
    "![diagrams-0](files/diagrams-0.png)\n",
    "\n"
   ]
  },
  {
   "cell_type": "markdown",
   "metadata": {},
   "source": [
    "## To merge two postings lists\n",
    "\n",
    "![merge](files/merge.png)"
   ]
  },
  {
   "cell_type": "markdown",
   "metadata": {},
   "source": [
    "Runtime: $O(x + y)$, for postings lists of size $x$ and $y$\n",
    "\n",
    "<br><br><br><br><br><br><br><br>"
   ]
  },
  {
   "cell_type": "markdown",
   "metadata": {
    "slideshow": {
     "slide_type": "slide"
    }
   },
   "source": [
    "# Skip Lists\n",
    "\n",
    "![diagrams-1](files/diagrams-1.png)"
   ]
  },
  {
   "cell_type": "markdown",
   "metadata": {
    "slideshow": {
     "slide_type": "fragment"
    }
   },
   "source": [
    "Worst-case runtime? "
   ]
  },
  {
   "cell_type": "markdown",
   "metadata": {
    "slideshow": {
     "slide_type": "fragment"
    }
   },
   "source": [
    "$O(x + y)$"
   ]
  },
  {
   "cell_type": "markdown",
   "metadata": {
    "slideshow": {
     "slide_type": "fragment"
    }
   },
   "source": [
    "Best-case runtime?"
   ]
  },
  {
   "cell_type": "markdown",
   "metadata": {
    "slideshow": {
     "slide_type": "fragment"
    }
   },
   "source": [
    "$O(k)$, for $k$ matching documents"
   ]
  },
  {
   "cell_type": "markdown",
   "metadata": {
    "slideshow": {
     "slide_type": "slide"
    }
   },
   "source": [
    "# Merging Skip Lists"
   ]
  },
  {
   "cell_type": "code",
   "execution_count": 22,
   "metadata": {
    "collapsed": true,
    "slideshow": {
     "slide_type": "fragment"
    }
   },
   "outputs": [],
   "source": [
    "# tuple (x,y,z): x=doc_id, y=skip index, z=skip value\n",
    "index = {'cat': [(2, 3, 16), 4, 8, (16, 6, 28), 19, 23, 28, 43],\n",
    "         'dog': [(1, 3, 5), 2, 3, (5, 6, 51), 8, 41, 51, 60, 71]}\n",
    "\n",
    "\n",
    "\n",
    "\n"
   ]
  },
  {
   "cell_type": "code",
   "execution_count": 23,
   "metadata": {
    "collapsed": false,
    "slideshow": {
     "slide_type": "fragment"
    }
   },
   "outputs": [],
   "source": [
    "# Print postings list containing skip pointers.\n",
    "def print_skip_list(docs):\n",
    "    idx = 0\n",
    "    while idx < len(docs):\n",
    "        print(docs[idx])\n",
    "        if type(docs[idx]) is tuple: # skip\n",
    "            idx = docs[idx][1]\n",
    "        else:\n",
    "            idx += 1\n",
    "            \n",
    "            \n",
    "            \n",
    "            \n",
    "            "
   ]
  },
  {
   "cell_type": "code",
   "execution_count": 24,
   "metadata": {
    "collapsed": false,
    "slideshow": {
     "slide_type": "fragment"
    }
   },
   "outputs": [
    {
     "name": "stdout",
     "output_type": "stream",
     "text": [
      "(2, 3, 16)\n",
      "(16, 6, 28)\n",
      "28\n",
      "43\n"
     ]
    }
   ],
   "source": [
    "print_skip_list(index['cat'])"
   ]
  },
  {
   "cell_type": "code",
   "execution_count": 25,
   "metadata": {
    "collapsed": false,
    "slideshow": {
     "slide_type": "fragment"
    }
   },
   "outputs": [
    {
     "name": "stdout",
     "output_type": "stream",
     "text": [
      "(1, 3, 5)\n",
      "(5, 6, 51)\n",
      "51\n",
      "60\n",
      "71\n"
     ]
    }
   ],
   "source": [
    "print_skip_list(index['dog'])"
   ]
  },
  {
   "cell_type": "markdown",
   "metadata": {
    "slideshow": {
     "slide_type": "slide"
    }
   },
   "source": [
    "![skip_merge](files/skip_merge.png)"
   ]
  },
  {
   "cell_type": "markdown",
   "metadata": {
    "slideshow": {
     "slide_type": "slide"
    }
   },
   "source": [
    "# Where to insert skip pointers?\n",
    "\n",
    "Tradeoff:\n",
    "\n",
    "- More pointers mean more opportunities to skip \n",
    "- Fewer pointers means less time wasted comparing to skip values.\n",
    "- Heuristic: $\\sqrt{n}$ evenly-spaced pointers, for list of size $n$.\n",
    "\n",
    "![diagrams-2](files/diagrams-2.png)"
   ]
  },
  {
   "cell_type": "markdown",
   "metadata": {
    "slideshow": {
     "slide_type": "slide"
    }
   },
   "source": [
    "# Adding to an index with skip pointers\n",
    "\n",
    "What happens when we have to add a document to a postings list?\n",
    "\n"
   ]
  },
  {
   "cell_type": "markdown",
   "metadata": {
    "slideshow": {
     "slide_type": "fragment"
    }
   },
   "source": [
    "If postings list is a ...\n",
    "\n",
    "- linked list\n",
    "- dynamic array (e.g., ArrayList)"
   ]
  },
  {
   "cell_type": "markdown",
   "metadata": {
    "slideshow": {
     "slide_type": "slide"
    }
   },
   "source": [
    "# Phrase queries\n",
    "\n",
    "\"cat dog\" **vs** cat AND dog\n",
    "\n"
   ]
  },
  {
   "cell_type": "markdown",
   "metadata": {
    "slideshow": {
     "slide_type": "fragment"
    }
   },
   "source": [
    "![catdog](files/CatDog.jpeg) <img src=\"files/cat_and_dog.jpg\" width=40%/>"
   ]
  },
  {
   "cell_type": "markdown",
   "metadata": {
    "slideshow": {
     "slide_type": "slide"
    }
   },
   "source": [
    "# Phrase Indexing\n",
    "\n",
    "Two approaches\n",
    "\n",
    "1. **Biword Index**\n",
    "2. **Positional Index**"
   ]
  },
  {
   "cell_type": "markdown",
   "metadata": {
    "slideshow": {
     "slide_type": "slide"
    }
   },
   "source": [
    "# Biword index\n",
    "\n",
    "\"The cat dog jumped.\"\n",
    "\n",
    "![diagrams-3](files/diagrams-3.png)"
   ]
  },
  {
   "cell_type": "markdown",
   "metadata": {
    "slideshow": {
     "slide_type": "slide"
    }
   },
   "source": [
    "# Finding phrases"
   ]
  },
  {
   "cell_type": "code",
   "execution_count": 26,
   "metadata": {
    "collapsed": false,
    "slideshow": {
     "slide_type": "fragment"
    }
   },
   "outputs": [
    {
     "name": "stdout",
     "output_type": "stream",
     "text": [
      "read 62 docs\n"
     ]
    }
   ],
   "source": [
    "docs = [l.strip() for l in open(\"documents.txt\", 'rt').readlines()]\n",
    "print('read', len(docs), 'docs')"
   ]
  },
  {
   "cell_type": "code",
   "execution_count": 28,
   "metadata": {
    "collapsed": true,
    "slideshow": {
     "slide_type": "fragment"
    }
   },
   "outputs": [],
   "source": [
    "def ngrams(n, docs):\n",
    "    terms = set()\n",
    "    for d in docs:\n",
    "        toks = d.split()\n",
    "        for i in range(len(toks) - n + 1):\n",
    "            terms.add('_'.join(toks[i:i+n]))\n",
    "    return terms"
   ]
  },
  {
   "cell_type": "code",
   "execution_count": 29,
   "metadata": {
    "collapsed": false,
    "slideshow": {
     "slide_type": "fragment"
    }
   },
   "outputs": [
    {
     "name": "stdout",
     "output_type": "stream",
     "text": [
      "{'b', 'a', 'c'}\n",
      "{'b_c', 'a_b'}\n",
      "{'a_b_c'}\n",
      "set()\n"
     ]
    }
   ],
   "source": [
    "print(ngrams(1, ['a b c']))\n",
    "print(ngrams(2, ['a b c']))\n",
    "print(ngrams(3, ['a b c']))\n",
    "print(ngrams(4, ['a b c']))"
   ]
  },
  {
   "cell_type": "code",
   "execution_count": 30,
   "metadata": {
    "collapsed": false,
    "slideshow": {
     "slide_type": "fragment"
    }
   },
   "outputs": [
    {
     "name": "stdout",
     "output_type": "stream",
     "text": [
      "number of terms=\n"
     ]
    },
    {
     "data": {
      "text/plain": [
       "[(1, 380),\n",
       " (2, 585),\n",
       " (3, 599),\n",
       " (4, 567),\n",
       " (5, 511),\n",
       " (6, 452),\n",
       " (7, 391),\n",
       " (8, 330),\n",
       " (9, 272),\n",
       " (10, 221),\n",
       " (11, 172),\n",
       " (12, 129),\n",
       " (13, 90),\n",
       " (14, 61),\n",
       " (15, 40),\n",
       " (16, 28),\n",
       " (17, 22),\n",
       " (18, 17),\n",
       " (19, 14)]"
      ]
     },
     "execution_count": 30,
     "metadata": {},
     "output_type": "execute_result"
    }
   ],
   "source": [
    "max_n = 20\n",
    "sizes = [len(ngrams(i, docs)) for i in range(1, max_n)]\n",
    "print('number of terms=')\n",
    "list(zip(range(1, max_n), sizes))"
   ]
  },
  {
   "cell_type": "code",
   "execution_count": 31,
   "metadata": {
    "collapsed": false,
    "slideshow": {
     "slide_type": "fragment"
    }
   },
   "outputs": [
    {
     "name": "stdout",
     "output_type": "stream",
     "text": [
      "Populating the interactive namespace from numpy and matplotlib\n",
      "[380, 965, 1564, 2131, 2642, 3094, 3485, 3815, 4087, 4308, 4480, 4609, 4699, 4760, 4800, 4828, 4850, 4867, 4881]\n"
     ]
    },
    {
     "data": {
      "text/plain": [
       "<matplotlib.text.Text at 0x107edd320>"
      ]
     },
     "execution_count": 31,
     "metadata": {},
     "output_type": "execute_result"
    },
    {
     "data": {
      "image/png": "[encoded data removed]",
      "text/plain": [
       "<matplotlib.figure.Figure at 0x107557ba8>"
      ]
     },
     "metadata": {},
     "output_type": "display_data"
    }
   ],
   "source": [
    "%pylab inline\n",
    "# 1-grams, 1-grams + 2-grams, ...\n",
    "x = [sum(sizes[:i]) for i in range(1,max_n)]\n",
    "print(x)\n",
    "plot(x)\n",
    "xlabel('ngram size')\n",
    "ylabel('number of terms')"
   ]
  },
  {
   "cell_type": "markdown",
   "metadata": {
    "slideshow": {
     "slide_type": "slide"
    }
   },
   "source": [
    "# Limits of phrase indices\n",
    "\n",
    "If we index 5-grams, how can we search for the phrase \"to be or not to be\"?"
   ]
  },
  {
   "cell_type": "markdown",
   "metadata": {
    "slideshow": {
     "slide_type": "fragment"
    }
   },
   "source": [
    "- AND of 5-grams \"to be or not to\" AND \"be or not to be\"\n",
    "- Very small possibility of a false match"
   ]
  },
  {
   "cell_type": "markdown",
   "metadata": {
    "slideshow": {
     "slide_type": "fragment"
    }
   },
   "source": [
    "What if we index 2-grams and we search for the phrase \"new york university\"\n",
    "\n",
    "- \"new york\" AND \"york university\"\n",
    "- greater possibility of false match"
   ]
  },
  {
   "cell_type": "markdown",
   "metadata": {
    "slideshow": {
     "slide_type": "slide"
    }
   },
   "source": [
    "# Positional Index\n",
    "\n",
    "- Store position of term in original document.\n",
    "- *term*: [(doc_id1, [pos1, pos2, ...]), (doc_id2, [pos1, pos2, ...]), ...]"
   ]
  },
  {
   "cell_type": "code",
   "execution_count": 33,
   "metadata": {
    "collapsed": true,
    "slideshow": {
     "slide_type": "fragment"
    }
   },
   "outputs": [],
   "source": [
    "doc0 = \"The cat dog jumped over the dog.\"\n",
    "doc1 = \"The dog jumped.\"\n",
    "index = {\n",
    "         'the': [(0, [0, 5]), (1, [0])],\n",
    "         'cat': [(0, [1])],\n",
    "         'dog': [(0, [2, 6]), (1, 1)],\n",
    "         'jumped': [(0, [3]), (1, [2])]\n",
    "         }"
   ]
  },
  {
   "cell_type": "markdown",
   "metadata": {
    "slideshow": {
     "slide_type": "slide"
    }
   },
   "source": [
    "# Positional Index"
   ]
  },
  {
   "cell_type": "markdown",
   "metadata": {
    "slideshow": {
     "slide_type": "fragment"
    }
   },
   "source": [
    "- Additional space needed?"
   ]
  },
  {
   "cell_type": "markdown",
   "metadata": {
    "slideshow": {
     "slide_type": "fragment"
    }
   },
   "source": [
    "- One `int` for each time a term occurs in a document.\n",
    "- Biggest impact on long documents.\n",
    "- E.g., consider a term that occurs once every thousand words:\n",
    "\n",
    "|document length | # postings | # positional postings|\n",
    "|----------------|------------|----------------------|\n",
    "|1000            |  1         | 1                    |\n",
    "|100,000         |  1         | 100                  |\n"
   ]
  },
  {
   "cell_type": "markdown",
   "metadata": {
    "slideshow": {
     "slide_type": "slide"
    }
   },
   "source": [
    "# Merging positional postings lists\n",
    "\n",
    "How can we efficiently merge positional postings lists to find phrases?"
   ]
  },
  {
   "cell_type": "code",
   "execution_count": 34,
   "metadata": {
    "collapsed": false,
    "slideshow": {
     "slide_type": "fragment"
    }
   },
   "outputs": [
    {
     "name": "stdout",
     "output_type": "stream",
     "text": [
      "both appear in  0\n",
      "found \"cat dog\" at positions 1 2\n"
     ]
    }
   ],
   "source": [
    "index = {'cat': [(0, [1])],\n",
    "         'dog': [(0, [2, 6]),\n",
    "                 (1, [1])]}\n",
    "# [ (doc_id1, [pos1, pos2, ...]),\n",
    "#   (doc_id2, [pos1, pos2, ...]), ...\n",
    "# ]\n",
    "\n",
    "# Search for \"cat dog\"\n",
    "# This is inefficient! See Figure 2.12 (from book) and next assignment for more.\n",
    "for cat_doc in index['cat']:\n",
    "    for dog_doc in index['dog']:\n",
    "        if cat_doc[0] == dog_doc[0]:  # In same document\n",
    "            print('both appear in ', cat_doc[0])\n",
    "            for cat_pos in cat_doc[1]:\n",
    "                for dog_pos in dog_doc[1]:\n",
    "                    if cat_pos == dog_pos - 1: # dog comes right after cat.\n",
    "                        print('found \"cat dog\" at positions', cat_pos, dog_pos)"
   ]
  },
  {
   "cell_type": "markdown",
   "metadata": {
    "slideshow": {
     "slide_type": "slide"
    }
   },
   "source": [
    "# Combining Biword Index and Positional Index\n",
    "\n",
    "- Only store phrases that\n",
    "  - Are commonly queried\n",
    "  - Have common individual words\n",
    "- *Britney Spears* vs. *The Who*"
   ]
  },
  {
   "cell_type": "markdown",
   "metadata": {
    "slideshow": {
     "slide_type": "slide"
    }
   },
   "source": [
    "![diagrams-4](files/diagrams-4.png)\n",
    "\n",
    "1. How often is a skip pointer followed (i.e., p1 is advanced to skip(p1))?\n",
    "2. How many postings comparisons will be made by this algorithm while intersecting the two lists?\n",
    "3. How many postings comparisons would be made if the postings lists are intersected without the use of skip pointers?\n",
    "4. Repeat number 2 considering also the overhead costs (e.g., checking if an element has a skip and comparing the value of the target of the skip)."
   ]
  }
 ],
 "metadata": {
  "kernelspec": {
   "display_name": "Python 3",
   "language": "python",
   "name": "python3"
  },
  "language_info": {
   "codemirror_mode": {
    "name": "ipython",
    "version": 3
   },
   "file_extension": ".py",
   "mimetype": "text/x-python",
   "name": "python",
   "nbconvert_exporter": "python",
   "pygments_lexer": "ipython3",
   "version": "3.5.0"
  }
 },
 "nbformat": 4,
 "nbformat_minor": 0
}
