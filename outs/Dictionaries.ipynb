{
 "cells": [
  {
   "cell_type": "markdown",
   "metadata": {
    "slideshow": {
     "slide_type": "slide"
    }
   },
   "source": [
    "# CS 429: Information Retrieval\n",
    "\n",
    "<br>\n",
    "\n",
    "## Lecture 4: Dictionaries\n",
    "\n",
    "<br>\n",
    "\n",
    "### Dr. Aron Culotta\n",
    "### Illinois Institute of Technology \n",
    "\n",
    "\n",
    "<br><br><br>\n",
    "<br><br><br>\n",
    "\n",
    "---\n",
    "\n",
    "\n"
   ]
  },
  {
   "cell_type": "markdown",
   "metadata": {
    "slideshow": {
     "slide_type": "slide"
    }
   },
   "source": [
    "Last time:\n",
    "\n",
    "- skip lists, phrase search, biword index, positional index\n",
    "\n",
    "Today:\n",
    "\n",
    "- Efficient retrieval of postings lists\n",
    "- Wildcard queries\n",
    "- Spelling correction"
   ]
  },
  {
   "cell_type": "markdown",
   "metadata": {
    "slideshow": {
     "slide_type": "slide"
    }
   },
   "source": [
    "Recall our friend the inverted index:\n",
    "\n",
    "\\begin{eqnarray*}\n",
    "cat & \\rightarrow &1,9,62   \\\\\n",
    "dog & \\rightarrow &1,2,9,31 \\\\\n",
    "zebra & \\rightarrow &2,62,150   \\\\\n",
    "\\end{eqnarray*}"
   ]
  },
  {
   "cell_type": "markdown",
   "metadata": {
    "slideshow": {
     "slide_type": "fragment"
    }
   },
   "source": [
    "Given a query term \"dog\", how can we efficiently retrieve the matching postings list? \n",
    "\n",
    "**dictionary:** data structure to lookup posting list of a term.\n",
    "\n",
    "What data structure should we use?"
   ]
  },
  {
   "cell_type": "markdown",
   "metadata": {
    "slideshow": {
     "slide_type": "fragment"
    }
   },
   "source": [
    "- Hash table\n",
    "- Binary tree\n",
    "- B-tree"
   ]
  },
  {
   "cell_type": "markdown",
   "metadata": {
    "slideshow": {
     "slide_type": "slide"
    }
   },
   "source": [
    "# Hash Table\n"
   ]
  },
  {
   "cell_type": "code",
   "execution_count": 1,
   "metadata": {
    "collapsed": true
   },
   "outputs": [],
   "source": [
    "index = {'cat': [1, 9, 62],\n",
    "         'dog': [1, 2, 9, 31],\n",
    "         'zebra': [2, 62, 150]}"
   ]
  },
  {
   "cell_type": "code",
   "execution_count": 2,
   "metadata": {
    "collapsed": false,
    "slideshow": {
     "slide_type": "fragment"
    }
   },
   "outputs": [
    {
     "data": {
      "text/plain": [
       "[1, 2, 9, 31]"
      ]
     },
     "execution_count": 2,
     "metadata": {},
     "output_type": "execute_result"
    }
   ],
   "source": [
    "query = 'dog'\n",
    "index['dog']  # hash lookup, O(1)"
   ]
  },
  {
   "cell_type": "markdown",
   "metadata": {
    "slideshow": {
     "slide_type": "fragment"
    }
   },
   "source": [
    "How does this work?"
   ]
  },
  {
   "cell_type": "code",
   "execution_count": 3,
   "metadata": {
    "collapsed": false,
    "slideshow": {
     "slide_type": "fragment"
    }
   },
   "outputs": [
    {
     "name": "stdout",
     "output_type": "stream",
     "text": [
      "-1478837241286492477\n",
      "-4683256221252089767\n"
     ]
    }
   ],
   "source": [
    "print(hash('dog'))\n",
    "print(hash('cat'))\n",
    "# See the Python's implementation of hash here: \n",
    "# http://stackoverflow.com/questions/2070276/where-can-i-find-source-or-algorithm-of-pythons-hash-function"
   ]
  },
  {
   "cell_type": "code",
   "execution_count": 4,
   "metadata": {
    "collapsed": false,
    "slideshow": {
     "slide_type": "fragment"
    }
   },
   "outputs": [
    {
     "name": "stdout",
     "output_type": "stream",
     "text": [
      "-799031295820617361\n"
     ]
    }
   ],
   "source": [
    "# What happens when two objects return the same hash?\n",
    "print(hash(-799031295820617361))"
   ]
  },
  {
   "cell_type": "markdown",
   "metadata": {},
   "source": [
    "In practice, our memory is limited, so we may each key to a row in a smaller table:"
   ]
  },
  {
   "cell_type": "markdown",
   "metadata": {
    "slideshow": {
     "slide_type": "subslide"
    }
   },
   "source": [
    "![hashing](files/hashing.png)\n",
    "\n",
    "Source: <http://www.laurentluce.com/posts/python-dictionary-implementation/>"
   ]
  },
  {
   "cell_type": "markdown",
   "metadata": {
    "slideshow": {
     "slide_type": "slide"
    }
   },
   "source": [
    "# Hash Table for Inverted Index\n",
    "\n",
    "Pros:\n",
    "\n",
    "- $O(1)$ lookup time\n",
    "- Simple\n",
    "\n",
    "Cons:\n",
    "\n",
    "- Cannot efficiently find minor variants (e.g., zebr*)"
   ]
  },
  {
   "cell_type": "markdown",
   "metadata": {
    "slideshow": {
     "slide_type": "slide"
    }
   },
   "source": [
    "# Binary Trees\n",
    "\n",
    "![binary](files/binary.png)\n",
    "\n",
    "Source: [MRS Ch3](http://nlp.stanford.edu/IR-book/pdf/03dict.pdf)"
   ]
  },
  {
   "cell_type": "markdown",
   "metadata": {
    "slideshow": {
     "slide_type": "subslide"
    }
   },
   "source": [
    "# Binary Trees\n",
    "\n",
    "Search time: $O(\\log n)$\n",
    "\n",
    "- Assumes a **balanced** tree"
   ]
  },
  {
   "cell_type": "markdown",
   "metadata": {},
   "source": [
    "![unbalanced](files/unbalanced.png)"
   ]
  },
  {
   "cell_type": "markdown",
   "metadata": {
    "slideshow": {
     "slide_type": "slide"
    }
   },
   "source": [
    "# B-Trees\n",
    "\n",
    "Like a binary tree, but nodes can have between *a* and  *b* children, instead of just 2."
   ]
  },
  {
   "cell_type": "markdown",
   "metadata": {},
   "source": [
    "![btree](files/btree.png)\n",
    "\n",
    "B-Tree [2,4]"
   ]
  },
  {
   "cell_type": "markdown",
   "metadata": {
    "slideshow": {
     "slide_type": "slide"
    }
   },
   "source": [
    "# Wildcard queries with B-Trees\n",
    "\n",
    "Search for \"ana*\"\n",
    "\n",
    "![wildcard](files/wildcard.png)"
   ]
  },
  {
   "cell_type": "markdown",
   "metadata": {
    "slideshow": {
     "slide_type": "slide"
    }
   },
   "source": [
    "# Spelling correction\n",
    "\n",
    "- $k$-gram overlap\n",
    "- Levenshtein\n",
    "- Middle-ground"
   ]
  },
  {
   "cell_type": "markdown",
   "metadata": {
    "slideshow": {
     "slide_type": "slide"
    }
   },
   "source": [
    "# Levenshtein distance\n",
    "\n",
    "How to convert string1 into string2 with the minimum number of operations?\n",
    "\n",
    "fast $\\rightarrow$ cats ?"
   ]
  },
  {
   "cell_type": "markdown",
   "metadata": {
    "slideshow": {
     "slide_type": "fragment"
    }
   },
   "source": [
    "Operations:\n",
    "\n",
    "- *insert*: fas $\\xrightarrow{insert(t)}$ fas**t**\n",
    "- *delete*: fast $\\xrightarrow{delete(t)}$ fas\n",
    "- *substitute*: fast $\\xrightarrow{substitute(t,x)}$ fas**x**"
   ]
  },
  {
   "cell_type": "markdown",
   "metadata": {
    "slideshow": {
     "slide_type": "subslide"
    }
   },
   "source": [
    "cats $\\xrightarrow{substitute(c, f)}$ <u>**f**</u>ats $\\xrightarrow{insert(s)}$ fa<u>**s**</u>ts $\\xrightarrow{delete(s)}$ fast (3 operations)\n",
    "\n",
    "or\n",
    "\n",
    "cats $\\xrightarrow{substitute(c, f)}$ <u>**f**</u>ats $\\xrightarrow{substitute(t,s)}$ fa<u>**s**</u>s $\\xrightarrow{substitute(s,t)}$ fas<u>**t**</u> (3 operations)\n",
    "\n",
    "but definitely not:\n",
    "\n",
    "cats $\\xrightarrow{insert(f)}$ <u>**f**</u>cats $\\xrightarrow{delete(c)}$ fats $\\xrightarrow{delete(t)}$ fas $\\xrightarrow{delete(s)}$ fa $\\xrightarrow{insert(s)}$ fa<u>**s**</u> $\\xrightarrow{insert(t)}$ fas<u>**t**</u> (6 operations)"
   ]
  },
  {
   "cell_type": "markdown",
   "metadata": {},
   "source": [
    "**Search problem**: Find the minimum number of operations to convert string **s** into string **t**"
   ]
  },
  {
   "cell_type": "code",
   "execution_count": 5,
   "metadata": {
    "collapsed": true,
    "slideshow": {
     "slide_type": "fragment"
    }
   },
   "outputs": [],
   "source": [
    "# Slow, recursive Levenshtein implementation\n",
    "# (inspired by <http://en.wikipedia.org/wiki/Levenshtein_distance>)\n",
    "def leven(s, t):\n",
    "\n",
    "    # base case: empty strings\n",
    "    if len(s) == 0:\n",
    "        return len(t)  # cost of inserting all of t\n",
    "    if len(t) == 0:\n",
    "        return len(s)  # cost of inserting all of s\n",
    "\n",
    "    # test if last characters match\n",
    "    if s[-1] == t[-1]:\n",
    "        cost = 0    # match; no cost\n",
    "    else:\n",
    "        cost = 1   # no match; cost of substituting one letter.\n",
    "\n",
    "    # return minimum of \n",
    "    # - (1) delete char from s, \n",
    "    # - (2) delete char from t, and \n",
    "    # - (3) delete char from both\n",
    "    return min(\n",
    "        leven(s[:-1], t) + 1, # e.g., leven(fas, cats) + 1 (for deleting 't' from 'fast')\n",
    "        leven(s, t[:-1]) + 1, # e.g., leven(fast, cat) + 1 (for deleting 's' from 'cats')\n",
    "        leven(s[:-1], t[:-1]) +\n",
    "          cost # e.g., leven(fas, cat) + cost (for 's'-> t)\n",
    "    )  "
   ]
  },
  {
   "cell_type": "code",
   "execution_count": 6,
   "metadata": {
    "collapsed": false
   },
   "outputs": [
    {
     "data": {
      "text/plain": [
       "'fas'"
      ]
     },
     "execution_count": 6,
     "metadata": {},
     "output_type": "execute_result"
    }
   ],
   "source": [
    "# Python array slicing: \n",
    "# http://structure.usc.edu/numarray/node26.html\n",
    "'fast'[:-1]"
   ]
  },
  {
   "cell_type": "code",
   "execution_count": 7,
   "metadata": {
    "collapsed": false
   },
   "outputs": [
    {
     "name": "stdout",
     "output_type": "stream",
     "text": [
      "3\n"
     ]
    }
   ],
   "source": [
    "print(leven('fast', 'cats'))"
   ]
  },
  {
   "cell_type": "markdown",
   "metadata": {},
   "source": [
    "**From recursion to dynamic programming**\n",
    "\n",
    "Why is this recursive implementation slow?"
   ]
  },
  {
   "cell_type": "markdown",
   "metadata": {},
   "source": [
    "![leven](files/leven2.png)\n"
   ]
  },
  {
   "cell_type": "markdown",
   "metadata": {
    "slideshow": {
     "slide_type": "slide"
    }
   },
   "source": [
    "**Dynamic programming**\n",
    "- Avoids the duplicate computation of the recursive solution\n",
    "- Fill in a table\n",
    "\n",
    "![leven](files/leven.png)\n",
    "\n",
    "Fill in table from left to right, top to bottom, taking the minimum of the  preceding cells.\n",
    "\n",
    "- move right: insert a character into \"cats\"\n",
    "- move down: delete a character from \"cats\"\n",
    "- move diagonally (down and right): substitute a character in \"cats\" with one from \"fast\"\n",
    "Source: [MRS CH3](http://nlp.stanford.edu/IR-book/pdf/03dict.pdf)"
   ]
  },
  {
   "cell_type": "markdown",
   "metadata": {},
   "source": [
    "**Running time?**\n",
    "<br><br><br>\n",
    "<br><br><br>\n",
    "$O(n*m)$, where `len(s)=n` and `len(t)=m`."
   ]
  },
  {
   "cell_type": "markdown",
   "metadata": {
    "slideshow": {
     "slide_type": "slide"
    }
   },
   "source": [
    "# Spelling correction with string edit distance\n",
    "\n",
    "**Idea:** Find a term in the dictionary that has minimum edit distance to query term\n"
   ]
  },
  {
   "cell_type": "markdown",
   "metadata": {
    "slideshow": {
     "slide_type": "fragment"
    }
   },
   "source": [
    "*Tie-breaker*: term that is most frequent"
   ]
  },
  {
   "cell_type": "code",
   "execution_count": 8,
   "metadata": {
    "collapsed": false
   },
   "outputs": [
    {
     "name": "stdout",
     "output_type": "stream",
     "text": [
      "mouse= 0\n",
      "defaultdict(<function <lambda> at 0x10fcac8c8>, {'cat': 20, 'dog': 0, 'mouse': 0, 'zebra': 10})\n",
      "defaultdict(<function <lambda> at 0x10fcac730>, {'cat': 1, 'dog': 2, 'zebra': 0})\n"
     ]
    }
   ],
   "source": [
    "# What's a defaultdict?\n",
    "from collections import defaultdict\n",
    "d = {}\n",
    "# d['zebra'] # KeyError\n",
    "# Adding default values is a bit of a pain...\n",
    "if 'zebra' in d:\n",
    "    d['zebra'] += 1\n",
    "else:\n",
    "    d['zebra'] = 0\n",
    "\n",
    "\n",
    "# defaultdict does it for you:\n",
    "d2 = defaultdict(lambda: 0)\n",
    "d2['zebra'] = 10\n",
    "d2['cat'] = 20\n",
    "d2['dog']  # NB: Looking up a key inserts it in the default dict.\n",
    "print('mouse=', d2['mouse'])\n",
    "print(d2)\n",
    "\n",
    "# value is the length of the dictionary\n",
    "d3 = defaultdict(lambda: len(d3))\n",
    "d3['zebra']\n",
    "d3['cat']\n",
    "d3['dog']  \n",
    "print(d3)"
   ]
  },
  {
   "cell_type": "code",
   "execution_count": 9,
   "metadata": {
    "collapsed": false,
    "slideshow": {
     "slide_type": "slide"
    }
   },
   "outputs": [
    {
     "name": "stdout",
     "output_type": "stream",
     "text": [
      "read 29136 words\n",
      "count(a)= 21161\n",
      "count(apple)= 12\n",
      "count(ajshdlfkjahdlkjh)= 1\n"
     ]
    }
   ],
   "source": [
    "# Fetch a list of word counts.\n",
    "\n",
    "from collections import defaultdict\n",
    "import requests\n",
    "\n",
    "# words: list of terms known to be spelled correctly.\n",
    "word_counts = defaultdict(lambda: 1)  # Assume all words have been seen once\n",
    "# Fetch list of word frequencies\n",
    "words = [line.split() for line in\n",
    "         requests.get('http://norvig.com/ngrams/count_big.txt').text.splitlines()]\n",
    "# Add to words\n",
    "for word, count in words:\n",
    "    word_counts[word] += int(count)\n",
    "print('read', len(words), 'words')\n",
    "print('count(a)=', word_counts['a'])\n",
    "print('count(apple)=', word_counts['apple'])\n",
    "print('count(ajshdlfkjahdlkjh)=', word_counts['ajshdlfkjahdlkjh'])"
   ]
  },
  {
   "cell_type": "code",
   "execution_count": 10,
   "metadata": {
    "collapsed": true,
    "slideshow": {
     "slide_type": "slide"
    }
   },
   "outputs": [],
   "source": [
    "# Find the element of words that has minimum edit distance to word\n",
    "# Return word and the distance.\n",
    "def min_leven(words, word):\n",
    "    distances = [(w, leven(w, word)) for w in words]\n",
    "    return min(distances, key=lambda x: x[1])"
   ]
  },
  {
   "cell_type": "code",
   "execution_count": 11,
   "metadata": {
    "collapsed": false,
    "slideshow": {
     "slide_type": "-"
    }
   },
   "outputs": [
    {
     "name": "stdout",
     "output_type": "stream",
     "text": [
      "('banana', 1)\n"
     ]
    }
   ],
   "source": [
    "print(min_leven(['apple', 'banana', 'chair'], 'bannana'))"
   ]
  },
  {
   "cell_type": "code",
   "execution_count": 12,
   "metadata": {
    "collapsed": true
   },
   "outputs": [],
   "source": [
    "# Too slow!\n",
    "# print min_leven(word_counts.keys(), 'accross')"
   ]
  },
  {
   "cell_type": "markdown",
   "metadata": {
    "slideshow": {
     "slide_type": "slide"
    }
   },
   "source": [
    "# Faster but less precise\n",
    "(See <http://norvig.com/spell-correct.html>)\n",
    "\n",
    "70-80% of misspellings are have edit distance of 1\n",
    "\n",
    "**Idea:** Efficiently generate all terms that are edit distance of 1 from query term. \n",
    "\n"
   ]
  },
  {
   "cell_type": "code",
   "execution_count": 14,
   "metadata": {
    "collapsed": false,
    "scrolled": false,
    "slideshow": {
     "slide_type": "slide"
    }
   },
   "outputs": [],
   "source": [
    "alphabet = 'abcdefghijklmnopqrstuvwxyz'\n",
    "def edits(word, verbose=False):\n",
    "    \"\"\" Return all single edits to word.\n",
    "    Consider insertions, deletes, replacement, and transposition.\n",
    "    \"\"\"\n",
    "    splits     = [(word[:i], word[i:]) for i in range(len(word) + 1)]\n",
    "    # e.g., cat -> [('', 'cat'), ('c', 'at'), ('ca', 't'), ('cat', '')]\n",
    "    deletes    = [a + b[1:] for a, b in splits if b]                       # cat-> ca\n",
    "    transposes = [a + b[1] + b[0] + b[2:] for a, b in splits if len(b)>1]  # cat -> act\n",
    "    replaces   = [a + c + b[1:] for a, b in splits for c in alphabet if b] # cat -> car\n",
    "    inserts    = [a + c + b     for a, b in splits for c in alphabet]      # cat -> cats\n",
    "    if verbose:\n",
    "        print('splits=%s\\ndeletes=%s\\ntransposes=%s\\nreplaces=%s\\ninserts=%s\\n' % \n",
    "             (splits, deletes, transposes, replaces, inserts))\n",
    "    return set(deletes + transposes + replaces + inserts)                  # union all edits"
   ]
  },
  {
   "cell_type": "code",
   "execution_count": 21,
   "metadata": {
    "collapsed": false
   },
   "outputs": [
    {
     "name": "stdout",
     "output_type": "stream",
     "text": [
      "splits=[('', 'cat'), ('c', 'at'), ('ca', 't'), ('cat', '')]\n",
      "deletes=['at', 'ct', 'ca']\n",
      "transposes=['act', 'cta']\n",
      "replaces=['aat', 'bat', 'cat', 'dat', 'eat', 'fat', 'gat', 'hat', 'iat', 'jat', 'kat', 'lat', 'mat', 'nat', 'oat', 'pat', 'qat', 'rat', 'sat', 'tat', 'uat', 'vat', 'wat', 'xat', 'yat', 'zat', 'cat', 'cbt', 'cct', 'cdt', 'cet', 'cft', 'cgt', 'cht', 'cit', 'cjt', 'ckt', 'clt', 'cmt', 'cnt', 'cot', 'cpt', 'cqt', 'crt', 'cst', 'ctt', 'cut', 'cvt', 'cwt', 'cxt', 'cyt', 'czt', 'caa', 'cab', 'cac', 'cad', 'cae', 'caf', 'cag', 'cah', 'cai', 'caj', 'cak', 'cal', 'cam', 'can', 'cao', 'cap', 'caq', 'car', 'cas', 'cat', 'cau', 'cav', 'caw', 'cax', 'cay', 'caz']\n",
      "inserts=['acat', 'bcat', 'ccat', 'dcat', 'ecat', 'fcat', 'gcat', 'hcat', 'icat', 'jcat', 'kcat', 'lcat', 'mcat', 'ncat', 'ocat', 'pcat', 'qcat', 'rcat', 'scat', 'tcat', 'ucat', 'vcat', 'wcat', 'xcat', 'ycat', 'zcat', 'caat', 'cbat', 'ccat', 'cdat', 'ceat', 'cfat', 'cgat', 'chat', 'ciat', 'cjat', 'ckat', 'clat', 'cmat', 'cnat', 'coat', 'cpat', 'cqat', 'crat', 'csat', 'ctat', 'cuat', 'cvat', 'cwat', 'cxat', 'cyat', 'czat', 'caat', 'cabt', 'cact', 'cadt', 'caet', 'caft', 'cagt', 'caht', 'cait', 'cajt', 'cakt', 'calt', 'camt', 'cant', 'caot', 'capt', 'caqt', 'cart', 'cast', 'catt', 'caut', 'cavt', 'cawt', 'caxt', 'cayt', 'cazt', 'cata', 'catb', 'catc', 'catd', 'cate', 'catf', 'catg', 'cath', 'cati', 'catj', 'catk', 'catl', 'catm', 'catn', 'cato', 'catp', 'catq', 'catr', 'cats', 'catt', 'catu', 'catv', 'catw', 'catx', 'caty', 'catz']\n",
      "\n"
     ]
    }
   ],
   "source": [
    "cat_edits = edits('cat', verbose=True)"
   ]
  },
  {
   "cell_type": "markdown",
   "metadata": {},
   "source": [
    "How many edits? *n* deletions, *n-1* transpositions, *26n* substitutions, and *26(n+1)* insertions, for a total of *54n+25.*"
   ]
  },
  {
   "cell_type": "code",
   "execution_count": 20,
   "metadata": {
    "collapsed": false
   },
   "outputs": [
    {
     "name": "stdout",
     "output_type": "stream",
     "text": [
      "Populating the interactive namespace from numpy and matplotlib\n"
     ]
    },
    {
     "data": {
      "text/plain": [
       "[<matplotlib.lines.Line2D at 0x10feb2208>]"
      ]
     },
     "execution_count": 20,
     "metadata": {},
     "output_type": "execute_result"
    },
    {
     "data": {
      "image/png": "[encoded data removed]",
      "text/plain": [
       "<matplotlib.figure.Figure at 0x11212e128>"
      ]
     },
     "metadata": {},
     "output_type": "display_data"
    }
   ],
   "source": [
    "# This is what linear looks like....\n",
    "%pylab inline\n",
    "plot([54 * x + 25 for x in range(20)])"
   ]
  },
  {
   "cell_type": "code",
   "execution_count": 17,
   "metadata": {
    "collapsed": false
   },
   "outputs": [
    {
     "data": {
      "text/plain": [
       "{'apple'}"
      ]
     },
     "execution_count": 17,
     "metadata": {},
     "output_type": "execute_result"
    }
   ],
   "source": [
    "# Return the subset of words that is in word_counts.\n",
    "def known(words):\n",
    "    return set(w for w in words if w in word_counts)  # there are more efficient ways of doing this...\n",
    "\n",
    "known(['apple', 'zzzzasdfasdfz'])"
   ]
  },
  {
   "cell_type": "code",
   "execution_count": 18,
   "metadata": {
    "collapsed": true
   },
   "outputs": [],
   "source": [
    "def correct(word):\n",
    "    # NB: 'or' returns whichever is the first non-empty value\n",
    "    candidates = known([word]) or \\\n",
    "                 known(edits(word)) or \\\n",
    "                 [word]\n",
    "    return max(candidates, key=word_counts.get)"
   ]
  },
  {
   "cell_type": "code",
   "execution_count": 19,
   "metadata": {
    "collapsed": false
   },
   "outputs": [
    {
     "name": "stdout",
     "output_type": "stream",
     "text": [
      "apple\n",
      "across\n",
      "zebraa\n"
     ]
    }
   ],
   "source": [
    "print(correct('apple'))   # apple is in word_counts: known([word])\n",
    "print(correct('accross')) # accross is not in word_counts, but across is: known(edits(word))\n",
    "print(correct('zebraa'))  # zebra is not in word_counts: [word]"
   ]
  },
  {
   "cell_type": "markdown",
   "metadata": {},
   "source": [
    "# How to use spelling correction?\n",
    "\n",
    "- Make suggestions (\"Did you mean?\")\n",
    "- Add corrected terms to query\n",
    "  - only if query term is not in dictionary\n",
    "  - only if number of matches < N"
   ]
  }
 ],
 "metadata": {
  "kernelspec": {
   "display_name": "Python 3",
   "language": "python",
   "name": "python3"
  },
  "language_info": {
   "codemirror_mode": {
    "name": "ipython",
    "version": 3
   },
   "file_extension": ".py",
   "mimetype": "text/x-python",
   "name": "python",
   "nbconvert_exporter": "python",
   "pygments_lexer": "ipython3",
   "version": "3.5.0"
  }
 },
 "nbformat": 4,
 "nbformat_minor": 0
}
