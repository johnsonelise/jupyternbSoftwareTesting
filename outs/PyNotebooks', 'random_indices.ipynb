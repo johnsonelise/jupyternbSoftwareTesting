{
 "cells": [
  {
   "cell_type": "code",
   "execution_count": 1,
   "metadata": {
    "collapsed": true
   },
   "outputs": [],
   "source": [
    "%matplotlib inline\n",
    "import numpy as np\n",
    "import matplotlib.pyplot as plt"
   ]
  },
  {
   "cell_type": "code",
   "execution_count": 32,
   "metadata": {
    "collapsed": false
   },
   "outputs": [],
   "source": [
    "nyears = 30\n",
    "np.random.seed(seed=10)\n",
    "x = np.random.random_integers(0, high=nyears - 1, size=nyears)"
   ]
  },
  {
   "cell_type": "code",
   "execution_count": 33,
   "metadata": {
    "collapsed": false
   },
   "outputs": [
    {
     "data": {
      "text/plain": [
       "16.0"
      ]
     },
     "execution_count": 33,
     "metadata": {},
     "output_type": "execute_result"
    }
   ],
   "source": [
    "x.mean()"
   ]
  },
  {
   "cell_type": "code",
   "execution_count": 34,
   "metadata": {
    "collapsed": true
   },
   "outputs": [],
   "source": [
    "x = np.random.random_integers(0, high=nyears - 1, size=nyears)"
   ]
  },
  {
   "cell_type": "code",
   "execution_count": 35,
   "metadata": {
    "collapsed": false
   },
   "outputs": [
    {
     "data": {
      "text/plain": [
       "array([ 1,  8,  4, 14, 17, 19, 22, 13,  5, 13, 19, 25, 13, 28, 22, 25, 12,\n",
       "        1, 25,  4, 27, 18, 29, 13, 22, 23, 24, 11, 28, 10])"
      ]
     },
     "execution_count": 35,
     "metadata": {},
     "output_type": "execute_result"
    }
   ],
   "source": [
    "x"
   ]
  },
  {
   "cell_type": "code",
   "execution_count": null,
   "metadata": {
    "collapsed": true
   },
   "outputs": [],
   "source": []
  },
  {
   "cell_type": "code",
   "execution_count": 36,
   "metadata": {
    "collapsed": false
   },
   "outputs": [
    {
     "name": "stdout",
     "output_type": "stream",
     "text": [
      "16.0\n",
      "16.5\n",
      "14.4\n",
      "15.5666666667\n",
      "15.0333333333\n",
      "14.5666666667\n",
      "13.5666666667\n",
      "12.3333333333\n",
      "14.7\n",
      "12.3666666667\n"
     ]
    }
   ],
   "source": [
    "np.random.seed(seed=10)\n",
    "for i in range(10):\n",
    "    print(np.random.random_integers(0, high=nyears - 1, size=nyears).mean())"
   ]
  },
  {
   "cell_type": "code",
   "execution_count": 37,
   "metadata": {
    "collapsed": false
   },
   "outputs": [
    {
     "name": "stdout",
     "output_type": "stream",
     "text": [
      "16.0\n",
      "16.5\n",
      "14.4\n",
      "15.5666666667\n",
      "15.0333333333\n",
      "14.5666666667\n",
      "13.5666666667\n",
      "12.3333333333\n",
      "14.7\n",
      "12.3666666667\n"
     ]
    }
   ],
   "source": [
    "np.random.seed(seed=10)\n",
    "for i in range(10):\n",
    "    print(np.random.random_integers(0, high=nyears - 1, size=nyears).mean())"
   ]
  },
  {
   "cell_type": "code",
   "execution_count": null,
   "metadata": {
    "collapsed": true
   },
   "outputs": [],
   "source": []
  }
 ],
 "metadata": {
  "kernelspec": {
   "display_name": "Python 3",
   "language": "python",
   "name": "python3"
  },
  "language_info": {
   "codemirror_mode": {
    "name": "ipython",
    "version": 3
   },
   "file_extension": ".py",
   "mimetype": "text/x-python",
   "name": "python",
   "nbconvert_exporter": "python",
   "pygments_lexer": "ipython3",
   "version": "3.4.3"
  }
 },
 "nbformat": 4,
 "nbformat_minor": 0
}
