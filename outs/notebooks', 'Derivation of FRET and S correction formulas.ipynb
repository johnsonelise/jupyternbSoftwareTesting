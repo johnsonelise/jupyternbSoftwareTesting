{
 "cells": [
  {
   "cell_type": "markdown",
   "metadata": {},
   "source": [
    "# Derivation of FRET and S correction formulas\n",
    "\n",
    "*Antonino Ingargiola*  -- tritemio AT gmail.com <br>\n",
    "**ORCID** [0000-0002-9348-1397](orcid.org/0000-0002-9348-1397) <br>\n",
    "**twitter** [@tritemio_sc](https://twitter.com/tritemio_sc) <br>\n",
    "\n",
    "Last updated: Oct. 2016"
   ]
  },
  {
   "cell_type": "markdown",
   "metadata": {},
   "source": [
    "# Abstract\n",
    "\n",
    "<p class='lead'>\n",
    "In this notebook I derive correction formulas (and their inverse) for $E$ and $S$ in μs-ALEX measurements. I also define the A-direct excitation as a function of different \n",
    "observable, derive their expression as a function of physical parameters \n",
    "and discuss their interpretation.\n",
    "The expressions here derived (direct excitation, E correction formula) \n",
    "are valid for any smFRET measurements (freely diffusing or immobilized). The main reference is \n",
    "(<a href=\"http://www.ncbi.nlm.nih.gov/pmc/articles/PMC1282518/\" target=\"_blank\">Lee, BJ 2005</a>,\n",
    "<a href=\"http://www.chem.ucla.edu/~michalet/papers/BJ2005.pdf\" target=\"_blank\">PDF</a>,\n",
    "<a href=\"http://www.chem.ucla.edu/~michalet/papers/BJ2005SI.pdf\" target=\"_blank\">SI</a>). \n",
    "Beyond what reported in \n",
    "(<a href=\"http://www.ncbi.nlm.nih.gov/pmc/articles/PMC1282518/\" target=\"_blank\">Lee, BJ 2005</a>), \n",
    "here I derive a more complete set of expressions together \n",
    "with their physical interpretation that was incomplete in the original publication.\n",
    "The algebraic part is performed through \n",
    "<a href=\"http://en.wikipedia.org/wiki/Computer_algebra_system\" target=\"_blank\">Computer-assisted symbolic computation</a>\n",
    "using \n",
    "<a href=\"http://sympy.org/en/index.html\" target=\"_blank\">Sympy</a>\n",
    "for proof of correctness.\n",
    "</p>"
   ]
  },
  {
   "cell_type": "markdown",
   "metadata": {},
   "source": [
    "## Revisions\n",
    "- Oct 19, 2016:\n",
    "    - Simplify notation: remove subscript $dir$ from $d$ coefficients\n",
    "    - Fix typo in $\\gamma$ definition\n",
    "- May 27, 2016: \n",
    "    - Reword abstract and other paragraphs.\n",
    "    - Fix typo in $d_{T}$ physical definition\n",
    "- May 16, 2016: \n",
    "    - Use a notation more similar to ([Lee, BJ 2005](http://www.ncbi.nlm.nih.gov/pmc/articles/PMC1282518/))\n",
    "    - Fix typo in $d_{A}$ definition (definition 5)\n",
    "    - Derive formula for $S = f(E_R, S_R)$\n",
    "- Oct 09, 2014: Added expressions for $S$\n",
    "- Aug 05, 2014: public release"
   ]
  },
  {
   "cell_type": "markdown",
   "metadata": {},
   "source": [
    "# 1. Definitions\n",
    "\n",
    "## Physical parameters\n",
    "\n",
    "We start defining the signal (e.g. the corrected counts in each channel):\n",
    "\n",
    "$$n_d = I_{D_{ex}} \\, \\sigma_{D_{ex}}^D \\,\n",
    "\\phi_D \\, \\eta_{D_{det}}^{D_{em}} \\, (1-E)$$\n",
    "\n",
    "$$n_a = I_{D_{ex}} \\, \\sigma_{D_{ex}}^D \\,\n",
    "\\phi_A \\, \\eta_{A_{det}}^{A_{em}} \\, E$$\n",
    "\n",
    "$$ n_{aa} = I_{A_{ex}} \\, \\sigma_{A_{ex}}^A \\,\n",
    "\\phi_A \\, \\eta_{A_{det}}^{A_{em}}$$\n",
    "\n",
    "$$n_a^* = n_a + Lk + Dir$$\n",
    "\n",
    "where\n",
    "\n",
    "$$Lk = I_{D_{ex}} \\, \\sigma_{D_{ex}}^D \\,\n",
    "\\phi_D \\, \\eta_{A_{det}}^{D_{em}} \\, (1-E)$$\n",
    "\n",
    "$$Dir = I_{D_{ex}} \\, \\sigma_{D_{ex}}^A \\,\n",
    "\\phi_A \\, \\eta_{A_{det}}^{A_{em}}$$\n",
    "\n",
    "$$\\gamma = \\frac{\\phi_A\\,\\eta_{A_{det}}^{A_{em}}}{\\phi_D\\,\\eta_{D_{det}}^{D_{em}}}$$\n",
    "\n",
    "$$ \\beta = \\frac{I_{A_{ex}}\\sigma_{A_{ex}}^A}{I_{D_{ex}}\\sigma_{D_{ex}}^D}$$\n",
    "\n",
    "The last quantity, $\\beta$, is obtained when fitting the gamma factor from the\n",
    "$S_R$ of a series of static samples ([Lee, BJ 2005](http://www.ncbi.nlm.nih.gov/pmc/articles/PMC1282518/))."
   ]
  },
  {
   "cell_type": "markdown",
   "metadata": {},
   "source": [
    "## Ratiometric quantities\n",
    "\n",
    "Let define the FRET efficiency $E$ and the proximity ratios $E_{PR}$ and $E_R$:\n",
    "\n",
    "$$ E = \\frac{n_a}{n_a +  \\gamma \\, n_d} \\qquad E_R = \\frac{n^*_a}{n^*_a +  n_d}\n",
    "\\qquad E_{PR} = \\frac{n_a}{n_a +  n_d}$$\n",
    "\n",
    "where $n_d$, $n_a$ are the donor and acceptor detected counts after all \n",
    "the corrections, while $n^*_a$ is the acceptor counts with only background \n",
    "correction (no leakage and direct excitation corrections).\n",
    "\n",
    "Similarly, the definitions of uncorrected stoichiometry ($S_R$ and $S_{PR}$)\n",
    "and corrected stoichiometry ($S$) are:\n",
    "\n",
    "$$ S_{R}  = \\frac{n_d + n^*_a}{n_d + n^*_a + n_{aa}}  \\qquad \n",
    "S_{PR}  = \\frac{n_d + n_a}{n_d + n_a + n_{aa}}  \\qquad \n",
    "S  = \\frac{\\gamma n_d + n_a}{\\gamma n_d + n_a + n_{aa}}$$ \n",
    "\n",
    "The relation between $n_a$ and $n^*_a$ is:\n",
    "\n",
    "$$n^*_a = n_a + Lk + Dir$$"
   ]
  },
  {
   "cell_type": "markdown",
   "metadata": {},
   "source": [
    "## Direct Acceptor Excitation\n",
    "\n",
    "The term $Dir$ can be equivalently expressed as:\n",
    "\n",
    "1) a function of $n_{aa}$:\n",
    "\n",
    "   $$  Dir = d_{AA} \\cdot n_{aa}$$\n",
    "\n",
    "2) a function of the \"corrected total signal\" $(n_a + \\gamma\\,n_d)$:\n",
    "\n",
    "   $$ Dir = d_{T} \\cdot (n_a + \\gamma\\,n_d) $$\n",
    "   \n",
    "3) a function of the \"corrected total signal divided by $\\gamma$\" $(n_a/\\gamma + n_d)$:\n",
    "\n",
    "   $$ Dir = d_{T'} \\cdot (n_a/\\gamma + n_d) $$\n",
    "\n",
    "4) a function of $n_d$:\n",
    "\n",
    "   $$ Dir = d_{D} \\cdot n_d $$\n",
    "\n",
    "5) a function of $n_a$:\n",
    "\n",
    "   $$ Dir = d_{A} \\cdot n_a $$"
   ]
  },
  {
   "cell_type": "markdown",
   "metadata": {},
   "source": [
    "### Def. 1\n",
    "The coefficient $d_{AA}$ can be computed from an acceptor-only population \n",
    "in ALEX measurement as:\n",
    "\n",
    "$$ d_{AA} = \\frac{Dir}{n_{aa}} $$\n",
    "\n",
    "$$Dir = I_{D_{ex}} \\, \\sigma_{D_{ex}}^A \\,\n",
    "\\phi_A \\, \\eta_{A_{det}}^{A_{em}}$$\n",
    "\n",
    "In terms of physical parameters it is:\n",
    "\n",
    "$$ d_{AA} = \\frac{I_{D_{ex}}}{I_{A_{ex}}} \\frac{\\sigma_{D_{ex}}^A}{\\sigma_{A_{ex}}^A} $$\n",
    "\n",
    "> **NOTE:** This coefficient is $d$ in [Lee, BJ 2005](http://www.ncbi.nlm.nih.gov/pmc/articles/PMC1282518/).\n",
    "\n",
    "### Def. 2\n",
    "\n",
    "From the definition, it follows that:\n",
    "\n",
    "$$ d_{T} = \\frac{Dir}{n_a + \\gamma\\, n_d} $$\n",
    "\n",
    "$$n_a = I_{D_{ex}} \\, \\sigma_{D_{ex}}^D \\,\n",
    "\\phi_A \\, \\eta_{A_{det}}^{A_{em}} \\, E$$\n",
    "\n",
    "To derive the expression of $d_{T}$ as a function of physical parameters,\n",
    "consider the case of 100% FRET molecule. In this case $n_d = 0$ and we obtain:\n",
    "\n",
    "$$ d_{T} = \\frac{\\sigma_{D_{ex}}^A}{\\sigma_{D_{ex}}^D} $$\n",
    "\n",
    "Now note that for $E < 1$, if $\\gamma$ is fixed, the \"corrected total signal\"\n",
    "(i.e. the corrected burst size in freely-diffusing measurements)\n",
    "$n_a + \\gamma\\, n_d$ will not change for any $E < 1$. Therefore the \n",
    "previous expression is valid for any $E$.\n",
    "\n",
    "Note that we can express $d_{T}$ as the product of $\\beta$ and $d_{AA}$ (def. 1):\n",
    "\n",
    "$$ d_{T} = \\beta \\, d_{AA}$$\n",
    "\n",
    "This relation follows from the definition of $\\beta$ reported in the previous section \n",
    "and originally defined in ([Lee, BJ 2005](http://www.ncbi.nlm.nih.gov/pmc/articles/PMC1282518/)).\n",
    "\n",
    "### Def. 3\n",
    "The coefficient $d_{T'}$ can be obtained from the $d_{T}$ expression\n",
    "noting that we simply divide the \"corrected total signal\" by $\\gamma$:\n",
    "\n",
    "$$ d_{T'} = \\frac{\\sigma_{D_{ex}}^A}{\\sigma_{D_{ex}}^A} \\gamma$$\n",
    "\n",
    "> **NOTE:** The coefficient $d_{T'}$ is $d'$ in [Lee, BJ 2005](http://www.ncbi.nlm.nih.gov/pmc/articles/PMC1282518/) paper ([p. 2943](http://www.chem.ucla.edu/~michalet/papers/BJ2005.pdf)) and [SI](http://www.chem.ucla.edu/~michalet/papers/BJ2005SI.pdf). \n",
    "In fact, the definition of $d'$ given in eq. (27) of\n",
    "[Lee, BJ 2005](http://www.ncbi.nlm.nih.gov/pmc/articles/PMC1282518/)\n",
    "involves a $E=0$ population, for which $n_d + n_a/\\gamma = n_d$.\n",
    "\n",
    "\n",
    "\n",
    "### Def. 4\n",
    "The coefficient $d_{D}$ is a function of $E$ as well as the physical parameters.\n",
    "Taking the ratio of the physical definitions of $Dir$ and $n_d$ we obtain:\n",
    "\n",
    "$$ d_{D} = \\frac{\\sigma_{D_{ex}}^A}{\\sigma_{D_{ex}}^A} \\frac{\\gamma}{1 - E} = d_{T} \\frac{\\gamma}{1 - E} $$\n",
    "\n",
    "### Def. 5\n",
    "The coefficient $d_{A}$ is a function of $E$ as well as the physical parameters.\n",
    "Taking the ratio of the physical definitions of $Dir$ and $n_a$ we obtain:\n",
    "\n",
    "$$ d_{A} = \\frac{\\sigma_{D_{ex}}^A}{\\sigma_{D_{ex}}^D} \\frac{1}{E} $$\n",
    "\n",
    "### Discussion of \"Def. 1-5\"\n",
    "\n",
    "Definitions 4 and 5 are inconvenient because the coefficient depends on $E$. \"Def. 3\" does not depend on $E$ but depends on $\\gamma$, while \"Def. 2\" depends only on the ratio of two absorption cross sections and is therefore the most general form. \"Def. 1\" can only be used in an ALEX measurement but it is easy to fit from the $S$ value of the A-only population.\n",
    "\n",
    "So, for non-ALEX measurement, \"Def. 2\" ($d_{T}$) gives the simplest and most general coefficient. It can be computed from datasheet values or from $d_{AA}$ estimated \n",
    "from an ALEX measurement using the same dyes pair and D-excitation wavelength \n",
    "($d_{T} = \\beta\\, d_{AA}$).\n",
    "\n",
    "As physical interpretation, definitions 2 and 3 are similar. In \"Def. 2\", when $E=1$, the \"corrected total signal\" is $n_a$. When $E < 1$, the \"corrected total signal\" do not change (at the same excitation intensity, and fixed $\\gamma$): they are the sum of acceptor and $\\gamma$-corrected donor counts. Similar considerations hold for \"Def. 3\" (starting from $E=0$)."
   ]
  },
  {
   "cell_type": "markdown",
   "metadata": {},
   "source": [
    "# Correcting E"
   ]
  },
  {
   "cell_type": "code",
   "execution_count": 1,
   "metadata": {
    "collapsed": false
   },
   "outputs": [],
   "source": [
    "import sympy\n",
    "from sympy import init_printing, symbols, solve, Eq\n",
    "init_printing()  # beautiful maths"
   ]
  },
  {
   "cell_type": "markdown",
   "metadata": {},
   "source": [
    "## Define the symbols"
   ]
  },
  {
   "cell_type": "code",
   "execution_count": 2,
   "metadata": {
    "collapsed": false
   },
   "outputs": [],
   "source": [
    "E, Er, Epr = symbols('E, E_R, E_PR')\n",
    "S, Sr, Spr = symbols('S, S_R, S_PR')\n",
    "nd, na, ns_a, n_dir, naa, nt = symbols('n_d n_a n^*_a n_dir n_aa n_t')\n",
    "gamma, Lk = symbols('gamma L_k')\n",
    "d_exAA, d_exT, d_exD = symbols(\"d_dirAA d_dirT, d_dirD\")"
   ]
  },
  {
   "cell_type": "code",
   "execution_count": 3,
   "metadata": {
    "collapsed": false
   },
   "outputs": [
    {
     "data": {
      "image/png": "[encoded data removed]",
      "text/latex": [
       "$$\\frac{n_{a}}{n_{a} + n_{d}}$$"
      ],
      "text/plain": [
       "   nₐ   \n",
       "────────\n",
       "nₐ + n_d"
      ]
     },
     "execution_count": 3,
     "metadata": {},
     "output_type": "execute_result"
    }
   ],
   "source": [
    "def PR(nd, na):\n",
    "    return na/(na + nd)\n",
    "\n",
    "PR(nd, na)"
   ]
  },
  {
   "cell_type": "code",
   "execution_count": 4,
   "metadata": {
    "collapsed": false
   },
   "outputs": [
    {
     "data": {
      "image/png": "[encoded data removed]",
      "text/latex": [
       "$$\\frac{n_{a}}{\\gamma n_{d} + n_{a}}$$"
      ],
      "text/plain": [
       "    nₐ    \n",
       "──────────\n",
       "γ⋅n_d + nₐ"
      ]
     },
     "execution_count": 4,
     "metadata": {},
     "output_type": "execute_result"
    }
   ],
   "source": [
    "def FRET(nd, na, gamma):\n",
    "    return na / (na + gamma*nd)\n",
    "\n",
    "FRET(nd, na, gamma)"
   ]
  },
  {
   "cell_type": "markdown",
   "metadata": {},
   "source": [
    "## Computing E from RAW values"
   ]
  },
  {
   "cell_type": "markdown",
   "metadata": {},
   "source": [
    "As a first step we write $n^*_a$ as a function of $n_a$ and save the symbolic expression:"
   ]
  },
  {
   "cell_type": "code",
   "execution_count": 5,
   "metadata": {
    "collapsed": false
   },
   "outputs": [
    {
     "data": {
      "image/png": "[encoded data removed]",
      "text/latex": [
       "$$L_{k} n_{d} + n_{a} + n_{dir}$$"
      ],
      "text/plain": [
       "Lₖ⋅n_d + nₐ + n_dir"
      ]
     },
     "execution_count": 5,
     "metadata": {},
     "output_type": "execute_result"
    }
   ],
   "source": [
    "ns_a_as_func_na = na + Lk*nd + n_dir\n",
    "ns_a_as_func_na"
   ]
  },
  {
   "cell_type": "markdown",
   "metadata": {},
   "source": [
    "Here we write the PR substituting $n^*_a$ with $n_a + L_k\\, n_d + Dir$ and $Dir$ with the \"Def. 2\" expression:"
   ]
  },
  {
   "cell_type": "code",
   "execution_count": 6,
   "metadata": {
    "collapsed": false
   },
   "outputs": [
    {
     "data": {
      "image/png": "[encoded data removed]",
      "text/latex": [
       "$$\\frac{L_{k} n_{d} + d_{dirT} \\gamma n_{d} + d_{dirT} n_{a} + n_{a}}{L_{k} n_{d} + d_{dirT} \\gamma n_{d} + d_{dirT} n_{a} + n_{a} + n_{d}}$$"
      ],
      "text/plain": [
       "   Lₖ⋅n_d + d_dirT⋅γ⋅n_d + d_dirT⋅nₐ + nₐ   \n",
       "────────────────────────────────────────────\n",
       "Lₖ⋅n_d + d_dirT⋅γ⋅n_d + d_dirT⋅nₐ + nₐ + n_d"
      ]
     },
     "execution_count": 6,
     "metadata": {},
     "output_type": "execute_result"
    }
   ],
   "source": [
    "Er_sym = sympy.factor(PR(nd, ns_a).subs(ns_a, ns_a_as_func_na).subs(n_dir, d_exT*(nd*gamma + na)))\n",
    "Er_sym"
   ]
  },
  {
   "cell_type": "markdown",
   "metadata": {},
   "source": [
    "The previous expression is the proximity ratio $E_R$. We \"solve\" it to obtain $n_d$ as a function of $E_R$. Then we replace the obtained expression in the FRET formula:"
   ]
  },
  {
   "cell_type": "code",
   "execution_count": 7,
   "metadata": {
    "collapsed": false
   },
   "outputs": [
    {
     "data": {
      "image/png": "[encoded data removed]",
      "text/latex": [
       "$$\\frac{E_{R} \\left(L_{k} + d_{dirT} \\gamma + 1\\right) - L_{k} - d_{dirT} \\gamma}{E_{R} \\left(L_{k} - \\gamma + 1\\right) - L_{k} + \\gamma}$$"
      ],
      "text/plain": [
       "E_R⋅(Lₖ + d_dirT⋅γ + 1) - Lₖ - d_dirT⋅γ\n",
       "───────────────────────────────────────\n",
       "       E_R⋅(Lₖ - γ + 1) - Lₖ + γ       "
      ]
     },
     "execution_count": 7,
     "metadata": {},
     "output_type": "execute_result"
    }
   ],
   "source": [
    "E_func_Er = sympy.factor(FRET(nd, na, gamma).subs(nd, solve(Er_sym - Er, nd)[0])).collect(Er)\n",
    "E_func_Er"
   ]
  },
  {
   "cell_type": "code",
   "execution_count": 8,
   "metadata": {
    "collapsed": false
   },
   "outputs": [
    {
     "name": "stdout",
     "output_type": "stream",
     "text": [
      "\\frac{E_{R} \\left(L_{k} + d_{dirT} \\gamma + 1\\right) - L_{k} - d_{dirT} \\gamma}{E_{R} \\left(L_{k} - \\gamma + 1\\right) - L_{k} + \\gamma}\n"
     ]
    }
   ],
   "source": [
    "print(sympy.printing.latex(E_func_Er))"
   ]
  },
  {
   "cell_type": "code",
   "execution_count": 9,
   "metadata": {
    "collapsed": false
   },
   "outputs": [
    {
     "data": {
      "image/png": "[encoded data removed]",
      "text/latex": [
       "$$\\frac{E_{R} \\left(L_{k} + d_{dirT} \\gamma + 1\\right) - L_{k} - d_{dirT} \\gamma}{E_{R} \\left(L_{k} - \\gamma + 1\\right) - L_{k} + \\gamma}$$"
      ],
      "text/plain": [
       "E_R⋅(Lₖ + d_dirT⋅γ + 1) - Lₖ - d_dirT⋅γ\n",
       "───────────────────────────────────────\n",
       "       E_R⋅(Lₖ - γ + 1) - Lₖ + γ       "
      ]
     },
     "execution_count": 9,
     "metadata": {},
     "output_type": "execute_result"
    }
   ],
   "source": [
    "E_func_Er"
   ]
  },
  {
   "cell_type": "markdown",
   "metadata": {},
   "source": [
    "The previous expression is $E$ as a function of $E_R$, including gamma, leakage and direct excitation coefficients. It is the same of [equation S9](http://www.chem.ucla.edu/~michalet/papers/BJ2005SI.pdf) when we replace $d_{exT}\\gamma$ with $d'$.\n",
    "\n",
    "From this symbolic expression we can define the python function:"
   ]
  },
  {
   "cell_type": "code",
   "execution_count": 10,
   "metadata": {
    "collapsed": false
   },
   "outputs": [
    {
     "name": "stdout",
     "output_type": "stream",
     "text": [
      "(E_R*(L_k + d_dirT*gamma + 1) - L_k - d_dirT*gamma)/(E_R*(L_k - gamma + 1) - L_k + gamma)\n"
     ]
    }
   ],
   "source": [
    "print(E_func_Er)"
   ]
  },
  {
   "cell_type": "code",
   "execution_count": 11,
   "metadata": {
    "collapsed": false
   },
   "outputs": [],
   "source": [
    "def correct_E_gamma_leak_dir(E_R, gamma, L_k=0, d_dirT=0):\n",
    "    E_R = np.asarray(E_R)\n",
    "    return ((E_R*(L_k + d_dirT*gamma + 1) - L_k - d_dirT*gamma) / \n",
    "            (E_R*(L_k - gamma + 1) - L_k + gamma))"
   ]
  },
  {
   "cell_type": "markdown",
   "metadata": {},
   "source": [
    "In case we want to compute $E$ using the coefficient $d_{AA}$ \n",
    "for direct excitation (as obtained from ALEX measurements) we\n",
    "simply replace the relation:\n",
    "\n",
    "$$ d_{T} = \\beta\\, d_{AA}$$ \n",
    "\n",
    "in the previous expression."
   ]
  },
  {
   "cell_type": "markdown",
   "metadata": {},
   "source": [
    "Now we can derive the simpler expression in the case we want to correct only one parameter.\n",
    "\n",
    "For only gamma correction we obtain:"
   ]
  },
  {
   "cell_type": "code",
   "execution_count": 12,
   "metadata": {
    "collapsed": false
   },
   "outputs": [
    {
     "data": {
      "image/png": "[encoded data removed]",
      "text/latex": [
       "$$\\frac{E_{R}}{E_{R} \\left(- \\gamma + 1\\right) + \\gamma}$$"
      ],
      "text/plain": [
       "      E_R       \n",
       "────────────────\n",
       "E_R⋅(-γ + 1) + γ"
      ]
     },
     "execution_count": 12,
     "metadata": {},
     "output_type": "execute_result"
    }
   ],
   "source": [
    "E_func_Er.subs(Lk, 0).subs(d_exT, 0)"
   ]
  },
  {
   "cell_type": "markdown",
   "metadata": {},
   "source": [
    "For the only leakage correction we obtain:"
   ]
  },
  {
   "cell_type": "code",
   "execution_count": 13,
   "metadata": {
    "collapsed": false
   },
   "outputs": [
    {
     "data": {
      "image/png": "[encoded data removed]",
      "text/latex": [
       "$$\\frac{E_{R} \\left(L_{k} + 1\\right) - L_{k}}{E_{R} L_{k} - L_{k} + 1}$$"
      ],
      "text/plain": [
       "E_R⋅(Lₖ + 1) - Lₖ\n",
       "─────────────────\n",
       " E_R⋅Lₖ - Lₖ + 1 "
      ]
     },
     "execution_count": 13,
     "metadata": {},
     "output_type": "execute_result"
    }
   ],
   "source": [
    "sympy.collect(E_func_Er.subs(gamma, 1).subs(d_exT, 0), Er)"
   ]
  },
  {
   "cell_type": "markdown",
   "metadata": {},
   "source": [
    "For the only direct excitation correction we obtain:"
   ]
  },
  {
   "cell_type": "code",
   "execution_count": 14,
   "metadata": {
    "collapsed": false
   },
   "outputs": [
    {
     "data": {
      "image/png": "[encoded data removed]",
      "text/latex": [
       "$$E_{R} \\left(d_{dirT} + 1\\right) - d_{dirT}$$"
      ],
      "text/plain": [
       "E_R⋅(d_dirT + 1) - d_dirT"
      ]
     },
     "execution_count": 14,
     "metadata": {},
     "output_type": "execute_result"
    }
   ],
   "source": [
    "sympy.collect(E_func_Er.subs(gamma, 1).subs(Lk, 0), Er)"
   ]
  },
  {
   "cell_type": "markdown",
   "metadata": {},
   "source": [
    "> **NOTE:** The latter 3 formulas for correcting only one coefficient cannot be chained. In other words, applying them in sequence **do not** yield the same result as applying the complete formula."
   ]
  },
  {
   "cell_type": "markdown",
   "metadata": {},
   "source": [
    "## Computing RAW values from E"
   ]
  },
  {
   "cell_type": "markdown",
   "metadata": {},
   "source": [
    "Conversely, to compute $E_R$  as a function of $E$ we invert the previous expression:"
   ]
  },
  {
   "cell_type": "code",
   "execution_count": 15,
   "metadata": {
    "collapsed": false
   },
   "outputs": [],
   "source": [
    "Er_func_E = solve(E - E_func_Er, Er)[0]"
   ]
  },
  {
   "cell_type": "code",
   "execution_count": 16,
   "metadata": {
    "collapsed": false
   },
   "outputs": [
    {
     "data": {
      "image/png": "[encoded data removed]",
      "text/latex": [
       "$$\\frac{E \\left(- L_{k} + \\gamma\\right) + L_{k} + d_{dirT} \\gamma}{E \\left(- L_{k} + \\gamma - 1\\right) + L_{k} + d_{dirT} \\gamma + 1}$$"
      ],
      "text/plain": [
       "    E⋅(-Lₖ + γ) + Lₖ + d_dirT⋅γ    \n",
       "───────────────────────────────────\n",
       "E⋅(-Lₖ + γ - 1) + Lₖ + d_dirT⋅γ + 1"
      ]
     },
     "execution_count": 16,
     "metadata": {},
     "output_type": "execute_result"
    }
   ],
   "source": [
    "sympy.collect(Er_func_E, E)"
   ]
  },
  {
   "cell_type": "markdown",
   "metadata": {},
   "source": [
    "And we define the python function:"
   ]
  },
  {
   "cell_type": "code",
   "execution_count": 17,
   "metadata": {
    "collapsed": false
   },
   "outputs": [
    {
     "name": "stdout",
     "output_type": "stream",
     "text": [
      "(E*(-L_k + gamma) + L_k + d_dirT*gamma)/(E*(-L_k + gamma - 1) + L_k + d_dirT*gamma + 1)\n"
     ]
    }
   ],
   "source": [
    "print(sympy.collect(Er_func_E, E))"
   ]
  },
  {
   "cell_type": "code",
   "execution_count": 18,
   "metadata": {
    "collapsed": false
   },
   "outputs": [],
   "source": [
    "def uncorrect_E_gamma_leak_dir(E, gamma, L_k=0, d_dirT=0):\n",
    "    E = np.asarray(E)\n",
    "    return ((E*(-L_k + gamma) + L_k + d_dirT*gamma) /\n",
    "            (E*(-L_k + gamma - 1) + L_k + d_dirT*gamma + 1))"
   ]
  },
  {
   "cell_type": "markdown",
   "metadata": {},
   "source": [
    "And the inverse for only a single correction are (in the order gamma, leakage, direct excitation)"
   ]
  },
  {
   "cell_type": "code",
   "execution_count": 19,
   "metadata": {
    "collapsed": false
   },
   "outputs": [
    {
     "data": {
      "image/png": "[encoded data removed]",
      "text/latex": [
       "$$\\frac{E \\gamma}{E \\gamma - E + 1}$$"
      ],
      "text/plain": [
       "    E⋅γ    \n",
       "───────────\n",
       "E⋅γ - E + 1"
      ]
     },
     "execution_count": 19,
     "metadata": {},
     "output_type": "execute_result"
    }
   ],
   "source": [
    "Er_func_E.subs(Lk, 0).subs(d_exT, 0)"
   ]
  },
  {
   "cell_type": "code",
   "execution_count": 20,
   "metadata": {
    "collapsed": false
   },
   "outputs": [
    {
     "data": {
      "image/png": "[encoded data removed]",
      "text/latex": [
       "$$\\frac{- E L_{k} + E + L_{k}}{- E L_{k} + L_{k} + 1}$$"
      ],
      "text/plain": [
       "-E⋅Lₖ + E + Lₖ\n",
       "──────────────\n",
       "-E⋅Lₖ + Lₖ + 1"
      ]
     },
     "execution_count": 20,
     "metadata": {},
     "output_type": "execute_result"
    }
   ],
   "source": [
    "sympy.collect(Er_func_E.subs(gamma, 1).subs(d_exT, 0), Er)"
   ]
  },
  {
   "cell_type": "code",
   "execution_count": 21,
   "metadata": {
    "collapsed": false
   },
   "outputs": [
    {
     "data": {
      "image/png": "[encoded data removed]",
      "text/latex": [
       "$$\\frac{E + d_{dirT}}{d_{dirT} + 1}$$"
      ],
      "text/plain": [
       "E + d_dirT\n",
       "──────────\n",
       "d_dirT + 1"
      ]
     },
     "execution_count": 21,
     "metadata": {},
     "output_type": "execute_result"
    }
   ],
   "source": [
    "sympy.collect(Er_func_E.subs(gamma, 1).subs(Lk, 0), Er)"
   ]
  },
  {
   "cell_type": "markdown",
   "metadata": {},
   "source": [
    "# Correcting S\n",
    "\n",
    "In this section we derive the expression of $S$ (corrected stoichiometry) \n",
    "as a function of $S_{PR}$ or $S_R$ (uncorrected stoichiometry). \n",
    "See section 1 for the expression of $S$ and $S_R$ and $S_{PR}$. \n",
    "\n",
    "## Define the symbols"
   ]
  },
  {
   "cell_type": "code",
   "execution_count": 22,
   "metadata": {
    "collapsed": false
   },
   "outputs": [
    {
     "data": {
      "image/png": "[encoded data removed]",
      "text/latex": [
       "$$\\frac{n_{a} + n_{d}}{n_{a} + n_{aa} + n_{d}}$$"
      ],
      "text/plain": [
       "   nₐ + n_d   \n",
       "──────────────\n",
       "nₐ + nₐₐ + n_d"
      ]
     },
     "execution_count": 22,
     "metadata": {},
     "output_type": "execute_result"
    }
   ],
   "source": [
    "def StoichRaw(nd, na, naa):\n",
    "    return (na + nd)/(na + nd + naa)\n",
    "\n",
    "StoichRaw(nd, na, naa)"
   ]
  },
  {
   "cell_type": "code",
   "execution_count": 23,
   "metadata": {
    "collapsed": false
   },
   "outputs": [
    {
     "data": {
      "image/png": "[encoded data removed]",
      "text/latex": [
       "$$\\frac{\\gamma n_{d} + n_{a}}{\\gamma n_{d} + n_{a} + n_{aa}}$$"
      ],
      "text/plain": [
       "   γ⋅n_d + nₐ   \n",
       "────────────────\n",
       "γ⋅n_d + nₐ + nₐₐ"
      ]
     },
     "execution_count": 23,
     "metadata": {},
     "output_type": "execute_result"
    }
   ],
   "source": [
    "def Stoich(nd, na, naa, gamma):\n",
    "    return (na + gamma*nd)/(na + gamma*nd + naa)\n",
    "\n",
    "Stoich(nd, na, naa, gamma)"
   ]
  },
  {
   "cell_type": "markdown",
   "metadata": {
    "collapsed": true
   },
   "source": [
    "## Computing S from RAW values\n",
    "\n",
    "As a first step we write $n^*_a$ as a function of $n_a$ and save the symbolic expression:"
   ]
  },
  {
   "cell_type": "code",
   "execution_count": 24,
   "metadata": {
    "collapsed": false
   },
   "outputs": [
    {
     "data": {
      "image/png": "[encoded data removed]",
      "text/latex": [
       "$$L_{k} n_{d} + n_{a} + n_{dir}$$"
      ],
      "text/plain": [
       "Lₖ⋅n_d + nₐ + n_dir"
      ]
     },
     "execution_count": 24,
     "metadata": {},
     "output_type": "execute_result"
    }
   ],
   "source": [
    "ns_a_as_func_na = na + Lk*nd + n_dir\n",
    "ns_a_as_func_na"
   ]
  },
  {
   "cell_type": "markdown",
   "metadata": {},
   "source": [
    "Here we write $S_R$ substituting $n^*_a$ with $n_a + L_k n_d + Dir$ and \n",
    "$Dir$ with $d_{T}(n_a + \\gamma\\,n_d)$ (Definition 2):"
   ]
  },
  {
   "cell_type": "code",
   "execution_count": 25,
   "metadata": {
    "collapsed": false
   },
   "outputs": [
    {
     "data": {
      "image/png": "[encoded data removed]",
      "text/latex": [
       "$$\\frac{L_{k} n_{d} + d_{dirT} \\gamma n_{d} + d_{dirT} n_{a} + n_{a} + n_{d}}{L_{k} n_{d} + d_{dirT} \\gamma n_{d} + d_{dirT} n_{a} + n_{a} + n_{aa} + n_{d}}$$"
      ],
      "text/plain": [
       "   Lₖ⋅n_d + d_dirT⋅γ⋅n_d + d_dirT⋅nₐ + nₐ + n_d   \n",
       "──────────────────────────────────────────────────\n",
       "Lₖ⋅n_d + d_dirT⋅γ⋅n_d + d_dirT⋅nₐ + nₐ + nₐₐ + n_d"
      ]
     },
     "execution_count": 25,
     "metadata": {},
     "output_type": "execute_result"
    }
   ],
   "source": [
    "Sr_sym = sympy.factor(\n",
    "    StoichRaw(nd, ns_a, naa).subs(ns_a, ns_a_as_func_na).subs(n_dir, d_exT*(na + gamma*nd))\n",
    "    )\n",
    "Sr_sym"
   ]
  },
  {
   "cell_type": "markdown",
   "metadata": {},
   "source": [
    "The previous expression is $S_R$. We can use it to express\n",
    "$n_a$ as a function of $S_R$ and $n_d$:"
   ]
  },
  {
   "cell_type": "code",
   "execution_count": 26,
   "metadata": {
    "collapsed": false
   },
   "outputs": [
    {
     "data": {
      "image/png": "[encoded data removed]",
      "text/latex": [
       "$$\\frac{\\gamma n_{d} + n_{a}}{\\gamma n_{d} + n_{a} + n_{aa}}$$"
      ],
      "text/plain": [
       "   γ⋅n_d + nₐ   \n",
       "────────────────\n",
       "γ⋅n_d + nₐ + nₐₐ"
      ]
     },
     "execution_count": 26,
     "metadata": {},
     "output_type": "execute_result"
    }
   ],
   "source": [
    "S_sym = Stoich(nd, na, naa, gamma)\n",
    "S_sym"
   ]
  },
  {
   "cell_type": "code",
   "execution_count": 27,
   "metadata": {
    "collapsed": false
   },
   "outputs": [
    {
     "data": {
      "image/png": "[encoded data removed]",
      "text/latex": [
       "$$\\frac{L_{k} S_{R} n_{d} - L_{k} n_{d} - S_{R} \\gamma n_{d} + S_{R} n_{aa} + S_{R} n_{d} + \\gamma n_{d} - n_{d}}{L_{k} S_{R} n_{d} - L_{k} n_{d} - S_{R} d_{dirT} n_{aa} - S_{R} \\gamma n_{d} + S_{R} n_{d} + d_{dirT} n_{aa} + \\gamma n_{d} + n_{aa} - n_{d}}$$"
      ],
      "text/plain": [
       "             Lₖ⋅S_R⋅n_d - Lₖ⋅n_d - S_R⋅γ⋅n_d + S_R⋅nₐₐ + S_R⋅n_d + γ⋅n_d - n_d\n",
       "──────────────────────────────────────────────────────────────────────────────\n",
       "Lₖ⋅S_R⋅n_d - Lₖ⋅n_d - S_R⋅d_dirT⋅nₐₐ - S_R⋅γ⋅n_d + S_R⋅n_d + d_dirT⋅nₐₐ + γ⋅n_\n",
       "\n",
       "             \n",
       "─────────────\n",
       "d + nₐₐ - n_d"
      ]
     },
     "execution_count": 27,
     "metadata": {},
     "output_type": "execute_result"
    }
   ],
   "source": [
    "S_func_Sr_nx = S_sym.subs(na, solve(Sr_sym - Sr, na)[0]).factor()\n",
    "S_func_Sr_nx"
   ]
  },
  {
   "cell_type": "markdown",
   "metadata": {
    "collapsed": true
   },
   "source": [
    "The previous expression if $S$ as a function of $S_R$, $n_d$, $n_a$,\n",
    "$n_{aa}$ and correction coefficients.\n",
    "\n",
    "Now we use the expression of $E$ to try to eliminate \n",
    "$n_d$, $n_a$ and $n_{aa}$\n",
    "from the previous expression:"
   ]
  },
  {
   "cell_type": "code",
   "execution_count": 28,
   "metadata": {
    "collapsed": false
   },
   "outputs": [
    {
     "data": {
      "image/png": "[encoded data removed]",
      "text/latex": [
       "$$\\frac{n_{a}}{\\gamma n_{d} + n_{a}}$$"
      ],
      "text/plain": [
       "    nₐ    \n",
       "──────────\n",
       "γ⋅n_d + nₐ"
      ]
     },
     "execution_count": 28,
     "metadata": {},
     "output_type": "execute_result"
    }
   ],
   "source": [
    "E_sym = FRET(nd, na, gamma)\n",
    "E_sym"
   ]
  },
  {
   "cell_type": "code",
   "execution_count": 29,
   "metadata": {
    "collapsed": false
   },
   "outputs": [
    {
     "data": {
      "image/png": "[encoded data removed]",
      "text/latex": [
       "$$\\frac{1}{S_{R} d_{dirT} + S_{R} - d_{dirT} - 1} \\left(- L_{k} S_{R} n_{d} + L_{k} n_{d} - S_{R} d_{dirT} \\gamma n_{d} - S_{R} n_{aa} - S_{R} n_{d} + d_{dirT} \\gamma n_{d} + n_{d}\\right)$$"
      ],
      "text/plain": [
       "-Lₖ⋅S_R⋅n_d + Lₖ⋅n_d - S_R⋅d_dirT⋅γ⋅n_d - S_R⋅nₐₐ - S_R⋅n_d + d_dirT⋅γ⋅n_d + n\n",
       "──────────────────────────────────────────────────────────────────────────────\n",
       "                         S_R⋅d_dirT + S_R - d_dirT - 1                        \n",
       "\n",
       "_d\n",
       "──\n",
       "  "
      ]
     },
     "execution_count": 29,
     "metadata": {},
     "output_type": "execute_result"
    }
   ],
   "source": [
    "na_func_Sr = solve(Sr_sym - Sr, na)[0]\n",
    "na_func_Sr"
   ]
  },
  {
   "cell_type": "code",
   "execution_count": 30,
   "metadata": {
    "collapsed": false
   },
   "outputs": [
    {
     "data": {
      "image/png": "[encoded data removed]",
      "text/latex": [
       "$$\\frac{L_{k} S_{R} n_{d} - L_{k} n_{d} + S_{R} d_{dirT} \\gamma n_{d} + S_{R} n_{aa} + S_{R} n_{d} - d_{dirT} \\gamma n_{d} - n_{d}}{L_{k} S_{R} n_{d} - L_{k} n_{d} - S_{R} \\gamma n_{d} + S_{R} n_{aa} + S_{R} n_{d} + \\gamma n_{d} - n_{d}}$$"
      ],
      "text/plain": [
       "Lₖ⋅S_R⋅n_d - Lₖ⋅n_d + S_R⋅d_dirT⋅γ⋅n_d + S_R⋅nₐₐ + S_R⋅n_d - d_dirT⋅γ⋅n_d - n_\n",
       "──────────────────────────────────────────────────────────────────────────────\n",
       "       Lₖ⋅S_R⋅n_d - Lₖ⋅n_d - S_R⋅γ⋅n_d + S_R⋅nₐₐ + S_R⋅n_d + γ⋅n_d - n_d      \n",
       "\n",
       "d\n",
       "─\n",
       " "
      ]
     },
     "execution_count": 30,
     "metadata": {},
     "output_type": "execute_result"
    }
   ],
   "source": [
    "E_func_Sr = E_sym.subs(na, na_func_Sr).factor()\n",
    "E_func_Sr"
   ]
  },
  {
   "cell_type": "code",
   "execution_count": 31,
   "metadata": {
    "collapsed": false
   },
   "outputs": [
    {
     "data": {
      "image/png": "[encoded data removed]",
      "text/latex": [
       "$$\\frac{S_{R} n_{aa} \\left(- E + 1\\right)}{E L_{k} S_{R} - E L_{k} - E S_{R} \\gamma + E S_{R} + E \\gamma - E - L_{k} S_{R} + L_{k} - S_{R} d_{dirT} \\gamma - S_{R} + d_{dirT} \\gamma + 1}$$"
      ],
      "text/plain": [
       "                                       S_R⋅nₐₐ⋅(-E + 1)                       \n",
       "──────────────────────────────────────────────────────────────────────────────\n",
       "E⋅Lₖ⋅S_R - E⋅Lₖ - E⋅S_R⋅γ + E⋅S_R + E⋅γ - E - Lₖ⋅S_R + Lₖ - S_R⋅d_dirT⋅γ - S_R\n",
       "\n",
       "               \n",
       "───────────────\n",
       " + d_dirT⋅γ + 1"
      ]
     },
     "execution_count": 31,
     "metadata": {},
     "output_type": "execute_result"
    }
   ],
   "source": [
    "nd_func_E_Sr = solve(E_func_Sr - E, nd)[0]\n",
    "nd_func_E_Sr"
   ]
  },
  {
   "cell_type": "code",
   "execution_count": 32,
   "metadata": {
    "collapsed": false
   },
   "outputs": [
    {
     "data": {
      "image/png": "[encoded data removed]",
      "text/latex": [
       "$$\\frac{S_{R} \\gamma}{E L_{k} S_{R} - E L_{k} - E S_{R} \\gamma + E S_{R} + E \\gamma - E - L_{k} S_{R} + L_{k} - S_{R} d_{dirT} \\gamma + S_{R} \\gamma - S_{R} + d_{dirT} \\gamma + 1}$$"
      ],
      "text/plain": [
       "                                                S_R⋅γ                         \n",
       "──────────────────────────────────────────────────────────────────────────────\n",
       "E⋅Lₖ⋅S_R - E⋅Lₖ - E⋅S_R⋅γ + E⋅S_R + E⋅γ - E - Lₖ⋅S_R + Lₖ - S_R⋅d_dirT⋅γ + S_R\n",
       "\n",
       "                       \n",
       "───────────────────────\n",
       "⋅γ - S_R + d_dirT⋅γ + 1"
      ]
     },
     "execution_count": 32,
     "metadata": {},
     "output_type": "execute_result"
    }
   ],
   "source": [
    "S_func_E_Sr = S_func_Sr_nx.replace(nd, nd_func_E_Sr).factor()\n",
    "S_func_E_Sr"
   ]
  },
  {
   "cell_type": "markdown",
   "metadata": {},
   "source": [
    "Note that in the previous expression there is no more\n",
    "dependency on $n_{aa}$ (we have not eliminated the variable,\n",
    "it simply simplifies).\n",
    "\n",
    "The previous expression is $S$ as a function of $S_{R}$, $E$ \n",
    "(gamma corrected) and all correction coefficients.\n",
    "\n",
    "Let's replace $E$ with $E_{R}$:"
   ]
  },
  {
   "cell_type": "code",
   "execution_count": 33,
   "metadata": {
    "collapsed": false
   },
   "outputs": [
    {
     "data": {
      "image/png": "[encoded data removed]",
      "text/latex": [
       "$$L_{k} n_{d} + n_{a} + n_{dir}$$"
      ],
      "text/plain": [
       "Lₖ⋅n_d + nₐ + n_dir"
      ]
     },
     "execution_count": 33,
     "metadata": {},
     "output_type": "execute_result"
    }
   ],
   "source": [
    "ns_a_as_func_na"
   ]
  },
  {
   "cell_type": "code",
   "execution_count": 34,
   "metadata": {
    "collapsed": false
   },
   "outputs": [
    {
     "data": {
      "image/png": "[encoded data removed]",
      "text/latex": [
       "$$\\frac{L_{k} n_{d} + d_{dirT} \\left(\\gamma n_{d} + n_{a}\\right) + n_{a}}{L_{k} n_{d} + d_{dirT} \\left(\\gamma n_{d} + n_{a}\\right) + n_{a} + n_{d}}$$"
      ],
      "text/plain": [
       "   Lₖ⋅n_d + d_dirT⋅(γ⋅n_d + nₐ) + nₐ   \n",
       "───────────────────────────────────────\n",
       "Lₖ⋅n_d + d_dirT⋅(γ⋅n_d + nₐ) + nₐ + n_d"
      ]
     },
     "execution_count": 34,
     "metadata": {},
     "output_type": "execute_result"
    }
   ],
   "source": [
    "Er_sym = PR(nd, ns_a).subs(ns_a, ns_a_as_func_na).subs(n_dir, d_exT*(nd*gamma + na))\n",
    "Er_sym"
   ]
  },
  {
   "cell_type": "code",
   "execution_count": 35,
   "metadata": {
    "collapsed": false
   },
   "outputs": [
    {
     "data": {
      "image/png": "[encoded data removed]",
      "text/latex": [
       "$$\\frac{E_{R} L_{k} + E_{R} d_{dirT} \\gamma + E_{R} - L_{k} - d_{dirT} \\gamma}{E_{R} L_{k} - E_{R} \\gamma + E_{R} - L_{k} + \\gamma}$$"
      ],
      "text/plain": [
       "E_R⋅Lₖ + E_R⋅d_dirT⋅γ + E_R - Lₖ - d_dirT⋅γ\n",
       "───────────────────────────────────────────\n",
       "       E_R⋅Lₖ - E_R⋅γ + E_R - Lₖ + γ       "
      ]
     },
     "execution_count": 35,
     "metadata": {},
     "output_type": "execute_result"
    }
   ],
   "source": [
    "E_func_Er = FRET(nd, na, gamma).subs(nd, solve(Er_sym - Er, nd)[0]).factor()\n",
    "E_func_Er"
   ]
  },
  {
   "cell_type": "code",
   "execution_count": 36,
   "metadata": {
    "collapsed": false
   },
   "outputs": [
    {
     "data": {
      "image/png": "[encoded data removed]",
      "text/latex": [
       "$$\\frac{S_{R} \\left(E_{R} L_{k} - E_{R} \\gamma + E_{R} - L_{k} + \\gamma\\right)}{E_{R} L_{k} S_{R} - E_{R} S_{R} \\gamma + E_{R} S_{R} - L_{k} S_{R} - S_{R} d_{dirT} + S_{R} \\gamma - S_{R} + d_{dirT} + 1}$$"
      ],
      "text/plain": [
       "                       S_R⋅(E_R⋅Lₖ - E_R⋅γ + E_R - Lₖ + γ)                    \n",
       "──────────────────────────────────────────────────────────────────────────────\n",
       "E_R⋅Lₖ⋅S_R - E_R⋅S_R⋅γ + E_R⋅S_R - Lₖ⋅S_R - S_R⋅d_dirT + S_R⋅γ - S_R + d_dirT \n",
       "\n",
       "   \n",
       "───\n",
       "+ 1"
      ]
     },
     "execution_count": 36,
     "metadata": {},
     "output_type": "execute_result"
    }
   ],
   "source": [
    "S_func_Er_Sr = S_func_E_Sr.replace(E, E_func_Er).factor()\n",
    "S_func_Er_Sr "
   ]
  },
  {
   "cell_type": "code",
   "execution_count": 37,
   "metadata": {
    "collapsed": false
   },
   "outputs": [
    {
     "name": "stdout",
     "output_type": "stream",
     "text": [
      "\\frac{S_{R} \\left(E_{R} L_{k} - E_{R} \\gamma + E_{R} - L_{k} + \\gamma\\right)}{E_{R} L_{k} S_{R} - E_{R} S_{R} \\gamma + E_{R} S_{R} - L_{k} S_{R} - S_{R} d_{dirT} + S_{R} \\gamma - S_{R} + d_{dirT} + 1}\n"
     ]
    }
   ],
   "source": [
    "print(sympy.printing.latex(S_func_Er_Sr))"
   ]
  },
  {
   "cell_type": "markdown",
   "metadata": {},
   "source": [
    "The previous expression is $S$ as a function of $S_{R}$, $E_{R}$ and \n",
    "all correction coefficients.\n",
    "\n",
    "Let's make a python function out of it:"
   ]
  },
  {
   "cell_type": "code",
   "execution_count": 38,
   "metadata": {
    "collapsed": false
   },
   "outputs": [
    {
     "name": "stdout",
     "output_type": "stream",
     "text": [
      "S_R*(E_R*L_k - E_R*gamma + E_R - L_k + gamma)/(E_R*L_k*S_R - E_R*S_R*gamma + E_R*S_R - L_k*S_R - S_R*d_dirT + S_R*gamma - S_R + d_dirT + 1)\n"
     ]
    }
   ],
   "source": [
    "print(S_func_Er_Sr)"
   ]
  },
  {
   "cell_type": "code",
   "execution_count": 39,
   "metadata": {
    "collapsed": false
   },
   "outputs": [],
   "source": [
    "def correct_S(E_R, S_R, gamma, L_k, d_dirT):\n",
    "    return (S_R*(E_R*L_k - E_R*gamma + E_R - L_k + gamma) /\n",
    "            (E_R*L_k*S_R - E_R*S_R*gamma + E_R*S_R - L_k*S_R - S_R*d_dirT + \n",
    "             S_R*gamma - S_R + d_dirT + 1))"
   ]
  },
  {
   "cell_type": "markdown",
   "metadata": {},
   "source": [
    "If we want to express $S$ as a function of $S_{PR}$ (i.e. the\n",
    "stoichiometry with leakage and direct excitation correction),\n",
    "we just set $L_k = 0$ and $d_{T} = 0 $ in the previous expression."
   ]
  },
  {
   "cell_type": "code",
   "execution_count": 40,
   "metadata": {
    "collapsed": false
   },
   "outputs": [
    {
     "data": {
      "image/png": "[encoded data removed]",
      "text/latex": [
       "$$\\frac{S_{PR} \\gamma}{- E S_{PR} \\gamma + E S_{PR} + E \\gamma - E + S_{PR} \\gamma - S_{PR} + 1}$$"
      ],
      "text/plain": [
       "                     S_PR⋅γ                     \n",
       "────────────────────────────────────────────────\n",
       "-E⋅S_PR⋅γ + E⋅S_PR + E⋅γ - E + S_PR⋅γ - S_PR + 1"
      ]
     },
     "execution_count": 40,
     "metadata": {},
     "output_type": "execute_result"
    }
   ],
   "source": [
    "S_func_E_Spr = (S_func_E_Sr.replace(Lk, 0).replace(d_exT, 0)\n",
    "                .replace(Sr, Spr).replace(Er, Epr))\n",
    "S_func_E_Spr"
   ]
  },
  {
   "cell_type": "code",
   "execution_count": 41,
   "metadata": {
    "collapsed": false
   },
   "outputs": [
    {
     "data": {
      "image/png": "[encoded data removed]",
      "text/latex": [
       "$$\\frac{S_{PR} \\left(- E_{PR} \\gamma + E_{PR} + \\gamma\\right)}{- E_{PR} S_{PR} \\gamma + E_{PR} S_{PR} + S_{PR} \\gamma - S_{PR} + 1}$$"
      ],
      "text/plain": [
       "         S_PR⋅(-E_PR⋅γ + E_PR + γ)          \n",
       "────────────────────────────────────────────\n",
       "-E_PR⋅S_PR⋅γ + E_PR⋅S_PR + S_PR⋅γ - S_PR + 1"
      ]
     },
     "execution_count": 41,
     "metadata": {},
     "output_type": "execute_result"
    }
   ],
   "source": [
    "S_func_Epr_Spr = (S_func_Er_Sr.replace(Lk, 0).replace(d_exT, 0)\n",
    "                  .replace(Sr, Spr).replace(Er, Epr))\n",
    "S_func_Epr_Spr"
   ]
  },
  {
   "cell_type": "markdown",
   "metadata": {},
   "source": [
    "## Computing RAW values from S"
   ]
  },
  {
   "cell_type": "code",
   "execution_count": 42,
   "metadata": {
    "collapsed": false
   },
   "outputs": [
    {
     "data": {
      "image/png": "[encoded data removed]",
      "text/latex": [
       "$$\\frac{S_{R} \\left(E_{R} L_{k} - E_{R} \\gamma + E_{R} - L_{k} + \\gamma\\right)}{E_{R} L_{k} S_{R} - E_{R} S_{R} \\gamma + E_{R} S_{R} - L_{k} S_{R} - S_{R} d_{dirT} + S_{R} \\gamma - S_{R} + d_{dirT} + 1}$$"
      ],
      "text/plain": [
       "                       S_R⋅(E_R⋅Lₖ - E_R⋅γ + E_R - Lₖ + γ)                    \n",
       "──────────────────────────────────────────────────────────────────────────────\n",
       "E_R⋅Lₖ⋅S_R - E_R⋅S_R⋅γ + E_R⋅S_R - Lₖ⋅S_R - S_R⋅d_dirT + S_R⋅γ - S_R + d_dirT \n",
       "\n",
       "   \n",
       "───\n",
       "+ 1"
      ]
     },
     "execution_count": 42,
     "metadata": {},
     "output_type": "execute_result"
    }
   ],
   "source": [
    "S_func_Er_Sr"
   ]
  },
  {
   "cell_type": "code",
   "execution_count": 43,
   "metadata": {
    "collapsed": false
   },
   "outputs": [
    {
     "data": {
      "image/png": "[encoded data removed]",
      "text/latex": [
       "$$\\frac{S \\left(d_{dirT} + 1\\right)}{- E_{R} L_{k} S + E_{R} L_{k} + E_{R} S \\gamma - E_{R} S - E_{R} \\gamma + E_{R} + L_{k} S - L_{k} + S d_{dirT} - S \\gamma + S + \\gamma}$$"
      ],
      "text/plain": [
       "                                     S⋅(d_dirT + 1)                           \n",
       "──────────────────────────────────────────────────────────────────────────────\n",
       "-E_R⋅Lₖ⋅S + E_R⋅Lₖ + E_R⋅S⋅γ - E_R⋅S - E_R⋅γ + E_R + Lₖ⋅S - Lₖ + S⋅d_dirT - S⋅\n",
       "\n",
       "         \n",
       "─────────\n",
       "γ + S + γ"
      ]
     },
     "execution_count": 43,
     "metadata": {},
     "output_type": "execute_result"
    }
   ],
   "source": [
    "Sr_func_Er_S = solve(S_func_Er_Sr - S, Sr)[0]\n",
    "Sr_func_Er_S"
   ]
  },
  {
   "cell_type": "code",
   "execution_count": 44,
   "metadata": {
    "collapsed": false
   },
   "outputs": [
    {
     "name": "stdout",
     "output_type": "stream",
     "text": [
      "S*(d_dirT + 1)/(-E_R*L_k*S + E_R*L_k + E_R*S*gamma - E_R*S - E_R*gamma + E_R + L_k*S - L_k + S*d_dirT - S*gamma + S + gamma)\n"
     ]
    }
   ],
   "source": [
    "print(Sr_func_Er_S)"
   ]
  },
  {
   "cell_type": "code",
   "execution_count": 45,
   "metadata": {
    "collapsed": true
   },
   "outputs": [],
   "source": [
    "def uncorrect_S(E_R, S, gamma, L_k, d_dirT):\n",
    "    return (S*(d_dirT + 1) / \n",
    "            (-E_R*L_k*S + E_R*L_k + E_R*S*gamma - E_R*S - E_R*gamma + \n",
    "             E_R + L_k*S - L_k + S*d_dirT - S*gamma + S + gamma))"
   ]
  },
  {
   "cell_type": "markdown",
   "metadata": {},
   "source": [
    "# Numerical tests\n",
    "\n",
    "Test consistency between apply and un-apply of numerical corrections for $E$."
   ]
  },
  {
   "cell_type": "code",
   "execution_count": 46,
   "metadata": {
    "collapsed": false
   },
   "outputs": [],
   "source": [
    "import numpy as np"
   ]
  },
  {
   "cell_type": "code",
   "execution_count": 47,
   "metadata": {
    "collapsed": false
   },
   "outputs": [],
   "source": [
    "Ex = np.arange(-0.2, 1.2, 0.1)"
   ]
  },
  {
   "cell_type": "code",
   "execution_count": 48,
   "metadata": {
    "collapsed": false
   },
   "outputs": [],
   "source": [
    "gamma_ = 0.75\n",
    "leakage_ = 0.04\n",
    "dir_ex_t_ = 0.08"
   ]
  },
  {
   "cell_type": "code",
   "execution_count": 49,
   "metadata": {
    "collapsed": false
   },
   "outputs": [],
   "source": [
    "Ex_roundtrip = uncorrect_E_gamma_leak_dir(correct_E_gamma_leak_dir(Ex, gamma_), gamma_)"
   ]
  },
  {
   "cell_type": "code",
   "execution_count": 50,
   "metadata": {
    "collapsed": false
   },
   "outputs": [
    {
     "data": {
      "text/plain": [
       "True"
      ]
     },
     "execution_count": 50,
     "metadata": {},
     "output_type": "execute_result"
    }
   ],
   "source": [
    "np.allclose(Ex, Ex_roundtrip)"
   ]
  },
  {
   "cell_type": "code",
   "execution_count": 51,
   "metadata": {
    "collapsed": false
   },
   "outputs": [],
   "source": [
    "Ex_roundtrip = uncorrect_E_gamma_leak_dir(correct_E_gamma_leak_dir(Ex, gamma_, leakage_, dir_ex_t_), \n",
    "                                          gamma_, leakage_, dir_ex_t_)"
   ]
  },
  {
   "cell_type": "code",
   "execution_count": 52,
   "metadata": {
    "collapsed": false
   },
   "outputs": [
    {
     "data": {
      "text/plain": [
       "True"
      ]
     },
     "execution_count": 52,
     "metadata": {},
     "output_type": "execute_result"
    }
   ],
   "source": [
    "np.allclose(Ex, Ex_roundtrip)"
   ]
  },
  {
   "cell_type": "code",
   "execution_count": 53,
   "metadata": {
    "collapsed": false
   },
   "outputs": [],
   "source": [
    "Ex_roundtrip = correct_E_gamma_leak_dir(uncorrect_E_gamma_leak_dir(Ex, gamma_, leakage_, dir_ex_t_), \n",
    "                                        gamma_, leakage_, dir_ex_t_)"
   ]
  },
  {
   "cell_type": "code",
   "execution_count": 54,
   "metadata": {
    "collapsed": false
   },
   "outputs": [
    {
     "data": {
      "text/plain": [
       "True"
      ]
     },
     "execution_count": 54,
     "metadata": {},
     "output_type": "execute_result"
    }
   ],
   "source": [
    "np.allclose(Ex, Ex_roundtrip)"
   ]
  },
  {
   "cell_type": "markdown",
   "metadata": {},
   "source": [
    "Test that $S$ correction functions:"
   ]
  },
  {
   "cell_type": "code",
   "execution_count": 55,
   "metadata": {
    "collapsed": true
   },
   "outputs": [],
   "source": [
    "Ex = np.arange(-0.2, 1.2, 0.01)\n",
    "Sx = np.arange(-0.2, 1.2, 0.01)"
   ]
  },
  {
   "cell_type": "code",
   "execution_count": 56,
   "metadata": {
    "collapsed": false
   },
   "outputs": [],
   "source": [
    "np.random.shuffle(Ex)\n",
    "np.random.shuffle(Sx)"
   ]
  },
  {
   "cell_type": "markdown",
   "metadata": {},
   "source": [
    "Let's do a consistency check:"
   ]
  },
  {
   "cell_type": "code",
   "execution_count": 57,
   "metadata": {
    "collapsed": false
   },
   "outputs": [],
   "source": [
    "gamma_ = 1\n",
    "leakage_ = 0\n",
    "dir_ex_t_ = 0\n",
    "\n",
    "S_corr = correct_S(Ex, Sx, gamma_, leakage_, dir_ex_t_)\n",
    "S_uncorr = uncorrect_S(Ex, S_corr, gamma_, leakage_, dir_ex_t_)"
   ]
  },
  {
   "cell_type": "code",
   "execution_count": 58,
   "metadata": {
    "collapsed": false
   },
   "outputs": [
    {
     "data": {
      "text/plain": [
       "True"
      ]
     },
     "execution_count": 58,
     "metadata": {},
     "output_type": "execute_result"
    }
   ],
   "source": [
    "np.allclose(S_corr, Sx)"
   ]
  },
  {
   "cell_type": "code",
   "execution_count": 59,
   "metadata": {
    "collapsed": false
   },
   "outputs": [
    {
     "data": {
      "text/plain": [
       "True"
      ]
     },
     "execution_count": 59,
     "metadata": {},
     "output_type": "execute_result"
    }
   ],
   "source": [
    "np.allclose(S_uncorr, Sx)"
   ]
  },
  {
   "cell_type": "code",
   "execution_count": 60,
   "metadata": {
    "collapsed": false
   },
   "outputs": [],
   "source": [
    "gamma_ = 0.7\n",
    "leakage_ = 0.05\n",
    "dir_ex_t_ = 0.1\n",
    "\n",
    "S_corr = correct_S(Ex, Sx, gamma_, leakage_, dir_ex_t_)\n",
    "S_uncorr = uncorrect_S(Ex, S_corr, gamma_, leakage_, dir_ex_t_)"
   ]
  },
  {
   "cell_type": "code",
   "execution_count": 61,
   "metadata": {
    "collapsed": false
   },
   "outputs": [
    {
     "data": {
      "text/plain": [
       "True"
      ]
     },
     "execution_count": 61,
     "metadata": {},
     "output_type": "execute_result"
    }
   ],
   "source": [
    "np.allclose(S_uncorr, Sx)"
   ]
  },
  {
   "cell_type": "code",
   "execution_count": 62,
   "metadata": {
    "collapsed": true
   },
   "outputs": [],
   "source": [
    "%matplotlib inline\n",
    "import matplotlib.pyplot as plt"
   ]
  },
  {
   "cell_type": "code",
   "execution_count": 63,
   "metadata": {
    "collapsed": true
   },
   "outputs": [],
   "source": [
    "idx = Sx.argsort()"
   ]
  },
  {
   "cell_type": "code",
   "execution_count": 64,
   "metadata": {
    "collapsed": false
   },
   "outputs": [
    {
     "data": {
      "text/plain": [
       "[<matplotlib.lines.Line2D at 0x10fcb7b70>]"
      ]
     },
     "execution_count": 64,
     "metadata": {},
     "output_type": "execute_result"
    },
    {
     "data": {
      "image/png": "[encoded data removed]",
      "text/plain": [
       "<matplotlib.figure.Figure at 0x10c4f2828>"
      ]
     },
     "metadata": {},
     "output_type": "display_data"
    }
   ],
   "source": [
    "plt.plot(S_corr[idx], 'o')"
   ]
  },
  {
   "cell_type": "code",
   "execution_count": null,
   "metadata": {
    "collapsed": true
   },
   "outputs": [],
   "source": []
  }
 ],
 "metadata": {
  "anaconda-cloud": {},
  "kernelspec": {
   "display_name": "Python [default]",
   "language": "python",
   "name": "python3"
  },
  "language_info": {
   "codemirror_mode": {
    "name": "ipython",
    "version": 3
   },
   "file_extension": ".py",
   "mimetype": "text/x-python",
   "name": "python",
   "nbconvert_exporter": "python",
   "pygments_lexer": "ipython3",
   "version": "3.5.2"
  }
 },
 "nbformat": 4,
 "nbformat_minor": 0
}
