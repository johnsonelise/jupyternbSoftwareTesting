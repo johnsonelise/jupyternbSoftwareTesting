{
 "cells": [
  {
   "cell_type": "markdown",
   "metadata": {
    "collapsed": true
   },
   "source": [
    "Given we have a Solr index with many resources indexed by:\n",
    "\n",
    "* file extension\n",
    "* server mime-type\n",
    "* first four bytes\n",
    "* first bytes shingles\n",
    "\n",
    "Can we automatically generate initial format identification signatures in the tail of the format distribution, with any degree of confidence?\n",
    "\n",
    "Inspecting a few by hand looks promising. Most cases seem to fit one of these profiles:\n",
    "\n",
    "* Direct FFB-extension mapping, with very few or no other FFBs that match with any significance.\n",
    "   * Can remove formats you match elsewhere?\n",
    "* Multiple FFBs per extension:\n",
    "    * Apparent families of similar byte mappings, perhaps F2B, but nothing else.\n",
    "    * Messes, with very varied ranges of formats.\n",
    "* Multiple extensions per FFB:\n",
    "    * Containers\n",
    "    * Formats with no in-band format signalling\n",
    "    \n",
    "Story needs to start with the size of application/octet-stream, and then generate heuristics for pulling out likely format signatures.\n",
    "\n",
    "Could also trial it against everything (i.e. ignore DROID/Tika results) and see how well it compares with them."
   ]
  },
  {
   "cell_type": "code",
   "execution_count": 1,
   "metadata": {
    "collapsed": false
   },
   "outputs": [
    {
     "name": "stdout",
     "output_type": "stream",
     "text": [
      "HELO WORLD\n"
     ]
    }
   ],
   "source": [
    "print(\"HELO WORLD\")"
   ]
  },
  {
   "cell_type": "code",
   "execution_count": null,
   "metadata": {
    "collapsed": true
   },
   "outputs": [],
   "source": []
  }
 ],
 "metadata": {
  "kernelspec": {
   "display_name": "Python 3",
   "language": "python",
   "name": "python3"
  },
  "language_info": {
   "codemirror_mode": {
    "name": "ipython",
    "version": 3
   },
   "file_extension": ".py",
   "mimetype": "text/x-python",
   "name": "python",
   "nbconvert_exporter": "python",
   "pygments_lexer": "ipython3",
   "version": "3.5.0"
  }
 },
 "nbformat": 4,
 "nbformat_minor": 0
}
