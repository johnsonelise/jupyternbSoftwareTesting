{
 "cells": [
  {
   "cell_type": "markdown",
   "metadata": {
    "slideshow": {
     "slide_type": "slide"
    }
   },
   "source": [
    "# XML namespaces and XPath with Python"
   ]
  },
  {
   "cell_type": "markdown",
   "metadata": {},
   "source": [
    "Thomas Aglassinger http://www.roskakori.at"
   ]
  },
  {
   "cell_type": "markdown",
   "metadata": {
    "slideshow": {
     "slide_type": "slide"
    }
   },
   "source": [
    "# XML"
   ]
  },
  {
   "cell_type": "markdown",
   "metadata": {},
   "source": [
    "* eXtensible Markup Language\n",
    "* a blueprint for other file formats\n",
    "* can represent sequences and hierarchies\n",
    "* text based (binary somewhat possible using e.g. UUEncode)\n",
    "* human readable\n",
    "* somewhat verbose\n",
    "* supports a Document Object Model (DOM)"
   ]
  },
  {
   "cell_type": "markdown",
   "metadata": {
    "slideshow": {
     "slide_type": "subslide"
    }
   },
   "source": [
    "## XML with Python"
   ]
  },
  {
   "cell_type": "markdown",
   "metadata": {},
   "source": [
    "* [`xml`](https://docs.python.org/3/library/xml.html): part if the standard library\n",
    "  * `xml.etree.ElementTree` - XML as pythonic Trees\n",
    "  * `xml.dom.mindom` - DOM, warts and all\n",
    "  * `xml.sax` - sequential parsing of large documents\n",
    "  * works, but has limited support for namespaces, XPath etc.\n",
    "* `lxml`: available from http://lxml.de/\n",
    "  * Python wrapper to C based XML libraries\n",
    "  * full support for namespaces, XPath, schemas etc\n",
    "  * universally used for \"serious\" XML processing"
   ]
  },
  {
   "cell_type": "markdown",
   "metadata": {
    "slideshow": {
     "slide_type": "subslide"
    }
   },
   "source": [
    "## Example XML file"
   ]
  },
  {
   "cell_type": "markdown",
   "metadata": {},
   "source": [
    "```xml\n",
    "<?xml version=\"1.0\" encoding=\"utf-8\"?>\n",
    "<people:list xmlns:people=\"https://www.example.org/xml/people\">\n",
    "   <people:updated date=\"2016-02-16\" />\n",
    "   <people:person name=\"Alice\" phone=\"0650/12345678\" size=\"172\" />\n",
    "   <people:person name=\"Bob\" phone=\"0654/23456789\" size=\"167\" />\n",
    "   <people:person name=\"Bärbel\" phone=\"0699/34567890\" size=\"182\" />\n",
    "   <people:person name=\"Günther\" size=\"172\">\n",
    "      <people:note>Ask for phone number.</people:note>\n",
    "   </people:person>\n",
    "</people:list>\n",
    "```"
   ]
  },
  {
   "cell_type": "markdown",
   "metadata": {
    "slideshow": {
     "slide_type": "subslide"
    }
   },
   "source": [
    "## XML namespaces"
   ]
  },
  {
   "cell_type": "markdown",
   "metadata": {},
   "source": [
    "In our example\n",
    "\n",
    "> `xmlns:people=\"https://www.example.org/xml/people\"`\n",
    "\n",
    "assigns the shortcut `people` to the namespace identified by `https://www.example.org/xml/people`."
   ]
  },
  {
   "cell_type": "markdown",
   "metadata": {
    "slideshow": {
     "slide_type": "subslide"
    }
   },
   "source": [
    "## XPath"
   ]
  },
  {
   "cell_type": "markdown",
   "metadata": {},
   "source": [
    "XPath is a query language to find nodes in XML documents. Examples:\n",
    "\n",
    "* `/people:list/people:person` - all `person` elements in the document\n",
    "* `/people:list/people:person[@phone]` - all `person` elements in the document with a `phone` attribute\n",
    "\n",
    "Tutorial: http://www.w3schools.com/xsl/xpath_intro.asp"
   ]
  },
  {
   "cell_type": "markdown",
   "metadata": {
    "slideshow": {
     "slide_type": "slide"
    }
   },
   "source": [
    "# Extract information from XML"
   ]
  },
  {
   "cell_type": "markdown",
   "metadata": {
    "slideshow": {
     "slide_type": "subslide"
    }
   },
   "source": [
    "## Read the document root"
   ]
  },
  {
   "cell_type": "markdown",
   "metadata": {},
   "source": [
    "Compute the path to our example XML file:"
   ]
  },
  {
   "cell_type": "code",
   "execution_count": 1,
   "metadata": {
    "collapsed": false
   },
   "outputs": [],
   "source": [
    "import os.path\n",
    "people_xml_path = os.path.join('examples', 'people.xml')"
   ]
  },
  {
   "cell_type": "markdown",
   "metadata": {},
   "source": [
    "Build the document root from the file:"
   ]
  },
  {
   "cell_type": "code",
   "execution_count": 2,
   "metadata": {
    "collapsed": false
   },
   "outputs": [],
   "source": [
    "from lxml import etree\n",
    "people_root = etree.parse(people_xml_path)"
   ]
  },
  {
   "cell_type": "markdown",
   "metadata": {
    "slideshow": {
     "slide_type": "subslide"
    }
   },
   "source": [
    "## Setup the namespace"
   ]
  },
  {
   "cell_type": "code",
   "execution_count": 3,
   "metadata": {
    "collapsed": true
   },
   "outputs": [],
   "source": [
    "NAMESPACES = {\n",
    "    'people': 'https://www.example.org/xml/people',\n",
    "}"
   ]
  },
  {
   "cell_type": "markdown",
   "metadata": {
    "slideshow": {
     "slide_type": "subslide"
    }
   },
   "source": [
    "## Find persons and print details"
   ]
  },
  {
   "cell_type": "code",
   "execution_count": 4,
   "metadata": {
    "collapsed": false
   },
   "outputs": [
    {
     "name": "stdout",
     "output_type": "stream",
     "text": [
      "Alice: 0650/12345678\n",
      "Bob: 0654/23456789\n",
      "Bärbel: 0699/34567890\n"
     ]
    }
   ],
   "source": [
    "# Find persons matching XPath.\n",
    "person_elements = people_root.xpath(\n",
    "    '/people:list/people:person[@phone]',\n",
    "    namespaces=NAMESPACES)\n",
    "\n",
    "# Print name and phone of persons found.\n",
    "for person_element in person_elements:\n",
    "    print(\n",
    "        person_element.attrib['name'] + ': ' +\n",
    "        person_element.attrib['phone'])"
   ]
  },
  {
   "cell_type": "markdown",
   "metadata": {
    "slideshow": {
     "slide_type": "subslide"
    }
   },
   "source": [
    "## Examining XML elements"
   ]
  },
  {
   "cell_type": "markdown",
   "metadata": {},
   "source": [
    "Elements have a `tag`, where namespaces are represente using the [Clark notation](http://www.jclark.com/xml/xmlns.htm) `{namespace}tag`:"
   ]
  },
  {
   "cell_type": "code",
   "execution_count": 5,
   "metadata": {
    "collapsed": false
   },
   "outputs": [
    {
     "data": {
      "text/plain": [
       "'{https://www.example.org/xml/people}person'"
      ]
     },
     "execution_count": 5,
     "metadata": {},
     "output_type": "execute_result"
    }
   ],
   "source": [
    "person_element.tag"
   ]
  },
  {
   "cell_type": "markdown",
   "metadata": {},
   "source": [
    "XML attributes are a simlpe dictionary:"
   ]
  },
  {
   "cell_type": "code",
   "execution_count": 6,
   "metadata": {
    "collapsed": false
   },
   "outputs": [
    {
     "data": {
      "text/plain": [
       "{'phone': '0699/34567890', 'name': 'Bärbel', 'size': '182'}"
      ]
     },
     "execution_count": 6,
     "metadata": {},
     "output_type": "execute_result"
    }
   ],
   "source": [
    "person_element.attrib"
   ]
  },
  {
   "cell_type": "markdown",
   "metadata": {
    "slideshow": {
     "slide_type": "subslide"
    }
   },
   "source": [
    "## Text nodes"
   ]
  },
  {
   "cell_type": "markdown",
   "metadata": {},
   "source": [
    "Print notes about persons without a phone:"
   ]
  },
  {
   "cell_type": "code",
   "execution_count": 7,
   "metadata": {
    "collapsed": false
   },
   "outputs": [
    {
     "name": "stdout",
     "output_type": "stream",
     "text": [
      "Günther: Ask for phone number.\n"
     ]
    }
   ],
   "source": [
    "note_elements_for_persons_without_phone = \\\n",
    "    people_root.xpath(\n",
    "        '/people:list/people:person[not(@phone)]/people:note',\n",
    "        namespaces=NAMESPACES)\n",
    "\n",
    "for note_element in note_elements_for_persons_without_phone:\n",
    "    person_element = note_element.getparent()\n",
    "    person_name = person_element.attrib['name']\n",
    "    note_text = note_element.text\n",
    "    print(person_name + ': ' + note_text)"
   ]
  },
  {
   "cell_type": "markdown",
   "metadata": {},
   "source": [
    "Use `getparent()` to access the enclosing XML element (as seen above)."
   ]
  },
  {
   "cell_type": "markdown",
   "metadata": {
    "slideshow": {
     "slide_type": "slide"
    }
   },
   "source": [
    "# Summary"
   ]
  },
  {
   "cell_type": "markdown",
   "metadata": {},
   "source": [
    "* XML will be around for the foreseeable future so learn to deal with it.\n",
    "* Use `lxml`for any serious XML work in Python.\n",
    "* Namespaces and XPath can be taimed."
   ]
  }
 ],
 "metadata": {
  "celltoolbar": "Slideshow",
  "kernelspec": {
   "display_name": "Python 3",
   "language": "python",
   "name": "python3"
  },
  "language_info": {
   "codemirror_mode": {
    "name": "ipython",
    "version": 3
   },
   "file_extension": ".py",
   "mimetype": "text/x-python",
   "name": "python",
   "nbconvert_exporter": "python",
   "pygments_lexer": "ipython3",
   "version": "3.5.1"
  }
 },
 "nbformat": 4,
 "nbformat_minor": 0
}
