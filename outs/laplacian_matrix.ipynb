{
 "cells": [
  {
   "cell_type": "markdown",
   "metadata": {},
   "source": [
    "# Laplacian Matrix\n",
    "\n",
    "- https://en.wikipedia.org/wiki/Laplacian_matrix"
   ]
  },
  {
   "cell_type": "code",
   "execution_count": 25,
   "metadata": {
    "collapsed": true
   },
   "outputs": [],
   "source": [
    "%matplotlib inline\n",
    "import networkx as nx\n",
    "import numpy as np"
   ]
  },
  {
   "cell_type": "code",
   "execution_count": 26,
   "metadata": {
    "collapsed": false
   },
   "outputs": [
    {
     "data": {
      "image/png": "[encoded data removed]",
      "text/plain": [
       "<matplotlib.figure.Figure at 0x1095b6f90>"
      ]
     },
     "metadata": {},
     "output_type": "display_data"
    }
   ],
   "source": [
    "g = nx.Graph()\n",
    "ebunch = [(1,2),(1,5),(2,5),(4,5),(3,4),(2,3),(4,6)]\n",
    "g.add_edges_from(ebunch)\n",
    "nx.draw_spring(g)"
   ]
  },
  {
   "cell_type": "code",
   "execution_count": 49,
   "metadata": {
    "collapsed": false
   },
   "outputs": [
    {
     "name": "stdout",
     "output_type": "stream",
     "text": [
      "[[2 0 0 0 0 0]\n",
      " [0 3 0 0 0 0]\n",
      " [0 0 2 0 0 0]\n",
      " [0 0 0 3 0 0]\n",
      " [0 0 0 0 3 0]\n",
      " [0 0 0 0 0 1]]\n"
     ]
    }
   ],
   "source": [
    "def degree_matrix(g):\n",
    "    d_ij = [ nx.degree(g, n) for n in g.nodes() ]\n",
    "    return np.diag(d_ij)\n",
    "\n",
    "D = degree_matrix(g)\n",
    "print D"
   ]
  },
  {
   "cell_type": "code",
   "execution_count": 50,
   "metadata": {
    "collapsed": false
   },
   "outputs": [
    {
     "name": "stdout",
     "output_type": "stream",
     "text": [
      "[[0 1 0 0 1 0]\n",
      " [1 0 1 0 1 0]\n",
      " [0 1 0 1 0 0]\n",
      " [0 0 1 0 1 1]\n",
      " [1 1 0 1 0 0]\n",
      " [0 0 0 1 0 0]]\n"
     ]
    }
   ],
   "source": [
    "A = nx.adj_matrix(g).todense()\n",
    "print A"
   ]
  },
  {
   "cell_type": "code",
   "execution_count": 51,
   "metadata": {
    "collapsed": false
   },
   "outputs": [
    {
     "name": "stdout",
     "output_type": "stream",
     "text": [
      "[[ 2 -1  0  0 -1  0]\n",
      " [-1  3 -1  0 -1  0]\n",
      " [ 0 -1  2 -1  0  0]\n",
      " [ 0  0 -1  3 -1 -1]\n",
      " [-1 -1  0 -1  3  0]\n",
      " [ 0  0  0 -1  0  1]]\n"
     ]
    }
   ],
   "source": [
    "L = nx.laplacian_matrix(g).todense()\n",
    "print L"
   ]
  },
  {
   "cell_type": "code",
   "execution_count": 53,
   "metadata": {
    "collapsed": false
   },
   "outputs": [
    {
     "name": "stdout",
     "output_type": "stream",
     "text": [
      "eigvals =  [ -2.22044605e-16   7.21586391e-01   1.68256939e+00   3.00000000e+00\n",
      "   3.70462437e+00   4.89121985e+00]\n",
      "approx components = 1\n"
     ]
    }
   ],
   "source": [
    "eigvals, eigvecs = np.linalg.eig(L)\n",
    "print 'eigvals = ', eigvals\n",
    "print 'approx components =', sum(eigvals < 1e-10)"
   ]
  },
  {
   "cell_type": "code",
   "execution_count": 54,
   "metadata": {
    "collapsed": false
   },
   "outputs": [
    {
     "data": {
      "image/png": "[encoded data removed]",
      "text/plain": [
       "<matplotlib.figure.Figure at 0x109ba5c10>"
      ]
     },
     "metadata": {},
     "output_type": "display_data"
    }
   ],
   "source": [
    "g2 = nx.Graph()\n",
    "ebunch = [(1,2),(2,3),(3,1),(4,5)]\n",
    "g2.add_edges_from(ebunch)\n",
    "nx.draw_spring(g2)"
   ]
  },
  {
   "cell_type": "code",
   "execution_count": 55,
   "metadata": {
    "collapsed": false
   },
   "outputs": [
    {
     "name": "stdout",
     "output_type": "stream",
     "text": [
      "eigvals =  [ -1.11022302e-16   0.00000000e+00   2.00000000e+00   3.00000000e+00\n",
      "   3.00000000e+00]\n",
      "approx components = 2\n"
     ]
    }
   ],
   "source": [
    "L = nx.laplacian_matrix(g2).todense()\n",
    "eigvals, eigvecs = np.linalg.eig(L)\n",
    "eigvals.sort()\n",
    "print 'eigvals = ', eigvals\n",
    "print 'approx components =', sum(eigvals < 1e-10)"
   ]
  },
  {
   "cell_type": "code",
   "execution_count": null,
   "metadata": {
    "collapsed": true
   },
   "outputs": [],
   "source": []
  }
 ],
 "metadata": {
  "kernelspec": {
   "display_name": "Python 2",
   "language": "python",
   "name": "python2"
  },
  "language_info": {
   "codemirror_mode": {
    "name": "ipython",
    "version": 2
   },
   "file_extension": ".py",
   "mimetype": "text/x-python",
   "name": "python",
   "nbconvert_exporter": "python",
   "pygments_lexer": "ipython2",
   "version": "2.7.11"
  }
 },
 "nbformat": 4,
 "nbformat_minor": 0
}
