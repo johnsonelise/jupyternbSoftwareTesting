{
 "cells": [
  {
   "cell_type": "code",
   "execution_count": 1,
   "metadata": {
    "collapsed": true
   },
   "outputs": [],
   "source": [
    "import numpy as np\n",
    "import matplotlib.pyplot as plt\n",
    "%matplotlib inline"
   ]
  },
  {
   "cell_type": "code",
   "execution_count": 31,
   "metadata": {
    "collapsed": true
   },
   "outputs": [],
   "source": [
    "def likelihood(q):\n",
    "    return exp(-q*q)\n",
    "def loglikelihood(q):\n",
    "    return -q*q\n",
    "def gradient_loglikelihood(q):\n",
    "    return -2*q\n",
    "def leapfrog(q,p, delta_t=1E-1, niter=5):\n",
    "    q_new = q\n",
    "    p_new = p\n",
    "    for i in range(niter):\n",
    "        p_new = p_new + 0.5 * delta_t * gradient_loglikelihood(q_new)\n",
    "        q_new = q_new + delta_t * p_new\n",
    "        p_new = p_new + 0.5 * delta_t * gradient_loglikelihood(q_new)\n",
    "    return q_new, p_new\n",
    "def H(q,p):\n",
    "    K = 0.5 * p * p\n",
    "    U = -loglikelihood(q)\n",
    "    return K + U"
   ]
  },
  {
   "cell_type": "code",
   "execution_count": 32,
   "metadata": {
    "collapsed": true
   },
   "outputs": [],
   "source": [
    "def MCMC(nsteps):\n",
    "    q = np.zeros(nsteps)\n",
    "    p = np.zeros(nsteps)\n",
    "    p[0] = np.random.normal(0,1)\n",
    "    q[0] = np.random.normal(0,1)\n",
    "    for i in range(1,nsteps):\n",
    "        p[i] = np.random.normal(0,1)\n",
    "        q_new, p_new = leapfrog(q[i-1],p[i-1])\n",
    "        E_new = H(q_new, p_new)\n",
    "        E_old = H(q[i-1], p[i-1])\n",
    "        alpha = min(1.0,np.exp(-E_new + E_old))\n",
    "        beta = np.random.random()\n",
    "        if beta < alpha:\n",
    "            q[i] = q_new\n",
    "        else:\n",
    "            q[i] = q[i-1]\n",
    "    return q"
   ]
  },
  {
   "cell_type": "code",
   "execution_count": 35,
   "metadata": {
    "collapsed": true
   },
   "outputs": [],
   "source": [
    "q_chain = MCMC(10000)"
   ]
  },
  {
   "cell_type": "code",
   "execution_count": 36,
   "metadata": {
    "collapsed": false
   },
   "outputs": [
    {
     "data": {
      "image/png": "[encoded data removed]",
      "text/plain": [
       "<matplotlib.figure.Figure at 0x7f61077d9510>"
      ]
     },
     "metadata": {},
     "output_type": "display_data"
    }
   ],
   "source": [
    "a = plt.hist(q_chain[500:], bins=20)"
   ]
  },
  {
   "cell_type": "code",
   "execution_count": null,
   "metadata": {
    "collapsed": true
   },
   "outputs": [],
   "source": []
  },
  {
   "cell_type": "code",
   "execution_count": null,
   "metadata": {
    "collapsed": true
   },
   "outputs": [],
   "source": []
  },
  {
   "cell_type": "code",
   "execution_count": null,
   "metadata": {
    "collapsed": true
   },
   "outputs": [],
   "source": []
  },
  {
   "cell_type": "code",
   "execution_count": null,
   "metadata": {
    "collapsed": true
   },
   "outputs": [],
   "source": []
  }
 ],
 "metadata": {
  "kernelspec": {
   "display_name": "Python 2",
   "language": "python",
   "name": "python2"
  },
  "language_info": {
   "codemirror_mode": {
    "name": "ipython",
    "version": 2
   },
   "file_extension": ".py",
   "mimetype": "text/x-python",
   "name": "python",
   "nbconvert_exporter": "python",
   "pygments_lexer": "ipython2",
   "version": "2.7.6"
  }
 },
 "nbformat": 4,
 "nbformat_minor": 0
}
