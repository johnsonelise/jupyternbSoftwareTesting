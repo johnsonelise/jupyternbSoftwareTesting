{
 "cells": [
  {
   "cell_type": "markdown",
   "metadata": {
    "slideshow": {
     "slide_type": "slide"
    }
   },
   "source": [
    "# Testing"
   ]
  },
  {
   "cell_type": "markdown",
   "metadata": {
    "slideshow": {
     "slide_type": "slide"
    }
   },
   "source": [
    "# What is (software) testing?"
   ]
  },
  {
   "cell_type": "markdown",
   "metadata": {
    "slideshow": {
     "slide_type": "fragment"
    }
   },
   "source": [
    "* Excuting a program with the intent of finding software bugs.\n",
    "* Collects information about the quality of a product or service.\n",
    "* Demonstrates that using a software in specific ways gives the expected results.\n",
    "* etc etc etc"
   ]
  },
  {
   "cell_type": "markdown",
   "metadata": {
    "slideshow": {
     "slide_type": "slide"
    }
   },
   "source": [
    "# The `unittest` module "
   ]
  },
  {
   "cell_type": "markdown",
   "metadata": {},
   "source": [
    "* xUnit similar to jUnit\n",
    "* each test case is a class inherting from `unittest.TestCase`\n",
    "* test runner executes all `test_xxx` methods\n",
    "* test methods can `assertXXX()` conditions\n",
    "* test results can be printed, stored as XML etc."
   ]
  },
  {
   "cell_type": "markdown",
   "metadata": {
    "slideshow": {
     "slide_type": "subslide"
    }
   },
   "source": [
    "## A simple function to test"
   ]
  },
  {
   "cell_type": "code",
   "execution_count": 1,
   "metadata": {
    "collapsed": true
   },
   "outputs": [],
   "source": [
    "def divided(dividend, divisor):\n",
    "    return dividend / divisor"
   ]
  },
  {
   "cell_type": "markdown",
   "metadata": {
    "slideshow": {
     "slide_type": "subslide"
    }
   },
   "source": [
    "## The test case"
   ]
  },
  {
   "cell_type": "code",
   "execution_count": 2,
   "metadata": {
    "collapsed": true
   },
   "outputs": [],
   "source": [
    "# Simple test case to test a trivial ``divided`` function.\n",
    "import unittest\n",
    "\n",
    "\n",
    "class DivideTest(unittest.TestCase):\n",
    "    def test_can_divide_positive_numbers(self):\n",
    "        self.assertEqual(3, divided(15, 5))\n",
    "        self.assertAlmostEqual(2.5, divided(5, 2))\n",
    "\n",
    "    def test_can_divide_negative_numbers(self):\n",
    "        self.assertEqual(-3, divided(15, -5))\n",
    "\n",
    "    def test_can_divide_zero(self):\n",
    "        self.assertEqual(0, divided(0, 1))\n",
    "        self.assertEqual(0, divided(0, -1))\n",
    "        self.assertEqual(0, divided(0, 123.45))"
   ]
  },
  {
   "cell_type": "markdown",
   "metadata": {
    "slideshow": {
     "slide_type": "subslide"
    }
   },
   "source": [
    "## Testing for expected errors"
   ]
  },
  {
   "cell_type": "code",
   "execution_count": 3,
   "metadata": {
    "collapsed": true
   },
   "outputs": [],
   "source": [
    "class DivideTest(unittest.TestCase):\n",
    "    # ...\n",
    "    def test_fails_on_zero_division(self):\n",
    "        self.assertRaises(ZeroDivisionError, divided, 1, 0)"
   ]
  },
  {
   "cell_type": "markdown",
   "metadata": {},
   "source": [
    "Note that `divided()` is not called here, only the function and its parameters is passed."
   ]
  },
  {
   "cell_type": "markdown",
   "metadata": {
    "slideshow": {
     "slide_type": "subslide"
    }
   },
   "source": [
    "## Common `assertXXX()` methods"
   ]
  },
  {
   "cell_type": "markdown",
   "metadata": {},
   "source": [
    "* `asserEqual(a, b)` - check that `a == b`\n",
    "* `assertAlmostEqual(a, b)` - check that two floating point numbers have almost the same value\n",
    "* `assertRegex(text, regex)` - check that a `text` matches a regular expression\n",
    "* `assertIn(needle, haystack)` - check that `needle` is in `haystack`\n",
    "* `assertIsNone(value)` - check that `value` is `None`\n",
    "* `assertTrue(expression)`, `assertFalse(expression)` - check the result of any expression"
   ]
  },
  {
   "cell_type": "markdown",
   "metadata": {
    "slideshow": {
     "slide_type": "subslide"
    }
   },
   "source": [
    "## Common `assertXXX()` methods (continued)"
   ]
  },
  {
   "cell_type": "markdown",
   "metadata": {},
   "source": [
    "All methods have an optional argument `message` to specify your own message in case of error. Typically the standard messages are adequate though with the exception of `assertTrue()` and `assertFalse()`.\n",
    "\n",
    "Most methods also have a `Not` equivalent, e.g. `assertEqual()` and `assertNotEqual()`.\n",
    "\n",
    "For a full list, visit https://docs.python.org/3/library/unittest.html."
   ]
  },
  {
   "cell_type": "markdown",
   "metadata": {
    "slideshow": {
     "slide_type": "subslide"
    }
   },
   "source": [
    "## Test runners"
   ]
  },
  {
   "cell_type": "markdown",
   "metadata": {},
   "source": [
    "* Test runners look for classes inheriting from `unittest.TestCase` (or children of it) and run all `test_xxx(self)` methods in it.\n",
    "* Some test runners also can recursively discover test cases across multiple folders.\n",
    "* If a `test_xxx()` fails, the test runner continues with test next test method.\n",
    "* The test runner collects all results."
   ]
  },
  {
   "cell_type": "markdown",
   "metadata": {
    "slideshow": {
     "slide_type": "subslide"
    }
   },
   "source": [
    "## Let's break things"
   ]
  },
  {
   "cell_type": "markdown",
   "metadata": {},
   "source": [
    "Change the division operator (`/`) to integer division (`//`) to break one of our test cases, so the test results get more interesting:"
   ]
  },
  {
   "cell_type": "code",
   "execution_count": 4,
   "metadata": {
    "collapsed": true
   },
   "outputs": [],
   "source": [
    "def divided(dividend, divisor):\n",
    "    return dividend // divisor"
   ]
  },
  {
   "cell_type": "markdown",
   "metadata": {
    "slideshow": {
     "slide_type": "subslide"
    }
   },
   "source": [
    "## Command line test runner"
   ]
  },
  {
   "cell_type": "markdown",
   "metadata": {},
   "source": [
    "The `unittest` module already provides a built in test runner that can be called from the command line by simply adding the following lines to the test case:"
   ]
  },
  {
   "cell_type": "markdown",
   "metadata": {},
   "source": [
    "```python\n",
    "if __name__ == '__main__':\n",
    "    unittest.main()\n",
    "```"
   ]
  },
  {
   "cell_type": "markdown",
   "metadata": {
    "slideshow": {
     "slide_type": "subslide"
    }
   },
   "source": [
    "## Command line test runner: example output"
   ]
  },
  {
   "cell_type": "markdown",
   "metadata": {},
   "source": [
    "```\n",
    ".F..\n",
    "===================================================\n",
    "FAIL: test_can_divide_positive_numbers (__main__.DivideTest)\n",
    "---------------------------------------------------\n",
    "Traceback (most recent call last):\n",
    "  File \"/home/roskakori/workspace/talks/python_for_testers/examples/test_divide.py\", line 12, in test_can_divide_positive_numbers\n",
    "    self.assertAlmostEqual(2.5, divided(5, 2))\n",
    "AssertionError: 2.5 != 2 within 7 places\n",
    "\n",
    "---------------------------------------------------\n",
    "Ran 4 tests in 0.001s\n",
    "\n",
    "FAILED (failures=1)\n",
    "```"
   ]
  },
  {
   "cell_type": "markdown",
   "metadata": {
    "slideshow": {
     "slide_type": "subslide"
    }
   },
   "source": [
    "## IDE test runners"
   ]
  },
  {
   "cell_type": "markdown",
   "metadata": {},
   "source": [
    "![Screenshot: PyCharm test runner](examples/pycharm_test_runner.png)"
   ]
  },
  {
   "cell_type": "markdown",
   "metadata": {
    "slideshow": {
     "slide_type": "subslide"
    }
   },
   "source": [
    "## Failures and errors"
   ]
  },
  {
   "cell_type": "markdown",
   "metadata": {},
   "source": [
    "* Failures\n",
    "  * indicate that a test condition using `assertXXX()` was not met.\n",
    "  * are often fixed by modifying the code of the application under test.\n",
    "* Errors\n",
    "  * indicate that the test failed because an `Exception` was raised, e.g. because a test file was missing or a network connection could not be established.\n",
    "  * are often fixed by modifying the test environment.\n",
    "  * might sometimes hint at incomplete error handling."
   ]
  },
  {
   "cell_type": "markdown",
   "metadata": {
    "slideshow": {
     "slide_type": "subslide"
    }
   },
   "source": [
    "## Intermission: running a single test case"
   ]
  },
  {
   "cell_type": "markdown",
   "metadata": {},
   "source": [
    "This is a little helper function to run all `test_*()` methods in a `TestCase`. This is only required to run our example tests directly in the notebook. For all practical purpose, use the existing test runners."
   ]
  },
  {
   "cell_type": "code",
   "execution_count": 5,
   "metadata": {
    "collapsed": true
   },
   "outputs": [],
   "source": [
    "def run_test_class(test_class):\n",
    "    suite = unittest.defaultTestLoader.loadTestsFromTestCase(test_class)\n",
    "    unittest.TextTestRunner().run(suite)"
   ]
  },
  {
   "cell_type": "markdown",
   "metadata": {
    "slideshow": {
     "slide_type": "subslide"
    }
   },
   "source": [
    "## Example failure and error"
   ]
  },
  {
   "cell_type": "code",
   "execution_count": 6,
   "metadata": {
    "collapsed": false
   },
   "outputs": [
    {
     "name": "stderr",
     "output_type": "stream",
     "text": [
      "EF\n",
      "======================================================================\n",
      "ERROR: test_error (__main__.FailureAndErrorTest)\n",
      "----------------------------------------------------------------------\n",
      "Traceback (most recent call last):\n",
      "  File \"<ipython-input-6-7e2ee2724fb4>\", line 3, in test_error\n",
      "    with open('no_such_file.tmp', 'r', encoding='utf-8'):\n",
      "FileNotFoundError: [Errno 2] No such file or directory: 'no_such_file.tmp'\n",
      "\n",
      "======================================================================\n",
      "FAIL: test_failure (__main__.FailureAndErrorTest)\n",
      "----------------------------------------------------------------------\n",
      "Traceback (most recent call last):\n",
      "  File \"<ipython-input-6-7e2ee2724fb4>\", line 7, in test_failure\n",
      "    self.assertEqual(1, 0)\n",
      "AssertionError: 1 != 0\n",
      "\n",
      "----------------------------------------------------------------------\n",
      "Ran 2 tests in 0.003s\n",
      "\n",
      "FAILED (failures=1, errors=1)\n"
     ]
    }
   ],
   "source": [
    "class FailureAndErrorTest(unittest.TestCase):\n",
    "    def test_error(self):\n",
    "        with open('no_such_file.tmp', 'r', encoding='utf-8'):\n",
    "            assertEqual(1, 0)\n",
    "\n",
    "    def test_failure(self):\n",
    "        self.assertEqual(1, 0)        \n",
    "\n",
    "run_test_class(FailureAndErrorTest)"
   ]
  },
  {
   "cell_type": "markdown",
   "metadata": {
    "slideshow": {
     "slide_type": "subslide"
    }
   },
   "source": [
    "## Test fixtures"
   ]
  },
  {
   "cell_type": "markdown",
   "metadata": {},
   "source": [
    "* A test fixture \"is all the things that must be in place in order to run a test\" (Wikipedia)\n",
    "* Less abstract: all the resources used by every `test_*()` method in a `TestCase`.\n",
    "* Examples:\n",
    "  * instance variables pointing to often used file system paths\n",
    "  * database or network connections\n",
    "* Use `setUp()` to set or allocate the resources and `tearDown()` to release them."
   ]
  },
  {
   "cell_type": "markdown",
   "metadata": {
    "slideshow": {
     "slide_type": "subslide"
    }
   },
   "source": [
    "## Example test fixture"
   ]
  },
  {
   "cell_type": "code",
   "execution_count": 7,
   "metadata": {
    "collapsed": false
   },
   "outputs": [
    {
     "name": "stderr",
     "output_type": "stream",
     "text": [
      "..\n",
      "----------------------------------------------------------------------\n",
      "Ran 2 tests in 0.002s\n",
      "\n",
      "OK\n"
     ]
    }
   ],
   "source": [
    "import os.path\n",
    "import unittest\n",
    "\n",
    "class TextFileTest(unittest.TestCase):\n",
    "    def setUp(self):\n",
    "        text_path = os.path.join('examples', 'der_rote_komet.txt')\n",
    "        self._text_file = open(text_path, 'r', encoding='utf-8')\n",
    "\n",
    "    def tearDown(self):\n",
    "        self._text_file.close()\n",
    "\n",
    "    def test_has_lines(self):\n",
    "        line_count = len(list(self._text_file))\n",
    "        self.assertGreater(line_count, 0)\n",
    "        \n",
    "    def test_has_line_with_umlaut_u(self):\n",
    "        self.assertTrue(any('ü' in line for line in self._text_file))\n",
    "\n",
    "run_test_class(TextFileTest)"
   ]
  },
  {
   "cell_type": "markdown",
   "metadata": {
    "slideshow": {
     "slide_type": "subslide"
    }
   },
   "source": [
    "## Extending `TestCase`"
   ]
  },
  {
   "cell_type": "markdown",
   "metadata": {},
   "source": [
    "It can be helpful to extend `TestCase` with additional common functions used by tests for your software, in particular additional `assertXXX()`. Example:"
   ]
  },
  {
   "cell_type": "code",
   "execution_count": 8,
   "metadata": {
    "collapsed": true
   },
   "outputs": [],
   "source": [
    "class FileTestCase(unittest.TestCase):\n",
    "    def assertFileExists(self, path):\n",
    "        self.assertTrue(\n",
    "            os.path.exists(path),\n",
    "            'file must exist: \"{0}\"'.format(path))\n",
    "\n",
    "    def assertFileHasData(self, path):\n",
    "        self.assertGreater(\n",
    "            os.path.getsize(path), 0,\n",
    "            'file must contain data: \"{0}\"'.format(path))"
   ]
  },
  {
   "cell_type": "markdown",
   "metadata": {
    "slideshow": {
     "slide_type": "slide"
    }
   },
   "source": [
    "# The `pytest` module"
   ]
  },
  {
   "cell_type": "markdown",
   "metadata": {},
   "source": [
    "* Available from http://pytest.org\n",
    "* Uses `assert` statement and meta programming for detailed error messages about failed tests\n",
    "* Supports multiple paradigms, can be used without object orientation\n",
    "* Can easily find and run tests in complex folder structures"
   ]
  },
  {
   "cell_type": "markdown",
   "metadata": {
    "slideshow": {
     "slide_type": "subslide"
    }
   },
   "source": [
    "## Testing `divided()` with `pytest`"
   ]
  },
  {
   "cell_type": "code",
   "execution_count": 9,
   "metadata": {
    "collapsed": true
   },
   "outputs": [],
   "source": [
    "# %load examples/test_divided_using_pytest.py\n",
    "# Test a division function using pytest.\n",
    "def divided(dividend, divisor):\n",
    "    return dividend / divisor\n",
    "\n",
    "\n",
    "def assert_almost_equal(a, b, places=7):\n",
    "    assert round(abs(a - b), places) == 0\n",
    "\n",
    "\n",
    "def test_can_divide_positive_numbers():\n",
    "    assert 3 == divided(15, 5)\n",
    "    assert_almost_equal(2.5, divided(5, 2))\n",
    "\n",
    "\n",
    "def test_can_divide_negative_numbers():\n",
    "    assert -3 == divided(15, -5)\n",
    "\n",
    "\n",
    "def test_can_divide_zero():\n",
    "    assert 0 == divided(0, 1)\n",
    "    assert 0 == divided(0, -1)\n",
    "    assert 0 == divided(0, 123.45)"
   ]
  },
  {
   "cell_type": "markdown",
   "metadata": {
    "slideshow": {
     "slide_type": "subslide"
    }
   },
   "source": [
    "## Running `py.test`"
   ]
  },
  {
   "cell_type": "markdown",
   "metadata": {},
   "source": [
    "Command line call:\n",
    "```\n",
    "py.test examples/test_divided_using_pytest.py\n",
    "```\n",
    "Result:\n",
    "```\n",
    "============ test session starts =============\n",
    "platform linux -- Python 3.5.1, pytest-2.8.1, ...\n",
    "rootdir: /home/.../examples, inifile: \n",
    "collected 3 items \n",
    "\n",
    "examples/test_divided_using_pytest.py ...\n",
    "========== 3 passed in 0.02 seconds ==========\n",
    "```"
   ]
  },
  {
   "cell_type": "markdown",
   "metadata": {
    "slideshow": {
     "slide_type": "subslide"
    }
   },
   "source": [
    "## `pytest` and test failures"
   ]
  },
  {
   "cell_type": "markdown",
   "metadata": {},
   "source": [
    "```\n",
    "______ test_can_divide_positive_numbers ______\n",
    "\n",
    "    def test_can_divide_positive_numbers():\n",
    "        assert 3 == divided(15, 5)\n",
    ">       assert_almost_equal(2.5, divided(5, 2))\n",
    "\n",
    "examples/test_divided_using_pytest.py:12: \n",
    "_ _ _ _ _ _ _ _ _ _ _ _ _ _ _ _ _ _ _ _ _ _ _ \n",
    "\n",
    "a = 2.5, b = 2, places = 7\n",
    "\n",
    "    def assert_almost_equal(a, b, places=7):\n",
    ">       assert round(abs(a - b), places) == 0\n",
    "E       assert 0.5 == 0\n",
    "E        +  where 0.5 = round(0.5, 7)\n",
    "E        +    where 0.5 = abs((2.5 - 2))\n",
    "```\n"
   ]
  },
  {
   "cell_type": "markdown",
   "metadata": {
    "slideshow": {
     "slide_type": "slide"
    }
   },
   "source": [
    "# Summary"
   ]
  },
  {
   "cell_type": "markdown",
   "metadata": {},
   "source": [
    "* `unittest` is a traditional xUnit test framework\n",
    "  * object oriented\n",
    "  * uses `assertXXX()`\n",
    "* `pytest` is a popular Python specific test framework\n",
    "  * supports multiple paradigms\n",
    "  * uses plain `assert`\n",
    "  * uses meta programming for very specific error messages\n",
    "  * powerful test discovery"
   ]
  }
 ],
 "metadata": {
  "celltoolbar": "Slideshow",
  "kernelspec": {
   "display_name": "Python 3",
   "language": "python",
   "name": "python3"
  },
  "language_info": {
   "codemirror_mode": {
    "name": "ipython",
    "version": 3
   },
   "file_extension": ".py",
   "mimetype": "text/x-python",
   "name": "python",
   "nbconvert_exporter": "python",
   "pygments_lexer": "ipython3",
   "version": "3.5.1"
  }
 },
 "nbformat": 4,
 "nbformat_minor": 0
}
