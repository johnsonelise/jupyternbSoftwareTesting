{
 "cells": [
  {
   "cell_type": "markdown",
   "metadata": {},
   "source": [
    "## Decision Tree Classification\n",
    "\n",
    "\n",
    "### Splitting\n",
    "\n",
    "#### Splittin Criteria\n",
    "\n",
    "#### Termination (When to stop splitting?)\n",
    "\n",
    " * **Pure nodes** ideally, stop when all the members belong to the same class, means that a node is pure.\n",
    " * **Early termination** to avoid overfitting\n",
    " \n",
    "#### How to measure the purity/impurity of a node?\n",
    "\n",
    "Entropy is a measure of impurity of a node. Higher entropy means the node has higher degree of impurity. \n",
    "\n",
    "$$Entropy = -\\displaystyle \\sum_j p(j|t) \\log p(j|t)$$"
   ]
  },
  {
   "cell_type": "markdown",
   "metadata": {},
   "source": [
    "### Find the best splitting attribute\n",
    "\n",
    " * For each candidate attribute\n",
    "  * compute the entropy of each child node\n",
    "  * compute the weighted entropy if the children $$E_{total} = \\displaystyle \\sum_{i=1}^{p} \\frac{n_i}{n}E_i$$\n",
    "  * choose the attribute that gives the smallest total entropy"
   ]
  },
  {
   "cell_type": "markdown",
   "metadata": {},
   "source": [
    "### How about splitting based on numeric attributes?\n",
    "\n",
    "Assume we have two numeric attrbites $(x_1, x_2)$. We need to check all possible splitting points\n",
    "\n",
    " "
   ]
  },
  {
   "cell_type": "markdown",
   "metadata": {},
   "source": [
    "### Summary\n",
    "\n",
    " * Resulted boundaries are always parallel to attribute axes"
   ]
  },
  {
   "cell_type": "code",
   "execution_count": 1,
   "metadata": {
    "collapsed": true
   },
   "outputs": [],
   "source": [
    "import numpy as np\n",
    "import matplotlib.pyplot as plt\n",
    "import seaborn as sns\n",
    "import pandas\n",
    "\n",
    "%matplotlib inline"
   ]
  },
  {
   "cell_type": "code",
   "execution_count": 32,
   "metadata": {
    "collapsed": false
   },
   "outputs": [
    {
     "data": {
      "text/plain": [
       "<seaborn.axisgrid.FacetGrid at 0x7ff4074a40f0>"
      ]
     },
     "execution_count": 32,
     "metadata": {},
     "output_type": "execute_result"
    },
    {
     "data": {
      "image/png": "[encoded data removed]",
      "text/plain": [
       "<matplotlib.figure.Figure at 0x7ff40749dd68>"
      ]
     },
     "metadata": {},
     "output_type": "display_data"
    }
   ],
   "source": [
    "sigma = np.array([[0.14,-0.1],[-0.1,0.14]])\n",
    "mu1 = np.array([-0.4,0.2])\n",
    "mu2 = np.array([0.4,0.5])\n",
    "\n",
    "d1 = np.random.multivariate_normal(mean=mu1, cov=sigma, size=200)\n",
    "d2 = np.random.multivariate_normal(mean=mu2, cov=sigma, size=200)\n",
    "\n",
    "x1 = np.concatenate((d1[:,0], d2[:,0]))\n",
    "x2 = np.concatenate((d1[:,1], d2[:,1]))\n",
    "labels = np.concatenate((['Positive']*d1.shape[0], \n",
    "                         ['Negative']*d2.shape[0]))\n",
    "\n",
    "df = pandas.DataFrame(dict(x1=x1, x2=x2, y=labels))\n",
    "\n",
    "df = df.reindex(np.random.permutation(df.index))\n",
    "\n",
    "sns.lmplot(\"x1\", \"x2\", hue=\"y\", data=df, fit_reg=False)"
   ]
  },
  {
   "cell_type": "code",
   "execution_count": 28,
   "metadata": {
    "collapsed": false
   },
   "outputs": [
    {
     "data": {
      "text/plain": [
       "array(['Positive', 'Positive', 'Positive', 'Positive', 'Positive',\n",
       "       'Positive', 'Positive', 'Positive', 'Positive', 'Positive',\n",
       "       'Positive', 'Positive', 'Positive', 'Positive', 'Positive',\n",
       "       'Positive', 'Positive', 'Positive', 'Positive', 'Positive',\n",
       "       'Negative', 'Negative', 'Negative', 'Negative', 'Negative',\n",
       "       'Negative', 'Negative', 'Negative', 'Negative', 'Negative',\n",
       "       'Negative', 'Negative', 'Negative', 'Negative', 'Negative',\n",
       "       'Negative', 'Negative', 'Negative', 'Negative', 'Negative'], \n",
       "      dtype='<U8')"
      ]
     },
     "execution_count": 28,
     "metadata": {},
     "output_type": "execute_result"
    }
   ],
   "source": []
  },
  {
   "cell_type": "code",
   "execution_count": null,
   "metadata": {
    "collapsed": true
   },
   "outputs": [],
   "source": []
  }
 ],
 "metadata": {
  "kernelspec": {
   "display_name": "Python 3",
   "language": "python",
   "name": "python3"
  },
  "language_info": {
   "codemirror_mode": {
    "name": "ipython",
    "version": 3
   },
   "file_extension": ".py",
   "mimetype": "text/x-python",
   "name": "python",
   "nbconvert_exporter": "python",
   "pygments_lexer": "ipython3",
   "version": "3.5.1"
  }
 },
 "nbformat": 4,
 "nbformat_minor": 0
}
