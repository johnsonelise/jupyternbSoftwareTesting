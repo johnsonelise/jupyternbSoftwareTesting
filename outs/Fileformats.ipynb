{
 "cells": [
  {
   "cell_type": "markdown",
   "metadata": {
    "slideshow": {
     "slide_type": "slide"
    }
   },
   "source": [
    "# File formats"
   ]
  },
  {
   "cell_type": "markdown",
   "metadata": {},
   "source": [
    "* Configuration files (`*.ini`)\n",
    "* CSV\n",
    "* XML\n",
    "* JSON: see [REST](REST.ipynb)\n",
    "* Binary files: see [Binary](Binary.ipynb)\n",
    "* Network configuration (`.netrc`): see module [netrc](https://docs.python.org/3/library/netrc.html)"
   ]
  },
  {
   "cell_type": "markdown",
   "metadata": {
    "slideshow": {
     "slide_type": "slide"
    }
   },
   "source": [
    "# Configuration files"
   ]
  },
  {
   "cell_type": "markdown",
   "metadata": {},
   "source": [
    "* Configuration files are very similar to `*.ini` files under Windows.\n",
    "* They are seperated in sections that contain options.\n",
    "* The `configparser` module provides functions to access them.\n",
    "* They seperate code and configuration.\n",
    "* They can be modified by none developers, e.g. operations."
   ]
  },
  {
   "cell_type": "markdown",
   "metadata": {
    "slideshow": {
     "slide_type": "subslide"
    }
   },
   "source": [
    "## Example configuration"
   ]
  },
  {
   "cell_type": "markdown",
   "metadata": {},
   "source": [
    "```ini\n",
    "# Example configuration file.\n",
    "\n",
    "# Application settings\n",
    "[myapp]\n",
    "connection=driver={SQL Server};server=someserver;database=SomeDatabase;uid=me;pwd=1234;\n",
    "timeout=10\n",
    "fullscreen=true\n",
    "```"
   ]
  },
  {
   "cell_type": "markdown",
   "metadata": {
    "slideshow": {
     "slide_type": "subslide"
    }
   },
   "source": [
    "## Example application"
   ]
  },
  {
   "cell_type": "code",
   "execution_count": 1,
   "metadata": {
    "collapsed": false
   },
   "outputs": [],
   "source": [
    "import configparser\n",
    "\n",
    "class MyApp(object):\n",
    "    def __init__(self, config_path):\n",
    "        # Setup config with defaults.\n",
    "        config = configparser.ConfigParser()\n",
    "        config['myapp'] = {}\n",
    "        config['myapp']['fullscreen'] = 'false'\n",
    "        config['myapp']['timeout'] = '60'\n",
    "\n",
    "        # Update config from file.\n",
    "        with open(config_path, 'r', encoding='utf-8') as config_file:\n",
    "            config.read_file(config_file)\n",
    "\n",
    "        # Assign config values to attributes (using the proper type).\n",
    "        self.connection = config.get('myapp', 'connection')\n",
    "        self.is_fullscreen = config.getboolean('myapp', 'fullscreen')\n",
    "        self.timeout = config.getint('myapp', 'timeout')\n",
    "\n",
    "    def work(self):\n",
    "        print('connection={}'.format(self.connection))\n",
    "        print('is_fullscreen={}'.format(self.is_fullscreen))\n",
    "        print('timeout={}'.format(self.timeout))"
   ]
  },
  {
   "cell_type": "markdown",
   "metadata": {
    "slideshow": {
     "slide_type": "subslide"
    }
   },
   "source": [
    "## Example application"
   ]
  },
  {
   "cell_type": "code",
   "execution_count": 2,
   "metadata": {
    "collapsed": false
   },
   "outputs": [
    {
     "name": "stdout",
     "output_type": "stream",
     "text": [
      "connection=driver={SQL Server};server=someserver;database=SomeDatabase;uid=me;pwd=1234;\n",
      "is_fullscreen=True\n",
      "timeout=10\n"
     ]
    }
   ],
   "source": [
    "import os.path\n",
    "\n",
    "config_path = os.path.join('examples', 'myapp.cfg')\n",
    "myapp = MyApp(config_path)\n",
    "myapp.work()"
   ]
  },
  {
   "cell_type": "markdown",
   "metadata": {
    "slideshow": {
     "slide_type": "subslide"
    }
   },
   "source": [
    "## Error handling"
   ]
  },
  {
   "cell_type": "markdown",
   "metadata": {},
   "source": [
    "The quality of error messages varies."
   ]
  },
  {
   "cell_type": "code",
   "execution_count": 3,
   "metadata": {
    "collapsed": false,
    "slideshow": {
     "slide_type": "skip"
    }
   },
   "outputs": [],
   "source": [
    "config = configparser.ConfigParser()\n",
    "config['myapp'] = {}\n",
    "with open(os.path.join('examples', 'myapp.cfg'), 'r', encoding='utf-8') as config_file:\n",
    "    config.read_file(config_file)"
   ]
  },
  {
   "cell_type": "markdown",
   "metadata": {},
   "source": [
    "Messages on missing options are specific:"
   ]
  },
  {
   "cell_type": "code",
   "execution_count": 4,
   "metadata": {
    "collapsed": false
   },
   "outputs": [
    {
     "name": "stdout",
     "output_type": "stream",
     "text": [
      "No option 'no_such_option' in section: 'myapp'\n"
     ]
    }
   ],
   "source": [
    "try:\n",
    "    config.getint('myapp', 'no_such_option')\n",
    "except configparser.Error as error:\n",
    "    print(error)"
   ]
  },
  {
   "cell_type": "markdown",
   "metadata": {},
   "source": [
    "Messages on wrong types not so much:"
   ]
  },
  {
   "cell_type": "code",
   "execution_count": 5,
   "metadata": {
    "collapsed": false
   },
   "outputs": [
    {
     "name": "stdout",
     "output_type": "stream",
     "text": [
      "Not a boolean: 10\n"
     ]
    }
   ],
   "source": [
    "try:\n",
    "    config.getboolean('myapp', 'timeout')\n",
    "except ValueError as error:\n",
    "    print(error)"
   ]
  },
  {
   "cell_type": "markdown",
   "metadata": {
    "slideshow": {
     "slide_type": "slide"
    }
   },
   "source": [
    "# CSV"
   ]
  },
  {
   "cell_type": "markdown",
   "metadata": {},
   "source": [
    "* \"comma separated values\"\n",
    "* for tabular data\n",
    "* delimiter can be a comma (,) but also others e.g. semicolon (`;`) or tab (`\\t`)\n",
    "* special characters and newlines must to be quoted (see [RFC4180](http://www.rfc-editor.org/rfc/rfc4180.txt))\n",
    "* to exchange data accross platforms and systems\n",
    "* for data driven tests"
   ]
  },
  {
   "cell_type": "markdown",
   "metadata": {
    "slideshow": {
     "slide_type": "subslide"
    }
   },
   "source": [
    "## Example CSV file"
   ]
  },
  {
   "cell_type": "markdown",
   "metadata": {},
   "source": [
    "```\n",
    "name;size;date_of_birth\n",
    "Alice;172;1987-03-11\n",
    "Bob;168;1976-04-27\n",
    "Bärbel;;1991-02-15\n",
    "```"
   ]
  },
  {
   "cell_type": "markdown",
   "metadata": {
    "slideshow": {
     "slide_type": "subslide"
    }
   },
   "source": [
    "## Reading a CSV as list"
   ]
  },
  {
   "cell_type": "code",
   "execution_count": 6,
   "metadata": {
    "collapsed": false
   },
   "outputs": [
    {
     "name": "stdout",
     "output_type": "stream",
     "text": [
      "['name', 'size', 'date_of_birth']\n",
      "['Alice', '172', '1987-03-11']\n",
      "['Bob', '168', '1976-04-27']\n",
      "['Bärbel', '', '1991-02-15']\n"
     ]
    }
   ],
   "source": [
    "# %load examples/csvlist.py\n",
    "import csv\n",
    "import os.path\n",
    "\n",
    "csv_path = os.path.join('examples', 'persons.csv')\n",
    "with open(csv_path, 'r', encoding='utf-8', newline='') as csv_file:\n",
    "    for items in csv.reader(csv_file, delimiter=';'):\n",
    "        print(items)\n"
   ]
  },
  {
   "cell_type": "markdown",
   "metadata": {
    "slideshow": {
     "slide_type": "subslide"
    }
   },
   "source": [
    "## Reading a CSV as dictionary"
   ]
  },
  {
   "cell_type": "code",
   "execution_count": 7,
   "metadata": {
    "collapsed": false
   },
   "outputs": [
    {
     "name": "stdout",
     "output_type": "stream",
     "text": [
      "{'name': 'Alice', 'date_of_birth': '1987-03-11', 'size': '172'}\n",
      "{'name': 'Bob', 'date_of_birth': '1976-04-27', 'size': '168'}\n",
      "{'name': 'Bärbel', 'date_of_birth': '1991-02-15', 'size': ''}\n"
     ]
    }
   ],
   "source": [
    "# %load examples/csvdict.py\n",
    "import csv\n",
    "import os.path\n",
    "\n",
    "csv_path = os.path.join('examples', 'persons.csv')\n",
    "with open(csv_path, 'r', encoding='utf-8', newline='') as csv_file:\n",
    "    for person in csv.DictReader(csv_file, delimiter=';'):\n",
    "        print(person)\n"
   ]
  },
  {
   "cell_type": "markdown",
   "metadata": {
    "slideshow": {
     "slide_type": "subslide"
    }
   },
   "source": [
    "## CSV data type"
   ]
  },
  {
   "cell_type": "markdown",
   "metadata": {},
   "source": [
    "* Values read from CSV are strings.\n",
    "* Empty items are empty strings (`''`).\n",
    "* Missing items are `None` (too few columns for `DictReader`)\n",
    "* For other types, conversion is necessary (see [Conversion](Conversion.ipynb)"
   ]
  },
  {
   "cell_type": "code",
   "execution_count": 8,
   "metadata": {
    "collapsed": false
   },
   "outputs": [
    {
     "data": {
      "text/plain": [
       "'Bärbel'"
      ]
     },
     "execution_count": 8,
     "metadata": {},
     "output_type": "execute_result"
    }
   ],
   "source": [
    "person['name']"
   ]
  },
  {
   "cell_type": "code",
   "execution_count": 9,
   "metadata": {
    "collapsed": false
   },
   "outputs": [
    {
     "data": {
      "text/plain": [
       "0"
      ]
     },
     "execution_count": 9,
     "metadata": {},
     "output_type": "execute_result"
    }
   ],
   "source": [
    "int(person['size']) if person['size'] not in ('', None) else 0"
   ]
  },
  {
   "cell_type": "code",
   "execution_count": 10,
   "metadata": {
    "collapsed": false
   },
   "outputs": [
    {
     "data": {
      "text/plain": [
       "datetime.datetime(1991, 2, 15, 0, 0)"
      ]
     },
     "execution_count": 10,
     "metadata": {},
     "output_type": "execute_result"
    }
   ],
   "source": [
    "from datetime import datetime\n",
    "datetime.strptime(person['date_of_birth'], '%Y-%m-%d') \\\n",
    "    if person['date_of_birth'] not in ('', None) else None"
   ]
  },
  {
   "cell_type": "markdown",
   "metadata": {
    "slideshow": {
     "slide_type": "slide"
    }
   },
   "source": [
    "# XML"
   ]
  },
  {
   "cell_type": "markdown",
   "metadata": {},
   "source": [
    "* eXtensible Markup Language\n",
    "* a blueprint for other file formats\n",
    "* can represent sequences and hierarchies\n",
    "* text based (binary somewhat possible using e.g. UUEncode)\n",
    "* human readable\n",
    "* somewhat verbose\n",
    "* supports a Document Object Model (DOM)"
   ]
  },
  {
   "cell_type": "markdown",
   "metadata": {
    "slideshow": {
     "slide_type": "subslide"
    }
   },
   "source": [
    "## XML with Python"
   ]
  },
  {
   "cell_type": "markdown",
   "metadata": {},
   "source": [
    "* [`xml`](https://docs.python.org/3/library/xml.html): part if the standard library\n",
    "  * `xml.etree.ElementTree` - XML as pythonic Trees\n",
    "  * `xml.dom.mindom` - DOM, warts and all\n",
    "  * `xml.sax` - sequential parsing of large documents\n",
    "  * works, but has limited support for namespaces, XPath etc.\n",
    "* `lxml`: available from http://lxml.de/\n",
    "  * Python wrapper to C based XML libraries\n",
    "  * full support for namespaces, XPath, schemas etc\n",
    "  * universally used for \"serious\" XML processing"
   ]
  },
  {
   "cell_type": "markdown",
   "metadata": {
    "slideshow": {
     "slide_type": "subslide"
    }
   },
   "source": [
    "## Example XML file"
   ]
  },
  {
   "cell_type": "markdown",
   "metadata": {},
   "source": [
    "```xml\n",
    "<?xml version=\"1.0\" encoding=\"utf-8\"?>\n",
    "<people:list xmlns:people=\"https://www.example.org/xml/people\">\n",
    "   <people:updated date=\"2016-02-16\" />\n",
    "   <people:person name=\"Alice\" phone=\"0650/12345678\" size=\"172\" />\n",
    "   <people:person name=\"Bob\" phone=\"0654/23456789\" size=\"167\" />\n",
    "   <people:person name=\"Bärbel\" phone=\"0699/34567890\" size=\"182\" />\n",
    "   <people:person name=\"Günther\" size=\"172\">\n",
    "      <people:note>Ask for phone number.</people:note>\n",
    "   </people:person>\n",
    "</people:list>\n",
    "```"
   ]
  },
  {
   "cell_type": "markdown",
   "metadata": {
    "slideshow": {
     "slide_type": "subslide"
    }
   },
   "source": [
    "## XML namespaces"
   ]
  },
  {
   "cell_type": "markdown",
   "metadata": {},
   "source": [
    "In our example\n",
    "\n",
    "> `xmlns:people=\"https://www.example.org/xml/people\"`\n",
    "\n",
    "assigns the shortcut `people` to the namespace identified by `https://www.example.org/xml/people`."
   ]
  },
  {
   "cell_type": "markdown",
   "metadata": {
    "slideshow": {
     "slide_type": "subslide"
    }
   },
   "source": [
    "## XPath"
   ]
  },
  {
   "cell_type": "markdown",
   "metadata": {},
   "source": [
    "XPath is a query language to find nodes in XML documents. Examples:\n",
    "\n",
    "* `/people:list/people:person` - all `person` elements in the document\n",
    "* `/people:list/people:person[@phone]` - all `person` elements in the document with a `phone` attribute\n",
    "\n",
    "Tutorial: http://www.w3schools.com/xsl/xpath_intro.asp"
   ]
  },
  {
   "cell_type": "markdown",
   "metadata": {
    "slideshow": {
     "slide_type": "subslide"
    }
   },
   "source": [
    "## Extract information from XML"
   ]
  },
  {
   "cell_type": "markdown",
   "metadata": {},
   "source": [
    "Compute the path to our example XML file:"
   ]
  },
  {
   "cell_type": "code",
   "execution_count": 11,
   "metadata": {
    "collapsed": false
   },
   "outputs": [],
   "source": [
    "import os.path\n",
    "people_xml_path = os.path.join('examples', 'people.xml')"
   ]
  },
  {
   "cell_type": "markdown",
   "metadata": {},
   "source": [
    "Build the document root from the file:"
   ]
  },
  {
   "cell_type": "code",
   "execution_count": 12,
   "metadata": {
    "collapsed": false
   },
   "outputs": [],
   "source": [
    "from lxml import etree\n",
    "people_root = etree.parse(people_xml_path)"
   ]
  },
  {
   "cell_type": "markdown",
   "metadata": {
    "slideshow": {
     "slide_type": "subslide"
    }
   },
   "source": [
    "## Setup the namespace"
   ]
  },
  {
   "cell_type": "code",
   "execution_count": 13,
   "metadata": {
    "collapsed": true
   },
   "outputs": [],
   "source": [
    "NAMESPACES = {\n",
    "    'people': 'https://www.example.org/xml/people',\n",
    "}"
   ]
  },
  {
   "cell_type": "markdown",
   "metadata": {
    "slideshow": {
     "slide_type": "subslide"
    }
   },
   "source": [
    "## Find persons and print details"
   ]
  },
  {
   "cell_type": "code",
   "execution_count": 14,
   "metadata": {
    "collapsed": false
   },
   "outputs": [
    {
     "name": "stdout",
     "output_type": "stream",
     "text": [
      "Alice: 0650/12345678\n",
      "Bob: 0654/23456789\n",
      "Bärbel: 0699/34567890\n"
     ]
    }
   ],
   "source": [
    "# Find persons matching XPath.\n",
    "person_elements = people_root.xpath(\n",
    "    '/people:list/people:person[@phone]',\n",
    "    namespaces=NAMESPACES)\n",
    "\n",
    "# Print name and phone of persons found.\n",
    "for person_element in person_elements:\n",
    "    print(\n",
    "        person_element.attrib['name'] + ': ' +\n",
    "        person_element.attrib['phone'])"
   ]
  },
  {
   "cell_type": "markdown",
   "metadata": {
    "slideshow": {
     "slide_type": "subslide"
    }
   },
   "source": [
    "## Examining XML elements"
   ]
  },
  {
   "cell_type": "markdown",
   "metadata": {},
   "source": [
    "Elements have a `tag`, where namespaces are represente using the [Clark notation](http://www.jclark.com/xml/xmlns.htm) `{namespace}tag`:"
   ]
  },
  {
   "cell_type": "code",
   "execution_count": 15,
   "metadata": {
    "collapsed": false
   },
   "outputs": [
    {
     "data": {
      "text/plain": [
       "'{https://www.example.org/xml/people}person'"
      ]
     },
     "execution_count": 15,
     "metadata": {},
     "output_type": "execute_result"
    }
   ],
   "source": [
    "person_element.tag"
   ]
  },
  {
   "cell_type": "markdown",
   "metadata": {},
   "source": [
    "XML attributes are a simlpe dictionary:"
   ]
  },
  {
   "cell_type": "code",
   "execution_count": 16,
   "metadata": {
    "collapsed": false
   },
   "outputs": [
    {
     "data": {
      "text/plain": [
       "{'phone': '0699/34567890', 'name': 'Bärbel', 'size': '182'}"
      ]
     },
     "execution_count": 16,
     "metadata": {},
     "output_type": "execute_result"
    }
   ],
   "source": [
    "person_element.attrib"
   ]
  },
  {
   "cell_type": "markdown",
   "metadata": {
    "slideshow": {
     "slide_type": "subslide"
    }
   },
   "source": [
    "## Text nodes"
   ]
  },
  {
   "cell_type": "markdown",
   "metadata": {},
   "source": [
    "Print notes about persons without a phone:"
   ]
  },
  {
   "cell_type": "code",
   "execution_count": 17,
   "metadata": {
    "collapsed": false
   },
   "outputs": [
    {
     "name": "stdout",
     "output_type": "stream",
     "text": [
      "Günther: Ask for phone number.\n"
     ]
    }
   ],
   "source": [
    "note_elements_for_persons_without_phone = \\\n",
    "    people_root.xpath(\n",
    "        '/people:list/people:person[not(@phone)]/people:note',\n",
    "        namespaces=NAMESPACES)\n",
    "\n",
    "for note_element in note_elements_for_persons_without_phone:\n",
    "    person_element = note_element.getparent()\n",
    "    person_name = person_element.attrib['name']\n",
    "    note_text = note_element.text\n",
    "    print(person_name + ': ' + note_text)"
   ]
  },
  {
   "cell_type": "markdown",
   "metadata": {},
   "source": [
    "Use `getparent()` to access the enclosing XML element (as seen above)."
   ]
  },
  {
   "cell_type": "markdown",
   "metadata": {
    "slideshow": {
     "slide_type": "slide"
    }
   },
   "source": [
    "# Summary"
   ]
  },
  {
   "cell_type": "markdown",
   "metadata": {},
   "source": [
    "* Configuration files are useful to separate configuration from code.\n",
    "* CSV is useful to store tabular data.\n",
    "* XML is useful for hierarchical data. Use `lxml` for serious XML processing."
   ]
  }
 ],
 "metadata": {
  "celltoolbar": "Slideshow",
  "kernelspec": {
   "display_name": "Python 3",
   "language": "python",
   "name": "python3"
  },
  "language_info": {
   "codemirror_mode": {
    "name": "ipython",
    "version": 3
   },
   "file_extension": ".py",
   "mimetype": "text/x-python",
   "name": "python",
   "nbconvert_exporter": "python",
   "pygments_lexer": "ipython3",
   "version": "3.5.1"
  }
 },
 "nbformat": 4,
 "nbformat_minor": 0
}
