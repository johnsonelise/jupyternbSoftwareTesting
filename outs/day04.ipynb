{
 "cells": [
  {
   "cell_type": "code",
   "execution_count": 1,
   "metadata": {
    "collapsed": false,
    "deletable": true,
    "editable": true
   },
   "outputs": [],
   "source": [
    "from mnist import MNIST\n",
    "\n",
    "mnist = MNIST('./data')\n",
    "_ = mnist.load_testing()"
   ]
  },
  {
   "cell_type": "code",
   "execution_count": 2,
   "metadata": {
    "collapsed": false,
    "deletable": true,
    "editable": true
   },
   "outputs": [],
   "source": [
    "images, labels = mnist.load_training()"
   ]
  },
  {
   "cell_type": "code",
   "execution_count": 3,
   "metadata": {
    "collapsed": false,
    "deletable": true,
    "editable": true
   },
   "outputs": [
    {
     "data": {
      "text/plain": [
       "(60000, 60000)"
      ]
     },
     "execution_count": 3,
     "metadata": {},
     "output_type": "execute_result"
    }
   ],
   "source": [
    "len(images), len(labels)"
   ]
  },
  {
   "cell_type": "code",
   "execution_count": 4,
   "metadata": {
    "collapsed": false,
    "deletable": true,
    "editable": true
   },
   "outputs": [
    {
     "data": {
      "text/plain": [
       "784"
      ]
     },
     "execution_count": 4,
     "metadata": {},
     "output_type": "execute_result"
    }
   ],
   "source": [
    "len(images[0])"
   ]
  },
  {
   "cell_type": "code",
   "execution_count": 5,
   "metadata": {
    "collapsed": false,
    "deletable": true,
    "editable": true
   },
   "outputs": [
    {
     "data": {
      "text/plain": [
       "784"
      ]
     },
     "execution_count": 5,
     "metadata": {},
     "output_type": "execute_result"
    }
   ],
   "source": [
    "28 * 28"
   ]
  },
  {
   "cell_type": "code",
   "execution_count": 6,
   "metadata": {
    "collapsed": false,
    "deletable": true,
    "editable": true
   },
   "outputs": [
    {
     "data": {
      "text/plain": [
       "dtype('float32')"
      ]
     },
     "execution_count": 6,
     "metadata": {},
     "output_type": "execute_result"
    }
   ],
   "source": [
    "import numpy as np\n",
    "\n",
    "images = np.array(images).astype('float32') / 255\n",
    "images.dtype"
   ]
  },
  {
   "cell_type": "code",
   "execution_count": 7,
   "metadata": {
    "collapsed": false,
    "deletable": true,
    "editable": true
   },
   "outputs": [
    {
     "data": {
      "text/plain": [
       "dtype('uint8')"
      ]
     },
     "execution_count": 7,
     "metadata": {},
     "output_type": "execute_result"
    }
   ],
   "source": [
    "labels = np.array(labels)\n",
    "labels.dtype"
   ]
  },
  {
   "cell_type": "code",
   "execution_count": 8,
   "metadata": {
    "collapsed": false,
    "deletable": true,
    "editable": true
   },
   "outputs": [
    {
     "data": {
      "text/plain": [
       "array([5, 0, 4, 1, 9, 2, 1, 3, 1, 4], dtype=uint8)"
      ]
     },
     "execution_count": 8,
     "metadata": {},
     "output_type": "execute_result"
    }
   ],
   "source": [
    "labels[:10]"
   ]
  },
  {
   "cell_type": "code",
   "execution_count": 9,
   "metadata": {
    "collapsed": false,
    "deletable": true,
    "editable": true
   },
   "outputs": [
    {
     "data": {
      "text/plain": [
       "array([9, 2, 9, 5, 1, 8, 3, 5, 6, 8], dtype=uint8)"
      ]
     },
     "execution_count": 9,
     "metadata": {},
     "output_type": "execute_result"
    }
   ],
   "source": [
    "labels[60000 - 10:]"
   ]
  },
  {
   "cell_type": "code",
   "execution_count": 10,
   "metadata": {
    "collapsed": false,
    "deletable": true,
    "editable": true
   },
   "outputs": [
    {
     "data": {
      "text/plain": [
       "array([9, 2, 9, 5, 1, 8, 3, 5, 6, 8], dtype=uint8)"
      ]
     },
     "execution_count": 10,
     "metadata": {},
     "output_type": "execute_result"
    }
   ],
   "source": [
    "labels[-10:]"
   ]
  },
  {
   "cell_type": "code",
   "execution_count": 11,
   "metadata": {
    "collapsed": false,
    "deletable": true,
    "editable": true
   },
   "outputs": [
    {
     "data": {
      "text/plain": [
       "array([3, 5, 3, 6, 1, 7, 2, 8, 6, 9], dtype=uint8)"
      ]
     },
     "execution_count": 11,
     "metadata": {},
     "output_type": "execute_result"
    }
   ],
   "source": [
    "labels[10:20]"
   ]
  },
  {
   "cell_type": "code",
   "execution_count": 12,
   "metadata": {
    "collapsed": false,
    "deletable": true,
    "editable": true
   },
   "outputs": [
    {
     "data": {
      "text/plain": [
       "array([5, 7, 1, 7, 1, 1, 6, 3, 0, 2], dtype=uint8)"
      ]
     },
     "execution_count": 12,
     "metadata": {},
     "output_type": "execute_result"
    }
   ],
   "source": [
    "batch_size = 100\n",
    "\n",
    "# batch 0\n",
    "images[:batch_size]\n",
    "labels[:batch_size]\n",
    "\n",
    "# batch 1\n",
    "images[batch_size:batch_size * 2]\n",
    "labels[batch_size:batch_size * 2]\n",
    "\n",
    "# batch 2\n",
    "images[batch_size * 2:batch_size * 3]\n",
    "labels[batch_size * 2:batch_size * 3]\n",
    "\n",
    "# batch n\n",
    "n = 10\n",
    "\n",
    "images[batch_size * n:batch_size * (n + 1)]\n",
    "labels[batch_size * n:batch_size * (n + 1)]\n",
    "\n",
    "batch_size = 10\n",
    "\n",
    "offset = batch_size * n\n",
    "labels[offset:offset + batch_size]\n",
    "\n",
    "def batch(data, index, batch_size):\n",
    "    offset = batch_size * index\n",
    "    return data[offset:offset + batch_size]\n",
    "\n",
    "batch(labels, 10, 10)"
   ]
  },
  {
   "cell_type": "code",
   "execution_count": 13,
   "metadata": {
    "collapsed": false,
    "deletable": true,
    "editable": true
   },
   "outputs": [
    {
     "data": {
      "text/plain": [
       "(60000, 784)"
      ]
     },
     "execution_count": 13,
     "metadata": {},
     "output_type": "execute_result"
    }
   ],
   "source": [
    "images.shape"
   ]
  },
  {
   "cell_type": "code",
   "execution_count": 14,
   "metadata": {
    "collapsed": false,
    "deletable": true,
    "editable": true
   },
   "outputs": [
    {
     "data": {
      "text/plain": [
       "(60000, 28, 28)"
      ]
     },
     "execution_count": 14,
     "metadata": {},
     "output_type": "execute_result"
    }
   ],
   "source": [
    "images2d = images.reshape([-1, 28, 28])\n",
    "\n",
    "images2d.shape"
   ]
  },
  {
   "cell_type": "code",
   "execution_count": 15,
   "metadata": {
    "collapsed": false,
    "deletable": true,
    "editable": true,
    "scrolled": false
   },
   "outputs": [
    {
     "name": "stdout",
     "output_type": "stream",
     "text": [
      "5\n"
     ]
    },
    {
     "data": {
      "image/png": "[encoded data removed]",
      "text/plain": [
       "<matplotlib.figure.Figure at 0x11aec7d68>"
      ]
     },
     "metadata": {},
     "output_type": "display_data"
    },
    {
     "name": "stdout",
     "output_type": "stream",
     "text": [
      "0\n"
     ]
    },
    {
     "data": {
      "image/png": "[encoded data removed]",
      "text/plain": [
       "<matplotlib.figure.Figure at 0x11afc8d68>"
      ]
     },
     "metadata": {},
     "output_type": "display_data"
    },
    {
     "name": "stdout",
     "output_type": "stream",
     "text": [
      "4\n"
     ]
    },
    {
     "data": {
      "image/png": "[encoded data removed]",
      "text/plain": [
       "<matplotlib.figure.Figure at 0x11b286a20>"
      ]
     },
     "metadata": {},
     "output_type": "display_data"
    },
    {
     "name": "stdout",
     "output_type": "stream",
     "text": [
      "1\n"
     ]
    },
    {
     "data": {
      "image/png": "[encoded data removed]",
      "text/plain": [
       "<matplotlib.figure.Figure at 0x11b347d68>"
      ]
     },
     "metadata": {},
     "output_type": "display_data"
    },
    {
     "name": "stdout",
     "output_type": "stream",
     "text": [
      "9\n"
     ]
    },
    {
     "data": {
      "image/png": "[encoded data removed]",
      "text/plain": [
       "<matplotlib.figure.Figure at 0x11b258208>"
      ]
     },
     "metadata": {},
     "output_type": "display_data"
    },
    {
     "name": "stdout",
     "output_type": "stream",
     "text": [
      "2\n"
     ]
    },
    {
     "data": {
      "image/png": "[encoded data removed]",
      "text/plain": [
       "<matplotlib.figure.Figure at 0x11b32d0b8>"
      ]
     },
     "metadata": {},
     "output_type": "display_data"
    },
    {
     "name": "stdout",
     "output_type": "stream",
     "text": [
      "1\n"
     ]
    },
    {
     "data": {
      "image/png": "[encoded data removed]",
      "text/plain": [
       "<matplotlib.figure.Figure at 0x11b32db70>"
      ]
     },
     "metadata": {},
     "output_type": "display_data"
    },
    {
     "name": "stdout",
     "output_type": "stream",
     "text": [
      "3\n"
     ]
    },
    {
     "data": {
      "image/png": "[encoded data removed]",
      "text/plain": [
       "<matplotlib.figure.Figure at 0x11b3f2c88>"
      ]
     },
     "metadata": {},
     "output_type": "display_data"
    },
    {
     "name": "stdout",
     "output_type": "stream",
     "text": [
      "1\n"
     ]
    },
    {
     "data": {
      "image/png": "[encoded data removed]",
      "text/plain": [
       "<matplotlib.figure.Figure at 0x11b31ce48>"
      ]
     },
     "metadata": {},
     "output_type": "display_data"
    },
    {
     "name": "stdout",
     "output_type": "stream",
     "text": [
      "4\n"
     ]
    },
    {
     "data": {
      "image/png": "[encoded data removed]",
      "text/plain": [
       "<matplotlib.figure.Figure at 0x10440ac50>"
      ]
     },
     "metadata": {},
     "output_type": "display_data"
    }
   ],
   "source": [
    "import matplotlib.pyplot as plt\n",
    "\n",
    "for i in range(10):\n",
    "    print(labels[i])\n",
    "    plt.imshow(images2d[i])\n",
    "    plt.show()"
   ]
  },
  {
   "cell_type": "code",
   "execution_count": 16,
   "metadata": {
    "collapsed": false,
    "deletable": true,
    "editable": true
   },
   "outputs": [],
   "source": [
    "import tensorflow as tf\n",
    "\n",
    "x = tf.constant(images[:1000])\n",
    "w = tf.Variable(tf.truncated_normal([28 * 28, 10]))\n",
    "b = tf.Variable(tf.truncated_normal([10]))\n",
    "y = tf.nn.softmax(tf.matmul(x, w) + b)\n",
    "\n",
    "z = tf.one_hot(labels[:1000], 10)\n",
    "\n",
    "cross_entropy = -tf.reduce_sum(z * tf.log(y), axis=1)\n",
    "loss = tf.reduce_mean(cross_entropy)\n",
    "\n",
    "train = tf.train.GradientDescentOptimizer(0.5).minimize(loss)"
   ]
  },
  {
   "cell_type": "code",
   "execution_count": 17,
   "metadata": {
    "collapsed": false,
    "deletable": true,
    "editable": true
   },
   "outputs": [
    {
     "name": "stdout",
     "output_type": "stream",
     "text": [
      "14.8579\n",
      "2.33474\n",
      "1.48439\n",
      "1.1025\n",
      "0.887818\n",
      "0.751182\n",
      "0.655389\n",
      "0.582831\n",
      "0.524471\n",
      "0.475648\n",
      "0.433901\n"
     ]
    }
   ],
   "source": [
    "# Training\n",
    "\n",
    "session = tf.Session()\n",
    "session.run(tf.global_variables_initializer())\n",
    "\n",
    "print(session.run(loss))\n",
    "\n",
    "for i in range(10):\n",
    "    for j in range(20):\n",
    "        session.run(train)\n",
    "    print(session.run(loss))"
   ]
  },
  {
   "cell_type": "code",
   "execution_count": 18,
   "metadata": {
    "collapsed": false,
    "deletable": true,
    "editable": true
   },
   "outputs": [
    {
     "data": {
      "text/plain": [
       "0.74299997"
      ]
     },
     "execution_count": 18,
     "metadata": {},
     "output_type": "execute_result"
    }
   ],
   "source": [
    "# Testing\n",
    "\n",
    "test_x = tf.constant(images[1000:2000])\n",
    "test_y = tf.nn.softmax(tf.matmul(test_x, w) + b)\n",
    "\n",
    "correct = tf.equal(tf.argmax(test_y, axis=1), labels[1000:2000])\n",
    "accuracy = tf.reduce_mean(tf.cast(correct, tf.float32))\n",
    "\n",
    "session.run(accuracy)"
   ]
  },
  {
   "cell_type": "code",
   "execution_count": 19,
   "metadata": {
    "collapsed": false,
    "deletable": true,
    "editable": true,
    "scrolled": false
   },
   "outputs": [
    {
     "name": "stdout",
     "output_type": "stream",
     "text": [
      "0 != 5\n"
     ]
    },
    {
     "data": {
      "image/png": "[encoded data removed]",
      "text/plain": [
       "<matplotlib.figure.Figure at 0x11b347588>"
      ]
     },
     "metadata": {},
     "output_type": "display_data"
    },
    {
     "name": "stdout",
     "output_type": "stream",
     "text": [
      "7 != 0\n"
     ]
    },
    {
     "data": {
      "image/png": "[encoded data removed]",
      "text/plain": [
       "<matplotlib.figure.Figure at 0x1044eb0b8>"
      ]
     },
     "metadata": {},
     "output_type": "display_data"
    },
    {
     "name": "stdout",
     "output_type": "stream",
     "text": [
      "1 != 4\n"
     ]
    },
    {
     "data": {
      "image/png": "[encoded data removed]",
      "text/plain": [
       "<matplotlib.figure.Figure at 0x1059abda0>"
      ]
     },
     "metadata": {},
     "output_type": "display_data"
    },
    {
     "name": "stdout",
     "output_type": "stream",
     "text": [
      "4 != 2\n"
     ]
    },
    {
     "data": {
      "image/png": "[encoded data removed]",
      "text/plain": [
       "<matplotlib.figure.Figure at 0x1044e02b0>"
      ]
     },
     "metadata": {},
     "output_type": "display_data"
    },
    {
     "name": "stdout",
     "output_type": "stream",
     "text": [
      "4 != 1\n"
     ]
    },
    {
     "data": {
      "image/png": "[encoded data removed]",
      "text/plain": [
       "<matplotlib.figure.Figure at 0x104405b70>"
      ]
     },
     "metadata": {},
     "output_type": "display_data"
    },
    {
     "name": "stdout",
     "output_type": "stream",
     "text": [
      "4 != 1\n"
     ]
    },
    {
     "data": {
      "image/png": "[encoded data removed]",
      "text/plain": [
       "<matplotlib.figure.Figure at 0x105a148d0>"
      ]
     },
     "metadata": {},
     "output_type": "display_data"
    },
    {
     "name": "stdout",
     "output_type": "stream",
     "text": [
      "2 != 4\n"
     ]
    },
    {
     "data": {
      "image/png": "[encoded data removed]",
      "text/plain": [
       "<matplotlib.figure.Figure at 0x105a32390>"
      ]
     },
     "metadata": {},
     "output_type": "display_data"
    }
   ],
   "source": [
    "predictions = session.run(tf.argmax(test_y, axis=1))\n",
    "\n",
    "for i in range(10):\n",
    "    if predictions[i] != labels[i]:\n",
    "        print(predictions[i], '!=', labels[i])\n",
    "        plt.imshow(images2d[i])\n",
    "        plt.show()"
   ]
  },
  {
   "cell_type": "code",
   "execution_count": 20,
   "metadata": {
    "collapsed": false,
    "deletable": true,
    "editable": true
   },
   "outputs": [],
   "source": [
    "# CNN\n",
    "# --> Deep Learning"
   ]
  },
  {
   "cell_type": "code",
   "execution_count": 21,
   "metadata": {
    "collapsed": false,
    "deletable": true,
    "editable": true
   },
   "outputs": [
    {
     "data": {
      "text/plain": [
       "918.83923"
      ]
     },
     "execution_count": 21,
     "metadata": {},
     "output_type": "execute_result"
    }
   ],
   "source": [
    "x = tf.placeholder(tf.float32, [None, 28 * 28])\n",
    "y = tf.reduce_sum(x)\n",
    "\n",
    "data = {\n",
    "    x: images[:10]\n",
    "}\n",
    "\n",
    "session.run(y, feed_dict=data)"
   ]
  },
  {
   "cell_type": "code",
   "execution_count": 22,
   "metadata": {
    "collapsed": false,
    "deletable": true,
    "editable": true
   },
   "outputs": [
    {
     "data": {
      "text/plain": [
       "890.14911"
      ]
     },
     "execution_count": 22,
     "metadata": {},
     "output_type": "execute_result"
    }
   ],
   "source": [
    "data = {\n",
    "    x: images[10:20]\n",
    "}\n",
    "\n",
    "session.run(y, feed_dict=data)"
   ]
  },
  {
   "cell_type": "code",
   "execution_count": 23,
   "metadata": {
    "collapsed": true,
    "deletable": true,
    "editable": true
   },
   "outputs": [],
   "source": [
    "x = tf.placeholder(tf.float32, [None, 28, 28, 1])\n",
    "z = tf.placeholder(tf.int64, [None])"
   ]
  },
  {
   "cell_type": "code",
   "execution_count": 24,
   "metadata": {
    "collapsed": true,
    "deletable": true,
    "editable": true
   },
   "outputs": [],
   "source": [
    "c1_k = 16\n",
    "c2_k = 32\n",
    "fc_k = 1024"
   ]
  },
  {
   "cell_type": "code",
   "execution_count": 25,
   "metadata": {
    "collapsed": false,
    "deletable": true,
    "editable": true
   },
   "outputs": [
    {
     "data": {
      "text/plain": [
       "TensorShape([Dimension(None), Dimension(28), Dimension(28), Dimension(16)])"
      ]
     },
     "execution_count": 25,
     "metadata": {},
     "output_type": "execute_result"
    }
   ],
   "source": [
    "# Convolution Layer 1\n",
    "\n",
    "c1_w = tf.Variable(tf.truncated_normal([5, 5, 1, c1_k], stddev=0.1))\n",
    "c1_b = tf.Variable(tf.truncated_normal([c1_k], stddev=0.1))\n",
    "c1_u = tf.nn.conv2d(x, c1_w, strides=[1, 1, 1, 1], padding='SAME') + c1_b\n",
    "c1_y = tf.nn.relu(c1_u)\n",
    "c1_y.shape"
   ]
  },
  {
   "cell_type": "code",
   "execution_count": 26,
   "metadata": {
    "collapsed": false,
    "deletable": true,
    "editable": true
   },
   "outputs": [
    {
     "data": {
      "text/plain": [
       "TensorShape([Dimension(None), Dimension(14), Dimension(14), Dimension(16)])"
      ]
     },
     "execution_count": 26,
     "metadata": {},
     "output_type": "execute_result"
    }
   ],
   "source": [
    "# Pooling Layer 1\n",
    "\n",
    "p1_y = tf.nn.max_pool(c1_y, ksize=[1, 2, 2, 1],\n",
    "                      strides=[1, 2, 2, 1], padding='SAME')\n",
    "p1_y.shape"
   ]
  },
  {
   "cell_type": "code",
   "execution_count": 27,
   "metadata": {
    "collapsed": false,
    "deletable": true,
    "editable": true
   },
   "outputs": [
    {
     "data": {
      "text/plain": [
       "TensorShape([Dimension(None), Dimension(14), Dimension(14), Dimension(32)])"
      ]
     },
     "execution_count": 27,
     "metadata": {},
     "output_type": "execute_result"
    }
   ],
   "source": [
    "# Convolution Layer 2\n",
    "\n",
    "c2_w = tf.Variable(tf.truncated_normal([5, 5, c1_k, c2_k], stddev=0.1))\n",
    "c2_b = tf.Variable(tf.truncated_normal([c2_k], stddev=0.1))\n",
    "c2_u = tf.nn.conv2d(p1_y, c2_w, strides=[1, 1, 1, 1], padding='SAME') + c2_b\n",
    "c2_y = tf.nn.relu(c2_u)\n",
    "c2_y.shape"
   ]
  },
  {
   "cell_type": "code",
   "execution_count": 28,
   "metadata": {
    "collapsed": false,
    "deletable": true,
    "editable": true
   },
   "outputs": [
    {
     "data": {
      "text/plain": [
       "TensorShape([Dimension(None), Dimension(7), Dimension(7), Dimension(32)])"
      ]
     },
     "execution_count": 28,
     "metadata": {},
     "output_type": "execute_result"
    }
   ],
   "source": [
    "# Pooling Layer 2\n",
    "\n",
    "p2_y = tf.nn.max_pool(c2_y, ksize=[1, 2, 2, 1],\n",
    "                      strides=[1, 2, 2, 1], padding='SAME')\n",
    "p2_y.shape"
   ]
  },
  {
   "cell_type": "code",
   "execution_count": 29,
   "metadata": {
    "collapsed": false,
    "deletable": true,
    "editable": true
   },
   "outputs": [
    {
     "data": {
      "text/plain": [
       "TensorShape([Dimension(None), Dimension(1568)])"
      ]
     },
     "execution_count": 29,
     "metadata": {},
     "output_type": "execute_result"
    }
   ],
   "source": [
    "fc_x = tf.reshape(p2_y, [-1, 7 * 7 * c2_k])\n",
    "fc_x.shape"
   ]
  },
  {
   "cell_type": "code",
   "execution_count": 30,
   "metadata": {
    "collapsed": false,
    "deletable": true,
    "editable": true
   },
   "outputs": [
    {
     "data": {
      "text/plain": [
       "1568"
      ]
     },
     "execution_count": 30,
     "metadata": {},
     "output_type": "execute_result"
    }
   ],
   "source": [
    "7 * 7 * c2_k"
   ]
  },
  {
   "cell_type": "code",
   "execution_count": 31,
   "metadata": {
    "collapsed": false,
    "deletable": true,
    "editable": true
   },
   "outputs": [
    {
     "data": {
      "text/plain": [
       "TensorShape([Dimension(None), Dimension(1024)])"
      ]
     },
     "execution_count": 31,
     "metadata": {},
     "output_type": "execute_result"
    }
   ],
   "source": [
    "# Fully Connected Layer\n",
    "\n",
    "fc_w = tf.Variable(tf.truncated_normal([7 * 7 * c2_k, fc_k], stddev=0.1))\n",
    "fc_b = tf.Variable(tf.truncated_normal([fc_k], stddev=0.1))\n",
    "fc_y = tf.nn.relu(tf.matmul(fc_x, fc_w) + fc_b)\n",
    "fc_y.shape"
   ]
  },
  {
   "cell_type": "code",
   "execution_count": 32,
   "metadata": {
    "collapsed": false,
    "deletable": true,
    "editable": true
   },
   "outputs": [
    {
     "data": {
      "text/plain": [
       "TensorShape([Dimension(None), Dimension(10)])"
      ]
     },
     "execution_count": 32,
     "metadata": {},
     "output_type": "execute_result"
    }
   ],
   "source": [
    "# Output Layer\n",
    "\n",
    "keep_prob = tf.placeholder(tf.float32)\n",
    "drop_y = tf.nn.dropout(fc_y, keep_prob=keep_prob)\n",
    "\n",
    "w = tf.Variable(tf.truncated_normal([fc_k, 10], stddev=0.1))\n",
    "b = tf.Variable(tf.truncated_normal([10], stddev=0.1))\n",
    "y = tf.nn.softmax(tf.matmul(drop_y, w) + b)\n",
    "y.shape"
   ]
  },
  {
   "cell_type": "code",
   "execution_count": 33,
   "metadata": {
    "collapsed": true,
    "deletable": true,
    "editable": true
   },
   "outputs": [],
   "source": [
    "cross_entropy = -tf.reduce_sum(tf.one_hot(z, 10) * tf.log(y), axis=1)\n",
    "loss = tf.reduce_mean(cross_entropy)\n",
    "\n",
    "train = tf.train.AdamOptimizer(0.001).minimize(loss)"
   ]
  },
  {
   "cell_type": "code",
   "execution_count": 34,
   "metadata": {
    "collapsed": true,
    "deletable": true,
    "editable": true
   },
   "outputs": [],
   "source": [
    "correct = tf.equal(tf.argmax(y, axis=1), z)\n",
    "accuracy = tf.reduce_mean(tf.cast(correct, tf.float32))"
   ]
  },
  {
   "cell_type": "code",
   "execution_count": 35,
   "metadata": {
    "collapsed": false,
    "deletable": true,
    "editable": true
   },
   "outputs": [
    {
     "name": "stdout",
     "output_type": "stream",
     "text": [
      "0.101\n",
      "0.175\n",
      "0.137\n",
      "0.254\n",
      "0.398\n",
      "0.492\n",
      "0.567\n",
      "0.594\n",
      "0.589\n",
      "0.63\n",
      "0.685\n",
      "0.738\n",
      "0.774\n",
      "0.77\n",
      "0.793\n",
      "0.797\n",
      "0.797\n",
      "0.82\n",
      "0.855\n",
      "0.863\n",
      "0.86\n",
      "0.859\n",
      "0.854\n",
      "0.855\n",
      "0.862\n",
      "0.877\n",
      "0.882\n",
      "0.889\n",
      "0.894\n",
      "0.893\n",
      "0.904\n",
      "0.909\n",
      "0.907\n",
      "0.916\n",
      "0.915\n",
      "0.911\n",
      "0.912\n",
      "0.912\n",
      "0.915\n",
      "0.91\n",
      "0.908\n",
      "0.912\n",
      "0.921\n",
      "0.921\n",
      "0.923\n",
      "0.925\n",
      "0.929\n",
      "0.927\n",
      "0.925\n",
      "0.918\n",
      "0.913\n",
      "0.914\n",
      "0.919\n",
      "0.914\n",
      "0.916\n",
      "0.923\n",
      "0.924\n",
      "0.923\n",
      "0.927\n",
      "0.93\n",
      "0.926\n",
      "0.929\n",
      "0.93\n",
      "0.938\n",
      "0.941\n",
      "0.945\n",
      "0.943\n",
      "0.945\n",
      "0.94\n",
      "0.936\n",
      "0.938\n",
      "0.935\n",
      "0.94\n",
      "0.941\n",
      "0.941\n",
      "0.943\n",
      "0.942\n",
      "0.941\n",
      "0.939\n",
      "0.942\n",
      "0.948\n",
      "0.948\n",
      "0.949\n",
      "0.946\n",
      "0.947\n",
      "0.954\n",
      "0.955\n",
      "0.956\n",
      "0.951\n",
      "0.948\n",
      "0.946\n",
      "0.944\n",
      "0.944\n",
      "0.946\n",
      "0.952\n",
      "0.95\n",
      "0.945\n",
      "0.941\n",
      "0.942\n",
      "0.941\n",
      "0.941\n"
     ]
    }
   ],
   "source": [
    "# Training & Test\n",
    "\n",
    "session = tf.Session()\n",
    "session.run(tf.global_variables_initializer())\n",
    "\n",
    "test_data = {\n",
    "    x: images2d[:1000].reshape([-1, 28, 28, 1]),\n",
    "    z: labels[:1000],\n",
    "    keep_prob: 1.0\n",
    "}\n",
    "\n",
    "batch_size = 100\n",
    "\n",
    "print(session.run(accuracy, feed_dict=test_data))\n",
    "\n",
    "for i in range(100):\n",
    "    data = {\n",
    "        x: batch(images2d[1000:], i, batch_size).reshape([-1, 28, 28, 1]),\n",
    "        z: batch(labels[1000:], i, batch_size),\n",
    "        keep_prob: 0.5\n",
    "    }\n",
    "    session.run(train, feed_dict=data)\n",
    "    print(session.run(accuracy, feed_dict=test_data))"
   ]
  }
 ],
 "metadata": {
  "kernelspec": {
   "display_name": "Python 3",
   "language": "python",
   "name": "python3"
  },
  "language_info": {
   "codemirror_mode": {
    "name": "ipython",
    "version": 3
   },
   "file_extension": ".py",
   "mimetype": "text/x-python",
   "name": "python",
   "nbconvert_exporter": "python",
   "pygments_lexer": "ipython3",
   "version": "3.5.1"
  }
 },
 "nbformat": 4,
 "nbformat_minor": 2
}
