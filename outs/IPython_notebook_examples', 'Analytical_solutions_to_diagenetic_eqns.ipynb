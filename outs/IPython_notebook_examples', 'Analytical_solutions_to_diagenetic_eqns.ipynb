{
 "cells": [
  {
   "cell_type": "code",
   "execution_count": 6,
   "metadata": {
    "collapsed": true
   },
   "outputs": [],
   "source": [
    "import matplotlib.pyplot as plt\n",
    "import numpy as np\n",
    "%matplotlib inline"
   ]
  },
  {
   "cell_type": "markdown",
   "metadata": {},
   "source": [
    "### Relationship between decay rate coefficient _k_  and half life _thalf_\n",
    "\n",
    "C = C0*exp(-kt)\n",
    "\n",
    "Solve for: C=0.5C0\n",
    "\n",
    "Gives: k = -ln(0.5)/t"
   ]
  },
  {
   "cell_type": "code",
   "execution_count": 9,
   "metadata": {
    "collapsed": false
   },
   "outputs": [
    {
     "name": "stdout",
     "output_type": "stream",
     "text": [
      "7Be k = 1.50516638125e-07  s-1\n",
      "234Th k = 3.32885344898e-07  s-1\n"
     ]
    }
   ],
   "source": [
    "# C = Co exp(-kt )\n",
    "# 0.5 = exp (-k thalf)\n",
    "# 7Be, 53.3\n",
    "thalf = 53.3*3600.*24.\n",
    "k=-np.log(0.5)/thalf\n",
    "print '7Be k =',k,' s-1'\n",
    "\n",
    "# 234Th, 24.1 days\n",
    "thalf = 24.1*3600.*24.\n",
    "k=-np.log(0.5)/thalf\n",
    "print '234Th k =',k,' s-1'"
   ]
  },
  {
   "cell_type": "markdown",
   "metadata": {},
   "source": [
    "### Solution for time-dependent decay (no burial or mixing)"
   ]
  },
  {
   "cell_type": "code",
   "execution_count": 15,
   "metadata": {
    "collapsed": false
   },
   "outputs": [
    {
     "data": {
      "text/plain": [
       "<matplotlib.text.Text at 0xbc8ebe0>"
      ]
     },
     "execution_count": 15,
     "metadata": {},
     "output_type": "execute_result"
    },
    {
     "data": {
      "image/png": "[encoded data removed]",
      "text/plain": [
       "<matplotlib.figure.Figure at 0xb84d8d0>"
      ]
     },
     "metadata": {},
     "output_type": "display_data"
    }
   ],
   "source": [
    "Co=1.\n",
    "k = .1\n",
    "thalf = -np.log(0.5)/k\n",
    "tmax = 5.*thalf\n",
    "dt = tmax / 10.\n",
    "t = np.arange(0.,tmax+dt,dt)\n",
    "\n",
    "C = Co*np.exp(-k*t)\n",
    "\n",
    "fig = plt.figure(figsize=(6,4))\n",
    "plt.plot(t,C)\n",
    "plt.xlabel('Time')\n",
    "plt.ylabel('C/Co')\n",
    "ts = 'Half-life: {0:.2f}'.format(thalf)\n",
    "plt.title(ts)"
   ]
  },
  {
   "cell_type": "markdown",
   "metadata": {},
   "source": [
    "### Solution to steady burial and decay (no mixing)"
   ]
  },
  {
   "cell_type": "code",
   "execution_count": 21,
   "metadata": {
    "collapsed": false
   },
   "outputs": [
    {
     "data": {
      "text/plain": [
       "<matplotlib.text.Text at 0xc580160>"
      ]
     },
     "execution_count": 21,
     "metadata": {},
     "output_type": "execute_result"
    },
    {
     "data": {
      "image/png": "[encoded data removed]",
      "text/plain": [
       "<matplotlib.figure.Figure at 0xc4b0c50>"
      ]
     },
     "metadata": {},
     "output_type": "display_data"
    }
   ],
   "source": [
    "import matplotlib.pyplot as plt\n",
    "import numpy as np\n",
    "%matplotlib inline\n",
    "zmax = 1.\n",
    "dz = 0.12\n",
    "zb = np.arange(0.,zmax+dz,dz)\n",
    "Co=1\n",
    "w = 0.01\n",
    "k = .1\n",
    "\n",
    "C = Co*np.exp(-k*zb/w)\n",
    "\n",
    "fig = plt.figure(figsize=(6,4))\n",
    "plt.plot(C,-zb)\n",
    "plt.xlabel('C/Co')\n",
    "plt.ylabel('z (m)')\n",
    "ts = 'w = {0:.2f} m/s; k = {1:.2f} 1/s'.format(w,k)\n",
    "plt.title(ts)"
   ]
  }
 ],
 "metadata": {
  "kernelspec": {
   "display_name": "Python 2",
   "language": "python",
   "name": "python2"
  },
  "language_info": {
   "codemirror_mode": {
    "name": "ipython",
    "version": 2
   },
   "file_extension": ".py",
   "mimetype": "text/x-python",
   "name": "python",
   "nbconvert_exporter": "python",
   "pygments_lexer": "ipython2",
   "version": "2.7.8"
  }
 },
 "nbformat": 4,
 "nbformat_minor": 0
}
