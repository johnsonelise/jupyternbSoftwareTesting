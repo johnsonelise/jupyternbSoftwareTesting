{
 "cells": [
  {
   "cell_type": "code",
   "execution_count": 2,
   "metadata": {
    "collapsed": false
   },
   "outputs": [
    {
     "name": "stdout",
     "output_type": "stream",
     "text": [
      "[ 0.31568165  0.28914647  0.27064432  0.25786036  0.24935662  0.24442343\n",
      "  0.24288088  0.24487904  0.25075336  0.2609546 ]\n",
      "h= [  5.  10.  15.  20.  25.  30.  35.  40.  45.  50.]\n",
      "kh= [ 0.4641802   0.68019074  0.86426575  1.03651363  1.20474324  1.37292477\n",
      "  1.5432809   1.71702844  1.89471566  2.07642263]\n",
      "Ur= [ 1.04426159  0.24315941  0.10040762  0.05235673  0.03100441  0.01989472\n",
      "  0.01349567  0.00953976  0.00696389  0.00521856]\n",
      "u0= [ 1.95929248  1.28426249  0.96570193  0.76478672  0.62084081  0.51034225\n",
      "  0.42204524  0.34981995  0.28997996  0.24010622]\n",
      "u0s= [ 1.33408158  0.84923215  0.62465862  0.48678277  0.39076941  0.31908702\n",
      "  0.2633238   0.21885767  0.18285924  0.15343522]\n",
      "u1= [ 0.42539908  0.13391206  0.06413921  0.03618321  0.02217157  0.01422754\n",
      "  0.00937511  0.0062703   0.00422619  0.00285781]\n",
      "u2= [  1.83845427e+00   2.48648043e-01   6.73391431e-02   2.38256916e-02\n",
      "   9.62087714e-03   4.17167756e-03   1.87997518e-03   8.63843237e-04\n",
      "   4.00076119e-04   1.85480614e-04]\n",
      "qs= [ -3.89429253e-03  -2.03130903e-04  -3.18930745e-05  -7.64895142e-06\n",
      "  -2.26518765e-06  -7.53300372e-07  -2.67465443e-07  -9.84435892e-08\n",
      "  -3.68908675e-08  -1.39222290e-08]\n",
      "B0= [ 0.06569658  0.02832159  0.01849658  0.01424003  0.01196227  0.01059915\n",
      "  0.00972934  0.00915325  0.00876374  0.00849772]\n",
      "B0s= [ 0.14170219  0.06476977  0.04420712  0.03514965  0.03019485  0.0271129\n",
      "  0.02499315  0.02338518  0.02203899  0.02080937]\n"
     ]
    }
   ],
   "source": [
    "import numpy as np\n",
    "from mpl_toolkits.mplot3d import Axes3D\n",
    "from matplotlib import pyplot as plt\n",
    "from matplotlib import cm\n",
    "%matplotlib inline\n",
    "\n",
    "def qkhfs( w, h ):\n",
    "    \"\"\"\n",
    "    Quick iterative calculation of kh in gravity-wave dispersion relationship\n",
    "    kh = qkhfs(w, h )\n",
    "    \n",
    "    Input\n",
    "        w - angular wave frequency = 2*pi/T where T = wave period [1/s]\n",
    "        h - water depth [m]\n",
    "    Returns\n",
    "        kh - wavenumber * depth [m]\n",
    "\n",
    "    Orbital velocities from kh are accurate to 3e-12 !\n",
    "\n",
    "    RL Soulsby (2006) \\\"Simplified calculation of wave orbital velocities\\\"\n",
    "    HR Wallingford Report TR 155, February 2006\n",
    "    Eqns. 12a - 14\n",
    "    \"\"\"\n",
    "    g = 9.81\n",
    "    x = w**2.0 *h/g\n",
    "    y = np.sqrt(x) * (x<1.) + x *(x>=1.)\n",
    "    # This appalling bit of code is faster than a loop in Matlab and Fortran\n",
    "    # but have not tested speed in Python.\n",
    "    t = np.tanh( y )\n",
    "    y = y-( (y*t -x)/(t+y*(1.0-t**2.0)))\n",
    "    t = np.tanh( y )\n",
    "    y = y-( (y*t -x)/(t+y*(1.0-t**2.0)))\n",
    "    t = np.tanh( y )\n",
    "    y = y-( (y*t -x)/(t+y*(1.0-t**2.0)))\n",
    "    kh = y\n",
    "    return kh\n",
    "\n",
    "def ursell( aw, k, h ):\n",
    "    \"\"\"\n",
    "    Calculate Ursell number\n",
    "    Ur = ursell( aw, k, h)\n",
    "        \n",
    "    The Ursell number is a measure of asymmetry based on Stokes 2nd order\n",
    "    wave equations and strictly speaking applies to shallow water (kh<1).\n",
    "    It proportiona to the ratio of the 2nd order wave height term over\n",
    "    the 1st order term.\n",
    "    \n",
    "    Input:\n",
    "        aw = wave amplitude (H/2) [m/s]\n",
    "        k  = wave number []\n",
    "        h  = water depth [m]\n",
    "        \n",
    "    Returns:\n",
    "        Ursell number\n",
    "        \n",
    "    Reussink et al. Eqn 6.\n",
    "    \"\"\"\n",
    "    return (3./4.)*aw*k/(k*h)**3.\n",
    "\n",
    "def urms_25( Hs, Tp, h ):\n",
    "    \"\"\"\n",
    "    Calculate u_rms for JONSWAP spectr\n",
    "    urms = urms_28( Hs, Tp, h )\n",
    "    \n",
    "    Equation 25 in Soulsby, R. L. (2006), \"Simplified calculation of \n",
    "    wave orbital velocities\". Report TR 155, Release 1.0, Feb. 2006.\n",
    "    HR Wallingford.\n",
    "    \n",
    "    \"\"\"\n",
    "    Tz = Tp/1.28           # can't remember where I found this\n",
    "    Tz = 0.777*Tp          # very similar: Tucker & Pitt, p. 103 \n",
    "    Tn = ( h/g )**(1./2.)                      # Eqn 8\n",
    "    t = Tn /Tz                                 # Eqn 27\n",
    "    A = (6500.+(0.56 + 15.54*t)**6)**(1./6.)   # Eqn 26\n",
    "    urms_25 = (0.25*Hs/Tn) /((1.+A*t**2)**3)   # Eqn 25\n",
    "    return urms_25\n",
    "\n",
    "g = 9.81\n",
    "rhos = 2650.\n",
    "rho = 1040.\n",
    "es = 0.01\n",
    "Cs = 0.01\n",
    "B = 0.\n",
    "ws= 0.033\n",
    "n = 10\n",
    "h = np.linspace(5,50,n)\n",
    "H = 3.\n",
    "T = 10.\n",
    "w = 2.*np.pi/T\n",
    "kh = qkhfs(w,h)\n",
    "k = kh/h\n",
    "L = np.pi*2./k\n",
    "aw = H/2.\n",
    "Ur = ursell(aw, k, h)\n",
    "u0 = np.pi*H/(T*np.sinh(kh))\n",
    "# the sqrt(2) factor converts from RMS to wave-orbital amplitude:\n",
    "u0s = np.sqrt(2.)*urms_25(H, T, h)\n",
    "u1 = 3.*np.pi**2*H**2/(4.*T*L*np.sinh(kh)**2)\n",
    "u1s = u1 # for now\n",
    "u2 = 3.*np.pi**2*H**2/(4.*T*L*np.sinh(kh)**4)\n",
    "u2s = u2 # for now\n",
    "K = 16*es*Cs*rho/(15.*np.pi*(rhos-rho)*g)\n",
    "qs = K*(u0**3/ws)*(-5*u1-3*u2+B*u0**2/ws)\n",
    "qss = K*(u0s**3/ws)*(-5*u1s-3*u2s+B*u0s**2/ws)\n",
    "print qss/qs\n",
    "# Equilibrium profile\n",
    "B0 =   (ws/u0**2)*(5*u1+3*u2)\n",
    "B0s = (ws/u0s**2)*(5*u1s+3*u2s)\n",
    "if n<11:\n",
    "    print 'h=',h\n",
    "    print 'kh=',kh\n",
    "    print 'Ur=',Ur\n",
    "    print 'u0=',u0\n",
    "    print 'u0s=',u0s\n",
    "    print 'u1=',u1\n",
    "    print 'u2=',u2\n",
    "    print 'qs=',qs\n",
    "    print 'B0=',B0\n",
    "    print 'B0s=',B0s"
   ]
  },
  {
   "cell_type": "code",
   "execution_count": 3,
   "metadata": {
    "collapsed": false,
    "scrolled": true
   },
   "outputs": [
    {
     "data": {
      "image/png": "[encoded data removed]",
      "text/plain": [
       "<matplotlib.figure.Figure at 0x3923160>"
      ]
     },
     "metadata": {},
     "output_type": "display_data"
    }
   ],
   "source": [
    "# compare orbital velocities\n",
    "fig = plt.figure()\n",
    "plt.plot(h,u0,label = 'linear')\n",
    "plt.plot(h,u0s, label = 'JONSWAP')\n",
    "#plt.ylim(ymax=0., ymin=-50)\n",
    "plt.ylabel('u0 (m/s)')\n",
    "plt.xlabel('Depth (m)')\n",
    "plt.xlim(xmax=50., xmin=0)\n",
    "legend = plt.legend(loc='upper right', shadow=True)"
   ]
  },
  {
   "cell_type": "code",
   "execution_count": 4,
   "metadata": {
    "collapsed": false
   },
   "outputs": [
    {
     "data": {
      "image/png": "[encoded data removed]",
      "text/plain": [
       "<matplotlib.figure.Figure at 0xa6a1b00>"
      ]
     },
     "metadata": {},
     "output_type": "display_data"
    }
   ],
   "source": [
    "# reproduce Fig. 1. This does not exactly match. Maybe needs different ws (in K)?\n",
    "fig = plt.figure()\n",
    "plt.plot(-np.log10(-qs),-h,label = 'qs linear')\n",
    "plt.plot(-np.log10(-qss),-h, label = 'qs JONSWAP')\n",
    "plt.ylim(ymax=0., ymin=-50)\n",
    "plt.xlabel('log10 qs (m2/s)')\n",
    "plt.ylabel('Depth (m)')\n",
    "legend = plt.legend(loc='upper right', shadow=True)"
   ]
  },
  {
   "cell_type": "code",
   "execution_count": 9,
   "metadata": {
    "collapsed": false
   },
   "outputs": [
    {
     "name": "stdout",
     "output_type": "stream",
     "text": [
      "(9L,) (5L,) (9L, 5L)\n"
     ]
    },
    {
     "data": {
      "text/plain": [
       "<matplotlib.text.Text at 0xbe37470>"
      ]
     },
     "execution_count": 9,
     "metadata": {},
     "output_type": "execute_result"
    },
    {
     "data": {
      "image/png": "[encoded data removed]",
      "text/plain": [
       "<matplotlib.figure.Figure at 0xb9a6160>"
      ]
     },
     "metadata": {},
     "output_type": "display_data"
    }
   ],
   "source": [
    "# calculate geomorphic wave\n",
    "T = np.arange(6.,16.,2.)\n",
    "H = np.arange(1.,5.5, .5)\n",
    "h = 50.\n",
    "M = np.zeros((len(H),len(T)))\n",
    "print np.shape(H),np.shape(T),np.shape(M)\n",
    "for i in xrange(len(H)):\n",
    "    for j in xrange(len(T)):\n",
    "        w = 2.*np.pi/T[j]\n",
    "        kh = qkhfs(w,h)\n",
    "        k = kh/h\n",
    "        L = np.pi*2./k\n",
    "        #M[i,j]=(H[i]**3/((T[j]**3)*np.sinh(kh)**3))*( (-15.*np.pi**2*H[i]**2)/(4.*T[j]*L*np.sinh(kh)**2) + \\\n",
    "        M[i,j]= (H[i]**5)/((T[j]**3)*(np.sinh(kh)**3))\n",
    "        \n",
    "H, T = np.meshgrid(T, H)\n",
    "fig = plt.figure()\n",
    "plt.contour(H,T,np.log10(M))\n",
    "#plt.contour(H,T,M)\n",
    "plt.title('Contour Plot of H^5/(T^3 sinh^3(kh))')\n",
    "plt.ylabel('H (m)')\n",
    "plt.xlabel('T (s)')"
   ]
  },
  {
   "cell_type": "markdown",
   "metadata": {},
   "source": [
    "The equilibrium profiles are calculated using a simple integration...I think it is ok if enough points are included.\n",
    "The functions and variables modified with \"s\" are Sherwood modifications to the equations. Reducing the u1 term (u1s)\n",
    "by adding undertow has the counterintuitive result of flattening and even reversing the slope, because slope is the only term balancing the transport terms to acheive equilibrium."
   ]
  },
  {
   "cell_type": "code",
   "execution_count": 6,
   "metadata": {
    "collapsed": false
   },
   "outputs": [
    {
     "ename": "ValueError",
     "evalue": "setting an array element with a sequence.",
     "output_type": "error",
     "traceback": [
      "\u001b[1;31m---------------------------------------------------------------------------\u001b[0m",
      "\u001b[1;31mValueError\u001b[0m                                Traceback (most recent call last)",
      "\u001b[1;32m<ipython-input-6-da998694fb81>\u001b[0m in \u001b[0;36m<module>\u001b[1;34m()\u001b[0m\n\u001b[0;32m     67\u001b[0m \u001b[1;32mfor\u001b[0m \u001b[0mi\u001b[0m \u001b[1;32min\u001b[0m \u001b[0mxrange\u001b[0m\u001b[1;33m(\u001b[0m\u001b[1;36m1\u001b[0m\u001b[1;33m,\u001b[0m\u001b[0mlen\u001b[0m\u001b[1;33m(\u001b[0m\u001b[0mz\u001b[0m\u001b[1;33m)\u001b[0m\u001b[1;33m)\u001b[0m\u001b[1;33m:\u001b[0m\u001b[1;33m\u001b[0m\u001b[0m\n\u001b[0;32m     68\u001b[0m     \u001b[1;31m# trapezoidal rule\u001b[0m\u001b[1;33m\u001b[0m\u001b[1;33m\u001b[0m\u001b[0m\n\u001b[1;32m---> 69\u001b[1;33m     \u001b[0mx\u001b[0m\u001b[1;33m[\u001b[0m\u001b[0mi\u001b[0m\u001b[1;33m]\u001b[0m \u001b[1;33m=\u001b[0m \u001b[0mx\u001b[0m\u001b[1;33m[\u001b[0m\u001b[0mi\u001b[0m\u001b[1;33m-\u001b[0m\u001b[1;36m1\u001b[0m\u001b[1;33m]\u001b[0m \u001b[1;33m+\u001b[0m \u001b[1;33m(\u001b[0m\u001b[0mz\u001b[0m\u001b[1;33m[\u001b[0m\u001b[0mi\u001b[0m\u001b[1;33m]\u001b[0m\u001b[1;33m-\u001b[0m\u001b[0mz\u001b[0m\u001b[1;33m[\u001b[0m\u001b[0mi\u001b[0m\u001b[1;33m-\u001b[0m\u001b[1;36m1\u001b[0m\u001b[1;33m]\u001b[0m\u001b[1;33m)\u001b[0m\u001b[1;33m*\u001b[0m\u001b[1;36m0.5\u001b[0m\u001b[1;33m*\u001b[0m\u001b[1;33m(\u001b[0m\u001b[1;36m1.\u001b[0m\u001b[1;33m/\u001b[0m\u001b[0mB0_func\u001b[0m\u001b[1;33m(\u001b[0m\u001b[0mz\u001b[0m\u001b[1;33m[\u001b[0m\u001b[0mi\u001b[0m\u001b[1;33m-\u001b[0m\u001b[1;36m1\u001b[0m\u001b[1;33m]\u001b[0m\u001b[1;33m,\u001b[0m\u001b[0mT\u001b[0m\u001b[1;33m,\u001b[0m\u001b[0mH\u001b[0m\u001b[1;33m,\u001b[0m\u001b[0mws\u001b[0m\u001b[1;33m)\u001b[0m\u001b[1;33m+\u001b[0m\u001b[1;36m1.\u001b[0m\u001b[1;33m/\u001b[0m\u001b[0mB0_func\u001b[0m\u001b[1;33m(\u001b[0m\u001b[0mz\u001b[0m\u001b[1;33m[\u001b[0m\u001b[0mi\u001b[0m\u001b[1;33m]\u001b[0m\u001b[1;33m,\u001b[0m\u001b[0mT\u001b[0m\u001b[1;33m,\u001b[0m\u001b[0mH\u001b[0m\u001b[1;33m,\u001b[0m\u001b[0mws\u001b[0m\u001b[1;33m)\u001b[0m\u001b[1;33m)\u001b[0m\u001b[1;33m\u001b[0m\u001b[0m\n\u001b[0m\u001b[0;32m     70\u001b[0m     \u001b[0mxs\u001b[0m\u001b[1;33m[\u001b[0m\u001b[0mi\u001b[0m\u001b[1;33m]\u001b[0m \u001b[1;33m=\u001b[0m \u001b[0mxs\u001b[0m\u001b[1;33m[\u001b[0m\u001b[0mi\u001b[0m\u001b[1;33m-\u001b[0m\u001b[1;36m1\u001b[0m\u001b[1;33m]\u001b[0m \u001b[1;33m+\u001b[0m \u001b[1;33m(\u001b[0m\u001b[0mz\u001b[0m\u001b[1;33m[\u001b[0m\u001b[0mi\u001b[0m\u001b[1;33m]\u001b[0m\u001b[1;33m-\u001b[0m\u001b[0mz\u001b[0m\u001b[1;33m[\u001b[0m\u001b[0mi\u001b[0m\u001b[1;33m-\u001b[0m\u001b[1;36m1\u001b[0m\u001b[1;33m]\u001b[0m\u001b[1;33m)\u001b[0m\u001b[1;33m*\u001b[0m\u001b[1;36m0.5\u001b[0m\u001b[1;33m*\u001b[0m\u001b[1;33m(\u001b[0m\u001b[1;36m1.\u001b[0m\u001b[1;33m/\u001b[0m\u001b[0mB0s_func\u001b[0m\u001b[1;33m(\u001b[0m\u001b[0mz\u001b[0m\u001b[1;33m[\u001b[0m\u001b[0mi\u001b[0m\u001b[1;33m-\u001b[0m\u001b[1;36m1\u001b[0m\u001b[1;33m]\u001b[0m\u001b[1;33m,\u001b[0m\u001b[0mT\u001b[0m\u001b[1;33m,\u001b[0m\u001b[0mH\u001b[0m\u001b[1;33m,\u001b[0m\u001b[0mws\u001b[0m\u001b[1;33m)\u001b[0m\u001b[1;33m+\u001b[0m\u001b[1;36m1.\u001b[0m\u001b[1;33m/\u001b[0m\u001b[0mB0s_func\u001b[0m\u001b[1;33m(\u001b[0m\u001b[0mz\u001b[0m\u001b[1;33m[\u001b[0m\u001b[0mi\u001b[0m\u001b[1;33m]\u001b[0m\u001b[1;33m,\u001b[0m\u001b[0mT\u001b[0m\u001b[1;33m,\u001b[0m\u001b[0mH\u001b[0m\u001b[1;33m,\u001b[0m\u001b[0mws\u001b[0m\u001b[1;33m)\u001b[0m\u001b[1;33m)\u001b[0m\u001b[1;33m\u001b[0m\u001b[0m\n\u001b[0;32m     71\u001b[0m     \u001b[1;31m#print \"i=\",i, z[i], x[i], xs[i]\u001b[0m\u001b[1;33m\u001b[0m\u001b[1;33m\u001b[0m\u001b[0m\n",
      "\u001b[1;31mValueError\u001b[0m: setting an array element with a sequence."
     ]
    }
   ],
   "source": [
    "# calculate equilibrium profiles\n",
    "\n",
    "def StokesQ(h, T, H):\n",
    "    \"\"\"\n",
    "    Calculate Stokes volume transport\n",
    "    Assume onshore transport, so cos(theta) term = 1\n",
    "    \"\"\"\n",
    "    g = 9.81\n",
    "    w = 2.*np.pi/T\n",
    "    kh = qkhfs(w,h)\n",
    "    k = kh/h\n",
    "    L = np.pi*2./k\n",
    "    c = L/T\n",
    "    Qw = g*H**2/(16.*c)\n",
    "    return Qw\n",
    "\n",
    "def u1_Stokes(h, T, H):\n",
    "    \"\"\"\n",
    "    Assume a log profile and calc u1 at top of WBL\n",
    "    \"\"\"\n",
    "    Qw = StokesQ(h, T, H)\n",
    "    z0 = 0.001\n",
    "    ubar = Qw/h\n",
    "    ustr = ubar*0.41/(np.log(0.6*h/z0))\n",
    "    # estimate the top of the WBL. Results are sensitive to this and z0\n",
    "    # this should really be calculated with knowledge of tauw and D50\n",
    "    zw = 0.01*T/(2.*np.pi)\n",
    "    u = (ustr/0.41)*np.log(zw/z0)\n",
    "    return u\n",
    "\n",
    "def B0_func(h, T, H, ws):\n",
    "    \"\"\"\n",
    "    Calculate equilibrium slope\n",
    "    \"\"\"\n",
    "    w = 2.*np.pi/T\n",
    "    kh = qkhfs(w,h)\n",
    "    k = kh/h\n",
    "    L = np.pi*2./k\n",
    "    u0 = np.pi*H/(T*np.sinh(kh))\n",
    "    u1 = 3.*np.pi**2*H**2/(4.*T*L*np.sinh(kh)**2)\n",
    "    u2 = 3.*np.pi**2*H**2/(4.*T*L*np.sinh(kh)**4)\n",
    "    B0 = (ws/u0**2)*(5.*u1 + 3.*u2)\n",
    "    return B0\n",
    "\n",
    "def B0s_func(h, T, H, ws ):\n",
    "    \"\"\"\n",
    "    Calculate equilibrium slope with diff. terms\n",
    "    \"\"\"\n",
    "    w = 2.*np.pi/T\n",
    "    kh = qkhfs(w,h)\n",
    "    k = kh/h\n",
    "    L = np.pi*2./k\n",
    "    u0s = np.sqrt(2.)*urms_25(H, T, h)\n",
    "    u1s = 3.*np.pi**2*H**2/(4.*T*L*np.sinh(kh)**2)\n",
    "    u1S = u1_Stokes(h, T, H)\n",
    "    #print \"u1s, u1S=\",u1s,u1S\n",
    "    u2s = 3.*np.pi**2*H**2/(4.*T*L*np.sinh(kh)**4)\n",
    "    B0s = (ws/u0s**2)*(5.*(u1s) + 3.*u2s)\n",
    "    return B0s\n",
    "\n",
    "dz = 2.\n",
    "z = np.arange(1.,100.+dz,dz)\n",
    "x = np.zeros_like(z)\n",
    "xs = np.zeros_like(z)\n",
    "x[0] = 0.\n",
    "xs[0]= 0.\n",
    "for i in xrange(1,len(z)):\n",
    "    # trapezoidal rule\n",
    "    x[i] = x[i-1] + (z[i]-z[i-1])*0.5*(1./B0_func(z[i-1],T,H,ws)+1./B0_func(z[i],T,H,ws))\n",
    "    xs[i] = xs[i-1] + (z[i]-z[i-1])*0.5*(1./B0s_func(z[i-1],T,H,ws)+1./B0s_func(z[i],T,H,ws))\n",
    "    #print \"i=\",i, z[i], x[i], xs[i]\n",
    "\n",
    "    \n",
    "fig = plt.figure()\n",
    "plt.plot(x, -z,label ='linear')\n",
    "plt.plot(xs,-z,label='JONSWAP')\n",
    "plt.xlabel('Offshore distance (m')\n",
    "plt.ylabel('Depth (m)')\n",
    "legend = plt.legend(loc='upper right', shadow=True)"
   ]
  },
  {
   "cell_type": "code",
   "execution_count": null,
   "metadata": {
    "collapsed": false
   },
   "outputs": [],
   "source": [
    "whos"
   ]
  }
 ],
 "metadata": {
  "kernelspec": {
   "display_name": "Python 2",
   "language": "python",
   "name": "python2"
  },
  "language_info": {
   "codemirror_mode": {
    "name": "ipython",
    "version": 2
   },
   "file_extension": ".py",
   "mimetype": "text/x-python",
   "name": "python",
   "nbconvert_exporter": "python",
   "pygments_lexer": "ipython2",
   "version": "2.7.10"
  }
 },
 "nbformat": 4,
 "nbformat_minor": 0
}
