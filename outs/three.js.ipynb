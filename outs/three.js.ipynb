{
 "cells": [
  {
   "cell_type": "code",
   "execution_count": 8,
   "metadata": {
    "collapsed": false
   },
   "outputs": [
    {
     "data": {
      "application/javascript": [
       "require.config({\n",
       "    paths: {\n",
       "        threejs: '//threejs.org/build/three'\n",
       "    }\n",
       "});"
      ],
      "text/plain": [
       "<IPython.core.display.Javascript object>"
      ]
     },
     "metadata": {},
     "output_type": "display_data"
    }
   ],
   "source": [
    "%%javascript\n",
    "require.config({\n",
    "    paths: {\n",
    "        threejs: '//threejs.org/build/three'\n",
    "    }\n",
    "});"
   ]
  },
  {
   "cell_type": "code",
   "execution_count": 13,
   "metadata": {
    "collapsed": false
   },
   "outputs": [
    {
     "data": {
      "text/html": [
       "<script id=\"vertexShader\" type=\"x-shader/x-vertex\">\n",
       "\n",
       "void main() {\n",
       "  gl_Position = vec4(position,1.0);\n",
       "}\n",
       "\n",
       "</script>"
      ],
      "text/plain": [
       "<IPython.core.display.HTML object>"
      ]
     },
     "metadata": {},
     "output_type": "display_data"
    }
   ],
   "source": [
    "%%html\n",
    "<script id=\"vertexShader\" type=\"x-shader/x-vertex\">\n",
    "\n",
    "void main() {\n",
    "  gl_Position = vec4(position,1.0);\n",
    "}\n",
    "\n",
    "</script>"
   ]
  },
  {
   "cell_type": "code",
   "execution_count": 14,
   "metadata": {
    "collapsed": false
   },
   "outputs": [
    {
     "data": {
      "text/html": [
       "<script id=\"fragmentShader\" type=\"x-shader/x-fragment\">\n",
       "uniform vec2 resolution;\n",
       "uniform float time;\n",
       "\n",
       "void main() {\n",
       "    vec2 p = -1.0 + 2.0 * gl_FragCoord.xy / resolution.xy;\n",
       "    float a = time*40.0;\n",
       "    float d,e,f,g=1.0/40.0,h,i,r,q;\n",
       "    e=400.0*(p.x*0.5+0.5);\n",
       "    f=400.0*(p.y*0.5+0.5);\n",
       "    i=200.0+sin(e*g+a/150.0)*20.0;\n",
       "    d=200.0+cos(f*g/2.0)*18.0+cos(e*g)*7.0;\n",
       "    r=sqrt(pow(abs(i-e),2.0)+pow(abs(d-f),2.0));\n",
       "    q=f/r;\n",
       "    e=(r*cos(q))-a/2.0;f=(r*sin(q))-a/2.0;\n",
       "    d=sin(e*g)*176.0+sin(e*g)*164.0+r;\n",
       "    h=((f+d)+a/2.0)*g;\n",
       "    i=cos(h+r*p.x/1.3)*(e+e+a)+cos(q*g*6.0)*(r+h/3.0);\n",
       "    h=sin(f*g)*144.0-sin(e*g)*212.0*p.x;\n",
       "    h=(h+(f-e)*q+sin(r-(a+h)/7.0)*10.0+i/4.0)*g;\n",
       "    i+=cos(h*2.3*sin(a/350.0-q))*184.0*sin(q-(r*4.3+a/12.0)*g)+tan(r*g+h)*184.0*cos(r*g+h);\n",
       "    i=mod(i/5.6,256.0)/64.0;\n",
       "    if(i<0.0) i+=4.0;\n",
       "    if(i>=2.0) i=4.0-i;\n",
       "    d=r/350.0;\n",
       "    d+=sin(d*d*8.0)*0.52;\n",
       "    f=(sin(a*g)+1.0)/2.0;\n",
       "    gl_FragColor=vec4(vec3(f*i/1.6,i/2.0+d/13.0,i)*d*p.x+vec3(i/1.3+d/8.0,i/2.0+d/18.0,i)*d*(1.0-p.x),1.0);\n",
       "}\n",
       "</script>"
      ],
      "text/plain": [
       "<IPython.core.display.HTML object>"
      ]
     },
     "metadata": {},
     "output_type": "display_data"
    }
   ],
   "source": [
    "%%html\n",
    "<script id=\"fragmentShader\" type=\"x-shader/x-fragment\">\n",
    "uniform vec2 resolution;\n",
    "uniform float time;\n",
    "\n",
    "void main() {\n",
    "    vec2 p = -1.0 + 2.0 * gl_FragCoord.xy / resolution.xy;\n",
    "    float a = time*40.0;\n",
    "    float d,e,f,g=1.0/40.0,h,i,r,q;\n",
    "    e=400.0*(p.x*0.5+0.5);\n",
    "    f=400.0*(p.y*0.5+0.5);\n",
    "    i=200.0+sin(e*g+a/150.0)*20.0;\n",
    "    d=200.0+cos(f*g/2.0)*18.0+cos(e*g)*7.0;\n",
    "    r=sqrt(pow(abs(i-e),2.0)+pow(abs(d-f),2.0));\n",
    "    q=f/r;\n",
    "    e=(r*cos(q))-a/2.0;f=(r*sin(q))-a/2.0;\n",
    "    d=sin(e*g)*176.0+sin(e*g)*164.0+r;\n",
    "    h=((f+d)+a/2.0)*g;\n",
    "    i=cos(h+r*p.x/1.3)*(e+e+a)+cos(q*g*6.0)*(r+h/3.0);\n",
    "    h=sin(f*g)*144.0-sin(e*g)*212.0*p.x;\n",
    "    h=(h+(f-e)*q+sin(r-(a+h)/7.0)*10.0+i/4.0)*g;\n",
    "    i+=cos(h*2.3*sin(a/350.0-q))*184.0*sin(q-(r*4.3+a/12.0)*g)+tan(r*g+h)*184.0*cos(r*g+h);\n",
    "    i=mod(i/5.6,256.0)/64.0;\n",
    "    if(i<0.0) i+=4.0;\n",
    "    if(i>=2.0) i=4.0-i;\n",
    "    d=r/350.0;\n",
    "    d+=sin(d*d*8.0)*0.52;\n",
    "    f=(sin(a*g)+1.0)/2.0;\n",
    "    gl_FragColor=vec4(vec3(f*i/1.6,i/2.0+d/13.0,i)*d*p.x+vec3(i/1.3+d/8.0,i/2.0+d/18.0,i)*d*(1.0-p.x),1.0);\n",
    "}\n",
    "</script>"
   ]
  },
  {
   "cell_type": "code",
   "execution_count": 15,
   "metadata": {
    "collapsed": false
   },
   "outputs": [
    {
     "data": {
      "application/javascript": [
       "require(['threejs'], function(THREE){\n",
       "    var camera, scene, renderer;\n",
       "    var uniforms;\n",
       "\n",
       "    init();\n",
       "    //render();\n",
       "    animate();\n",
       "\n",
       "    function init() {\n",
       "        camera = new THREE.Camera();\n",
       "        camera.position.z = 1;\n",
       "\n",
       "        scene = new THREE.Scene();\n",
       "\n",
       "        var geometry = new THREE.PlaneBufferGeometry( 2, 2 );\n",
       "\n",
       "        uniforms = {\n",
       "            time:       { value: 1.0 },\n",
       "            resolution: { value: new THREE.Vector2() }\n",
       "        };\n",
       "        \n",
       "        var vs = document.getElementById( 'vertexShader' ).textContent\n",
       "        var fs = document.getElementById( 'fragmentShader' ).textContent\n",
       "        \n",
       "        var material = new THREE.ShaderMaterial( {\n",
       "            uniforms: uniforms,\n",
       "            vertexShader: vs,\n",
       "            fragmentShader: fs\n",
       "        } );\n",
       "\n",
       "        var mesh = new THREE.Mesh( geometry, material );\n",
       "        scene.add( mesh );\n",
       "\n",
       "        renderer = new THREE.WebGLRenderer();\n",
       "        \n",
       "        renderer.setSize(980, 500);\n",
       "        uniforms.resolution.value.x = renderer.domElement.width;\n",
       "        uniforms.resolution.value.y = renderer.domElement.height;\n",
       "        \n",
       "        element.append( renderer.domElement );\n",
       "    }\n",
       "\n",
       "    function animate() {\n",
       "        requestAnimationFrame( animate );\n",
       "        render();\n",
       "    }\n",
       "\n",
       "    function render() {\n",
       "        uniforms.time.value += 0.05;\n",
       "        renderer.render( scene, camera );\n",
       "    }    \n",
       "});"
      ],
      "text/plain": [
       "<IPython.core.display.Javascript object>"
      ]
     },
     "metadata": {},
     "output_type": "display_data"
    }
   ],
   "source": [
    "%%javascript\n",
    "require(['threejs'], function(THREE){\n",
    "    var camera, scene, renderer;\n",
    "    var uniforms;\n",
    "\n",
    "    init();\n",
    "    //render();\n",
    "    animate();\n",
    "\n",
    "    function init() {\n",
    "        camera = new THREE.Camera();\n",
    "        camera.position.z = 1;\n",
    "\n",
    "        scene = new THREE.Scene();\n",
    "\n",
    "        var geometry = new THREE.PlaneBufferGeometry( 2, 2 );\n",
    "\n",
    "        uniforms = {\n",
    "            time:       { value: 1.0 },\n",
    "            resolution: { value: new THREE.Vector2() }\n",
    "        };\n",
    "        \n",
    "        var vs = document.getElementById( 'vertexShader' ).textContent\n",
    "        var fs = document.getElementById( 'fragmentShader' ).textContent\n",
    "        \n",
    "        var material = new THREE.ShaderMaterial( {\n",
    "            uniforms: uniforms,\n",
    "            vertexShader: vs,\n",
    "            fragmentShader: fs\n",
    "        } );\n",
    "\n",
    "        var mesh = new THREE.Mesh( geometry, material );\n",
    "        scene.add( mesh );\n",
    "\n",
    "        renderer = new THREE.WebGLRenderer();\n",
    "        \n",
    "        renderer.setSize(980, 500);\n",
    "        uniforms.resolution.value.x = renderer.domElement.width;\n",
    "        uniforms.resolution.value.y = renderer.domElement.height;\n",
    "        \n",
    "        element.append( renderer.domElement );\n",
    "    }\n",
    "\n",
    "    function animate() {\n",
    "        requestAnimationFrame( animate );\n",
    "        render();\n",
    "    }\n",
    "\n",
    "    function render() {\n",
    "        uniforms.time.value += 0.05;\n",
    "        renderer.render( scene, camera );\n",
    "    }    \n",
    "});"
   ]
  }
 ],
 "metadata": {
  "anaconda-cloud": {},
  "kernelspec": {
   "display_name": "Python [default]",
   "language": "python",
   "name": "python3"
  },
  "language_info": {
   "codemirror_mode": {
    "name": "ipython",
    "version": 3
   },
   "file_extension": ".py",
   "mimetype": "text/x-python",
   "name": "python",
   "nbconvert_exporter": "python",
   "pygments_lexer": "ipython3",
   "version": "3.5.2"
  }
 },
 "nbformat": 4,
 "nbformat_minor": 1
}
