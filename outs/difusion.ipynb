{
 "cells": [
  {
   "cell_type": "markdown",
   "metadata": {
    "collapsed": true
   },
   "source": [
    "# Diffussion\n",
    "\n",
    "Diffusion is the net movement of molecules or atoms from a region of high concentration (or high chemical potential) to a region of low concentration (or low chemical potential). This is also referred to as the movement of a substance down a concentration gradient. A gradient is the change in the value of a quantity (e.g., concentration, pressure, temperature) with the change in another variable (usually distance). For example, a change in concentration over a distance is called a concentration gradient, a change in pressure over a distance is called a pressure gradient, and a change in temperature over a distance is a called a temperature gradient.\n",
    "\n",
    "## Fick's first law \n",
    "\n",
    "Relates the diffusive flux to the concentration under the assumption of steady state. It postulates that the flux goes from regions of high concentration to regions of low concentration, with a magnitude that is proportional to the concentration gradient (spatial derivative), or in simplistic terms the concept that a solute will move from a region of high concentration to a region of low concentration across a concentration gradient. In one (spatial) dimension, the law is:\n",
    "\n",
    "$$J = -D \\frac{\\partial \\varphi}{\\partial x} $$\n",
    "where\n",
    "\n",
    "$J$ is the \"diffusion flux,\" of which the dimension is amount of substance per unit area per unit time, so it is expressed in such units as $mol m^−2 s^−1$. J measures the amount of substance that will flow through a unit area during a unit time interval.\n",
    "$D$ is the diffusion coefficient or diffusivity. Its dimension is area per unit time, so typical units for expressing it would be $m^2/s$.\n",
    "$\\phi$ (for ideal mixtures) is the concentration, of which the dimension is amount of substance per unit volume. It might be expressed in units of $mol/m^3$.\n",
    "$x$ is position, the dimension of which is length. It might thus be expressed in the unit m.\n",
    "\n",
    "## Fick's second law \n",
    "predicts how diffusion causes the concentration to change with time. It is a partial differential equation which in one dimension reads:\n",
    "\n",
    "$$\\frac{\\partial \\varphi}{\\partial t} = D\\,\\frac{\\partial^2 \\varphi}{\\partial x^2}\\,\\!$$\n",
    "\n",
    "where\n",
    "\n",
    "$\\phi$ is the concentration in dimensions of [(amount of substance) length−3], example mol/m3; φ = φ(x,'t) is a function that depends on location x and time t\n",
    "$t$ is time [s]\n",
    "$D$ is the diffusion coefficient in dimensions of [length2 time−1], example m2/s\n",
    "$x$ is the position [length], example m\n",
    "In two or more dimensions we must use the Laplacian Δ = ∇2, which generalises the second derivative, obtaining the equation\n",
    "\n",
    "$$\\frac{\\partial \\varphi}{\\partial t} = D\\,\\Delta \\varphi$$\n",
    "\n",
    "\n",
    "\n",
    "The solution of Fick's second law is a Gaussian function\n",
    "\n",
    "$$\\phi(x,t)=\\frac{1}{\\sqrt{2 \\pi \\sigma^2}}e^{-\\frac{x^2}{2\\sigma^2}}$$\n",
    "\n",
    "with $\\sigma=2Dt$ So if we can calculate σ from the distribution of particles, we can immediately get the diffusion coefficient. \n",
    "The simple approach is to start a random walk simulation with many particles and then fit the distribution of particles to a Gaussian.\n"
   ]
  },
  {
   "cell_type": "code",
   "execution_count": 1,
   "metadata": {
    "collapsed": false
   },
   "outputs": [],
   "source": [
    "#%matplotlib inline\n",
    "import numpy as np\n",
    "import matplotlib.pyplot as plt\n",
    "#import math"
   ]
  },
  {
   "cell_type": "markdown",
   "metadata": {},
   "source": [
    "### Posición final"
   ]
  },
  {
   "cell_type": "code",
   "execution_count": 2,
   "metadata": {
    "collapsed": false,
    "scrolled": true
   },
   "outputs": [],
   "source": [
    "n_particulas=100\n",
    "pasos=10\n",
    "posicion_x=np.zeros(n_particulas)\n",
    "posicion_y=np.zeros(n_particulas)\n",
    "dl=0.1\n",
    "for i in range(pasos):\n",
    "    angulos=2*np.pi*np.random.random((n_particulas))\n",
    "    posicion_x+=dl*np.cos(angulos)\n",
    "    posicion_y+=dl*np.sin(angulos)\n",
    "plt.scatter(posicion_x,posicion_y)\n",
    "plt.show()"
   ]
  },
  {
   "cell_type": "code",
   "execution_count": 3,
   "metadata": {
    "collapsed": false
   },
   "outputs": [],
   "source": [
    "n_particulas=100\n",
    "pasos=1000 #para D con 10^5 o 10^6\n",
    "posicion_x=np.zeros((n_particulas,pasos))\n",
    "posicion_y=np.zeros((n_particulas,pasos))\n",
    "dl=0.1\n",
    "trayec_x,trayec_y=[],[]\n",
    "for i in range(1,pasos):\n",
    "    angulos=2*np.pi*np.random.random((n_particulas))\n",
    "    posicion_x[:,i]+=posicion_x[:,i-1]+dl*np.cos(angulos)\n",
    "    posicion_y[:,i]+=posicion_y[:,i-1]+dl*np.sin(angulos)"
   ]
  },
  {
   "cell_type": "code",
   "execution_count": 4,
   "metadata": {
    "collapsed": false
   },
   "outputs": [
    {
     "name": "stderr",
     "output_type": "stream",
     "text": [
      "/usr/lib/pymodules/python2.7/matplotlib/backend_bases.py:2407: MatplotlibDeprecationWarning: Using default event loop until function specific to this GUI is implemented\n",
      "  warnings.warn(str, mplDeprecation)\n"
     ]
    }
   ],
   "source": [
    "plt.ion()\n",
    "for i in range(pasos):\n",
    "    fig = plt.gcf()\n",
    "    ax = plt.axes(xlim=(-5, 5), ylim=(-5, 5))\n",
    "    ax.scatter(posicion_x[:,i],posicion_y[:,i])\n",
    "    #plt.draw()\n",
    "    plt.show()\n",
    "    plt.pause(0.0005)\n",
    "    plt.clf()\n",
    "plt.close()\n",
    "plt.ioff()"
   ]
  },
  {
   "cell_type": "code",
   "execution_count": 9,
   "metadata": {
    "collapsed": false,
    "scrolled": true
   },
   "outputs": [],
   "source": [
    "for i in range(n_particulas):\n",
    "    plt.plot(posicion_x[i],posicion_y[i])\n",
    "plt.show()"
   ]
  },
  {
   "cell_type": "code",
   "execution_count": 10,
   "metadata": {
    "collapsed": false,
    "scrolled": true
   },
   "outputs": [],
   "source": [
    "#scatter para el tiempo t\n",
    "tiempo=10\n",
    "plt.scatter(posicion_x[:,tiempo],posicion_y[:,tiempo])\n",
    "plt.show()"
   ]
  },
  {
   "cell_type": "code",
   "execution_count": 12,
   "metadata": {
    "collapsed": false
   },
   "outputs": [
    {
     "name": "stderr",
     "output_type": "stream",
     "text": [
      "/usr/local/lib/python2.7/dist-packages/ipykernel/__main__.py:5: RuntimeWarning: invalid value encountered in divide\n"
     ]
    }
   ],
   "source": [
    "sigma_x=np.zeros(pasos)\n",
    "D=np.zeros(pasos)\n",
    "tiempo_a=np.arange(pasos)\n",
    "sigma_x[tiempo_a]=[np.std(posicion_x[:,i]) for i in tiempo_a]\n",
    "D=sigma_x**2/(2*tiempo_a)\n",
    "\"\"\"\"\"\"\"\"\"\n",
    "for i in range(1,pasos):\n",
    "    sigma_x[i]= np.std(posicion_x[:,i])\n",
    "    D[i]= sigma_x[i]**2 /( 2 * i)\n",
    "\"\"\"\"\"\"\"\"\"\n",
    "plt.plot(D[1:])\n",
    "plt.show()"
   ]
  },
  {
   "cell_type": "markdown",
   "metadata": {},
   "source": [
    "En una dimensión"
   ]
  },
  {
   "cell_type": "code",
   "execution_count": null,
   "metadata": {
    "collapsed": false
   },
   "outputs": [],
   "source": [
    "n_particulas=1000\n",
    "pasos=1000000\n",
    "posicion_1d=np.zeros(n_particulas)\n",
    "dl=0.1\n",
    "D=[]\n",
    "for i in range(1,pasos):\n",
    "    dx=2*dl*np.random.random(n_particulas)-dl\n",
    "    posicion_1d+=dx\n",
    "    D.append(np.std(posicion_1d)**2/(2*i))\n"
   ]
  },
  {
   "cell_type": "code",
   "execution_count": 14,
   "metadata": {
    "collapsed": true
   },
   "outputs": [],
   "source": [
    "plt.plot(D)\n",
    "plt.show()"
   ]
  },
  {
   "cell_type": "code",
   "execution_count": null,
   "metadata": {
    "collapsed": true
   },
   "outputs": [],
   "source": []
  },
  {
   "cell_type": "markdown",
   "metadata": {},
   "source": [
    "LO SIGUIENTE NO FUNCIONA BIEN, SON PRUEBAS DE ANIMACIONES "
   ]
  },
  {
   "cell_type": "code",
   "execution_count": null,
   "metadata": {
    "collapsed": true
   },
   "outputs": [],
   "source": [
    "#! pip install -U git+git://github.com/jakevdp/JSAnimation &> /dev/null"
   ]
  },
  {
   "cell_type": "code",
   "execution_count": null,
   "metadata": {
    "collapsed": false,
    "scrolled": true
   },
   "outputs": [],
   "source": [
    "# JS Animation import is available at http://github.com/jakevdp/JSAnimation\n",
    "from JSAnimation.IPython_display import display_animation\n",
    "from matplotlib import animation\n",
    "\n",
    "# First set up the figure, the axis, and the plot element we want to animate\n",
    "fig = plt.figure()\n",
    "ax = plt.axes(xlim=(0, 2), ylim=(-2, 2))\n",
    "line, = ax.scatter(posicion_x[:,0], posicion_x[:,0])\n",
    "\n",
    "# initialization function: plot the background of each frame\n",
    "def init():\n",
    "    line.set_data([], [])\n",
    "    return line,\n",
    "\n",
    "# animation function.  This is called sequentially\n",
    "def animate(i):\n",
    "    x = trayec_x[i]\n",
    "    y = trayec_y[i]\n",
    "    line.set_data(x, y)\n",
    "    return line,\n",
    "\n",
    "# call the animator.  blit=True means only re-draw the parts that have changed.\n",
    "anim = animation.FuncAnimation(fig, animate, init_func=init,\n",
    "                               frames=100, interval=20, blit=True)\n",
    "\n",
    "# call our new function to display the animation\n",
    "display_animation(anim)"
   ]
  },
  {
   "cell_type": "code",
   "execution_count": null,
   "metadata": {
    "collapsed": false
   },
   "outputs": [],
   "source": [
    "def update_plot(i, data, scat):\n",
    "    scat.set_array(data[i])\n",
    "    return scat,\n",
    "\n",
    "numframes = 100\n",
    "numpoints = 10\n",
    "color_data = np.random.random((numframes, numpoints))\n",
    "x, y, c = np.random.random((3, numpoints))\n",
    "fig = plt.figure()\n",
    "scat = plt.scatter(x, y, c=c, s=100)\n",
    "ani = animation.FuncAnimation(fig, update_plot, frames=xrange(numframes),\n",
    "                                  fargs=(color_data, scat))\n",
    "display_animation(ani)\n",
    "\n",
    "\n"
   ]
  },
  {
   "cell_type": "code",
   "execution_count": null,
   "metadata": {
    "collapsed": false
   },
   "outputs": [],
   "source": [
    "from matplotlib import animation\n",
    "from JSAnimation import IPython_display\n",
    "\n",
    "fig = plt.figure()\n",
    "ax = plt.axes(xlim=(0, 10), ylim=(-2, 2))\n",
    "line, = ax.scatter([], [])\n",
    "\n",
    "def init():\n",
    "    line.set_data([], [])\n",
    "    return line,\n",
    "\n",
    "def animate(i):\n",
    "    x = np.linspace(0, 10, 1000)\n",
    "    y = np.cos(i * 0.02 * np.pi) * np.sin(x - i * 0.02 * np.pi)\n",
    "    line.set_data(x, y)\n",
    "    return line,\n",
    "\n",
    "animation.FuncAnimation(fig, animate, init_func=init,\n",
    "                        frames=100, interval=30)"
   ]
  },
  {
   "cell_type": "code",
   "execution_count": null,
   "metadata": {
    "collapsed": true
   },
   "outputs": [],
   "source": []
  }
 ],
 "metadata": {
  "kernelspec": {
   "display_name": "Python 2",
   "language": "python",
   "name": "python2"
  },
  "language_info": {
   "codemirror_mode": {
    "name": "ipython",
    "version": 2
   },
   "file_extension": ".py",
   "mimetype": "text/x-python",
   "name": "python",
   "nbconvert_exporter": "python",
   "pygments_lexer": "ipython2",
   "version": "2.7.6"
  }
 },
 "nbformat": 4,
 "nbformat_minor": 0
}
