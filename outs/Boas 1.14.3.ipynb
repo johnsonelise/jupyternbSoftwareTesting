{
 "cells": [
  {
   "cell_type": "markdown",
   "metadata": {},
   "source": [
    "We got hung up on Boas $\\S 1.14 \\#3$ in class today. The reason is a bit silly, so I'll do some extra credit to make up for it. Here's the problem:\n",
    "\n",
    "If $0 < x < \\frac{1}{2}$, show [using theorem (14.3)] that $\\sqrt{1+x} = 1+\\frac{1}{2}x$ with an error less than 0.032. Hint: Note that the series is alternating after the first term."
   ]
  },
  {
   "cell_type": "markdown",
   "metadata": {},
   "source": [
    "So, here's the theorem asked for:\n",
    "\n",
    "**Theorem 14.3**: If $S = \\sum_{n=1}^{\\infty}a_n$ is an alternating series with $\\left|a_{n+1}\\right| < \\left|a_n\\right|$, and $\\lim_{n\\to\\infty} a_n = 0$, then $\\left|S-(a_1+a_2+\\cdots+a_n)\\right| \\le \\left|a_{n+1}\\right|$\n",
    "\n",
    "Great. That's straightforward. We can treat our series as $(1+x)^{\\frac{1}{2}}$ and use the binomial expansion with $p=\\frac{1}{2}$. That gives the first few terms as $1 + \\frac{1}{2} x - \\frac{1}{8} x^2 \\cdots$\n",
    "\n",
    "And, since it's clear that increasing $x$ increases the sum, so we can just plug in $x=\\frac{1}{2}$. Let's do that. It tells us that our error ought to be less than"
   ]
  },
  {
   "cell_type": "code",
   "execution_count": 1,
   "metadata": {},
   "outputs": [],
   "source": [
    "import numpy as np\n",
    "from matplotlib import pyplot as plt\n",
    "import seaborn as sns\n",
    "%matplotlib inline"
   ]
  },
  {
   "cell_type": "code",
   "execution_count": 2,
   "metadata": {},
   "outputs": [],
   "source": [
    "def exact(x):\n",
    "    return np.sqrt(1+x)\n",
    "def estimate(x):\n",
    "    return 1+0.5*x\n",
    "def error(x):\n",
    "    return np.abs(exact(x) - estimate(x))\n",
    "def error_bound(x):\n",
    "    return (1/8)*x**2"
   ]
  },
  {
   "cell_type": "code",
   "execution_count": 3,
   "metadata": {},
   "outputs": [
    {
     "data": {
      "text/plain": [
       "0.03125"
      ]
     },
     "execution_count": 3,
     "metadata": {},
     "output_type": "execute_result"
    }
   ],
   "source": [
    "error_bound(1/2)"
   ]
  },
  {
   "cell_type": "markdown",
   "metadata": {},
   "source": [
    "And, sure enough, that's less than 0.032. Just to double-check:"
   ]
  },
  {
   "cell_type": "code",
   "execution_count": 4,
   "metadata": {},
   "outputs": [
    {
     "name": "stdout",
     "output_type": "stream",
     "text": [
      "Exact 1.22474487139\n",
      "estimate 1.25\n",
      "error 0.0252551286084\n"
     ]
    }
   ],
   "source": [
    "print('Exact',exact(1/2))\n",
    "print('estimate',estimate(1/2))\n",
    "print('error',error(1/2))"
   ]
  },
  {
   "cell_type": "markdown",
   "metadata": {},
   "source": [
    "What was so confusing in class?\n",
    "\n",
    "Well, we started trying to use Theorem 14.4, which says basically the same thing as Theorem 14.3, except that it's for a power series. It requires that the terms after $N$ are an alternating seriess, and the error ends up $< \\left|a_{N+1}x^{N+1}\\right|\\div\\left(1-\\left|x\\right|\\right)$.\n",
    "\n",
    "So, first of all, let's see what the error looks like as you increase x"
   ]
  },
  {
   "cell_type": "code",
   "execution_count": 5,
   "metadata": {},
   "outputs": [],
   "source": [
    "def error_bound2(x):\n",
    "    return ((1/8)*x**2)/(1-np.abs(x))"
   ]
  },
  {
   "cell_type": "code",
   "execution_count": 7,
   "metadata": {},
   "outputs": [
    {
     "name": "stderr",
     "output_type": "stream",
     "text": [
      "/Users/mglerner/anaconda3/lib/python3.6/site-packages/ipykernel_launcher.py:2: RuntimeWarning: divide by zero encountered in true_divide\n",
      "  \n"
     ]
    },
    {
     "data": {
      "image/png": "[encoded data removed]",
      "text/plain": [
       "<matplotlib.figure.Figure at 0x11c83c5c0>"
      ]
     },
     "metadata": {},
     "output_type": "display_data"
    }
   ],
   "source": [
    "x = np.linspace(0,1,100)\n",
    "plt.plot(x,error(x),label='actual error')\n",
    "plt.plot(x,error_bound(x),label='14.3 bound')\n",
    "plt.plot(x,error_bound2(x),label='14.4 bound')\n",
    "plt.legend();"
   ]
  },
  {
   "cell_type": "markdown",
   "metadata": {},
   "source": [
    "That makes sense. The bound in 14.4 was more general. Using 14.3 in this specific case let us use a more specific answer. We can zoom in a bit to see the difference in our range:"
   ]
  },
  {
   "cell_type": "code",
   "execution_count": 8,
   "metadata": {},
   "outputs": [
    {
     "data": {
      "image/png": "[encoded data removed]",
      "text/plain": [
       "<matplotlib.figure.Figure at 0x11fcfe400>"
      ]
     },
     "metadata": {},
     "output_type": "display_data"
    }
   ],
   "source": [
    "x = np.linspace(0,1/2,100)\n",
    "plt.plot(x,error(x),label='actual error')\n",
    "plt.plot(x,error_bound(x),label='14.3 bound')\n",
    "plt.plot(x,error_bound2(x),label='14.4 bound')\n",
    "plt.legend();"
   ]
  },
  {
   "cell_type": "markdown",
   "metadata": {},
   "source": [
    "And that's a useful lesson: the more you know about your system, the more precise your error estimate can be."
   ]
  },
  {
   "cell_type": "code",
   "execution_count": null,
   "metadata": {
    "collapsed": true
   },
   "outputs": [],
   "source": []
  }
 ],
 "metadata": {
  "anaconda-cloud": {},
  "kernelspec": {
   "display_name": "Python 3",
   "language": "python",
   "name": "python3"
  },
  "language_info": {
   "codemirror_mode": {
    "name": "ipython",
    "version": 3
   },
   "file_extension": ".py",
   "mimetype": "text/x-python",
   "name": "python",
   "nbconvert_exporter": "python",
   "pygments_lexer": "ipython3",
   "version": "3.6.1"
  }
 },
 "nbformat": 4,
 "nbformat_minor": 1
}
