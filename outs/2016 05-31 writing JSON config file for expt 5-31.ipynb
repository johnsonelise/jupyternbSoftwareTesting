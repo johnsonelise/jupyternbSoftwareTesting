{
 "cells": [
  {
   "cell_type": "code",
   "execution_count": 1,
   "metadata": {
    "collapsed": true
   },
   "outputs": [],
   "source": [
    "import numpy as np\n",
    "import json\n",
    "from os.path import expanduser\n",
    "\n",
    "# This is a bit of magic to make matplotlib figures appear inline in the\n",
    "# notebook rather than in a new window.\n",
    "%matplotlib inline\n",
    "import matplotlib.pyplot as plt\n",
    "\n",
    "from pylab import rcParams\n",
    "rcParams['figure.figsize'] = (10.0, 8.0) # set default size of plots\n",
    "rcParams['image.interpolation'] = 'nearest'\n",
    "rcParams['image.cmap'] = 'gray'\n",
    "\n",
    "# Some more magic so that the notebook will reload external python modules;\n",
    "# see http://stackoverflow.com/questions/1907993/autoreload-of-modules-in-ipython\n",
    "%load_ext autoreload\n",
    "%autoreload 2"
   ]
  },
  {
   "cell_type": "code",
   "execution_count": 22,
   "metadata": {
    "collapsed": false
   },
   "outputs": [],
   "source": [
    "whitenoise_rf_mapping = '{\"function\": \"whitenoise\", \"length\": 5, \"seed\": 150, \"framerate\": 30, \"contrast\": 1.0, \"dist\": \"binary\", \"ndims\": [50,50]}'\n",
    "naturalscene_repeat = '{\"function\": \"naturalscene\", \"length\": 0.5, \"seed\": 90, \"framerate\": 30, \"contrast\": 1.0, \"ndims\": [50,50], \"imgdir\": \"images/\", \"imgext\": \"*.mat\", \"jumpevery\": 30, \"jitter\": 0.5}'\n",
    "naturalscene_clips = ['{\"function\": \"naturalscene\", \"length\": 5, \"seed\": %d, \"framerate\": 30, \"contrast\": 1.0, \"ndims\": [50,50], \"imgdir\": \"images/\", \"imgext\": \"*.mat\", \"jumpevery\": 30, \"jitter\": 0.5}' %(91+i)\n",
    "                      for i in range(14)]"
   ]
  },
  {
   "cell_type": "code",
   "execution_count": 23,
   "metadata": {
    "collapsed": false
   },
   "outputs": [
    {
     "data": {
      "text/plain": [
       "'{\"function\": \"whitenoise\", \"length\": 5, \"seed\": 150, \"framerate\": 30, \"contrast\": 1.0, \"dist\": \"binary\", \"ndims\": [50,50]}'"
      ]
     },
     "execution_count": 23,
     "metadata": {},
     "output_type": "execute_result"
    }
   ],
   "source": [
    "whitenoise_rf_mapping"
   ]
  },
  {
   "cell_type": "code",
   "execution_count": 24,
   "metadata": {
    "collapsed": false
   },
   "outputs": [
    {
     "data": {
      "text/plain": [
       "['{\"function\": \"naturalscene\", \"length\": 5, \"seed\": 91, \"framerate\": 30, \"contrast\": 1.0, \"ndims\": [50,50], \"imgdir\": \"images/\", \"imgext\": \"*.mat\", \"jumpevery\": 30, \"jitter\": 0.5}',\n",
       " '{\"function\": \"naturalscene\", \"length\": 5, \"seed\": 92, \"framerate\": 30, \"contrast\": 1.0, \"ndims\": [50,50], \"imgdir\": \"images/\", \"imgext\": \"*.mat\", \"jumpevery\": 30, \"jitter\": 0.5}',\n",
       " '{\"function\": \"naturalscene\", \"length\": 5, \"seed\": 93, \"framerate\": 30, \"contrast\": 1.0, \"ndims\": [50,50], \"imgdir\": \"images/\", \"imgext\": \"*.mat\", \"jumpevery\": 30, \"jitter\": 0.5}',\n",
       " '{\"function\": \"naturalscene\", \"length\": 5, \"seed\": 94, \"framerate\": 30, \"contrast\": 1.0, \"ndims\": [50,50], \"imgdir\": \"images/\", \"imgext\": \"*.mat\", \"jumpevery\": 30, \"jitter\": 0.5}',\n",
       " '{\"function\": \"naturalscene\", \"length\": 5, \"seed\": 95, \"framerate\": 30, \"contrast\": 1.0, \"ndims\": [50,50], \"imgdir\": \"images/\", \"imgext\": \"*.mat\", \"jumpevery\": 30, \"jitter\": 0.5}',\n",
       " '{\"function\": \"naturalscene\", \"length\": 5, \"seed\": 96, \"framerate\": 30, \"contrast\": 1.0, \"ndims\": [50,50], \"imgdir\": \"images/\", \"imgext\": \"*.mat\", \"jumpevery\": 30, \"jitter\": 0.5}',\n",
       " '{\"function\": \"naturalscene\", \"length\": 5, \"seed\": 97, \"framerate\": 30, \"contrast\": 1.0, \"ndims\": [50,50], \"imgdir\": \"images/\", \"imgext\": \"*.mat\", \"jumpevery\": 30, \"jitter\": 0.5}',\n",
       " '{\"function\": \"naturalscene\", \"length\": 5, \"seed\": 98, \"framerate\": 30, \"contrast\": 1.0, \"ndims\": [50,50], \"imgdir\": \"images/\", \"imgext\": \"*.mat\", \"jumpevery\": 30, \"jitter\": 0.5}',\n",
       " '{\"function\": \"naturalscene\", \"length\": 5, \"seed\": 99, \"framerate\": 30, \"contrast\": 1.0, \"ndims\": [50,50], \"imgdir\": \"images/\", \"imgext\": \"*.mat\", \"jumpevery\": 30, \"jitter\": 0.5}',\n",
       " '{\"function\": \"naturalscene\", \"length\": 5, \"seed\": 100, \"framerate\": 30, \"contrast\": 1.0, \"ndims\": [50,50], \"imgdir\": \"images/\", \"imgext\": \"*.mat\", \"jumpevery\": 30, \"jitter\": 0.5}',\n",
       " '{\"function\": \"naturalscene\", \"length\": 5, \"seed\": 101, \"framerate\": 30, \"contrast\": 1.0, \"ndims\": [50,50], \"imgdir\": \"images/\", \"imgext\": \"*.mat\", \"jumpevery\": 30, \"jitter\": 0.5}',\n",
       " '{\"function\": \"naturalscene\", \"length\": 5, \"seed\": 102, \"framerate\": 30, \"contrast\": 1.0, \"ndims\": [50,50], \"imgdir\": \"images/\", \"imgext\": \"*.mat\", \"jumpevery\": 30, \"jitter\": 0.5}',\n",
       " '{\"function\": \"naturalscene\", \"length\": 5, \"seed\": 103, \"framerate\": 30, \"contrast\": 1.0, \"ndims\": [50,50], \"imgdir\": \"images/\", \"imgext\": \"*.mat\", \"jumpevery\": 30, \"jitter\": 0.5}',\n",
       " '{\"function\": \"naturalscene\", \"length\": 5, \"seed\": 104, \"framerate\": 30, \"contrast\": 1.0, \"ndims\": [50,50], \"imgdir\": \"images/\", \"imgext\": \"*.mat\", \"jumpevery\": 30, \"jitter\": 0.5}']"
      ]
     },
     "execution_count": 24,
     "metadata": {},
     "output_type": "execute_result"
    }
   ],
   "source": [
    "naturalscene_clips"
   ]
  },
  {
   "cell_type": "code",
   "execution_count": 25,
   "metadata": {
    "collapsed": true
   },
   "outputs": [],
   "source": [
    "stimulus_seq = []\n",
    "stimulus_seq.append(whitenoise_rf_mapping)\n",
    "# 14 single trials of 5 min each (70 min total)\n",
    "for block in range(len(naturalscene_clips)):\n",
    "    stimulus_seq.append(naturalscene_clips[block])\n",
    "    # 14 * 8 = 112 repeats\n",
    "    for repeat in range(8):\n",
    "        stimulus_seq.append(naturalscene_repeat)\n",
    "stimulus_seq.append(whitenoise_rf_mapping)"
   ]
  },
  {
   "cell_type": "code",
   "execution_count": 27,
   "metadata": {
    "collapsed": false
   },
   "outputs": [
    {
     "data": {
      "text/plain": [
       "128"
      ]
     },
     "execution_count": 27,
     "metadata": {},
     "output_type": "execute_result"
    }
   ],
   "source": [
    "len(stimulus_seq)"
   ]
  },
  {
   "cell_type": "code",
   "execution_count": 29,
   "metadata": {
    "collapsed": false
   },
   "outputs": [
    {
     "data": {
      "text/plain": [
       "136.0"
      ]
     },
     "execution_count": 29,
     "metadata": {},
     "output_type": "execute_result"
    }
   ],
   "source": [
    "total_length = 5*2 + 14.*8.*.5 + 14*5\n",
    "total_length"
   ]
  },
  {
   "cell_type": "code",
   "execution_count": 32,
   "metadata": {
    "collapsed": true
   },
   "outputs": [],
   "source": [
    "with open('config.json', 'w') as outfile:\n",
    "    json.dump(stimulus_seq, outfile)"
   ]
  },
  {
   "cell_type": "code",
   "execution_count": 33,
   "metadata": {
    "collapsed": false
   },
   "outputs": [
    {
     "data": {
      "text/plain": [
       "['{\"function\": \"whitenoise\", \"length\": 5, \"seed\": 150, \"framerate\": 30, \"contrast\": 1.0, \"dist\": \"binary\", \"ndims\": [50,50]}',\n",
       " '{\"function\": \"naturalscene\", \"length\": 5, \"seed\": 91, \"framerate\": 30, \"contrast\": 1.0, \"ndims\": [50,50], \"imgdir\": \"images/\", \"imgext\": \"*.mat\", \"jumpevery\": 30, \"jitter\": 0.5}',\n",
       " '{\"function\": \"naturalscene\", \"length\": 0.5, \"seed\": 90, \"framerate\": 30, \"contrast\": 1.0, \"ndims\": [50,50], \"imgdir\": \"images/\", \"imgext\": \"*.mat\", \"jumpevery\": 30, \"jitter\": 0.5}',\n",
       " '{\"function\": \"naturalscene\", \"length\": 0.5, \"seed\": 90, \"framerate\": 30, \"contrast\": 1.0, \"ndims\": [50,50], \"imgdir\": \"images/\", \"imgext\": \"*.mat\", \"jumpevery\": 30, \"jitter\": 0.5}',\n",
       " '{\"function\": \"naturalscene\", \"length\": 0.5, \"seed\": 90, \"framerate\": 30, \"contrast\": 1.0, \"ndims\": [50,50], \"imgdir\": \"images/\", \"imgext\": \"*.mat\", \"jumpevery\": 30, \"jitter\": 0.5}',\n",
       " '{\"function\": \"naturalscene\", \"length\": 0.5, \"seed\": 90, \"framerate\": 30, \"contrast\": 1.0, \"ndims\": [50,50], \"imgdir\": \"images/\", \"imgext\": \"*.mat\", \"jumpevery\": 30, \"jitter\": 0.5}',\n",
       " '{\"function\": \"naturalscene\", \"length\": 0.5, \"seed\": 90, \"framerate\": 30, \"contrast\": 1.0, \"ndims\": [50,50], \"imgdir\": \"images/\", \"imgext\": \"*.mat\", \"jumpevery\": 30, \"jitter\": 0.5}',\n",
       " '{\"function\": \"naturalscene\", \"length\": 0.5, \"seed\": 90, \"framerate\": 30, \"contrast\": 1.0, \"ndims\": [50,50], \"imgdir\": \"images/\", \"imgext\": \"*.mat\", \"jumpevery\": 30, \"jitter\": 0.5}',\n",
       " '{\"function\": \"naturalscene\", \"length\": 0.5, \"seed\": 90, \"framerate\": 30, \"contrast\": 1.0, \"ndims\": [50,50], \"imgdir\": \"images/\", \"imgext\": \"*.mat\", \"jumpevery\": 30, \"jitter\": 0.5}',\n",
       " '{\"function\": \"naturalscene\", \"length\": 0.5, \"seed\": 90, \"framerate\": 30, \"contrast\": 1.0, \"ndims\": [50,50], \"imgdir\": \"images/\", \"imgext\": \"*.mat\", \"jumpevery\": 30, \"jitter\": 0.5}',\n",
       " '{\"function\": \"naturalscene\", \"length\": 5, \"seed\": 92, \"framerate\": 30, \"contrast\": 1.0, \"ndims\": [50,50], \"imgdir\": \"images/\", \"imgext\": \"*.mat\", \"jumpevery\": 30, \"jitter\": 0.5}',\n",
       " '{\"function\": \"naturalscene\", \"length\": 0.5, \"seed\": 90, \"framerate\": 30, \"contrast\": 1.0, \"ndims\": [50,50], \"imgdir\": \"images/\", \"imgext\": \"*.mat\", \"jumpevery\": 30, \"jitter\": 0.5}',\n",
       " '{\"function\": \"naturalscene\", \"length\": 0.5, \"seed\": 90, \"framerate\": 30, \"contrast\": 1.0, \"ndims\": [50,50], \"imgdir\": \"images/\", \"imgext\": \"*.mat\", \"jumpevery\": 30, \"jitter\": 0.5}',\n",
       " '{\"function\": \"naturalscene\", \"length\": 0.5, \"seed\": 90, \"framerate\": 30, \"contrast\": 1.0, \"ndims\": [50,50], \"imgdir\": \"images/\", \"imgext\": \"*.mat\", \"jumpevery\": 30, \"jitter\": 0.5}',\n",
       " '{\"function\": \"naturalscene\", \"length\": 0.5, \"seed\": 90, \"framerate\": 30, \"contrast\": 1.0, \"ndims\": [50,50], \"imgdir\": \"images/\", \"imgext\": \"*.mat\", \"jumpevery\": 30, \"jitter\": 0.5}',\n",
       " '{\"function\": \"naturalscene\", \"length\": 0.5, \"seed\": 90, \"framerate\": 30, \"contrast\": 1.0, \"ndims\": [50,50], \"imgdir\": \"images/\", \"imgext\": \"*.mat\", \"jumpevery\": 30, \"jitter\": 0.5}',\n",
       " '{\"function\": \"naturalscene\", \"length\": 0.5, \"seed\": 90, \"framerate\": 30, \"contrast\": 1.0, \"ndims\": [50,50], \"imgdir\": \"images/\", \"imgext\": \"*.mat\", \"jumpevery\": 30, \"jitter\": 0.5}',\n",
       " '{\"function\": \"naturalscene\", \"length\": 0.5, \"seed\": 90, \"framerate\": 30, \"contrast\": 1.0, \"ndims\": [50,50], \"imgdir\": \"images/\", \"imgext\": \"*.mat\", \"jumpevery\": 30, \"jitter\": 0.5}',\n",
       " '{\"function\": \"naturalscene\", \"length\": 0.5, \"seed\": 90, \"framerate\": 30, \"contrast\": 1.0, \"ndims\": [50,50], \"imgdir\": \"images/\", \"imgext\": \"*.mat\", \"jumpevery\": 30, \"jitter\": 0.5}',\n",
       " '{\"function\": \"naturalscene\", \"length\": 5, \"seed\": 93, \"framerate\": 30, \"contrast\": 1.0, \"ndims\": [50,50], \"imgdir\": \"images/\", \"imgext\": \"*.mat\", \"jumpevery\": 30, \"jitter\": 0.5}',\n",
       " '{\"function\": \"naturalscene\", \"length\": 0.5, \"seed\": 90, \"framerate\": 30, \"contrast\": 1.0, \"ndims\": [50,50], \"imgdir\": \"images/\", \"imgext\": \"*.mat\", \"jumpevery\": 30, \"jitter\": 0.5}',\n",
       " '{\"function\": \"naturalscene\", \"length\": 0.5, \"seed\": 90, \"framerate\": 30, \"contrast\": 1.0, \"ndims\": [50,50], \"imgdir\": \"images/\", \"imgext\": \"*.mat\", \"jumpevery\": 30, \"jitter\": 0.5}',\n",
       " '{\"function\": \"naturalscene\", \"length\": 0.5, \"seed\": 90, \"framerate\": 30, \"contrast\": 1.0, \"ndims\": [50,50], \"imgdir\": \"images/\", \"imgext\": \"*.mat\", \"jumpevery\": 30, \"jitter\": 0.5}',\n",
       " '{\"function\": \"naturalscene\", \"length\": 0.5, \"seed\": 90, \"framerate\": 30, \"contrast\": 1.0, \"ndims\": [50,50], \"imgdir\": \"images/\", \"imgext\": \"*.mat\", \"jumpevery\": 30, \"jitter\": 0.5}',\n",
       " '{\"function\": \"naturalscene\", \"length\": 0.5, \"seed\": 90, \"framerate\": 30, \"contrast\": 1.0, \"ndims\": [50,50], \"imgdir\": \"images/\", \"imgext\": \"*.mat\", \"jumpevery\": 30, \"jitter\": 0.5}',\n",
       " '{\"function\": \"naturalscene\", \"length\": 0.5, \"seed\": 90, \"framerate\": 30, \"contrast\": 1.0, \"ndims\": [50,50], \"imgdir\": \"images/\", \"imgext\": \"*.mat\", \"jumpevery\": 30, \"jitter\": 0.5}',\n",
       " '{\"function\": \"naturalscene\", \"length\": 0.5, \"seed\": 90, \"framerate\": 30, \"contrast\": 1.0, \"ndims\": [50,50], \"imgdir\": \"images/\", \"imgext\": \"*.mat\", \"jumpevery\": 30, \"jitter\": 0.5}',\n",
       " '{\"function\": \"naturalscene\", \"length\": 0.5, \"seed\": 90, \"framerate\": 30, \"contrast\": 1.0, \"ndims\": [50,50], \"imgdir\": \"images/\", \"imgext\": \"*.mat\", \"jumpevery\": 30, \"jitter\": 0.5}',\n",
       " '{\"function\": \"naturalscene\", \"length\": 5, \"seed\": 94, \"framerate\": 30, \"contrast\": 1.0, \"ndims\": [50,50], \"imgdir\": \"images/\", \"imgext\": \"*.mat\", \"jumpevery\": 30, \"jitter\": 0.5}',\n",
       " '{\"function\": \"naturalscene\", \"length\": 0.5, \"seed\": 90, \"framerate\": 30, \"contrast\": 1.0, \"ndims\": [50,50], \"imgdir\": \"images/\", \"imgext\": \"*.mat\", \"jumpevery\": 30, \"jitter\": 0.5}',\n",
       " '{\"function\": \"naturalscene\", \"length\": 0.5, \"seed\": 90, \"framerate\": 30, \"contrast\": 1.0, \"ndims\": [50,50], \"imgdir\": \"images/\", \"imgext\": \"*.mat\", \"jumpevery\": 30, \"jitter\": 0.5}',\n",
       " '{\"function\": \"naturalscene\", \"length\": 0.5, \"seed\": 90, \"framerate\": 30, \"contrast\": 1.0, \"ndims\": [50,50], \"imgdir\": \"images/\", \"imgext\": \"*.mat\", \"jumpevery\": 30, \"jitter\": 0.5}',\n",
       " '{\"function\": \"naturalscene\", \"length\": 0.5, \"seed\": 90, \"framerate\": 30, \"contrast\": 1.0, \"ndims\": [50,50], \"imgdir\": \"images/\", \"imgext\": \"*.mat\", \"jumpevery\": 30, \"jitter\": 0.5}',\n",
       " '{\"function\": \"naturalscene\", \"length\": 0.5, \"seed\": 90, \"framerate\": 30, \"contrast\": 1.0, \"ndims\": [50,50], \"imgdir\": \"images/\", \"imgext\": \"*.mat\", \"jumpevery\": 30, \"jitter\": 0.5}',\n",
       " '{\"function\": \"naturalscene\", \"length\": 0.5, \"seed\": 90, \"framerate\": 30, \"contrast\": 1.0, \"ndims\": [50,50], \"imgdir\": \"images/\", \"imgext\": \"*.mat\", \"jumpevery\": 30, \"jitter\": 0.5}',\n",
       " '{\"function\": \"naturalscene\", \"length\": 0.5, \"seed\": 90, \"framerate\": 30, \"contrast\": 1.0, \"ndims\": [50,50], \"imgdir\": \"images/\", \"imgext\": \"*.mat\", \"jumpevery\": 30, \"jitter\": 0.5}',\n",
       " '{\"function\": \"naturalscene\", \"length\": 0.5, \"seed\": 90, \"framerate\": 30, \"contrast\": 1.0, \"ndims\": [50,50], \"imgdir\": \"images/\", \"imgext\": \"*.mat\", \"jumpevery\": 30, \"jitter\": 0.5}',\n",
       " '{\"function\": \"naturalscene\", \"length\": 5, \"seed\": 95, \"framerate\": 30, \"contrast\": 1.0, \"ndims\": [50,50], \"imgdir\": \"images/\", \"imgext\": \"*.mat\", \"jumpevery\": 30, \"jitter\": 0.5}',\n",
       " '{\"function\": \"naturalscene\", \"length\": 0.5, \"seed\": 90, \"framerate\": 30, \"contrast\": 1.0, \"ndims\": [50,50], \"imgdir\": \"images/\", \"imgext\": \"*.mat\", \"jumpevery\": 30, \"jitter\": 0.5}',\n",
       " '{\"function\": \"naturalscene\", \"length\": 0.5, \"seed\": 90, \"framerate\": 30, \"contrast\": 1.0, \"ndims\": [50,50], \"imgdir\": \"images/\", \"imgext\": \"*.mat\", \"jumpevery\": 30, \"jitter\": 0.5}',\n",
       " '{\"function\": \"naturalscene\", \"length\": 0.5, \"seed\": 90, \"framerate\": 30, \"contrast\": 1.0, \"ndims\": [50,50], \"imgdir\": \"images/\", \"imgext\": \"*.mat\", \"jumpevery\": 30, \"jitter\": 0.5}',\n",
       " '{\"function\": \"naturalscene\", \"length\": 0.5, \"seed\": 90, \"framerate\": 30, \"contrast\": 1.0, \"ndims\": [50,50], \"imgdir\": \"images/\", \"imgext\": \"*.mat\", \"jumpevery\": 30, \"jitter\": 0.5}',\n",
       " '{\"function\": \"naturalscene\", \"length\": 0.5, \"seed\": 90, \"framerate\": 30, \"contrast\": 1.0, \"ndims\": [50,50], \"imgdir\": \"images/\", \"imgext\": \"*.mat\", \"jumpevery\": 30, \"jitter\": 0.5}',\n",
       " '{\"function\": \"naturalscene\", \"length\": 0.5, \"seed\": 90, \"framerate\": 30, \"contrast\": 1.0, \"ndims\": [50,50], \"imgdir\": \"images/\", \"imgext\": \"*.mat\", \"jumpevery\": 30, \"jitter\": 0.5}',\n",
       " '{\"function\": \"naturalscene\", \"length\": 0.5, \"seed\": 90, \"framerate\": 30, \"contrast\": 1.0, \"ndims\": [50,50], \"imgdir\": \"images/\", \"imgext\": \"*.mat\", \"jumpevery\": 30, \"jitter\": 0.5}',\n",
       " '{\"function\": \"naturalscene\", \"length\": 0.5, \"seed\": 90, \"framerate\": 30, \"contrast\": 1.0, \"ndims\": [50,50], \"imgdir\": \"images/\", \"imgext\": \"*.mat\", \"jumpevery\": 30, \"jitter\": 0.5}',\n",
       " '{\"function\": \"naturalscene\", \"length\": 5, \"seed\": 96, \"framerate\": 30, \"contrast\": 1.0, \"ndims\": [50,50], \"imgdir\": \"images/\", \"imgext\": \"*.mat\", \"jumpevery\": 30, \"jitter\": 0.5}',\n",
       " '{\"function\": \"naturalscene\", \"length\": 0.5, \"seed\": 90, \"framerate\": 30, \"contrast\": 1.0, \"ndims\": [50,50], \"imgdir\": \"images/\", \"imgext\": \"*.mat\", \"jumpevery\": 30, \"jitter\": 0.5}',\n",
       " '{\"function\": \"naturalscene\", \"length\": 0.5, \"seed\": 90, \"framerate\": 30, \"contrast\": 1.0, \"ndims\": [50,50], \"imgdir\": \"images/\", \"imgext\": \"*.mat\", \"jumpevery\": 30, \"jitter\": 0.5}',\n",
       " '{\"function\": \"naturalscene\", \"length\": 0.5, \"seed\": 90, \"framerate\": 30, \"contrast\": 1.0, \"ndims\": [50,50], \"imgdir\": \"images/\", \"imgext\": \"*.mat\", \"jumpevery\": 30, \"jitter\": 0.5}',\n",
       " '{\"function\": \"naturalscene\", \"length\": 0.5, \"seed\": 90, \"framerate\": 30, \"contrast\": 1.0, \"ndims\": [50,50], \"imgdir\": \"images/\", \"imgext\": \"*.mat\", \"jumpevery\": 30, \"jitter\": 0.5}',\n",
       " '{\"function\": \"naturalscene\", \"length\": 0.5, \"seed\": 90, \"framerate\": 30, \"contrast\": 1.0, \"ndims\": [50,50], \"imgdir\": \"images/\", \"imgext\": \"*.mat\", \"jumpevery\": 30, \"jitter\": 0.5}',\n",
       " '{\"function\": \"naturalscene\", \"length\": 0.5, \"seed\": 90, \"framerate\": 30, \"contrast\": 1.0, \"ndims\": [50,50], \"imgdir\": \"images/\", \"imgext\": \"*.mat\", \"jumpevery\": 30, \"jitter\": 0.5}',\n",
       " '{\"function\": \"naturalscene\", \"length\": 0.5, \"seed\": 90, \"framerate\": 30, \"contrast\": 1.0, \"ndims\": [50,50], \"imgdir\": \"images/\", \"imgext\": \"*.mat\", \"jumpevery\": 30, \"jitter\": 0.5}',\n",
       " '{\"function\": \"naturalscene\", \"length\": 0.5, \"seed\": 90, \"framerate\": 30, \"contrast\": 1.0, \"ndims\": [50,50], \"imgdir\": \"images/\", \"imgext\": \"*.mat\", \"jumpevery\": 30, \"jitter\": 0.5}',\n",
       " '{\"function\": \"naturalscene\", \"length\": 5, \"seed\": 97, \"framerate\": 30, \"contrast\": 1.0, \"ndims\": [50,50], \"imgdir\": \"images/\", \"imgext\": \"*.mat\", \"jumpevery\": 30, \"jitter\": 0.5}',\n",
       " '{\"function\": \"naturalscene\", \"length\": 0.5, \"seed\": 90, \"framerate\": 30, \"contrast\": 1.0, \"ndims\": [50,50], \"imgdir\": \"images/\", \"imgext\": \"*.mat\", \"jumpevery\": 30, \"jitter\": 0.5}',\n",
       " '{\"function\": \"naturalscene\", \"length\": 0.5, \"seed\": 90, \"framerate\": 30, \"contrast\": 1.0, \"ndims\": [50,50], \"imgdir\": \"images/\", \"imgext\": \"*.mat\", \"jumpevery\": 30, \"jitter\": 0.5}',\n",
       " '{\"function\": \"naturalscene\", \"length\": 0.5, \"seed\": 90, \"framerate\": 30, \"contrast\": 1.0, \"ndims\": [50,50], \"imgdir\": \"images/\", \"imgext\": \"*.mat\", \"jumpevery\": 30, \"jitter\": 0.5}',\n",
       " '{\"function\": \"naturalscene\", \"length\": 0.5, \"seed\": 90, \"framerate\": 30, \"contrast\": 1.0, \"ndims\": [50,50], \"imgdir\": \"images/\", \"imgext\": \"*.mat\", \"jumpevery\": 30, \"jitter\": 0.5}',\n",
       " '{\"function\": \"naturalscene\", \"length\": 0.5, \"seed\": 90, \"framerate\": 30, \"contrast\": 1.0, \"ndims\": [50,50], \"imgdir\": \"images/\", \"imgext\": \"*.mat\", \"jumpevery\": 30, \"jitter\": 0.5}',\n",
       " '{\"function\": \"naturalscene\", \"length\": 0.5, \"seed\": 90, \"framerate\": 30, \"contrast\": 1.0, \"ndims\": [50,50], \"imgdir\": \"images/\", \"imgext\": \"*.mat\", \"jumpevery\": 30, \"jitter\": 0.5}',\n",
       " '{\"function\": \"naturalscene\", \"length\": 0.5, \"seed\": 90, \"framerate\": 30, \"contrast\": 1.0, \"ndims\": [50,50], \"imgdir\": \"images/\", \"imgext\": \"*.mat\", \"jumpevery\": 30, \"jitter\": 0.5}',\n",
       " '{\"function\": \"naturalscene\", \"length\": 0.5, \"seed\": 90, \"framerate\": 30, \"contrast\": 1.0, \"ndims\": [50,50], \"imgdir\": \"images/\", \"imgext\": \"*.mat\", \"jumpevery\": 30, \"jitter\": 0.5}',\n",
       " '{\"function\": \"naturalscene\", \"length\": 5, \"seed\": 98, \"framerate\": 30, \"contrast\": 1.0, \"ndims\": [50,50], \"imgdir\": \"images/\", \"imgext\": \"*.mat\", \"jumpevery\": 30, \"jitter\": 0.5}',\n",
       " '{\"function\": \"naturalscene\", \"length\": 0.5, \"seed\": 90, \"framerate\": 30, \"contrast\": 1.0, \"ndims\": [50,50], \"imgdir\": \"images/\", \"imgext\": \"*.mat\", \"jumpevery\": 30, \"jitter\": 0.5}',\n",
       " '{\"function\": \"naturalscene\", \"length\": 0.5, \"seed\": 90, \"framerate\": 30, \"contrast\": 1.0, \"ndims\": [50,50], \"imgdir\": \"images/\", \"imgext\": \"*.mat\", \"jumpevery\": 30, \"jitter\": 0.5}',\n",
       " '{\"function\": \"naturalscene\", \"length\": 0.5, \"seed\": 90, \"framerate\": 30, \"contrast\": 1.0, \"ndims\": [50,50], \"imgdir\": \"images/\", \"imgext\": \"*.mat\", \"jumpevery\": 30, \"jitter\": 0.5}',\n",
       " '{\"function\": \"naturalscene\", \"length\": 0.5, \"seed\": 90, \"framerate\": 30, \"contrast\": 1.0, \"ndims\": [50,50], \"imgdir\": \"images/\", \"imgext\": \"*.mat\", \"jumpevery\": 30, \"jitter\": 0.5}',\n",
       " '{\"function\": \"naturalscene\", \"length\": 0.5, \"seed\": 90, \"framerate\": 30, \"contrast\": 1.0, \"ndims\": [50,50], \"imgdir\": \"images/\", \"imgext\": \"*.mat\", \"jumpevery\": 30, \"jitter\": 0.5}',\n",
       " '{\"function\": \"naturalscene\", \"length\": 0.5, \"seed\": 90, \"framerate\": 30, \"contrast\": 1.0, \"ndims\": [50,50], \"imgdir\": \"images/\", \"imgext\": \"*.mat\", \"jumpevery\": 30, \"jitter\": 0.5}',\n",
       " '{\"function\": \"naturalscene\", \"length\": 0.5, \"seed\": 90, \"framerate\": 30, \"contrast\": 1.0, \"ndims\": [50,50], \"imgdir\": \"images/\", \"imgext\": \"*.mat\", \"jumpevery\": 30, \"jitter\": 0.5}',\n",
       " '{\"function\": \"naturalscene\", \"length\": 0.5, \"seed\": 90, \"framerate\": 30, \"contrast\": 1.0, \"ndims\": [50,50], \"imgdir\": \"images/\", \"imgext\": \"*.mat\", \"jumpevery\": 30, \"jitter\": 0.5}',\n",
       " '{\"function\": \"naturalscene\", \"length\": 5, \"seed\": 99, \"framerate\": 30, \"contrast\": 1.0, \"ndims\": [50,50], \"imgdir\": \"images/\", \"imgext\": \"*.mat\", \"jumpevery\": 30, \"jitter\": 0.5}',\n",
       " '{\"function\": \"naturalscene\", \"length\": 0.5, \"seed\": 90, \"framerate\": 30, \"contrast\": 1.0, \"ndims\": [50,50], \"imgdir\": \"images/\", \"imgext\": \"*.mat\", \"jumpevery\": 30, \"jitter\": 0.5}',\n",
       " '{\"function\": \"naturalscene\", \"length\": 0.5, \"seed\": 90, \"framerate\": 30, \"contrast\": 1.0, \"ndims\": [50,50], \"imgdir\": \"images/\", \"imgext\": \"*.mat\", \"jumpevery\": 30, \"jitter\": 0.5}',\n",
       " '{\"function\": \"naturalscene\", \"length\": 0.5, \"seed\": 90, \"framerate\": 30, \"contrast\": 1.0, \"ndims\": [50,50], \"imgdir\": \"images/\", \"imgext\": \"*.mat\", \"jumpevery\": 30, \"jitter\": 0.5}',\n",
       " '{\"function\": \"naturalscene\", \"length\": 0.5, \"seed\": 90, \"framerate\": 30, \"contrast\": 1.0, \"ndims\": [50,50], \"imgdir\": \"images/\", \"imgext\": \"*.mat\", \"jumpevery\": 30, \"jitter\": 0.5}',\n",
       " '{\"function\": \"naturalscene\", \"length\": 0.5, \"seed\": 90, \"framerate\": 30, \"contrast\": 1.0, \"ndims\": [50,50], \"imgdir\": \"images/\", \"imgext\": \"*.mat\", \"jumpevery\": 30, \"jitter\": 0.5}',\n",
       " '{\"function\": \"naturalscene\", \"length\": 0.5, \"seed\": 90, \"framerate\": 30, \"contrast\": 1.0, \"ndims\": [50,50], \"imgdir\": \"images/\", \"imgext\": \"*.mat\", \"jumpevery\": 30, \"jitter\": 0.5}',\n",
       " '{\"function\": \"naturalscene\", \"length\": 0.5, \"seed\": 90, \"framerate\": 30, \"contrast\": 1.0, \"ndims\": [50,50], \"imgdir\": \"images/\", \"imgext\": \"*.mat\", \"jumpevery\": 30, \"jitter\": 0.5}',\n",
       " '{\"function\": \"naturalscene\", \"length\": 0.5, \"seed\": 90, \"framerate\": 30, \"contrast\": 1.0, \"ndims\": [50,50], \"imgdir\": \"images/\", \"imgext\": \"*.mat\", \"jumpevery\": 30, \"jitter\": 0.5}',\n",
       " '{\"function\": \"naturalscene\", \"length\": 5, \"seed\": 100, \"framerate\": 30, \"contrast\": 1.0, \"ndims\": [50,50], \"imgdir\": \"images/\", \"imgext\": \"*.mat\", \"jumpevery\": 30, \"jitter\": 0.5}',\n",
       " '{\"function\": \"naturalscene\", \"length\": 0.5, \"seed\": 90, \"framerate\": 30, \"contrast\": 1.0, \"ndims\": [50,50], \"imgdir\": \"images/\", \"imgext\": \"*.mat\", \"jumpevery\": 30, \"jitter\": 0.5}',\n",
       " '{\"function\": \"naturalscene\", \"length\": 0.5, \"seed\": 90, \"framerate\": 30, \"contrast\": 1.0, \"ndims\": [50,50], \"imgdir\": \"images/\", \"imgext\": \"*.mat\", \"jumpevery\": 30, \"jitter\": 0.5}',\n",
       " '{\"function\": \"naturalscene\", \"length\": 0.5, \"seed\": 90, \"framerate\": 30, \"contrast\": 1.0, \"ndims\": [50,50], \"imgdir\": \"images/\", \"imgext\": \"*.mat\", \"jumpevery\": 30, \"jitter\": 0.5}',\n",
       " '{\"function\": \"naturalscene\", \"length\": 0.5, \"seed\": 90, \"framerate\": 30, \"contrast\": 1.0, \"ndims\": [50,50], \"imgdir\": \"images/\", \"imgext\": \"*.mat\", \"jumpevery\": 30, \"jitter\": 0.5}',\n",
       " '{\"function\": \"naturalscene\", \"length\": 0.5, \"seed\": 90, \"framerate\": 30, \"contrast\": 1.0, \"ndims\": [50,50], \"imgdir\": \"images/\", \"imgext\": \"*.mat\", \"jumpevery\": 30, \"jitter\": 0.5}',\n",
       " '{\"function\": \"naturalscene\", \"length\": 0.5, \"seed\": 90, \"framerate\": 30, \"contrast\": 1.0, \"ndims\": [50,50], \"imgdir\": \"images/\", \"imgext\": \"*.mat\", \"jumpevery\": 30, \"jitter\": 0.5}',\n",
       " '{\"function\": \"naturalscene\", \"length\": 0.5, \"seed\": 90, \"framerate\": 30, \"contrast\": 1.0, \"ndims\": [50,50], \"imgdir\": \"images/\", \"imgext\": \"*.mat\", \"jumpevery\": 30, \"jitter\": 0.5}',\n",
       " '{\"function\": \"naturalscene\", \"length\": 0.5, \"seed\": 90, \"framerate\": 30, \"contrast\": 1.0, \"ndims\": [50,50], \"imgdir\": \"images/\", \"imgext\": \"*.mat\", \"jumpevery\": 30, \"jitter\": 0.5}',\n",
       " '{\"function\": \"naturalscene\", \"length\": 5, \"seed\": 101, \"framerate\": 30, \"contrast\": 1.0, \"ndims\": [50,50], \"imgdir\": \"images/\", \"imgext\": \"*.mat\", \"jumpevery\": 30, \"jitter\": 0.5}',\n",
       " '{\"function\": \"naturalscene\", \"length\": 0.5, \"seed\": 90, \"framerate\": 30, \"contrast\": 1.0, \"ndims\": [50,50], \"imgdir\": \"images/\", \"imgext\": \"*.mat\", \"jumpevery\": 30, \"jitter\": 0.5}',\n",
       " '{\"function\": \"naturalscene\", \"length\": 0.5, \"seed\": 90, \"framerate\": 30, \"contrast\": 1.0, \"ndims\": [50,50], \"imgdir\": \"images/\", \"imgext\": \"*.mat\", \"jumpevery\": 30, \"jitter\": 0.5}',\n",
       " '{\"function\": \"naturalscene\", \"length\": 0.5, \"seed\": 90, \"framerate\": 30, \"contrast\": 1.0, \"ndims\": [50,50], \"imgdir\": \"images/\", \"imgext\": \"*.mat\", \"jumpevery\": 30, \"jitter\": 0.5}',\n",
       " '{\"function\": \"naturalscene\", \"length\": 0.5, \"seed\": 90, \"framerate\": 30, \"contrast\": 1.0, \"ndims\": [50,50], \"imgdir\": \"images/\", \"imgext\": \"*.mat\", \"jumpevery\": 30, \"jitter\": 0.5}',\n",
       " '{\"function\": \"naturalscene\", \"length\": 0.5, \"seed\": 90, \"framerate\": 30, \"contrast\": 1.0, \"ndims\": [50,50], \"imgdir\": \"images/\", \"imgext\": \"*.mat\", \"jumpevery\": 30, \"jitter\": 0.5}',\n",
       " '{\"function\": \"naturalscene\", \"length\": 0.5, \"seed\": 90, \"framerate\": 30, \"contrast\": 1.0, \"ndims\": [50,50], \"imgdir\": \"images/\", \"imgext\": \"*.mat\", \"jumpevery\": 30, \"jitter\": 0.5}',\n",
       " '{\"function\": \"naturalscene\", \"length\": 0.5, \"seed\": 90, \"framerate\": 30, \"contrast\": 1.0, \"ndims\": [50,50], \"imgdir\": \"images/\", \"imgext\": \"*.mat\", \"jumpevery\": 30, \"jitter\": 0.5}',\n",
       " '{\"function\": \"naturalscene\", \"length\": 0.5, \"seed\": 90, \"framerate\": 30, \"contrast\": 1.0, \"ndims\": [50,50], \"imgdir\": \"images/\", \"imgext\": \"*.mat\", \"jumpevery\": 30, \"jitter\": 0.5}',\n",
       " '{\"function\": \"naturalscene\", \"length\": 5, \"seed\": 102, \"framerate\": 30, \"contrast\": 1.0, \"ndims\": [50,50], \"imgdir\": \"images/\", \"imgext\": \"*.mat\", \"jumpevery\": 30, \"jitter\": 0.5}',\n",
       " '{\"function\": \"naturalscene\", \"length\": 0.5, \"seed\": 90, \"framerate\": 30, \"contrast\": 1.0, \"ndims\": [50,50], \"imgdir\": \"images/\", \"imgext\": \"*.mat\", \"jumpevery\": 30, \"jitter\": 0.5}',\n",
       " '{\"function\": \"naturalscene\", \"length\": 0.5, \"seed\": 90, \"framerate\": 30, \"contrast\": 1.0, \"ndims\": [50,50], \"imgdir\": \"images/\", \"imgext\": \"*.mat\", \"jumpevery\": 30, \"jitter\": 0.5}',\n",
       " '{\"function\": \"naturalscene\", \"length\": 0.5, \"seed\": 90, \"framerate\": 30, \"contrast\": 1.0, \"ndims\": [50,50], \"imgdir\": \"images/\", \"imgext\": \"*.mat\", \"jumpevery\": 30, \"jitter\": 0.5}',\n",
       " '{\"function\": \"naturalscene\", \"length\": 0.5, \"seed\": 90, \"framerate\": 30, \"contrast\": 1.0, \"ndims\": [50,50], \"imgdir\": \"images/\", \"imgext\": \"*.mat\", \"jumpevery\": 30, \"jitter\": 0.5}',\n",
       " '{\"function\": \"naturalscene\", \"length\": 0.5, \"seed\": 90, \"framerate\": 30, \"contrast\": 1.0, \"ndims\": [50,50], \"imgdir\": \"images/\", \"imgext\": \"*.mat\", \"jumpevery\": 30, \"jitter\": 0.5}',\n",
       " '{\"function\": \"naturalscene\", \"length\": 0.5, \"seed\": 90, \"framerate\": 30, \"contrast\": 1.0, \"ndims\": [50,50], \"imgdir\": \"images/\", \"imgext\": \"*.mat\", \"jumpevery\": 30, \"jitter\": 0.5}',\n",
       " '{\"function\": \"naturalscene\", \"length\": 0.5, \"seed\": 90, \"framerate\": 30, \"contrast\": 1.0, \"ndims\": [50,50], \"imgdir\": \"images/\", \"imgext\": \"*.mat\", \"jumpevery\": 30, \"jitter\": 0.5}',\n",
       " '{\"function\": \"naturalscene\", \"length\": 0.5, \"seed\": 90, \"framerate\": 30, \"contrast\": 1.0, \"ndims\": [50,50], \"imgdir\": \"images/\", \"imgext\": \"*.mat\", \"jumpevery\": 30, \"jitter\": 0.5}',\n",
       " '{\"function\": \"naturalscene\", \"length\": 5, \"seed\": 103, \"framerate\": 30, \"contrast\": 1.0, \"ndims\": [50,50], \"imgdir\": \"images/\", \"imgext\": \"*.mat\", \"jumpevery\": 30, \"jitter\": 0.5}',\n",
       " '{\"function\": \"naturalscene\", \"length\": 0.5, \"seed\": 90, \"framerate\": 30, \"contrast\": 1.0, \"ndims\": [50,50], \"imgdir\": \"images/\", \"imgext\": \"*.mat\", \"jumpevery\": 30, \"jitter\": 0.5}',\n",
       " '{\"function\": \"naturalscene\", \"length\": 0.5, \"seed\": 90, \"framerate\": 30, \"contrast\": 1.0, \"ndims\": [50,50], \"imgdir\": \"images/\", \"imgext\": \"*.mat\", \"jumpevery\": 30, \"jitter\": 0.5}',\n",
       " '{\"function\": \"naturalscene\", \"length\": 0.5, \"seed\": 90, \"framerate\": 30, \"contrast\": 1.0, \"ndims\": [50,50], \"imgdir\": \"images/\", \"imgext\": \"*.mat\", \"jumpevery\": 30, \"jitter\": 0.5}',\n",
       " '{\"function\": \"naturalscene\", \"length\": 0.5, \"seed\": 90, \"framerate\": 30, \"contrast\": 1.0, \"ndims\": [50,50], \"imgdir\": \"images/\", \"imgext\": \"*.mat\", \"jumpevery\": 30, \"jitter\": 0.5}',\n",
       " '{\"function\": \"naturalscene\", \"length\": 0.5, \"seed\": 90, \"framerate\": 30, \"contrast\": 1.0, \"ndims\": [50,50], \"imgdir\": \"images/\", \"imgext\": \"*.mat\", \"jumpevery\": 30, \"jitter\": 0.5}',\n",
       " '{\"function\": \"naturalscene\", \"length\": 0.5, \"seed\": 90, \"framerate\": 30, \"contrast\": 1.0, \"ndims\": [50,50], \"imgdir\": \"images/\", \"imgext\": \"*.mat\", \"jumpevery\": 30, \"jitter\": 0.5}',\n",
       " '{\"function\": \"naturalscene\", \"length\": 0.5, \"seed\": 90, \"framerate\": 30, \"contrast\": 1.0, \"ndims\": [50,50], \"imgdir\": \"images/\", \"imgext\": \"*.mat\", \"jumpevery\": 30, \"jitter\": 0.5}',\n",
       " '{\"function\": \"naturalscene\", \"length\": 0.5, \"seed\": 90, \"framerate\": 30, \"contrast\": 1.0, \"ndims\": [50,50], \"imgdir\": \"images/\", \"imgext\": \"*.mat\", \"jumpevery\": 30, \"jitter\": 0.5}',\n",
       " '{\"function\": \"naturalscene\", \"length\": 5, \"seed\": 104, \"framerate\": 30, \"contrast\": 1.0, \"ndims\": [50,50], \"imgdir\": \"images/\", \"imgext\": \"*.mat\", \"jumpevery\": 30, \"jitter\": 0.5}',\n",
       " '{\"function\": \"naturalscene\", \"length\": 0.5, \"seed\": 90, \"framerate\": 30, \"contrast\": 1.0, \"ndims\": [50,50], \"imgdir\": \"images/\", \"imgext\": \"*.mat\", \"jumpevery\": 30, \"jitter\": 0.5}',\n",
       " '{\"function\": \"naturalscene\", \"length\": 0.5, \"seed\": 90, \"framerate\": 30, \"contrast\": 1.0, \"ndims\": [50,50], \"imgdir\": \"images/\", \"imgext\": \"*.mat\", \"jumpevery\": 30, \"jitter\": 0.5}',\n",
       " '{\"function\": \"naturalscene\", \"length\": 0.5, \"seed\": 90, \"framerate\": 30, \"contrast\": 1.0, \"ndims\": [50,50], \"imgdir\": \"images/\", \"imgext\": \"*.mat\", \"jumpevery\": 30, \"jitter\": 0.5}',\n",
       " '{\"function\": \"naturalscene\", \"length\": 0.5, \"seed\": 90, \"framerate\": 30, \"contrast\": 1.0, \"ndims\": [50,50], \"imgdir\": \"images/\", \"imgext\": \"*.mat\", \"jumpevery\": 30, \"jitter\": 0.5}',\n",
       " '{\"function\": \"naturalscene\", \"length\": 0.5, \"seed\": 90, \"framerate\": 30, \"contrast\": 1.0, \"ndims\": [50,50], \"imgdir\": \"images/\", \"imgext\": \"*.mat\", \"jumpevery\": 30, \"jitter\": 0.5}',\n",
       " '{\"function\": \"naturalscene\", \"length\": 0.5, \"seed\": 90, \"framerate\": 30, \"contrast\": 1.0, \"ndims\": [50,50], \"imgdir\": \"images/\", \"imgext\": \"*.mat\", \"jumpevery\": 30, \"jitter\": 0.5}',\n",
       " '{\"function\": \"naturalscene\", \"length\": 0.5, \"seed\": 90, \"framerate\": 30, \"contrast\": 1.0, \"ndims\": [50,50], \"imgdir\": \"images/\", \"imgext\": \"*.mat\", \"jumpevery\": 30, \"jitter\": 0.5}',\n",
       " '{\"function\": \"naturalscene\", \"length\": 0.5, \"seed\": 90, \"framerate\": 30, \"contrast\": 1.0, \"ndims\": [50,50], \"imgdir\": \"images/\", \"imgext\": \"*.mat\", \"jumpevery\": 30, \"jitter\": 0.5}',\n",
       " '{\"function\": \"whitenoise\", \"length\": 5, \"seed\": 150, \"framerate\": 30, \"contrast\": 1.0, \"dist\": \"binary\", \"ndims\": [50,50]}']"
      ]
     },
     "execution_count": 33,
     "metadata": {},
     "output_type": "execute_result"
    }
   ],
   "source": [
    "stimulus_seq"
   ]
  },
  {
   "cell_type": "markdown",
   "metadata": {},
   "source": [
    "# try as dictionary, not string"
   ]
  },
  {
   "cell_type": "code",
   "execution_count": 43,
   "metadata": {
    "collapsed": false
   },
   "outputs": [],
   "source": [
    "whitenoise_rf_mapping = {\"function\": \"whitenoise\", \"length\": 5, \"seed\": 150, \"framerate\": 30, \"contrast\": 1.0, \"dist\": \"binary\", \"ndims\": [50,50]}\n",
    "naturalscene_repeat = {\"function\": \"naturalscene\", \"length\": 0.5, \"seed\": 90, \"framerate\": 30, \"contrast\": 1.0, \"ndims\": [50,50], \"imgdir\": \"images/\", \"imgext\": \"*.mat\", \"jumpevery\": 30, \"jitter\": 0.5}\n",
    "naturalscene_clips = [{\"function\": \"naturalscene\", \"length\": 5, \"seed\": i+91, \"framerate\": 30, \"contrast\": 1.0, \"ndims\": [50,50], \"imgdir\": \"images/\", \"imgext\": \"*.mat\", \"jumpevery\": 30, \"jitter\": 0.5} for i in range(14)]"
   ]
  },
  {
   "cell_type": "code",
   "execution_count": 45,
   "metadata": {
    "collapsed": true
   },
   "outputs": [],
   "source": [
    "stimulus_seq = []\n",
    "stimulus_seq.append(whitenoise_rf_mapping)\n",
    "# 14 single trials of 5 min each (70 min total)\n",
    "for block in range(len(naturalscene_clips)):\n",
    "    stimulus_seq.append(naturalscene_clips[block])\n",
    "    # 14 * 8 = 112 repeats\n",
    "    for repeat in range(8):\n",
    "        stimulus_seq.append(naturalscene_repeat)\n",
    "stimulus_seq.append(whitenoise_rf_mapping)"
   ]
  },
  {
   "cell_type": "code",
   "execution_count": 46,
   "metadata": {
    "collapsed": true
   },
   "outputs": [],
   "source": [
    "with open('config.json', 'w') as outfile:\n",
    "    json.dump(stimulus_seq, outfile)"
   ]
  },
  {
   "cell_type": "code",
   "execution_count": null,
   "metadata": {
    "collapsed": true
   },
   "outputs": [],
   "source": []
  }
 ],
 "metadata": {
  "kernelspec": {
   "display_name": "Python 3",
   "language": "python",
   "name": "python3"
  },
  "language_info": {
   "codemirror_mode": {
    "name": "ipython",
    "version": 3
   },
   "file_extension": ".py",
   "mimetype": "text/x-python",
   "name": "python",
   "nbconvert_exporter": "python",
   "pygments_lexer": "ipython3",
   "version": "3.5.1"
  }
 },
 "nbformat": 4,
 "nbformat_minor": 0
}
