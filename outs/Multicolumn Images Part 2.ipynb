{
 "cells": [
  {
   "cell_type": "markdown",
   "metadata": {},
   "source": [
    "# Multi-Column Image Layouts In the IPython Notebook (Part 2)\n",
    "\n",
    "Andrew Walker 15 September 2015\n",
    "\n",
    "<div class=\"alert alert-success\" style=\"margin: 10px\">\n",
    "**Warning:** This notebook is in two parts, because it involves changing the CSS for the entire notebook and observing changes in the rendered output, which means changes to one cell will potentially impact other cells.  \n",
    "</div>\n",
    "\n",
    "- [Multicolumn Images Part 1](Multicolumn%20Images%20Part%201.ipynb)\n",
    "- [Multicolumn Images Part 2](Multicolumn%20Images%20Part%202.ipynb)\n"
   ]
  },
  {
   "cell_type": "markdown",
   "metadata": {},
   "source": [
    "## 4. Importing External CSS\n",
    "\n",
    "One of the ways to resolve the rendering issues is to simply put the [CSS in an external file and import it into the notebook](http://stackoverflow.com/a/18199211/2246). Of particular interest is the style tag in the css file - this code isn't strictly CSS, it's a fragment of HTML that just happens to look a lot like CSS."
   ]
  },
  {
   "cell_type": "code",
   "execution_count": 1,
   "metadata": {
    "collapsed": false
   },
   "outputs": [
    {
     "name": "stdout",
     "output_type": "stream",
     "text": [
      "<!-- custom.css -->\r\n",
      "<style>\r\n",
      ".text_cell_render > table {\r\n",
      "    empty-cells:hide;\r\n",
      "    border-style:hidden;\r\n",
      "    border-style:collapse;\r\n",
      "}\r\n",
      "\r\n",
      ".text_cell_render > table td {\r\n",
      "    border-style:hidden;\r\n",
      "}\r\n",
      "\r\n",
      ".text_cell_render > table th {\r\n",
      "    border-style:hidden;\r\n",
      "}\r\n",
      "</style>\r\n"
     ]
    }
   ],
   "source": [
    "!cat custom.css"
   ]
  },
  {
   "cell_type": "code",
   "execution_count": 2,
   "metadata": {
    "collapsed": false
   },
   "outputs": [
    {
     "data": {
      "text/html": [
       "<!-- custom.css -->\n",
       "<style>\n",
       ".text_cell_render > table {\n",
       "    empty-cells:hide;\n",
       "    border-style:hidden;\n",
       "    border-style:collapse;\n",
       "}\n",
       "\n",
       ".text_cell_render > table td {\n",
       "    border-style:hidden;\n",
       "}\n",
       "\n",
       ".text_cell_render > table th {\n",
       "    border-style:hidden;\n",
       "}\n",
       "</style>\n"
      ],
      "text/plain": [
       "<IPython.core.display.HTML object>"
      ]
     },
     "execution_count": 2,
     "metadata": {},
     "output_type": "execute_result"
    }
   ],
   "source": [
    "from IPython.core.display import HTML\n",
    "def css_styling():\n",
    "    styles = open(\"./custom.css\", \"r\").read()\n",
    "    return HTML(styles)\n",
    "css_styling()"
   ]
  },
  {
   "cell_type": "markdown",
   "metadata": {},
   "source": [
    "## 4.1 HTML Tables (with external CSS) \n",
    "\n",
    "As per section 1."
   ]
  },
  {
   "cell_type": "markdown",
   "metadata": {},
   "source": [
    "<table>\n",
    "  <tr>\n",
    "    <td><img src=\"pyconau-logo.png\" /></td>\n",
    "    <td><img src=\"pyconau-logo.png\" /></td>\n",
    "  </tr>\n",
    "</table>"
   ]
  },
  {
   "cell_type": "markdown",
   "metadata": {},
   "source": [
    "## 4.2 Markdown Tables (with external CSS)\n",
    "\n",
    "As per section 2."
   ]
  },
  {
   "cell_type": "markdown",
   "metadata": {},
   "source": [
    "| | |\n",
    "|---|---|\n",
    "|![](pyconau-logo.png)|![](pyconau-logo.png)|"
   ]
  },
  {
   "cell_type": "markdown",
   "metadata": {},
   "source": [
    "## 5. Conclusion\n",
    "\n",
    "This pair of notebooks has demonstrated that there are a number of pre-existing techniques available in the IPython notebook to render pairs of images side-by-side in a fashion that's extensible through the use of tables. This approach works both directly for rendered HTML, and has the potential to be used for rendering notebooks to any format via nbconvert"
   ]
  },
  {
   "cell_type": "markdown",
   "metadata": {},
   "source": [
    "### Fine Print\n",
    "\n",
    "The image used in this work is the PyCon Australia logo (C) PyCon Australia and Linux Australia\n",
    "\n",
    "I'm not in any way affiliated with the PyConAU or Linux Australia and the material in this notebook should not be misconstrued as an endorsement by the conference organisers. If you find this notebook interesting, consider supporting PyConAU by attending."
   ]
  }
 ],
 "metadata": {
  "kernelspec": {
   "display_name": "Python 2",
   "language": "python",
   "name": "python2"
  },
  "language_info": {
   "codemirror_mode": {
    "name": "ipython",
    "version": 2
   },
   "file_extension": ".py",
   "mimetype": "text/x-python",
   "name": "python",
   "nbconvert_exporter": "python",
   "pygments_lexer": "ipython2",
   "version": "2.7.10"
  }
 },
 "nbformat": 4,
 "nbformat_minor": 0
}
