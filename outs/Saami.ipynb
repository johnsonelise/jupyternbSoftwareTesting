{
 "cells": [
  {
   "cell_type": "markdown",
   "metadata": {},
   "source": [
    "Paradigm entropy\n",
    "================\n",
    "\n",
    "This notebook shows some conditional entropy calculations from Ackerman & Malouf (in press).  The Pite Saami data is taken from:\n",
    "\n",
    "> Wilbur, Joshua (2014). *A Grammar of Pite Saami.* Berlin: Langauge Science Press. [http://langsci-press.org/catalog/book/17]"
   ]
  },
  {
   "cell_type": "code",
   "execution_count": 1,
   "metadata": {
    "collapsed": false
   },
   "outputs": [],
   "source": [
    "%precision 3\n",
    "\n",
    "import numpy as np\n",
    "import pandas as pd\n",
    "pd.set_option('display.float_format',lambda x : '%.3f'%x)"
   ]
  },
  {
   "cell_type": "code",
   "execution_count": 2,
   "metadata": {
    "collapsed": false
   },
   "outputs": [],
   "source": [
    "import entropy"
   ]
  },
  {
   "cell_type": "markdown",
   "metadata": {},
   "source": [
    "Read in the paradigms from tab-delimited file as a pandas DataFrame:"
   ]
  },
  {
   "cell_type": "code",
   "execution_count": 3,
   "metadata": {
    "collapsed": false
   },
   "outputs": [
    {
     "data": {
      "text/html": [
       "<div style=\"max-height:1000px;max-width:1500px;overflow:auto;\">\n",
       "<table border=\"1\" class=\"dataframe\">\n",
       "  <thead>\n",
       "    <tr style=\"text-align: right;\">\n",
       "      <th></th>\n",
       "      <th>nom.sg</th>\n",
       "      <th>gen.sg</th>\n",
       "      <th>acc.sg</th>\n",
       "      <th>ill.sg</th>\n",
       "      <th>iness.sg</th>\n",
       "      <th>elat.sg</th>\n",
       "      <th>com.sg</th>\n",
       "      <th>nom.pl</th>\n",
       "      <th>gen.pl</th>\n",
       "      <th>acc.pl</th>\n",
       "      <th>ill.pl</th>\n",
       "      <th>iness.pl</th>\n",
       "      <th>elat.pl</th>\n",
       "      <th>com.pl</th>\n",
       "    </tr>\n",
       "    <tr>\n",
       "      <th>class</th>\n",
       "      <th></th>\n",
       "      <th></th>\n",
       "      <th></th>\n",
       "      <th></th>\n",
       "      <th></th>\n",
       "      <th></th>\n",
       "      <th></th>\n",
       "      <th></th>\n",
       "      <th></th>\n",
       "      <th></th>\n",
       "      <th></th>\n",
       "      <th></th>\n",
       "      <th></th>\n",
       "      <th></th>\n",
       "    </tr>\n",
       "  </thead>\n",
       "  <tbody>\n",
       "    <tr>\n",
       "      <th>Ia</th>\n",
       "      <td> str+a</td>\n",
       "      <td>  wk+a</td>\n",
       "      <td>  wk+av</td>\n",
       "      <td> str+aj</td>\n",
       "      <td>  wk+an</td>\n",
       "      <td>  wk+ast</td>\n",
       "      <td>  wk+ajn</td>\n",
       "      <td>  wk+a</td>\n",
       "      <td>  wk+aj</td>\n",
       "      <td>  wk+ajd</td>\n",
       "      <td>  wk+ajda</td>\n",
       "      <td>  wk+ajn</td>\n",
       "      <td>  wk+ajst</td>\n",
       "      <td>  wk+aj</td>\n",
       "    </tr>\n",
       "    <tr>\n",
       "      <th>Ib</th>\n",
       "      <td> str+á</td>\n",
       "      <td>  wk+á</td>\n",
       "      <td>  wk+áv</td>\n",
       "      <td> str+áj</td>\n",
       "      <td>  wk+án</td>\n",
       "      <td>  wk+ást</td>\n",
       "      <td>  wk+ájn</td>\n",
       "      <td>  wk+á</td>\n",
       "      <td>  wk+áj</td>\n",
       "      <td>  wk+ájd</td>\n",
       "      <td>  wk+ájda</td>\n",
       "      <td>  wk+ájn</td>\n",
       "      <td>  wk+ájst</td>\n",
       "      <td>  wk+áj</td>\n",
       "    </tr>\n",
       "    <tr>\n",
       "      <th>Ic</th>\n",
       "      <td> str+o</td>\n",
       "      <td>  wk+o</td>\n",
       "      <td>  wk+ov</td>\n",
       "      <td> str+oj</td>\n",
       "      <td>  wk+on</td>\n",
       "      <td>  wk+ost</td>\n",
       "      <td>  wk+ojn</td>\n",
       "      <td>  wk+o</td>\n",
       "      <td>  wk+oj</td>\n",
       "      <td>  wk+ojd</td>\n",
       "      <td>  wk+ojda</td>\n",
       "      <td>  wk+ojn</td>\n",
       "      <td>  wk+ojst</td>\n",
       "      <td>  wk+oj</td>\n",
       "    </tr>\n",
       "    <tr>\n",
       "      <th>Id</th>\n",
       "      <td> str+å</td>\n",
       "      <td>  wk+å</td>\n",
       "      <td>  wk+åv</td>\n",
       "      <td> str+åj</td>\n",
       "      <td>  wk+ån</td>\n",
       "      <td>  wk+åst</td>\n",
       "      <td>  wk+åjn</td>\n",
       "      <td>  wk+å</td>\n",
       "      <td>  wk+åj</td>\n",
       "      <td>  wk+åjd</td>\n",
       "      <td>  wk+åjda</td>\n",
       "      <td>  wk+åjn</td>\n",
       "      <td>  wk+åjst</td>\n",
       "      <td>  wk+åj</td>\n",
       "    </tr>\n",
       "    <tr>\n",
       "      <th>Ie</th>\n",
       "      <td> str+e</td>\n",
       "      <td>  wk+e</td>\n",
       "      <td>  wk+ev</td>\n",
       "      <td> str+áj</td>\n",
       "      <td>  wk+en</td>\n",
       "      <td>  wk+est</td>\n",
       "      <td>  wk+ijn</td>\n",
       "      <td>  wk+e</td>\n",
       "      <td>  wk+ij</td>\n",
       "      <td>  wk+ijd</td>\n",
       "      <td>  wk+ijda</td>\n",
       "      <td>  wk+ijn</td>\n",
       "      <td>  wk+ijst</td>\n",
       "      <td>  wk+ij</td>\n",
       "    </tr>\n",
       "    <tr>\n",
       "      <th>II</th>\n",
       "      <td> wk+aj</td>\n",
       "      <td> str+a</td>\n",
       "      <td> str+av</td>\n",
       "      <td> str+aj</td>\n",
       "      <td> str+an</td>\n",
       "      <td> str+ast</td>\n",
       "      <td> str+ajn</td>\n",
       "      <td> str+a</td>\n",
       "      <td> str+aj</td>\n",
       "      <td> str+ajd</td>\n",
       "      <td> str+ajda</td>\n",
       "      <td> str+ajn</td>\n",
       "      <td> str+ajst</td>\n",
       "      <td> str+aj</td>\n",
       "    </tr>\n",
       "    <tr>\n",
       "      <th>IIIa</th>\n",
       "      <td>  wk+0</td>\n",
       "      <td> str+a</td>\n",
       "      <td> str+av</td>\n",
       "      <td> str+ij</td>\n",
       "      <td> str+in</td>\n",
       "      <td> str+ist</td>\n",
       "      <td> str+ijn</td>\n",
       "      <td> str+a</td>\n",
       "      <td> str+ij</td>\n",
       "      <td> str+ijd</td>\n",
       "      <td> str+ijda</td>\n",
       "      <td> str+ijn</td>\n",
       "      <td> str+ijst</td>\n",
       "      <td> str+ij</td>\n",
       "    </tr>\n",
       "    <tr>\n",
       "      <th>IIIb</th>\n",
       "      <td>  wk+V</td>\n",
       "      <td> str+a</td>\n",
       "      <td> str+av</td>\n",
       "      <td> str+ij</td>\n",
       "      <td> str+in</td>\n",
       "      <td> str+ist</td>\n",
       "      <td> str+ijn</td>\n",
       "      <td> str+a</td>\n",
       "      <td> str+ij</td>\n",
       "      <td> str+ijd</td>\n",
       "      <td> str+ijda</td>\n",
       "      <td> str+ijn</td>\n",
       "      <td> str+ijst</td>\n",
       "      <td> str+ij</td>\n",
       "    </tr>\n",
       "  </tbody>\n",
       "</table>\n",
       "</div>"
      ],
      "text/plain": [
       "      nom.sg gen.sg  acc.sg  ill.sg iness.sg  elat.sg   com.sg nom.pl  gen.pl  \\\n",
       "class                                                                           \n",
       "Ia     str+a   wk+a   wk+av  str+aj    wk+an   wk+ast   wk+ajn   wk+a   wk+aj   \n",
       "Ib     str+á   wk+á   wk+áv  str+áj    wk+án   wk+ást   wk+ájn   wk+á   wk+áj   \n",
       "Ic     str+o   wk+o   wk+ov  str+oj    wk+on   wk+ost   wk+ojn   wk+o   wk+oj   \n",
       "Id     str+å   wk+å   wk+åv  str+åj    wk+ån   wk+åst   wk+åjn   wk+å   wk+åj   \n",
       "Ie     str+e   wk+e   wk+ev  str+áj    wk+en   wk+est   wk+ijn   wk+e   wk+ij   \n",
       "II     wk+aj  str+a  str+av  str+aj   str+an  str+ast  str+ajn  str+a  str+aj   \n",
       "IIIa    wk+0  str+a  str+av  str+ij   str+in  str+ist  str+ijn  str+a  str+ij   \n",
       "IIIb    wk+V  str+a  str+av  str+ij   str+in  str+ist  str+ijn  str+a  str+ij   \n",
       "\n",
       "        acc.pl    ill.pl iness.pl   elat.pl  com.pl  \n",
       "class                                                \n",
       "Ia      wk+ajd   wk+ajda   wk+ajn   wk+ajst   wk+aj  \n",
       "Ib      wk+ájd   wk+ájda   wk+ájn   wk+ájst   wk+áj  \n",
       "Ic      wk+ojd   wk+ojda   wk+ojn   wk+ojst   wk+oj  \n",
       "Id      wk+åjd   wk+åjda   wk+åjn   wk+åjst   wk+åj  \n",
       "Ie      wk+ijd   wk+ijda   wk+ijn   wk+ijst   wk+ij  \n",
       "II     str+ajd  str+ajda  str+ajn  str+ajst  str+aj  \n",
       "IIIa   str+ijd  str+ijda  str+ijn  str+ijst  str+ij  \n",
       "IIIb   str+ijd  str+ijda  str+ijn  str+ijst  str+ij  "
      ]
     },
     "execution_count": 3,
     "metadata": {},
     "output_type": "execute_result"
    }
   ],
   "source": [
    "saami = pd.read_table('saami.txt', index_col=0)\n",
    "saami"
   ]
  },
  {
   "cell_type": "code",
   "execution_count": 4,
   "metadata": {
    "collapsed": false
   },
   "outputs": [
    {
     "name": "stdout",
     "output_type": "stream",
     "text": [
      "\\begin{tabular}{llllllll}\n",
      "\\toprule\n",
      "{} & nom.sg & gen.sg &  acc.sg &  ill.sg & iness.sg &  elat.sg &   com.sg \\\\\n",
      "\\midrule\n",
      "class &        &        &         &         &          &          &          \\\\\n",
      "Ia    &  str+a &   wk+a &   wk+av &  str+aj &    wk+an &   wk+ast &   wk+ajn \\\\\n",
      "Ib    &  str+á &   wk+á &   wk+áv &  str+áj &    wk+án &   wk+ást &   wk+ájn \\\\\n",
      "Ic    &  str+o &   wk+o &   wk+ov &  str+oj &    wk+on &   wk+ost &   wk+ojn \\\\\n",
      "Id    &  str+å &   wk+å &   wk+åv &  str+åj &    wk+ån &   wk+åst &   wk+åjn \\\\\n",
      "Ie    &  str+e &   wk+e &   wk+ev &  str+áj &    wk+en &   wk+est &   wk+ijn \\\\\n",
      "II    &  wk+aj &  str+a &  str+av &  str+aj &   str+an &  str+ast &  str+ajn \\\\\n",
      "IIIa  &   wk+0 &  str+a &  str+av &  str+ij &   str+in &  str+ist &  str+ijn \\\\\n",
      "IIIb  &   wk+V &  str+a &  str+av &  str+ij &   str+in &  str+ist &  str+ijn \\\\\n",
      "\\bottomrule\n",
      "\\end{tabular}\n",
      "\n",
      "\\begin{tabular}{llllllll}\n",
      "\\toprule\n",
      "{} & nom.pl &  gen.pl &   acc.pl &    ill.pl & iness.pl &   elat.pl &  com.pl \\\\\n",
      "\\midrule\n",
      "class &        &         &          &           &          &           &         \\\\\n",
      "Ia    &   wk+a &   wk+aj &   wk+ajd &   wk+ajda &   wk+ajn &   wk+ajst &   wk+aj \\\\\n",
      "Ib    &   wk+á &   wk+áj &   wk+ájd &   wk+ájda &   wk+ájn &   wk+ájst &   wk+áj \\\\\n",
      "Ic    &   wk+o &   wk+oj &   wk+ojd &   wk+ojda &   wk+ojn &   wk+ojst &   wk+oj \\\\\n",
      "Id    &   wk+å &   wk+åj &   wk+åjd &   wk+åjda &   wk+åjn &   wk+åjst &   wk+åj \\\\\n",
      "Ie    &   wk+e &   wk+ij &   wk+ijd &   wk+ijda &   wk+ijn &   wk+ijst &   wk+ij \\\\\n",
      "II    &  str+a &  str+aj &  str+ajd &  str+ajda &  str+ajn &  str+ajst &  str+aj \\\\\n",
      "IIIa  &  str+a &  str+ij &  str+ijd &  str+ijda &  str+ijn &  str+ijst &  str+ij \\\\\n",
      "IIIb  &  str+a &  str+ij &  str+ijd &  str+ijda &  str+ijn &  str+ijst &  str+ij \\\\\n",
      "\\bottomrule\n",
      "\\end{tabular}\n",
      "\n"
     ]
    }
   ],
   "source": [
    "sing = [c for c in saami.columns if c.endswith('sg')]\n",
    "plur = [c for c in saami.columns if c.endswith('pl')]\n",
    "print saami[sing].to_latex()\n",
    "print saami[plur].to_latex()"
   ]
  },
  {
   "cell_type": "markdown",
   "metadata": {},
   "source": [
    "1.pl and 2.pl are the cells with the largest number of distinct realizations and the augmentatives are the cells with the least:"
   ]
  },
  {
   "cell_type": "code",
   "execution_count": 5,
   "metadata": {
    "collapsed": false
   },
   "outputs": [
    {
     "data": {
      "text/html": [
       "<div style=\"max-height:1000px;max-width:1500px;overflow:auto;\">\n",
       "<table border=\"1\" class=\"dataframe\">\n",
       "  <thead>\n",
       "    <tr style=\"text-align: right;\">\n",
       "      <th></th>\n",
       "      <th>nom.sg</th>\n",
       "      <th>gen.sg</th>\n",
       "      <th>acc.sg</th>\n",
       "      <th>ill.sg</th>\n",
       "      <th>iness.sg</th>\n",
       "      <th>elat.sg</th>\n",
       "      <th>com.sg</th>\n",
       "      <th>nom.pl</th>\n",
       "      <th>gen.pl</th>\n",
       "      <th>acc.pl</th>\n",
       "      <th>ill.pl</th>\n",
       "      <th>iness.pl</th>\n",
       "      <th>elat.pl</th>\n",
       "      <th>com.pl</th>\n",
       "    </tr>\n",
       "  </thead>\n",
       "  <tbody>\n",
       "    <tr>\n",
       "      <th>count</th>\n",
       "      <td>     8</td>\n",
       "      <td>     8</td>\n",
       "      <td>      8</td>\n",
       "      <td>      8</td>\n",
       "      <td>      8</td>\n",
       "      <td>       8</td>\n",
       "      <td>       8</td>\n",
       "      <td>     8</td>\n",
       "      <td>      8</td>\n",
       "      <td>       8</td>\n",
       "      <td>        8</td>\n",
       "      <td>       8</td>\n",
       "      <td>        8</td>\n",
       "      <td>      8</td>\n",
       "    </tr>\n",
       "    <tr>\n",
       "      <th>unique</th>\n",
       "      <td>     8</td>\n",
       "      <td>     6</td>\n",
       "      <td>      6</td>\n",
       "      <td>      5</td>\n",
       "      <td>      7</td>\n",
       "      <td>       7</td>\n",
       "      <td>       7</td>\n",
       "      <td>     6</td>\n",
       "      <td>      7</td>\n",
       "      <td>       7</td>\n",
       "      <td>        7</td>\n",
       "      <td>       7</td>\n",
       "      <td>        7</td>\n",
       "      <td>      7</td>\n",
       "    </tr>\n",
       "    <tr>\n",
       "      <th>top</th>\n",
       "      <td> str+å</td>\n",
       "      <td> str+a</td>\n",
       "      <td> str+av</td>\n",
       "      <td> str+aj</td>\n",
       "      <td> str+in</td>\n",
       "      <td> str+ist</td>\n",
       "      <td> str+ijn</td>\n",
       "      <td> str+a</td>\n",
       "      <td> str+ij</td>\n",
       "      <td> str+ijd</td>\n",
       "      <td> str+ijda</td>\n",
       "      <td> str+ijn</td>\n",
       "      <td> str+ijst</td>\n",
       "      <td> str+ij</td>\n",
       "    </tr>\n",
       "    <tr>\n",
       "      <th>freq</th>\n",
       "      <td>     1</td>\n",
       "      <td>     3</td>\n",
       "      <td>      3</td>\n",
       "      <td>      2</td>\n",
       "      <td>      2</td>\n",
       "      <td>       2</td>\n",
       "      <td>       2</td>\n",
       "      <td>     3</td>\n",
       "      <td>      2</td>\n",
       "      <td>       2</td>\n",
       "      <td>        2</td>\n",
       "      <td>       2</td>\n",
       "      <td>        2</td>\n",
       "      <td>      2</td>\n",
       "    </tr>\n",
       "  </tbody>\n",
       "</table>\n",
       "</div>"
      ],
      "text/plain": [
       "       nom.sg gen.sg  acc.sg  ill.sg iness.sg  elat.sg   com.sg nom.pl  \\\n",
       "count       8      8       8       8        8        8        8      8   \n",
       "unique      8      6       6       5        7        7        7      6   \n",
       "top     str+å  str+a  str+av  str+aj   str+in  str+ist  str+ijn  str+a   \n",
       "freq        1      3       3       2        2        2        2      3   \n",
       "\n",
       "        gen.pl   acc.pl    ill.pl iness.pl   elat.pl  com.pl  \n",
       "count        8        8         8        8         8       8  \n",
       "unique       7        7         7        7         7       7  \n",
       "top     str+ij  str+ijd  str+ijda  str+ijn  str+ijst  str+ij  \n",
       "freq         2        2         2        2         2       2  "
      ]
     },
     "execution_count": 5,
     "metadata": {},
     "output_type": "execute_result"
    }
   ],
   "source": [
    "saami.describe()"
   ]
  },
  {
   "cell_type": "markdown",
   "metadata": {},
   "source": [
    "Total number of distinct realizations:"
   ]
  },
  {
   "cell_type": "code",
   "execution_count": 6,
   "metadata": {
    "collapsed": false
   },
   "outputs": [
    {
     "data": {
      "text/plain": [
       "70"
      ]
     },
     "execution_count": 6,
     "metadata": {},
     "output_type": "execute_result"
    }
   ],
   "source": [
    "len(set(saami.values.flatten()))"
   ]
  },
  {
   "cell_type": "markdown",
   "metadata": {},
   "source": [
    "If $D$ is the set of declensions for a particular paradigm, the probability (assuming all declensions are equally likely) of an arbitrary lexeme belonging to a particular paradigm $d$ is\n",
    "\n",
    "$$P(d)=\\frac{1}{|D|}$$\n",
    "\n",
    "Since there are eight distinct classes, the probability of any lexeme belonging to any one class would be $\\frac{1}{8}$. We could represent a lexeme's declension as a choice among eight equally likely alternatives, which thus has an entropy of $-\\log_2 8=3$ bits. This is the **declension entropy** $H(D)$, the average information required to record the inflection class membership of a lexeme:"
   ]
  },
  {
   "cell_type": "code",
   "execution_count": 7,
   "metadata": {
    "collapsed": false
   },
   "outputs": [
    {
     "data": {
      "text/plain": [
       "3.000"
      ]
     },
     "execution_count": 7,
     "metadata": {},
     "output_type": "execute_result"
    }
   ],
   "source": [
    "np.log2(len(saami.index))"
   ]
  },
  {
   "cell_type": "markdown",
   "metadata": {},
   "source": [
    "Let $D_{c=r}$ be the set of declensions for which the paradigm cell $c$ has the formal realization $r$.  Then the probability $P_{c}(r)$ of a paradigm cell $c$ of a particular lexeme having the realization $r$ is the probability of that lexeme belonging to one of the declensions in $D_{c=r}$,  or:\n",
    "\n",
    "$$P_{c}(r)=\\sum_{d\\in D_{c=r}}P(d)$$\n",
    "\n",
    "The entropy of this distribution is the **paradigm cell entropy** $H(c)$, the uncertainty in the realization for a paradigm cell $c$:"
   ]
  },
  {
   "cell_type": "code",
   "execution_count": 8,
   "metadata": {
    "collapsed": false
   },
   "outputs": [
    {
     "data": {
      "text/html": [
       "<div style=\"max-height:1000px;max-width:1500px;overflow:auto;\">\n",
       "<table border=\"1\" class=\"dataframe\">\n",
       "  <thead>\n",
       "    <tr style=\"text-align: right;\">\n",
       "      <th></th>\n",
       "      <th>nom.sg</th>\n",
       "      <th>gen.sg</th>\n",
       "      <th>acc.sg</th>\n",
       "      <th>ill.sg</th>\n",
       "      <th>iness.sg</th>\n",
       "      <th>elat.sg</th>\n",
       "      <th>com.sg</th>\n",
       "      <th>nom.pl</th>\n",
       "      <th>gen.pl</th>\n",
       "      <th>acc.pl</th>\n",
       "      <th>ill.pl</th>\n",
       "      <th>iness.pl</th>\n",
       "      <th>elat.pl</th>\n",
       "      <th>com.pl</th>\n",
       "    </tr>\n",
       "  </thead>\n",
       "  <tbody>\n",
       "    <tr>\n",
       "      <th>H</th>\n",
       "      <td>3.000</td>\n",
       "      <td>2.406</td>\n",
       "      <td>2.406</td>\n",
       "      <td>2.250</td>\n",
       "      <td>2.750</td>\n",
       "      <td>2.750</td>\n",
       "      <td>2.750</td>\n",
       "      <td>2.406</td>\n",
       "      <td>2.750</td>\n",
       "      <td>2.750</td>\n",
       "      <td>2.750</td>\n",
       "      <td>2.750</td>\n",
       "      <td>2.750</td>\n",
       "      <td>2.750</td>\n",
       "    </tr>\n",
       "  </tbody>\n",
       "</table>\n",
       "</div>"
      ],
      "text/plain": [
       "   nom.sg  gen.sg  acc.sg  ill.sg  iness.sg  elat.sg  com.sg  nom.pl  gen.pl  \\\n",
       "H   3.000   2.406   2.406   2.250     2.750    2.750   2.750   2.406   2.750   \n",
       "\n",
       "   acc.pl  ill.pl  iness.pl  elat.pl  com.pl  \n",
       "H   2.750   2.750     2.750    2.750   2.750  "
      ]
     },
     "execution_count": 8,
     "metadata": {},
     "output_type": "execute_result"
    }
   ],
   "source": [
    "H = pd.DataFrame([entropy.entropy(saami)], index=['H'])\n",
    "H"
   ]
  },
  {
   "cell_type": "code",
   "execution_count": 9,
   "metadata": {
    "collapsed": false
   },
   "outputs": [
    {
     "name": "stdout",
     "output_type": "stream",
     "text": [
      "\\begin{tabular}{lrrrrrrr}\n",
      "\\toprule\n",
      "{} &  nom.sg &  gen.sg &  acc.sg &  ill.sg &  iness.sg &  elat.sg &  com.sg \\\\\n",
      "\\midrule\n",
      "H &   3.000 &   2.406 &   2.406 &   2.250 &     2.750 &    2.750 &   2.750 \\\\\n",
      "\\bottomrule\n",
      "\\end{tabular}\n",
      "\n",
      "\\begin{tabular}{lrrrrrrr}\n",
      "\\toprule\n",
      "{} &  nom.pl &  gen.pl &  acc.pl &  ill.pl &  iness.pl &  elat.pl &  com.pl \\\\\n",
      "\\midrule\n",
      "H &   2.406 &   2.750 &   2.750 &   2.750 &     2.750 &    2.750 &   2.750 \\\\\n",
      "\\bottomrule\n",
      "\\end{tabular}\n",
      "\n"
     ]
    }
   ],
   "source": [
    "print H[sing].to_latex()\n",
    "print H[plur].to_latex()"
   ]
  },
  {
   "cell_type": "markdown",
   "metadata": {},
   "source": [
    "The average cell entropy is a measure of how difficult it is for a speaker to guess the realization of any one wordform of any particular lexeme in the absence of any information about that lexeme's declension:"
   ]
  },
  {
   "cell_type": "code",
   "execution_count": 10,
   "metadata": {
    "collapsed": false
   },
   "outputs": [
    {
     "name": "stdout",
     "output_type": "stream",
     "text": [
      "2.65835122762\n",
      "6.31311148211\n"
     ]
    }
   ],
   "source": [
    "print entropy.entropy(saami).mean()\n",
    "print 2**entropy.entropy(saami).mean()"
   ]
  },
  {
   "cell_type": "markdown",
   "metadata": {},
   "source": [
    "Above we defined $P_{c}(r)$, the probability that paradigm cell $c$ of a lexeme has the realization $r$.  We can easily generalize that to the joint probability of two cells $c_1$ and $c_2$ having the realizations $r_1$ and $r_2$ respectively:\n",
    "\n",
    "$$P_{c_1,c_2}(r_1,r_2)=\\sum_{d\\in D_{c_1=r_1 \\wedge c_2=r_2}}P(d)$$\n",
    "\n",
    "To quantify paradigm cell inter-predictability in terms of conditional entropy, we can define the conditional probability of a realization given another realization of a cell in the same lexeme's paradigm:\n",
    "\n",
    "$$P_{c_1}(r_1|c_2=r_2)=\\frac{P_{c_1,c_2}(r_1,r_2)}{P_{c_2}(r_2)}$$\n",
    "\n",
    "With this background, the conditional entropy $H(c_1|c_2)$ of a cell $c_1$ given knowledge of the realization of $c_2$ for a particular lexeme is:\n",
    "\n",
    "$$H(c_1|c_2)=\\sum_{r_1}\\sum_{r_2}P_{c_1}(r_1)\\,P_{c_2}(r_2)\\log_2 P_{c_1}(r_1|c_2=r_2)$$\n"
   ]
  },
  {
   "cell_type": "code",
   "execution_count": 11,
   "metadata": {
    "collapsed": false
   },
   "outputs": [
    {
     "data": {
      "text/html": [
       "<div style=\"max-height:1000px;max-width:1500px;overflow:auto;\">\n",
       "<table border=\"1\" class=\"dataframe\">\n",
       "  <thead>\n",
       "    <tr style=\"text-align: right;\">\n",
       "      <th></th>\n",
       "      <th>nom.sg</th>\n",
       "      <th>gen.sg</th>\n",
       "      <th>acc.sg</th>\n",
       "      <th>ill.sg</th>\n",
       "      <th>iness.sg</th>\n",
       "      <th>elat.sg</th>\n",
       "      <th>com.sg</th>\n",
       "      <th>nom.pl</th>\n",
       "      <th>gen.pl</th>\n",
       "      <th>acc.pl</th>\n",
       "      <th>ill.pl</th>\n",
       "      <th>iness.pl</th>\n",
       "      <th>elat.pl</th>\n",
       "      <th>com.pl</th>\n",
       "    </tr>\n",
       "  </thead>\n",
       "  <tbody>\n",
       "    <tr>\n",
       "      <th>nom.sg</th>\n",
       "      <td>  NaN</td>\n",
       "      <td>0.000</td>\n",
       "      <td>0.000</td>\n",
       "      <td>0.000</td>\n",
       "      <td>0.000</td>\n",
       "      <td>0.000</td>\n",
       "      <td>0.000</td>\n",
       "      <td>0.000</td>\n",
       "      <td>0.000</td>\n",
       "      <td>0.000</td>\n",
       "      <td>0.000</td>\n",
       "      <td>0.000</td>\n",
       "      <td>0.000</td>\n",
       "      <td>0.000</td>\n",
       "    </tr>\n",
       "    <tr>\n",
       "      <th>gen.sg</th>\n",
       "      <td>0.594</td>\n",
       "      <td>  NaN</td>\n",
       "      <td>0.000</td>\n",
       "      <td>0.344</td>\n",
       "      <td>0.344</td>\n",
       "      <td>0.344</td>\n",
       "      <td>0.344</td>\n",
       "      <td>0.000</td>\n",
       "      <td>0.344</td>\n",
       "      <td>0.344</td>\n",
       "      <td>0.344</td>\n",
       "      <td>0.344</td>\n",
       "      <td>0.344</td>\n",
       "      <td>0.344</td>\n",
       "    </tr>\n",
       "    <tr>\n",
       "      <th>acc.sg</th>\n",
       "      <td>0.594</td>\n",
       "      <td>0.000</td>\n",
       "      <td>  NaN</td>\n",
       "      <td>0.344</td>\n",
       "      <td>0.344</td>\n",
       "      <td>0.344</td>\n",
       "      <td>0.344</td>\n",
       "      <td>0.000</td>\n",
       "      <td>0.344</td>\n",
       "      <td>0.344</td>\n",
       "      <td>0.344</td>\n",
       "      <td>0.344</td>\n",
       "      <td>0.344</td>\n",
       "      <td>0.344</td>\n",
       "    </tr>\n",
       "    <tr>\n",
       "      <th>ill.sg</th>\n",
       "      <td>0.750</td>\n",
       "      <td>0.500</td>\n",
       "      <td>0.500</td>\n",
       "      <td>  NaN</td>\n",
       "      <td>0.500</td>\n",
       "      <td>0.500</td>\n",
       "      <td>0.500</td>\n",
       "      <td>0.500</td>\n",
       "      <td>0.500</td>\n",
       "      <td>0.500</td>\n",
       "      <td>0.500</td>\n",
       "      <td>0.500</td>\n",
       "      <td>0.500</td>\n",
       "      <td>0.500</td>\n",
       "    </tr>\n",
       "    <tr>\n",
       "      <th>iness.sg</th>\n",
       "      <td>0.250</td>\n",
       "      <td>0.000</td>\n",
       "      <td>0.000</td>\n",
       "      <td>0.000</td>\n",
       "      <td>  NaN</td>\n",
       "      <td>0.000</td>\n",
       "      <td>0.000</td>\n",
       "      <td>0.000</td>\n",
       "      <td>0.000</td>\n",
       "      <td>0.000</td>\n",
       "      <td>0.000</td>\n",
       "      <td>0.000</td>\n",
       "      <td>0.000</td>\n",
       "      <td>0.000</td>\n",
       "    </tr>\n",
       "    <tr>\n",
       "      <th>elat.sg</th>\n",
       "      <td>0.250</td>\n",
       "      <td>0.000</td>\n",
       "      <td>0.000</td>\n",
       "      <td>0.000</td>\n",
       "      <td>0.000</td>\n",
       "      <td>  NaN</td>\n",
       "      <td>0.000</td>\n",
       "      <td>0.000</td>\n",
       "      <td>0.000</td>\n",
       "      <td>0.000</td>\n",
       "      <td>0.000</td>\n",
       "      <td>0.000</td>\n",
       "      <td>0.000</td>\n",
       "      <td>0.000</td>\n",
       "    </tr>\n",
       "    <tr>\n",
       "      <th>com.sg</th>\n",
       "      <td>0.250</td>\n",
       "      <td>0.000</td>\n",
       "      <td>0.000</td>\n",
       "      <td>0.000</td>\n",
       "      <td>0.000</td>\n",
       "      <td>0.000</td>\n",
       "      <td>  NaN</td>\n",
       "      <td>0.000</td>\n",
       "      <td>0.000</td>\n",
       "      <td>0.000</td>\n",
       "      <td>0.000</td>\n",
       "      <td>0.000</td>\n",
       "      <td>0.000</td>\n",
       "      <td>0.000</td>\n",
       "    </tr>\n",
       "    <tr>\n",
       "      <th>nom.pl</th>\n",
       "      <td>0.594</td>\n",
       "      <td>0.000</td>\n",
       "      <td>0.000</td>\n",
       "      <td>0.344</td>\n",
       "      <td>0.344</td>\n",
       "      <td>0.344</td>\n",
       "      <td>0.344</td>\n",
       "      <td>  NaN</td>\n",
       "      <td>0.344</td>\n",
       "      <td>0.344</td>\n",
       "      <td>0.344</td>\n",
       "      <td>0.344</td>\n",
       "      <td>0.344</td>\n",
       "      <td>0.344</td>\n",
       "    </tr>\n",
       "    <tr>\n",
       "      <th>gen.pl</th>\n",
       "      <td>0.250</td>\n",
       "      <td>0.000</td>\n",
       "      <td>0.000</td>\n",
       "      <td>0.000</td>\n",
       "      <td>0.000</td>\n",
       "      <td>0.000</td>\n",
       "      <td>0.000</td>\n",
       "      <td>0.000</td>\n",
       "      <td>  NaN</td>\n",
       "      <td>0.000</td>\n",
       "      <td>0.000</td>\n",
       "      <td>0.000</td>\n",
       "      <td>0.000</td>\n",
       "      <td>0.000</td>\n",
       "    </tr>\n",
       "    <tr>\n",
       "      <th>acc.pl</th>\n",
       "      <td>0.250</td>\n",
       "      <td>0.000</td>\n",
       "      <td>0.000</td>\n",
       "      <td>0.000</td>\n",
       "      <td>0.000</td>\n",
       "      <td>0.000</td>\n",
       "      <td>0.000</td>\n",
       "      <td>0.000</td>\n",
       "      <td>0.000</td>\n",
       "      <td>  NaN</td>\n",
       "      <td>0.000</td>\n",
       "      <td>0.000</td>\n",
       "      <td>0.000</td>\n",
       "      <td>0.000</td>\n",
       "    </tr>\n",
       "    <tr>\n",
       "      <th>ill.pl</th>\n",
       "      <td>0.250</td>\n",
       "      <td>0.000</td>\n",
       "      <td>0.000</td>\n",
       "      <td>0.000</td>\n",
       "      <td>0.000</td>\n",
       "      <td>0.000</td>\n",
       "      <td>0.000</td>\n",
       "      <td>0.000</td>\n",
       "      <td>0.000</td>\n",
       "      <td>0.000</td>\n",
       "      <td>  NaN</td>\n",
       "      <td>0.000</td>\n",
       "      <td>0.000</td>\n",
       "      <td>0.000</td>\n",
       "    </tr>\n",
       "    <tr>\n",
       "      <th>iness.pl</th>\n",
       "      <td>0.250</td>\n",
       "      <td>0.000</td>\n",
       "      <td>0.000</td>\n",
       "      <td>0.000</td>\n",
       "      <td>0.000</td>\n",
       "      <td>0.000</td>\n",
       "      <td>0.000</td>\n",
       "      <td>0.000</td>\n",
       "      <td>0.000</td>\n",
       "      <td>0.000</td>\n",
       "      <td>0.000</td>\n",
       "      <td>  NaN</td>\n",
       "      <td>0.000</td>\n",
       "      <td>0.000</td>\n",
       "    </tr>\n",
       "    <tr>\n",
       "      <th>elat.pl</th>\n",
       "      <td>0.250</td>\n",
       "      <td>0.000</td>\n",
       "      <td>0.000</td>\n",
       "      <td>0.000</td>\n",
       "      <td>0.000</td>\n",
       "      <td>0.000</td>\n",
       "      <td>0.000</td>\n",
       "      <td>0.000</td>\n",
       "      <td>0.000</td>\n",
       "      <td>0.000</td>\n",
       "      <td>0.000</td>\n",
       "      <td>0.000</td>\n",
       "      <td>  NaN</td>\n",
       "      <td>0.000</td>\n",
       "    </tr>\n",
       "    <tr>\n",
       "      <th>com.pl</th>\n",
       "      <td>0.250</td>\n",
       "      <td>0.000</td>\n",
       "      <td>0.000</td>\n",
       "      <td>0.000</td>\n",
       "      <td>0.000</td>\n",
       "      <td>0.000</td>\n",
       "      <td>0.000</td>\n",
       "      <td>0.000</td>\n",
       "      <td>0.000</td>\n",
       "      <td>0.000</td>\n",
       "      <td>0.000</td>\n",
       "      <td>0.000</td>\n",
       "      <td>0.000</td>\n",
       "      <td>  NaN</td>\n",
       "    </tr>\n",
       "  </tbody>\n",
       "</table>\n",
       "</div>"
      ],
      "text/plain": [
       "         nom.sg gen.sg acc.sg ill.sg iness.sg elat.sg com.sg nom.pl gen.pl  \\\n",
       "nom.sg      NaN  0.000  0.000  0.000    0.000   0.000  0.000  0.000  0.000   \n",
       "gen.sg    0.594    NaN  0.000  0.344    0.344   0.344  0.344  0.000  0.344   \n",
       "acc.sg    0.594  0.000    NaN  0.344    0.344   0.344  0.344  0.000  0.344   \n",
       "ill.sg    0.750  0.500  0.500    NaN    0.500   0.500  0.500  0.500  0.500   \n",
       "iness.sg  0.250  0.000  0.000  0.000      NaN   0.000  0.000  0.000  0.000   \n",
       "elat.sg   0.250  0.000  0.000  0.000    0.000     NaN  0.000  0.000  0.000   \n",
       "com.sg    0.250  0.000  0.000  0.000    0.000   0.000    NaN  0.000  0.000   \n",
       "nom.pl    0.594  0.000  0.000  0.344    0.344   0.344  0.344    NaN  0.344   \n",
       "gen.pl    0.250  0.000  0.000  0.000    0.000   0.000  0.000  0.000    NaN   \n",
       "acc.pl    0.250  0.000  0.000  0.000    0.000   0.000  0.000  0.000  0.000   \n",
       "ill.pl    0.250  0.000  0.000  0.000    0.000   0.000  0.000  0.000  0.000   \n",
       "iness.pl  0.250  0.000  0.000  0.000    0.000   0.000  0.000  0.000  0.000   \n",
       "elat.pl   0.250  0.000  0.000  0.000    0.000   0.000  0.000  0.000  0.000   \n",
       "com.pl    0.250  0.000  0.000  0.000    0.000   0.000  0.000  0.000  0.000   \n",
       "\n",
       "         acc.pl ill.pl iness.pl elat.pl com.pl  \n",
       "nom.sg    0.000  0.000    0.000   0.000  0.000  \n",
       "gen.sg    0.344  0.344    0.344   0.344  0.344  \n",
       "acc.sg    0.344  0.344    0.344   0.344  0.344  \n",
       "ill.sg    0.500  0.500    0.500   0.500  0.500  \n",
       "iness.sg  0.000  0.000    0.000   0.000  0.000  \n",
       "elat.sg   0.000  0.000    0.000   0.000  0.000  \n",
       "com.sg    0.000  0.000    0.000   0.000  0.000  \n",
       "nom.pl    0.344  0.344    0.344   0.344  0.344  \n",
       "gen.pl    0.000  0.000    0.000   0.000  0.000  \n",
       "acc.pl      NaN  0.000    0.000   0.000  0.000  \n",
       "ill.pl    0.000    NaN    0.000   0.000  0.000  \n",
       "iness.pl  0.000  0.000      NaN   0.000  0.000  \n",
       "elat.pl   0.000  0.000    0.000     NaN  0.000  \n",
       "com.pl    0.000  0.000    0.000   0.000    NaN  "
      ]
     },
     "execution_count": 11,
     "metadata": {},
     "output_type": "execute_result"
    }
   ],
   "source": [
    "H = entropy.cond_entropy(saami)\n",
    "H"
   ]
  },
  {
   "cell_type": "markdown",
   "metadata": {},
   "source": [
    "The column averages measure *predictedness*, how hard it is to guess the realization of a cell given some other cell:"
   ]
  },
  {
   "cell_type": "code",
   "execution_count": 12,
   "metadata": {
    "collapsed": false
   },
   "outputs": [
    {
     "data": {
      "text/html": [
       "<div style=\"max-height:1000px;max-width:1500px;overflow:auto;\">\n",
       "<table border=\"1\" class=\"dataframe\">\n",
       "  <thead>\n",
       "    <tr style=\"text-align: right;\">\n",
       "      <th></th>\n",
       "      <th>nom.sg</th>\n",
       "      <th>gen.sg</th>\n",
       "      <th>acc.sg</th>\n",
       "      <th>ill.sg</th>\n",
       "      <th>iness.sg</th>\n",
       "      <th>elat.sg</th>\n",
       "      <th>com.sg</th>\n",
       "      <th>nom.pl</th>\n",
       "      <th>gen.pl</th>\n",
       "      <th>acc.pl</th>\n",
       "      <th>ill.pl</th>\n",
       "      <th>iness.pl</th>\n",
       "      <th>elat.pl</th>\n",
       "      <th>com.pl</th>\n",
       "    </tr>\n",
       "  </thead>\n",
       "  <tbody>\n",
       "    <tr>\n",
       "      <th>AVG</th>\n",
       "      <td>0.368</td>\n",
       "      <td>0.038</td>\n",
       "      <td>0.038</td>\n",
       "      <td>0.079</td>\n",
       "      <td>0.118</td>\n",
       "      <td>0.118</td>\n",
       "      <td>0.118</td>\n",
       "      <td>0.038</td>\n",
       "      <td>0.118</td>\n",
       "      <td>0.118</td>\n",
       "      <td>0.118</td>\n",
       "      <td>0.118</td>\n",
       "      <td>0.118</td>\n",
       "      <td>0.118</td>\n",
       "    </tr>\n",
       "  </tbody>\n",
       "</table>\n",
       "</div>"
      ],
      "text/plain": [
       "     nom.sg  gen.sg  acc.sg  ill.sg  iness.sg  elat.sg  com.sg  nom.pl  \\\n",
       "AVG   0.368   0.038   0.038   0.079     0.118    0.118   0.118   0.038   \n",
       "\n",
       "     gen.pl  acc.pl  ill.pl  iness.pl  elat.pl  com.pl  \n",
       "AVG   0.118   0.118   0.118     0.118    0.118   0.118  "
      ]
     },
     "execution_count": 12,
     "metadata": {},
     "output_type": "execute_result"
    }
   ],
   "source": [
    "pd.DataFrame([H.mean(0)], index=['AVG'])"
   ]
  },
  {
   "cell_type": "code",
   "execution_count": 13,
   "metadata": {
    "collapsed": false
   },
   "outputs": [
    {
     "name": "stdout",
     "output_type": "stream",
     "text": [
      "\\begin{tabular}{lrrrrrrr}\n",
      "\\toprule\n",
      "{} &  nom.sg &  gen.sg &  acc.sg &  ill.sg &  iness.sg &  elat.sg &  com.sg \\\\\n",
      "\\midrule\n",
      "AVG &   0.368 &   0.038 &   0.038 &   0.079 &     0.118 &    0.118 &   0.118 \\\\\n",
      "\\bottomrule\n",
      "\\end{tabular}\n",
      "\n",
      "\\begin{tabular}{lrrrrrrr}\n",
      "\\toprule\n",
      "{} &  nom.pl &  gen.pl &  acc.pl &  ill.pl &  iness.pl &  elat.pl &  com.pl \\\\\n",
      "\\midrule\n",
      "AVG &   0.038 &   0.118 &   0.118 &   0.118 &     0.118 &    0.118 &   0.118 \\\\\n",
      "\\bottomrule\n",
      "\\end{tabular}\n",
      "\n"
     ]
    }
   ],
   "source": [
    "print pd.DataFrame([H.mean(0)],index=['AVG'])[sing].to_latex()\n",
    "print pd.DataFrame([H.mean(0)],index=['AVG'])[plur].to_latex()"
   ]
  },
  {
   "cell_type": "markdown",
   "metadata": {},
   "source": [
    "And the row averages measures *predictiveness*, how hard it is to guess the realization of some other cell given this cell:"
   ]
  },
  {
   "cell_type": "code",
   "execution_count": 14,
   "metadata": {
    "collapsed": false
   },
   "outputs": [
    {
     "data": {
      "text/html": [
       "<div style=\"max-height:1000px;max-width:1500px;overflow:auto;\">\n",
       "<table border=\"1\" class=\"dataframe\">\n",
       "  <thead>\n",
       "    <tr style=\"text-align: right;\">\n",
       "      <th></th>\n",
       "      <th>nom.sg</th>\n",
       "      <th>gen.sg</th>\n",
       "      <th>acc.sg</th>\n",
       "      <th>ill.sg</th>\n",
       "      <th>iness.sg</th>\n",
       "      <th>elat.sg</th>\n",
       "      <th>com.sg</th>\n",
       "      <th>nom.pl</th>\n",
       "      <th>gen.pl</th>\n",
       "      <th>acc.pl</th>\n",
       "      <th>ill.pl</th>\n",
       "      <th>iness.pl</th>\n",
       "      <th>elat.pl</th>\n",
       "      <th>com.pl</th>\n",
       "    </tr>\n",
       "  </thead>\n",
       "  <tbody>\n",
       "    <tr>\n",
       "      <th>AVG</th>\n",
       "      <td>0.000</td>\n",
       "      <td>0.311</td>\n",
       "      <td>0.311</td>\n",
       "      <td>0.519</td>\n",
       "      <td>0.019</td>\n",
       "      <td>0.019</td>\n",
       "      <td>0.019</td>\n",
       "      <td>0.311</td>\n",
       "      <td>0.019</td>\n",
       "      <td>0.019</td>\n",
       "      <td>0.019</td>\n",
       "      <td>0.019</td>\n",
       "      <td>0.019</td>\n",
       "      <td>0.019</td>\n",
       "    </tr>\n",
       "  </tbody>\n",
       "</table>\n",
       "</div>"
      ],
      "text/plain": [
       "     nom.sg  gen.sg  acc.sg  ill.sg  iness.sg  elat.sg  com.sg  nom.pl  \\\n",
       "AVG   0.000   0.311   0.311   0.519     0.019    0.019   0.019   0.311   \n",
       "\n",
       "     gen.pl  acc.pl  ill.pl  iness.pl  elat.pl  com.pl  \n",
       "AVG   0.019   0.019   0.019     0.019    0.019   0.019  "
      ]
     },
     "execution_count": 14,
     "metadata": {},
     "output_type": "execute_result"
    }
   ],
   "source": [
    "pd.DataFrame([H.mean(1)], index=['AVG'])"
   ]
  },
  {
   "cell_type": "code",
   "execution_count": 15,
   "metadata": {
    "collapsed": false
   },
   "outputs": [
    {
     "name": "stdout",
     "output_type": "stream",
     "text": [
      "\\begin{tabular}{lrrrrrrr}\n",
      "\\toprule\n",
      "{} &  nom.sg &  gen.sg &  acc.sg &  ill.sg &  iness.sg &  elat.sg &  com.sg \\\\\n",
      "\\midrule\n",
      "AVG &   0.000 &   0.311 &   0.311 &   0.519 &     0.019 &    0.019 &   0.019 \\\\\n",
      "\\bottomrule\n",
      "\\end{tabular}\n",
      "\n",
      "\\begin{tabular}{lrrrrrrr}\n",
      "\\toprule\n",
      "{} &  nom.pl &  gen.pl &  acc.pl &  ill.pl &  iness.pl &  elat.pl &  com.pl \\\\\n",
      "\\midrule\n",
      "AVG &   0.311 &   0.019 &   0.019 &   0.019 &     0.019 &    0.019 &   0.019 \\\\\n",
      "\\bottomrule\n",
      "\\end{tabular}\n",
      "\n"
     ]
    }
   ],
   "source": [
    "print pd.DataFrame([H.mean(1)],index=['AVG'])[sing].to_latex()\n",
    "print pd.DataFrame([H.mean(1)],index=['AVG'])[plur].to_latex()"
   ]
  },
  {
   "cell_type": "markdown",
   "metadata": {},
   "source": [
    "Add row and column averages to the table:"
   ]
  },
  {
   "cell_type": "code",
   "execution_count": 16,
   "metadata": {
    "collapsed": false
   },
   "outputs": [
    {
     "data": {
      "text/html": [
       "<div style=\"max-height:1000px;max-width:1500px;overflow:auto;\">\n",
       "<table border=\"1\" class=\"dataframe\">\n",
       "  <thead>\n",
       "    <tr style=\"text-align: right;\">\n",
       "      <th></th>\n",
       "      <th>nom.sg</th>\n",
       "      <th>gen.sg</th>\n",
       "      <th>acc.sg</th>\n",
       "      <th>ill.sg</th>\n",
       "      <th>iness.sg</th>\n",
       "      <th>elat.sg</th>\n",
       "      <th>com.sg</th>\n",
       "      <th>nom.pl</th>\n",
       "      <th>gen.pl</th>\n",
       "      <th>acc.pl</th>\n",
       "      <th>ill.pl</th>\n",
       "      <th>iness.pl</th>\n",
       "      <th>elat.pl</th>\n",
       "      <th>com.pl</th>\n",
       "      <th>AVG</th>\n",
       "    </tr>\n",
       "  </thead>\n",
       "  <tbody>\n",
       "    <tr>\n",
       "      <th>nom.sg</th>\n",
       "      <td>  NaN</td>\n",
       "      <td>0.000</td>\n",
       "      <td>0.000</td>\n",
       "      <td>0.000</td>\n",
       "      <td>0.000</td>\n",
       "      <td>0.000</td>\n",
       "      <td>0.000</td>\n",
       "      <td>0.000</td>\n",
       "      <td>0.000</td>\n",
       "      <td>0.000</td>\n",
       "      <td>0.000</td>\n",
       "      <td>0.000</td>\n",
       "      <td>0.000</td>\n",
       "      <td>0.000</td>\n",
       "      <td>0.000</td>\n",
       "    </tr>\n",
       "    <tr>\n",
       "      <th>gen.sg</th>\n",
       "      <td>0.594</td>\n",
       "      <td>  NaN</td>\n",
       "      <td>0.000</td>\n",
       "      <td>0.344</td>\n",
       "      <td>0.344</td>\n",
       "      <td>0.344</td>\n",
       "      <td>0.344</td>\n",
       "      <td>0.000</td>\n",
       "      <td>0.344</td>\n",
       "      <td>0.344</td>\n",
       "      <td>0.344</td>\n",
       "      <td>0.344</td>\n",
       "      <td>0.344</td>\n",
       "      <td>0.344</td>\n",
       "      <td>0.311</td>\n",
       "    </tr>\n",
       "    <tr>\n",
       "      <th>acc.sg</th>\n",
       "      <td>0.594</td>\n",
       "      <td>0.000</td>\n",
       "      <td>  NaN</td>\n",
       "      <td>0.344</td>\n",
       "      <td>0.344</td>\n",
       "      <td>0.344</td>\n",
       "      <td>0.344</td>\n",
       "      <td>0.000</td>\n",
       "      <td>0.344</td>\n",
       "      <td>0.344</td>\n",
       "      <td>0.344</td>\n",
       "      <td>0.344</td>\n",
       "      <td>0.344</td>\n",
       "      <td>0.344</td>\n",
       "      <td>0.311</td>\n",
       "    </tr>\n",
       "    <tr>\n",
       "      <th>ill.sg</th>\n",
       "      <td>0.750</td>\n",
       "      <td>0.500</td>\n",
       "      <td>0.500</td>\n",
       "      <td>  NaN</td>\n",
       "      <td>0.500</td>\n",
       "      <td>0.500</td>\n",
       "      <td>0.500</td>\n",
       "      <td>0.500</td>\n",
       "      <td>0.500</td>\n",
       "      <td>0.500</td>\n",
       "      <td>0.500</td>\n",
       "      <td>0.500</td>\n",
       "      <td>0.500</td>\n",
       "      <td>0.500</td>\n",
       "      <td>0.519</td>\n",
       "    </tr>\n",
       "    <tr>\n",
       "      <th>iness.sg</th>\n",
       "      <td>0.250</td>\n",
       "      <td>0.000</td>\n",
       "      <td>0.000</td>\n",
       "      <td>0.000</td>\n",
       "      <td>  NaN</td>\n",
       "      <td>0.000</td>\n",
       "      <td>0.000</td>\n",
       "      <td>0.000</td>\n",
       "      <td>0.000</td>\n",
       "      <td>0.000</td>\n",
       "      <td>0.000</td>\n",
       "      <td>0.000</td>\n",
       "      <td>0.000</td>\n",
       "      <td>0.000</td>\n",
       "      <td>0.019</td>\n",
       "    </tr>\n",
       "    <tr>\n",
       "      <th>elat.sg</th>\n",
       "      <td>0.250</td>\n",
       "      <td>0.000</td>\n",
       "      <td>0.000</td>\n",
       "      <td>0.000</td>\n",
       "      <td>0.000</td>\n",
       "      <td>  NaN</td>\n",
       "      <td>0.000</td>\n",
       "      <td>0.000</td>\n",
       "      <td>0.000</td>\n",
       "      <td>0.000</td>\n",
       "      <td>0.000</td>\n",
       "      <td>0.000</td>\n",
       "      <td>0.000</td>\n",
       "      <td>0.000</td>\n",
       "      <td>0.019</td>\n",
       "    </tr>\n",
       "    <tr>\n",
       "      <th>com.sg</th>\n",
       "      <td>0.250</td>\n",
       "      <td>0.000</td>\n",
       "      <td>0.000</td>\n",
       "      <td>0.000</td>\n",
       "      <td>0.000</td>\n",
       "      <td>0.000</td>\n",
       "      <td>  NaN</td>\n",
       "      <td>0.000</td>\n",
       "      <td>0.000</td>\n",
       "      <td>0.000</td>\n",
       "      <td>0.000</td>\n",
       "      <td>0.000</td>\n",
       "      <td>0.000</td>\n",
       "      <td>0.000</td>\n",
       "      <td>0.019</td>\n",
       "    </tr>\n",
       "    <tr>\n",
       "      <th>nom.pl</th>\n",
       "      <td>0.594</td>\n",
       "      <td>0.000</td>\n",
       "      <td>0.000</td>\n",
       "      <td>0.344</td>\n",
       "      <td>0.344</td>\n",
       "      <td>0.344</td>\n",
       "      <td>0.344</td>\n",
       "      <td>  NaN</td>\n",
       "      <td>0.344</td>\n",
       "      <td>0.344</td>\n",
       "      <td>0.344</td>\n",
       "      <td>0.344</td>\n",
       "      <td>0.344</td>\n",
       "      <td>0.344</td>\n",
       "      <td>0.311</td>\n",
       "    </tr>\n",
       "    <tr>\n",
       "      <th>gen.pl</th>\n",
       "      <td>0.250</td>\n",
       "      <td>0.000</td>\n",
       "      <td>0.000</td>\n",
       "      <td>0.000</td>\n",
       "      <td>0.000</td>\n",
       "      <td>0.000</td>\n",
       "      <td>0.000</td>\n",
       "      <td>0.000</td>\n",
       "      <td>  NaN</td>\n",
       "      <td>0.000</td>\n",
       "      <td>0.000</td>\n",
       "      <td>0.000</td>\n",
       "      <td>0.000</td>\n",
       "      <td>0.000</td>\n",
       "      <td>0.019</td>\n",
       "    </tr>\n",
       "    <tr>\n",
       "      <th>acc.pl</th>\n",
       "      <td>0.250</td>\n",
       "      <td>0.000</td>\n",
       "      <td>0.000</td>\n",
       "      <td>0.000</td>\n",
       "      <td>0.000</td>\n",
       "      <td>0.000</td>\n",
       "      <td>0.000</td>\n",
       "      <td>0.000</td>\n",
       "      <td>0.000</td>\n",
       "      <td>  NaN</td>\n",
       "      <td>0.000</td>\n",
       "      <td>0.000</td>\n",
       "      <td>0.000</td>\n",
       "      <td>0.000</td>\n",
       "      <td>0.019</td>\n",
       "    </tr>\n",
       "    <tr>\n",
       "      <th>ill.pl</th>\n",
       "      <td>0.250</td>\n",
       "      <td>0.000</td>\n",
       "      <td>0.000</td>\n",
       "      <td>0.000</td>\n",
       "      <td>0.000</td>\n",
       "      <td>0.000</td>\n",
       "      <td>0.000</td>\n",
       "      <td>0.000</td>\n",
       "      <td>0.000</td>\n",
       "      <td>0.000</td>\n",
       "      <td>  NaN</td>\n",
       "      <td>0.000</td>\n",
       "      <td>0.000</td>\n",
       "      <td>0.000</td>\n",
       "      <td>0.019</td>\n",
       "    </tr>\n",
       "    <tr>\n",
       "      <th>iness.pl</th>\n",
       "      <td>0.250</td>\n",
       "      <td>0.000</td>\n",
       "      <td>0.000</td>\n",
       "      <td>0.000</td>\n",
       "      <td>0.000</td>\n",
       "      <td>0.000</td>\n",
       "      <td>0.000</td>\n",
       "      <td>0.000</td>\n",
       "      <td>0.000</td>\n",
       "      <td>0.000</td>\n",
       "      <td>0.000</td>\n",
       "      <td>  NaN</td>\n",
       "      <td>0.000</td>\n",
       "      <td>0.000</td>\n",
       "      <td>0.019</td>\n",
       "    </tr>\n",
       "    <tr>\n",
       "      <th>elat.pl</th>\n",
       "      <td>0.250</td>\n",
       "      <td>0.000</td>\n",
       "      <td>0.000</td>\n",
       "      <td>0.000</td>\n",
       "      <td>0.000</td>\n",
       "      <td>0.000</td>\n",
       "      <td>0.000</td>\n",
       "      <td>0.000</td>\n",
       "      <td>0.000</td>\n",
       "      <td>0.000</td>\n",
       "      <td>0.000</td>\n",
       "      <td>0.000</td>\n",
       "      <td>  NaN</td>\n",
       "      <td>0.000</td>\n",
       "      <td>0.019</td>\n",
       "    </tr>\n",
       "    <tr>\n",
       "      <th>com.pl</th>\n",
       "      <td>0.250</td>\n",
       "      <td>0.000</td>\n",
       "      <td>0.000</td>\n",
       "      <td>0.000</td>\n",
       "      <td>0.000</td>\n",
       "      <td>0.000</td>\n",
       "      <td>0.000</td>\n",
       "      <td>0.000</td>\n",
       "      <td>0.000</td>\n",
       "      <td>0.000</td>\n",
       "      <td>0.000</td>\n",
       "      <td>0.000</td>\n",
       "      <td>0.000</td>\n",
       "      <td>  NaN</td>\n",
       "      <td>0.019</td>\n",
       "    </tr>\n",
       "    <tr>\n",
       "      <th>AVG</th>\n",
       "      <td>0.368</td>\n",
       "      <td>0.038</td>\n",
       "      <td>0.038</td>\n",
       "      <td>0.079</td>\n",
       "      <td>0.118</td>\n",
       "      <td>0.118</td>\n",
       "      <td>0.118</td>\n",
       "      <td>0.038</td>\n",
       "      <td>0.118</td>\n",
       "      <td>0.118</td>\n",
       "      <td>0.118</td>\n",
       "      <td>0.118</td>\n",
       "      <td>0.118</td>\n",
       "      <td>0.118</td>\n",
       "      <td>0.116</td>\n",
       "    </tr>\n",
       "  </tbody>\n",
       "</table>\n",
       "</div>"
      ],
      "text/plain": [
       "         nom.sg gen.sg acc.sg ill.sg iness.sg elat.sg com.sg nom.pl gen.pl  \\\n",
       "nom.sg      NaN  0.000  0.000  0.000    0.000   0.000  0.000  0.000  0.000   \n",
       "gen.sg    0.594    NaN  0.000  0.344    0.344   0.344  0.344  0.000  0.344   \n",
       "acc.sg    0.594  0.000    NaN  0.344    0.344   0.344  0.344  0.000  0.344   \n",
       "ill.sg    0.750  0.500  0.500    NaN    0.500   0.500  0.500  0.500  0.500   \n",
       "iness.sg  0.250  0.000  0.000  0.000      NaN   0.000  0.000  0.000  0.000   \n",
       "elat.sg   0.250  0.000  0.000  0.000    0.000     NaN  0.000  0.000  0.000   \n",
       "com.sg    0.250  0.000  0.000  0.000    0.000   0.000    NaN  0.000  0.000   \n",
       "nom.pl    0.594  0.000  0.000  0.344    0.344   0.344  0.344    NaN  0.344   \n",
       "gen.pl    0.250  0.000  0.000  0.000    0.000   0.000  0.000  0.000    NaN   \n",
       "acc.pl    0.250  0.000  0.000  0.000    0.000   0.000  0.000  0.000  0.000   \n",
       "ill.pl    0.250  0.000  0.000  0.000    0.000   0.000  0.000  0.000  0.000   \n",
       "iness.pl  0.250  0.000  0.000  0.000    0.000   0.000  0.000  0.000  0.000   \n",
       "elat.pl   0.250  0.000  0.000  0.000    0.000   0.000  0.000  0.000  0.000   \n",
       "com.pl    0.250  0.000  0.000  0.000    0.000   0.000  0.000  0.000  0.000   \n",
       "AVG       0.368  0.038  0.038  0.079    0.118   0.118  0.118  0.038  0.118   \n",
       "\n",
       "         acc.pl ill.pl iness.pl elat.pl com.pl   AVG  \n",
       "nom.sg    0.000  0.000    0.000   0.000  0.000 0.000  \n",
       "gen.sg    0.344  0.344    0.344   0.344  0.344 0.311  \n",
       "acc.sg    0.344  0.344    0.344   0.344  0.344 0.311  \n",
       "ill.sg    0.500  0.500    0.500   0.500  0.500 0.519  \n",
       "iness.sg  0.000  0.000    0.000   0.000  0.000 0.019  \n",
       "elat.sg   0.000  0.000    0.000   0.000  0.000 0.019  \n",
       "com.sg    0.000  0.000    0.000   0.000  0.000 0.019  \n",
       "nom.pl    0.344  0.344    0.344   0.344  0.344 0.311  \n",
       "gen.pl    0.000  0.000    0.000   0.000  0.000 0.019  \n",
       "acc.pl      NaN  0.000    0.000   0.000  0.000 0.019  \n",
       "ill.pl    0.000    NaN    0.000   0.000  0.000 0.019  \n",
       "iness.pl  0.000  0.000      NaN   0.000  0.000 0.019  \n",
       "elat.pl   0.000  0.000    0.000     NaN  0.000 0.019  \n",
       "com.pl    0.000  0.000    0.000   0.000    NaN 0.019  \n",
       "AVG       0.118  0.118    0.118   0.118  0.118 0.116  "
      ]
     },
     "execution_count": 16,
     "metadata": {},
     "output_type": "execute_result"
    }
   ],
   "source": [
    "H = H.join(pd.Series(H.mean(1), name='AVG'))\n",
    "H = H.append(pd.Series(H.mean(0), name='AVG'))\n",
    "H"
   ]
  },
  {
   "cell_type": "markdown",
   "metadata": {},
   "source": [
    "And format the result in $\\LaTeX$"
   ]
  },
  {
   "cell_type": "code",
   "execution_count": 17,
   "metadata": {
    "collapsed": false
   },
   "outputs": [
    {
     "name": "stdout",
     "output_type": "stream",
     "text": [
      "\\begin{tabular}{llllllll}\n",
      "\\toprule\n",
      "{} & nom.sg & gen.sg & acc.sg & ill.sg & iness.sg & elat.sg & com.sg \\\\\n",
      "\\midrule\n",
      "nom.sg   &    --- &  0.000 &  0.000 &  0.000 &    0.000 &   0.000 &  0.000 \\\\\n",
      "gen.sg   &  0.594 &    --- &  0.000 &  0.344 &    0.344 &   0.344 &  0.344 \\\\\n",
      "acc.sg   &  0.594 &  0.000 &    --- &  0.344 &    0.344 &   0.344 &  0.344 \\\\\n",
      "ill.sg   &  0.750 &  0.500 &  0.500 &    --- &    0.500 &   0.500 &  0.500 \\\\\n",
      "iness.sg &  0.250 &  0.000 &  0.000 &  0.000 &      --- &   0.000 &  0.000 \\\\\n",
      "elat.sg  &  0.250 &  0.000 &  0.000 &  0.000 &    0.000 &     --- &  0.000 \\\\\n",
      "com.sg   &  0.250 &  0.000 &  0.000 &  0.000 &    0.000 &   0.000 &    --- \\\\\n",
      "nom.pl   &  0.594 &  0.000 &  0.000 &  0.344 &    0.344 &   0.344 &  0.344 \\\\\n",
      "gen.pl   &  0.250 &  0.000 &  0.000 &  0.000 &    0.000 &   0.000 &  0.000 \\\\\n",
      "acc.pl   &  0.250 &  0.000 &  0.000 &  0.000 &    0.000 &   0.000 &  0.000 \\\\\n",
      "ill.pl   &  0.250 &  0.000 &  0.000 &  0.000 &    0.000 &   0.000 &  0.000 \\\\\n",
      "iness.pl &  0.250 &  0.000 &  0.000 &  0.000 &    0.000 &   0.000 &  0.000 \\\\\n",
      "elat.pl  &  0.250 &  0.000 &  0.000 &  0.000 &    0.000 &   0.000 &  0.000 \\\\\n",
      "com.pl   &  0.250 &  0.000 &  0.000 &  0.000 &    0.000 &   0.000 &  0.000 \\\\\n",
      "AVG      &  0.368 &  0.038 &  0.038 &  0.079 &    0.118 &   0.118 &  0.118 \\\\\n",
      "\\bottomrule\n",
      "\\end{tabular}\n",
      "\n",
      "\\begin{tabular}{llllllll}\n",
      "\\toprule\n",
      "{} & nom.pl & gen.pl & acc.pl & ill.pl & iness.pl & elat.pl & com.pl \\\\\n",
      "\\midrule\n",
      "nom.sg   &  0.000 &  0.000 &  0.000 &  0.000 &    0.000 &   0.000 &  0.000 \\\\\n",
      "gen.sg   &  0.000 &  0.344 &  0.344 &  0.344 &    0.344 &   0.344 &  0.344 \\\\\n",
      "acc.sg   &  0.000 &  0.344 &  0.344 &  0.344 &    0.344 &   0.344 &  0.344 \\\\\n",
      "ill.sg   &  0.500 &  0.500 &  0.500 &  0.500 &    0.500 &   0.500 &  0.500 \\\\\n",
      "iness.sg &  0.000 &  0.000 &  0.000 &  0.000 &    0.000 &   0.000 &  0.000 \\\\\n",
      "elat.sg  &  0.000 &  0.000 &  0.000 &  0.000 &    0.000 &   0.000 &  0.000 \\\\\n",
      "com.sg   &  0.000 &  0.000 &  0.000 &  0.000 &    0.000 &   0.000 &  0.000 \\\\\n",
      "nom.pl   &    --- &  0.344 &  0.344 &  0.344 &    0.344 &   0.344 &  0.344 \\\\\n",
      "gen.pl   &  0.000 &    --- &  0.000 &  0.000 &    0.000 &   0.000 &  0.000 \\\\\n",
      "acc.pl   &  0.000 &  0.000 &    --- &  0.000 &    0.000 &   0.000 &  0.000 \\\\\n",
      "ill.pl   &  0.000 &  0.000 &  0.000 &    --- &    0.000 &   0.000 &  0.000 \\\\\n",
      "iness.pl &  0.000 &  0.000 &  0.000 &  0.000 &      --- &   0.000 &  0.000 \\\\\n",
      "elat.pl  &  0.000 &  0.000 &  0.000 &  0.000 &    0.000 &     --- &  0.000 \\\\\n",
      "com.pl   &  0.000 &  0.000 &  0.000 &  0.000 &    0.000 &   0.000 &    --- \\\\\n",
      "AVG      &  0.038 &  0.118 &  0.118 &  0.118 &    0.118 &   0.118 &  0.118 \\\\\n",
      "\\bottomrule\n",
      "\\end{tabular}\n",
      "\n"
     ]
    }
   ],
   "source": [
    "print H[sing].to_latex(na_rep='---')\n",
    "print H[plur].to_latex(na_rep='---')"
   ]
  },
  {
   "cell_type": "markdown",
   "metadata": {},
   "source": [
    "---\n",
    "\n",
    "Next we try a simple bootstrap simulation to test the importance of implicational relations in the paradigm. \n",
    "\n",
    "Statistical hypothesis testing proceeds by identifying a statistic whose sampling distribution is known under the null hypothesis $H_0$, and then estimating the  probability of finding a result which deviates from what would be expected under $H_0$ at least as much as the observed data does. In this case,  $H_0$ is that implicational relations are not a factor in reducing average conditional entropy in Saami, and the relevant statistic is the average conditional entropy.  Unfortunately, we have no theoretical basis for deriving the sampling distribution of average conditional entropy under $H_0$, which precludes the use of conventional statistical methods. However, we can use a simple computational procedure for estimating the sampling distribution of the average conditional entropy.  Take Saami$'$, an alternate version of Saami with formal realizations assigned randomly to paradigm cells. More specifically, we generate  Saami$'$ by constructing 4 random conjugations, where each conjugation is produced by randomly selecting for each of the paradigm cells one of the possible realizations of that cell.  The result is a language with more or less the same same number of declensions, paradigm cells, and allomorphs as genuine Saami, but with no implicational structure."
   ]
  },
  {
   "cell_type": "code",
   "execution_count": 26,
   "metadata": {
    "collapsed": false
   },
   "outputs": [],
   "source": [
    "boot = entropy.bootstrap(saami, 999)"
   ]
  },
  {
   "cell_type": "markdown",
   "metadata": {},
   "source": [
    "Averaged across 999 simulation runs (plus the original), the average average conditional entropy is notably higher than the true average conditional entropy of 0.116 bits:"
   ]
  },
  {
   "cell_type": "code",
   "execution_count": 27,
   "metadata": {
    "collapsed": false
   },
   "outputs": [
    {
     "data": {
      "text/plain": [
       "0.758"
      ]
     },
     "execution_count": 27,
     "metadata": {},
     "output_type": "execute_result"
    }
   ],
   "source": [
    "boot.mean()"
   ]
  },
  {
   "cell_type": "code",
   "execution_count": 28,
   "metadata": {
    "collapsed": false
   },
   "outputs": [
    {
     "data": {
      "text/plain": [
       "(1000, 0.116)"
      ]
     },
     "execution_count": 28,
     "metadata": {},
     "output_type": "execute_result"
    }
   ],
   "source": [
    "len(boot),boot.min()"
   ]
  },
  {
   "cell_type": "markdown",
   "metadata": {},
   "source": [
    "Across the distribution of simulated Saami$'$s, the real Saami is an outlier: only 0.01% of the sample have an average conditional entropy as low or lower than that of real Saami:"
   ]
  },
  {
   "cell_type": "code",
   "execution_count": 29,
   "metadata": {
    "collapsed": false
   },
   "outputs": [
    {
     "data": {
      "text/plain": [
       "0.001"
      ]
     },
     "execution_count": 29,
     "metadata": {},
     "output_type": "execute_result"
    }
   ],
   "source": [
    "sum(boot <= boot[0]) / 1000."
   ]
  },
  {
   "cell_type": "code",
   "execution_count": 30,
   "metadata": {
    "collapsed": false
   },
   "outputs": [],
   "source": [
    "%matplotlib inline\n",
    "\n",
    "import matplotlib.pyplot as plt\n",
    "\n",
    "plt.style.use('seaborn-white')\n",
    "plt.rcParams['figure.figsize']= '8, 6'"
   ]
  },
  {
   "cell_type": "code",
   "execution_count": 31,
   "metadata": {
    "collapsed": false
   },
   "outputs": [
    {
     "data": {
      "image/png": "[encoded data removed]",
      "text/plain": [
       "<matplotlib.figure.Figure at 0x7fc56da785d0>"
      ]
     },
     "metadata": {},
     "output_type": "display_data"
    }
   ],
   "source": [
    "plot = boot.hist(bins=40)"
   ]
  },
  {
   "cell_type": "code",
   "execution_count": null,
   "metadata": {
    "collapsed": true
   },
   "outputs": [],
   "source": []
  }
 ],
 "metadata": {
  "kernelspec": {
   "display_name": "Python 2",
   "language": "python",
   "name": "python2"
  },
  "language_info": {
   "codemirror_mode": {
    "name": "ipython",
    "version": 2
   },
   "file_extension": ".py",
   "mimetype": "text/x-python",
   "name": "python",
   "nbconvert_exporter": "python",
   "pygments_lexer": "ipython2",
   "version": "2.7.10"
  }
 },
 "nbformat": 4,
 "nbformat_minor": 0
}
