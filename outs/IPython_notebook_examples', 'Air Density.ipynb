{
 "cells": [
  {
   "cell_type": "markdown",
   "metadata": {},
   "source": [
    "<h2>Calculate air density from temperature, pressure, and relative humidity</h2>\n",
    "http://wahiduddin.net/calc/density_altitude.htm"
   ]
  },
  {
   "cell_type": "code",
   "execution_count": 3,
   "metadata": {
    "collapsed": false
   },
   "outputs": [
    {
     "name": "stdout",
     "output_type": "stream",
     "text": [
      "23.37237478\n",
      "9.34894991199\n",
      "Basement w/ dehumidifier:  1.21653311461  kg/m3\n",
      "Upstairs when muggy: 1.17591114528  kg/m3\n",
      "Dry air is denser than moist air!\n"
     ]
    }
   ],
   "source": [
    "def pvs(T):\n",
    "    # Calculate saturation water vapor pressure (hPa==millibar)\n",
    "    # T = air temperature at dewpoint (degrees Celsius)\n",
    "    # (per Herman Wobus according to several web sources)\n",
    "    eso = 6.1078\n",
    "    c0 = 0.99999683\n",
    "    c1 = -0.90826951e-2\n",
    "    c2 = 0.78736169e-4\n",
    "    c3 = -0.61117958e-6\n",
    "    c4 = 0.43884187e-8\n",
    "    c5 = -0.29883885e-10\n",
    "    c6 = 0.21874425e-12\n",
    "    c7 = -0.17892321e-14\n",
    "    c8 = 0.11112018e-16\n",
    "    c9 = -0.30994571e-19\n",
    "    p = c0 +T*(c1+T*(c2+T*(c3+T*(c4+T*(c5+T*(c6+T*(c7+T*(c8+T*(c9)))))))))\n",
    "    return eso/(p**8)\n",
    "def pv(T,p,RH):\n",
    "    # Actual water vapor pressure for T (deg C), p (millibars) at relative humidity RH (%)\n",
    "    return pvs(T)*(RH/100.)\n",
    "def rho(T,p,RH):\n",
    "    # Air density at temperature T (deg C), pressure p (millibars), and relative humidty RH (%)\n",
    "    return (p*100.)/ (287.05*(T+273.15)) *(1.-(0.378*pv(T,p,RH))/(p*100.))\n",
    "T = 20.\n",
    "p = 1013.25\n",
    "RH = 40.\n",
    "print pvs(T)\n",
    "print pv(T,p,RH)\n",
    "print \"Basement w/ dehumidifier: \",rho(17,p,40.),\" kg/m3\"\n",
    "print \"Upstairs when muggy:\",rho(27.,p,80.),\" kg/m3\"\n",
    "print \"Dry air is denser than moist air!\""
   ]
  }
 ],
 "metadata": {
  "kernelspec": {
   "display_name": "Python 2",
   "language": "python",
   "name": "python2"
  },
  "language_info": {
   "codemirror_mode": {
    "name": "ipython",
    "version": 2
   },
   "file_extension": ".py",
   "mimetype": "text/x-python",
   "name": "python",
   "nbconvert_exporter": "python",
   "pygments_lexer": "ipython2",
   "version": "2.7.10"
  }
 },
 "nbformat": 4,
 "nbformat_minor": 0
}
