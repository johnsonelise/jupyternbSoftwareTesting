{
 "cells": [
  {
   "cell_type": "markdown",
   "metadata": {
    "slideshow": {
     "slide_type": "slide"
    }
   },
   "source": [
    "# Python for testers -    \n",
    "# Patterns"
   ]
  },
  {
   "cell_type": "markdown",
   "metadata": {
    "slideshow": {
     "slide_type": "slide"
    }
   },
   "source": [
    "# Shell patterns"
   ]
  },
  {
   "cell_type": "markdown",
   "metadata": {
    "slideshow": {
     "slide_type": "subslide"
    }
   },
   "source": [
    "## Shell pattern matching"
   ]
  },
  {
   "cell_type": "markdown",
   "metadata": {},
   "source": [
    "* Can use place holders:\n",
    "  * `'*'` = any or none characters\n",
    "  * `'?'` = exactly 1 character\n",
    "  * `'[amz]'` = 'a', 'm' or 'z'\n",
    "  * `'[a-z]'` = any single character between 'a' and 'z' (inclusive)\n",
    "* module `fnmatch` to match specific strings\n",
    "* module `glob` to match filenames in a folder"
   ]
  },
  {
   "cell_type": "markdown",
   "metadata": {
    "slideshow": {
     "slide_type": "subslide"
    }
   },
   "source": [
    "## Shell pattern examples"
   ]
  },
  {
   "cell_type": "code",
   "execution_count": 1,
   "metadata": {
    "collapsed": false
   },
   "outputs": [
    {
     "data": {
      "text/plain": [
       "True"
      ]
     },
     "execution_count": 1,
     "metadata": {},
     "output_type": "execute_result"
    }
   ],
   "source": [
    "from fnmatch import fnmatch\n",
    "fnmatch('some.sh', '*.sh')    # * = any or none characters"
   ]
  },
  {
   "cell_type": "code",
   "execution_count": 2,
   "metadata": {
    "collapsed": false
   },
   "outputs": [
    {
     "data": {
      "text/plain": [
       "True"
      ]
     },
     "execution_count": 2,
     "metadata": {},
     "output_type": "execute_result"
    }
   ],
   "source": [
    "fnmatch('data123.csv', 'data???.csv')  # ? = exactly 1 character"
   ]
  },
  {
   "cell_type": "code",
   "execution_count": 3,
   "metadata": {
    "collapsed": false
   },
   "outputs": [
    {
     "data": {
      "text/plain": [
       "True"
      ]
     },
     "execution_count": 3,
     "metadata": {},
     "output_type": "execute_result"
    }
   ],
   "source": [
    "fnmatch('data123.csv', 'data[0-9][0-9][0-9].csv')  # [0-9] = 1 digit"
   ]
  },
  {
   "cell_type": "code",
   "execution_count": 4,
   "metadata": {
    "collapsed": false
   },
   "outputs": [
    {
     "data": {
      "text/plain": [
       "False"
      ]
     },
     "execution_count": 4,
     "metadata": {},
     "output_type": "execute_result"
    }
   ],
   "source": [
    "fnmatch('data12345.csv', 'data[0-9][0-9][0-9].csv')  # no match"
   ]
  },
  {
   "cell_type": "markdown",
   "metadata": {
    "slideshow": {
     "slide_type": "subslide"
    }
   },
   "source": [
    "## Shell pattern case sensitivity"
   ]
  },
  {
   "cell_type": "markdown",
   "metadata": {},
   "source": [
    "Case sensitivity depends on platform"
   ]
  },
  {
   "cell_type": "code",
   "execution_count": 5,
   "metadata": {
    "collapsed": false
   },
   "outputs": [
    {
     "data": {
      "text/plain": [
       "False"
      ]
     },
     "execution_count": 5,
     "metadata": {},
     "output_type": "execute_result"
    }
   ],
   "source": [
    "fnmatch('SOME.SH', '*.sh')  # False under Linux, True under Windows"
   ]
  },
  {
   "cell_type": "markdown",
   "metadata": {},
   "source": [
    "For platform independent, case insensitive matches, use a lower case pattern and convert the search string to lower case:"
   ]
  },
  {
   "cell_type": "code",
   "execution_count": 6,
   "metadata": {
    "collapsed": false
   },
   "outputs": [
    {
     "data": {
      "text/plain": [
       "True"
      ]
     },
     "execution_count": 6,
     "metadata": {},
     "output_type": "execute_result"
    }
   ],
   "source": [
    "fnmatch('SOME.SH'.lower(), '*.sh')  # True both under Linux and Windows"
   ]
  },
  {
   "cell_type": "markdown",
   "metadata": {
    "slideshow": {
     "slide_type": "slide"
    }
   },
   "source": [
    "# Regular expressions"
   ]
  },
  {
   "cell_type": "markdown",
   "metadata": {
    "slideshow": {
     "slide_type": "subslide"
    }
   },
   "source": [
    "> Some people, when confronted with a problem,\n",
    "\n",
    "> think \"I know, I'll use regular expressions.\"\n",
    "\n",
    "> Now they have two problems.\n",
    "\n",
    "Jamie Zawinski"
   ]
  },
  {
   "cell_type": "markdown",
   "metadata": {
    "slideshow": {
     "slide_type": "subslide"
    }
   },
   "source": [
    "## About regular expressions"
   ]
  },
  {
   "cell_type": "markdown",
   "metadata": {},
   "source": [
    "* The [re](https://docs.python.org/3/library/re.html) module support regular expressions.\n",
    "* Useful for simple parsing and pattern matching.\n",
    "* Difficult to understand and maintain.\n"
   ]
  },
  {
   "cell_type": "markdown",
   "metadata": {
    "slideshow": {
     "slide_type": "subslide"
    }
   },
   "source": [
    "## Pattern matching"
   ]
  },
  {
   "cell_type": "code",
   "execution_count": 7,
   "metadata": {
    "collapsed": false
   },
   "outputs": [
    {
     "name": "stdout",
     "output_type": "stream",
     "text": [
      "it's a shell script!\n"
     ]
    }
   ],
   "source": [
    "import re\n",
    "if re.match(r'.*\\.sh', 'some.sh'):\n",
    "    # similar to fnmatch.fnmatch('some.sh', '*.sh')\n",
    "    print(\"it's a shell script!\")"
   ]
  },
  {
   "cell_type": "code",
   "execution_count": 8,
   "metadata": {
    "collapsed": false
   },
   "outputs": [
    {
     "name": "stdout",
     "output_type": "stream",
     "text": [
      "None\n"
     ]
    }
   ],
   "source": [
    "print(re.match(r'.*\\.sh', 'data.xml'))  # no match"
   ]
  },
  {
   "cell_type": "markdown",
   "metadata": {
    "slideshow": {
     "slide_type": "subslide"
    }
   },
   "source": [
    "## Compiled regular expressions"
   ]
  },
  {
   "cell_type": "code",
   "execution_count": 9,
   "metadata": {
    "collapsed": false
   },
   "outputs": [
    {
     "name": "stdout",
     "output_type": "stream",
     "text": [
      "it's a shell script\n"
     ]
    }
   ],
   "source": [
    "sh_regex = re.compile(r'.*\\.sh')\n",
    "if sh_regex.match('some.sh'):  # faster than re.match()\n",
    "    print(\"it's a shell script\")"
   ]
  },
  {
   "cell_type": "markdown",
   "metadata": {},
   "source": [
    "* Compile once, match often\n",
    "* Faster when matching in loops\n",
    "* Easier to read because regex gets a variable name"
   ]
  },
  {
   "cell_type": "markdown",
   "metadata": {
    "slideshow": {
     "slide_type": "subslide"
    }
   },
   "source": [
    "## Place holders (excerpt)\n",
    "\n",
    "* `.` = any single character\n",
    "* `.+` = at least one character\n",
    "* `.*` = any number of characters, including none\n",
    "* `\\.` = a single dot (literally)\n",
    "* `^` = start of line\n",
    "* `$` = end of line\n",
    "* `\\s` = white space\n",
    "* `[a-z]` = any lower case letter\n",
    "* `[^a-z]` = anything but a lower case letter\n",
    "* `(abc|xy)` = 'abc' or 'xy'\n",
    "* more: https://docs.python.org/3/library/re.html#regular-expression-syntax"
   ]
  },
  {
   "cell_type": "markdown",
   "metadata": {
    "slideshow": {
     "slide_type": "slide"
    }
   },
   "source": [
    "# Regular expression examples"
   ]
  },
  {
   "cell_type": "markdown",
   "metadata": {
    "slideshow": {
     "slide_type": "subslide"
    }
   },
   "source": [
    "## Example matches"
   ]
  },
  {
   "cell_type": "markdown",
   "metadata": {},
   "source": [
    "The match function checks if the pattern is anywhere is in string:"
   ]
  },
  {
   "cell_type": "code",
   "execution_count": 10,
   "metadata": {
    "collapsed": false
   },
   "outputs": [
    {
     "data": {
      "text/plain": [
       "True"
      ]
     },
     "execution_count": 10,
     "metadata": {},
     "output_type": "execute_result"
    }
   ],
   "source": [
    "bool(re.match(r'.', 'some.sh'))"
   ]
  },
  {
   "cell_type": "markdown",
   "metadata": {},
   "source": [
    "Use `^` and `$` to specifically match patterns relative to the start and/or end of the string:"
   ]
  },
  {
   "cell_type": "code",
   "execution_count": 11,
   "metadata": {
    "collapsed": false
   },
   "outputs": [
    {
     "data": {
      "text/plain": [
       "False"
      ]
     },
     "execution_count": 11,
     "metadata": {},
     "output_type": "execute_result"
    }
   ],
   "source": [
    "bool(re.match(r'^.$', 'some.sh'))"
   ]
  },
  {
   "cell_type": "markdown",
   "metadata": {
    "slideshow": {
     "slide_type": "subslide"
    }
   },
   "source": [
    "## Example matches (continued)"
   ]
  },
  {
   "cell_type": "markdown",
   "metadata": {},
   "source": [
    "To match a certain number of characters, one might be tempted to use a corresponding number of dots:"
   ]
  },
  {
   "cell_type": "code",
   "execution_count": 12,
   "metadata": {
    "collapsed": false
   },
   "outputs": [
    {
     "data": {
      "text/plain": [
       "True"
      ]
     },
     "execution_count": 12,
     "metadata": {},
     "output_type": "execute_result"
    }
   ],
   "source": [
    "bool(re.match(r'^.......$', 'some.sh'))"
   ]
  },
  {
   "cell_type": "markdown",
   "metadata": {},
   "source": [
    "There's a shortcut for this: simply specify the expected number of characters in curly braches:"
   ]
  },
  {
   "cell_type": "code",
   "execution_count": 13,
   "metadata": {
    "collapsed": false
   },
   "outputs": [
    {
     "data": {
      "text/plain": [
       "True"
      ]
     },
     "execution_count": 13,
     "metadata": {},
     "output_type": "execute_result"
    }
   ],
   "source": [
    "bool(re.match(r'^.{7}$', 'some.sh'))"
   ]
  },
  {
   "cell_type": "markdown",
   "metadata": {
    "slideshow": {
     "slide_type": "subslide"
    }
   },
   "source": [
    "## Building complex regular expressions "
   ]
  },
  {
   "cell_type": "markdown",
   "metadata": {},
   "source": [
    "It can be challanging to build complex regular expression. In particular, if the supposed correct expression does not match the test data as expected. Unfortunately, non matches do not give any feedback where excatly the do not match.\n",
    "\n",
    "An efficient approach for that is to open a Python shell such as IDLE or IPython and build the regular expression bit by bit based on a specific example that is supposed to match.\n",
    "\n",
    "Example goal: we need a regular expression, that matches strings like `'My name is <name>.'` where `<name>` must start with an upper case letter, followed by one or more lower case letters. For example, in `'My name is Alice.'`, `<name>` would be Alice."
   ]
  },
  {
   "cell_type": "markdown",
   "metadata": {
    "slideshow": {
     "slide_type": "subslide"
    }
   },
   "source": [
    "## Building complex regular expressions (continued)"
   ]
  },
  {
   "cell_type": "markdown",
   "metadata": {},
   "source": [
    "First, let's build a regular expression that matches the initial parts of the string. Note that the pattern string has a `r` before the initial quote in order to keep Python from processing escape sequences:"
   ]
  },
  {
   "cell_type": "code",
   "execution_count": 14,
   "metadata": {
    "collapsed": false
   },
   "outputs": [
    {
     "data": {
      "text/plain": [
       "True"
      ]
     },
     "execution_count": 14,
     "metadata": {},
     "output_type": "execute_result"
    }
   ],
   "source": [
    "bool(re.match(r'^My name is ', 'My name is Alice.'))"
   ]
  },
  {
   "cell_type": "markdown",
   "metadata": {},
   "source": [
    "Next, check for the initial upper case leter of the name:"
   ]
  },
  {
   "cell_type": "code",
   "execution_count": 15,
   "metadata": {
    "collapsed": false
   },
   "outputs": [
    {
     "data": {
      "text/plain": [
       "True"
      ]
     },
     "execution_count": 15,
     "metadata": {},
     "output_type": "execute_result"
    }
   ],
   "source": [
    "bool(re.match(r'^My name is [A-Z]', 'My name is Alice.'))"
   ]
  },
  {
   "cell_type": "markdown",
   "metadata": {
    "slideshow": {
     "slide_type": "subslide"
    }
   },
   "source": [
    "## Building complex regular expressions (continued)"
   ]
  },
  {
   "cell_type": "markdown",
   "metadata": {},
   "source": [
    "Now we need a lower case letter:"
   ]
  },
  {
   "cell_type": "code",
   "execution_count": 16,
   "metadata": {
    "collapsed": false
   },
   "outputs": [
    {
     "data": {
      "text/plain": [
       "True"
      ]
     },
     "execution_count": 16,
     "metadata": {},
     "output_type": "execute_result"
    }
   ],
   "source": [
    "bool(re.match(r'^My name is [A-Z][a-z]', 'My name is Alice.'))"
   ]
  },
  {
   "cell_type": "markdown",
   "metadata": {},
   "source": [
    "Actually, there can be more than one lower case letter:"
   ]
  },
  {
   "cell_type": "code",
   "execution_count": 17,
   "metadata": {
    "collapsed": false
   },
   "outputs": [
    {
     "data": {
      "text/plain": [
       "True"
      ]
     },
     "execution_count": 17,
     "metadata": {},
     "output_type": "execute_result"
    }
   ],
   "source": [
    "bool(re.match(r'^My name is [A-Z][a-z]+', 'My name is Alice.'))"
   ]
  },
  {
   "cell_type": "markdown",
   "metadata": {
    "slideshow": {
     "slide_type": "subslide"
    }
   },
   "source": [
    "## Building complex regular expressions (continued)"
   ]
  },
  {
   "cell_type": "markdown",
   "metadata": {},
   "source": [
    "Next, there is a literal dot we need to escape with a backslash (`\\`):"
   ]
  },
  {
   "cell_type": "code",
   "execution_count": 18,
   "metadata": {
    "collapsed": false
   },
   "outputs": [
    {
     "data": {
      "text/plain": [
       "True"
      ]
     },
     "execution_count": 18,
     "metadata": {},
     "output_type": "execute_result"
    }
   ],
   "source": [
    "bool(re.match(r'^My name is [A-Z][a-z]+\\.', 'My name is Alice.'))"
   ]
  },
  {
   "cell_type": "markdown",
   "metadata": {},
   "source": [
    "And finally we need to specify that there may be no further characters after the dot:"
   ]
  },
  {
   "cell_type": "code",
   "execution_count": 19,
   "metadata": {
    "collapsed": false
   },
   "outputs": [
    {
     "data": {
      "text/plain": [
       "True"
      ]
     },
     "execution_count": 19,
     "metadata": {},
     "output_type": "execute_result"
    }
   ],
   "source": [
    "bool(re.match(r'^My name is [A-Z][a-z]+\\.', 'My name is Alice.$'))"
   ]
  },
  {
   "cell_type": "markdown",
   "metadata": {
    "slideshow": {
     "slide_type": "subslide"
    }
   },
   "source": [
    "# Extracting data"
   ]
  },
  {
   "cell_type": "markdown",
   "metadata": {
    "slideshow": {
     "slide_type": "subslide"
    }
   },
   "source": [
    "## Extracting parts from a string"
   ]
  },
  {
   "cell_type": "markdown",
   "metadata": {},
   "source": [
    "As example, consider sentences that look like\n",
    "\n",
    "  `'My <item> is <value>.'`\n",
    "\n",
    "For example:\n",
    "* 'My name is Alice.' --> 'name', 'Alice'\n",
    "* 'My favorite color is yellow.' --> 'favorite color', 'yellow'"
   ]
  },
  {
   "cell_type": "markdown",
   "metadata": {
    "slideshow": {
     "slide_type": "subslide"
    }
   },
   "source": [
    "## Extracting parts from a string (continued)"
   ]
  },
  {
   "cell_type": "markdown",
   "metadata": {},
   "source": [
    "Use the `(?P<groupname>pattern)` notation to extract a text matching `pattern` to a group named `groupname`:"
   ]
  },
  {
   "cell_type": "code",
   "execution_count": 20,
   "metadata": {
    "collapsed": true
   },
   "outputs": [],
   "source": [
    "item_value_regex = re.compile(r'My (?P<item>.+) is (?P<value>.+)\\.')\n",
    "\n",
    "item_value_match = item_value_regex.match('My name is Alice.')"
   ]
  },
  {
   "cell_type": "markdown",
   "metadata": {},
   "source": [
    "Once you found a match, you can access the groups in it using the `group()` function:"
   ]
  },
  {
   "cell_type": "code",
   "execution_count": 21,
   "metadata": {
    "collapsed": false
   },
   "outputs": [
    {
     "data": {
      "text/plain": [
       "'name'"
      ]
     },
     "execution_count": 21,
     "metadata": {},
     "output_type": "execute_result"
    }
   ],
   "source": [
    "item_value_match.group('item')"
   ]
  },
  {
   "cell_type": "code",
   "execution_count": 22,
   "metadata": {
    "collapsed": false
   },
   "outputs": [
    {
     "data": {
      "text/plain": [
       "'Alice'"
      ]
     },
     "execution_count": 22,
     "metadata": {},
     "output_type": "execute_result"
    }
   ],
   "source": [
    "item_value_match.group('value')"
   ]
  },
  {
   "cell_type": "markdown",
   "metadata": {
    "slideshow": {
     "slide_type": "subslide"
    }
   },
   "source": [
    "## Pygments lexers"
   ]
  },
  {
   "cell_type": "markdown",
   "metadata": {},
   "source": [
    "* Lexers read a structured text (e.g. source code) convert it to a stream of token (e.g. keyword, number, string, comment etc).\n",
    "* The [pygments](http://pygments.org/) library provides many lexers for programming languages and configuration file formats.\n",
    "* It also has a general [RegexLexer](http://pygments.org/docs/lexerdevelopment/#regexlexer) that provides a sound base to develop you own lexers quickly.\n",
    "* Particular useful for domain specific languages (DSL)."
   ]
  },
  {
   "cell_type": "markdown",
   "metadata": {
    "slideshow": {
     "slide_type": "subslide"
    }
   },
   "source": [
    "## SQL lexer example"
   ]
  },
  {
   "cell_type": "code",
   "execution_count": 23,
   "metadata": {
    "collapsed": false
   },
   "outputs": [
    {
     "name": "stdout",
     "output_type": "stream",
     "text": [
      "Token.Keyword               - select\n",
      "Token.Text                  -  \n",
      "Token.Operator              - *\n",
      "Token.Text                  -  \n",
      "Token.Keyword               - from\n",
      "Token.Text                  -  \n",
      "Token.Name                  - customer\n",
      "Token.Text                  -  \n",
      "Token.Keyword               - where\n",
      "Token.Text                  -  \n",
      "Token.Name                  - date_of_birth\n",
      "Token.Text                  -  \n",
      "Token.Operator              - >\n",
      "Token.Operator              - =\n",
      "Token.Text                  -  \n",
      "Token.Literal.String.Single - '1980-01-01'\n",
      "Token.Text                  - \n",
      "\n"
     ]
    }
   ],
   "source": [
    "from pygments import lexers\n",
    "\n",
    "sql_code = \"select * from customer where date_of_birth >= '1980-01-01'\"\n",
    "sql_lexer = lexers.get_lexer_by_name('sql')\n",
    "for token_type, token_value in sql_lexer.get_tokens(sql_code):\n",
    "    print('%-27s - %s' % (token_type, token_value))"
   ]
  },
  {
   "cell_type": "markdown",
   "metadata": {
    "slideshow": {
     "slide_type": "subslide"
    }
   },
   "source": [
    "# Regex lexer for C++ comments"
   ]
  },
  {
   "cell_type": "code",
   "execution_count": 24,
   "metadata": {
    "collapsed": true
   },
   "outputs": [],
   "source": [
    "from pygments.lexer import RegexLexer\n",
    "from pygments.token import *\n",
    "\n",
    "class CppCommentLexer(RegexLexer):\n",
    "    name = 'Example Lexer with states'\n",
    "\n",
    "    tokens = {\n",
    "        'root': [\n",
    "            (r'[^/]+', Text),\n",
    "            (r'/\\*', Comment.Multiline, 'comment'),\n",
    "            (r'//.*?$', Comment.Singleline),\n",
    "            (r'/', Text)\n",
    "        ],\n",
    "        'comment': [\n",
    "            (r'[^*/]', Comment.Multiline),\n",
    "            (r'/\\*', Comment.Multiline, '#push'),\n",
    "            (r'\\*/', Comment.Multiline, '#pop'),\n",
    "            (r'[*/]', Comment.Multiline)\n",
    "        ]\n",
    "    }"
   ]
  },
  {
   "cell_type": "markdown",
   "metadata": {},
   "source": [
    "Source: http://pygments.org/docs/lexerdevelopment/"
   ]
  },
  {
   "cell_type": "markdown",
   "metadata": {
    "slideshow": {
     "slide_type": "slide"
    }
   },
   "source": [
    "# Summary"
   ]
  },
  {
   "cell_type": "markdown",
   "metadata": {},
   "source": [
    "* Use `fnmatch` and `glob` for simple patterns.\n",
    "* Use regular expressions for more powerful patterns.\n",
    "* Use regular expressions to extract parts from a string.\n",
    "* Use lexers for to extract parts of complex structured text, e.g. domain specific languages."
   ]
  }
 ],
 "metadata": {
  "celltoolbar": "Slideshow",
  "kernelspec": {
   "display_name": "Python 3",
   "language": "python",
   "name": "python3"
  },
  "language_info": {
   "codemirror_mode": {
    "name": "ipython",
    "version": 3
   },
   "file_extension": ".py",
   "mimetype": "text/x-python",
   "name": "python",
   "nbconvert_exporter": "python",
   "pygments_lexer": "ipython3",
   "version": "3.5.1"
  }
 },
 "nbformat": 4,
 "nbformat_minor": 0
}
