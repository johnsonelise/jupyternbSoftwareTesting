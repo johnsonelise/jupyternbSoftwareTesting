{
 "cells": [
  {
   "cell_type": "markdown",
   "metadata": {
    "slideshow": {
     "slide_type": "slide"
    }
   },
   "source": [
    "# Logging "
   ]
  },
  {
   "cell_type": "markdown",
   "metadata": {
    "slideshow": {
     "slide_type": "slide"
    }
   },
   "source": [
    "# Why logging?"
   ]
  },
  {
   "cell_type": "markdown",
   "metadata": {
    "slideshow": {
     "slide_type": "fragment"
    }
   },
   "source": [
    "* Debugging \"after the fact\".\n",
    "* Provides a trace of event that lead to a certain cituation.\n",
    "* Logs can be archived and compared.\n",
    "* Logs can be monitord during production.\n",
    "* Plenty of information with minimal effort (level, timestamp)."
   ]
  },
  {
   "cell_type": "markdown",
   "metadata": {
    "slideshow": {
     "slide_type": "slide"
    }
   },
   "source": [
    "# Console logging"
   ]
  },
  {
   "cell_type": "code",
   "execution_count": 1,
   "metadata": {
    "collapsed": false
   },
   "outputs": [],
   "source": [
    "# %load examples/logconsole.py\n",
    "import logging\n",
    "\n",
    "logging.basicConfig(level=logging.INFO)\n",
    "\n",
    "log = logging.getLogger('myapp')\n",
    "log.info('Hello world')\n",
    "\n",
    "name = 'Alice'\n",
    "size = 172\n",
    "log.info('%s is %dcm tall', name, size)"
   ]
  },
  {
   "cell_type": "markdown",
   "metadata": {},
   "source": [
    "Output:\n",
    "```\n",
    "INFO:myapp:Hello world\n",
    "INFO:myapp:Alice is 172cm tall\n",
    "```"
   ]
  },
  {
   "cell_type": "markdown",
   "metadata": {
    "slideshow": {
     "slide_type": "subslide"
    }
   },
   "source": [
    "## Logging level"
   ]
  },
  {
   "cell_type": "markdown",
   "metadata": {},
   "source": [
    "* INFO = normal information about what the program is doing / has done; should use terms known to the end user\n",
    "* DEBUG = additional information that might only be useful to the developer; can refer to internal variable names etc.\n",
    "* ERROR = details about a step that could not be performed\n",
    "* CRITICAL = details about critical errors; this is mostly useful for services, where ERROR can be recovered from and CRITICAL causes the service to shut down\n",
    "* WARNING: information about error that could be corrected, e.g. by provididing a default"
   ]
  },
  {
   "cell_type": "markdown",
   "metadata": {
    "slideshow": {
     "slide_type": "subslide"
    }
   },
   "source": [
    "## Logging messages"
   ]
  },
  {
   "cell_type": "markdown",
   "metadata": {},
   "source": [
    "* Loggers have methods to log messages for each level: `Logger.info()`, `Logger.error()` etc.\n",
    "* `Logger.exception()` is similar to `Logger.error()` but also shows the stack trace.\n",
    "* Messages can be a string or a format pattern with variables to log separated by a comma.\n",
    "* Message formats only support classic placeholders like `%s` and `%d`, but not the newer `%(name)s` or `{0}` formats."
   ]
  },
  {
   "cell_type": "markdown",
   "metadata": {
    "slideshow": {
     "slide_type": "subslide"
    }
   },
   "source": [
    "## Logging messages (continued)"
   ]
  },
  {
   "cell_type": "markdown",
   "metadata": {},
   "source": [
    "Compute the sum of numers stored in a text file:"
   ]
  },
  {
   "cell_type": "code",
   "execution_count": 2,
   "metadata": {
    "collapsed": false
   },
   "outputs": [
    {
     "ename": "NameError",
     "evalue": "name 'os' is not defined",
     "output_type": "error",
     "traceback": [
      "\u001b[1;31m---------------------------------------------------------------------------\u001b[0m",
      "\u001b[1;31mNameError\u001b[0m                                 Traceback (most recent call last)",
      "\u001b[1;32m<ipython-input-2-732587c4eab6>\u001b[0m in \u001b[0;36m<module>\u001b[1;34m()\u001b[0m\n\u001b[0;32m      1\u001b[0m \u001b[0mlog\u001b[0m \u001b[1;33m=\u001b[0m \u001b[0mlogging\u001b[0m\u001b[1;33m.\u001b[0m\u001b[0mgetLogger\u001b[0m\u001b[1;33m(\u001b[0m\u001b[1;34m'numbers'\u001b[0m\u001b[1;33m)\u001b[0m\u001b[1;33m\u001b[0m\u001b[0m\n\u001b[0;32m      2\u001b[0m \u001b[0mresult\u001b[0m \u001b[1;33m=\u001b[0m \u001b[1;36m0\u001b[0m\u001b[1;33m\u001b[0m\u001b[0m\n\u001b[1;32m----> 3\u001b[1;33m \u001b[0mnumbers_path\u001b[0m \u001b[1;33m=\u001b[0m \u001b[0mos\u001b[0m\u001b[1;33m.\u001b[0m\u001b[0mpath\u001b[0m\u001b[1;33m.\u001b[0m\u001b[0mjoin\u001b[0m\u001b[1;33m(\u001b[0m\u001b[1;34m'examples'\u001b[0m\u001b[1;33m,\u001b[0m \u001b[1;34m'numbers.txt'\u001b[0m\u001b[1;33m)\u001b[0m\u001b[1;33m\u001b[0m\u001b[0m\n\u001b[0m\u001b[0;32m      4\u001b[0m \u001b[0mlog\u001b[0m\u001b[1;33m.\u001b[0m\u001b[0minfo\u001b[0m\u001b[1;33m(\u001b[0m\u001b[1;34m'read numbers from %s'\u001b[0m\u001b[1;33m,\u001b[0m \u001b[0mnumbers_path\u001b[0m\u001b[1;33m)\u001b[0m\u001b[1;33m\u001b[0m\u001b[0m\n\u001b[0;32m      5\u001b[0m \u001b[0mline_number\u001b[0m \u001b[1;33m=\u001b[0m \u001b[1;36m0\u001b[0m\u001b[1;33m\u001b[0m\u001b[0m\n",
      "\u001b[1;31mNameError\u001b[0m: name 'os' is not defined"
     ]
    }
   ],
   "source": [
    "log = logging.getLogger('numbers')\n",
    "result = 0\n",
    "numbers_path = os.path.join('examples', 'numbers.txt')\n",
    "log.info('read numbers from %s', numbers_path)\n",
    "line_number = 0\n",
    "try:\n",
    "    with open(numbers_path, 'r', encoding='utf-8') as numbers_file:\n",
    "        for line_number, line in enumerate(numbers_file, 1):\n",
    "            number_text = line.rstrip('\\n\\r')\n",
    "            if number_text != '':\n",
    "                log.debug('  %d: %s', line_number, number_text)\n",
    "                result += int(number_text)\n",
    "    log.info('sum = %d', result)\n",
    "except FileNotFoundError:\n",
    "    log.warning('cannot find numbers file %s, using default %d', result)\n",
    "except OSError as error:\n",
    "    log.error(error)\n",
    "except TypeError as error:\n",
    "    log.error(\n",
    "        '%s:%d: line must be a number but is: %s',\n",
    "        config_path, line_number, number_text)\n",
    "except Exception as error:\n",
    "    log.exception(error)  # show stack trace for unexpected errors"
   ]
  },
  {
   "cell_type": "markdown",
   "metadata": {
    "slideshow": {
     "slide_type": "subslide"
    }
   },
   "source": [
    "## Logging performance"
   ]
  },
  {
   "cell_type": "markdown",
   "metadata": {},
   "source": [
    "What is the difference between"
   ]
  },
  {
   "cell_type": "code",
   "execution_count": null,
   "metadata": {
    "collapsed": true
   },
   "outputs": [],
   "source": [
    "log.info('reading config from %s', config_path)"
   ]
  },
  {
   "cell_type": "markdown",
   "metadata": {},
   "source": [
    "and"
   ]
  },
  {
   "cell_type": "code",
   "execution_count": null,
   "metadata": {
    "collapsed": true
   },
   "outputs": [],
   "source": [
    "log.info('reading config from %s' % config_path)"
   ]
  },
  {
   "cell_type": "markdown",
   "metadata": {
    "slideshow": {
     "slide_type": "fragment"
    }
   },
   "source": [
    "Anwer: the latter must resolve the formatted string even if the messages does not need to be logged. This can reduce performace, especially when using `Logger.debug()`."
   ]
  },
  {
   "cell_type": "markdown",
   "metadata": {
    "slideshow": {
     "slide_type": "subslide"
    }
   },
   "source": [
    "## Logging handlers"
   ]
  },
  {
   "cell_type": "markdown",
   "metadata": {},
   "source": [
    "* The [logging.handlers](https://docs.python.org/3/library/logging.handlers.html#module-logging.handlers) package provides many useful standard handlers, for example:\n",
    "  * `FileHandler` - logs to a file\n",
    "  * `RotatingFileHandler` - logs multiple sessions to a file; large files are rotated\n",
    "  * `SocketHandler` - logs to a network socket\n",
    "  * `HTTPHandler` - sends log messages to a HTTP server using `GET` or `POST`\n",
    "* You can also implement your own handlers.\n",
    "* Messages can be logged to multiple handlers at the same time."
   ]
  },
  {
   "cell_type": "markdown",
   "metadata": {
    "slideshow": {
     "slide_type": "subslide"
    }
   },
   "source": [
    "## Log message formatters"
   ]
  },
  {
   "cell_type": "markdown",
   "metadata": {},
   "source": [
    "Formatters specify, what additional information is logged with the actual message. Among others, this can include:\n",
    "* A timestamp: `%(asctime)s` \n",
    "* The log level: `%(levelname)s`\n",
    "* The name of the logger: `%(name)s`\n",
    "* The actual message: `%(message)s`"
   ]
  },
  {
   "cell_type": "markdown",
   "metadata": {
    "slideshow": {
     "slide_type": "slide"
    }
   },
   "source": [
    "# Logging configuration"
   ]
  },
  {
   "cell_type": "markdown",
   "metadata": {},
   "source": [
    "Logging can be configured using several ways, for example:\n",
    "* `logging.basicConfig()`, which simply logs to the console (`stderr`); very useful for little command line tools\n",
    "* Programatically using `addHandler()` etc.\n",
    "* Using dictionaries and `logging.config.dictConfig()`.\n",
    "* Using configuration files and `logging.config.fileConfig()`."
   ]
  },
  {
   "cell_type": "markdown",
   "metadata": {
    "slideshow": {
     "slide_type": "subslide"
    }
   },
   "source": [
    "## Logging configuration files"
   ]
  },
  {
   "cell_type": "markdown",
   "metadata": {},
   "source": [
    "* Simple config files that can be parser using `configparser.ConfigParser`\n",
    "* Sections to include: `[logging]`, `[handlers]`, `[formatters]`\n",
    "* Separates code and logging configuration\n",
    "* Can be changed by non developers (e.g. operations)\n",
    "* No need to rebuild and redeploy the package"
   ]
  },
  {
   "cell_type": "markdown",
   "metadata": {
    "slideshow": {
     "slide_type": "subslide"
    }
   },
   "source": [
    "## Example logging configuration (1/3)"
   ]
  },
  {
   "cell_type": "markdown",
   "metadata": {},
   "source": [
    "```ini\n",
    "# Logging\n",
    "[loggers]\n",
    "keys=root, myapp\n",
    "\n",
    "[handlers]\n",
    "keys=console, file\n",
    "\n",
    "[formatters]\n",
    "keys=standard\n",
    "\n",
    "[logger_root]\n",
    "level=NOTSET\n",
    "handlers=\n",
    "\n",
    "[logger_myapp]\n",
    "level=DEBUG\n",
    "handlers=console, file\n",
    "propagate=1\n",
    "qualname=myapp\n",
    "```"
   ]
  },
  {
   "cell_type": "markdown",
   "metadata": {
    "slideshow": {
     "slide_type": "subslide"
    }
   },
   "source": [
    "## Example logging configuration (2/3)"
   ]
  },
  {
   "cell_type": "markdown",
   "metadata": {},
   "source": [
    "```ini\n",
    "[handler_console]\n",
    "class=StreamHandler\n",
    "level=INFO\n",
    "formatter=standard\n",
    "args=(sys.stdout,)\n",
    "\n",
    "[handler_file]\n",
    "class=FileHandler\n",
    "level=DEBUG\n",
    "formatter=standard\n",
    "args=(r'/tmp/myapp.log', 'w')\n",
    "\n",
    "[formatter_standard]\n",
    "format=%(asctime)s %(levelname)s %(message)s\n",
    "datefmt=\n",
    "class=logging.Formatter\n",
    "```"
   ]
  },
  {
   "cell_type": "markdown",
   "metadata": {
    "slideshow": {
     "slide_type": "subslide"
    }
   },
   "source": [
    "## Example logging configuration (3/3)"
   ]
  },
  {
   "cell_type": "markdown",
   "metadata": {},
   "source": [
    "* Logger `myapp` is qualified and works for e.g. `myapp`, `myapp.some`, `myapp.other` etc.\n",
    "* Logger `root` handles everything else and just does nothing.\n",
    "* Handler `console` logs to `stderr`, but only level `INFO` or higher.\n",
    "* Handler `file` logs to a log file starting with level `DEBUG`.\n",
    "* Both handlers use a formatter `standard` that includes a timestamp."
   ]
  },
  {
   "cell_type": "markdown",
   "metadata": {
    "slideshow": {
     "slide_type": "subslide"
    }
   },
   "source": [
    "## Example application"
   ]
  },
  {
   "cell_type": "code",
   "execution_count": 3,
   "metadata": {
    "collapsed": false
   },
   "outputs": [
    {
     "name": "stdout",
     "output_type": "stream",
     "text": [
      "2016-03-10 17:42:48,491 INFO is_fullscreen=True\n",
      "2016-03-10 17:42:48,492 INFO timeout=10\n"
     ]
    }
   ],
   "source": [
    "# %load examples/myapp.py\n",
    "# Simple example application reading a config.\n",
    "import configparser\n",
    "import logging\n",
    "import logging.config\n",
    "import logging.handlers\n",
    "import os.path\n",
    "\n",
    "log = logging.getLogger('myapp')\n",
    "\n",
    "\n",
    "class MyApp(object):\n",
    "    def __init__(self, config_path):\n",
    "        # Setup config with defaults.\n",
    "        config = configparser.ConfigParser()\n",
    "        config['myapp'] = {}\n",
    "        config['myapp']['fullscreen'] = 'false'\n",
    "        config['myapp']['timeout'] = '60'\n",
    "\n",
    "        # Update config from file.\n",
    "        with open(config_path, 'r', encoding='utf-8') as config_file:\n",
    "            config.read_file(config_file)\n",
    "\n",
    "        self.connection = config.get('myapp', 'connection')\n",
    "        self.is_fullscreen = config.getboolean('myapp', 'fullscreen')\n",
    "        self.timeout = config.getint('myapp', 'timeout')\n",
    "\n",
    "    def work(self):\n",
    "        log.debug('connection=%s', self.connection)\n",
    "        log.info('is_fullscreen=%s', self.is_fullscreen)\n",
    "        log.info('timeout=%d', self.timeout)\n",
    "\n",
    "\n",
    "if __name__ == '__main__':\n",
    "    config_path = os.path.join('examples', 'myapp.cfg')\n",
    "    logging.config.fileConfig(config_path)\n",
    "    myapp = MyApp(config_path)\n",
    "    myapp.work()\n"
   ]
  },
  {
   "cell_type": "markdown",
   "metadata": {
    "slideshow": {
     "slide_type": "slide"
    }
   },
   "source": [
    "# Summary"
   ]
  },
  {
   "cell_type": "markdown",
   "metadata": {},
   "source": [
    "* Logging can be helpful during error analysis to see what happened after the fact.\n",
    "* Python provides a flexible `logging` module.\n",
    "* Messages have a level (`INFO`, `ERROR`, ...)\n",
    "* Messages can be logged to one or more handler.\n",
    "* There are standard handlers to log to files and the network.\n",
    "* Logging can be configured programatically or using configuration files."
   ]
  }
 ],
 "metadata": {
  "celltoolbar": "Slideshow",
  "kernelspec": {
   "display_name": "Python 3",
   "language": "python",
   "name": "python3"
  },
  "language_info": {
   "codemirror_mode": {
    "name": "ipython",
    "version": 3
   },
   "file_extension": ".py",
   "mimetype": "text/x-python",
   "name": "python",
   "nbconvert_exporter": "python",
   "pygments_lexer": "ipython3",
   "version": "3.5.1"
  }
 },
 "nbformat": 4,
 "nbformat_minor": 0
}
