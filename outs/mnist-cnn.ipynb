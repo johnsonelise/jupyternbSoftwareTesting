{
 "cells": [
  {
   "cell_type": "code",
   "execution_count": 1,
   "metadata": {
    "collapsed": false,
    "deletable": true,
    "editable": true
   },
   "outputs": [],
   "source": [
    "import tensorflow as tf\n",
    "import numpy as np\n",
    "import matplotlib.pyplot as plt\n",
    "from mnist import MNIST"
   ]
  },
  {
   "cell_type": "code",
   "execution_count": 2,
   "metadata": {
    "collapsed": true,
    "deletable": true,
    "editable": true
   },
   "outputs": [],
   "source": [
    "mnist = MNIST('./data')\n",
    "images, labels = mnist.load_training()\n",
    "\n",
    "labels = np.array(labels)\n",
    "images = np.array(images).astype('float32') / 255\n",
    "images2d = images.reshape([-1, 28, 28])"
   ]
  },
  {
   "cell_type": "code",
   "execution_count": 3,
   "metadata": {
    "collapsed": false,
    "deletable": true,
    "editable": true
   },
   "outputs": [],
   "source": [
    "def batch(data, index, batch_size):\n",
    "    offset = batch_size * index\n",
    "    return data[offset:offset + batch_size]"
   ]
  },
  {
   "cell_type": "code",
   "execution_count": 4,
   "metadata": {
    "collapsed": false,
    "deletable": true,
    "editable": true,
    "scrolled": false
   },
   "outputs": [
    {
     "name": "stdout",
     "output_type": "stream",
     "text": [
      "5\n"
     ]
    },
    {
     "data": {
      "image/png": "[encoded data removed]",
      "text/plain": [
       "<matplotlib.figure.Figure at 0x116a43c88>"
      ]
     },
     "metadata": {},
     "output_type": "display_data"
    },
    {
     "name": "stdout",
     "output_type": "stream",
     "text": [
      "0\n"
     ]
    },
    {
     "data": {
      "image/png": "[encoded data removed]",
      "text/plain": [
       "<matplotlib.figure.Figure at 0x116ec6940>"
      ]
     },
     "metadata": {},
     "output_type": "display_data"
    },
    {
     "name": "stdout",
     "output_type": "stream",
     "text": [
      "4\n"
     ]
    },
    {
     "data": {
      "image/png": "[encoded data removed]",
      "text/plain": [
       "<matplotlib.figure.Figure at 0x117159be0>"
      ]
     },
     "metadata": {},
     "output_type": "display_data"
    },
    {
     "name": "stdout",
     "output_type": "stream",
     "text": [
      "1\n"
     ]
    },
    {
     "data": {
      "image/png": "[encoded data removed]",
      "text/plain": [
       "<matplotlib.figure.Figure at 0x117229a20>"
      ]
     },
     "metadata": {},
     "output_type": "display_data"
    },
    {
     "name": "stdout",
     "output_type": "stream",
     "text": [
      "9\n"
     ]
    },
    {
     "data": {
      "image/png": "[encoded data removed]",
      "text/plain": [
       "<matplotlib.figure.Figure at 0x1172d13c8>"
      ]
     },
     "metadata": {},
     "output_type": "display_data"
    }
   ],
   "source": [
    "for i in range(5):\n",
    "    print(labels[i])\n",
    "    plt.imshow(images2d[i])\n",
    "    plt.show()"
   ]
  },
  {
   "cell_type": "code",
   "execution_count": 5,
   "metadata": {
    "collapsed": true,
    "deletable": true,
    "editable": true
   },
   "outputs": [],
   "source": [
    "x = tf.placeholder(tf.float32, [None, 28, 28])\n",
    "z = tf.placeholder(tf.int64, [None])\n",
    "keep_prob = tf.placeholder(tf.float32)"
   ]
  },
  {
   "cell_type": "code",
   "execution_count": 6,
   "metadata": {
    "collapsed": false,
    "deletable": true,
    "editable": true
   },
   "outputs": [],
   "source": [
    "c1_k = 16\n",
    "c2_k = 32\n",
    "fc_k = 1024"
   ]
  },
  {
   "cell_type": "code",
   "execution_count": 7,
   "metadata": {
    "collapsed": false,
    "deletable": true,
    "editable": true
   },
   "outputs": [],
   "source": [
    "input = tf.reshape(x, [-1, 28, 28, 1])\n",
    "\n",
    "# Helpers\n",
    "\n",
    "def conv(x, w, b):\n",
    "    return tf.nn.conv2d(x, w, strides=[1, 1, 1, 1], padding='SAME') + b\n",
    "\n",
    "def pool(x):\n",
    "    return tf.nn.max_pool(x, ksize=[1, 2, 2, 1], strides=[1, 2, 2, 1], padding='SAME')\n",
    "\n",
    "# Convolution/Polling Layer 1\n",
    "\n",
    "c1_w = tf.Variable(tf.truncated_normal([5, 5, 1, c1_k], stddev=0.1))\n",
    "c1_b = tf.Variable(tf.truncated_normal([c1_k], stddev=0.1))\n",
    "c1_y = tf.nn.relu(conv(input, c1_w, c1_b))\n",
    "\n",
    "p1_y = pool(c1_y)\n",
    "\n",
    "# Convolution/Polling Layer 2\n",
    "\n",
    "c2_w = tf.Variable(tf.truncated_normal([5, 5, c1_k, c2_k], stddev=0.1))\n",
    "c2_b = tf.Variable(tf.truncated_normal([c2_k], stddev=0.1))\n",
    "c2_y = tf.nn.relu(conv(p1_y, c2_w, c2_b))\n",
    "\n",
    "p2_y = pool(c2_y)"
   ]
  },
  {
   "cell_type": "code",
   "execution_count": 8,
   "metadata": {
    "collapsed": false,
    "deletable": true,
    "editable": true
   },
   "outputs": [
    {
     "data": {
      "text/plain": [
       "TensorShape([Dimension(None), Dimension(14), Dimension(14), Dimension(16)])"
      ]
     },
     "execution_count": 8,
     "metadata": {},
     "output_type": "execute_result"
    }
   ],
   "source": [
    "p1_y.shape"
   ]
  },
  {
   "cell_type": "code",
   "execution_count": 9,
   "metadata": {
    "collapsed": false,
    "deletable": true,
    "editable": true
   },
   "outputs": [
    {
     "data": {
      "text/plain": [
       "TensorShape([Dimension(None), Dimension(7), Dimension(7), Dimension(32)])"
      ]
     },
     "execution_count": 9,
     "metadata": {},
     "output_type": "execute_result"
    }
   ],
   "source": [
    "p2_y.shape"
   ]
  },
  {
   "cell_type": "code",
   "execution_count": 10,
   "metadata": {
    "collapsed": true,
    "deletable": true,
    "editable": true
   },
   "outputs": [],
   "source": [
    "# Fully Connected\n",
    "\n",
    "fc_size = (28 // 4) * (28 // 4) * c2_k\n",
    "fc_y = tf.reshape(p2_y, [-1, fc_size])"
   ]
  },
  {
   "cell_type": "code",
   "execution_count": 11,
   "metadata": {
    "collapsed": false,
    "deletable": true,
    "editable": true,
    "scrolled": true
   },
   "outputs": [
    {
     "data": {
      "text/plain": [
       "TensorShape([Dimension(None), Dimension(1568)])"
      ]
     },
     "execution_count": 11,
     "metadata": {},
     "output_type": "execute_result"
    }
   ],
   "source": [
    "fc_y.shape"
   ]
  },
  {
   "cell_type": "code",
   "execution_count": 12,
   "metadata": {
    "collapsed": false,
    "deletable": true,
    "editable": true
   },
   "outputs": [],
   "source": [
    "# Hidden Layer\n",
    "\n",
    "w1 = tf.Variable(tf.truncated_normal([fc_size, fc_k], stddev=0.1))\n",
    "b1 = tf.Variable(tf.truncated_normal([fc_k], stddev=0.1))\n",
    "y1 = tf.nn.relu(tf.matmul(fc_y, w1) + b1)\n",
    "\n",
    "drop_y = tf.nn.dropout(y1, keep_prob)\n",
    "\n",
    "# Ouput Layer\n",
    "\n",
    "w = tf.Variable(tf.truncated_normal([fc_k, 10], stddev=0.1))\n",
    "b = tf.Variable(tf.truncated_normal([10], stddev=0.1))\n",
    "y = tf.nn.softmax(tf.matmul(drop_y, w) + b)"
   ]
  },
  {
   "cell_type": "code",
   "execution_count": 13,
   "metadata": {
    "collapsed": false,
    "deletable": true,
    "editable": true
   },
   "outputs": [
    {
     "data": {
      "text/plain": [
       "TensorShape([Dimension(None), Dimension(10)])"
      ]
     },
     "execution_count": 13,
     "metadata": {},
     "output_type": "execute_result"
    }
   ],
   "source": [
    "y.shape"
   ]
  },
  {
   "cell_type": "code",
   "execution_count": 14,
   "metadata": {
    "collapsed": true,
    "deletable": true,
    "editable": true
   },
   "outputs": [],
   "source": [
    "t = tf.one_hot(z, 10)\n",
    "\n",
    "cross_entropy = -tf.reduce_sum(t * tf.log(y), axis=1)\n",
    "loss = tf.reduce_mean(cross_entropy)\n",
    "\n",
    "train = tf.train.AdamOptimizer(0.001).minimize(loss)"
   ]
  },
  {
   "cell_type": "code",
   "execution_count": 15,
   "metadata": {
    "collapsed": false,
    "deletable": true,
    "editable": true
   },
   "outputs": [],
   "source": [
    "correct = tf.equal(tf.argmax(y, axis=1), z)\n",
    "accuracy = tf.reduce_mean(tf.cast(correct, tf.float32))"
   ]
  },
  {
   "cell_type": "code",
   "execution_count": 16,
   "metadata": {
    "collapsed": false,
    "deletable": true,
    "editable": true
   },
   "outputs": [
    {
     "name": "stdout",
     "output_type": "stream",
     "text": [
      "0.113\n",
      "1 0.197\n",
      "2 0.239\n",
      "3 0.256\n",
      "4 0.455\n",
      "5 0.509\n",
      "6 0.614\n",
      "7 0.571\n",
      "8 0.541\n",
      "9 0.612\n",
      "10 0.711\n",
      "11 0.762\n",
      "12 0.76\n",
      "13 0.747\n",
      "14 0.739\n",
      "15 0.735\n",
      "16 0.744\n",
      "17 0.786\n",
      "18 0.817\n",
      "19 0.826\n",
      "20 0.835\n",
      "21 0.846\n",
      "22 0.846\n",
      "23 0.838\n",
      "24 0.846\n",
      "25 0.861\n",
      "26 0.869\n",
      "27 0.874\n",
      "28 0.872\n",
      "29 0.862\n",
      "30 0.859\n",
      "31 0.861\n",
      "32 0.863\n",
      "33 0.873\n",
      "34 0.879\n",
      "35 0.887\n",
      "36 0.882\n",
      "37 0.883\n",
      "38 0.878\n",
      "39 0.871\n",
      "40 0.879\n",
      "41 0.894\n",
      "42 0.902\n",
      "43 0.901\n",
      "44 0.9\n",
      "45 0.888\n",
      "46 0.884\n",
      "47 0.884\n",
      "48 0.893\n",
      "49 0.896\n",
      "50 0.904\n",
      "51 0.904\n",
      "52 0.905\n",
      "53 0.906\n",
      "54 0.909\n",
      "55 0.907\n",
      "56 0.901\n",
      "57 0.901\n",
      "58 0.901\n",
      "59 0.9\n",
      "60 0.903\n",
      "61 0.904\n",
      "62 0.915\n",
      "63 0.919\n",
      "64 0.922\n",
      "65 0.927\n",
      "66 0.933\n",
      "67 0.93\n",
      "68 0.933\n",
      "69 0.929\n",
      "70 0.927\n",
      "71 0.928\n",
      "72 0.927\n",
      "73 0.919\n",
      "74 0.919\n",
      "75 0.923\n",
      "76 0.925\n",
      "77 0.923\n",
      "78 0.929\n",
      "79 0.934\n",
      "80 0.94\n",
      "81 0.941\n",
      "82 0.943\n",
      "83 0.946\n",
      "84 0.943\n",
      "85 0.943\n",
      "86 0.944\n",
      "87 0.945\n",
      "88 0.945\n",
      "89 0.947\n",
      "90 0.941\n",
      "91 0.935\n",
      "92 0.935\n",
      "93 0.943\n",
      "94 0.943\n",
      "95 0.938\n",
      "96 0.936\n",
      "97 0.929\n",
      "98 0.925\n",
      "99 0.929\n",
      "100 0.934\n"
     ]
    }
   ],
   "source": [
    "session = tf.Session()\n",
    "session.run(tf.global_variables_initializer())\n",
    "\n",
    "test_data = {\n",
    "    x: images2d[:1000],\n",
    "    z: labels[:1000],\n",
    "    keep_prob: 1.0\n",
    "}\n",
    "\n",
    "batch_size = 100\n",
    "\n",
    "print(session.run(accuracy, feed_dict=test_data))\n",
    "\n",
    "for i in range(100):\n",
    "    data = {\n",
    "        x: batch(images2d[1000:], i, batch_size),\n",
    "        z: batch(labels[1000:], i, batch_size),\n",
    "        keep_prob: 0.5\n",
    "    }\n",
    "    session.run(train, feed_dict=data)\n",
    "    print(i + 1, session.run(accuracy, feed_dict=test_data))"
   ]
  },
  {
   "cell_type": "code",
   "execution_count": 17,
   "metadata": {
    "collapsed": false
   },
   "outputs": [
    {
     "name": "stdout",
     "output_type": "stream",
     "text": [
      "4 9\n"
     ]
    },
    {
     "data": {
      "image/png": "[encoded data removed]",
      "text/plain": [
       "<matplotlib.figure.Figure at 0x1174fba58>"
      ]
     },
     "metadata": {},
     "output_type": "display_data"
    },
    {
     "name": "stdout",
     "output_type": "stream",
     "text": [
      "7 2\n"
     ]
    },
    {
     "data": {
      "image/png": "[encoded data removed]",
      "text/plain": [
       "<matplotlib.figure.Figure at 0x1175cf7b8>"
      ]
     },
     "metadata": {},
     "output_type": "display_data"
    },
    {
     "name": "stdout",
     "output_type": "stream",
     "text": [
      "7 9\n"
     ]
    },
    {
     "data": {
      "image/png": "[encoded data removed]",
      "text/plain": [
       "<matplotlib.figure.Figure at 0x10d8e6d30>"
      ]
     },
     "metadata": {},
     "output_type": "display_data"
    },
    {
     "name": "stdout",
     "output_type": "stream",
     "text": [
      "5 9\n"
     ]
    },
    {
     "data": {
      "image/png": "[encoded data removed]",
      "text/plain": [
       "<matplotlib.figure.Figure at 0x1175ee3c8>"
      ]
     },
     "metadata": {},
     "output_type": "display_data"
    }
   ],
   "source": [
    "predictions = session.run(tf.argmax(y, axis=1), feed_dict=test_data)\n",
    "\n",
    "for i in range(50):\n",
    "    if predictions[i] != labels[i]:\n",
    "        print(predictions[i], labels[i])\n",
    "        plt.imshow(images2d[i])\n",
    "        plt.show()"
   ]
  }
 ],
 "metadata": {
  "kernelspec": {
   "display_name": "Python 3",
   "language": "python",
   "name": "python3"
  },
  "language_info": {
   "codemirror_mode": {
    "name": "ipython",
    "version": 3
   },
   "file_extension": ".py",
   "mimetype": "text/x-python",
   "name": "python",
   "nbconvert_exporter": "python",
   "pygments_lexer": "ipython3",
   "version": "3.5.1"
  }
 },
 "nbformat": 4,
 "nbformat_minor": 2
}
