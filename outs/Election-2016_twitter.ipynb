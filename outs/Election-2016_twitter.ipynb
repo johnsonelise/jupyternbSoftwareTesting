{
 "cells": [
  {
   "cell_type": "markdown",
   "metadata": {},
   "source": [
    "Predicting Election 2016\n",
    "=======\n",
    "\n",
    "\n",
    "## 1. Data Collection\n",
    "\n",
    "### 1-A Twitter API\n",
    "\n",
    "<img src=''></img>\n",
    "\n",
    "### 1-B Extracting fields from json data\n",
    "\n",
    "**Extracting Location:** \n",
    "```\n",
    "Palm Beach Gardens, FL\n",
    "Wisconsin, USA\n",
    "Fishers, IN\n",
    "```\n",
    "\n",
    "\n",
    "### 1-C Storing Tweets into MySQL Database\n",
    "\n",
    "**Filtering tweets based on**\n",
    " * Language `\"lang\":\"en\"`\n",
    " * Country `\"country\":\"United States\"`  \n",
    " * Not sensitive tweets `\"possibly_sensitive\":\"false\"`\n",
    "\n",
    "\n",
    "```sql\n",
    "mysql> create table ElectionTweets (id_str CHAR(18) PRIMARY KEY, month INT(2), day INT(2), loc_name VARCHAR(20), text VARCHAR(140));\n",
    "Query OK, 0 rows affected (0.00 sec)\n",
    "\n",
    "mysql> describe ElectionTweets;\n",
    "+----------+--------------+------+-----+---------+-------+\n",
    "| Field    | Type         | Null | Key | Default | Extra |\n",
    "+----------+--------------+------+-----+---------+-------+\n",
    "| id_str   | char(18)     | NO   | PRI | NULL    |       |\n",
    "| month    | int(2)       | YES  |     | NULL    |       |\n",
    "| day      | int(2)       | YES  |     | NULL    |       |\n",
    "| loc_name | varchar(20)  | YES  |     | NULL    |       |\n",
    "| text     | varchar(140) | YES  |     | NULL    |       |\n",
    "+----------+--------------+------+-----+---------+-------+\n",
    "5 rows in set (0.00 sec)\n",
    "\n",
    "```\n",
    "\n",
    "**Handling the time of tweets:**\n"
   ]
  },
  {
   "cell_type": "markdown",
   "metadata": {},
   "source": [
    "## 2. Analysis\n",
    "\n",
    "### Counting number of tweets in each state\n",
    "\n",
    "```python\n",
    "# function to read from database\n",
    "def process_locations():\n",
    "     conn = MySQLdb.connect (host = \"localhost\",\n",
    "                             user = \"USERNAME\",\n",
    "                             passwd = \"PASSWORD\",\n",
    "                             db = \"DATABASE\")\n",
    "     cursor = conn.cursor ()\n",
    "     cursor.execute (\"SELECT loc_name, count(*) as count FROM ElectionTweets GROUP BY loc_name;\")\n",
    "\n",
    "     state_dict = {}\n",
    "\n",
    "     result_set = cursor.fetchall()\n",
    "     for row in result_set:\n",
    "         state_code = False\n",
    "         loc_split = row[0].strip().split(' ')\n",
    "         if (len(loc_split)==2):\n",
    "             if (len(loc_split[1]) == 2): \n",
    "                 state_code = loc_split[1]\n",
    "\n",
    "         if (state_code):\n",
    "             if (state_code in state_dict):\n",
    "                 state_dict[state_code] += int(row[1])\n",
    "             else:\n",
    "                 state_dict[state_code] = int(row[1])\n",
    "\n",
    "     cursor.close ()\n",
    "     conn.close ()\n",
    "\n",
    "     return(state_dict)\n",
    "```"
   ]
  },
  {
   "cell_type": "markdown",
   "metadata": {},
   "source": [
    "## 3. Web-app"
   ]
  },
  {
   "cell_type": "code",
   "execution_count": 1,
   "metadata": {
    "collapsed": false
   },
   "outputs": [
    {
     "name": "stdout",
     "output_type": "stream",
     "text": [
      "[46979 31851] [196708  52861  55841  13655]\n"
     ]
    }
   ],
   "source": [
    "import matplotlib.pyplot as plt\n",
    "\n",
    "import seaborn as sns\n",
    "\n",
    "import numpy as np\n",
    "import pandas\n",
    "\n",
    "x1 = np.array([\"H. Clinton\", \"B. Sanders\"])\n",
    "x2 = np.array([\"D. Trump\", \"T. Cruz\", \"M. Rubio\", \"J. Kasick\"])\n",
    "\n",
    "y1 = np.array([46979, 31851])\n",
    "y2 = np.array([196708, 52861, 55841, 13655])\n",
    "\n",
    "print(y1, y2)"
   ]
  },
  {
   "cell_type": "code",
   "execution_count": 5,
   "metadata": {
    "collapsed": false
   },
   "outputs": [
    {
     "data": {
      "text/plain": [
       "<matplotlib.axes._subplots.AxesSubplot at 0x7f5878310860>"
      ]
     },
     "execution_count": 5,
     "metadata": {},
     "output_type": "execute_result"
    },
    {
     "data": {
      "image/png": "[encoded data removed]",
      "text/plain": [
       "<matplotlib.figure.Figure at 0x7f58782c0f28>"
      ]
     },
     "metadata": {},
     "output_type": "display_data"
    }
   ],
   "source": [
    "%matplotlib inline\n",
    "sns.barplot(x=x1, y=y1)\n",
    "\n"
   ]
  },
  {
   "cell_type": "code",
   "execution_count": 6,
   "metadata": {
    "collapsed": false
   },
   "outputs": [
    {
     "data": {
      "text/plain": [
       "<matplotlib.axes._subplots.AxesSubplot at 0x7f587823ab00>"
      ]
     },
     "execution_count": 6,
     "metadata": {},
     "output_type": "execute_result"
    },
    {
     "data": {
      "image/png": "[encoded data removed]",
      "text/plain": [
       "<matplotlib.figure.Figure at 0x7f587820fef0>"
      ]
     },
     "metadata": {},
     "output_type": "display_data"
    }
   ],
   "source": [
    "sns.barplot(x=x2, y=y2)"
   ]
  },
  {
   "cell_type": "code",
   "execution_count": null,
   "metadata": {
    "collapsed": true
   },
   "outputs": [],
   "source": []
  }
 ],
 "metadata": {
  "kernelspec": {
   "display_name": "Python 3",
   "language": "python",
   "name": "python3"
  },
  "language_info": {
   "codemirror_mode": {
    "name": "ipython",
    "version": 3
   },
   "file_extension": ".py",
   "mimetype": "text/x-python",
   "name": "python",
   "nbconvert_exporter": "python",
   "pygments_lexer": "ipython3",
   "version": "3.5.1"
  }
 },
 "nbformat": 4,
 "nbformat_minor": 0
}
