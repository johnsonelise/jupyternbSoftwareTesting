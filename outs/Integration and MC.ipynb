{
 "cells": [
  {
   "cell_type": "code",
   "execution_count": 8,
   "metadata": {
    "collapsed": false
   },
   "outputs": [
    {
     "name": "stdout",
     "output_type": "stream",
     "text": [
      "Populating the interactive namespace from numpy and matplotlib\n"
     ]
    },
    {
     "name": "stderr",
     "output_type": "stream",
     "text": [
      "WARNING: pylab import has clobbered these variables: ['reciprocal', 'identity']\n",
      "`%matplotlib` prevents importing * from pylab and numpy\n"
     ]
    }
   ],
   "source": [
    "%pylab inline"
   ]
  },
  {
   "cell_type": "code",
   "execution_count": 5,
   "metadata": {
    "collapsed": true
   },
   "outputs": [],
   "source": [
    "def left_rect(f,x,h):\n",
    "    return f(x)\n",
    " \n",
    "def mid_rect(f,x,h):\n",
    "    return f(x + h/2)\n",
    " \n",
    "def right_rect(f,x,h):\n",
    "    return f(x+h)\n",
    " \n",
    "def trapezium(f,x,h):\n",
    "    return (f(x) + f(x+h))/2.0\n",
    " \n",
    "def simpson(f,x,h):\n",
    "    return (f(x) + 4*f(x + h/2) + f(x+h))/6.0\n",
    " \n",
    "def cube(x):\n",
    "    return x*x*x\n",
    " \n",
    "def reciproc(x):\n",
    "    return 1/x\n",
    " \n",
    "def identi(x):\n",
    "    return x\n",
    "\n",
    "def gaussiana(x):\n",
    "    ampl=1.0\n",
    "    x_0=1.0\n",
    "    sigma=1.0\n",
    "    return ampl*exp( -(x-x_0)**2/sigma )\n",
    " \n",
    "def integrate( f, a, b, steps, meth):\n",
    "    h = (b-a)/steps\n",
    "    ival=0.0\n",
    "#    ival = h * sum(meth(f, a+i*h, h) for i in range(steps))\n",
    "    for i in range(steps):\n",
    "        ival=ival+h*meth(f, a+i*h, h)\n",
    "    return ival  "
   ]
  },
  {
   "cell_type": "code",
   "execution_count": 9,
   "metadata": {
    "collapsed": false
   },
   "outputs": [
    {
     "data": {
      "text/plain": [
       "1.6330511093286733"
      ]
     },
     "execution_count": 9,
     "metadata": {},
     "output_type": "execute_result"
    }
   ],
   "source": [
    "integrate(gaussiana, 0.,10.,100,simpson)"
   ]
  },
  {
   "cell_type": "code",
   "execution_count": 10,
   "metadata": {
    "collapsed": true
   },
   "outputs": [],
   "source": [
    "def MCIntegration(f,n):\n",
    "    ValorMedio=0.\n",
    "    for i in range(n):\n",
    "        puntos=[]\n",
    "        for j in range(10):\n",
    "            puntos.append(random.random())\n",
    "        ValorMedio=ValorMedio+DiezDim(puntos)\n",
    "    ValorMedio=ValorMedio/n\n",
    "    return ValorMedio\n",
    "def DiezDim (points):\n",
    "    return (sum(points))**2\n",
    "    "
   ]
  },
  {
   "cell_type": "code",
   "execution_count": 11,
   "metadata": {
    "collapsed": false
   },
   "outputs": [
    {
     "data": {
      "text/plain": [
       "25.703382605860366"
      ]
     },
     "execution_count": 11,
     "metadata": {},
     "output_type": "execute_result"
    }
   ],
   "source": [
    "MCIntegration(DiezDim,10000)"
   ]
  },
  {
   "cell_type": "markdown",
   "metadata": {},
   "source": [
    "REspuesta analítica es 155/6"
   ]
  }
 ],
 "metadata": {
  "kernelspec": {
   "display_name": "Python 2",
   "language": "python",
   "name": "python2"
  },
  "language_info": {
   "codemirror_mode": {
    "name": "ipython",
    "version": 2
   },
   "file_extension": ".py",
   "mimetype": "text/x-python",
   "name": "python",
   "nbconvert_exporter": "python",
   "pygments_lexer": "ipython2",
   "version": "2.7.6"
  }
 },
 "nbformat": 4,
 "nbformat_minor": 0
}
