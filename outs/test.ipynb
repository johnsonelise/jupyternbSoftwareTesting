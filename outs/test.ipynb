{
 "cells": [
  {
   "cell_type": "code",
   "execution_count": 1,
   "metadata": {
    "collapsed": false
   },
   "outputs": [],
   "source": [
    "import tensorflow as tf\n",
    "import numpy as np\n",
    "import matplotlib.pyplot as plt"
   ]
  },
  {
   "cell_type": "code",
   "execution_count": 2,
   "metadata": {
    "collapsed": true
   },
   "outputs": [],
   "source": [
    "tensor = tf.random_uniform([50, 2])"
   ]
  },
  {
   "cell_type": "code",
   "execution_count": 3,
   "metadata": {
    "collapsed": false
   },
   "outputs": [
    {
     "data": {
      "text/plain": [
       "array([[ 0.27969408,  0.74341059],\n",
       "       [ 0.91116643,  0.32606864],\n",
       "       [ 0.12082696,  0.95316494],\n",
       "       [ 0.39965761,  0.11237192],\n",
       "       [ 0.26054132,  0.21859348],\n",
       "       [ 0.34397721,  0.50368297],\n",
       "       [ 0.5558486 ,  0.86083543],\n",
       "       [ 0.26634252,  0.74430072],\n",
       "       [ 0.26658762,  0.06807244],\n",
       "       [ 0.28420532,  0.41077065],\n",
       "       [ 0.83998334,  0.47506583],\n",
       "       [ 0.28405523,  0.79373527],\n",
       "       [ 0.29569757,  0.56253159],\n",
       "       [ 0.90035295,  0.81418359],\n",
       "       [ 0.15336454,  0.20965075],\n",
       "       [ 0.78020287,  0.55910838],\n",
       "       [ 0.05660546,  0.02252519],\n",
       "       [ 0.16139948,  0.57583869],\n",
       "       [ 0.5323714 ,  0.39292467],\n",
       "       [ 0.81215477,  0.35761297],\n",
       "       [ 0.09516013,  0.84246051],\n",
       "       [ 0.99445796,  0.4592098 ],\n",
       "       [ 0.57426059,  0.22336388],\n",
       "       [ 0.87198949,  0.59763968],\n",
       "       [ 0.17811131,  0.9314431 ],\n",
       "       [ 0.22418213,  0.48510635],\n",
       "       [ 0.94906747,  0.81878138],\n",
       "       [ 0.47308981,  0.27965772],\n",
       "       [ 0.99761128,  0.55453348],\n",
       "       [ 0.61384082,  0.26176357],\n",
       "       [ 0.36726499,  0.86669564],\n",
       "       [ 0.17832756,  0.45567107],\n",
       "       [ 0.79883242,  0.37995851],\n",
       "       [ 0.45347011,  0.86493552],\n",
       "       [ 0.15000796,  0.36616325],\n",
       "       [ 0.61487508,  0.90455902],\n",
       "       [ 0.81665862,  0.0804615 ],\n",
       "       [ 0.26261342,  0.52917206],\n",
       "       [ 0.04901063,  0.62219393],\n",
       "       [ 0.56285906,  0.88003564],\n",
       "       [ 0.71964991,  0.3825146 ],\n",
       "       [ 0.32260525,  0.42092216],\n",
       "       [ 0.10567093,  0.30677879],\n",
       "       [ 0.96532273,  0.66481721],\n",
       "       [ 0.26512325,  0.23917282],\n",
       "       [ 0.76719856,  0.57981551],\n",
       "       [ 0.65921354,  0.0503509 ],\n",
       "       [ 0.69619453,  0.2000283 ],\n",
       "       [ 0.59853721,  0.42022574],\n",
       "       [ 0.36173308,  0.12540472]], dtype=float32)"
      ]
     },
     "execution_count": 3,
     "metadata": {},
     "output_type": "execute_result"
    }
   ],
   "source": [
    "session = tf.Session()\n",
    "session.run(tensor)"
   ]
  },
  {
   "cell_type": "code",
   "execution_count": 4,
   "metadata": {
    "collapsed": false
   },
   "outputs": [
    {
     "data": {
      "text/plain": [
       "array([[ 69.47057343,  73.5415802 ],\n",
       "       [ 99.15565491,  12.56436157],\n",
       "       [ 38.88711929,  68.80979919],\n",
       "       [ 95.42253113,  92.82939148],\n",
       "       [ 55.44387054,  16.65673256],\n",
       "       [ 37.5285759 ,  47.63000107],\n",
       "       [  8.054245  ,  26.98391724],\n",
       "       [ 44.25727081,  47.02259445],\n",
       "       [ 15.66976357,  53.41222382],\n",
       "       [ 67.16122437,   2.52838135],\n",
       "       [ 15.79298973,  94.62758636],\n",
       "       [ 79.33790588,  18.37688637],\n",
       "       [ 16.17591476,  48.27349091],\n",
       "       [ 74.82484436,  75.91646576],\n",
       "       [ 13.43702126,  33.85939789],\n",
       "       [ 31.88318062,  52.52608109],\n",
       "       [ 62.77471924,  34.02626419],\n",
       "       [ 15.32667923,  24.69480133],\n",
       "       [ 96.52484894,  46.43353271],\n",
       "       [ 99.02676392,  61.14036942],\n",
       "       [ 84.66010284,  78.76361847],\n",
       "       [ 58.7165947 ,  70.89956665],\n",
       "       [ 25.29506683,  93.08143616],\n",
       "       [ 16.52593613,  32.23287964],\n",
       "       [ 43.39535141,   3.48601341],\n",
       "       [ 43.00918579,  90.39466095],\n",
       "       [ 90.28674316,  15.49850655],\n",
       "       [ 88.16401672,  35.86871719],\n",
       "       [  5.14107943,   8.58345032],\n",
       "       [ 74.02487183,  80.81292725],\n",
       "       [ 27.02558136,  54.25537872],\n",
       "       [ 67.44757843,  16.03079987],\n",
       "       [ 57.91324234,  94.56627655],\n",
       "       [ 77.18186188,  52.86201096],\n",
       "       [ 39.01805878,   5.27470112],\n",
       "       [ 81.14126587,  40.25727463],\n",
       "       [ 31.81106949,  80.9648056 ],\n",
       "       [ 66.51045227,  78.07275391],\n",
       "       [ 70.95883179,  96.5776825 ],\n",
       "       [  2.27931738,  18.39797592],\n",
       "       [ 92.3825531 ,  37.06451797],\n",
       "       [ 34.91619873,  70.37913513],\n",
       "       [ 77.12139893,  41.62682343],\n",
       "       [ 30.25053787,   6.07694387],\n",
       "       [ 56.31789017,  29.05871964],\n",
       "       [ 78.07392883,  67.02387238],\n",
       "       [ 50.73147964,   9.84410095],\n",
       "       [  8.83742523,  23.07914543],\n",
       "       [ 64.66477203,  32.52375031],\n",
       "       [ 40.85875702,  43.25003815]], dtype=float32)"
      ]
     },
     "execution_count": 4,
     "metadata": {},
     "output_type": "execute_result"
    }
   ],
   "source": [
    "points = session.run(tensor) * 100\n",
    "points"
   ]
  },
  {
   "cell_type": "code",
   "execution_count": 5,
   "metadata": {
    "collapsed": false
   },
   "outputs": [
    {
     "data": {
      "text/plain": [
       "(array([ 69.47057343,  99.15565491,  38.88711929,  95.42253113,\n",
       "         55.44387054,  37.5285759 ,   8.054245  ,  44.25727081,\n",
       "         15.66976357,  67.16122437,  15.79298973,  79.33790588,\n",
       "         16.17591476,  74.82484436,  13.43702126,  31.88318062,\n",
       "         62.77471924,  15.32667923,  96.52484894,  99.02676392,\n",
       "         84.66010284,  58.7165947 ,  25.29506683,  16.52593613,\n",
       "         43.39535141,  43.00918579,  90.28674316,  88.16401672,\n",
       "          5.14107943,  74.02487183,  27.02558136,  67.44757843,\n",
       "         57.91324234,  77.18186188,  39.01805878,  81.14126587,\n",
       "         31.81106949,  66.51045227,  70.95883179,   2.27931738,\n",
       "         92.3825531 ,  34.91619873,  77.12139893,  30.25053787,\n",
       "         56.31789017,  78.07392883,  50.73147964,   8.83742523,\n",
       "         64.66477203,  40.85875702], dtype=float32),\n",
       " array([ 73.5415802 ,  12.56436157,  68.80979919,  92.82939148,\n",
       "         16.65673256,  47.63000107,  26.98391724,  47.02259445,\n",
       "         53.41222382,   2.52838135,  94.62758636,  18.37688637,\n",
       "         48.27349091,  75.91646576,  33.85939789,  52.52608109,\n",
       "         34.02626419,  24.69480133,  46.43353271,  61.14036942,\n",
       "         78.76361847,  70.89956665,  93.08143616,  32.23287964,\n",
       "          3.48601341,  90.39466095,  15.49850655,  35.86871719,\n",
       "          8.58345032,  80.81292725,  54.25537872,  16.03079987,\n",
       "         94.56627655,  52.86201096,   5.27470112,  40.25727463,\n",
       "         80.9648056 ,  78.07275391,  96.5776825 ,  18.39797592,\n",
       "         37.06451797,  70.37913513,  41.62682343,   6.07694387,\n",
       "         29.05871964,  67.02387238,   9.84410095,  23.07914543,\n",
       "         32.52375031,  43.25003815], dtype=float32))"
      ]
     },
     "execution_count": 5,
     "metadata": {},
     "output_type": "execute_result"
    }
   ],
   "source": [
    "x, y = np.hsplit(points, 2)\n",
    "x.reshape([-1]), y.reshape(-1)"
   ]
  },
  {
   "cell_type": "code",
   "execution_count": 6,
   "metadata": {
    "collapsed": false
   },
   "outputs": [
    {
     "data": {
      "image/png": "[encoded data removed]",
      "text/plain": [
       "<matplotlib.figure.Figure at 0x1130aeac8>"
      ]
     },
     "metadata": {},
     "output_type": "display_data"
    }
   ],
   "source": [
    "plt.scatter(x, y)\n",
    "plt.show()"
   ]
  }
 ],
 "metadata": {
  "kernelspec": {
   "display_name": "Python 3",
   "language": "python",
   "name": "python3"
  },
  "language_info": {
   "codemirror_mode": {
    "name": "ipython",
    "version": 3
   },
   "file_extension": ".py",
   "mimetype": "text/x-python",
   "name": "python",
   "nbconvert_exporter": "python",
   "pygments_lexer": "ipython3",
   "version": "3.5.1"
  }
 },
 "nbformat": 4,
 "nbformat_minor": 2
}
