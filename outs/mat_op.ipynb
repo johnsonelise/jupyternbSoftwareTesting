{
 "cells": [
  {
   "cell_type": "code",
   "execution_count": 9,
   "metadata": {
    "collapsed": true
   },
   "outputs": [],
   "source": [
    "import numpy as np"
   ]
  },
  {
   "cell_type": "code",
   "execution_count": 10,
   "metadata": {
    "collapsed": true
   },
   "outputs": [],
   "source": [
    "TT = np.random.randn(10, 10)\n",
    "\n",
    "TT = np.ma.masked_where(TT < 1, TT)"
   ]
  },
  {
   "cell_type": "code",
   "execution_count": 11,
   "metadata": {
    "collapsed": false
   },
   "outputs": [
    {
     "data": {
      "text/plain": [
       "masked_array(data =\n",
       " [[1.1919424484569188 -- -- -- 2.4733172432206043 1.6142687178540798 -- --\n",
       "  -- --]\n",
       " [-- -- -- -- -- -- -- 1.3167639887438327 -- 1.3220757144649196]\n",
       " [1.2614794248384322 -- -- -- -- -- -- -- -- --]\n",
       " [1.2487886188746704 -- -- 1.017206506667674 -- -- -- -- -- --]\n",
       " [1.0654915246942127 2.373957947114287 -- -- -- -- 1.0313638806311536 -- --\n",
       "  --]\n",
       " [-- -- -- 1.0931596375862562 -- 1.6026793559004917 -- -- -- --]\n",
       " [1.0103393724696157 -- -- -- -- 2.106386202721354 -- -- -- --]\n",
       " [-- -- 1.0321584563167212 -- -- -- -- -- 1.656583795421723 --]\n",
       " [-- -- -- -- -- -- -- -- -- --]\n",
       " [-- -- 1.67222059777024 1.0544189955344017 1.5973770001218905 -- -- --\n",
       "  1.213494441507784 --]],\n",
       "             mask =\n",
       " [[False  True  True  True False False  True  True  True  True]\n",
       " [ True  True  True  True  True  True  True False  True False]\n",
       " [False  True  True  True  True  True  True  True  True  True]\n",
       " [False  True  True False  True  True  True  True  True  True]\n",
       " [False False  True  True  True  True False  True  True  True]\n",
       " [ True  True  True False  True False  True  True  True  True]\n",
       " [False  True  True  True  True False  True  True  True  True]\n",
       " [ True  True False  True  True  True  True  True False  True]\n",
       " [ True  True  True  True  True  True  True  True  True  True]\n",
       " [ True  True False False False  True  True  True False  True]],\n",
       "       fill_value = 1e+20)"
      ]
     },
     "execution_count": 11,
     "metadata": {},
     "output_type": "execute_result"
    }
   ],
   "source": [
    "TT"
   ]
  },
  {
   "cell_type": "code",
   "execution_count": 12,
   "metadata": {
    "collapsed": false
   },
   "outputs": [],
   "source": [
    "res = np.exp((17.67 * TT)/(TT + 243.5))"
   ]
  },
  {
   "cell_type": "code",
   "execution_count": 13,
   "metadata": {
    "collapsed": false
   },
   "outputs": [
    {
     "data": {
      "text/plain": [
       "masked_array(data =\n",
       " [[1.089887016197841 -- -- -- 1.1944380690827312 1.123412286101633 -- -- --\n",
       "  --]\n",
       " [-- -- -- -- -- -- -- 1.099702098636615 -- 1.1001215071915809]\n",
       " [1.095345289696821 -- -- -- -- -- -- -- -- --]\n",
       " [1.0943473271863375 -- -- 1.076277446857038 -- -- -- -- -- --]\n",
       " [1.0800230534520094 1.1860246394057987 -- -- -- -- 1.0773744798879668 --\n",
       "  -- --]\n",
       " [-- -- -- 1.0821745507849636 -- 1.1224802401187537 -- -- -- --]\n",
       " [1.0757456799273928 -- -- -- -- 1.1636279369682474 -- -- -- --]\n",
       " [-- -- 1.0774360796925162 -- -- -- -- -- 1.1268211978409437 --]\n",
       " [-- -- -- -- -- -- -- -- -- --]\n",
       " [-- -- 1.128083219291075 1.079163106375152 1.1220540396733902 -- -- --\n",
       "  1.0915761465559362 --]],\n",
       "             mask =\n",
       " [[False  True  True  True False False  True  True  True  True]\n",
       " [ True  True  True  True  True  True  True False  True False]\n",
       " [False  True  True  True  True  True  True  True  True  True]\n",
       " [False  True  True False  True  True  True  True  True  True]\n",
       " [False False  True  True  True  True False  True  True  True]\n",
       " [ True  True  True False  True False  True  True  True  True]\n",
       " [False  True  True  True  True False  True  True  True  True]\n",
       " [ True  True False  True  True  True  True  True False  True]\n",
       " [ True  True  True  True  True  True  True  True  True  True]\n",
       " [ True  True False False False  True  True  True False  True]],\n",
       "       fill_value = 1e+20)"
      ]
     },
     "execution_count": 13,
     "metadata": {},
     "output_type": "execute_result"
    }
   ],
   "source": [
    "res"
   ]
  },
  {
   "cell_type": "code",
   "execution_count": 14,
   "metadata": {
    "collapsed": false
   },
   "outputs": [
    {
     "data": {
      "text/plain": [
       "(10, 10)"
      ]
     },
     "execution_count": 14,
     "metadata": {},
     "output_type": "execute_result"
    }
   ],
   "source": [
    "res.shape"
   ]
  },
  {
   "cell_type": "code",
   "execution_count": null,
   "metadata": {
    "collapsed": true
   },
   "outputs": [],
   "source": []
  }
 ],
 "metadata": {
  "kernelspec": {
   "display_name": "Python 3",
   "language": "python",
   "name": "python3"
  },
  "language_info": {
   "codemirror_mode": {
    "name": "ipython",
    "version": 3
   },
   "file_extension": ".py",
   "mimetype": "text/x-python",
   "name": "python",
   "nbconvert_exporter": "python",
   "pygments_lexer": "ipython3",
   "version": "3.4.3"
  }
 },
 "nbformat": 4,
 "nbformat_minor": 0
}
