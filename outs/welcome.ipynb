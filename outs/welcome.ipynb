{
 "cells": [
  {
   "cell_type": "markdown",
   "metadata": {},
   "source": [
    "# Welcome!\n",
    "\n",
    "This is my horrifically under used blog. Everything posted here will probably be interesting to me."
   ]
  },
  {
   "cell_type": "markdown",
   "metadata": {},
   "source": [
    "## This Blog\n",
    "\n",
    "This website and blog is built using the [Nikola](www.getnikola.com) project. It means that I can write the pages in markdown and compile it into a static site, which I then FTP to my web host. This blog I am writing using Jupyter (IPython) Notebooks, which when combined with a seperate blog meta data file compile into html and appear here for you to read!\n",
    "\n",
    "This post for instance has the following meta data file:"
   ]
  },
  {
   "cell_type": "code",
   "execution_count": 1,
   "metadata": {
    "collapsed": false
   },
   "outputs": [
    {
     "name": "stdout",
     "output_type": "stream",
     "text": [
      ".. title: Welcome!\r\n",
      ".. slug: welcome\r\n",
      ".. date: 2015-04-01 20:19:09 UTC\r\n",
      ".. tags: \r\n",
      ".. link: \r\n",
      ".. description: \r\n",
      ".. type: text\r\n"
     ]
    }
   ],
   "source": [
    "!cat welcome.meta"
   ]
  },
  {
   "cell_type": "markdown",
   "metadata": {},
   "source": [
    "For more information on setting up this Jupyter Notebook blogging platform see [this](http://damian.oquanta.info/posts/blogging-with-nikola-and-ipython.html) excellent post by Damian Avila."
   ]
  }
 ],
 "metadata": {
  "kernelspec": {
   "display_name": "Python 2",
   "language": "python",
   "name": "python2"
  },
  "language_info": {
   "codemirror_mode": {
    "name": "ipython",
    "version": 2
   },
   "file_extension": ".py",
   "mimetype": "text/x-python",
   "name": "python",
   "nbconvert_exporter": "python",
   "pygments_lexer": "ipython2",
   "version": "2.7.9"
  }
 },
 "nbformat": 4,
 "nbformat_minor": 0
}
