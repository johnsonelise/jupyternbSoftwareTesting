{
 "cells": [
  {
   "cell_type": "markdown",
   "metadata": {},
   "source": [
    "# Pygmentize\n",
    "\n",
    "\n",
    "When you use `nbconvert` to convert an IPython Notebook to HTML, a file called `syntax.css` is used for the syntax highlighting of both code cells and embedded code in markdown cells.\n",
    "\n",
    "You can generate a new `syntax.css` with the following shell command (if `pygments` is installed):"
   ]
  },
  {
   "cell_type": "markdown",
   "metadata": {},
   "source": [
    "```shell\n",
    "pygmentize -S monokai -f html > syntax.css\n",
    "```"
   ]
  },
  {
   "cell_type": "markdown",
   "metadata": {},
   "source": [
    "In this example, the theme is _monokai_ but you can use any of these: "
   ]
  },
  {
   "cell_type": "code",
   "execution_count": 6,
   "metadata": {
    "collapsed": false
   },
   "outputs": [
    {
     "name": "stdout",
     "output_type": "stream",
     "text": [
      "manni\n",
      "igor\n",
      "xcode\n",
      "vim\n",
      "autumn\n",
      "vs\n",
      "rrt\n",
      "native\n",
      "perldoc\n",
      "borland\n",
      "tango\n",
      "emacs\n",
      "friendly\n",
      "monokai\n",
      "paraiso-dark\n",
      "colorful\n",
      "murphy\n",
      "bw\n",
      "pastie\n",
      "paraiso-light\n",
      "trac\n",
      "default\n",
      "fruity\n"
     ]
    }
   ],
   "source": [
    "from pygments.styles import get_all_styles\n",
    "for x in get_all_styles():\n",
    "    print x"
   ]
  },
  {
   "cell_type": "code",
   "execution_count": null,
   "metadata": {
    "collapsed": true
   },
   "outputs": [],
   "source": []
  }
 ],
 "metadata": {
  "kernelspec": {
   "display_name": "Python 2",
   "language": "python",
   "name": "python2"
  },
  "language_info": {
   "codemirror_mode": {
    "name": "ipython",
    "version": 2
   },
   "file_extension": ".py",
   "mimetype": "text/x-python",
   "name": "python",
   "nbconvert_exporter": "python",
   "pygments_lexer": "ipython2",
   "version": "2.7.10"
  }
 },
 "nbformat": 4,
 "nbformat_minor": 0
}
