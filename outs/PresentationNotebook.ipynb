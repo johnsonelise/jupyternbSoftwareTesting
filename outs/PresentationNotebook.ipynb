{
 "metadata": {
  "kernelspec": {
   "display_name": "Python 3",
   "language": "python",
   "name": "python3"
  },
  "language_info": {
   "codemirror_mode": {
    "name": "ipython",
    "version": 3
   },
   "file_extension": ".py",
   "mimetype": "text/x-python",
   "name": "python",
   "nbconvert_exporter": "python",
   "pygments_lexer": "ipython3",
   "version": "3.4.2"
  },
  "name": ""
 },
 "nbformat": 3,
 "nbformat_minor": 0,
 "worksheets": [
  {
   "cells": [
    {
     "cell_type": "code",
     "collapsed": true,
     "input": [
      "%matplotlib inline\n",
      "\n",
      "#pd, np, and plt are typical aliases used for pandas, numpy, and matplotlib respectively\n",
      "import pandas as pd\n",
      "import numpy as np\n",
      "import matplotlib.pyplot as plt\n",
      "#the from statement here indicates that we're going to import specific classes from the module, namely datetime and timedelta \n",
      "from datetime import datetime, timedelta"
     ],
     "language": "python",
     "metadata": {},
     "outputs": [],
     "prompt_number": 1
    },
    {
     "cell_type": "code",
     "collapsed": false,
     "input": [
      "#read in csv to dataframe , 'names' refers to file names, and dtype or datatype is the type of data we're expecting from the file\n",
      "tlog = pd.read_csv('updated_tlog.csv', names=['basket_id','timestamp','upc','quantity','total_cost'], dtype={'upc':np.str})\n",
      "#returns the first n-rows of the dataframe\n",
      "tlog.head()"
     ],
     "language": "python",
     "metadata": {},
     "outputs": [
      {
       "html": [
        "<div style=\"max-height:1000px;max-width:1500px;overflow:auto;\">\n",
        "<table border=\"1\" class=\"dataframe\">\n",
        "  <thead>\n",
        "    <tr style=\"text-align: right;\">\n",
        "      <th></th>\n",
        "      <th>basket_id</th>\n",
        "      <th>timestamp</th>\n",
        "      <th>upc</th>\n",
        "      <th>quantity</th>\n",
        "      <th>total_cost</th>\n",
        "    </tr>\n",
        "  </thead>\n",
        "  <tbody>\n",
        "    <tr>\n",
        "      <th>0</th>\n",
        "      <td> 0010_2015-02-06_05:56:02_0:00</td>\n",
        "      <td> 2015-02-06 05:55:12.943441</td>\n",
        "      <td> 2927400622</td>\n",
        "      <td> 1</td>\n",
        "      <td> 0.45</td>\n",
        "    </tr>\n",
        "    <tr>\n",
        "      <th>1</th>\n",
        "      <td> 0010_2015-02-06_05:56:02_0:00</td>\n",
        "      <td> 2015-02-06 05:55:29.830840</td>\n",
        "      <td> 2927400622</td>\n",
        "      <td>-1</td>\n",
        "      <td> 0.45</td>\n",
        "    </tr>\n",
        "    <tr>\n",
        "      <th>2</th>\n",
        "      <td> 0010_2015-02-06_05:56:02_0:00</td>\n",
        "      <td> 2015-02-06 05:55:32.706062</td>\n",
        "      <td> 2927400622</td>\n",
        "      <td>-1</td>\n",
        "      <td> 0.45</td>\n",
        "    </tr>\n",
        "    <tr>\n",
        "      <th>3</th>\n",
        "      <td> 0010_2015-02-06_05:56:02_0:00</td>\n",
        "      <td> 2015-02-06 05:56:18.795900</td>\n",
        "      <td> 2927400622</td>\n",
        "      <td> 1</td>\n",
        "      <td> 0.45</td>\n",
        "    </tr>\n",
        "    <tr>\n",
        "      <th>4</th>\n",
        "      <td> 0010_2015-02-06_05:56:59_0:00</td>\n",
        "      <td> 2015-02-06 05:56:24.330387</td>\n",
        "      <td> 3418300209</td>\n",
        "      <td> 1</td>\n",
        "      <td> 0.50</td>\n",
        "    </tr>\n",
        "  </tbody>\n",
        "</table>\n",
        "</div>"
       ],
       "metadata": {},
       "output_type": "pyout",
       "prompt_number": 2,
       "text": [
        "                       basket_id                   timestamp         upc  \\\n",
        "0  0010_2015-02-06_05:56:02_0:00  2015-02-06 05:55:12.943441  2927400622   \n",
        "1  0010_2015-02-06_05:56:02_0:00  2015-02-06 05:55:29.830840  2927400622   \n",
        "2  0010_2015-02-06_05:56:02_0:00  2015-02-06 05:55:32.706062  2927400622   \n",
        "3  0010_2015-02-06_05:56:02_0:00  2015-02-06 05:56:18.795900  2927400622   \n",
        "4  0010_2015-02-06_05:56:59_0:00  2015-02-06 05:56:24.330387  3418300209   \n",
        "\n",
        "   quantity  total_cost  \n",
        "0         1        0.45  \n",
        "1        -1        0.45  \n",
        "2        -1        0.45  \n",
        "3         1        0.45  \n",
        "4         1        0.50  "
       ]
      }
     ],
     "prompt_number": 2
    },
    {
     "cell_type": "markdown",
     "metadata": {},
     "source": [
      "##Data Frame\n",
      "A data frame can be thought of as a spreadsheet or a table in a typical relational database. Passing column names is optional, and it guarantees the column names in the resulting dataframe. \n"
     ]
    },
    {
     "cell_type": "code",
     "collapsed": false,
     "input": [
      "tlog.head()\n",
      "#returns the first few elements of the unsorted data frame, not sorted in-place by default"
     ],
     "language": "python",
     "metadata": {},
     "outputs": [],
     "prompt_number": null
    },
    {
     "cell_type": "code",
     "collapsed": false,
     "input": [
      "tlog.head(10)\n",
      "#returns the first ten elements of the sliced dataframe"
     ],
     "language": "python",
     "metadata": {},
     "outputs": [],
     "prompt_number": null
    },
    {
     "cell_type": "code",
     "collapsed": false,
     "input": [
      "tlog[['timestamp','total_cost']]\n",
      "#returns slices of the existing dataframe, returning only the given attributes "
     ],
     "language": "python",
     "metadata": {},
     "outputs": [],
     "prompt_number": null
    },
    {
     "cell_type": "code",
     "collapsed": false,
     "input": [
      "tlog[5:20]"
     ],
     "language": "python",
     "metadata": {},
     "outputs": [],
     "prompt_number": null
    },
    {
     "cell_type": "code",
     "collapsed": false,
     "input": [
      "tlog.sort('total_cost', ascending=False).head()\n",
      "#return the first few elements sorted in descending order by total cost, note dataframe is sorted and then head is selected"
     ],
     "language": "python",
     "metadata": {},
     "outputs": [],
     "prompt_number": null
    },
    {
     "cell_type": "code",
     "collapsed": false,
     "input": [
      "tlog.sort('total_cost', ascending=False, inplace=True)\n",
      "#when in place is set to true, a new instance of the dataframe object is not created and the original is mutated\n",
      "tlog.head()"
     ],
     "language": "python",
     "metadata": {},
     "outputs": [],
     "prompt_number": null
    },
    {
     "cell_type": "heading",
     "level": 3,
     "metadata": {},
     "source": [
      "Selecting rows"
     ]
    },
    {
     "cell_type": "code",
     "collapsed": false,
     "input": [
      "tlog[tlog.upc=='2927400622']"
     ],
     "language": "python",
     "metadata": {},
     "outputs": [],
     "prompt_number": null
    },
    {
     "cell_type": "code",
     "collapsed": false,
     "input": [
      "tlog[tlog.total_cost > 5.0].head()\n",
      "#select all of those attributes whose total cost is greater than 5.0 and return head"
     ],
     "language": "python",
     "metadata": {},
     "outputs": [],
     "prompt_number": null
    },
    {
     "cell_type": "code",
     "collapsed": false,
     "input": [
      "tlog[(tlog.total_cost>5.0) & (tlog.total_cost<80.0)].head()\n",
      "#select all of those elements whose total cost is greater than 5.0 and less than 80.0 and return the head"
     ],
     "language": "python",
     "metadata": {},
     "outputs": [],
     "prompt_number": null
    },
    {
     "cell_type": "code",
     "collapsed": false,
     "input": [
      "tlog['total_cost'] # same as tlog.total_cost\n",
      "tlog['pennies'] = tlog.total_cost*100  # not equal to tlog.pennies = tlog.total_cost * 100  because tlog.X is a copy and tlog['X'] is a reference\n",
      "tlog.head()"
     ],
     "language": "python",
     "metadata": {},
     "outputs": [],
     "prompt_number": null
    },
    {
     "cell_type": "code",
     "collapsed": true,
     "input": [
      "tlog['timestamp'] = pd.to_datetime(tlog.timestamp)\n",
      "#take this column (timestamp) and transform it from a string to a datetime object"
     ],
     "language": "python",
     "metadata": {},
     "outputs": [],
     "prompt_number": null
    },
    {
     "cell_type": "code",
     "collapsed": false,
     "input": [
      "tlog[tlog.timestamp > datetime(2015,1,9,11)].sort('timestamp').head()\n",
      "#return all elements whose timestamp is later than 2019-01-09, with those dates furthest in the future coming first"
     ],
     "language": "python",
     "metadata": {},
     "outputs": [],
     "prompt_number": null
    },
    {
     "cell_type": "markdown",
     "metadata": {},
     "source": [
      "Challenge question: make a graph of the sales per hour during the day"
     ]
    },
    {
     "cell_type": "markdown",
     "metadata": {},
     "source": [
      "##Grouping and aggregation\n",
      "Data frames can group on attributes, and compute new properties from ranges of rows"
     ]
    },
    {
     "cell_type": "code",
     "collapsed": false,
     "input": [
      "tlog.total_cost.sum()\n",
      "#sum over dataframe['total_cost'] contents, returns scalar"
     ],
     "language": "python",
     "metadata": {},
     "outputs": [],
     "prompt_number": null
    },
    {
     "cell_type": "code",
     "collapsed": false,
     "input": [
      "#create new attribute hour, derived from applying an anonymous function that extracts an element's hour to each element in the dataframe\n",
      "tlog['hour'] = tlog.timestamp.apply(lambda x: x.hour)\n",
      "tlog.head()"
     ],
     "language": "python",
     "metadata": {},
     "outputs": [],
     "prompt_number": null
    },
    {
     "cell_type": "code",
     "collapsed": false,
     "input": [
      "#group by here is essentially identical to its use in SQL, abstract over dataframes element and return counts by different basket ids\n",
      "basket_counts = tlog.groupby('basket_id').count().upc\n",
      "print(basket_counts)"
     ],
     "language": "python",
     "metadata": {},
     "outputs": [],
     "prompt_number": null
    },
    {
     "cell_type": "code",
     "collapsed": false,
     "input": [
      "#plot a histogram \n",
      "plt.hist(basket_counts, bins=range(15))"
     ],
     "language": "python",
     "metadata": {},
     "outputs": [],
     "prompt_number": null
    },
    {
     "cell_type": "code",
     "collapsed": false,
     "input": [
      "sales_by_product = tlog.groupby('upc').sum()\n",
      "#group by upc code and sum all other attributes (since no attribute or group of attribute was specified)"
     ],
     "language": "python",
     "metadata": {},
     "outputs": [],
     "prompt_number": null
    },
    {
     "cell_type": "code",
     "collapsed": false,
     "input": [
      "sales_by_product.sort('total_cost', ascending=False, inplace=True)\n",
      "#given the grouped and summed data, sort by total cost in descending order; sort in place\n",
      "sales_by_product.head()"
     ],
     "language": "python",
     "metadata": {},
     "outputs": [],
     "prompt_number": null
    },
    {
     "cell_type": "markdown",
     "metadata": {},
     "source": [
      "##Multiple data frames and joins\n",
      "As with SQL, you can join dataframes together by specifying a key."
     ]
    },
    {
     "cell_type": "code",
     "collapsed": false,
     "input": [
      "products = pd.read_csv('updated_products.csv', names=['id','upc','description'], dtype={'upc':np.str})\n",
      "products.head()"
     ],
     "language": "python",
     "metadata": {},
     "outputs": [],
     "prompt_number": null
    },
    {
     "cell_type": "code",
     "collapsed": false,
     "input": [
      "tlog['upc'] = tlog.upc.apply(lambda s: s[4:])\n",
      "#apply anonymous function that extracts first four characters of upc string to each element of dataframe"
     ],
     "language": "python",
     "metadata": {},
     "outputs": [],
     "prompt_number": null
    },
    {
     "cell_type": "code",
     "collapsed": false,
     "input": [
      "merged = pd.merge(sales_by_product,products, left_index=True, right_on='upc', how='left')\n",
      "merged.head(20)"
     ],
     "language": "python",
     "metadata": {},
     "outputs": [],
     "prompt_number": null
    },
    {
     "cell_type": "markdown",
     "metadata": {},
     "source": [
      "Challenge question: make a graph of the sales of bananas per hour during the day"
     ]
    },
    {
     "cell_type": "code",
     "collapsed": false,
     "input": [],
     "language": "python",
     "metadata": {},
     "outputs": [],
     "prompt_number": null
    }
   ],
   "metadata": {}
  }
 ]
}