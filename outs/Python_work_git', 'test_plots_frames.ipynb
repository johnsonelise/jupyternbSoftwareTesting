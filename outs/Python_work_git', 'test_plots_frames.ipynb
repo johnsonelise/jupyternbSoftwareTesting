{
 "cells": [
  {
   "cell_type": "code",
   "execution_count": 1,
   "metadata": {
    "collapsed": true
   },
   "outputs": [],
   "source": [
    "import numpy as np"
   ]
  },
  {
   "cell_type": "code",
   "execution_count": 4,
   "metadata": {
    "collapsed": true
   },
   "outputs": [],
   "source": [
    "import matplotlib.pyplot as plt\n",
    "import matplotlib.patches as patches\n",
    "import matplotlib as mpl\n",
    "%matplotlib inline"
   ]
  },
  {
   "cell_type": "code",
   "execution_count": 15,
   "metadata": {
    "collapsed": false
   },
   "outputs": [],
   "source": [
    "def plot_frames(x,y,angle):\n",
    "\n",
    "    fig,ax = plt.subplots()\n",
    "    plt.xlim([x-2,x+2])\n",
    "    plt.ylim([y-2,y+2])\n",
    "    r1 = patches.Rectangle((x,y), 1, 1, fill=None, alpha=1)\n",
    "\n",
    "    ax.text(x+.9,x-.2,r'$x$', rotation=angle)\n",
    "\n",
    "\n",
    "    #ax.add_patch(plt.Rectangle((0,0),1,1,fill=None,alpha=1))\n",
    "    t2 = mpl.transforms.Affine2D().rotate_deg(angle) + ax.transData\n",
    "    r1.set_transform(t2)\n",
    "\n",
    "    ax.add_patch(r1)\n",
    "\n",
    "\n",
    "# TODO: ver como agregar bien la cantidad de frames que se quiera\n",
    "\n",
    "#ax2 = plt.subplot()\n",
    "#ax2.add_patch(plt.Rectangle((0,1),1,1,fill=None,alpha=1))\n",
    "#ax2.text(.9,-.2,r'$x$')\n",
    "#ax2.text(-.2,.9,r'$y$')\n",
    "#ax2.text(-0.1,-0.1,r'$0$')\n",
    "#ax2.text(.4,.4,r'$\\{A \\}$',fontsize=15)"
   ]
  },
  {
   "cell_type": "code",
   "execution_count": 20,
   "metadata": {
    "collapsed": false
   },
   "outputs": [
    {
     "data": {
      "image/png": "[encoded data removed]",
      "text/plain": [
       "<matplotlib.figure.Figure at 0xad2b798c>"
      ]
     },
     "metadata": {},
     "output_type": "display_data"
    }
   ],
   "source": [
    "plot_frames(2,2,30)"
   ]
  },
  {
   "cell_type": "code",
   "execution_count": null,
   "metadata": {
    "collapsed": true
   },
   "outputs": [],
   "source": []
  }
 ],
 "metadata": {
  "kernelspec": {
   "display_name": "Python 2",
   "language": "python",
   "name": "python2"
  },
  "language_info": {
   "codemirror_mode": {
    "name": "ipython",
    "version": 2
   },
   "file_extension": ".py",
   "mimetype": "text/x-python",
   "name": "python",
   "nbconvert_exporter": "python",
   "pygments_lexer": "ipython2",
   "version": "2.7.9"
  }
 },
 "nbformat": 4,
 "nbformat_minor": 0
}
