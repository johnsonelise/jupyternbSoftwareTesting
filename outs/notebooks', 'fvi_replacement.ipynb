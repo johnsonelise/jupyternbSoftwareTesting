{
 "cells": [
  {
   "cell_type": "code",
   "execution_count": 7,
   "metadata": {
    "collapsed": false
   },
   "outputs": [],
   "source": [
    "%matplotlib inline\n",
    "import matplotlib.pyplot as plt\n",
    "import numpy as np\n",
    "from numpy.polynomial.polynomial import polyvander as poly"
   ]
  },
  {
   "cell_type": "code",
   "execution_count": 60,
   "metadata": {
    "collapsed": false
   },
   "outputs": [
    {
     "data": {
      "text/plain": [
       "(0, 10)"
      ]
     },
     "execution_count": 60,
     "metadata": {},
     "output_type": "execute_result"
    },
    {
     "data": {
      "image/png": "[encoded data removed]",
      "text/plain": [
       "<matplotlib.figure.Figure at 0x7f69973ddd30>"
      ]
     },
     "metadata": {},
     "output_type": "display_data"
    }
   ],
   "source": [
    "norder = 4\n",
    "nsim = 10\n",
    "nbasepoints = 100\n",
    "\n",
    "discount = 0.6\n",
    "C, beta, xmax = -30, 2, 10\n",
    "keep_action, replace_action = 0, 1\n",
    "\n",
    "weights = np.zeros((norder+1,))\n",
    "\n",
    "rng = np.random.RandomState(1234)\n",
    "basepoints = rng.uniform(0, 10, nbasepoints)\n",
    "rewards_keep = -4.*basepoints\n",
    "reward_replace = C\n",
    "\n",
    "for i in range(40):\n",
    "    next_states_keep = rng.exponential(beta, (nbasepoints, nsim)) + basepoints[:,np.newaxis]\n",
    "    overbound_states = (next_states_keep > xmax)\n",
    "    next_states_keep[overbound_states] = rng.exponential(beta, np.sum(overbound_states))\n",
    "    v_keep = np.mean(rewards_keep[:, np.newaxis] + discount*np.dot(poly(next_states_keep, deg=norder), weights), axis=1)\n",
    "\n",
    "    next_state_replace = rng.exponential(beta, (nbasepoints, nsim))\n",
    "    v_replace = np.mean(reward_replace + discount*np.dot(poly(next_state_replace, deg=norder), weights), axis=1)\n",
    "    vhat = np.max(np.column_stack((v_keep, v_replace)), axis=1)\n",
    "    qhat = np.argmax(np.column_stack((v_keep, v_replace)), axis=1)\n",
    "\n",
    "    weights = np.linalg.lstsq(poly(basepoints, deg=norder), vhat)[0]\n",
    "    indices = np.argsort(basepoints)\n",
    "    if i == 1 or i == 19:\n",
    "        plt.plot(basepoints[indices], np.dot(poly(basepoints, deg=norder), weights)[indices])\n",
    "        plt.scatter(basepoints, vhat, marker='.')\n",
    "    \n",
    "plt.axvline(4.867, linestyle='dotted', c='k')    \n",
    "plt.axhline(-48.67, linestyle='dotted', c='k') \n",
    "plt.xlim(0, 10)\n",
    "#plt.ylim(0, 10)\n",
    "#plt.savefig('inventory.pdf')"
   ]
  },
  {
   "cell_type": "code",
   "execution_count": 61,
   "metadata": {
    "collapsed": false
   },
   "outputs": [
    {
     "data": {
      "text/plain": [
       "array([0, 0, 0, 0, 0, 0, 0, 0, 0, 0, 0, 0, 0, 0, 0, 0, 0, 0, 0, 0, 0, 0, 0,\n",
       "       0, 0, 0, 0, 0, 0, 0, 0, 0, 0, 0, 0, 0, 0, 0, 0, 0, 0, 1, 0, 0, 0, 0,\n",
       "       1, 0, 1, 1, 0, 1, 1, 1, 1, 0, 1, 1, 1, 1, 1, 1, 1, 0, 1, 1, 1, 1, 1,\n",
       "       1, 1, 1, 1, 1, 1, 1, 1, 1, 1, 1, 1, 1, 1, 1, 1, 1, 1, 1, 1, 1, 1, 1,\n",
       "       1, 1, 1, 1, 1, 1, 1, 1])"
      ]
     },
     "execution_count": 61,
     "metadata": {},
     "output_type": "execute_result"
    }
   ],
   "source": [
    "qhat[indices]"
   ]
  },
  {
   "cell_type": "code",
   "execution_count": null,
   "metadata": {
    "collapsed": true
   },
   "outputs": [],
   "source": []
  }
 ],
 "metadata": {
  "kernelspec": {
   "display_name": "Python 3",
   "language": "python",
   "name": "python3"
  },
  "language_info": {
   "codemirror_mode": {
    "name": "ipython",
    "version": 3
   },
   "file_extension": ".py",
   "mimetype": "text/x-python",
   "name": "python",
   "nbconvert_exporter": "python",
   "pygments_lexer": "ipython3",
   "version": "3.5.1"
  }
 },
 "nbformat": 4,
 "nbformat_minor": 0
}
