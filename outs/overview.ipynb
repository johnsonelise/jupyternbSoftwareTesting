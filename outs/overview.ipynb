{
 "cells": [
  {
   "cell_type": "markdown",
   "metadata": {},
   "source": [
    "\n",
    "###Overview\n",
    "\n",
    "SSUsearch is pipeline for identify SSU rRNA gene and use them for diversity analysis. THe pipeline requires HMMER3.1, mothur, RDP mcclust, and python numpy, pandas, scipy, matplotlib, and screed package. Following are step by step tutorial for this pipeline:\n",
    "\n",
    "1. Update the notebooks by running this notebook (click \"Cell\" then \"Run All\").\n",
    "\n",
    "2. [Install dependencies](./pipeline-dependency-installation.ipynb). If running amazon EC2 with ami \"**ami-7c82af16**\", skip this step.\n",
    "\n",
    "3. [Database and dataset preparation](./data-preparation.ipynb)\n",
    "\n",
    "4. [SSU rRNA gene fragment search and classification](./ssu-search.ipynb). [ssu-search-Copy1.ipynb](ssu-search-Copy1.ipynb), [ssu-search-Copy2.ipynb](ssu-search-Copy2.ipynb), [ssu-search-Copy3.ipynb](ssu-search-Copy3.ipynb), and [ssu-search-Copy4.ipynb](ssu-search-Copy4.ipynb) are the ones to run for test data\n",
    "\n",
    "5. [Unsupervised analysis](./unsupervised-analysis.ipynb)\n",
    "\n",
    "6. [Copy correction](./copy-correction.ipynb)"
   ]
  },
  {
   "cell_type": "code",
   "execution_count": 2,
   "metadata": {
    "collapsed": false
   },
   "outputs": [
    {
     "name": "stdout",
     "output_type": "stream",
     "text": [
      "Cloning into SSUsearch...\n",
      "remote: Counting objects: 323, done.\u001b[K\n",
      "remote: Compressing objects: 100% (28/28), done.\u001b[K\n",
      "remote: Total 323 (delta 14), reused 0 (delta 0), pack-reused 295\u001b[K\n",
      "Receiving objects: 100% (323/323), 197.67 KiB, done.\n",
      "Resolving deltas: 100% (147/147), done.\n"
     ]
    }
   ],
   "source": [
    "# update the notebooks\n",
    "!rm -rf SSUsearch\n",
    "!git clone https://github.com/jiarong/SSUsearch.git\n",
    "!cp SSUsearch/notebooks/*.ipynb ."
   ]
  },
  {
   "cell_type": "code",
   "execution_count": null,
   "metadata": {
    "collapsed": true
   },
   "outputs": [],
   "source": []
  }
 ],
 "metadata": {
  "kernelspec": {
   "display_name": "Python 2",
   "language": "python",
   "name": "python2"
  },
  "language_info": {
   "codemirror_mode": {
    "name": "ipython",
    "version": 2
   },
   "file_extension": ".py",
   "mimetype": "text/x-python",
   "name": "python",
   "nbconvert_exporter": "python",
   "pygments_lexer": "ipython2",
   "version": "2.7.10"
  }
 },
 "nbformat": 4,
 "nbformat_minor": 0
}
