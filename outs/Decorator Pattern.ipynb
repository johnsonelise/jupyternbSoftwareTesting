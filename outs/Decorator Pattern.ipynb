{
 "cells": [
  {
   "cell_type": "code",
   "execution_count": 1,
   "metadata": {
    "collapsed": true
   },
   "outputs": [],
   "source": [
    "class Food:\n",
    "    def __init__(self):\n",
    "        self.description = None\n",
    "        \n",
    "    def getDescription(self):\n",
    "        return self.description\n",
    "    \n",
    "    def cost(self):\n",
    "        return 0"
   ]
  },
  {
   "cell_type": "code",
   "execution_count": 2,
   "metadata": {
    "collapsed": true
   },
   "outputs": [],
   "source": [
    "class FoodDecorator(Food):\n",
    "    pass"
   ]
  },
  {
   "cell_type": "markdown",
   "metadata": {},
   "source": [
    "## Main"
   ]
  },
  {
   "cell_type": "code",
   "execution_count": 3,
   "metadata": {
    "collapsed": false
   },
   "outputs": [],
   "source": [
    "class FriedEgg(Food):\n",
    "    def __init__(self):\n",
    "        self.description = 'Fried Egg'\n",
    "        \n",
    "    def cost(self):\n",
    "        return 12"
   ]
  },
  {
   "cell_type": "code",
   "execution_count": 4,
   "metadata": {
    "collapsed": true
   },
   "outputs": [],
   "source": [
    "class FriedRice(Food):\n",
    "    def __init(self):\n",
    "        self.description = 'Fried Rice'\n",
    "    def cost(self):\n",
    "        return 5"
   ]
  },
  {
   "cell_type": "markdown",
   "metadata": {},
   "source": [
    "## Condiment"
   ]
  },
  {
   "cell_type": "code",
   "execution_count": 5,
   "metadata": {
    "collapsed": false
   },
   "outputs": [],
   "source": [
    "class Spicy(FoodDecorator):\n",
    "    def __init__(self, foodDecorator):\n",
    "        self.foodDecorator = foodDecorator\n",
    "        \n",
    "    def getDescription(self):\n",
    "        return self.foodDecorator.getDescription() + ', Spicy'\n",
    "    \n",
    "    def cost(self):\n",
    "        return self.foodDecorator.cost() + 5"
   ]
  },
  {
   "cell_type": "markdown",
   "metadata": {},
   "source": [
    "## Test"
   ]
  },
  {
   "cell_type": "code",
   "execution_count": 6,
   "metadata": {
    "collapsed": false
   },
   "outputs": [
    {
     "name": "stdout",
     "output_type": "stream",
     "text": [
      "Fried Egg\n",
      "12\n"
     ]
    }
   ],
   "source": [
    "friedEgg = FriedEgg()\n",
    "print friedEgg.getDescription()\n",
    "print friedEgg.cost()\n",
    "    "
   ]
  },
  {
   "cell_type": "code",
   "execution_count": 7,
   "metadata": {
    "collapsed": false
   },
   "outputs": [
    {
     "name": "stdout",
     "output_type": "stream",
     "text": [
      "Fried Egg, Spicy\n",
      "17\n",
      "Fried Egg, Spicy, Spicy\n",
      "22\n"
     ]
    }
   ],
   "source": [
    "friedEgg = FriedEgg()\n",
    "withSpicy = Spicy(friedEgg)  # wrap\n",
    "print withSpicy.getDescription()\n",
    "print withSpicy.cost()\n",
    "\n",
    "withSpicy = Spicy(withSpicy)  # wrap again\n",
    "print withSpicy.getDescription()\n",
    "print withSpicy.cost()"
   ]
  }
 ],
 "metadata": {
  "kernelspec": {
   "display_name": "Python 2",
   "language": "python",
   "name": "python2"
  },
  "language_info": {
   "codemirror_mode": {
    "name": "ipython",
    "version": 2
   },
   "file_extension": ".py",
   "mimetype": "text/x-python",
   "name": "python",
   "nbconvert_exporter": "python",
   "pygments_lexer": "ipython2",
   "version": "2.7.9"
  }
 },
 "nbformat": 4,
 "nbformat_minor": 0
}
