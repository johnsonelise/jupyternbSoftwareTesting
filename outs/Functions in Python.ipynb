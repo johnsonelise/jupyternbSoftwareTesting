{
 "cells": [
  {
   "cell_type": "markdown",
   "metadata": {},
   "source": [
    "# Functions in Python\n"
   ]
  },
  {
   "cell_type": "markdown",
   "metadata": {},
   "source": [
    "We have already used few of the functions in Python, such as, ```len```, ```random```, ```range```, etc.\n",
    "\n",
    "Functions could be considered a black box object, which given some input gives back some output. So for example, len takes an object as its input and returns its length as output.\n",
    "\n"
   ]
  },
  {
   "cell_type": "markdown",
   "metadata": {},
   "source": [
    "## Defining your own function\n",
    "\n",
    "A function definition starts with the keyword ```def``` followed by the function name, and the set of expected input parameters enclosed between a pair of parenthesis. For example:"
   ]
  },
  {
   "cell_type": "code",
   "execution_count": 1,
   "metadata": {
    "collapsed": true
   },
   "outputs": [],
   "source": [
    "def get_simple_interest(p, r, t):\n",
    "    return p * r * t / 100.0"
   ]
  },
  {
   "cell_type": "code",
   "execution_count": 5,
   "metadata": {
    "collapsed": false
   },
   "outputs": [
    {
     "data": {
      "text/plain": [
       "1000.0"
      ]
     },
     "execution_count": 5,
     "metadata": {},
     "output_type": "execute_result"
    }
   ],
   "source": [
    "get_simple_interest(10000, 10, 1)"
   ]
  },
  {
   "cell_type": "markdown",
   "metadata": {},
   "source": [
    "## Exercise:\n",
    "* Write a function to calculate factorial of a number -- bonus points of writing it recursively and testing it with large values ;-)\n",
    "* Write a function which takes a string as input and prints it in reverse order"
   ]
  },
  {
   "cell_type": "markdown",
   "metadata": {},
   "source": [
    "### Returning multiple values from a function\n",
    "\n",
    "Python allows returning multiple values from a function, let's see how"
   ]
  },
  {
   "cell_type": "code",
   "execution_count": 6,
   "metadata": {
    "collapsed": true
   },
   "outputs": [],
   "source": [
    "def get_perimeter_and_area(r):\n",
    "    perimieter = 2 * 3.14 * r\n",
    "    area = 3.14 * r ** 2\n",
    "    return perimieter, area"
   ]
  },
  {
   "cell_type": "code",
   "execution_count": 8,
   "metadata": {
    "collapsed": false
   },
   "outputs": [
    {
     "name": "stdout",
     "output_type": "stream",
     "text": [
      "Perimeter = 62.8\n",
      "Area = 314.0\n"
     ]
    }
   ],
   "source": [
    "perimeter, area = get_perimeter_and_area(10)\n",
    "print 'Perimeter = ' + str(perimeter) \n",
    "print 'Area = ' + str(area)"
   ]
  },
  {
   "cell_type": "markdown",
   "metadata": {},
   "source": [
    "__You can return any number of values from a function and read them in that order when you call it__\n",
    "\n",
    "Python wraps these multiple return values in the form of a tuple and returns to the caller"
   ]
  }
 ],
 "metadata": {
  "kernelspec": {
   "display_name": "Python 2",
   "language": "python",
   "name": "python2"
  },
  "language_info": {
   "codemirror_mode": {
    "name": "ipython",
    "version": 2
   },
   "file_extension": ".py",
   "mimetype": "text/x-python",
   "name": "python",
   "nbconvert_exporter": "python",
   "pygments_lexer": "ipython2",
   "version": "2.7.11"
  }
 },
 "nbformat": 4,
 "nbformat_minor": 0
}
