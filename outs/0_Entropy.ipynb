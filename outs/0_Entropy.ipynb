{
 "metadata": {
  "kernelspec": {
   "display_name": "Python 2",
   "language": "python",
   "name": "python2"
  },
  "language_info": {
   "codemirror_mode": {
    "name": "ipython",
    "version": 2
   },
   "file_extension": ".py",
   "mimetype": "text/x-python",
   "name": "python",
   "nbconvert_exporter": "python",
   "pygments_lexer": "ipython2",
   "version": "2.7.10"
  },
  "name": "",
  "signature": "sha256:425361d4d9cc71c1a08b394efc43f708c0e8caee8729534699b7fe4ff941ab00"
 },
 "nbformat": 3,
 "nbformat_minor": 0,
 "worksheets": [
  {
   "cells": [
    {
     "cell_type": "code",
     "collapsed": false,
     "input": [
      "print range(5)"
     ],
     "language": "python",
     "metadata": {},
     "outputs": [
      {
       "output_type": "stream",
       "stream": "stdout",
       "text": [
        "[0, 1, 2, 3, 4]\n"
       ]
      }
     ],
     "prompt_number": 13
    },
    {
     "cell_type": "code",
     "collapsed": false,
     "input": [
      "other_thing = [\"a\", 'b', 5]\n",
      "print other_thing\n",
      "print list(enumerate(other_thing))"
     ],
     "language": "python",
     "metadata": {},
     "outputs": [
      {
       "output_type": "stream",
       "stream": "stdout",
       "text": [
        "['a', 'b', 5]\n",
        "[(0, 'a'), (1, 'b'), (2, 5)]\n"
       ]
      }
     ],
     "prompt_number": 21
    },
    {
     "cell_type": "code",
     "collapsed": false,
     "input": [
      "for i, x in enumerate(range(5)):\n",
      "  print i, x "
     ],
     "language": "python",
     "metadata": {},
     "outputs": [
      {
       "output_type": "stream",
       "stream": "stdout",
       "text": [
        "0 0\n",
        "1 1\n",
        "2 2\n",
        "3 3\n",
        "4 4\n"
       ]
      }
     ],
     "prompt_number": 19
    },
    {
     "cell_type": "code",
     "collapsed": false,
     "input": [
      "criterion = False\n",
      "print 4 if criterion else 2\n"
     ],
     "language": "python",
     "metadata": {},
     "outputs": [
      {
       "output_type": "stream",
       "stream": "stdout",
       "text": [
        "2\n"
       ]
      }
     ],
     "prompt_number": 23
    },
    {
     "cell_type": "code",
     "collapsed": false,
     "input": [
      "third_thing =  [x for x in range(5) if x < 3]\n",
      "print range(5)\n",
      "print third_thing"
     ],
     "language": "python",
     "metadata": {},
     "outputs": [
      {
       "output_type": "stream",
       "stream": "stdout",
       "text": [
        "[0, 1, 2, 3, 4]\n",
        "[0, 1, 2]\n"
       ]
      }
     ],
     "prompt_number": 31
    },
    {
     "cell_type": "code",
     "collapsed": false,
     "input": [
      "print {4:7, True:'true', 1:\"adsf\", 0:\"numer\", False:\"word\"}"
     ],
     "language": "python",
     "metadata": {},
     "outputs": [
      {
       "output_type": "stream",
       "stream": "stdout",
       "text": [
        "{0: 'word', True: 'adsf', 4: 7}\n"
       ]
      }
     ],
     "prompt_number": 29
    },
    {
     "cell_type": "code",
     "collapsed": false,
     "input": [
      "%pylab inline\n",
      "from sklearn import datasets\n",
      "\n",
      "iris = datasets.load_iris()\n",
      "data_t0 = np.array([row for i,row in enumerate(iris.data) if iris.target[i] == 0])\n",
      "data_t1 = np.array([row for i,row in enumerate(iris.data) if iris.target[i] == 1])\n",
      "data_t2 = np.array([row for i,row in enumerate(iris.data) if iris.target[i] == 2])"
     ],
     "language": "python",
     "metadata": {},
     "outputs": [
      {
       "output_type": "stream",
       "stream": "stdout",
       "text": [
        "Populating the interactive namespace from numpy and matplotlib\n"
       ]
      },
      {
       "output_type": "stream",
       "stream": "stderr",
       "text": [
        "/usr/local/lib/python2.7/site-packages/matplotlib/font_manager.py:273: UserWarning: Matplotlib is building the font cache using fc-list. This may take a moment.\n",
        "  warnings.warn('Matplotlib is building the font cache using fc-list. This may take a moment.')\n"
       ]
      }
     ],
     "prompt_number": 1
    },
    {
     "cell_type": "code",
     "collapsed": false,
     "input": [
      "print iris.keys()"
     ],
     "language": "python",
     "metadata": {},
     "outputs": [
      {
       "output_type": "stream",
       "stream": "stdout",
       "text": [
        "['target_names', 'data', 'target', 'DESCR', 'feature_names']\n"
       ]
      }
     ],
     "prompt_number": 33
    },
    {
     "cell_type": "heading",
     "level": 1,
     "metadata": {},
     "source": [
      "Entropy"
     ]
    },
    {
     "cell_type": "markdown",
     "metadata": {},
     "source": [
      "Entropy - the amount of 'randomness' or 'surprise' in data.\n",
      "\n",
      "Some code excerpts take [from here](http://nbviewer.ipython.org/github/fonnesbeck/Bios366/blob/master/notebooks/Section6_5-Decision-Trees.ipynb)\n",
      "\n",
      "Shannon's 1948 paper [A Mathematical Theory of Communication](http://worrydream.com/refs/Shannon%20-%20A%20Mathematical%20Theory%20of%20Communication.pdf) is cited as the foundation of info theory.\n",
      "\n",
      "Shannon's paper cites Hartley's [Transmission of Information (1928)](http://www3.alcatel-lucent.com/bstj/vol07-1928/articles/bstj7-3-535.pdf) as the originator of using the `log` function to model information for three reasons:\n",
      "\n",
      "* Practicality. most technical system's capacity follows the log function\n",
      "* Intuition.  Similar to the first, we think \"two punched cards should have twice the capacity of one for information storage\"\n",
      "* Cleaner.  The limits of probability happen to match the limits of the log function.\n"
     ]
    },
    {
     "cell_type": "code",
     "collapsed": false,
     "input": [
      "import numpy as np\n",
      "entropy = lambda p: -p * np.log2(p) if p > 0. else 0"
     ],
     "language": "python",
     "metadata": {},
     "outputs": [],
     "prompt_number": 2
    },
    {
     "cell_type": "code",
     "collapsed": false,
     "input": [
      "figure(5)\n",
      "xlabel(\"p of the given state\")\n",
      "ylabel(\"entropy contributed by the given state\")\n",
      "pvals = np.linspace(0, 1)  \n",
      "plot(pvals, [entropy(p) for p in list(pvals)])"
     ],
     "language": "python",
     "metadata": {},
     "outputs": [
      {
       "metadata": {},
       "output_type": "pyout",
       "prompt_number": 3,
       "text": [
        "[<matplotlib.lines.Line2D at 0x112c09c90>]"
       ]
      },
      {
       "metadata": {},
       "output_type": "display_data",
       "png": "[encoded data removed]",
       "text": [
        "<matplotlib.figure.Figure at 0x10fec9110>"
       ]
      }
     ],
     "prompt_number": 3
    },
    {
     "cell_type": "code",
     "collapsed": false,
     "input": [
      "print \"entropy(0.4) =\", entropy(0.4)\n",
      "print \"entropy(0.5) =\", entropy(0.5)\n",
      "print \"entropy(0.6) =\", entropy(0.6)"
     ],
     "language": "python",
     "metadata": {},
     "outputs": [
      {
       "output_type": "stream",
       "stream": "stdout",
       "text": [
        "entropy(0.4) = 0.528771237955\n",
        "entropy(0.5) = 0.5\n",
        "entropy(0.6) = 0.4421793565\n"
       ]
      }
     ],
     "prompt_number": 4
    },
    {
     "cell_type": "code",
     "collapsed": false,
     "input": [
      "print entropy(0.5) + entropy(0.5)\n",
      "print entropy(0.25) + entropy(0.75)\n",
      "\n",
      "print \"even three states:\", entropy(0.333333333333) + entropy(0.333333333333) + entropy(0.333333333333)\n",
      "print \"[0,49,5]\",entropy(49./54)+entropy(5./54)"
     ],
     "language": "python",
     "metadata": {},
     "outputs": [
      {
       "output_type": "stream",
       "stream": "stdout",
       "text": [
        "1.0\n",
        "0.811278124459\n",
        "even three states: 1.58496250072\n",
        "[0,49,5] 0.445064857051\n"
       ]
      }
     ],
     "prompt_number": 5
    },
    {
     "cell_type": "code",
     "collapsed": false,
     "input": [
      "figure(6)\n",
      "xlabel(\"p of state 1, out of 2 states\")\n",
      "ylabel(\"entropy of system\")\n",
      "pvals = np.linspace(0, 1)  \n",
      "plot(pvals, [entropy(p)+entropy(1-p) for p in list(pvals)])"
     ],
     "language": "python",
     "metadata": {},
     "outputs": [
      {
       "metadata": {},
       "output_type": "pyout",
       "prompt_number": 6,
       "text": [
        "[<matplotlib.lines.Line2D at 0x112d8bb10>]"
       ]
      },
      {
       "metadata": {},
       "output_type": "display_data",
       "png": "[encoded data removed]",
       "text": [
        "<matplotlib.figure.Figure at 0x10fa2af90>"
       ]
      }
     ],
     "prompt_number": 6
    },
    {
     "cell_type": "code",
     "collapsed": false,
     "input": [
      "def entropy_of_list(list_of_number_of_occurrences):\n",
      "    total_N = sum(list_of_number_of_occurrences)\n",
      "    \n",
      "    if total_N == 0:\n",
      "        return 0.\n",
      "    \n",
      "    total_entropy = 0.\n",
      "    for state in list_of_number_of_occurrences:\n",
      "        this_p = float(state)/total_N\n",
      "        total_entropy += entropy(this_p)\n",
      "    \n",
      "    return total_entropy"
     ],
     "language": "python",
     "metadata": {},
     "outputs": [],
     "prompt_number": 7
    },
    {
     "cell_type": "code",
     "collapsed": false,
     "input": [
      "l1 = [2,2,2,2]\n",
      "l2 = [0,0,4,4]\n",
      "l3 = [1,2,3,4]\n",
      "l4 = [8,0,0,0]\n",
      "\n",
      "print \"l1\",l1,entropy_of_list(l1)\n",
      "print \"l2\",l2,entropy_of_list(l2)\n",
      "print \"l3\",l3,entropy_of_list(l3)\n",
      "print 'l4',l4,entropy_of_list(l4)\n"
     ],
     "language": "python",
     "metadata": {},
     "outputs": [
      {
       "output_type": "stream",
       "stream": "stdout",
       "text": [
        "l1 [2, 2, 2, 2] 2.0\n",
        "l2 [0, 0, 4, 4] 1.0\n",
        "l3 [1, 2, 3, 4] 1.84643934467\n",
        "l4 [8, 0, 0, 0] 0.0\n"
       ]
      }
     ],
     "prompt_number": 8
    },
    {
     "cell_type": "code",
     "collapsed": false,
     "input": [
      "from matplotlib import gridspec\n",
      "\n",
      "# generate some data\n",
      "x = np.arange(0, 10, 0.2)\n",
      "y = np.sin(x)\n",
      "\n",
      "# entropy_of_list()\n",
      "\n",
      "step = 0.001\n",
      "\n",
      "data_d2l = np.array([[row[2],iris.target[i]] for i,row in enumerate(iris.data)])\n",
      "e_x = np.arange(0.9,7+step,step)\n",
      "entropies = []\n",
      "for cutoff in e_x:\n",
      "    left_list = [int(c) for [x,c] in data_d2l if x < cutoff]\n",
      "    right_list = [int(c) for [x,c] in data_d2l if x >= cutoff]\n",
      "    \n",
      "    left_counts = [0,0,0]\n",
      "    for c in left_list:\n",
      "        left_counts[c] += 1\n",
      "    \n",
      "    right_counts = [0,0,0]\n",
      "    for c in right_list:\n",
      "        right_counts[c] += 1\n",
      "    \n",
      "    left_entropy = entropy_of_list(left_counts)\n",
      "    right_entropy = entropy_of_list(right_counts)\n",
      "\n",
      "    entropies.append(left_entropy + right_entropy)\n",
      "    \n",
      "# plot it\n",
      "fig = figure(10,figsize=(12, 10)) \n",
      "gs = gridspec.GridSpec(2, 1, height_ratios=[1, 3]) \n",
      "ax0 = subplot(gs[0])\n",
      "ax0.plot(e_x,entropies)\n",
      "ax0.set_ylabel(\"entropy\")\n",
      "ax0.set_xlim([0.9,7.])\n",
      "ax0.set_ylim([0.9,1.9])\n",
      "\n",
      "\n",
      "\n",
      "ax1 = subplot(gs[1])\n",
      "ax1.scatter(data_t0[:,2], data_t0[:,3], color = 'b', label=iris.target_names[0])\n",
      "ax1.scatter(data_t1[:,2], data_t1[:,3], color = 'g', label=iris.target_names[1])\n",
      "ax1.scatter(data_t2[:,2], data_t2[:,3], color = 'r', label=iris.target_names[2])\n",
      "ax1.set_xlabel(\"petal length (cm)\")\n",
      "ax1.set_ylabel(\"petal width (cm)\")\n",
      "ax1.set_xlim([0.9,7.])\n",
      "ax1.set_ylim([0,2.6])\n",
      "\n",
      "\n"
     ],
     "language": "python",
     "metadata": {},
     "outputs": [
      {
       "metadata": {},
       "output_type": "pyout",
       "prompt_number": 9,
       "text": [
        "(0, 2.6)"
       ]
      },
      {
       "metadata": {},
       "output_type": "display_data",
       "png": "[encoded data removed]",
       "text": [
        "<matplotlib.figure.Figure at 0x112dd0190>"
       ]
      }
     ],
     "prompt_number": 9
    },
    {
     "cell_type": "code",
     "collapsed": false,
     "input": [],
     "language": "python",
     "metadata": {},
     "outputs": []
    }
   ],
   "metadata": {}
  }
 ]
}