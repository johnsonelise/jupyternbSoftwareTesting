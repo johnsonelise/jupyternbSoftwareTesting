{
 "cells": [
  {
   "cell_type": "markdown",
   "metadata": {},
   "source": [
    "#Datetime\n",
    "\n",
    "There are three major types of datetime\n",
    "\n",
    "* date\n",
    "* time\n",
    "* datetime"
   ]
  },
  {
   "cell_type": "code",
   "execution_count": 1,
   "metadata": {
    "collapsed": false
   },
   "outputs": [],
   "source": [
    "from datetime import date\n",
    "from datetime import time\n",
    "from datetime import datetime"
   ]
  },
  {
   "cell_type": "code",
   "execution_count": 2,
   "metadata": {
    "collapsed": false
   },
   "outputs": [
    {
     "name": "stdout",
     "output_type": "stream",
     "text": [
      "2013-09-22\n",
      "2013-09-22 00:00:00\n",
      "23:09:22\n"
     ]
    }
   ],
   "source": [
    "print date(2013, 9, 22)\n",
    "print datetime(2013, 9, 22)\n",
    "print time(23, 9 , 22)"
   ]
  },
  {
   "cell_type": "markdown",
   "metadata": {},
   "source": [
    "#Introduction\n",
    "\u001b主要的時間表示有幾種格式\n",
    "\n",
    "* 人類容易懂的字串格式, ex: 2007-03-04 20:32:17\n",
    "* 看不太懂, 但是很適合 DB 用的 unix timestemp, 以秒來計, ex: 1373900219.113\n",
    "* 參考: <http://en.wikipedia.org/wiki/ISO_8601>\n",
    "\n",
    "大部份會碰到的情形都是字串和unix timestemp互轉, 而且都是 UTC.\n",
    "\n",
    "Note. 不管前端如何顯示日期時間, 在程式裡最好用統一用 iso 的格式, 不然多人 cowork 會出現混亂."
   ]
  },
  {
   "cell_type": "markdown",
   "metadata": {},
   "source": [
    "## Python 處理原則\n",
    "python 處理時間的原則都是將其轉換成 **object**, 轉成 object 後有一堆 method 可以操作, 當然也包含時間格式的轉換.\n",
    "\n",
    "###初始化的方式"
   ]
  },
  {
   "cell_type": "code",
   "execution_count": 3,
   "metadata": {
    "collapsed": false
   },
   "outputs": [
    {
     "name": "stdout",
     "output_type": "stream",
     "text": [
      "2013-09-22 00:00:00\n",
      "2013-09-22 00:00:00\n"
     ]
    }
   ],
   "source": [
    "from datetime import datetime\n",
    "\n",
    "dt = datetime(2013, 9, 22)    # 直接初始化 Local datetime\n",
    "dt_string = datetime.strptime('2013-9-22', '%Y-%m-%d')  # 給一個字串, 並指定格式去 parse 它\n",
    "\n",
    "print dt\n",
    "print dt_string"
   ]
  },
  {
   "cell_type": "markdown",
   "metadata": {},
   "source": [
    "### 字串轉成 timestemp\n",
    "<http://docs.python.org/2/library/time.html>\n",
    "\n",
    "* ```time.mktime(tuple)``` ```:``` tuple? 其實就是 struct_time, 用它可以轉成秒...\n",
    "* ```datetime.utctimetuple()``` ```:``` datetime 也有"
   ]
  },
  {
   "cell_type": "code",
   "execution_count": 4,
   "metadata": {
    "collapsed": false
   },
   "outputs": [
    {
     "name": "stdout",
     "output_type": "stream",
     "text": [
      "2013-09-22 00:00:00\n",
      "time.struct_time(tm_year=2013, tm_mon=9, tm_mday=22, tm_hour=0, tm_min=0, tm_sec=0, tm_wday=6, tm_yday=265, tm_isdst=-1)\n",
      "1379779200.0\n"
     ]
    }
   ],
   "source": [
    "from datetime import datetime\n",
    "import time    # import time directly\n",
    "\n",
    "dt = datetime(2013, 9 , 22)    # 產生 datetime 物件\n",
    "dt_tuple = dt.timetuple()    # 轉成 \u001btuple = struct_time\n",
    "utc_timestemp = time.mktime(dt_tuple) # 哦~ 得到 timestemp\n",
    "\n",
    "print dt\n",
    "print dt_tuple\n",
    "print utc_timestemp"
   ]
  },
  {
   "cell_type": "code",
   "execution_count": 5,
   "metadata": {
    "collapsed": false
   },
   "outputs": [
    {
     "data": {
      "text/plain": [
       "1379779200.0"
      ]
     },
     "execution_count": 5,
     "metadata": {},
     "output_type": "execute_result"
    }
   ],
   "source": [
    "time.mktime(datetime(2013, 9, 22).timetuple())    # lazy..."
   ]
  },
  {
   "cell_type": "markdown",
   "metadata": {},
   "source": [
    "所以原則就是: \u001bobject -> tuple -> timestemp"
   ]
  },
  {
   "cell_type": "markdown",
   "metadata": {},
   "source": [
    "###Timestemp 轉成字串\n",
    "從 db 裡取到的值大部份都是 timestemp, 但是人看不懂, 所以就需要轉換\n",
    "\n"
   ]
  },
  {
   "cell_type": "code",
   "execution_count": 6,
   "metadata": {
    "collapsed": false
   },
   "outputs": [
    {
     "data": {
      "text/plain": [
       "datetime.datetime(2015, 6, 7, 0, 19, 30, 472127)"
      ]
     },
     "execution_count": 6,
     "metadata": {},
     "output_type": "execute_result"
    }
   ],
   "source": [
    "import time\n",
    "from datetime import datetime\n",
    "\n",
    "t = time.time()    # 假設現在的時間 \n",
    "datetime.fromtimestamp(t)"
   ]
  },
  {
   "cell_type": "markdown",
   "metadata": {},
   "source": [
    "###官方有張表整理了如何轉換兩種格式"
   ]
  },
  {
   "cell_type": "code",
   "execution_count": 7,
   "metadata": {
    "collapsed": false
   },
   "outputs": [
    {
     "name": "stdout",
     "output_type": "stream",
     "text": [
      "1433607570.52\n",
      "time.struct_time(tm_year=2015, tm_mon=6, tm_mday=6, tm_hour=16, tm_min=19, tm_sec=30, tm_wday=5, tm_yday=157, tm_isdst=0)\n",
      "time.struct_time(tm_year=2015, tm_mon=6, tm_mday=7, tm_hour=0, tm_min=19, tm_sec=30, tm_wday=6, tm_yday=158, tm_isdst=0)\n",
      "1433607570\n",
      "1433607570.0\n"
     ]
    }
   ],
   "source": [
    "import time\n",
    "from datetime import datetime\n",
    "import calendar\n",
    "\n",
    "t = time.time()\n",
    "print t\n",
    "print time.gmtime(t)    # timestemp to struct_time in UTC\n",
    "print time.localtime(t) # timestemp to struct_time in Local\n",
    "\n",
    "struct_t_utc = time.gmtime(t)\n",
    "struct_t_local = time.localtime(t)\n",
    "\n",
    "print calendar.timegm(struct_t_utc)    # struct_time to timestemp in UTC\n",
    "print time.mktime(struct_t_local)      # struct_time to timestemp in Local"
   ]
  },
  {
   "cell_type": "markdown",
   "metadata": {},
   "source": [
    "* 由以上可知, struct_time 是轉換格式重要的媒介, 先轉成 struct_time 就對了\n",
    "* 在字串表示的型式上 UTC 和 Local 是有差異的, 要注意這點\n",
    "* **struct_time_utc <--> timestemp <--> struct_time_local**"
   ]
  },
  {
   "cell_type": "code",
   "execution_count": 8,
   "metadata": {
    "collapsed": false
   },
   "outputs": [],
   "source": [
    "import time"
   ]
  },
  {
   "cell_type": "code",
   "execution_count": 9,
   "metadata": {
    "collapsed": true
   },
   "outputs": [],
   "source": [
    "t = time.strptime('2015-01-01 12:00:00', '%Y-%m-%d %H:%M:%S')"
   ]
  },
  {
   "cell_type": "code",
   "execution_count": 10,
   "metadata": {
    "collapsed": false
   },
   "outputs": [
    {
     "data": {
      "text/plain": [
       "time.struct_time(tm_year=2015, tm_mon=1, tm_mday=1, tm_hour=12, tm_min=0, tm_sec=0, tm_wday=3, tm_yday=1, tm_isdst=-1)"
      ]
     },
     "execution_count": 10,
     "metadata": {},
     "output_type": "execute_result"
    }
   ],
   "source": [
    "t"
   ]
  },
  {
   "cell_type": "code",
   "execution_count": 13,
   "metadata": {
    "collapsed": false
   },
   "outputs": [],
   "source": [
    "unix_t = time.mktime(t)"
   ]
  },
  {
   "cell_type": "code",
   "execution_count": 18,
   "metadata": {
    "collapsed": false
   },
   "outputs": [
    {
     "data": {
      "text/plain": [
       "time.struct_time(tm_year=2015, tm_mon=1, tm_mday=1, tm_hour=12, tm_min=0, tm_sec=0, tm_wday=3, tm_yday=1, tm_isdst=0)"
      ]
     },
     "execution_count": 18,
     "metadata": {},
     "output_type": "execute_result"
    }
   ],
   "source": [
    "struct_t = time.localtime(unix_t)\n",
    "struct_t"
   ]
  },
  {
   "cell_type": "code",
   "execution_count": 20,
   "metadata": {
    "collapsed": false
   },
   "outputs": [
    {
     "data": {
      "text/plain": [
       "'2015-01-01 12:00:00'"
      ]
     },
     "execution_count": 20,
     "metadata": {},
     "output_type": "execute_result"
    }
   ],
   "source": [
    "\n",
    "time.strftime('%Y-%m-%d %H:%M:%S', struct_t)"
   ]
  },
  {
   "cell_type": "code",
   "execution_count": 15,
   "metadata": {
    "collapsed": false
   },
   "outputs": [
    {
     "name": "stdout",
     "output_type": "stream",
     "text": [
      "Fri\n"
     ]
    }
   ],
   "source": [
    "from datetime import date\n",
    "from datetime import timedelta\n",
    "import time\n",
    "\n",
    "t = time.strptime('2015/10/22', '%Y/%m/%d')\n",
    "old_day = date.fromtimestamp(time.mktime(t))\n",
    "a_day = timedelta(days=1)\n",
    "new_day = old_day + a_day\n",
    "\n",
    "print new_day.strftime('%a')\n"
   ]
  },
  {
   "cell_type": "markdown",
   "metadata": {},
   "source": [
    "#Appendix"
   ]
  },
  {
   "cell_type": "markdown",
   "metadata": {},
   "source": [
    "##Date object compare"
   ]
  },
  {
   "cell_type": "code",
   "execution_count": 23,
   "metadata": {
    "collapsed": false
   },
   "outputs": [
    {
     "data": {
      "text/plain": [
       "False"
      ]
     },
     "execution_count": 23,
     "metadata": {},
     "output_type": "execute_result"
    }
   ],
   "source": [
    "dt_object = date(2015, 12, 11)\n",
    "dt_object2 = date(2013, 9, 22)\n",
    "dt_object3 = date(2013, 9 ,22)\n",
    "dt_object == dt_object2    # object can compare direct"
   ]
  },
  {
   "cell_type": "code",
   "execution_count": 24,
   "metadata": {
    "collapsed": false
   },
   "outputs": [
    {
     "data": {
      "text/plain": [
       "True"
      ]
     },
     "execution_count": 24,
     "metadata": {},
     "output_type": "execute_result"
    }
   ],
   "source": [
    "dt_object2 == dt_object3"
   ]
  },
  {
   "cell_type": "markdown",
   "metadata": {},
   "source": [
    "##Timetuple/Struct_time"
   ]
  },
  {
   "cell_type": "code",
   "execution_count": null,
   "metadata": {
    "collapsed": false
   },
   "outputs": [],
   "source": [
    "time_t = dt_object.timetuple()\n",
    "print time_t    # weekday is wrong!?\n",
    "[i for i in time_t]"
   ]
  },
  {
   "cell_type": "code",
   "execution_count": null,
   "metadata": {
    "collapsed": false
   },
   "outputs": [],
   "source": [
    "import time\n",
    "print dt_object.fromtimestamp(time.time())"
   ]
  },
  {
   "cell_type": "markdown",
   "metadata": {},
   "source": [
    "#Subtract"
   ]
  },
  {
   "cell_type": "code",
   "execution_count": 35,
   "metadata": {
    "collapsed": false
   },
   "outputs": [
    {
     "name": "stdout",
     "output_type": "stream",
     "text": [
      "2015-12-11 00:00:00\n",
      "2015-12-10 00:00:00\n"
     ]
    }
   ],
   "source": [
    "from datetime import datetime\n",
    "from datetime import timedelta\n",
    "\n",
    "dt1 = datetime(2015, 12, 11)\n",
    "dt2 = datetime(2015, 12, 10)\n",
    "\n",
    "print dt1\n",
    "print dt2"
   ]
  },
  {
   "cell_type": "code",
   "execution_count": 40,
   "metadata": {
    "collapsed": false
   },
   "outputs": [
    {
     "name": "stdout",
     "output_type": "stream",
     "text": [
      "1 day, 0:00:00\n",
      "1\n",
      "0\n",
      "86400.0\n"
     ]
    }
   ],
   "source": [
    "delta = dt1 - dt2\n",
    "print delta\n",
    "print delta.days\n",
    "print delta.seconds\n",
    "print delta.total_seconds()"
   ]
  },
  {
   "cell_type": "markdown",
   "metadata": {},
   "source": [
    "# Add and Subtract"
   ]
  },
  {
   "cell_type": "code",
   "execution_count": 46,
   "metadata": {
    "collapsed": false
   },
   "outputs": [
    {
     "name": "stdout",
     "output_type": "stream",
     "text": [
      "2015-12-17 00:00:00\n",
      "2015-12-16 00:00:00\n",
      "<type 'datetime.datetime'>\n"
     ]
    }
   ],
   "source": [
    "a_day = timedelta(1)\n",
    "\n",
    "dt1 = dt1 + a_day\n",
    "dt2 = dt1 - a_day\n",
    "\n",
    "print dt1\n",
    "print dt2\n",
    "print type(dt2)"
   ]
  },
  {
   "cell_type": "markdown",
   "metadata": {},
   "source": [
    "# Timezone"
   ]
  },
  {
   "cell_type": "code",
   "execution_count": 47,
   "metadata": {
    "collapsed": false
   },
   "outputs": [
    {
     "name": "stdout",
     "output_type": "stream",
     "text": [
      "+0800\n"
     ]
    }
   ],
   "source": [
    "import time\n",
    "t = time.localtime()\n",
    "timezone = time.strftime('%z', t)\n",
    "\n",
    "print timezone"
   ]
  },
  {
   "cell_type": "code",
   "execution_count": null,
   "metadata": {
    "collapsed": true
   },
   "outputs": [],
   "source": []
  }
 ],
 "metadata": {
  "celltoolbar": "Raw Cell Format",
  "kernelspec": {
   "display_name": "Python 2",
   "language": "python",
   "name": "python2"
  },
  "language_info": {
   "codemirror_mode": {
    "name": "ipython",
    "version": 2
   },
   "file_extension": ".py",
   "mimetype": "text/x-python",
   "name": "python",
   "nbconvert_exporter": "python",
   "pygments_lexer": "ipython2",
   "version": "2.7.9"
  }
 },
 "nbformat": 4,
 "nbformat_minor": 0
}
