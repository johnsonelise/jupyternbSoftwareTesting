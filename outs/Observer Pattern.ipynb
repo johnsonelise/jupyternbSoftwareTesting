{
 "cells": [
  {
   "cell_type": "code",
   "execution_count": 31,
   "metadata": {
    "collapsed": false
   },
   "outputs": [],
   "source": [
    "class ISubject:\n",
    "    def registerObserver(self, observer):\n",
    "        pass\n",
    "    def removeObserver(self, observer):\n",
    "        pass\n",
    "    def notifyObserver(self):\n",
    "        pass\n",
    "    \n",
    "class IObserver:\n",
    "    def update(self, temp, humidity, pressure):\n",
    "        pass\n",
    "    \n",
    "class IDisplayElement:\n",
    "    def display(self):\n",
    "        pass\n",
    "\n",
    "class WeatherData(ISubject):\n",
    "    def __init__(self):\n",
    "        self.temp = 0\n",
    "        self.humidity = 0\n",
    "        self.pressure = 0\n",
    "        self.observers = []\n",
    "    \n",
    "    def registerObserver(self, observer):\n",
    "        self.observers.append(observer)\n",
    "        \n",
    "    def removeObserver(self, observer):\n",
    "        self.observers.remove(observer)\n",
    "        \n",
    "    def notifyObserver(self):\n",
    "        for observer in self.observers:\n",
    "            observer.update(self.temp, self.humidity, self.pressure)\n",
    "            \n",
    "    def measurementsChanged(self):\n",
    "        self.notifyObserver()\n",
    "        \n",
    "    def setMeasurements(self, temp, humidity, pressure):\n",
    "        self.temp = temp\n",
    "        self.humidity = humidity\n",
    "        self.pressure = pressure\n",
    "        self.measurementsChanged()"
   ]
  },
  {
   "cell_type": "code",
   "execution_count": 36,
   "metadata": {
    "collapsed": true
   },
   "outputs": [],
   "source": [
    "# create the board\n",
    "class DisplayI(IObserver, IDisplayElement):\n",
    "    def __init__(self, weatherData):\n",
    "        self.temp = 0\n",
    "        self.humidity = 0\n",
    "        self.pressure = 0\n",
    "        self.weather_data = weatherData  # subscribe weatcherData\n",
    "        self.weather_data.registerObserver(self)\n",
    "        \n",
    "    def update(self, temp, humidity, pressure):\n",
    "        self.temp = temp\n",
    "        self.humidity = humidity\n",
    "        self.pressure = pressure\n",
    "        self.display()\n",
    "    \n",
    "    def display(self):\n",
    "        print \"[I]temp: {0}, humidity{1}, pressure{2}\".format(self.temp, self.humidity, self.pressure)\n",
    "        \n",
    "class DisplayII(IObserver, IDisplayElement):\n",
    "    def __init__(self, weatherData):\n",
    "        self.temp = 0\n",
    "        self.humidity = 0\n",
    "        self.pressure = 0\n",
    "        self.weather_data = weatherData\n",
    "        self.weather_data.registerObserver(self)  # subscribe weatcherData\n",
    "        \n",
    "    def update(self, temp, humidity, pressure):\n",
    "        self.temp = temp\n",
    "        self.humidity = humidity\n",
    "        self.pressure = pressure\n",
    "        self.display()\n",
    "    \n",
    "    def display(self):\n",
    "        print \"[II]temp: {0}, humidity{1}, pressure{2}\".format(self.temp, self.humidity, self.pressure)\n",
    "        "
   ]
  },
  {
   "cell_type": "code",
   "execution_count": 37,
   "metadata": {
    "collapsed": false
   },
   "outputs": [
    {
     "name": "stdout",
     "output_type": "stream",
     "text": [
      "[I]temp: 10, humidity11, pressure12\n",
      "[II]temp: 10, humidity11, pressure12\n",
      "[I]temp: 0, humidity0, pressure0\n",
      "[II]temp: 0, humidity0, pressure0\n"
     ]
    }
   ],
   "source": [
    "# work station\n",
    "weatherData = WeatherData()\n",
    "\n",
    "displayI = DisplayI(weatherData)\n",
    "displayII = DisplayII(weatherData)\n",
    "\n",
    "weatherData.setMeasurements(10,11,12)\n",
    "weatherData.setMeasurements(0,0,0)"
   ]
  },
  {
   "cell_type": "code",
   "execution_count": null,
   "metadata": {
    "collapsed": true
   },
   "outputs": [],
   "source": []
  }
 ],
 "metadata": {
  "kernelspec": {
   "display_name": "Python 2",
   "language": "python",
   "name": "python2"
  },
  "language_info": {
   "codemirror_mode": {
    "name": "ipython",
    "version": 2
   },
   "file_extension": ".py",
   "mimetype": "text/x-python",
   "name": "python",
   "nbconvert_exporter": "python",
   "pygments_lexer": "ipython2",
   "version": "2.7.9"
  }
 },
 "nbformat": 4,
 "nbformat_minor": 0
}
