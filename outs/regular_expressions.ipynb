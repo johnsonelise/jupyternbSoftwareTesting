{
 "cells": [
  {
   "cell_type": "code",
   "execution_count": 2,
   "metadata": {
    "collapsed": true
   },
   "outputs": [],
   "source": [
    "import re"
   ]
  },
  {
   "cell_type": "markdown",
   "metadata": {},
   "source": [
    "# 1. Simple Matches"
   ]
  },
  {
   "cell_type": "code",
   "execution_count": 8,
   "metadata": {
    "collapsed": false
   },
   "outputs": [
    {
     "name": "stdout",
     "output_type": "stream",
     "text": [
      "a\n",
      "ab\n",
      "abbb\n"
     ]
    }
   ],
   "source": [
    "lst = [\n",
    "    'a',\n",
    "    'ab',\n",
    "    'abbb',\n",
    "]\n",
    "for item in lst:\n",
    "    m = re.match('ab*', item)\n",
    "    if m is not None:\n",
    "        print m.group(0)"
   ]
  },
  {
   "cell_type": "markdown",
   "metadata": {},
   "source": [
    "# 2. Group Matches"
   ]
  },
  {
   "cell_type": "code",
   "execution_count": 14,
   "metadata": {
    "collapsed": false
   },
   "outputs": [
    {
     "name": "stdout",
     "output_type": "stream",
     "text": [
      "('aaa', 'bbbbb')\n",
      "aaabbbbb\n",
      "aaa\n",
      "bbbbb\n"
     ]
    }
   ],
   "source": [
    "m = re.match('(a*)(b*)', 'aaabbbbb')\n",
    "print m.groups()\n",
    "print m.group(0)\n",
    "print m.group(1)\n",
    "print m.group(2)"
   ]
  },
  {
   "cell_type": "markdown",
   "metadata": {},
   "source": [
    "# 3. finditer"
   ]
  },
  {
   "cell_type": "code",
   "execution_count": 18,
   "metadata": {
    "collapsed": false
   },
   "outputs": [
    {
     "name": "stdout",
     "output_type": "stream",
     "text": [
      "('abb',)\n",
      "('ab',)\n",
      "('a',)\n",
      "('abbb',)\n"
     ]
    }
   ],
   "source": [
    "for m in re.finditer('(ab*)', 'abbabaabbb'):\n",
    "    print m.groups()"
   ]
  },
  {
   "cell_type": "markdown",
   "metadata": {},
   "source": [
    "# 4. Phone Number\n",
    "\n",
    "- named groups\n",
    "- group\n",
    "- repeats"
   ]
  },
  {
   "cell_type": "code",
   "execution_count": 29,
   "metadata": {
    "collapsed": false
   },
   "outputs": [
    {
     "name": "stdout",
     "output_type": "stream",
     "text": [
      "03\n",
      "9123 4567\n",
      "('03', '9123 4567')\n",
      "(03) 9123 4567\n",
      "03\n",
      "9123 4567\n"
     ]
    }
   ],
   "source": [
    "m = re.match(r'\\((?P<areacode>\\d{2})\\)\\s(?P<number>\\d{4} \\d{4})', '(03) 9123 4567')\n",
    "print m.group('areacode')\n",
    "print m.group('number')\n",
    "print m.groups()\n",
    "print m.group(0)\n",
    "print m.group(1)\n",
    "print m.group(2)"
   ]
  }
 ],
 "metadata": {
  "kernelspec": {
   "display_name": "Python 2",
   "language": "python",
   "name": "python2"
  },
  "language_info": {
   "codemirror_mode": {
    "name": "ipython",
    "version": 2
   },
   "file_extension": ".py",
   "mimetype": "text/x-python",
   "name": "python",
   "nbconvert_exporter": "python",
   "pygments_lexer": "ipython2",
   "version": "2.7.10"
  }
 },
 "nbformat": 4,
 "nbformat_minor": 0
}
