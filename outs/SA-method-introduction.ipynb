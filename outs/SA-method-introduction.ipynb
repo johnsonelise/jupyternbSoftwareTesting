{
 "cells": [
  {
   "cell_type": "code",
   "execution_count": 2,
   "metadata": {
    "collapsed": true,
    "slideshow": {
     "slide_type": "skip"
    }
   },
   "outputs": [],
   "source": [
    "import numpy as np\n",
    "import matplotlib.pyplot as plt\n",
    "\n",
    "%matplotlib inline "
   ]
  },
  {
   "cell_type": "markdown",
   "metadata": {
    "slideshow": {
     "slide_type": "slide"
    }
   },
   "source": [
    "![](fig/fhnw_fhnw_logo_en.png)\n",
    "\n",
    "\n",
    "## Simulated Annealing Method\n",
    "\n",
    "### Introduction & possible applications\n",
    "\n",
    "\n",
    "\n",
    "Martin Guggisberg  \n",
    "University of Applied Sciences and Arts   \n",
    "Northwestern Switzerland   \n",
    "Basel\n",
    "\n",
    "martin.guggisberg@fhnw.ch\n"
   ]
  },
  {
   "cell_type": "markdown",
   "metadata": {
    "slideshow": {
     "slide_type": "slide"
    }
   },
   "source": [
    "\n",
    "## Simulated Annealing Method\n",
    "\n",
    "### Agenda\n",
    "\n",
    "1. Introduction and basic idea \n",
    "1. Traveling Salesman Problem\n",
    "1. Important contributions\n",
    "1. SA for Regression \n",
    "1. Outlook \n",
    "    - SA for LSM American Options method\n",
    "    - Quantum annealing "
   ]
  },
  {
   "cell_type": "markdown",
   "metadata": {
    "slideshow": {
     "slide_type": "slide"
    }
   },
   "source": [
    "##  Annealing process from a physics perspective"
   ]
  },
  {
   "cell_type": "markdown",
   "metadata": {
    "slideshow": {
     "slide_type": "slide"
    }
   },
   "source": [
    "\n",
    "\n",
    "\n",
    "## States of matter\n",
    "\n",
    "![](fig/maxresdefault.jpg)\n",
    "\n",
    "[YouTube States of Matter - solids, liquids and gases](https://www.youtube.com/watch?v=21CR01rlmv4)"
   ]
  },
  {
   "cell_type": "markdown",
   "metadata": {
    "slideshow": {
     "slide_type": "slide"
    }
   },
   "source": [
    "### Thermodynamic equilibrium\n",
    "\n",
    "![](fig/Termo_equi.jpg)\n",
    "\n"
   ]
  },
  {
   "cell_type": "markdown",
   "metadata": {},
   "source": [
    "\n",
    "### Annealing technics in Material Sciences\n",
    "\n",
    "#### stainless steel production\n",
    "\n",
    "![](fig/steel.png)\n",
    "\n",
    "\n",
    "Hardness and tensile strength of the steel is related to the amount of carbon\n",
    "\n",
    "Exact anneling method / heating temperature vs. time graph is an industry secret\n",
    "\n",
    "\n",
    "\n",
    "\n"
   ]
  },
  {
   "cell_type": "markdown",
   "metadata": {
    "slideshow": {
     "slide_type": "slide"
    }
   },
   "source": [
    "* Annealing occurs by the diffusion of atoms within a solid material, so that the material progresses towards its equilibrium state. \n",
    "\n",
    "* Heat increases the rate of diffusion by providing the energy needed to break bonds. \n",
    "\n",
    "* The movement of atoms has the effect of redistributing and eradicating the dislocations in metals and in ceramics.\n",
    "\n",
    "![](fig/vac_dis.png)\n"
   ]
  },
  {
   "cell_type": "markdown",
   "metadata": {
    "slideshow": {
     "slide_type": "slide"
    }
   },
   "source": [
    "### Annealing process in Surface Sciences\n",
    "\n",
    "### Si(111) 7x7 surface\n",
    "\n",
    "![](fig/si7x7.png)\n",
    "\n",
    "<small>Takayanagi, K., Tanishiro, Y., Takahashi, M., & Takahashi, S. (1985). Structural analysis of Si (111)‐7× 7 by UHV‐transmission electron diffraction and microscopy. Journal of Vacuum Science & Technology A: Vacuum, Surfaces, and Films, 3(3), 1502-1506.</small>\n",
    "\n",
    "\n",
    "\n"
   ]
  },
  {
   "cell_type": "markdown",
   "metadata": {
    "slideshow": {
     "slide_type": "slide"
    }
   },
   "source": [
    "Preparing Si(111) 7x7 surface trough a controlled annealing procedure\n",
    "\n",
    "- First heating the Si crystal for 90 seconds up to ~ $1200^\\circ$ C\n",
    "\n",
    "- decreasing temperature from $900^\\circ$ with $0.05^\\circ$ C/sec \n",
    "![](fig/si-afm.png)\n",
    "<small>Guggisberg, M., Pfeiffer, O., Schär, S., Barwich, V., Bammerlin, M., Loppacher, C. & Meyer, E. (2001). Contrast inversion in nc-AFM on Si (111) 7× 7 due to short-range electrostatic interactions. Applied Physics A: Materials Science & Processing, 72(7), S19-S22.</small>"
   ]
  },
  {
   "cell_type": "markdown",
   "metadata": {
    "slideshow": {
     "slide_type": "slide"
    }
   },
   "source": [
    "## Simulated annealing (SA) \n",
    "\n",
    "### is a probabilistic technique for approximating the global optimum of a given function. \n",
    "### special for higher dimensions\n",
    "![](fig/gmin.png)"
   ]
  },
  {
   "cell_type": "markdown",
   "metadata": {
    "slideshow": {
     "slide_type": "slide"
    }
   },
   "source": [
    "### Basic concept of Simulated Annealing \n",
    "\n",
    "* Relaxation into minmal state\n",
    "* configurations with a probability $\\propto \\exp(- E / k T)$ are choosen\n",
    "\n",
    "![](fig/sa-prinz.png)\n",
    "\n",
    "<small>Metropolis, N., Rosenbluth, A. W., Rosenbluth, M. N., Teller, A. H., & Teller, E. (1953). Equation of state calculations by fast computing machines. The journal of chemical physics, 21(6), 1087-1092.</small>"
   ]
  },
  {
   "cell_type": "markdown",
   "metadata": {
    "slideshow": {
     "slide_type": "notes"
    }
   },
   "source": [
    "## Simulated annealing\n",
    "The simulated annealing algorithm was independently devel- oped by Kirkpatrick et al. (1983) and Cerny (1985). It is inspired by the processes which occur during the cooling of physical systems and is a simple but powerful optimisation technique. \n",
    "\n",
    "When cooling is applied and the system is given sufficient time at each temperature, the distribution of states visited will shift towards – and finally become – the very low energy crystalline state (van Laarhoven and Aarts, 1988).\n",
    "\n",
    "\n",
    "Simulated annealing mimics this process: in the same way that the physical system seeks the state of minimal energy, it seeks the solution of minimal cost. \n",
    "\n",
    "\n",
    "The algorithm will start with an initial, often randomly generated solution  and perturb it according to some neighbourhood function , to propose an updated solution. \n",
    "\n",
    "\n",
    "Similarly to how particles will always adopt a state that is an improvement over the current one, the algorithm will always move to a new state if it has lower cost. \n",
    "\n",
    "However, also if a new state has higher cost, in accordance with the physical analogy it will be occasionally accepted with probability:\n",
    "\n",
    "$$P_{acc} =  \\exp(-\\Delta E / k T)$$\n",
    "\n",
    "T is decreased according to a decrement rule known as the cooling schedule. The cooling schedule is often chosen as a geometric law of the form:\n",
    "\n",
    "$$T_{n+1} =\\alpha T_n\\mbox{, } 0<\\alpha<1$$"
   ]
  },
  {
   "cell_type": "markdown",
   "metadata": {
    "slideshow": {
     "slide_type": "subslide"
    }
   },
   "source": [
    "### The Metropolis Procedure (Maximize)\n",
    "\n",
    "The method starts with a point $x_i$ which can choose at random or with some prejudice. We now wish to generate the next point $x_j$.\n",
    "\n",
    "* Choose $x_t$ uniformly in a neighborhood of $x_i$ , i.e., $-\\Delta x + x_i < x_t < \\Delta x + x_i $.\n",
    "\n",
    "* Then examine $f(x_i)$ and $f(x_t)$\n",
    "\n",
    "* if $f(x_t)$ > $f(x_i)$, accept $x_t$ and put $x_{i+1}=x_t$ \n",
    "\n",
    "* if $f(x_t)$ < $f(x_i)$, generate a new random number $r$ uniformly in $[0,1]$.\n",
    "\n",
    "    * if $r<f(x_t)/f(x_i)$, set $x_{i+1}=x_t$ \n",
    "    * if $r>f(x_t)/f(x_i)$, set $x_{i+1}=x_i$ \n",
    "\n",
    "$x_{i+1}$ is next random point (note it may be identical to $x_i$). Eventually, this produces a set of points distributed ``according to $f(x)$''. \n",
    "\n",
    "\n",
    "[Web Link](http://www.new-npac.org/projects/cdroms/cewes-1998-05/foilsets/cps615ni95/node54.html)"
   ]
  },
  {
   "cell_type": "markdown",
   "metadata": {
    "slideshow": {
     "slide_type": "slide"
    }
   },
   "source": [
    "### Thermodynamical approach to the traveling salesman\n",
    "\n",
    "- statistical system (cities and distances)\n",
    "- study of different configurations (e.g. cities in a circle)\n",
    "- get quite close to the optimal solution of the TSP\n",
    "\n",
    "**Černý, V. (1985). Thermodynamical approach to the traveling salesman problem: An efficient simulation algorithm. Journal of optimization theory and applications, 45(1), 41-51.** [Link](http://link.springer.com/article/10.1007%2FBF00940812?LI=true)\n"
   ]
  },
  {
   "cell_type": "markdown",
   "metadata": {
    "collapsed": true,
    "slideshow": {
     "slide_type": "slide"
    }
   },
   "source": [
    "### TSP example with 50 Cities in Europe\n",
    "2010 Emmanuel Goossaert \n",
    "<small>http://codecapsule.com/2010/04/06/simulated-annealing-traveling-salesman/</small>\n",
    "![](fig/tsp_cities.png)"
   ]
  },
  {
   "cell_type": "markdown",
   "metadata": {
    "collapsed": true,
    "slideshow": {
     "slide_type": "slide"
    }
   },
   "source": [
    "### Best found solution after more than 400'000 iterations\n",
    "\n",
    "Initial distance:        75506 km,\n",
    "Optimal distance:        23627 km  \n",
    "Improvement:                69 %\n",
    "![](fig/tsp_cities_c50.png)"
   ]
  },
  {
   "cell_type": "markdown",
   "metadata": {
    "collapsed": true,
    "slideshow": {
     "slide_type": "slide"
    }
   },
   "source": [
    "## Solution vs. iteration Graph\n",
    "\n",
    "### Finding an ideal temperature range\n",
    "\n",
    "![](fig/tsp_distances.png)"
   ]
  },
  {
   "cell_type": "markdown",
   "metadata": {
    "slideshow": {
     "slide_type": "slide"
    }
   },
   "source": [
    "# Important SA contributions"
   ]
  },
  {
   "cell_type": "markdown",
   "metadata": {
    "slideshow": {
     "slide_type": "slide"
    }
   },
   "source": [
    "### Kirkpatrick S. et al. Science article 1983\n",
    "\n",
    "Simulated Annealing for \n",
    "- finding optimal design of computers\n",
    "- answering thermodynamic questions, e.g. what happens at Temperature close to 0 ?\n",
    "- finding spin relaxation (ising-model)\n",
    "\n",
    "<small>Kirkpatrick, S., Gelatt, C. D., & Vecchi, M. P. (1983). Optimization by simulated annealing. science, 220(4598), 671-680.</small>[Link](http://science.sciencemag.org/content/220/4598/671)"
   ]
  },
  {
   "cell_type": "markdown",
   "metadata": {
    "slideshow": {
     "slide_type": "slide"
    }
   },
   "source": [
    "## a thermodynamic model\n",
    "\n",
    "$\\uparrow - \\downarrow - \\uparrow - \\uparrow - \\downarrow - \\uparrow - \\uparrow - \\downarrow - \\uparrow $ \n",
    "\n",
    "1-dim spin lattice  (up/down),N spins $\\to$ $2^N$ configurations\n",
    "\n",
    "In equilibrium, the system randomly changes its states from one \n",
    "possible configuration to another \n",
    "\n",
    "the probability of finding the system in a particular configuration is given by the Boltzmann- Gibbs distribution\n",
    "\n",
    "$$ P(conf) = C \\exp (- E_{conf} / T) $$\n",
    "\n",
    "The equilibrium is then\n",
    "\n",
    "$$\\bar{E} = \\frac{\n",
    "\\sum_{conf} E_{conf} \\exp(-E_{conf}/T)\n",
    "}{\n",
    "\\sum_{conf}\\exp(-E_{conf}/T)\n",
    "}$$\n"
   ]
  },
  {
   "cell_type": "markdown",
   "metadata": {
    "slideshow": {
     "slide_type": "slide"
    }
   },
   "source": [
    "### 1-dim Ising Model\n",
    "\n",
    "$\\uparrow - \\downarrow - \\uparrow - \\uparrow - \\downarrow - \\uparrow - \\uparrow - \\downarrow - \\uparrow $ \n",
    "\n",
    "configuration $\\sigma = (\\sigma_1, \\sigma_2, \\cdots , \\sigma_N)$\n",
    "\n",
    "Energy Function (Hamiltonian)\n",
    "\n",
    "$H(\\sigma) = - \\sum_{<i,j>}E \\sigma_i \\sigma_j - \\sum_i J \\sigma_i$\n",
    "\n",
    "E is the coupling parameter between neighbours\n",
    "\n",
    "\n",
    "J is the coupling to an external field\n",
    "\n",
    "\n",
    "[Link](http://www.math.ubc.ca/~marcus/Math601D_2015/cipra_ising.pdf)\n"
   ]
  },
  {
   "cell_type": "markdown",
   "metadata": {
    "slideshow": {
     "slide_type": "subslide"
    }
   },
   "source": [
    "## The Ising model could give an answer to the spontanous magnetization of feromagnets\n",
    "\n",
    "\n",
    "![](fig/spontmag.png)\n",
    "\n"
   ]
  },
  {
   "cell_type": "markdown",
   "metadata": {
    "slideshow": {
     "slide_type": "slide"
    }
   },
   "source": [
    "### Generalized simulated annealing for global optimization\n",
    "\n",
    "### GenSA\n",
    "\n",
    "\n",
    "**Xiang, Y., Gubian, S., Suomela, B., & Hoeng, J. (2013). Generalized simulated annealing for global optimization: the GenSA Package. The R Journal, 5(1), 13-29.** [Link](https://journal.r-project.org/archive/2013-1/xiang-gubian-suomela-etal.pdf)\n",
    "\n",
    "\n",
    "- [R Package GenSA by Brad Efron and R. Tibshirani](https://cran.r-project.org/web/packages/GSA/GSA.pdf)\n",
    "- [Python Package PyGenSA by Sylvain Gubian](https://github.com/sgubianpm/pygensa)\n",
    "- [Python Modul SimulatedAnnealing](https://github.com/skylergrammer/SimulatedAnnealing)"
   ]
  },
  {
   "cell_type": "markdown",
   "metadata": {
    "slideshow": {
     "slide_type": "slide"
    }
   },
   "source": [
    "\n",
    "- step (0): Initialize the iteration count and select a start temperature.\n",
    "<br>\n",
    "\n",
    "- step (1): Set an initial feasible solution  $X_i$ with $E_i$.\n",
    "<br>\n",
    "\n",
    "- step(2): If the equilibrium condition is satisfied, go to Step (5); else execute steps (3) and (4).\n",
    "<br>\n",
    "\n",
    "- step (3): Generate a trial solution $X_j, E_j$, as a neighbor to $X_i$. \n",
    "<br>\n",
    "\n",
    "- step (4): Acceptance test: If $E_j \\lt E_i$: accept the trial solution, set $X_i = X_j$.  Otherwise: if $\\exp[(E_i- E_j)/Cp] \\gt U(0,1)$ set $X_i = X_j$. go to step (2).\n",
    "<br>\n",
    "\n",
    "- step (5) If the stopping criterion is satisfied then stop; else decrease the temperature and go to step (2)."
   ]
  },
  {
   "cell_type": "markdown",
   "metadata": {
    "collapsed": true,
    "slideshow": {
     "slide_type": "slide"
    }
   },
   "source": [
    "### Global optimization can be a hard problem\n",
    "\n",
    "![](fig/global_max.png)"
   ]
  },
  {
   "cell_type": "markdown",
   "metadata": {
    "slideshow": {
     "slide_type": "slide"
    }
   },
   "source": [
    "## A test energy function \n",
    "<br>\n",
    "\n",
    "$$\\huge f: \\mathbb{R}^N \\to \\mathbb{R}$$\n",
    "\n",
    "<br>\n",
    "\n",
    "$$\\large \\mathbf{\\vec{x}} \\mapsto \\sum \\mathbf{\\vec{x}} \\odot \\mathbf{\\vec{x}} - 10 \\cdot \\cos(2 \\cdot \\pi \\cdot \\mathbf{\\vec{x}})\n",
    "+ 10 \\cdot \\lvert{\\mathbf{\\vec{x}}}\\rvert$$\n",
    "\n",
    "\n",
    "\n",
    "<br>\n",
    "\n",
    "$\\odot$: componentwise multiplication\n",
    "\n",
    "$\\sum$: sum of vector components"
   ]
  },
  {
   "cell_type": "markdown",
   "metadata": {
    "slideshow": {
     "slide_type": "slide"
    }
   },
   "source": [
    "### in 1 dim\n",
    "\n",
    "![](fig/g1dmin.png)"
   ]
  },
  {
   "cell_type": "markdown",
   "metadata": {
    "slideshow": {
     "slide_type": "slide"
    }
   },
   "source": [
    "### in 2 dim\n",
    "\n",
    "![](fig/g2dmin.png)"
   ]
  },
  {
   "cell_type": "code",
   "execution_count": 3,
   "metadata": {
    "collapsed": true,
    "slideshow": {
     "slide_type": "notes"
    }
   },
   "outputs": [],
   "source": [
    "func = lambda x: np.sum(x * x - 10 * np.cos(2 * np.pi * x)) + 10 * np.size(x)"
   ]
  },
  {
   "cell_type": "code",
   "execution_count": 4,
   "metadata": {
    "slideshow": {
     "slide_type": "notes"
    }
   },
   "outputs": [
    {
     "ename": "FileNotFoundError",
     "evalue": "[Errno 2] No such file or directory: 'fig/g1dmin.png'",
     "output_type": "error",
     "traceback": [
      "\u001b[1;31m---------------------------------------------------------------------------\u001b[0m",
      "\u001b[1;31mFileNotFoundError\u001b[0m                         Traceback (most recent call last)",
      "\u001b[1;32m~\\AppData\\Local\\Temp/ipykernel_11372/1903907535.py\u001b[0m in \u001b[0;36m<module>\u001b[1;34m\u001b[0m\n\u001b[0;32m     12\u001b[0m \u001b[1;33m\u001b[0m\u001b[0m\n\u001b[0;32m     13\u001b[0m \u001b[0mplt\u001b[0m\u001b[1;33m.\u001b[0m\u001b[0mplot\u001b[0m\u001b[1;33m(\u001b[0m\u001b[0mx\u001b[0m\u001b[1;33m,\u001b[0m\u001b[0my_\u001b[0m\u001b[1;33m)\u001b[0m\u001b[1;33m\u001b[0m\u001b[1;33m\u001b[0m\u001b[0m\n\u001b[1;32m---> 14\u001b[1;33m \u001b[0mplt\u001b[0m\u001b[1;33m.\u001b[0m\u001b[0msavefig\u001b[0m\u001b[1;33m(\u001b[0m\u001b[1;34m'fig/g1dmin.png'\u001b[0m\u001b[1;33m,\u001b[0m \u001b[0mformat\u001b[0m\u001b[1;33m=\u001b[0m\u001b[1;34m'png'\u001b[0m\u001b[1;33m)\u001b[0m\u001b[1;33m\u001b[0m\u001b[1;33m\u001b[0m\u001b[0m\n\u001b[0m",
      "\u001b[1;32m~\\AppData\\Local\\Packages\\PythonSoftwareFoundation.Python.3.8_qbz5n2kfra8p0\\LocalCache\\local-packages\\Python38\\site-packages\\matplotlib\\pyplot.py\u001b[0m in \u001b[0;36msavefig\u001b[1;34m(*args, **kwargs)\u001b[0m\n\u001b[0;32m    956\u001b[0m \u001b[1;32mdef\u001b[0m \u001b[0msavefig\u001b[0m\u001b[1;33m(\u001b[0m\u001b[1;33m*\u001b[0m\u001b[0margs\u001b[0m\u001b[1;33m,\u001b[0m \u001b[1;33m**\u001b[0m\u001b[0mkwargs\u001b[0m\u001b[1;33m)\u001b[0m\u001b[1;33m:\u001b[0m\u001b[1;33m\u001b[0m\u001b[1;33m\u001b[0m\u001b[0m\n\u001b[0;32m    957\u001b[0m     \u001b[0mfig\u001b[0m \u001b[1;33m=\u001b[0m \u001b[0mgcf\u001b[0m\u001b[1;33m(\u001b[0m\u001b[1;33m)\u001b[0m\u001b[1;33m\u001b[0m\u001b[1;33m\u001b[0m\u001b[0m\n\u001b[1;32m--> 958\u001b[1;33m     \u001b[0mres\u001b[0m \u001b[1;33m=\u001b[0m \u001b[0mfig\u001b[0m\u001b[1;33m.\u001b[0m\u001b[0msavefig\u001b[0m\u001b[1;33m(\u001b[0m\u001b[1;33m*\u001b[0m\u001b[0margs\u001b[0m\u001b[1;33m,\u001b[0m \u001b[1;33m**\u001b[0m\u001b[0mkwargs\u001b[0m\u001b[1;33m)\u001b[0m\u001b[1;33m\u001b[0m\u001b[1;33m\u001b[0m\u001b[0m\n\u001b[0m\u001b[0;32m    959\u001b[0m     \u001b[0mfig\u001b[0m\u001b[1;33m.\u001b[0m\u001b[0mcanvas\u001b[0m\u001b[1;33m.\u001b[0m\u001b[0mdraw_idle\u001b[0m\u001b[1;33m(\u001b[0m\u001b[1;33m)\u001b[0m   \u001b[1;31m# need this if 'transparent=True' to reset colors\u001b[0m\u001b[1;33m\u001b[0m\u001b[1;33m\u001b[0m\u001b[0m\n\u001b[0;32m    960\u001b[0m     \u001b[1;32mreturn\u001b[0m \u001b[0mres\u001b[0m\u001b[1;33m\u001b[0m\u001b[1;33m\u001b[0m\u001b[0m\n",
      "\u001b[1;32m~\\AppData\\Local\\Packages\\PythonSoftwareFoundation.Python.3.8_qbz5n2kfra8p0\\LocalCache\\local-packages\\Python38\\site-packages\\matplotlib\\figure.py\u001b[0m in \u001b[0;36msavefig\u001b[1;34m(self, fname, transparent, **kwargs)\u001b[0m\n\u001b[0;32m   3017\u001b[0m                         ax.patch._cm_set(facecolor='none', edgecolor='none'))\n\u001b[0;32m   3018\u001b[0m \u001b[1;33m\u001b[0m\u001b[0m\n\u001b[1;32m-> 3019\u001b[1;33m             \u001b[0mself\u001b[0m\u001b[1;33m.\u001b[0m\u001b[0mcanvas\u001b[0m\u001b[1;33m.\u001b[0m\u001b[0mprint_figure\u001b[0m\u001b[1;33m(\u001b[0m\u001b[0mfname\u001b[0m\u001b[1;33m,\u001b[0m \u001b[1;33m**\u001b[0m\u001b[0mkwargs\u001b[0m\u001b[1;33m)\u001b[0m\u001b[1;33m\u001b[0m\u001b[1;33m\u001b[0m\u001b[0m\n\u001b[0m\u001b[0;32m   3020\u001b[0m \u001b[1;33m\u001b[0m\u001b[0m\n\u001b[0;32m   3021\u001b[0m     def ginput(self, n=1, timeout=30, show_clicks=True,\n",
      "\u001b[1;32m~\\AppData\\Local\\Packages\\PythonSoftwareFoundation.Python.3.8_qbz5n2kfra8p0\\LocalCache\\local-packages\\Python38\\site-packages\\matplotlib\\backend_bases.py\u001b[0m in \u001b[0;36mprint_figure\u001b[1;34m(self, filename, dpi, facecolor, edgecolor, orientation, format, bbox_inches, pad_inches, bbox_extra_artists, backend, **kwargs)\u001b[0m\n\u001b[0;32m   2317\u001b[0m                 \u001b[1;31m# force the figure dpi to 72), so we need to set it again here.\u001b[0m\u001b[1;33m\u001b[0m\u001b[1;33m\u001b[0m\u001b[1;33m\u001b[0m\u001b[0m\n\u001b[0;32m   2318\u001b[0m                 \u001b[1;32mwith\u001b[0m \u001b[0mcbook\u001b[0m\u001b[1;33m.\u001b[0m\u001b[0m_setattr_cm\u001b[0m\u001b[1;33m(\u001b[0m\u001b[0mself\u001b[0m\u001b[1;33m.\u001b[0m\u001b[0mfigure\u001b[0m\u001b[1;33m,\u001b[0m \u001b[0mdpi\u001b[0m\u001b[1;33m=\u001b[0m\u001b[0mdpi\u001b[0m\u001b[1;33m)\u001b[0m\u001b[1;33m:\u001b[0m\u001b[1;33m\u001b[0m\u001b[1;33m\u001b[0m\u001b[0m\n\u001b[1;32m-> 2319\u001b[1;33m                     result = print_method(\n\u001b[0m\u001b[0;32m   2320\u001b[0m                         \u001b[0mfilename\u001b[0m\u001b[1;33m,\u001b[0m\u001b[1;33m\u001b[0m\u001b[1;33m\u001b[0m\u001b[0m\n\u001b[0;32m   2321\u001b[0m                         \u001b[0mfacecolor\u001b[0m\u001b[1;33m=\u001b[0m\u001b[0mfacecolor\u001b[0m\u001b[1;33m,\u001b[0m\u001b[1;33m\u001b[0m\u001b[1;33m\u001b[0m\u001b[0m\n",
      "\u001b[1;32m~\\AppData\\Local\\Packages\\PythonSoftwareFoundation.Python.3.8_qbz5n2kfra8p0\\LocalCache\\local-packages\\Python38\\site-packages\\matplotlib\\backend_bases.py\u001b[0m in \u001b[0;36mwrapper\u001b[1;34m(*args, **kwargs)\u001b[0m\n\u001b[0;32m   1646\u001b[0m             \u001b[0mkwargs\u001b[0m\u001b[1;33m.\u001b[0m\u001b[0mpop\u001b[0m\u001b[1;33m(\u001b[0m\u001b[0marg\u001b[0m\u001b[1;33m)\u001b[0m\u001b[1;33m\u001b[0m\u001b[1;33m\u001b[0m\u001b[0m\n\u001b[0;32m   1647\u001b[0m \u001b[1;33m\u001b[0m\u001b[0m\n\u001b[1;32m-> 1648\u001b[1;33m         \u001b[1;32mreturn\u001b[0m \u001b[0mfunc\u001b[0m\u001b[1;33m(\u001b[0m\u001b[1;33m*\u001b[0m\u001b[0margs\u001b[0m\u001b[1;33m,\u001b[0m \u001b[1;33m**\u001b[0m\u001b[0mkwargs\u001b[0m\u001b[1;33m)\u001b[0m\u001b[1;33m\u001b[0m\u001b[1;33m\u001b[0m\u001b[0m\n\u001b[0m\u001b[0;32m   1649\u001b[0m \u001b[1;33m\u001b[0m\u001b[0m\n\u001b[0;32m   1650\u001b[0m     \u001b[1;32mreturn\u001b[0m \u001b[0mwrapper\u001b[0m\u001b[1;33m\u001b[0m\u001b[1;33m\u001b[0m\u001b[0m\n",
      "\u001b[1;32m~\\AppData\\Local\\Packages\\PythonSoftwareFoundation.Python.3.8_qbz5n2kfra8p0\\LocalCache\\local-packages\\Python38\\site-packages\\matplotlib\\_api\\deprecation.py\u001b[0m in \u001b[0;36mwrapper\u001b[1;34m(*inner_args, **inner_kwargs)\u001b[0m\n\u001b[0;32m    410\u001b[0m                          \u001b[1;32melse\u001b[0m \u001b[0mdeprecation_addendum\u001b[0m\u001b[1;33m,\u001b[0m\u001b[1;33m\u001b[0m\u001b[1;33m\u001b[0m\u001b[0m\n\u001b[0;32m    411\u001b[0m                 **kwargs)\n\u001b[1;32m--> 412\u001b[1;33m         \u001b[1;32mreturn\u001b[0m \u001b[0mfunc\u001b[0m\u001b[1;33m(\u001b[0m\u001b[1;33m*\u001b[0m\u001b[0minner_args\u001b[0m\u001b[1;33m,\u001b[0m \u001b[1;33m**\u001b[0m\u001b[0minner_kwargs\u001b[0m\u001b[1;33m)\u001b[0m\u001b[1;33m\u001b[0m\u001b[1;33m\u001b[0m\u001b[0m\n\u001b[0m\u001b[0;32m    413\u001b[0m \u001b[1;33m\u001b[0m\u001b[0m\n\u001b[0;32m    414\u001b[0m     \u001b[0mDECORATORS\u001b[0m\u001b[1;33m[\u001b[0m\u001b[0mwrapper\u001b[0m\u001b[1;33m]\u001b[0m \u001b[1;33m=\u001b[0m \u001b[0mdecorator\u001b[0m\u001b[1;33m\u001b[0m\u001b[1;33m\u001b[0m\u001b[0m\n",
      "\u001b[1;32m~\\AppData\\Local\\Packages\\PythonSoftwareFoundation.Python.3.8_qbz5n2kfra8p0\\LocalCache\\local-packages\\Python38\\site-packages\\matplotlib\\backends\\backend_agg.py\u001b[0m in \u001b[0;36mprint_png\u001b[1;34m(self, filename_or_obj, metadata, pil_kwargs, *args)\u001b[0m\n\u001b[0;32m    539\u001b[0m         \"\"\"\n\u001b[0;32m    540\u001b[0m         \u001b[0mFigureCanvasAgg\u001b[0m\u001b[1;33m.\u001b[0m\u001b[0mdraw\u001b[0m\u001b[1;33m(\u001b[0m\u001b[0mself\u001b[0m\u001b[1;33m)\u001b[0m\u001b[1;33m\u001b[0m\u001b[1;33m\u001b[0m\u001b[0m\n\u001b[1;32m--> 541\u001b[1;33m         mpl.image.imsave(\n\u001b[0m\u001b[0;32m    542\u001b[0m             \u001b[0mfilename_or_obj\u001b[0m\u001b[1;33m,\u001b[0m \u001b[0mself\u001b[0m\u001b[1;33m.\u001b[0m\u001b[0mbuffer_rgba\u001b[0m\u001b[1;33m(\u001b[0m\u001b[1;33m)\u001b[0m\u001b[1;33m,\u001b[0m \u001b[0mformat\u001b[0m\u001b[1;33m=\u001b[0m\u001b[1;34m\"png\"\u001b[0m\u001b[1;33m,\u001b[0m \u001b[0morigin\u001b[0m\u001b[1;33m=\u001b[0m\u001b[1;34m\"upper\"\u001b[0m\u001b[1;33m,\u001b[0m\u001b[1;33m\u001b[0m\u001b[1;33m\u001b[0m\u001b[0m\n\u001b[0;32m    543\u001b[0m             dpi=self.figure.dpi, metadata=metadata, pil_kwargs=pil_kwargs)\n",
      "\u001b[1;32m~\\AppData\\Local\\Packages\\PythonSoftwareFoundation.Python.3.8_qbz5n2kfra8p0\\LocalCache\\local-packages\\Python38\\site-packages\\matplotlib\\image.py\u001b[0m in \u001b[0;36mimsave\u001b[1;34m(fname, arr, vmin, vmax, cmap, format, origin, dpi, metadata, pil_kwargs)\u001b[0m\n\u001b[0;32m   1673\u001b[0m         \u001b[0mpil_kwargs\u001b[0m\u001b[1;33m.\u001b[0m\u001b[0msetdefault\u001b[0m\u001b[1;33m(\u001b[0m\u001b[1;34m\"format\"\u001b[0m\u001b[1;33m,\u001b[0m \u001b[0mformat\u001b[0m\u001b[1;33m)\u001b[0m\u001b[1;33m\u001b[0m\u001b[1;33m\u001b[0m\u001b[0m\n\u001b[0;32m   1674\u001b[0m         \u001b[0mpil_kwargs\u001b[0m\u001b[1;33m.\u001b[0m\u001b[0msetdefault\u001b[0m\u001b[1;33m(\u001b[0m\u001b[1;34m\"dpi\"\u001b[0m\u001b[1;33m,\u001b[0m \u001b[1;33m(\u001b[0m\u001b[0mdpi\u001b[0m\u001b[1;33m,\u001b[0m \u001b[0mdpi\u001b[0m\u001b[1;33m)\u001b[0m\u001b[1;33m)\u001b[0m\u001b[1;33m\u001b[0m\u001b[1;33m\u001b[0m\u001b[0m\n\u001b[1;32m-> 1675\u001b[1;33m         \u001b[0mimage\u001b[0m\u001b[1;33m.\u001b[0m\u001b[0msave\u001b[0m\u001b[1;33m(\u001b[0m\u001b[0mfname\u001b[0m\u001b[1;33m,\u001b[0m \u001b[1;33m**\u001b[0m\u001b[0mpil_kwargs\u001b[0m\u001b[1;33m)\u001b[0m\u001b[1;33m\u001b[0m\u001b[1;33m\u001b[0m\u001b[0m\n\u001b[0m\u001b[0;32m   1676\u001b[0m \u001b[1;33m\u001b[0m\u001b[0m\n\u001b[0;32m   1677\u001b[0m \u001b[1;33m\u001b[0m\u001b[0m\n",
      "\u001b[1;32m~\\AppData\\Local\\Packages\\PythonSoftwareFoundation.Python.3.8_qbz5n2kfra8p0\\LocalCache\\local-packages\\Python38\\site-packages\\PIL\\Image.py\u001b[0m in \u001b[0;36msave\u001b[1;34m(self, fp, format, **params)\u001b[0m\n\u001b[0;32m   2295\u001b[0m                 \u001b[0mfp\u001b[0m \u001b[1;33m=\u001b[0m \u001b[0mbuiltins\u001b[0m\u001b[1;33m.\u001b[0m\u001b[0mopen\u001b[0m\u001b[1;33m(\u001b[0m\u001b[0mfilename\u001b[0m\u001b[1;33m,\u001b[0m \u001b[1;34m\"r+b\"\u001b[0m\u001b[1;33m)\u001b[0m\u001b[1;33m\u001b[0m\u001b[1;33m\u001b[0m\u001b[0m\n\u001b[0;32m   2296\u001b[0m             \u001b[1;32melse\u001b[0m\u001b[1;33m:\u001b[0m\u001b[1;33m\u001b[0m\u001b[1;33m\u001b[0m\u001b[0m\n\u001b[1;32m-> 2297\u001b[1;33m                 \u001b[0mfp\u001b[0m \u001b[1;33m=\u001b[0m \u001b[0mbuiltins\u001b[0m\u001b[1;33m.\u001b[0m\u001b[0mopen\u001b[0m\u001b[1;33m(\u001b[0m\u001b[0mfilename\u001b[0m\u001b[1;33m,\u001b[0m \u001b[1;34m\"w+b\"\u001b[0m\u001b[1;33m)\u001b[0m\u001b[1;33m\u001b[0m\u001b[1;33m\u001b[0m\u001b[0m\n\u001b[0m\u001b[0;32m   2298\u001b[0m \u001b[1;33m\u001b[0m\u001b[0m\n\u001b[0;32m   2299\u001b[0m         \u001b[1;32mtry\u001b[0m\u001b[1;33m:\u001b[0m\u001b[1;33m\u001b[0m\u001b[1;33m\u001b[0m\u001b[0m\n",
      "\u001b[1;31mFileNotFoundError\u001b[0m: [Errno 2] No such file or directory: 'fig/g1dmin.png'"
     ]
    },
    {
     "data": {
      "image/png": "[encoded data removed]",
      "text/plain": [
       "<Figure size 864x576 with 1 Axes>"
      ]
     },
     "metadata": {
      "needs_background": "light"
     },
     "output_type": "display_data"
    }
   ],
   "source": [
    "x = np.linspace(-4, 4, 1000)\n",
    "#x_=x.reshape((100, 1))\n",
    "\n",
    "fig = plt.figure(figsize=(12,8))\n",
    "\n",
    "y=[]\n",
    "for i in range(len(x)):\n",
    "    tmp = func(x[i])\n",
    "    y.append(tmp)\n",
    "    \n",
    "y_ = np.array(y)\n",
    "\n",
    "plt.plot(x,y_)\n",
    "plt.savefig('fig/g1dmin.png', format='png')\n"
   ]
  },
  {
   "cell_type": "code",
   "execution_count": 5,
   "metadata": {
    "slideshow": {
     "slide_type": "notes"
    }
   },
   "outputs": [
    {
     "name": "stderr",
     "output_type": "stream",
     "text": [
      "C:\\Users\\johns\\AppData\\Local\\Temp/ipykernel_11372/1620829259.py:7: MatplotlibDeprecationWarning: Calling gca() with keyword arguments was deprecated in Matplotlib 3.4. Starting two minor releases later, gca() will take no keyword arguments. The gca() function should only be used to get the current axes, or if no axes exist, create new axes with default keyword arguments. To create a new axes with non-default arguments, use plt.axes() or plt.subplot().\n",
      "  ax = fig.gca(projection='3d')\n"
     ]
    },
    {
     "ename": "FileNotFoundError",
     "evalue": "[Errno 2] No such file or directory: 'fig/g2dmin.png'",
     "output_type": "error",
     "traceback": [
      "\u001b[1;31m---------------------------------------------------------------------------\u001b[0m",
      "\u001b[1;31mFileNotFoundError\u001b[0m                         Traceback (most recent call last)",
      "\u001b[1;32m~\\AppData\\Local\\Temp/ipykernel_11372/1620829259.py\u001b[0m in \u001b[0;36m<module>\u001b[1;34m\u001b[0m\n\u001b[0;32m     21\u001b[0m                        linewidth=0, antialiased=False)\n\u001b[0;32m     22\u001b[0m \u001b[1;33m\u001b[0m\u001b[0m\n\u001b[1;32m---> 23\u001b[1;33m \u001b[0mplt\u001b[0m\u001b[1;33m.\u001b[0m\u001b[0msavefig\u001b[0m\u001b[1;33m(\u001b[0m\u001b[1;34m'fig/g2dmin.png'\u001b[0m\u001b[1;33m,\u001b[0m \u001b[0mformat\u001b[0m\u001b[1;33m=\u001b[0m\u001b[1;34m'png'\u001b[0m\u001b[1;33m)\u001b[0m\u001b[1;33m\u001b[0m\u001b[1;33m\u001b[0m\u001b[0m\n\u001b[0m\u001b[0;32m     24\u001b[0m \u001b[0mplt\u001b[0m\u001b[1;33m.\u001b[0m\u001b[0mshow\u001b[0m\u001b[1;33m(\u001b[0m\u001b[1;33m)\u001b[0m\u001b[1;33m\u001b[0m\u001b[1;33m\u001b[0m\u001b[0m\n\u001b[0;32m     25\u001b[0m \u001b[1;33m\u001b[0m\u001b[0m\n",
      "\u001b[1;32m~\\AppData\\Local\\Packages\\PythonSoftwareFoundation.Python.3.8_qbz5n2kfra8p0\\LocalCache\\local-packages\\Python38\\site-packages\\matplotlib\\pyplot.py\u001b[0m in \u001b[0;36msavefig\u001b[1;34m(*args, **kwargs)\u001b[0m\n\u001b[0;32m    956\u001b[0m \u001b[1;32mdef\u001b[0m \u001b[0msavefig\u001b[0m\u001b[1;33m(\u001b[0m\u001b[1;33m*\u001b[0m\u001b[0margs\u001b[0m\u001b[1;33m,\u001b[0m \u001b[1;33m**\u001b[0m\u001b[0mkwargs\u001b[0m\u001b[1;33m)\u001b[0m\u001b[1;33m:\u001b[0m\u001b[1;33m\u001b[0m\u001b[1;33m\u001b[0m\u001b[0m\n\u001b[0;32m    957\u001b[0m     \u001b[0mfig\u001b[0m \u001b[1;33m=\u001b[0m \u001b[0mgcf\u001b[0m\u001b[1;33m(\u001b[0m\u001b[1;33m)\u001b[0m\u001b[1;33m\u001b[0m\u001b[1;33m\u001b[0m\u001b[0m\n\u001b[1;32m--> 958\u001b[1;33m     \u001b[0mres\u001b[0m \u001b[1;33m=\u001b[0m \u001b[0mfig\u001b[0m\u001b[1;33m.\u001b[0m\u001b[0msavefig\u001b[0m\u001b[1;33m(\u001b[0m\u001b[1;33m*\u001b[0m\u001b[0margs\u001b[0m\u001b[1;33m,\u001b[0m \u001b[1;33m**\u001b[0m\u001b[0mkwargs\u001b[0m\u001b[1;33m)\u001b[0m\u001b[1;33m\u001b[0m\u001b[1;33m\u001b[0m\u001b[0m\n\u001b[0m\u001b[0;32m    959\u001b[0m     \u001b[0mfig\u001b[0m\u001b[1;33m.\u001b[0m\u001b[0mcanvas\u001b[0m\u001b[1;33m.\u001b[0m\u001b[0mdraw_idle\u001b[0m\u001b[1;33m(\u001b[0m\u001b[1;33m)\u001b[0m   \u001b[1;31m# need this if 'transparent=True' to reset colors\u001b[0m\u001b[1;33m\u001b[0m\u001b[1;33m\u001b[0m\u001b[0m\n\u001b[0;32m    960\u001b[0m     \u001b[1;32mreturn\u001b[0m \u001b[0mres\u001b[0m\u001b[1;33m\u001b[0m\u001b[1;33m\u001b[0m\u001b[0m\n",
      "\u001b[1;32m~\\AppData\\Local\\Packages\\PythonSoftwareFoundation.Python.3.8_qbz5n2kfra8p0\\LocalCache\\local-packages\\Python38\\site-packages\\matplotlib\\figure.py\u001b[0m in \u001b[0;36msavefig\u001b[1;34m(self, fname, transparent, **kwargs)\u001b[0m\n\u001b[0;32m   3017\u001b[0m                         ax.patch._cm_set(facecolor='none', edgecolor='none'))\n\u001b[0;32m   3018\u001b[0m \u001b[1;33m\u001b[0m\u001b[0m\n\u001b[1;32m-> 3019\u001b[1;33m             \u001b[0mself\u001b[0m\u001b[1;33m.\u001b[0m\u001b[0mcanvas\u001b[0m\u001b[1;33m.\u001b[0m\u001b[0mprint_figure\u001b[0m\u001b[1;33m(\u001b[0m\u001b[0mfname\u001b[0m\u001b[1;33m,\u001b[0m \u001b[1;33m**\u001b[0m\u001b[0mkwargs\u001b[0m\u001b[1;33m)\u001b[0m\u001b[1;33m\u001b[0m\u001b[1;33m\u001b[0m\u001b[0m\n\u001b[0m\u001b[0;32m   3020\u001b[0m \u001b[1;33m\u001b[0m\u001b[0m\n\u001b[0;32m   3021\u001b[0m     def ginput(self, n=1, timeout=30, show_clicks=True,\n",
      "\u001b[1;32m~\\AppData\\Local\\Packages\\PythonSoftwareFoundation.Python.3.8_qbz5n2kfra8p0\\LocalCache\\local-packages\\Python38\\site-packages\\matplotlib\\backend_bases.py\u001b[0m in \u001b[0;36mprint_figure\u001b[1;34m(self, filename, dpi, facecolor, edgecolor, orientation, format, bbox_inches, pad_inches, bbox_extra_artists, backend, **kwargs)\u001b[0m\n\u001b[0;32m   2317\u001b[0m                 \u001b[1;31m# force the figure dpi to 72), so we need to set it again here.\u001b[0m\u001b[1;33m\u001b[0m\u001b[1;33m\u001b[0m\u001b[1;33m\u001b[0m\u001b[0m\n\u001b[0;32m   2318\u001b[0m                 \u001b[1;32mwith\u001b[0m \u001b[0mcbook\u001b[0m\u001b[1;33m.\u001b[0m\u001b[0m_setattr_cm\u001b[0m\u001b[1;33m(\u001b[0m\u001b[0mself\u001b[0m\u001b[1;33m.\u001b[0m\u001b[0mfigure\u001b[0m\u001b[1;33m,\u001b[0m \u001b[0mdpi\u001b[0m\u001b[1;33m=\u001b[0m\u001b[0mdpi\u001b[0m\u001b[1;33m)\u001b[0m\u001b[1;33m:\u001b[0m\u001b[1;33m\u001b[0m\u001b[1;33m\u001b[0m\u001b[0m\n\u001b[1;32m-> 2319\u001b[1;33m                     result = print_method(\n\u001b[0m\u001b[0;32m   2320\u001b[0m                         \u001b[0mfilename\u001b[0m\u001b[1;33m,\u001b[0m\u001b[1;33m\u001b[0m\u001b[1;33m\u001b[0m\u001b[0m\n\u001b[0;32m   2321\u001b[0m                         \u001b[0mfacecolor\u001b[0m\u001b[1;33m=\u001b[0m\u001b[0mfacecolor\u001b[0m\u001b[1;33m,\u001b[0m\u001b[1;33m\u001b[0m\u001b[1;33m\u001b[0m\u001b[0m\n",
      "\u001b[1;32m~\\AppData\\Local\\Packages\\PythonSoftwareFoundation.Python.3.8_qbz5n2kfra8p0\\LocalCache\\local-packages\\Python38\\site-packages\\matplotlib\\backend_bases.py\u001b[0m in \u001b[0;36mwrapper\u001b[1;34m(*args, **kwargs)\u001b[0m\n\u001b[0;32m   1646\u001b[0m             \u001b[0mkwargs\u001b[0m\u001b[1;33m.\u001b[0m\u001b[0mpop\u001b[0m\u001b[1;33m(\u001b[0m\u001b[0marg\u001b[0m\u001b[1;33m)\u001b[0m\u001b[1;33m\u001b[0m\u001b[1;33m\u001b[0m\u001b[0m\n\u001b[0;32m   1647\u001b[0m \u001b[1;33m\u001b[0m\u001b[0m\n\u001b[1;32m-> 1648\u001b[1;33m         \u001b[1;32mreturn\u001b[0m \u001b[0mfunc\u001b[0m\u001b[1;33m(\u001b[0m\u001b[1;33m*\u001b[0m\u001b[0margs\u001b[0m\u001b[1;33m,\u001b[0m \u001b[1;33m**\u001b[0m\u001b[0mkwargs\u001b[0m\u001b[1;33m)\u001b[0m\u001b[1;33m\u001b[0m\u001b[1;33m\u001b[0m\u001b[0m\n\u001b[0m\u001b[0;32m   1649\u001b[0m \u001b[1;33m\u001b[0m\u001b[0m\n\u001b[0;32m   1650\u001b[0m     \u001b[1;32mreturn\u001b[0m \u001b[0mwrapper\u001b[0m\u001b[1;33m\u001b[0m\u001b[1;33m\u001b[0m\u001b[0m\n",
      "\u001b[1;32m~\\AppData\\Local\\Packages\\PythonSoftwareFoundation.Python.3.8_qbz5n2kfra8p0\\LocalCache\\local-packages\\Python38\\site-packages\\matplotlib\\_api\\deprecation.py\u001b[0m in \u001b[0;36mwrapper\u001b[1;34m(*inner_args, **inner_kwargs)\u001b[0m\n\u001b[0;32m    410\u001b[0m                          \u001b[1;32melse\u001b[0m \u001b[0mdeprecation_addendum\u001b[0m\u001b[1;33m,\u001b[0m\u001b[1;33m\u001b[0m\u001b[1;33m\u001b[0m\u001b[0m\n\u001b[0;32m    411\u001b[0m                 **kwargs)\n\u001b[1;32m--> 412\u001b[1;33m         \u001b[1;32mreturn\u001b[0m \u001b[0mfunc\u001b[0m\u001b[1;33m(\u001b[0m\u001b[1;33m*\u001b[0m\u001b[0minner_args\u001b[0m\u001b[1;33m,\u001b[0m \u001b[1;33m**\u001b[0m\u001b[0minner_kwargs\u001b[0m\u001b[1;33m)\u001b[0m\u001b[1;33m\u001b[0m\u001b[1;33m\u001b[0m\u001b[0m\n\u001b[0m\u001b[0;32m    413\u001b[0m \u001b[1;33m\u001b[0m\u001b[0m\n\u001b[0;32m    414\u001b[0m     \u001b[0mDECORATORS\u001b[0m\u001b[1;33m[\u001b[0m\u001b[0mwrapper\u001b[0m\u001b[1;33m]\u001b[0m \u001b[1;33m=\u001b[0m \u001b[0mdecorator\u001b[0m\u001b[1;33m\u001b[0m\u001b[1;33m\u001b[0m\u001b[0m\n",
      "\u001b[1;32m~\\AppData\\Local\\Packages\\PythonSoftwareFoundation.Python.3.8_qbz5n2kfra8p0\\LocalCache\\local-packages\\Python38\\site-packages\\matplotlib\\backends\\backend_agg.py\u001b[0m in \u001b[0;36mprint_png\u001b[1;34m(self, filename_or_obj, metadata, pil_kwargs, *args)\u001b[0m\n\u001b[0;32m    539\u001b[0m         \"\"\"\n\u001b[0;32m    540\u001b[0m         \u001b[0mFigureCanvasAgg\u001b[0m\u001b[1;33m.\u001b[0m\u001b[0mdraw\u001b[0m\u001b[1;33m(\u001b[0m\u001b[0mself\u001b[0m\u001b[1;33m)\u001b[0m\u001b[1;33m\u001b[0m\u001b[1;33m\u001b[0m\u001b[0m\n\u001b[1;32m--> 541\u001b[1;33m         mpl.image.imsave(\n\u001b[0m\u001b[0;32m    542\u001b[0m             \u001b[0mfilename_or_obj\u001b[0m\u001b[1;33m,\u001b[0m \u001b[0mself\u001b[0m\u001b[1;33m.\u001b[0m\u001b[0mbuffer_rgba\u001b[0m\u001b[1;33m(\u001b[0m\u001b[1;33m)\u001b[0m\u001b[1;33m,\u001b[0m \u001b[0mformat\u001b[0m\u001b[1;33m=\u001b[0m\u001b[1;34m\"png\"\u001b[0m\u001b[1;33m,\u001b[0m \u001b[0morigin\u001b[0m\u001b[1;33m=\u001b[0m\u001b[1;34m\"upper\"\u001b[0m\u001b[1;33m,\u001b[0m\u001b[1;33m\u001b[0m\u001b[1;33m\u001b[0m\u001b[0m\n\u001b[0;32m    543\u001b[0m             dpi=self.figure.dpi, metadata=metadata, pil_kwargs=pil_kwargs)\n",
      "\u001b[1;32m~\\AppData\\Local\\Packages\\PythonSoftwareFoundation.Python.3.8_qbz5n2kfra8p0\\LocalCache\\local-packages\\Python38\\site-packages\\matplotlib\\image.py\u001b[0m in \u001b[0;36mimsave\u001b[1;34m(fname, arr, vmin, vmax, cmap, format, origin, dpi, metadata, pil_kwargs)\u001b[0m\n\u001b[0;32m   1673\u001b[0m         \u001b[0mpil_kwargs\u001b[0m\u001b[1;33m.\u001b[0m\u001b[0msetdefault\u001b[0m\u001b[1;33m(\u001b[0m\u001b[1;34m\"format\"\u001b[0m\u001b[1;33m,\u001b[0m \u001b[0mformat\u001b[0m\u001b[1;33m)\u001b[0m\u001b[1;33m\u001b[0m\u001b[1;33m\u001b[0m\u001b[0m\n\u001b[0;32m   1674\u001b[0m         \u001b[0mpil_kwargs\u001b[0m\u001b[1;33m.\u001b[0m\u001b[0msetdefault\u001b[0m\u001b[1;33m(\u001b[0m\u001b[1;34m\"dpi\"\u001b[0m\u001b[1;33m,\u001b[0m \u001b[1;33m(\u001b[0m\u001b[0mdpi\u001b[0m\u001b[1;33m,\u001b[0m \u001b[0mdpi\u001b[0m\u001b[1;33m)\u001b[0m\u001b[1;33m)\u001b[0m\u001b[1;33m\u001b[0m\u001b[1;33m\u001b[0m\u001b[0m\n\u001b[1;32m-> 1675\u001b[1;33m         \u001b[0mimage\u001b[0m\u001b[1;33m.\u001b[0m\u001b[0msave\u001b[0m\u001b[1;33m(\u001b[0m\u001b[0mfname\u001b[0m\u001b[1;33m,\u001b[0m \u001b[1;33m**\u001b[0m\u001b[0mpil_kwargs\u001b[0m\u001b[1;33m)\u001b[0m\u001b[1;33m\u001b[0m\u001b[1;33m\u001b[0m\u001b[0m\n\u001b[0m\u001b[0;32m   1676\u001b[0m \u001b[1;33m\u001b[0m\u001b[0m\n\u001b[0;32m   1677\u001b[0m \u001b[1;33m\u001b[0m\u001b[0m\n",
      "\u001b[1;32m~\\AppData\\Local\\Packages\\PythonSoftwareFoundation.Python.3.8_qbz5n2kfra8p0\\LocalCache\\local-packages\\Python38\\site-packages\\PIL\\Image.py\u001b[0m in \u001b[0;36msave\u001b[1;34m(self, fp, format, **params)\u001b[0m\n\u001b[0;32m   2295\u001b[0m                 \u001b[0mfp\u001b[0m \u001b[1;33m=\u001b[0m \u001b[0mbuiltins\u001b[0m\u001b[1;33m.\u001b[0m\u001b[0mopen\u001b[0m\u001b[1;33m(\u001b[0m\u001b[0mfilename\u001b[0m\u001b[1;33m,\u001b[0m \u001b[1;34m\"r+b\"\u001b[0m\u001b[1;33m)\u001b[0m\u001b[1;33m\u001b[0m\u001b[1;33m\u001b[0m\u001b[0m\n\u001b[0;32m   2296\u001b[0m             \u001b[1;32melse\u001b[0m\u001b[1;33m:\u001b[0m\u001b[1;33m\u001b[0m\u001b[1;33m\u001b[0m\u001b[0m\n\u001b[1;32m-> 2297\u001b[1;33m                 \u001b[0mfp\u001b[0m \u001b[1;33m=\u001b[0m \u001b[0mbuiltins\u001b[0m\u001b[1;33m.\u001b[0m\u001b[0mopen\u001b[0m\u001b[1;33m(\u001b[0m\u001b[0mfilename\u001b[0m\u001b[1;33m,\u001b[0m \u001b[1;34m\"w+b\"\u001b[0m\u001b[1;33m)\u001b[0m\u001b[1;33m\u001b[0m\u001b[1;33m\u001b[0m\u001b[0m\n\u001b[0m\u001b[0;32m   2298\u001b[0m \u001b[1;33m\u001b[0m\u001b[0m\n\u001b[0;32m   2299\u001b[0m         \u001b[1;32mtry\u001b[0m\u001b[1;33m:\u001b[0m\u001b[1;33m\u001b[0m\u001b[1;33m\u001b[0m\u001b[0m\n",
      "\u001b[1;31mFileNotFoundError\u001b[0m: [Errno 2] No such file or directory: 'fig/g2dmin.png'"
     ]
    },
    {
     "data": {
      "image/png": "[encoded data removed]",
      "text/plain": [
       "<Figure size 864x576 with 1 Axes>"
      ]
     },
     "metadata": {
      "needs_background": "light"
     },
     "output_type": "display_data"
    }
   ],
   "source": [
    "## Plot 2D\n",
    "from mpl_toolkits.mplot3d import Axes3D\n",
    "from matplotlib import cm\n",
    "a=2.8\n",
    "\n",
    "fig = plt.figure(figsize=(12,8))\n",
    "ax = fig.gca(projection='3d')\n",
    "X,Y = np.mgrid[-a:a:0.08, -a:a:0.08]\n",
    "\n",
    "#calc function\n",
    "xy = np.vstack((X.flatten(), Y.flatten())).T\n",
    "\n",
    "z=[]\n",
    "for i in range(len(xy)):\n",
    "    tmp = func(xy[i])\n",
    "    z.append(tmp)\n",
    "\n",
    "Z=np.array(z).reshape(X.shape)  \n",
    "\n",
    "ax.plot_surface(X,Y,Z,rstride=1, cstride=1, cmap=cm.gist_heat,\n",
    "                       linewidth=0, antialiased=False)\n",
    "\n",
    "plt.savefig('fig/g2dmin.png', format='png')\n",
    "plt.show()\n",
    "\n",
    "\n"
   ]
  },
  {
   "cell_type": "markdown",
   "metadata": {
    "slideshow": {
     "slide_type": "slide"
    }
   },
   "source": [
    "\n",
    "$$\\Large \\min f( \\mathbf{\\vec{x}}) \\mbox{ with } \\mathbf{\\vec{x}} \\in \\mathbb{R}^N$$\n",
    "\n",
    "### Result : $$\\large f(\\mathbf{\\vec{x_{min}}}) = 0$$\n",
    "\n",
    "$$\\tiny \\mathbf{\\vec{x_{min}}} = \\begin{pmatrix}1.27301837e-11\\\\-2.00044565e-12\\\\-2.13780472e-12\\\\3.00837430e-12\\\\8.04802446e-12\\\\9.40556784e-13\\\\1.02419480e-11\\\\ -1.21884004e-11\\\\ 1.26723038e-12\\\\-5.83893430e-12\\end{pmatrix}$$\n"
   ]
  },
  {
   "cell_type": "code",
   "execution_count": null,
   "metadata": {
    "slideshow": {
     "slide_type": "slide"
    }
   },
   "outputs": [],
   "source": [
    "## 10 dim optimization\n",
    "from pygensa import gensa\n",
    "\n",
    "lw = [-5.01] * 10\n",
    "up = [5.12] * 10\n",
    "ret = gensa(func, None, bounds=(zip(lw, up)))\n",
    "print(\"global minimum: xmin = {0}, f(xmin) = {1}\".format( ret.x, ret.fun))\n"
   ]
  },
  {
   "cell_type": "markdown",
   "metadata": {
    "collapsed": true,
    "slideshow": {
     "slide_type": "slide"
    }
   },
   "source": [
    "### Regression can bee seen as higher dim global optimization problem\n",
    "\n",
    "### using a least mean square as metric\n",
    "\n",
    "\n",
    "* Function: $f(t): \\mathbb{R} \\to \\mathbb{R}$\n",
    "\n",
    "* $b_N$ a set of basic function, e.g. polyfit, $b_5={x^4,x^3,x^3,x,1}$\n",
    "\n",
    "* Qualityfunction LSM measure: $lsm(a_N) = \\sum_{t_0}^{t=t_N}\\left(f(t)- a_N \\cdot b_N(t)  \\right)^2$\n",
    "\n",
    "* $\\min lsm(a_N) \\to a_0 \\mbox{ is an approximation of}$\n",
    "\n",
    "* $f(t) \\mbox{ concerning the basis }b_n$ "
   ]
  },
  {
   "cell_type": "code",
   "execution_count": null,
   "metadata": {
    "collapsed": true,
    "slideshow": {
     "slide_type": "notes"
    }
   },
   "outputs": [],
   "source": [
    "## SA PART\n",
    "from pygensa import gensa\n",
    "from math import sqrt\n",
    "\n",
    "def bf(x,deg):\n",
    "    tmp = []\n",
    "    f = 1\n",
    "    for i in range(deg):\n",
    "        tmp.append(f)\n",
    "        f *= x\n",
    "    tmp.reverse() \n",
    "    return np.array(tmp)\n",
    "\n",
    "\n",
    "## (Energy) quality Function\n",
    "## Least Mean Square comparison --> Regression\n",
    "def leastmean2(p,x,y):\n",
    "    res =0\n",
    "    L=len(x)\n",
    "    for i in range(L):\n",
    "        res = res + (np.dot(p,bf(x[i],5))-y[i])**2\n",
    "    #print(res)\n",
    "    return(res/L)"
   ]
  },
  {
   "cell_type": "code",
   "execution_count": null,
   "metadata": {
    "slideshow": {
     "slide_type": "notes"
    }
   },
   "outputs": [],
   "source": []
  },
  {
   "cell_type": "code",
   "execution_count": null,
   "metadata": {
    "slideshow": {
     "slide_type": "notes"
    }
   },
   "outputs": [],
   "source": [
    "%%time\n",
    "from math import sin\n",
    "from pygensa import gensa\n",
    "# Test function\n",
    "f = lambda x: -0.7*x*x*x*x+2.3*x*x*x-1.8*x*x+2.7*x-4\n",
    "#f = lambda x: np.sin(x)\n",
    "\n",
    "x = np.linspace(-1,1,1024)\n",
    "y = f(x)\n",
    "\n",
    "\n",
    "lw = [-100.0] * 5\n",
    "up = [100.0] * 5\n",
    "ret = gensa(leastmean2, None, bounds=(zip(lw, up)),maxiter=200,args=[x,y])\n",
    "print(\"global minimum: xmin = {0}, f(xmin) = {1}\".format( ret.x, ret.fun))"
   ]
  },
  {
   "cell_type": "code",
   "execution_count": null,
   "metadata": {
    "collapsed": true,
    "slideshow": {
     "slide_type": "notes"
    }
   },
   "outputs": [],
   "source": []
  },
  {
   "cell_type": "code",
   "execution_count": null,
   "metadata": {
    "collapsed": true,
    "slideshow": {
     "slide_type": "notes"
    }
   },
   "outputs": [],
   "source": [
    "## (Energy) quality Function\n",
    "## Least Mean Square comparison --> Regression\n",
    "def leastmean(p,f):\n",
    "    # grad 4\n",
    "    ft = lambda x: p[0]*x*x*x*x+p[1]*x*x*x+p[2]*x*x+p[3]*x+p[4]\n",
    "    \n",
    "    ## boundaries\n",
    "    a = 3.4\n",
    "    start = -a\n",
    "    end = a\n",
    "    \n",
    "    pos = start\n",
    "    step = 0.05\n",
    "    res = 0\n",
    "    \n",
    "    while(pos < end): \n",
    "        res = res + (ft(pos)-f(pos))**2\n",
    "        pos = pos + step\n",
    "   \n",
    "    steps = (end-start)/step\n",
    "    return(res/steps)"
   ]
  },
  {
   "cell_type": "code",
   "execution_count": null,
   "metadata": {
    "slideshow": {
     "slide_type": "slide"
    }
   },
   "outputs": [],
   "source": [
    "%%time\n",
    "from math import sin\n",
    "from pygensa import gensa\n",
    "# Test function\n",
    "f = lambda x: -0.7*x*x*x*x+2.3*x*x*x-1.8*x*x+2.7*x-4\n",
    "#f = lambda x: np.sin(x)\n",
    "\n",
    "lw = [-100.0] * 5\n",
    "up = [100.0] * 5\n",
    "ret = gensa(leastmean, None, bounds=(zip(lw, up)),maxiter=300,args=[f])\n",
    "print(\"global minimum: xmin = {0}, f(xmin) = {1}\".format( ret.x, ret.fun))"
   ]
  },
  {
   "cell_type": "markdown",
   "metadata": {
    "collapsed": true,
    "slideshow": {
     "slide_type": "slide"
    }
   },
   "source": [
    "![](fig/fapprox.png)"
   ]
  },
  {
   "cell_type": "code",
   "execution_count": null,
   "metadata": {
    "slideshow": {
     "slide_type": "subslide"
    }
   },
   "outputs": [],
   "source": [
    "a = 3.9\n",
    "x = np.linspace(-a, a, 1000)\n",
    "y = f(x)\n",
    "\n",
    "fig = plt.figure(figsize=(12,8))\n",
    "\n",
    "y_ = np.polyval(ret.x,x)\n",
    "\n",
    "plt.plot(x,y)\n",
    "plt.plot(x,y_)\n",
    "plt.savefig('fig/fapprox.png', format='png')\n",
    "\n",
    "ret.x"
   ]
  },
  {
   "cell_type": "markdown",
   "metadata": {
    "collapsed": true,
    "slideshow": {
     "slide_type": "slide"
    }
   },
   "source": [
    "## Outlook \n",
    "\n",
    "- Using GSA for regression inside the LSM American Option method\n",
    "- Quantum annealing "
   ]
  },
  {
   "cell_type": "markdown",
   "metadata": {
    "slideshow": {
     "slide_type": "slide"
    }
   },
   "source": [
    "## GSA regression \n",
    "### backward process from $t=T \\to t=1$\n",
    "\n",
    "\n",
    "\n",
    "1. Approximate $\\mathbf{\\vec{Y}_{t+1}}$ by $\\hat{\\mathbf{\\vec{Y}}}=f(\\mathbf{\\vec{X_{t}}}) $ with $\\hat{\\mathbf{\\vec{Y}}} \\approx \\mathbf{\\vec{Y}_{t+1}}$\n",
    "\n",
    "1. Calculating continuation $\\mathbf{\\vec{C}} = f(\\mathbf{\\vec{X_{t}}})$ \n",
    "\n",
    "1. Set $\\mathbf{\\vec{Y_t}} = \\max\\{\\mathbf{h_t},\\mathbf{C_t}\\} $\n",
    "\n",
    "\n",
    "$\\mathbf{h_t}$: Value of the option at $t$ \n",
    "<br>\n",
    "\n",
    "* Finding optimal parameters $\\beta_r$ for $f = \\sum_{r=1}^R \\beta_r B_r(x)$,\n",
    "where ${B_r(x)}$ are basis function, e.g. laguere polynomials until degree R.\n",
    "\n"
   ]
  },
  {
   "cell_type": "markdown",
   "metadata": {
    "slideshow": {
     "slide_type": "subslide"
    }
   },
   "source": [
    "![](fig/Glasserman.png)\n",
    "\n",
    "<small>\n",
    "Paul Glasserman, Monte Carlo Methods in Financial engineering\n",
    "</small>"
   ]
  },
  {
   "cell_type": "code",
   "execution_count": null,
   "metadata": {
    "collapsed": true,
    "slideshow": {
     "slide_type": "subslide"
    }
   },
   "outputs": [],
   "source": [
    "# parameter bounderies\n",
    "lw = [-10.]*6\n",
    "up = [10.]*6\n",
    "\n",
    "#Approximate Y_t+1 -> finding the parameters\n",
    "ret = gensa(leastmean, rg[t], bounds=(zip(lw, up)),maxiter=100,args=[S[t], V[t + 1] * df])\n",
    "                    \n",
    "# calculate continuation with regeression parameters                                       \n",
    "C = np.polyval(ret.x, S[t])  \n",
    "\n",
    "# exercise decision compare Values with continuation\n",
    "V[t] = np.where(h[t] > C, h[t], V[t + 1] * df)      "
   ]
  },
  {
   "cell_type": "markdown",
   "metadata": {
    "collapsed": true,
    "slideshow": {
     "slide_type": "slide"
    }
   },
   "source": [
    "### Quantum annealing with manufactured spins\n",
    "\n",
    "![](fig/qbit.png)\n",
    "\n",
    "![](fig/qa.png)\n"
   ]
  },
  {
   "cell_type": "markdown",
   "metadata": {
    "collapsed": true,
    "slideshow": {
     "slide_type": "slide"
    }
   },
   "source": [
    "**Hidetoshi Nishimori**\n",
    "http://www.stat.phys.titech.ac.jp/~nishimori/QA/q-annealing_e.html\n",
    "\n",
    "**Quantum annealing** is a quantum-mechanical paradigm to solve combinatorial optimization problems and was proposed by Kadowaki and Nishimori in 1998.\n",
    "\n",
    "* Quantum annealing is a computational paradigm to search for the minimum of a cost function \n",
    "\n",
    "* To perform quantum annealing, one writes the cost function in terms of the Ising model of magnetism.\n",
    "\n",
    "* The Hamiltonian (energy function) of the Ising model should be chosen such that its lowest-energy state (ground state) represents the solution to the combinatorial optimization problem.\n",
    "\n",
    "![](http://www.stat.phys.titech.ac.jp/~nishimori/QA/probability_development_e.jpg)\n",
    "\n"
   ]
  },
  {
   "cell_type": "markdown",
   "metadata": {
    "collapsed": true,
    "slideshow": {
     "slide_type": "notes"
    }
   },
   "source": []
  },
  {
   "cell_type": "markdown",
   "metadata": {
    "collapsed": true,
    "slideshow": {
     "slide_type": "notes"
    }
   },
   "source": []
  },
  {
   "cell_type": "markdown",
   "metadata": {
    "slideshow": {
     "slide_type": "notes"
    }
   },
   "source": [
    "### Important SA contributions \n",
    "\n",
    "* [1953](http://aip.scitation.org/doi/abs/10.1063/1.1699114) Metropolis, N., Rosenbluth, A. W., Rosenbluth, M. N., Teller, A. H., & Teller, E. (1953). Equation of state calculations by fast computing machines. The journal of chemical physics, 21(6), 1087-1092.\n",
    "\n",
    "    - A modified Monte Carlo method\n",
    "    - configurations with a probability $\\exp(- E / k T)$ are choosen\n",
    "\n",
    "\n",
    "* [1983](http://science.sciencemag.org/content/220/4598/671) Kirkpatrick, S., Gelatt, C. D., & Vecchi, M. P. (1983). Optimization by simulated annealing. science, 220(4598), 671-680.\n",
    "\n",
    "    - problems in the field of design of computers\n",
    "    - subject of combinatorial optimization \n",
    "    - The traveling salesman belongs to the large class of NP-complete\n",
    "    - heuristic methods are problem-specific\n",
    "    - Statistical mechanics is the central dis- cipline of condensed matter physics\n",
    "    - Because the number of atoms is of order $1O^{23}$ cubic centimeter, only the most probable behavior of the system in thermal equilibrium at a given temperature is observed in experiments.\n",
    "    - set of atomic positions ${r_j}$ of the system is weighted by its Boltzmann probability factor.\n",
    "    - TD question: what happens at Temperature close to 0 -> no dynamics and the Boltzmann distribution collapses into the lowest energy state or states.\n",
    "    - Spin Model\n",
    "    - Interaction between each adjacent pair of spins contributes +-J  to the total energy of the chain\n",
    "    - For an N-spin chain, if all configurations are equally likely the interaction energy has a binomial distribution, with the maximum and minimum energies given by +- N J \n",
    "    - the most probable state having zero energy.\n",
    "    -  effective temperature for optimization, \n",
    "    \n",
    "\n",
    "\n",
    "* [1985](http://link.springer.com/article/10.1007%2FBF00940812?LI=true) Černý, V. (1985). Thermodynamical approach to the traveling salesman problem: An efficient simulation algorithm. Journal of optimization theory and applications, 45(1), 41-51.\n",
    "\n",
    "    - statistical system (cities and distances)\n",
    "    - study of different configurations (e.g. cities in a circle)\n",
    "    - get quite close to the optimal solution of the traveling salesman problem.\n",
    "    - In thermodynamics, it is well known that the equilibrium state is a state with maximum entropy In this sense, the transition to an equilibrium is an optimization problem: the search for the maximum of the entropy. \n",
    "\n",
    "\n",
    "* [1987](https://www.researchgate.net/profile/Angelo_Corana/publication/220492522_Minimizing_Multimodal_Functions_Of_Continuous-Variables_with_Simulated_Annealing_Algorithm/links/00b7d5163cb37c30f9000000/Minimizing-Multimodal-Functions-Of-Continuous-Variables-with-Simulated-Annealing-Algorithm.pdf) Corana, A., Marchesi, M., Martini, C., & Ridella, S. (1987). Minimizing multimodal functions of continuous variables with the “simulated annealing” algorithm Corrigenda for this article is available here. ACM Transactions on Mathematical Software (TOMS), 13(3), 262-280.\n",
    "    - apply on continious domain\n",
    "    - difficulties: the choice of the starting temperature $T_0$\n",
    "    - monitoring the function behavior as SA proceeds\n",
    "    \n",
    "    \n",
    "* [2013](https://journal.r-project.org/archive/2013-1/xiang-gubian-suomela-etal.pdf) Xiang, Y., Gubian, S., Suomela, B., & Hoeng, J. (2013). Generalized simulated annealing for global optimization: the GenSA Package. The R Journal, 5(1), 13-29.\n",
    "    - R Package GenSA\n",
    "    - generalized simulated annealing algorithm\n",
    "    \n",
    "    \n",
    "    \n",
    "* [2016](https://www.ncbi.nlm.nih.gov/pmc/articles/PMC4912009/) Strobl, M. A., & Barker, D. (2016). On simulated annealing phase transitions in phylogeny reconstruction. Molecular phylogenetics and evolution, 101, 46-55.\n",
    "\n",
    "    * Phylogeny reconstruction with global criteria is  NP-hard\n",
    "    * how phase transition can help advance our understanding of the functioning of simulated annealing.\n",
    "    \n",
    "    \n",
    "* [1998](http://www.stat.phys.titech.ac.jp/~nishimori/papers/98PRE5355.pdf) Kadowaki, T., & Nishimori, H. (1998). Quantum annealing in the transverse Ising model. Physical Review E, 58(5), 5355.  \n",
    "    \n",
    "* [Patent](https://www.google.ch/patents/US20030014225) Thermodynamic simulated annealing schedule for combinatorial optimization problems\n",
    "\n",
    "\n"
   ]
  },
  {
   "cell_type": "code",
   "execution_count": null,
   "metadata": {
    "slideshow": {
     "slide_type": "notes"
    }
   },
   "outputs": [],
   "source": [
    "from math import sin,cos,pi\n",
    "import matplotlib.pyplot as plt\n",
    "import numpy as np\n",
    "\n",
    "%matplotlib inline \n",
    "\n",
    "f = lambda x: 3*np.sin(x*2*pi)+0.4*x*x\n",
    "\n",
    "x = np.arange(-4, 5, 0.01);\n",
    "y = f(x)\n",
    "\n",
    "i = np.argmin(y)\n",
    "x0 = x[i]\n",
    "y0 = y[i]\n",
    "\n",
    "plt.figure(figsize=(12,8))\n",
    "plt.plot([x0],[y0],'ro')\n",
    "plt.plot(x, y)\n",
    "plt.savefig('fig/gmin.png', format='png')"
   ]
  }
 ],
 "metadata": {
  "celltoolbar": "Slideshow",
  "kernelspec": {
   "display_name": "Python 3",
   "language": "python",
   "name": "python3"
  },
  "language_info": {
   "codemirror_mode": {
    "name": "ipython",
    "version": 3
   },
   "file_extension": ".py",
   "mimetype": "text/x-python",
   "name": "python",
   "nbconvert_exporter": "python",
   "pygments_lexer": "ipython3",
   "version": "3.8.10"
  }
 },
 "nbformat": 4,
 "nbformat_minor": 2
}
