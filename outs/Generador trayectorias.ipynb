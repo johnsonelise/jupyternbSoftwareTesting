{
 "cells": [
  {
   "cell_type": "code",
   "execution_count": 1,
   "metadata": {
    "collapsed": true,
    "jupyter": {
     "outputs_hidden": true
    }
   },
   "outputs": [],
   "source": [
    "# A = \"QO2 -> 3i -> LB -> 2j -> 1.0i+1.0j -> FS\"\n",
    "A = \"3i -> 2j -> 1.0i+1.0j\""
   ]
  },
  {
   "cell_type": "code",
   "execution_count": 2,
   "metadata": {},
   "outputs": [
    {
     "data": {
      "text/plain": [
       "['3i ', ' 2j ', ' 1.0i+1.0j']"
      ]
     },
     "execution_count": 2,
     "metadata": {},
     "output_type": "execute_result"
    }
   ],
   "source": [
    "coms = A.split(\"->\")\n",
    "coms"
   ]
  },
  {
   "cell_type": "code",
   "execution_count": 3,
   "metadata": {
    "collapsed": true,
    "jupyter": {
     "outputs_hidden": true
    }
   },
   "outputs": [],
   "source": [
    "def trayecto_a_vector(trayecto):\n",
    "    trayecto = trayecto.replace(\" \", \"\")\n",
    "    componentes = trayecto.split(\"+\")\n",
    "    return componentes"
   ]
  },
  {
   "cell_type": "code",
   "execution_count": 4,
   "metadata": {},
   "outputs": [
    {
     "data": {
      "text/plain": [
       "['3i']"
      ]
     },
     "execution_count": 4,
     "metadata": {},
     "output_type": "execute_result"
    }
   ],
   "source": [
    "trayecto_a_vector(coms[0])"
   ]
  },
  {
   "cell_type": "code",
   "execution_count": 5,
   "metadata": {},
   "outputs": [
    {
     "data": {
      "text/plain": [
       "['2j']"
      ]
     },
     "execution_count": 5,
     "metadata": {},
     "output_type": "execute_result"
    }
   ],
   "source": [
    "trayecto_a_vector(coms[1])"
   ]
  },
  {
   "cell_type": "code",
   "execution_count": 6,
   "metadata": {},
   "outputs": [
    {
     "data": {
      "text/plain": [
       "['1.0i', '1.0j']"
      ]
     },
     "execution_count": 6,
     "metadata": {},
     "output_type": "execute_result"
    }
   ],
   "source": [
    "trayecto_a_vector(coms[2])"
   ]
  },
  {
   "cell_type": "code",
   "execution_count": 7,
   "metadata": {},
   "outputs": [
    {
     "data": {
      "text/plain": [
       "'3'"
      ]
     },
     "execution_count": 7,
     "metadata": {},
     "output_type": "execute_result"
    }
   ],
   "source": [
    "\"3i\"[0]"
   ]
  },
  {
   "cell_type": "code",
   "execution_count": 8,
   "metadata": {},
   "outputs": [
    {
     "data": {
      "text/plain": [
       "'i'"
      ]
     },
     "execution_count": 8,
     "metadata": {},
     "output_type": "execute_result"
    }
   ],
   "source": [
    "\"3i\"[-1]"
   ]
  },
  {
   "cell_type": "code",
   "execution_count": 9,
   "metadata": {},
   "outputs": [
    {
     "data": {
      "text/plain": [
       "'2.0'"
      ]
     },
     "execution_count": 9,
     "metadata": {},
     "output_type": "execute_result"
    }
   ],
   "source": [
    "\"2.0i\"[0:-1]"
   ]
  },
  {
   "cell_type": "code",
   "execution_count": 10,
   "metadata": {
    "collapsed": true,
    "jupyter": {
     "outputs_hidden": true
    }
   },
   "outputs": [],
   "source": [
    "from numpy import array"
   ]
  },
  {
   "cell_type": "code",
   "execution_count": 11,
   "metadata": {},
   "outputs": [
    {
     "data": {
      "text/plain": [
       "array([3, 0, 0])"
      ]
     },
     "execution_count": 11,
     "metadata": {},
     "output_type": "execute_result"
    }
   ],
   "source": [
    "a = array([0,0,0])\n",
    "b = array([1,0,0])\n",
    "3*(a + b)"
   ]
  },
  {
   "cell_type": "code",
   "execution_count": 12,
   "metadata": {},
   "outputs": [
    {
     "data": {
      "text/plain": [
       "array([0, 0, 1])"
      ]
     },
     "execution_count": 12,
     "metadata": {},
     "output_type": "execute_result"
    }
   ],
   "source": [
    "ejes = {\"i\":array([1,0,0]), \"j\":array([0,1,0]), \"k\":array([0,0,1])}\n",
    "ejes[\"k\"]"
   ]
  },
  {
   "cell_type": "code",
   "execution_count": 13,
   "metadata": {
    "collapsed": true,
    "jupyter": {
     "outputs_hidden": true
    }
   },
   "outputs": [],
   "source": [
    "def trayecto_a_vector(trayecto):\n",
    "    '''\n",
    "    Esta función toma como argumento una cadena de caracteres con el siguiente formato:\n",
    "    \"flotante1 i + flotante2 j + flotante3 k\" en donde flotante puede ser un numero \n",
    "    entero o flotante e i, j y k se refieren a los vectores unitarios que generan un\n",
    "    plano cartesiano.\n",
    "    \n",
    "    Esta función devolverá un vector con formato array de numpy en la dirección indicada\n",
    "    por la cadena de caracteres.\n",
    "    \n",
    "    Ejemplo:\n",
    "    >>> trayecto_a_vector(\"3i+2j\")\n",
    "    array([3., 2., 0.])\n",
    "    \n",
    "    '''\n",
    "    from numpy import array\n",
    "    \n",
    "    trayecto = trayecto.replace(\" \", \"\")\n",
    "    componentes = trayecto.split(\"+\")\n",
    "    resultante = array([0,0,0])\n",
    "    \n",
    "    ejes = {\"i\":array([1,0,0]),\n",
    "            \"j\":array([0,1,0]),\n",
    "            \"k\":array([0,0,1])}\n",
    "    \n",
    "    for componente in componentes:\n",
    "        resultante = resultante + float(componente[0:-1])*ejes[componente[-1]]\n",
    "        \n",
    "    return resultante"
   ]
  },
  {
   "cell_type": "code",
   "execution_count": 14,
   "metadata": {},
   "outputs": [
    {
     "data": {
      "text/plain": [
       "array([ 3.,  0.,  0.])"
      ]
     },
     "execution_count": 14,
     "metadata": {},
     "output_type": "execute_result"
    }
   ],
   "source": [
    "trayecto_a_vector(coms[0])"
   ]
  },
  {
   "cell_type": "code",
   "execution_count": 15,
   "metadata": {},
   "outputs": [
    {
     "data": {
      "text/plain": [
       "array([ 0.,  2.,  0.])"
      ]
     },
     "execution_count": 15,
     "metadata": {},
     "output_type": "execute_result"
    }
   ],
   "source": [
    "trayecto_a_vector(coms[1])"
   ]
  },
  {
   "cell_type": "code",
   "execution_count": 16,
   "metadata": {},
   "outputs": [
    {
     "data": {
      "text/plain": [
       "array([ 1.,  1.,  0.])"
      ]
     },
     "execution_count": 16,
     "metadata": {},
     "output_type": "execute_result"
    }
   ],
   "source": [
    "trayecto_a_vector(coms[2])"
   ]
  },
  {
   "cell_type": "code",
   "execution_count": 17,
   "metadata": {},
   "outputs": [
    {
     "data": {
      "text/plain": [
       "[array([ 3.,  0.,  0.]), array([ 0.,  2.,  0.]), array([ 1.,  1.,  0.])]"
      ]
     },
     "execution_count": 17,
     "metadata": {},
     "output_type": "execute_result"
    }
   ],
   "source": [
    "vecs = [trayecto_a_vector(trayecto) for trayecto in coms]\n",
    "vecs"
   ]
  },
  {
   "cell_type": "code",
   "execution_count": 18,
   "metadata": {},
   "outputs": [
    {
     "data": {
      "text/plain": [
       "[array([0, 0, 0]),\n",
       " array([ 3.,  0.,  0.]),\n",
       " array([ 3.,  2.,  0.]),\n",
       " array([ 4.,  3.,  0.])]"
      ]
     },
     "execution_count": 18,
     "metadata": {},
     "output_type": "execute_result"
    }
   ],
   "source": [
    "puntos = [array([0,0,0]), vecs[0], vecs[0] + vecs[1], vecs[0] + vecs[1] + vecs[2]]\n",
    "puntos"
   ]
  },
  {
   "cell_type": "code",
   "execution_count": 19,
   "metadata": {},
   "outputs": [
    {
     "data": {
      "text/plain": [
       "(array([ 0.,  3.,  3.,  4.]),\n",
       " array([ 0.,  0.,  2.,  3.]),\n",
       " array([ 0.,  0.,  0.,  0.]))"
      ]
     },
     "execution_count": 19,
     "metadata": {},
     "output_type": "execute_result"
    }
   ],
   "source": [
    "xs, ys, zs = array(puntos).T\n",
    "xs, ys, zs"
   ]
  },
  {
   "cell_type": "code",
   "execution_count": 20,
   "metadata": {
    "collapsed": true,
    "jupyter": {
     "outputs_hidden": true
    }
   },
   "outputs": [],
   "source": [
    "from matplotlib.pyplot import figure, plot, style\n",
    "from mpl_toolkits.mplot3d import Axes3D\n",
    "%matplotlib inline"
   ]
  },
  {
   "cell_type": "code",
   "execution_count": 21,
   "metadata": {},
   "outputs": [
    {
     "data": {
      "image/png": "[encoded data removed]",
      "text/plain": [
       "<matplotlib.figure.Figure at 0x110484828>"
      ]
     },
     "metadata": {},
     "output_type": "display_data"
    }
   ],
   "source": [
    "f1 = figure(figsize=(8, 8))\n",
    "a1 = f1.add_subplot(111, projection='3d')\n",
    "a1.plot(xs, ys, zs, \"-\");"
   ]
  },
  {
   "cell_type": "code",
   "execution_count": 22,
   "metadata": {
    "collapsed": true,
    "jupyter": {
     "outputs_hidden": true
    }
   },
   "outputs": [],
   "source": [
    "B = \"2k -> 3i -> 2j -> 1.0i+1.0j -> -1k\""
   ]
  },
  {
   "cell_type": "code",
   "execution_count": 23,
   "metadata": {},
   "outputs": [
    {
     "data": {
      "text/plain": [
       "[array([0, 0, 0]),\n",
       " array([ 0.,  0.,  2.]),\n",
       " array([ 3.,  0.,  2.]),\n",
       " array([ 3.,  2.,  2.]),\n",
       " array([ 4.,  3.,  2.]),\n",
       " array([ 4.,  3.,  1.])]"
      ]
     },
     "execution_count": 23,
     "metadata": {},
     "output_type": "execute_result"
    }
   ],
   "source": [
    "coms2 = B.split(\"->\")\n",
    "vecs2 = [trayecto_a_vector(trayecto) for trayecto in coms2]\n",
    "puntos2 = [array([0,0,0]),\n",
    "          vecs2[0],\n",
    "          vecs2[0] + vecs2[1],\n",
    "          vecs2[0] + vecs2[1] + vecs2[2],\n",
    "          vecs2[0] + vecs2[1] + vecs2[2] + vecs2[3],\n",
    "          vecs2[0] + vecs2[1] + vecs2[2] + vecs2[3] + vecs2[4]]\n",
    "xs, ys, zs = array(puntos2).T\n",
    "puntos2"
   ]
  },
  {
   "cell_type": "code",
   "execution_count": 24,
   "metadata": {},
   "outputs": [
    {
     "data": {
      "image/png": "[encoded data removed]",
      "text/plain": [
       "<matplotlib.figure.Figure at 0x113810240>"
      ]
     },
     "metadata": {},
     "output_type": "display_data"
    }
   ],
   "source": [
    "f2 = figure(figsize=(8, 8))\n",
    "a2 = f2.add_subplot(111, projection='3d')\n",
    "a2._axis3don = False\n",
    "a2.plot(xs, ys, zs, \"k-\");"
   ]
  },
  {
   "cell_type": "code",
   "execution_count": 25,
   "metadata": {
    "collapsed": true,
    "jupyter": {
     "outputs_hidden": true
    }
   },
   "outputs": [],
   "source": [
    "from matplotlib.patches import Circle, PathPatch, Rectangle\n",
    "import mpl_toolkits.mplot3d.art3d as art3d"
   ]
  },
  {
   "cell_type": "code",
   "execution_count": 26,
   "metadata": {},
   "outputs": [
    {
     "data": {
      "image/png": "[encoded data removed]",
      "text/plain": [
       "<matplotlib.figure.Figure at 0x113ac9898>"
      ]
     },
     "metadata": {},
     "output_type": "display_data"
    }
   ],
   "source": [
    "f3 = figure(figsize=(8, 8))\n",
    "a3 = f3.add_subplot(111, projection='3d')\n",
    "a3._axis3don = False\n",
    "a3.plot(xs, ys, zs, \"k-\")\n",
    "\n",
    "c = Circle((xs[-1], zs[-1]-0.1), 0.1, lw=1, ec=\"k\", fc=\"w\")\n",
    "a3.add_patch(c)\n",
    "art3d.pathpatch_2d_to_3d(c, z=ys[-1], zdir=\"y\")\n",
    "\n",
    "r = Rectangle((-0.1,-0.2), 0.2, 0.2, lw=1, ec=\"k\", fc=\"w\")\n",
    "a3.add_patch(r)\n",
    "art3d.pathpatch_2d_to_3d(r, z=0, zdir=\"x\")\n",
    "a3.plot([0,0], [-0.1, 0.1], [-0.2, 0], \"k-\")\n",
    "a3.plot([0,0], [0.1, -0.1], [-0.2, 0], \"k-\");"
   ]
  },
  {
   "cell_type": "code",
   "execution_count": 27,
   "metadata": {
    "collapsed": true,
    "jupyter": {
     "outputs_hidden": true
    }
   },
   "outputs": [],
   "source": [
    "def graf_trayectorias(especificacion):\n",
    "    \n",
    "    nodos_conocidos=[\"LB\", \"FS\", \"QO2\"]\n",
    "    \n",
    "    especificacion = especificacion.replace(\" \", \"\")\n",
    "    grafo = especificacion.split(\"->\")\n",
    "    \n",
    "    trayectorias = [elemento for elemento in grafo if elemento != \"LB\" and elemento != \"FS\" and elemento != \"QO2\"]\n",
    "    return trayectorias"
   ]
  },
  {
   "cell_type": "code",
   "execution_count": 28,
   "metadata": {},
   "outputs": [
    {
     "data": {
      "text/plain": [
       "['3i', '2j', '1.0i+1.0j']"
      ]
     },
     "execution_count": 28,
     "metadata": {},
     "output_type": "execute_result"
    }
   ],
   "source": [
    "graf_trayectorias(\"QO2 -> 3i -> LB -> 2j -> 1.0i+1.0j -> FS\")"
   ]
  },
  {
   "cell_type": "code",
   "execution_count": 29,
   "metadata": {},
   "outputs": [
    {
     "data": {
      "text/plain": [
       "['3i', '2j', '1.0i+1.0j']"
      ]
     },
     "execution_count": 29,
     "metadata": {},
     "output_type": "execute_result"
    }
   ],
   "source": [
    "graf_trayectorias(\"3i -> LB -> 2j -> 1.0i+1.0j -> FS\")"
   ]
  },
  {
   "cell_type": "code",
   "execution_count": 30,
   "metadata": {},
   "outputs": [
    {
     "data": {
      "text/plain": [
       "['3i', '2j', '1.0i+1.0j']"
      ]
     },
     "execution_count": 30,
     "metadata": {},
     "output_type": "execute_result"
    }
   ],
   "source": [
    "graf_trayectorias(\"3i -> 2j -> 1.0i+1.0j -> FS\")"
   ]
  },
  {
   "cell_type": "code",
   "execution_count": 31,
   "metadata": {},
   "outputs": [
    {
     "data": {
      "text/plain": [
       "['3i', '2j', '1.0i+1.0j']"
      ]
     },
     "execution_count": 31,
     "metadata": {},
     "output_type": "execute_result"
    }
   ],
   "source": [
    "graf_trayectorias(\"3i -> 2j -> 1.0i+1.0j\")"
   ]
  },
  {
   "cell_type": "code",
   "execution_count": 32,
   "metadata": {
    "collapsed": true,
    "jupyter": {
     "outputs_hidden": true
    }
   },
   "outputs": [],
   "source": [
    "def graf_trayectorias(especificacion):\n",
    "    \n",
    "    nodos_conocidos=[\"LB\", \"FS\", \"QO2\"]\n",
    "    \n",
    "    especificacion = especificacion.replace(\" \", \"\")\n",
    "    grafo = especificacion.split(\"->\")\n",
    "    \n",
    "    trayectorias = [elemento for elemento in grafo if elemento != \"LB\" and elemento != \"FS\" and elemento != \"QO2\"]\n",
    "    vectores = [trayecto_a_vector(trayecto) for trayecto in trayectorias]\n",
    "    return vectores"
   ]
  },
  {
   "cell_type": "code",
   "execution_count": 33,
   "metadata": {},
   "outputs": [
    {
     "data": {
      "text/plain": [
       "[array([ 3.,  0.,  0.]), array([ 0.,  2.,  0.]), array([ 1.,  1.,  0.])]"
      ]
     },
     "execution_count": 33,
     "metadata": {},
     "output_type": "execute_result"
    }
   ],
   "source": [
    "graf_trayectorias(\"QO2 -> 3i -> LB -> 2j -> 1.0i+1.0j -> FS\")"
   ]
  },
  {
   "cell_type": "code",
   "execution_count": 34,
   "metadata": {
    "collapsed": true,
    "jupyter": {
     "outputs_hidden": true
    }
   },
   "outputs": [],
   "source": [
    "A = [1,1,1]"
   ]
  },
  {
   "cell_type": "code",
   "execution_count": 35,
   "metadata": {},
   "outputs": [
    {
     "data": {
      "text/plain": [
       "True"
      ]
     },
     "execution_count": 35,
     "metadata": {},
     "output_type": "execute_result"
    }
   ],
   "source": [
    "type(A) is list"
   ]
  },
  {
   "cell_type": "code",
   "execution_count": 36,
   "metadata": {
    "collapsed": true,
    "jupyter": {
     "outputs_hidden": true
    }
   },
   "outputs": [],
   "source": [
    "def vectores_a_nodos(vectores, acumulado=[array([0,0,0])]):\n",
    "    \"\"\"\n",
    "    Esta función recursiva toma una lista de n vectores definidos como array\n",
    "    de numpy y un vector inicial (por default el origen) y suma todas las\n",
    "    coordenadas de a una, para obtener las coordenadas de la trayectoria\n",
    "    definida en un array de dimension 3 x n.\n",
    "    \n",
    "    Ejemplo:\n",
    "    vectores_a_nodos([array([0,0,1]), array([2,0,0]), array([0,1,0]), array([0,0,-1.5])], acumulado=[array([0,0,1.5])])\n",
    "    >>> array([[ 0.,  0.,  1.5],\n",
    "               [ 0.,  0.,  2.5],\n",
    "               [ 2.,  0.,  2.5],\n",
    "               [ 2.,  1.,  2.5],\n",
    "               [ 2.,  1.,  1.]])\n",
    "               \n",
    "    \"\"\"\n",
    "    actual = acumulado[-1] + vectores[0]\n",
    "    acumulado.append(actual)\n",
    "    \n",
    "    if len(vectores) > 1:\n",
    "        acumulado = vectores_a_nodos(vectores[1:], acumulado)\n",
    "        \n",
    "    return array(acumulado)"
   ]
  },
  {
   "cell_type": "code",
   "execution_count": 37,
   "metadata": {},
   "outputs": [
    {
     "data": {
      "text/plain": [
       "[array([ 0.,  0.,  2.]),\n",
       " array([ 3.,  0.,  0.]),\n",
       " array([ 0.,  2.,  0.]),\n",
       " array([ 1.,  1.,  0.]),\n",
       " array([ 0.,  0., -1.])]"
      ]
     },
     "execution_count": 37,
     "metadata": {},
     "output_type": "execute_result"
    }
   ],
   "source": [
    "vecs2"
   ]
  },
  {
   "cell_type": "code",
   "execution_count": 38,
   "metadata": {},
   "outputs": [
    {
     "data": {
      "text/plain": [
       "array([[ 0.,  0.,  0.],\n",
       "       [ 0.,  0.,  2.],\n",
       "       [ 3.,  0.,  2.],\n",
       "       [ 3.,  2.,  2.],\n",
       "       [ 4.,  3.,  2.],\n",
       "       [ 4.,  3.,  1.]])"
      ]
     },
     "execution_count": 38,
     "metadata": {},
     "output_type": "execute_result"
    }
   ],
   "source": [
    "puntos = vectores_a_nodos(vecs2, [array([0,0,0])])\n",
    "puntos"
   ]
  },
  {
   "cell_type": "code",
   "execution_count": 39,
   "metadata": {},
   "outputs": [
    {
     "data": {
      "text/plain": [
       "False"
      ]
     },
     "execution_count": 39,
     "metadata": {},
     "output_type": "execute_result"
    }
   ],
   "source": [
    "a = array([1,1,1])\n",
    "type(a) is list"
   ]
  },
  {
   "cell_type": "code",
   "execution_count": 40,
   "metadata": {},
   "outputs": [
    {
     "data": {
      "text/plain": [
       "list"
      ]
     },
     "execution_count": 40,
     "metadata": {},
     "output_type": "execute_result"
    }
   ],
   "source": [
    "type([1,1])"
   ]
  },
  {
   "cell_type": "code",
   "execution_count": 41,
   "metadata": {
    "collapsed": true,
    "jupyter": {
     "outputs_hidden": true
    }
   },
   "outputs": [],
   "source": [
    "def graf_trayectorias(especificacion):\n",
    "    \n",
    "    nodos_conocidos=[\"LB\", \"FS\", \"QO2\"]\n",
    "    \n",
    "    especificacion = especificacion.replace(\" \", \"\")\n",
    "    grafo = especificacion.split(\"->\")\n",
    "    \n",
    "    trayectorias = [elemento for elemento in grafo if elemento != \"LB\" and elemento != \"FS\" and elemento != \"QO2\"]\n",
    "    vectores = [trayecto_a_vector(trayecto) for trayecto in trayectorias]\n",
    "    \n",
    "    puntos = vectores_a_nodos(vectores, [array([0,0,0])])\n",
    "    xs, ys, zs = puntos.T\n",
    "    max_dim = max([max(xs), max(ys), max(zs)])\n",
    "    \n",
    "    fig = figure(figsize=(8, 8))\n",
    "    ax = fig.add_subplot(111, projection='3d')\n",
    "    ax._axis3don = False\n",
    "    ax.plot(xs, ys, zs, \"k-\");\n",
    "    ax.set_xlim(0, max_dim*1.1);\n",
    "    ax.set_ylim(0, max_dim*1.1);\n",
    "    ax.set_zlim(0, max_dim*1.1);"
   ]
  },
  {
   "cell_type": "code",
   "execution_count": 42,
   "metadata": {},
   "outputs": [
    {
     "data": {
      "image/png": "[encoded data removed]",
      "text/plain": [
       "<matplotlib.figure.Figure at 0x113bef400>"
      ]
     },
     "metadata": {},
     "output_type": "display_data"
    }
   ],
   "source": [
    "graf_trayectorias(\"QO2 -> 3i -> LB -> 2j -> 1.0i+1.0j -> FS\")"
   ]
  },
  {
   "cell_type": "code",
   "execution_count": 43,
   "metadata": {},
   "outputs": [
    {
     "data": {
      "image/png": "[encoded data removed]",
      "text/plain": [
       "<matplotlib.figure.Figure at 0x113c12390>"
      ]
     },
     "metadata": {},
     "output_type": "display_data"
    }
   ],
   "source": [
    "graf_trayectorias(\"QO2 -> 1k -> 3i -> LB -> 3j -> 1.0i+1.0j -> -1.2k -> FS\")"
   ]
  },
  {
   "cell_type": "code",
   "execution_count": 44,
   "metadata": {},
   "outputs": [
    {
     "data": {
      "text/plain": [
       "3"
      ]
     },
     "execution_count": 44,
     "metadata": {},
     "output_type": "execute_result"
    }
   ],
   "source": [
    "(\"QO2 -> 1k -> 3i -> LB -> 3j -> LB -> 1.0i+1.0j -> -2k -> FS\".replace(\" \", \"\").split(\"->\")).index(\"LB\")"
   ]
  },
  {
   "cell_type": "code",
   "execution_count": 45,
   "metadata": {
    "collapsed": true,
    "jupyter": {
     "outputs_hidden": true
    }
   },
   "outputs": [],
   "source": [
    "A = [1, 2, 3]"
   ]
  },
  {
   "cell_type": "code",
   "execution_count": 46,
   "metadata": {},
   "outputs": [
    {
     "data": {
      "text/plain": [
       "1"
      ]
     },
     "execution_count": 46,
     "metadata": {},
     "output_type": "execute_result"
    }
   ],
   "source": [
    "A.index(2)"
   ]
  },
  {
   "cell_type": "code",
   "execution_count": 106,
   "metadata": {
    "collapsed": true,
    "jupyter": {
     "outputs_hidden": true
    }
   },
   "outputs": [],
   "source": [
    "def axisEqual3D(ax):\n",
    "    \n",
    "    from numpy import array, mean\n",
    "    \n",
    "    extents = array([getattr(ax, 'get_{}lim'.format(dim))() for dim in 'xyz'])\n",
    "    print(extents)\n",
    "    sz = extents[:,1] - extents[:,0]\n",
    "    centers = mean(extents, axis=1)\n",
    "    maxsize = max(abs(sz))\n",
    "    r = maxsize/2\n",
    "    for ctr, dim in zip(centers, 'xyz'):\n",
    "        getattr(ax, 'set_{}lim'.format(dim))(ctr - r, ctr + r)"
   ]
  },
  {
   "cell_type": "code",
   "execution_count": 51,
   "metadata": {
    "collapsed": true,
    "jupyter": {
     "outputs_hidden": true
    }
   },
   "outputs": [],
   "source": [
    "def graf_trayectorias(especificacion):\n",
    "    \n",
    "    from numpy import array\n",
    "    from matplotlib.pyplot import figure\n",
    "    from mpl_toolkits.mplot3d import Axes3D\n",
    "    from matplotlib.patches import Circle, PathPatch, Rectangle\n",
    "    import mpl_toolkits.mplot3d.art3d as art3d\n",
    "    \n",
    "    nodos_conocidos=[\"LB\", \"FS\", \"QO2\"]\n",
    "    \n",
    "    especificacion = especificacion.replace(\" \", \"\")\n",
    "    grafo = especificacion.split(\"->\")\n",
    "    \n",
    "    trayectorias = [elemento for elemento in grafo if elemento != \"LB\" and elemento != \"FS\" and elemento != \"QO2\"]\n",
    "    vectores = [trayecto_a_vector(trayecto) for trayecto in trayectorias]\n",
    "    \n",
    "    puntos = vectores_a_nodos(vectores, [array([0,0,0])])\n",
    "    xs, ys, zs = puntos.T\n",
    "    max_dim = max([max(xs), max(ys), max(zs)])\n",
    "    \n",
    "    fig = figure(figsize=(8, 8))\n",
    "    ax = fig.add_subplot(111, projection='3d')\n",
    "    ax._axis3don = False\n",
    "    ax.plot(xs, ys, zs, \"k-\");\n",
    "    axisEqual3D(ax);"
   ]
  },
  {
   "cell_type": "code",
   "execution_count": 52,
   "metadata": {},
   "outputs": [
    {
     "data": {
      "image/png": "[encoded data removed]",
      "text/plain": [
       "<matplotlib.figure.Figure at 0x1140a0e48>"
      ]
     },
     "metadata": {},
     "output_type": "display_data"
    }
   ],
   "source": [
    "graf_trayectorias(\"QO2 -> 3i -> LB -> 2j -> 1.0i+1.0j -> FS\")"
   ]
  },
  {
   "cell_type": "code",
   "execution_count": 53,
   "metadata": {},
   "outputs": [
    {
     "data": {
      "image/png": "[encoded data removed]",
      "text/plain": [
       "<matplotlib.figure.Figure at 0x113e3ffd0>"
      ]
     },
     "metadata": {},
     "output_type": "display_data"
    }
   ],
   "source": [
    "graf_trayectorias(\"QO2 -> 1k -> 3i -> LB -> 3j -> 1.0i+1.0j -> -1.2k -> FS\")"
   ]
  },
  {
   "cell_type": "code",
   "execution_count": 187,
   "metadata": {
    "collapsed": true,
    "jupyter": {
     "outputs_hidden": true
    }
   },
   "outputs": [],
   "source": [
    "def contacto(eje, x, y, z, plano):\n",
    "    \n",
    "    from matplotlib.patches import Circle, PathPatch\n",
    "    import mpl_toolkits.mplot3d.art3d as art3d\n",
    "    \n",
    "    c = Circle((x, y), 0.1, lw=1, ec=\"k\", fc=\"w\")\n",
    "    eje.add_patch(c)\n",
    "    \n",
    "    if plano == \"xz\":\n",
    "        art3d.pathpatch_2d_to_3d(c, z=z, zdir=\"y\")\n",
    "    else:\n",
    "        if plano == \"xy\":\n",
    "            art3d.pathpatch_2d_to_3d(c, z=z, zdir=\"z\")\n",
    "        else:\n",
    "            if plano == \"yz\":\n",
    "                art3d.pathpatch_2d_to_3d(c, z=z, zdir=\"x\")\n",
    "                \n",
    "def centro_carga(eje, x, y, z, plano):\n",
    "    if plano == \"xz\":\n",
    "        direccion  = \"y\"\n",
    "        u,   v,  w = x, z, y\n",
    "        Δu, Δv, Δw = 0.1, 0, 0.1\n",
    "    else:\n",
    "        if plano == \"xy\":\n",
    "            direccion = \"z\"\n",
    "            u, v, w = x, y, z\n",
    "            Δu, Δv, Δw = 0.1, 0.1, 0\n",
    "        else:\n",
    "            if plano == \"yz\":\n",
    "                direccion = \"x\"\n",
    "                u, v, w = y, z, x\n",
    "                Δu, Δv, Δw = 0, 0.1, 0.1\n",
    "    \n",
    "    from matplotlib.patches import Circle, PathPatch\n",
    "    import mpl_toolkits.mplot3d.art3d as art3d\n",
    "    \n",
    "    r = Rectangle((u - 0.1, v - 0.1), 0.2, 0.2, lw=1, ec=\"k\", fc=\"w\")\n",
    "    eje.add_patch(r)\n",
    "    eje.plot([u - Δu, u + Δu], [v - Δv, v + Δv], [w - Δw, w + Δw], \"k-\")\n",
    "    eje.plot([u + Δu, u - Δu], [v + Δv, v - Δv], [w - Δw, w + Δw], \"k-\")\n",
    "    \n",
    "    art3d.pathpatch_2d_to_3d(r, z=w, zdir=direccion)"
   ]
  },
  {
   "cell_type": "code",
   "execution_count": 220,
   "metadata": {
    "collapsed": true,
    "jupyter": {
     "outputs_hidden": true
    }
   },
   "outputs": [],
   "source": [
    "def graf_trayectorias(especificacion, unidades=\"m\"):\n",
    "    \n",
    "    from numpy import array, sqrt\n",
    "    from matplotlib.pyplot import figure\n",
    "    from mpl_toolkits.mplot3d import Axes3D\n",
    "    from matplotlib.patches import Circle, PathPatch, Rectangle\n",
    "    import mpl_toolkits.mplot3d.art3d as art3d\n",
    "    \n",
    "    nodos_conocidos=[\"LB\", \"FS\", \"QO2\"]\n",
    "    \n",
    "    especificacion = especificacion.replace(\" \", \"\")\n",
    "    grafo = especificacion.split(\"->\")\n",
    "    \n",
    "    trayectorias = [elemento for elemento in grafo if elemento not in nodos_conocidos]\n",
    "    vectores = [trayecto_a_vector(trayecto) for trayecto in trayectorias]\n",
    "    magnitudes = [sqrt(vector.dot(vector)) for vector in vectores]\n",
    "    acotaciones = [\"{:.2f}\".format(magnitud) + unidades for magnitud in magnitudes]\n",
    "    posiciones_acotaciones = \n",
    "    print(acotaciones)\n",
    "    \n",
    "    puntos = vectores_a_nodos(vectores, [array([0,0,0])])\n",
    "    xs, ys, zs = puntos.T\n",
    "    max_dim = max([max(xs), max(ys), max(zs)])\n",
    "    \n",
    "    fig = figure(figsize=(15, 15))\n",
    "    ax = fig.add_subplot(111, projection='3d')\n",
    "    ax._axis3don = False\n",
    "    ax.view_init(elev=30., azim=-45.)\n",
    "    ax.plot(xs, ys, zs, \"k-\")\n",
    "    contacto(ax, xs[-1], zs[-1], ys[-1], \"xz\")\n",
    "    centro_carga(ax, ys[0], zs[0], xs[0], \"yz\")\n",
    "    axisEqual3D(ax);"
   ]
  },
  {
   "cell_type": "code",
   "execution_count": 221,
   "metadata": {},
   "outputs": [
    {
     "name": "stdout",
     "output_type": "stream",
     "text": [
      "['1.00m', '3.00m', '3.00m', '1.41m', '1.20m']\n",
      "[[-0.2    4.2  ]\n",
      " [-0.305  4.205]\n",
      " [-0.2    1.   ]]\n"
     ]
    },
    {
     "data": {
      "image/png": "[encoded data removed]",
      "text/plain": [
       "<matplotlib.figure.Figure at 0x114a032b0>"
      ]
     },
     "metadata": {},
     "output_type": "display_data"
    }
   ],
   "source": [
    "graf_trayectorias(\"QO2 -> 1k -> 3i -> LB -> 3j -> 1.0i+1.0j -> -1.2k -> FS\", \"m\")"
   ]
  },
  {
   "cell_type": "code",
   "execution_count": 184,
   "metadata": {},
   "outputs": [
    {
     "data": {
      "text/plain": [
       "True"
      ]
     },
     "execution_count": 184,
     "metadata": {},
     "output_type": "execute_result"
    }
   ],
   "source": [
    "nodos_conocidos=[\"LB\", \"FS\", \"QO2\"]\n",
    "elemento = \"Q\"\n",
    "elemento not in nodos_conocidos"
   ]
  },
  {
   "cell_type": "code",
   "execution_count": null,
   "metadata": {
    "collapsed": true,
    "jupyter": {
     "outputs_hidden": true
    }
   },
   "outputs": [],
   "source": []
  }
 ],
 "metadata": {
  "kernelspec": {
   "display_name": "Python 3",
   "language": "python",
   "name": "python3"
  },
  "language_info": {
   "codemirror_mode": {
    "name": "ipython",
    "version": 3
   },
   "file_extension": ".py",
   "mimetype": "text/x-python",
   "name": "python",
   "nbconvert_exporter": "python",
   "pygments_lexer": "ipython3",
   "version": "3.7.3"
  }
 },
 "nbformat": 4,
 "nbformat_minor": 4
}
