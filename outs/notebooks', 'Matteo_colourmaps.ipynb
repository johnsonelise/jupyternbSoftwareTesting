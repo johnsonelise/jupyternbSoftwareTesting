{
 "cells": [
  {
   "cell_type": "markdown",
   "metadata": {},
   "source": [
    "# Matteo colourmaps"
   ]
  },
  {
   "cell_type": "markdown",
   "metadata": {},
   "source": [
    "Matteo Niccoli has made some awesome colourmaps, and has published a routine to convert them to Matplotlib colourmaps. This is very cool! \n",
    "\n",
    "He explains all in his 25 April 2014 blog post [Convert colour palettes to Python Matplotlib colour palettes](http://mycarta.wordpress.com/2014/04/25/convert-color-palettes-to-python-matplotlib-colormaps/)."
   ]
  },
  {
   "cell_type": "markdown",
   "metadata": {},
   "source": [
    "## Load the data"
   ]
  },
  {
   "cell_type": "markdown",
   "metadata": {},
   "source": [
    "There's a bit at the start where you are downloading data, unzipping, reformatting, etc. I thought I'd try doing all that in Python too..."
   ]
  },
  {
   "cell_type": "code",
   "execution_count": 1,
   "metadata": {
    "collapsed": false
   },
   "outputs": [
    {
     "name": "stdout",
     "output_type": "stream",
     "text": [
      "Populating the interactive namespace from numpy and matplotlib\n"
     ]
    }
   ],
   "source": [
    "%pylab inline\n",
    "import numpy as np"
   ]
  },
  {
   "cell_type": "markdown",
   "metadata": {},
   "source": [
    "We can read the data straight from the web. We'll need some of the standard libraries. "
   ]
  },
  {
   "cell_type": "code",
   "execution_count": 2,
   "metadata": {
    "collapsed": false
   },
   "outputs": [],
   "source": [
    "import urllib2, zipfile, StringIO"
   ]
  },
  {
   "cell_type": "markdown",
   "metadata": {},
   "source": [
    "Now we can read the zip file and examine its contents. We'll keep it in memory using a <code>StringIO</code> object."
   ]
  },
  {
   "cell_type": "code",
   "execution_count": 3,
   "metadata": {
    "collapsed": false
   },
   "outputs": [
    {
     "data": {
      "text/plain": [
       "['cube1_0-1.csv',\n",
       " '__MACOSX/',\n",
       " '__MACOSX/._cube1_0-1.csv',\n",
       " 'cubeYF_0-1.csv',\n",
       " '__MACOSX/._cubeYF_0-1.csv',\n",
       " 'Linear_L_0-1.csv',\n",
       " '__MACOSX/._Linear_L_0-1.csv']"
      ]
     },
     "execution_count": 3,
     "metadata": {},
     "output_type": "execute_result"
    }
   ],
   "source": [
    "remote_file = 'http://mycarta.files.wordpress.com/2013/03/0-1.odt'\n",
    "\n",
    "# Read the data from the web, as normal.\n",
    "web_data = urllib2.urlopen(remote_file)\n",
    " \n",
    "# Convert the bytes into a file-like object in memory\n",
    "zip_in_memory = StringIO.StringIO(web_data.read())\n",
    " \n",
    "# Instantiate a ZipFile object from the file-like in memory.\n",
    "z = zipfile.ZipFile(zip_in_memory)\n",
    " \n",
    "z.namelist()"
   ]
  },
  {
   "cell_type": "markdown",
   "metadata": {},
   "source": [
    "We need file number 5."
   ]
  },
  {
   "cell_type": "code",
   "execution_count": 4,
   "metadata": {
    "collapsed": false
   },
   "outputs": [],
   "source": [
    "f = z.open(z.namelist()[5])\n",
    "raw_data = f.read()"
   ]
  },
  {
   "cell_type": "markdown",
   "metadata": {},
   "source": [
    "Let's look at the first 100 characters:"
   ]
  },
  {
   "cell_type": "code",
   "execution_count": 5,
   "metadata": {
    "collapsed": false
   },
   "outputs": [
    {
     "data": {
      "text/plain": [
       "'0.0143,0.0143,0.0143\\r0.0404,0.0125,0.0325\\r0.0516,0.0154,0.0443\\r0.0616,0.0184,0.0530\\r0.0699,0.0215,0.'"
      ]
     },
     "execution_count": 5,
     "metadata": {},
     "output_type": "execute_result"
    }
   ],
   "source": [
    "raw_data[:100]"
   ]
  },
  {
   "cell_type": "markdown",
   "metadata": {},
   "source": [
    "We just need to split this to get a list of strings:"
   ]
  },
  {
   "cell_type": "code",
   "execution_count": 6,
   "metadata": {
    "collapsed": false
   },
   "outputs": [
    {
     "data": {
      "text/plain": [
       "['0.0143,0.0143,0.0143',\n",
       " '0.0404,0.0125,0.0325',\n",
       " '0.0516,0.0154,0.0443',\n",
       " '0.0616,0.0184,0.0530',\n",
       " '0.0699,0.0215,0.0615',\n",
       " '0.0814,0.0229,0.0687',\n",
       " '0.0857,0.0273,0.0763',\n",
       " '0.0928,0.0305,0.0805',\n",
       " '0.1008,0.0330,0.0846',\n",
       " '0.1064,0.0356,0.0939']"
      ]
     },
     "execution_count": 6,
     "metadata": {},
     "output_type": "execute_result"
    }
   ],
   "source": [
    "list_o_strings = raw_data.split()\n",
    "list_o_strings[:10]"
   ]
  },
  {
   "cell_type": "markdown",
   "metadata": {},
   "source": [
    "Now we can use a nested list comprehension to step over the list of strings, splitting each string on its commas, and converting each element (which will still be a string) to a floating point number..."
   ]
  },
  {
   "cell_type": "code",
   "execution_count": 7,
   "metadata": {
    "collapsed": false
   },
   "outputs": [
    {
     "data": {
      "text/plain": [
       "[[0.0143, 0.0143, 0.0143],\n",
       " [0.0404, 0.0125, 0.0325],\n",
       " [0.0516, 0.0154, 0.0443],\n",
       " [0.0616, 0.0184, 0.053],\n",
       " [0.0699, 0.0215, 0.0615],\n",
       " [0.0814, 0.0229, 0.0687],\n",
       " [0.0857, 0.0273, 0.0763],\n",
       " [0.0928, 0.0305, 0.0805],\n",
       " [0.1008, 0.033, 0.0846],\n",
       " [0.1064, 0.0356, 0.0939]]"
      ]
     },
     "execution_count": 7,
     "metadata": {},
     "output_type": "execute_result"
    }
   ],
   "source": [
    "list_o_lists = [[float(num) for num in string.split(',')] for string in list_o_strings]\n",
    "list_o_lists[:10]"
   ]
  },
  {
   "cell_type": "code",
   "execution_count": 8,
   "metadata": {
    "collapsed": false
   },
   "outputs": [
    {
     "data": {
      "text/plain": [
       "array([[ 0.0143,  0.0143,  0.0143],\n",
       "       [ 0.0404,  0.0125,  0.0325],\n",
       "       [ 0.0516,  0.0154,  0.0443]])"
      ]
     },
     "execution_count": 8,
     "metadata": {},
     "output_type": "execute_result"
    }
   ],
   "source": [
    "LinL = np.array(list_o_lists)\n",
    "LinL[:3]"
   ]
  },
  {
   "cell_type": "markdown",
   "metadata": {},
   "source": [
    "Win!"
   ]
  },
  {
   "cell_type": "markdown",
   "metadata": {},
   "source": [
    "## Continue with Matteo's workflow"
   ]
  },
  {
   "cell_type": "markdown",
   "metadata": {},
   "source": [
    "We'll just run Matteo's code..."
   ]
  },
  {
   "cell_type": "code",
   "execution_count": 9,
   "metadata": {
    "collapsed": false
   },
   "outputs": [],
   "source": [
    "%matplotlib inline\n",
    "import matplotlib.pyplot as plt"
   ]
  },
  {
   "cell_type": "code",
   "execution_count": 10,
   "metadata": {
    "collapsed": false
   },
   "outputs": [],
   "source": [
    "b3 = LinL[:,2] # value of blue at sample n\n",
    "b2 = LinL[:,2] # value of blue at sample n\n",
    "b1 = linspace(0, 1, len(b2)) # position of sample n - ranges from 0 to 1\n",
    "\n",
    "# Setting up columns for tuples\n",
    "g3 = LinL[:,1]\n",
    "g2 = LinL[:,1]\n",
    "g1 = linspace(0,1,len(g2))\n",
    "\n",
    "r3 = LinL[:,0]\n",
    "r2 = LinL[:,0]\n",
    "r1 = linspace(0,1,len(r2))\n",
    "\n",
    "# Creating tuples\n",
    "R = zip(r1,r2,r3)\n",
    "G = zip(g1,g2,g3)\n",
    "B = zip(b1,b2,b3)\n",
    "\n",
    "# Transposing\n",
    "RGB = zip(R,G,B)\n",
    "rgb = zip(*RGB)\n",
    "\n",
    "# Creating dictionary\n",
    "k = ['red', 'green', 'blue']\n",
    "LinearL = dict(zip(k,rgb))"
   ]
  },
  {
   "cell_type": "markdown",
   "metadata": {},
   "source": [
    "And test it with a plot."
   ]
  },
  {
   "cell_type": "code",
   "execution_count": 11,
   "metadata": {
    "collapsed": false
   },
   "outputs": [
    {
     "data": {
      "image/png": "[encoded data removed]",
      "text/plain": [
       "<matplotlib.figure.Figure at 0x107d94f10>"
      ]
     },
     "metadata": {},
     "output_type": "display_data"
    }
   ],
   "source": [
    "my_cmap = matplotlib.colors.LinearSegmentedColormap('matteo', LinearL)\n",
    "\n",
    "plt.figure(figsize=(5,4))\n",
    "plt.pcolor(rand(10,10),cmap=my_cmap)\n",
    "plt.colorbar()\n",
    "plt.show()"
   ]
  },
  {
   "cell_type": "markdown",
   "metadata": {},
   "source": [
    "## Reverse it"
   ]
  },
  {
   "cell_type": "markdown",
   "metadata": {},
   "source": [
    "To make a reversed version, I think we have to reverse <code>rgb</code> and repeat the process. It's a three-element list, where each element is a tuple of tuples."
   ]
  },
  {
   "cell_type": "code",
   "execution_count": 12,
   "metadata": {
    "collapsed": false
   },
   "outputs": [],
   "source": [
    "def reverse_colourmap(cmap):\n",
    "    reverse = []\n",
    "    for channel in cmap:\n",
    "        data = []\n",
    "        for t in channel:\n",
    "            data.append((1 - t[0], t[1], t[2]))\n",
    "        reverse.append(sorted(data))\n",
    "        \n",
    "    return reverse"
   ]
  },
  {
   "cell_type": "code",
   "execution_count": 13,
   "metadata": {
    "collapsed": false
   },
   "outputs": [],
   "source": [
    "rgb_r = reverse_colourmap(rgb)"
   ]
  },
  {
   "cell_type": "code",
   "execution_count": 14,
   "metadata": {
    "collapsed": false
   },
   "outputs": [
    {
     "data": {
      "image/png": "[encoded data removed]",
      "text/plain": [
       "<matplotlib.figure.Figure at 0x10a8d0e50>"
      ]
     },
     "metadata": {},
     "output_type": "display_data"
    }
   ],
   "source": [
    "LinearL_r = dict(zip(k,rgb_r))\n",
    "my_cmap_r = matplotlib.colors.LinearSegmentedColormap('matteo_r', LinearL_r)\n",
    "\n",
    "plt.figure(figsize=(5,4))\n",
    "plt.pcolor(rand(10,10),cmap=my_cmap_r)\n",
    "plt.colorbar()\n",
    "plt.show()"
   ]
  },
  {
   "cell_type": "markdown",
   "metadata": {},
   "source": [
    "The <code>sorted()</code> is important. As well as having the right <code>x</code> values, the coloumap channels must be in order.\n",
    "\n",
    "Instead of reversing the finished colourmap, let's do it from the start, with the original code..."
   ]
  },
  {
   "cell_type": "code",
   "execution_count": 15,
   "metadata": {
    "collapsed": false
   },
   "outputs": [],
   "source": [
    "def gen_cmap(name, array, start, end):\n",
    "    b3 = array[:,2] # value of blue at sample n\n",
    "    b2 = array[:,2] # value of blue at sample n\n",
    "    b1 = linspace(start, end, len(b2)) # position of sample n - ranges from 0 to 1\n",
    "    \n",
    "    # Setting up columns for tuples\n",
    "    g3 = array[:,1]\n",
    "    g2 = array[:,1]\n",
    "    g1 = linspace(start, end, len(g2))\n",
    "    \n",
    "    r3 = array[:,0]\n",
    "    r2 = array[:,0]\n",
    "    r1 = linspace(start, end, len(r2))\n",
    "    \n",
    "    # Creating tuples\n",
    "    R = sorted(zip(r1,r2,r3))\n",
    "    G = sorted(zip(g1,g2,g3))\n",
    "    B = sorted(zip(b1,b2,b3))\n",
    "    \n",
    "    # Transposing\n",
    "    RGB = zip(R,G,B)\n",
    "    rgb = zip(*RGB)\n",
    "    \n",
    "    # Creating dictionary\n",
    "    k = ['red', 'green', 'blue']\n",
    "    LinearL = dict(zip(k,rgb))\n",
    "    \n",
    "    return matplotlib.colors.LinearSegmentedColormap(name, LinearL)"
   ]
  },
  {
   "cell_type": "code",
   "execution_count": 16,
   "metadata": {
    "collapsed": false
   },
   "outputs": [
    {
     "data": {
      "image/png": "[encoded data removed]",
      "text/plain": [
       "<matplotlib.figure.Figure at 0x107d94c10>"
      ]
     },
     "metadata": {},
     "output_type": "display_data"
    }
   ],
   "source": [
    "my_cmap_r = gen_cmap('matteo_r', LinL, 1, 0)\n",
    "\n",
    "plt.figure(figsize=(5,4))\n",
    "plt.pcolor(rand(10,10),cmap=my_cmap_r)\n",
    "plt.colorbar()\n",
    "plt.show()"
   ]
  },
  {
   "cell_type": "markdown",
   "metadata": {},
   "source": [
    "And just check this works with the original..."
   ]
  },
  {
   "cell_type": "code",
   "execution_count": 17,
   "metadata": {
    "collapsed": false
   },
   "outputs": [
    {
     "data": {
      "image/png": "[encoded data removed]",
      "text/plain": [
       "<matplotlib.figure.Figure at 0x10a7cc190>"
      ]
     },
     "metadata": {},
     "output_type": "display_data"
    }
   ],
   "source": [
    "my_cmap = gen_cmap('matteo', LinL, 0, 1)\n",
    "\n",
    "plt.figure(figsize=(5,4))\n",
    "plt.pcolor(rand(10,10),cmap=my_cmap)\n",
    "plt.colorbar()\n",
    "plt.show()"
   ]
  },
  {
   "cell_type": "markdown",
   "metadata": {},
   "source": [
    "Ha, I just read about <code>numpy.flipud(a)</code> and realized you could just flip the array we started with:"
   ]
  },
  {
   "cell_type": "code",
   "execution_count": 18,
   "metadata": {
    "collapsed": false
   },
   "outputs": [
    {
     "data": {
      "image/png": "[encoded data removed]",
      "text/plain": [
       "<matplotlib.figure.Figure at 0x10ab24150>"
      ]
     },
     "metadata": {},
     "output_type": "display_data"
    }
   ],
   "source": [
    "my_cmap_r = gen_cmap('matteo_r', np.flipud(LinL), 0, 1)\n",
    "\n",
    "plt.figure(figsize=(5,4))\n",
    "plt.pcolor(rand(10,10),cmap=my_cmap_r)\n",
    "plt.colorbar()\n",
    "plt.show()"
   ]
  },
  {
   "cell_type": "markdown",
   "metadata": {},
   "source": [
    "NumPy is awesome."
   ]
  },
  {
   "cell_type": "markdown",
   "metadata": {},
   "source": [
    "## For the impatient"
   ]
  },
  {
   "cell_type": "markdown",
   "metadata": {},
   "source": [
    "You can also use the built-in cubehelix from matplotlib to produce a similar colourmap:"
   ]
  },
  {
   "cell_type": "code",
   "execution_count": 19,
   "metadata": {
    "collapsed": false
   },
   "outputs": [
    {
     "name": "stdout",
     "output_type": "stream",
     "text": [
      "Populating the interactive namespace from numpy and matplotlib\n"
     ]
    },
    {
     "name": "stderr",
     "output_type": "stream",
     "text": [
      "WARNING: pylab import has clobbered these variables: ['f']\n",
      "`%matplotlib` prevents importing * from pylab and numpy\n"
     ]
    },
    {
     "data": {
      "image/png": "[encoded data removed]",
      "text/plain": [
       "<matplotlib.figure.Figure at 0x10a775b10>"
      ]
     },
     "metadata": {},
     "output_type": "display_data"
    },
    {
     "data": {
      "image/png": "[encoded data removed]",
      "text/plain": [
       "<matplotlib.figure.Figure at 0x10aa6a990>"
      ]
     },
     "metadata": {},
     "output_type": "display_data"
    }
   ],
   "source": [
    "%matplotlib inline\n",
    "%pylab inline\n",
    "import numpy as np\n",
    "import matplotlib.pyplot as plt\n",
    "import matplotlib._cm, matplotlib.cm\n",
    "name    = \"matteohelix\"\n",
    "specs   = matplotlib._cm.cubehelix(gamma=1.4,s=0.4,r=-0.8,h=2.0)\n",
    "specs_r = matplotlib.cm._reverse_cmap_spec(specs)\n",
    "matplotlib.cm.register_cmap(name=name     , data=specs)\n",
    "matplotlib.cm.register_cmap(name=name+\"_r\", data=specs_r)\n",
    "\n",
    "plt.figure(figsize=(5,4))\n",
    "plt.pcolor(rand(10,10),cmap=matplotlib.cm.get_cmap(name))\n",
    "plt.colorbar()\n",
    "plt.show()\n",
    "\n",
    "plt.figure(figsize=(5,4))\n",
    "plt.pcolor(rand(10,10),cmap=matplotlib.cm.get_cmap(name+'_r'))\n",
    "plt.colorbar()\n",
    "plt.show()"
   ]
  },
  {
   "cell_type": "code",
   "execution_count": null,
   "metadata": {
    "collapsed": false
   },
   "outputs": [],
   "source": []
  }
 ],
 "metadata": {
  "kernelspec": {
   "display_name": "Python 2",
   "language": "python",
   "name": "python2"
  },
  "language_info": {
   "codemirror_mode": {
    "name": "ipython",
    "version": 2
   },
   "file_extension": ".py",
   "mimetype": "text/x-python",
   "name": "python",
   "nbconvert_exporter": "python",
   "pygments_lexer": "ipython2",
   "version": "2.7.9"
  }
 },
 "nbformat": 4,
 "nbformat_minor": 0
}
