{
 "cells": [
  {
   "cell_type": "code",
   "execution_count": 6,
   "metadata": {
    "collapsed": true
   },
   "outputs": [],
   "source": [
    "s = \"\"\"\n",
    "No.\tID\tPeriod\tPilot data\tNotes\n",
    "1\tERAI-CRCM5-L\t1979–2010\tERA-Interim\tWith interactive lakes and lake routing\n",
    "2\tCanESM2-CRCM5-NL\t1950–2100\tCanESM2\tNo lakes, no lake routing\n",
    "3\tCanESM2-CRCM5-L\t1950–2100\tCanESM2\tWith interactive lakes and lake routing\n",
    "4\tCanESM2-CRCM5-LI\t1950–2100\tCanESM2\tWith interactive lakes, lake routing and interflow\n",
    "\"\"\""
   ]
  },
  {
   "cell_type": "code",
   "execution_count": 7,
   "metadata": {
    "collapsed": false
   },
   "outputs": [
    {
     "name": "stdout",
     "output_type": "stream",
     "text": [
      "   \\\\\n",
      "No.& ID& Period& Pilot data& Notes   \\\\\n",
      "1& ERAI-CRCM5-L& 1979–2010& ERA-Interim& With interactive lakes and lake routing   \\\\\n",
      "2& CanESM2-CRCM5-NL& 1950–2100& CanESM2& No lakes, no lake routing   \\\\\n",
      "3& CanESM2-CRCM5-L& 1950–2100& CanESM2& With interactive lakes and lake routing   \\\\\n",
      "4& CanESM2-CRCM5-LI& 1950–2100& CanESM2& With interactive lakes, lake routing and interflow   \\\\\n",
      "   \\\\\n"
     ]
    }
   ],
   "source": [
    "for line in s.split(\"\\n\"):\n",
    "    print(\"& \".join(line.split(\"\\t\")) + r\"   \\\\\")"
   ]
  },
  {
   "cell_type": "code",
   "execution_count": null,
   "metadata": {
    "collapsed": true
   },
   "outputs": [],
   "source": []
  }
 ],
 "metadata": {
  "kernelspec": {
   "display_name": "Python 3",
   "language": "python",
   "name": "python3"
  },
  "language_info": {
   "codemirror_mode": {
    "name": "ipython",
    "version": 3
   },
   "file_extension": ".py",
   "mimetype": "text/x-python",
   "name": "python",
   "nbconvert_exporter": "python",
   "pygments_lexer": "ipython3",
   "version": "3.4.3"
  }
 },
 "nbformat": 4,
 "nbformat_minor": 0
}
