{
 "cells": [
  {
   "cell_type": "markdown",
   "metadata": {
    "nbpresent": {
     "id": "13101ac1-2637-4d0f-9f1f-cd32215b02c3"
    },
    "slideshow": {
     "slide_type": "slide"
    }
   },
   "source": [
    "# СЛАУ\n",
    "## Прямые и итерационные методы решения.\n",
    "\n",
    "Цыбулин Иван ([tsybulin@crec.mipt.ru](mailto:tsybulin@crec.mipt.ru))"
   ]
  },
  {
   "cell_type": "markdown",
   "metadata": {
    "nbpresent": {
     "id": "31cc3d04-22a5-4773-b4e1-abfb09f8bbc2"
    },
    "slideshow": {
     "slide_type": "slide"
    }
   },
   "source": [
    "## Методы решения СЛАУ\n",
    "* Прямые методы &mdash; выдают решение за фиксированное число операций\n",
    "* Итерационные методы &mdash; строят последовательность *приближений* к решению. Последовательность обрывают после достижения заданной точности."
   ]
  },
  {
   "cell_type": "markdown",
   "metadata": {
    "slideshow": {
     "slide_type": "slide"
    }
   },
   "source": [
    "## Метод Гаусса\n",
    "* Метод последовательного исключения неизвестных\n",
    "* Прямым ходом приводит матрицу системы к треугольному виду, а затем находит решение полученной треугольной системы обратной подстановкой\n",
    "* Для системы $n \\times n$ количество арифметических действий $O(n^3)$ (примерно $\\frac23 n^3$ умножений) &mdash; прямой метод."
   ]
  },
  {
   "cell_type": "markdown",
   "metadata": {
    "slideshow": {
     "slide_type": "subslide"
    }
   },
   "source": [
    "Рассмотрим систему\n",
    "$$\n",
    "\\begin{pmatrix}\n",
    "    10^{-3}&1\\\\\n",
    "    1&-1\n",
    "\\end{pmatrix}\n",
    "\\begin{pmatrix}\n",
    "    x_1\\\\x_2\n",
    "\\end{pmatrix} =\n",
    "\\begin{pmatrix}\n",
    "    2\\\\1\n",
    "\\end{pmatrix}\n",
    "\\qquad\n",
    "\\begin{pmatrix}\n",
    "    x_1\\\\x_2\n",
    "\\end{pmatrix} \\approx\n",
    "\\begin{pmatrix}\n",
    "    2.997003\\\\\n",
    "    1.997003\n",
    "\\end{pmatrix}\n",
    "$$\n",
    "\n",
    "Будем решать ее методом Гаусса, используя в вычислениях только три значащие цифры\n",
    "$$\n",
    "\\left(\n",
    "\\begin{array}{@{}cc|c@{}}\n",
    "    10^{-3}&1&2\\\\\n",
    "    1&-1&1\n",
    "\\end{array}\n",
    "\\right)\n",
    "\\sim\n",
    "\\left(\n",
    "\\begin{array}{@{}cc|c@{}}\n",
    "    1&10^3&2\\cdot10^3\\\\\n",
    "    1&-1&1\n",
    "\\end{array}\n",
    "\\right)\n",
    "\\sim\n",
    "\\left(\n",
    "\\begin{array}{@{}cc|c@{}}\n",
    "    1&10^3&2\\cdot10^3\\\\\n",
    "    0&\\color{red}{-10^3}&\\color{red}{-2\\cdot10^3}\\\\\n",
    "\\end{array}\n",
    "\\right)\n",
    "\\sim \\\\\n",
    "\\left(\n",
    "\\begin{array}{@{}cc|c@{}}\n",
    "    1&10^3&2\\cdot10^3\\\\\n",
    "    0&-10^3&-2\\cdot10^3\\\\\n",
    "\\end{array}\n",
    "\\right)\n",
    "\\sim\n",
    "\\left(\n",
    "\\begin{array}{@{}cc|c@{}}\n",
    "    1&10^3&2\\cdot10^3\\\\\n",
    "    0&1&2\\\\\n",
    "\\end{array}\n",
    "\\right)\n",
    "\\sim\n",
    "\\left(\n",
    "\\begin{array}{@{}cc|c@{}}\n",
    "    1&0&0\\\\\n",
    "    0&1&2\\\\\n",
    "\\end{array}\n",
    "\\right)\n",
    "$$\n",
    "Полученное решение значительно отличается от точного."
   ]
  },
  {
   "cell_type": "markdown",
   "metadata": {
    "slideshow": {
     "slide_type": "subslide"
    }
   },
   "source": [
    "Данную проблему можно устранить, если в качестве ведущего элемента (того на который делится очередная строка)\n",
    "выбирать наибольший по модулю элемент в столбце. Такой метод\n",
    "называется методом Гаусса с выбором главного элемента по столбцу.\n",
    "\n",
    "Применим его к той же системе\n",
    "$$\n",
    "\\left(\n",
    "\\begin{array}{@{}cc|c@{}}\n",
    "    10^{-3}&1&2\\\\\n",
    "    \\fbox{1}&-1&1\n",
    "\\end{array}\n",
    "\\right)\n",
    "\\sim\n",
    "\\left(\n",
    "\\begin{array}{@{}cc|c@{}}\n",
    "    0&\\color{red}{\\fbox{1}}&\\color{red}{2}\\\\\n",
    "    1&-1&1\\\\\n",
    "\\end{array}\n",
    "\\right)\n",
    "\\sim\n",
    "\\left(\n",
    "\\begin{array}{@{}cc|c@{}}\n",
    "    0&1&2\\\\\n",
    "    1&0&3\\\\\n",
    "\\end{array}\n",
    "\\right)\n",
    "\\sim\n",
    "\\left(\n",
    "\\begin{array}{@{}cc|c@{}}\n",
    "    1&0&3\\\\\n",
    "    0&1&2\\\\\n",
    "\\end{array}\n",
    "\\right)\n",
    "$$\n",
    "\n",
    "Теперь отличие от точного решения не превосходит $3 \\cdot 10^{-3}$, что\n",
    "оказалось даже меньше погрешности вычислений."
   ]
  },
  {
   "cell_type": "markdown",
   "metadata": {
    "slideshow": {
     "slide_type": "subslide"
    }
   },
   "source": [
    "Почему же так происходит? Может система просто *плохо обусловлена*? Проверим.\n",
    "$$\n",
    "\\nu(\\mathbf A, \\mathbf b) = \\frac{\\|\\mathbf A^{-1}\\| \\|\\mathbf b\\|}{\\|\\mathbf A^{-1} \\mathbf b\\|}\\\\\n",
    "\\mathbf A^{-1} = \\frac{1}{1001}\\begin{pmatrix}\n",
    "1000 & 1000\\\\\n",
    "1000 & -1\n",
    "\\end{pmatrix} \\qquad\n",
    "\\mathbf b = \\begin{pmatrix}\n",
    "    2\\\\\n",
    "    1\n",
    "\\end{pmatrix} \\qquad\n",
    "\\mathbf A^{-1}\\mathbf b \\approx \\begin{pmatrix}\n",
    "    2.997003\\\\\n",
    "    1.997003\n",
    "\\end{pmatrix}\\\\\n",
    "\\nu_\\infty = \\frac{2000}{1001} \\frac{3}{2.997003} \\approx 2.\n",
    "$$\n",
    "Данная система *обусловлена хорошо*. Проблема в методе Гаусса. В методе Гаусса могут накапливаться *ошибки округления*."
   ]
  },
  {
   "cell_type": "markdown",
   "metadata": {
    "slideshow": {
     "slide_type": "slide"
    }
   },
   "source": [
    "## Диагональное преобладание\n",
    "Говорят, что матрица $\\mathbf A = \\{a_{ij}\\}_{i,j=1}^n$ обладает (нестрогим) **диагональным преобладанием**, если\n",
    "$$\n",
    "|a_{ii}| \\geqslant \\sum_{j \\neq i} |a_{ij}|, \\quad \\forall i = 1,\\dots,n\n",
    "$$\n",
    "Преобладание называется строгим, если \n",
    "$$\n",
    "|a_{ii}| > \\sum_{j \\neq i} |a_{ij}|, \\quad \\forall i = 1,\\dots,n.\n",
    "$$\n",
    "\n",
    "Для матриц с диагональным преобладанием в методе Гаусса без выбора ведущего элемента не происходит значительного накопления ошибок округления. Как говорят, для этих матриц метод Гаусса **вычислительно устойчив**."
   ]
  },
  {
   "cell_type": "markdown",
   "metadata": {
    "slideshow": {
     "slide_type": "slide"
    }
   },
   "source": [
    "## Трехдиагональные системы\n",
    "При решении дифференциальных уравнений нередко возникает линейная система специального трехдиагонального вида\n",
    "$$\n",
    "\\left\\{\n",
    "\\begin{array}{}\n",
    "b_1 x_1 &+& c_1 x_2 &&&&&&& = &f_1\\\\\n",
    "a_2 x_1 &+& b_2 x_2 &+& c_2 x_3 &&&&& = &f_2\\\\\n",
    "&&a_3 x_2 &+& b_3 x_3 &+& c_3 x_4 &&& = &f_3\\\\\n",
    "&&&&&\\ddots\\\\\n",
    "&&&&a_{n-1} x_{n-2} &+& b_{n-1} x_{n-1} &+& c_{n-1} x_n & = &f_{n-1}\\\\\n",
    "&&&&&& a_n x_{n-1} &+& b_n x_n & = & f_n\\\\\n",
    "\\end{array}\n",
    "\\right.\n",
    "$$\n",
    "Все уравнения имеют вид\n",
    "$$\n",
    "a_{k} x_{k-1} + b_{k} x_k + c_{k} x_{k+1} = f_k, \\quad k = 1,\\dots,n\\\\\n",
    "a_1 = c_n = 0\n",
    "$$"
   ]
  },
  {
   "cell_type": "markdown",
   "metadata": {
    "slideshow": {
     "slide_type": "slide"
    }
   },
   "source": [
    "# Прогонка\n",
    "Для системы с трехдиагональной матрицей можно реализовать метод Гаусса, имеющий сложность $O(n)$ действий вместо $O(n^3)$. Данный метод называется *прогонкой*.\n",
    "\n",
    "Будем искать решение в виде *прогоночного соотношения*\n",
    "$$\n",
    "x_{k-1} = P_k x_k + Q_k,\n",
    "$$\n",
    "где $P_k, Q_k$ &mdash; пока не известные *прогоночные коэффициенты*.\n",
    "\n",
    "Первое уравнение легко переписать в виде прогоночного соотношения:\n",
    "$$\n",
    "b_1 x_1 + c_1 x_2 = f_1 \\implies x_1 = -\\frac{c_1}{b_1} x_2 + \\frac{f_1}{b_1} \\implies \n",
    "P_2 = -\\frac{c_1}{b_1}, \\; Q_2 = \\frac{f_1}{b_1}\n",
    "$$"
   ]
  },
  {
   "cell_type": "markdown",
   "metadata": {
    "slideshow": {
     "slide_type": "subslide"
    }
   },
   "source": [
    "Пусть мы знаем прогоночные коэффициенты до $P_{k}, Q_{k}$ включительно.\n",
    "$$\n",
    "x_{k-1} = P_k x_k + Q_k\n",
    "$$\n",
    "Подставим это сооношение в уравнение с номером $k$\n",
    "$$\n",
    "a_{k} x_{k-1} + b_k x_k + c_k x_{k+1} = f_k\\\\\n",
    "a_{k} (P_k x_k + Q_k) + b_k x_k + c_k x_{k+1} = f_k\\\\\n",
    "x_k = -\\frac{c_k}{a_k P_{k} + b_k} x_{k+1} + \\frac{f_k - a_k Q_k}{a_k P_{k} + b_k}\n",
    "$$\n",
    "Мы получили рекуррентные формулы для вычисления $P_{k+1}, Q_{k+1}$:\n",
    "$$\n",
    "P_{k+1} = -\\frac{c_k}{a_k P_{k} + b_k}, \\quad Q_{k+1} = \\frac{f_k - a_k Q_k}{a_k P_k + b_k}.\n",
    "$$"
   ]
  },
  {
   "cell_type": "markdown",
   "metadata": {
    "slideshow": {
     "slide_type": "subslide"
    }
   },
   "source": [
    "Начиная с $P_2, Q_2$ прямым ходом прогонки можно последовательно вычислить $P_k, Q_k$ для $k = 3, 4, \\dots, n+1$. Для последнего уравнения $c_n = 0$ и $P_{n+1} = 0$. Прогоночное соотношение для $x_n$ принимает вид\n",
    "$$\n",
    "x_n = Q_{n+1}.\n",
    "$$\n",
    "Теперь обратной подстановкой можно найти остальные неизвестные:\n",
    "$$\\begin{aligned}\n",
    "x_{n-1} &= P_n x_n + Q_n\\\\\n",
    "x_{n-2} &= P_{n-1} x_{n-1} + Q_{n-1}\\\\\n",
    "&\\;\\;\\vdots\\\\\n",
    "x_1 &= P_2 x_2 + Q_2.\n",
    "\\end{aligned}\n",
    "$$"
   ]
  },
  {
   "cell_type": "code",
   "execution_count": 1,
   "metadata": {
    "collapsed": false,
    "slideshow": {
     "slide_type": "slide"
    }
   },
   "outputs": [],
   "source": [
    "import numpy as np\n",
    "\n",
    "def solve_tdm(a, b, c, f):\n",
    "    n = len(a)\n",
    "    P = np.zeros(n); Q = np.zeros(n); x = np.zeros(n)\n",
    "    P[0] = -c[0] / b[0]\n",
    "    Q[0] = f[0] / b[0]\n",
    "    for k in range(n-1):\n",
    "        P[k+1] = -c[k+1] / (a[k+1] * P[k] + b[k+1])\n",
    "        Q[k+1] = (f[k+1] - a[k+1] * Q[k]) / (a[k+1] * P[k] + b[k+1])\n",
    "    x[n-1] = Q[n-1]\n",
    "    for k in reversed(range(n-1)):\n",
    "        x[k] = P[k] * x[k+1] + Q[k]\n",
    "    return x"
   ]
  },
  {
   "cell_type": "code",
   "execution_count": 2,
   "metadata": {
    "collapsed": false,
    "slideshow": {
     "slide_type": "subslide"
    }
   },
   "outputs": [
    {
     "name": "stdout",
     "output_type": "stream",
     "text": [
      "TDM solver: x= [ 4.  7.  9. 10. 10.  9.  7.  4.]\n",
      "SciPy banded solver: x= [ 4.  7.  9. 10. 10.  9.  7.  4.]\n"
     ]
    }
   ],
   "source": [
    "from scipy.linalg import solve_banded\n",
    "\n",
    "a =  np.array([0, 1, 1, 1, 1, 1, 1, 1])\n",
    "b = -np.array([2, 2, 2, 2, 2, 2, 2, 2])\n",
    "c =  np.array([1, 1, 1, 1, 1, 1, 1, 0])\n",
    "f = -np.array([1, 1, 1, 1, 1, 1, 1, 1])\n",
    "x = solve_tdm(a, b, c, f)\n",
    "print('TDM solver: x=', x)\n",
    "\n",
    "G = np.zeros((3, len(a)))\n",
    "G[0, 1:]  = c[:-1]\n",
    "G[1, :]   = b\n",
    "G[2, :-1] = a[1:]\n",
    "x_scipy = solve_banded((1, 1), G, f)\n",
    "print('SciPy banded solver: x=', x_scipy)"
   ]
  },
  {
   "cell_type": "markdown",
   "metadata": {
    "slideshow": {
     "slide_type": "slide"
    }
   },
   "source": [
    "## Матричные разложения\n",
    "Довольно часто для решения систем линейных уравнений и других задач линейной алгебры применяют *матричные разложения*. Наиболее известными являются:\n",
    "* $\\mathbf A = \\mathbf {LU}$, где $\\mathbf L$ &mdash; нижнетреугольная матрица, а $\\mathbf U$ &mdash; верхнетреугольная. Соответствует методу Гаусса без выбора главного элемента.\n",
    "* $\\mathbf A = \\mathbf {LL}^\\top$ &mdash; разложение Холецкого, применяется вместо LU для симметричных матриц.\n",
    "* $\\mathbf A = \\mathbf {QR}$, где $\\mathbf Q$ &mdash; ортогональная, а $\\mathbf R$ &mdash; верхнетреугольная. Также может быть использовано для решения СЛАУ.\n",
    "\n",
    "Эти разложения имеют сложность $O(n^3)$, как и метод Гаусса."
   ]
  },
  {
   "cell_type": "markdown",
   "metadata": {
    "slideshow": {
     "slide_type": "subslide"
    }
   },
   "source": [
    "Другие важные разложения:\n",
    "* $\\mathbf A = \\mathbf U \\mathbf \\Sigma \\mathbf V$ &mdash; сингулярное разложение, $\\mathbf U, \\mathbf V$ &mdash; ортогональные, $\\mathbf \\Sigma$ &mdash; диагональная матрица из сингулярных чисел.\n",
    "* $\\mathbf A = \\mathbf S \\mathbf \\Lambda \\mathbf S^{-1}$ &mdash; спектральное разложение, $\\mathbf S$ &mdash; матрица из собственных векторов, $\\mathbf \\Lambda$ &mdash; диагональная матрица собственных чисел.\n",
    "\n",
    "Получение таких разложений &mdash; трудоемкая задача. Более того, эти разложения получаются итерационными методами, сложность алгоритма зависит от матрицы $\\mathbf A$."
   ]
  },
  {
   "cell_type": "markdown",
   "metadata": {
    "slideshow": {
     "slide_type": "subslide"
    }
   },
   "source": [
    "Покажем, как решить линейную систему, зная LU разложение ее матрицы: пусть $\\mathbf A = \\mathbf{LU}$. Система\n",
    "$$\n",
    "\\mathbf {Ax} = \\mathbf {f}\n",
    "$$\n",
    "может быть записана в виде:\n",
    "$$\n",
    "\\mathbf{L}(\\mathbf{Ux}) = \\mathbf{f}.\n",
    "$$\n",
    "Решим сначала вспомогательную задачу с нижнетреугольной матрицей (прямой подстановкой)\n",
    "$$\n",
    "\\mathbf{Ly} = \\mathbf{f},\n",
    "$$\n",
    "а затем задачу с верхнетреугольной матрицей (обратной подстановкой)\n",
    "$$\n",
    "\\mathbf{Ux} = \\mathbf{y}.\n",
    "$$"
   ]
  },
  {
   "cell_type": "code",
   "execution_count": 3,
   "metadata": {
    "collapsed": false,
    "slideshow": {
     "slide_type": "slide"
    }
   },
   "outputs": [
    {
     "name": "stdout",
     "output_type": "stream",
     "text": [
      "x =  [1. 1. 1. 1.]\n"
     ]
    },
    {
     "data": {
      "text/plain": [
       "(array([[0., 0., 0., 1.],\n",
       "        [0., 0., 1., 0.],\n",
       "        [0., 1., 0., 0.],\n",
       "        [1., 0., 0., 0.]]),\n",
       " array([[1.        , 0.        , 0.        , 0.        ],\n",
       "        [0.21292348, 1.        , 0.        , 0.        ],\n",
       "        [0.08273924, 0.65549468, 1.        , 0.        ],\n",
       "        [0.81932815, 0.13158539, 0.16436233, 1.        ]]),\n",
       " array([[0.88084084, 0.50220945, 0.57668456, 0.38811641],\n",
       "        [0.        , 0.78435871, 0.29562766, 0.18720103],\n",
       "        [0.        , 0.        , 0.51708923, 0.03247864],\n",
       "        [0.        , 0.        , 0.        , 0.29766372]]))"
      ]
     },
     "execution_count": 3,
     "metadata": {},
     "output_type": "execute_result"
    }
   ],
   "source": [
    "from scipy.linalg import lu, solve_triangular\n",
    "def lu_solve(A, f):\n",
    "    P, L, U = lu(A) # A = P L U\n",
    "    y = solve_triangular(L, P.T.dot(f), lower=True, unit_diagonal=True)\n",
    "    x = solve_triangular(U, y, lower=False, unit_diagonal=False)\n",
    "    return x\n",
    "\n",
    "n = 4\n",
    "x0 = np.ones(n)\n",
    "A = np.random.rand(n, n)\n",
    "f = A.dot(x0)\n",
    "x = lu_solve(A, f)\n",
    "print('x = ', x)\n",
    "lu(A)"
   ]
  },
  {
   "cell_type": "markdown",
   "metadata": {
    "slideshow": {
     "slide_type": "slide"
    }
   },
   "source": [
    "# Итерационные методы решения СЛАУ\n",
    "\n",
    "Итерационные методы для системы \n",
    "$$\n",
    "\\mathbf{Ax} = \\mathbf{f}\n",
    "$$\n",
    "строят последовательность приближений\n",
    "$$\n",
    "\\mathbf x_1, \\mathbf x_2, \\mathbf x_3, \\dots,\n",
    "$$\n",
    "которая сходится к решению системы $\\mathbf x^*$. Итерационным методам необходимо начальное приближение к решению $\\mathbf x_0$."
   ]
  },
  {
   "cell_type": "markdown",
   "metadata": {
    "slideshow": {
     "slide_type": "slide"
    }
   },
   "source": [
    "## Метод простой итерации\n",
    "Пусть итерационный метод строит новое приближение $\\mathbf x_{k+1}$ по правилу\n",
    "$$\n",
    "\\mathbf x_{k+1} = \\mathbf {Bx}_k + \\mathbf F. \\tag{*}\n",
    "$$\n",
    "Назовем $\\mathbf B$ *матрицей итераций*.\n",
    "\n",
    "Отвлечемся от исходной системы $\\mathbf{Ax} = \\mathbf f$ и ответим на вопросы\n",
    "* Когда сходится метод $(\\text{*})$, то есть когда последовательность $\\mathbf x_{k}$ стремится к какому-то $\\mathbf x^*$?\n",
    "* К чему сходится метод, то есть что такое $\\mathbf x^*$?"
   ]
  },
  {
   "cell_type": "markdown",
   "metadata": {
    "slideshow": {
     "slide_type": "subslide"
    }
   },
   "source": [
    "Пусть последовательность $\\mathbf x_k$ сходится к некоторому $\\mathbf x^*$. Тогда переходя в \n",
    "$$\n",
    "\\mathbf x_{k+1} = \\mathbf {Bx}_k + \\mathbf F\n",
    "$$\n",
    "к пределу при $k \\to \\infty$, получаем\n",
    "$$\n",
    "\\mathbf x^* = \\mathbf {Bx}^* + \\mathbf F.\n",
    "$$\n",
    "То есть, если предел $\\mathbf x_k$ существует, то он &mdash; решение уравнения\n",
    "$$\n",
    "\\mathbf x^* = \\mathbf {Bx}^* + \\mathbf F.\n",
    "$$"
   ]
  },
  {
   "cell_type": "markdown",
   "metadata": {
    "slideshow": {
     "slide_type": "subslide"
    }
   },
   "source": [
    "Рассмотрим вопрос сходимости метода простой итерации\n",
    "$$\n",
    "\\mathbf x_{k+1} = \\mathbf {Bx}_k + \\mathbf F\\\\\n",
    "\\mathbf x^* = \\mathbf {Bx}^* + \\mathbf F\n",
    "$$\n",
    "Вычитая второе соотношение из первого, получаем\n",
    "$$\n",
    "\\mathbf x_{k+1} - \\mathbf x^* = \\mathbf B (\\mathbf x_k - \\mathbf x^*).\n",
    "$$\n",
    "Вектор $\\mathbf e_k = \\mathbf x_k - \\mathbf x^*$ будем называть *вектором ошибки*. За одну итерацию вектор ошибки умножается на матрицу итераций $\\mathbf B$.\n",
    "\n",
    "$$\n",
    "\\mathbf e_{k+1} = \\mathbf {Be}_{k}.\n",
    "$$\n",
    "Условие $\\mathbf x_k \\to \\mathbf x^*$ эквивалентно $\\|\\mathbf x_k - \\mathbf x^*\\| \\equiv \\|\\mathbf e_k\\| \\to 0$. Здесь годится любая норма."
   ]
  },
  {
   "cell_type": "markdown",
   "metadata": {
    "slideshow": {
     "slide_type": "slide"
    }
   },
   "source": [
    "## Достаточное условие сходимости\n",
    "\n",
    "Если **какая-то** норма матрицы $\\mathbf B$ оказалась меньше $1$, то метод простой итерации\n",
    "$$\n",
    "\\mathbf x_{k+1} = \\mathbf {Bx}_k + \\mathbf F\n",
    "$$\n",
    "сходится при любом начальном приближении $\\mathbf x_0$ и любой правой части $\\mathbf F$. Действительно, пусть\n",
    "$$\n",
    "q = \\|\\mathbf B\\| < 1.\n",
    "$$\n",
    "Тогда\n",
    "$$\n",
    "\\|\\mathbf e_{k+1}\\| = \\|\\mathbf {Be}_k\\| \\leqslant \\|\\mathbf B\\| \\cdot \\|\\mathbf e_k\\| = q \\|\\mathbf e_k\\| \\leqslant \\cdots\n",
    "\\leqslant q^{k+1} \\|\\mathbf e_0\\|.\n",
    "$$\n",
    "Норма ошибки стремится к нулю как геометрическая прогрессия со знаменателем $q < 1$. Сходимость со скоростью геометрической прогрессии называют еще *линейной сходимостью*."
   ]
  },
  {
   "cell_type": "markdown",
   "metadata": {
    "slideshow": {
     "slide_type": "slide"
    }
   },
   "source": [
    "## Критерий сходимости\n",
    "Для того, чтобы метод простой итерации\n",
    "$$\n",
    "\\mathbf x_{k+1} = \\mathbf {Bx}_k + \\mathbf F\n",
    "$$\n",
    "сходился при любом начальном приближении $\\mathbf x_0$ и любой правой части $\\mathbf F$ **необходимо и достаточно**, чтобы\n",
    "$$\n",
    "|\\lambda(\\mathbf B)| < 1,\n",
    "$$\n",
    "то есть все собственные числа $\\mathbf B$ должны попасть в единичный круг $|\\lambda| < 1, \\lambda \\in \\mathbb C$. \n",
    "\n",
    "Для симметричной матрицы\n",
    "$$\n",
    "\\|\\mathbf B\\|_E = \\max |\\lambda(\\mathbf B)|,\n",
    "$$\n",
    "так что условие $\\|\\mathbf B\\|_E < 1$ является не только достаточным, но и необходимым для сходимости процесса."
   ]
  },
  {
   "cell_type": "markdown",
   "metadata": {
    "slideshow": {
     "slide_type": "slide"
    }
   },
   "source": [
    "Как же можно по данной системе\n",
    "$$\n",
    "\\mathbf {Ax} = \\mathbf f\n",
    "$$\n",
    "построить итерационный процесс\n",
    "$$\n",
    "\\mathbf x_{k+1} = \\mathbf {Bx}_k + \\mathbf F,\n",
    "$$\n",
    "который бы сходился к решению системы?"
   ]
  },
  {
   "cell_type": "markdown",
   "metadata": {
    "slideshow": {
     "slide_type": "fragment"
    }
   },
   "source": [
    "Вспомним, что итерационный процесс сходится к решению уравнения\n",
    "$$\n",
    "\\mathbf x = \\mathbf{Bx} + \\mathbf F.\n",
    "$$\n",
    "Преобразуем $\\mathbf {Ax} = \\mathbf f$ к такому виду."
   ]
  },
  {
   "cell_type": "markdown",
   "metadata": {
    "slideshow": {
     "slide_type": "slide"
    }
   },
   "source": [
    "## Метод простой итерации с параметром\n",
    "Введем вектор невязки\n",
    "$$\n",
    "\\mathbf r_k = \\mathbf {Ae}_k = \\mathbf {Ax}_k - \\mathbf f.\n",
    "$$\n",
    "Рассмотрим процесс с некоторым фиксированным $\\tau \\neq 0$.\n",
    "$$\n",
    "\\mathbf x_{k+1} = \\mathbf x_k - \\tau \\mathbf r_k\\\\\n",
    "\\mathbf x_{k+1} = \\mathbf x_k - \\tau \\mathbf{Ax}_k + \\tau \\mathbf f = (\\mathbf E - \\tau \\mathbf A) \\mathbf x_k + \\tau \\mathbf f.\n",
    "$$\n",
    "Мы получили процесс с матрицей итераций $\\mathbf B = \\mathbf E - \\tau \\mathbf A$ и $\\mathbf F = \\tau \\mathbf f$, который сходится к решению\n",
    "$$\n",
    "\\mathbf x = (\\mathbf E - \\tau \\mathbf A)\\mathbf x + \\tau \\mathbf f,\n",
    "$$\n",
    "что эквивалентно исходной системе."
   ]
  },
  {
   "cell_type": "markdown",
   "metadata": {
    "slideshow": {
     "slide_type": "slide"
    }
   },
   "source": [
    "## Сходимость метода с параметром\n",
    "\n",
    "Запишем необходимое и достаточное условие $|\\lambda (\\mathbf B)| < 1$ через собственные числа матрицы $\\mathbf A$.\n",
    "$$\n",
    "\\lambda(\\mathbf B) = \\lambda(\\mathbf E - \\tau \\mathbf A) = 1 - \\tau \\lambda(\\mathbf A)\\\\\n",
    "|\\lambda(\\mathbf B)| = |1 - \\tau \\lambda(\\mathbf A)| < 1\n",
    "$$\n",
    "\n",
    "Последнее условие показывает, что собственные числа матрицы $\\mathbf A$ должны лежать внутри единичного круга радиуса $\\frac{1}{\\tau}$ с центром в $\\frac{1}{\\tau}$."
   ]
  },
  {
   "cell_type": "markdown",
   "metadata": {
    "slideshow": {
     "slide_type": "fragment"
    }
   },
   "source": [
    "Для симметричных положительно определенных матриц $\\mathbf A = \\mathbf A^\\top > 0$ собственные числа лежат на отрезке\n",
    "$\\lambda(\\mathbf A) \\in [\\lambda_{\\min}, \\lambda_{\\max}]$\n",
    "\n",
    "Необходимое и достаточное условие сходимости будет иметь вид\n",
    "$$\n",
    "0 < \\lambda_\\min < \\lambda_\\max < \\frac{2}{\\tau} \\Leftrightarrow 0 < \\tau < \\frac{2}{\\lambda_\\max}\n",
    "$$"
   ]
  },
  {
   "cell_type": "code",
   "execution_count": 4,
   "metadata": {
    "collapsed": true,
    "slideshow": {
     "slide_type": "slide"
    }
   },
   "outputs": [],
   "source": [
    "def simple_iteration(A, f, x0, tau, maxit=1000, eps=1e-6):\n",
    "    x = x0.copy()\n",
    "    it = 0\n",
    "    res = []\n",
    "    while it < maxit:\n",
    "        r = A.dot(x) - f\n",
    "        x = x - tau * r\n",
    "        res.append(np.linalg.norm(r))\n",
    "        if np.linalg.norm(r) < eps:\n",
    "            return x, res\n",
    "        it += 1\n",
    "    print('Method has not converged in %d iterations' % maxit)\n",
    "    return x, res"
   ]
  },
  {
   "cell_type": "code",
   "execution_count": 5,
   "metadata": {
    "collapsed": false,
    "hideCode": true,
    "slideshow": {
     "slide_type": "subslide"
    }
   },
   "outputs": [
    {
     "name": "stdout",
     "output_type": "stream",
     "text": [
      "lambda(A) = [ 0.16969125  1.52638833 19.30392042]\n",
      "tau = 0.12\n",
      "Method has not converged in 1000 iterations\n"
     ]
    },
    {
     "data": {
      "image/png": "[encoded data removed]",
      "text/plain": [
       "<Figure size 864x576 with 1 Axes>"
      ]
     },
     "metadata": {
      "needs_background": "light"
     },
     "output_type": "display_data"
    }
   ],
   "source": [
    "import matplotlib.pyplot as plt\n",
    "%matplotlib inline\n",
    "plt.rc('font', **{'size' : 22})\n",
    "\n",
    "A = np.array([[1, 2, 3], [2, 5, 7], [3, 7, 15]])\n",
    "xstar = np.array([1, 2, 3])\n",
    "f = A.dot(xstar)\n",
    "x0 = np.array([0, 0, 0])\n",
    "\n",
    "print('lambda(A) =', np.linalg.eigvalsh(A))\n",
    "\n",
    "tau = 0.12\n",
    "print('tau =', tau)\n",
    "x, res = simple_iteration(A, f, x0, tau)\n",
    "plt.figure(figsize=(12,8))\n",
    "plt.semilogy(res)\n",
    "plt.xlabel('$k$')\n",
    "plt.ylabel('$\\|r_k\\|$')\n",
    "plt.show()"
   ]
  },
  {
   "cell_type": "code",
   "execution_count": 6,
   "metadata": {
    "collapsed": false,
    "hideCode": true,
    "hidePrompt": false,
    "slideshow": {
     "slide_type": "subslide"
    }
   },
   "outputs": [
    {
     "name": "stdout",
     "output_type": "stream",
     "text": [
      "lambda(A) = [ 0.16969125  1.52638833 19.30392042]\n",
      "tau = 0.1\n"
     ]
    },
    {
     "data": {
      "image/png": "[encoded data removed]",
      "text/plain": [
       "<Figure size 864x576 with 1 Axes>"
      ]
     },
     "metadata": {
      "needs_background": "light"
     },
     "output_type": "display_data"
    }
   ],
   "source": [
    "print('lambda(A) =', np.linalg.eigvalsh(A))\n",
    "\n",
    "tau = 0.1\n",
    "print('tau =', tau)\n",
    "x, res = simple_iteration(A, f, x0, tau, maxit=10000)\n",
    "plt.figure(figsize=(12,8))\n",
    "plt.semilogy(res)\n",
    "plt.xlabel('$k$')\n",
    "plt.ylabel('$\\|r_k\\|$')\n",
    "plt.show()"
   ]
  }
 ],
 "metadata": {
  "anaconda-cloud": {},
  "celltoolbar": "Slideshow",
  "kernelspec": {
   "display_name": "Python 3",
   "language": "python",
   "name": "python3"
  },
  "language_info": {
   "codemirror_mode": {
    "name": "ipython",
    "version": 3
   },
   "file_extension": ".py",
   "mimetype": "text/x-python",
   "name": "python",
   "nbconvert_exporter": "python",
   "pygments_lexer": "ipython3",
   "version": "3.8.10"
  },
  "livereveal": {
   "theme": "beige",
   "transition": "none"
  },
  "nbpresent": {
   "slides": {
    "1ffee25c-251f-4cbf-af3d-a1d5521081b9": {
     "id": "1ffee25c-251f-4cbf-af3d-a1d5521081b9",
     "prev": "eb43fa9f-eb7c-417b-ab1a-99371ff452e2",
     "regions": {
      "2e1a7b46-c253-4096-a0a5-dfbc6cfb086e": {
       "attrs": {
        "height": 0.8,
        "width": 0.8,
        "x": 0.1,
        "y": 0.1
       },
       "content": {
        "cell": "bf40e897-f1f8-4e69-b826-fe53fb761aad",
        "part": "whole"
       },
       "id": "2e1a7b46-c253-4096-a0a5-dfbc6cfb086e"
      }
     }
    },
    "37c43f64-6426-4a98-8de1-a6ca1dd72190": {
     "id": "37c43f64-6426-4a98-8de1-a6ca1dd72190",
     "prev": "d2b700ea-e44e-4bed-9ce4-ddf1532b44cb",
     "regions": {
      "45a20e24-b33f-4c55-8df2-e96075b5e2af": {
       "attrs": {
        "height": 0.8,
        "width": 0.8,
        "x": 0.1,
        "y": 0.1
       },
       "content": {
        "cell": "e730e690-97c9-4acd-bf81-4c5ab0bbd48e",
        "part": "whole"
       },
       "id": "45a20e24-b33f-4c55-8df2-e96075b5e2af"
      }
     }
    },
    "5bf0841a-23d1-413e-a557-911111e3e336": {
     "id": "5bf0841a-23d1-413e-a557-911111e3e336",
     "prev": "ebd3a807-2380-4bd6-8e58-c9424f3ed713",
     "regions": {
      "3c8adac9-5366-49e9-96ab-965c77e83485": {
       "attrs": {
        "height": 0.8,
        "width": 0.8,
        "x": 0.1,
        "y": 0.1
       },
       "content": {
        "cell": "2e08a439-2699-4ecf-9189-dfbbf745ad4e",
        "part": "whole"
       },
       "id": "3c8adac9-5366-49e9-96ab-965c77e83485"
      }
     }
    },
    "60ffd9bc-f20d-41e5-8771-5f11695177c6": {
     "id": "60ffd9bc-f20d-41e5-8771-5f11695177c6",
     "prev": "97575fe4-de27-4833-b616-7479f99519d0",
     "regions": {
      "807a955a-60c8-4f03-8734-54dfd52113d6": {
       "attrs": {
        "height": 0.8,
        "width": 0.8,
        "x": 0.1,
        "y": 0.1
       },
       "content": {
        "cell": "795c8121-f820-4edc-aeba-fc399b38f4b2",
        "part": "whole"
       },
       "id": "807a955a-60c8-4f03-8734-54dfd52113d6"
      }
     }
    },
    "623d8bc9-43df-451f-b862-76c2b54708ea": {
     "id": "623d8bc9-43df-451f-b862-76c2b54708ea",
     "prev": "eded54a5-7710-4ab6-8229-3ca4029d1ae7",
     "regions": {
      "42b1d4d4-2905-454b-b564-92f58dec8f81": {
       "attrs": {
        "height": 0.8,
        "width": 0.8,
        "x": 0.1,
        "y": 0.1
       },
       "content": {
        "cell": "16fd05b0-8ac8-4da2-8980-54d0d253d110",
        "part": "whole"
       },
       "id": "42b1d4d4-2905-454b-b564-92f58dec8f81"
      }
     }
    },
    "6dabcfe1-1c90-4893-8f01-c39e431f00bb": {
     "id": "6dabcfe1-1c90-4893-8f01-c39e431f00bb",
     "prev": "37c43f64-6426-4a98-8de1-a6ca1dd72190",
     "regions": {
      "1126b4c4-7df3-4db1-962b-abe099db9928": {
       "attrs": {
        "height": 0.8,
        "width": 0.8,
        "x": 0.1,
        "y": 0.1
       },
       "content": {
        "cell": "54519c05-1028-4e5c-a2d2-e21f821e99aa",
        "part": "whole"
       },
       "id": "1126b4c4-7df3-4db1-962b-abe099db9928"
      }
     }
    },
    "91753ba8-05fe-465f-806d-0faf4a21a031": {
     "id": "91753ba8-05fe-465f-806d-0faf4a21a031",
     "prev": "5bf0841a-23d1-413e-a557-911111e3e336",
     "regions": {
      "eb271beb-70d0-452e-b896-43695be4ae85": {
       "attrs": {
        "height": 0.8,
        "width": 0.8,
        "x": 0.1,
        "y": 0.1
       },
       "content": {
        "cell": "31cc3d04-22a5-4773-b4e1-abfb09f8bbc2",
        "part": "whole"
       },
       "id": "eb271beb-70d0-452e-b896-43695be4ae85"
      }
     }
    },
    "97575fe4-de27-4833-b616-7479f99519d0": {
     "id": "97575fe4-de27-4833-b616-7479f99519d0",
     "prev": "b8aebb38-1266-40c2-928a-026f9d33ec5c",
     "regions": {
      "01deb5d1-73e8-4d64-b93e-e7646647af3b": {
       "attrs": {
        "height": 0.8,
        "width": 0.8,
        "x": 0.1,
        "y": 0.1
       },
       "content": {
        "cell": "7f2bdffe-4f2a-446b-8805-d4fd262fced1",
        "part": "whole"
       },
       "id": "01deb5d1-73e8-4d64-b93e-e7646647af3b"
      }
     }
    },
    "9cc88d72-9ac9-4c24-96d5-abc94cea6e92": {
     "id": "9cc88d72-9ac9-4c24-96d5-abc94cea6e92",
     "prev": "1ffee25c-251f-4cbf-af3d-a1d5521081b9",
     "regions": {
      "78febecd-5100-493b-8f0d-0cc35ceae42e": {
       "attrs": {
        "height": 0.8,
        "width": 0.8,
        "x": 0.1,
        "y": 0.1
       },
       "content": {
        "cell": "bef00443-818c-4614-aa63-8a2e117462ec",
        "part": "whole"
       },
       "id": "78febecd-5100-493b-8f0d-0cc35ceae42e"
      }
     }
    },
    "a5df524d-67a8-4ae1-8258-9231728bdd14": {
     "id": "a5df524d-67a8-4ae1-8258-9231728bdd14",
     "prev": "623d8bc9-43df-451f-b862-76c2b54708ea",
     "regions": {
      "68e876ca-f943-4b2e-8268-439db992b310": {
       "attrs": {
        "height": 0.8,
        "width": 0.8,
        "x": 0.1,
        "y": 0.1
       },
       "content": {
        "cell": "40af6766-3ae3-4acc-8417-439eb8968553",
        "part": "whole"
       },
       "id": "68e876ca-f943-4b2e-8268-439db992b310"
      }
     }
    },
    "b62355d8-8b93-4dfc-8016-6548952c0f8c": {
     "id": "b62355d8-8b93-4dfc-8016-6548952c0f8c",
     "prev": "f59840cf-124e-4d10-8b89-3aafe98f38ba",
     "regions": {
      "381cc6bd-bde3-4d58-8277-99fbd69c7a4f": {
       "attrs": {
        "height": 0.8,
        "width": 0.8,
        "x": 0.1,
        "y": 0.1
       },
       "content": {
        "cell": "b92c1827-c799-44b9-b770-f45e95c917da",
        "part": "whole"
       },
       "id": "381cc6bd-bde3-4d58-8277-99fbd69c7a4f"
      }
     }
    },
    "b8aebb38-1266-40c2-928a-026f9d33ec5c": {
     "id": "b8aebb38-1266-40c2-928a-026f9d33ec5c",
     "prev": "9cc88d72-9ac9-4c24-96d5-abc94cea6e92",
     "regions": {
      "1bc2d24e-0782-443b-83a4-bc683c5ac6cb": {
       "attrs": {
        "height": 0.8,
        "width": 0.8,
        "x": 0.1,
        "y": 0.1
       },
       "content": {
        "cell": "cbb3d96a-fdd6-436e-86b6-1be446b43e84",
        "part": "whole"
       },
       "id": "1bc2d24e-0782-443b-83a4-bc683c5ac6cb"
      }
     }
    },
    "d2b700ea-e44e-4bed-9ce4-ddf1532b44cb": {
     "id": "d2b700ea-e44e-4bed-9ce4-ddf1532b44cb",
     "prev": "a5df524d-67a8-4ae1-8258-9231728bdd14",
     "regions": {
      "474bc80d-f262-4e62-afae-4565c0979e03": {
       "attrs": {
        "height": 0.8,
        "width": 0.8,
        "x": 0.1,
        "y": 0.1
       },
       "content": {
        "cell": "a67001a3-e51e-4a22-bdcd-249cde5581c1",
        "part": "whole"
       },
       "id": "474bc80d-f262-4e62-afae-4565c0979e03"
      }
     }
    },
    "d989978f-1d85-4802-953f-0e82f1a0fd51": {
     "id": "d989978f-1d85-4802-953f-0e82f1a0fd51",
     "prev": null,
     "regions": {
      "e3ddb97a-209b-4c70-91d7-df0cadcefb0d": {
       "attrs": {
        "height": 0.8,
        "width": 0.8,
        "x": 0.1,
        "y": 0.1
       },
       "content": {
        "cell": "13101ac1-2637-4d0f-9f1f-cd32215b02c3",
        "part": "whole"
       },
       "id": "e3ddb97a-209b-4c70-91d7-df0cadcefb0d"
      }
     }
    },
    "eb43fa9f-eb7c-417b-ab1a-99371ff452e2": {
     "id": "eb43fa9f-eb7c-417b-ab1a-99371ff452e2",
     "prev": "b62355d8-8b93-4dfc-8016-6548952c0f8c",
     "regions": {
      "b9415d21-f857-4a93-a788-c7dc51dedea0": {
       "attrs": {
        "height": 0.8,
        "width": 0.8,
        "x": 0.1,
        "y": 0.1
       },
       "content": {
        "cell": "e29b9590-fc86-46fd-83be-3ff48c7a8df4",
        "part": "whole"
       },
       "id": "b9415d21-f857-4a93-a788-c7dc51dedea0"
      }
     }
    },
    "ebd3a807-2380-4bd6-8e58-c9424f3ed713": {
     "id": "ebd3a807-2380-4bd6-8e58-c9424f3ed713",
     "prev": "f3fb61c6-f807-4942-8c41-0e80240a5146",
     "regions": {
      "7eaeb4e2-d47e-43e4-92c4-ed8cc1e9aac7": {
       "attrs": {
        "height": 0.8,
        "width": 0.8,
        "x": 0.1,
        "y": 0.1
       },
       "content": {
        "cell": "412353c7-42b2-42c7-8702-69568c809a97",
        "part": "whole"
       },
       "id": "7eaeb4e2-d47e-43e4-92c4-ed8cc1e9aac7"
      }
     }
    },
    "eded54a5-7710-4ab6-8229-3ca4029d1ae7": {
     "id": "eded54a5-7710-4ab6-8229-3ca4029d1ae7",
     "prev": "91753ba8-05fe-465f-806d-0faf4a21a031",
     "regions": {
      "816c3f73-4147-4cdb-b7d1-f5f82fa6003b": {
       "attrs": {
        "height": 0.8,
        "width": 0.8,
        "x": 0.1,
        "y": 0.1
       },
       "content": {
        "cell": "fa2d4b89-0d7a-41f1-8635-c5905d106cf3",
        "part": "whole"
       },
       "id": "816c3f73-4147-4cdb-b7d1-f5f82fa6003b"
      }
     }
    },
    "f3fb61c6-f807-4942-8c41-0e80240a5146": {
     "id": "f3fb61c6-f807-4942-8c41-0e80240a5146",
     "prev": "d989978f-1d85-4802-953f-0e82f1a0fd51",
     "regions": {
      "4f7abbfb-161b-44ce-bdab-05ef0b2a5542": {
       "attrs": {
        "height": 0.8,
        "width": 0.8,
        "x": 0.1,
        "y": 0.1
       },
       "content": {
        "cell": "8ce7bf3f-66e0-4462-a540-e87bceeadb7f",
        "part": "whole"
       },
       "id": "4f7abbfb-161b-44ce-bdab-05ef0b2a5542"
      }
     }
    },
    "f59840cf-124e-4d10-8b89-3aafe98f38ba": {
     "id": "f59840cf-124e-4d10-8b89-3aafe98f38ba",
     "prev": "6dabcfe1-1c90-4893-8f01-c39e431f00bb",
     "regions": {
      "e67fa4b9-f237-40ff-8621-fcdbfdd83101": {
       "attrs": {
        "height": 0.8,
        "width": 0.8,
        "x": 0.1,
        "y": 0.1
       },
       "content": {
        "cell": "4ae9a30c-81bc-4396-90d8-939a8e59f287",
        "part": "whole"
       },
       "id": "e67fa4b9-f237-40ff-8621-fcdbfdd83101"
      }
     }
    }
   },
   "themes": {
    "default": "c04eebe0-c348-41e9-bcfb-a65d4bd126df",
    "theme": {
     "c04eebe0-c348-41e9-bcfb-a65d4bd126df": {
      "id": "c04eebe0-c348-41e9-bcfb-a65d4bd126df",
      "palette": {
       "19cc588f-0593-49c9-9f4b-e4d7cc113b1c": {
        "id": "19cc588f-0593-49c9-9f4b-e4d7cc113b1c",
        "rgb": [
         252,
         252,
         252
        ]
       },
       "31af15d2-7e15-44c5-ab5e-e04b16a89eff": {
        "id": "31af15d2-7e15-44c5-ab5e-e04b16a89eff",
        "rgb": [
         68,
         68,
         68
        ]
       },
       "50f92c45-a630-455b-aec3-788680ec7410": {
        "id": "50f92c45-a630-455b-aec3-788680ec7410",
        "rgb": [
         155,
         177,
         192
        ]
       },
       "c5cc3653-2ee1-402a-aba2-7caae1da4f6c": {
        "id": "c5cc3653-2ee1-402a-aba2-7caae1da4f6c",
        "rgb": [
         43,
         126,
         184
        ]
       },
       "efa7f048-9acb-414c-8b04-a26811511a21": {
        "id": "efa7f048-9acb-414c-8b04-a26811511a21",
        "rgb": [
         25.118061674008803,
         73.60176211453744,
         107.4819383259912
        ]
       }
      },
      "rules": {
       "blockquote": {
        "color": "50f92c45-a630-455b-aec3-788680ec7410"
       },
       "code": {
        "font-family": "Anonymous Pro"
       },
       "h1": {
        "color": "c5cc3653-2ee1-402a-aba2-7caae1da4f6c",
        "font-family": "Lato",
        "font-size": 8
       },
       "h2": {
        "color": "c5cc3653-2ee1-402a-aba2-7caae1da4f6c",
        "font-family": "Lato",
        "font-size": 6
       },
       "h3": {
        "color": "50f92c45-a630-455b-aec3-788680ec7410",
        "font-family": "Lato",
        "font-size": 5.5
       },
       "h4": {
        "color": "c5cc3653-2ee1-402a-aba2-7caae1da4f6c",
        "font-family": "Lato",
        "font-size": 5
       },
       "h5": {
        "font-family": "Lato"
       },
       "h6": {
        "font-family": "Lato"
       },
       "h7": {
        "font-family": "Lato"
       },
       "pre": {
        "font-family": "Anonymous Pro",
        "font-size": 4
       }
      },
      "text-base": {
       "font-family": "Merriweather",
       "font-size": 4
      }
     },
     "f0b95bb9-67a7-4d14-bf09-657a5b556dbe": {
      "id": "f0b95bb9-67a7-4d14-bf09-657a5b556dbe",
      "palette": {
       "19cc588f-0593-49c9-9f4b-e4d7cc113b1c": {
        "id": "19cc588f-0593-49c9-9f4b-e4d7cc113b1c",
        "rgb": [
         252,
         252,
         252
        ]
       },
       "31af15d2-7e15-44c5-ab5e-e04b16a89eff": {
        "id": "31af15d2-7e15-44c5-ab5e-e04b16a89eff",
        "rgb": [
         68,
         68,
         68
        ]
       },
       "50f92c45-a630-455b-aec3-788680ec7410": {
        "id": "50f92c45-a630-455b-aec3-788680ec7410",
        "rgb": [
         155,
         177,
         192
        ]
       },
       "c5cc3653-2ee1-402a-aba2-7caae1da4f6c": {
        "id": "c5cc3653-2ee1-402a-aba2-7caae1da4f6c",
        "rgb": [
         43,
         126,
         184
        ]
       },
       "efa7f048-9acb-414c-8b04-a26811511a21": {
        "id": "efa7f048-9acb-414c-8b04-a26811511a21",
        "rgb": [
         25.118061674008803,
         73.60176211453744,
         107.4819383259912
        ]
       }
      },
      "rules": {
       "blockquote": {
        "color": "50f92c45-a630-455b-aec3-788680ec7410"
       },
       "code": {
        "font-family": "Anonymous Pro"
       },
       "h1": {
        "color": "c5cc3653-2ee1-402a-aba2-7caae1da4f6c",
        "font-family": "Lato",
        "font-size": 8
       },
       "h2": {
        "color": "c5cc3653-2ee1-402a-aba2-7caae1da4f6c",
        "font-family": "Lato",
        "font-size": 6
       },
       "h3": {
        "color": "50f92c45-a630-455b-aec3-788680ec7410",
        "font-family": "Lato",
        "font-size": 5.5
       },
       "h4": {
        "color": "c5cc3653-2ee1-402a-aba2-7caae1da4f6c",
        "font-family": "Lato",
        "font-size": 5
       },
       "h5": {
        "font-family": "Lato"
       },
       "h6": {
        "font-family": "Lato"
       },
       "h7": {
        "font-family": "Lato"
       },
       "pre": {
        "font-family": "Anonymous Pro",
        "font-size": 4
       }
      },
      "text-base": {
       "font-family": "Merriweather",
       "font-size": 4
      }
     }
    }
   }
  }
 },
 "nbformat": 4,
 "nbformat_minor": 0
}
