{
 "cells": [
  {
   "cell_type": "code",
   "execution_count": 1,
   "metadata": {
    "collapsed": false
   },
   "outputs": [],
   "source": [
    "from sympy.interactive import init_printing\n",
    "init_printing()\n",
    "from sympy import sqrt, sin, cos, pi, var, integrate, Symbol, S, Integral, symbols, solve\n",
    "def rpoisson(f, r):\n",
    "    return -(r**2*f.diff(r)).diff(r)/r**2/(4*pi)\n",
    "def rpoisson_int(nr, r):\n",
    "    # Boundary conditions:\n",
    "    # r_c^2*v'(r_c) = -1       (1)\n",
    "    # v(r_c) = 1/r_c           (2)\n",
    "    first = ((-4*pi*nr)*r**2).integrate(r)\n",
    "    first = first - first.subs(r, r_c) + (-1)     # Impose (1)\n",
    "    second = (first/r**2).integrate(r)\n",
    "    second = second - second.subs(r, r_c) + 1/r_c # Impose (2)\n",
    "    return second\n",
    "def check_gr_vr(gr, vr, r, r_c):\n",
    "    # Some checks:\n",
    "    # density is zero at r=r_c\n",
    "    assert gr.subs(r, r_c).simplify() == 0\n",
    "    # density is normalized to 1\n",
    "    assert integrate(4*pi*r**2*gr, (r, 0, r_c)).simplify() == 1\n",
    "    # vr is the potential corresponding to the density gr\n",
    "    assert (gr-rpoisson(vr, r)).simplify() == 0\n",
    "    # gr is the density corresponding to vr\n",
    "    assert (vr-rpoisson_int(gr, r)).simplify() == 0"
   ]
  },
  {
   "cell_type": "code",
   "execution_count": 2,
   "metadata": {
    "collapsed": false
   },
   "outputs": [],
   "source": [
    "var(\"r r_c\")\n",
    "gr = -21*(r-r_c)**3*(6*r**2+3*r*r_c+r_c**2)/(5*pi*r_c**8)\n",
    "vr = (9*r**7 - 30*r**6*r_c + 28*r**5*r_c**2 - 14*r**2*r_c**5 + 12*r_c**7)/(5*r_c**8)"
   ]
  },
  {
   "cell_type": "code",
   "execution_count": 3,
   "metadata": {
    "collapsed": false
   },
   "outputs": [],
   "source": [
    "check_gr_vr(gr, vr, r, r_c)"
   ]
  },
  {
   "cell_type": "code",
   "execution_count": 4,
   "metadata": {
    "collapsed": false
   },
   "outputs": [
    {
     "data": {
      "text/plain": [
       "10976/(17875*r_c)"
      ]
     },
     "execution_count": 4,
     "metadata": {},
     "output_type": "execute_result"
    }
   ],
   "source": [
    "Ig = integrate(4*pi*r**2*gr*(1/r-vr), (r, 0, r_c))\n",
    "assert Ig == 10976/(17875*r_c)\n",
    "Ig"
   ]
  },
  {
   "cell_type": "code",
   "execution_count": 5,
   "metadata": {
    "collapsed": false
   },
   "outputs": [
    {
     "data": {
      "text/plain": [
       "14*pi*r_c**2/75"
      ]
     },
     "execution_count": 5,
     "metadata": {},
     "output_type": "execute_result"
    }
   ],
   "source": [
    "Isph = integrate(4*pi*r**2*(1/r-vr), (r, 0, r_c))\n",
    "assert Isph == 14*pi*r_c**2/75\n",
    "Isph"
   ]
  },
  {
   "cell_type": "markdown",
   "metadata": {},
   "source": [
    "# Example 1"
   ]
  },
  {
   "cell_type": "code",
   "execution_count": 6,
   "metadata": {
    "collapsed": false
   },
   "outputs": [
    {
     "data": {
      "text/plain": [
       "15*(-r**2 + r_c**2)/(8*pi*r_c**5)"
      ]
     },
     "execution_count": 6,
     "metadata": {},
     "output_type": "execute_result"
    }
   ],
   "source": [
    "#gr = cos(pi*r/r_c/2) /( 8*r_c**3*(-8 + pi**2)/pi**2 )\n",
    "gr = 1-(r/r_c)**2\n",
    "gr = gr / integrate(4*pi*r**2*gr, (r, 0, r_c))\n",
    "gr = gr.simplify()\n",
    "gr"
   ]
  },
  {
   "cell_type": "code",
   "execution_count": 7,
   "metadata": {
    "collapsed": false
   },
   "outputs": [
    {
     "data": {
      "text/plain": [
       "(3*r**4 - 10*r**2*r_c**2 + 15*r_c**4)/(8*r_c**5)"
      ]
     },
     "execution_count": 7,
     "metadata": {},
     "output_type": "execute_result"
    }
   ],
   "source": [
    "vr = rpoisson_int(gr, r).simplify()\n",
    "vr"
   ]
  },
  {
   "cell_type": "code",
   "execution_count": 8,
   "metadata": {
    "collapsed": false
   },
   "outputs": [],
   "source": [
    "check_gr_vr(gr, vr, r, r_c)"
   ]
  },
  {
   "cell_type": "code",
   "execution_count": 9,
   "metadata": {
    "collapsed": false
   },
   "outputs": [
    {
     "data": {
      "text/plain": [
       "25/(56*r_c)"
      ]
     },
     "execution_count": 9,
     "metadata": {},
     "output_type": "execute_result"
    }
   ],
   "source": [
    "Ig = integrate(4*pi*r**2*gr*(1/r-vr), (r, 0, r_c))\n",
    "Ig"
   ]
  },
  {
   "cell_type": "code",
   "execution_count": 10,
   "metadata": {
    "collapsed": false
   },
   "outputs": [
    {
     "data": {
      "text/plain": [
       "2*pi*r_c**2/7"
      ]
     },
     "execution_count": 10,
     "metadata": {},
     "output_type": "execute_result"
    }
   ],
   "source": [
    "Isph = integrate(4*pi*r**2*(1/r-vr), (r, 0, r_c))\n",
    "Isph"
   ]
  },
  {
   "cell_type": "code",
   "execution_count": 11,
   "metadata": {
    "collapsed": false
   },
   "outputs": [
    {
     "name": "stdout",
     "output_type": "stream",
     "text": [
      "Ig = 25/(56*r_c)\n",
      "Isph = 2*pi*r_c**2/7\n",
      "v0 = 15/(8*r_c)\n",
      "\n",
      "gr = 15*(-r**2 + r_c**2)/(8*pi*r_c**5)\n"
     ]
    }
   ],
   "source": [
    "print \"Ig =\", Ig\n",
    "print \"Isph =\", Isph\n",
    "print \"v0 =\", vr.limit(r, 0)\n",
    "print\n",
    "print \"gr =\", gr"
   ]
  },
  {
   "cell_type": "markdown",
   "metadata": {},
   "source": [
    "# Example 2"
   ]
  },
  {
   "cell_type": "code",
   "execution_count": 12,
   "metadata": {
    "collapsed": false
   },
   "outputs": [
    {
     "data": {
      "text/plain": [
       "21*(r - r_c)**10*(48620*r**9 + 24310*r**8*r_c + 11440*r**7*r_c**2 + 5005*r**6*r_c**3 + 2002*r**5*r_c**4 + 715*r**4*r_c**5 + 220*r**3*r_c**6 + 55*r**2*r_c**7 + 10*r*r_c**8 + r_c**9)/(4*pi*r_c**22)"
      ]
     },
     "execution_count": 12,
     "metadata": {},
     "output_type": "execute_result"
    }
   ],
   "source": [
    "n = 10\n",
    "p = r**(n-1)\n",
    "syms = symbols(\"a0:%d\" % (n-1))\n",
    "for i in range(n-1):\n",
    "    p += syms[i]*r**i\n",
    "f = (1-r)**n * p\n",
    "eqs = [f.diff(r, i).subs(r, 0) for i in range(1, n)]\n",
    "d = solve(eqs, syms)\n",
    "f = f.subs(d)\n",
    "gr = f.subs(r, r/r_c)\n",
    "gr = gr / integrate(4*pi*r**2*gr, (r, 0, r_c))\n",
    "gr = gr.simplify()\n",
    "gr"
   ]
  },
  {
   "cell_type": "code",
   "execution_count": 13,
   "metadata": {
    "collapsed": false
   },
   "outputs": [
    {
     "data": {
      "text/plain": [
       "(-8840*r**21 + 92378*r**20*r_c - 432432*r**19*r_c**2 + 1191190*r**18*r_c**3 - 2130128*r**17*r_c**4 + 2567565*r**16*r_c**5 - 2089164*r**15*r_c**6 + 1108536*r**14*r_c**7 - 348840*r**13*r_c**8 + 49742*r**12*r_c**9 - 14*r**2*r_c**19 + 11*r_c**21)/(4*r_c**22)"
      ]
     },
     "execution_count": 13,
     "metadata": {},
     "output_type": "execute_result"
    }
   ],
   "source": [
    "vr = rpoisson_int(gr, r).simplify()\n",
    "vr"
   ]
  },
  {
   "cell_type": "code",
   "execution_count": 14,
   "metadata": {
    "collapsed": false
   },
   "outputs": [],
   "source": [
    "check_gr_vr(gr, vr, r, r_c)"
   ]
  },
  {
   "cell_type": "code",
   "execution_count": 15,
   "metadata": {
    "collapsed": false
   },
   "outputs": [
    {
     "data": {
      "text/plain": [
       "517399110137/(809268832200*r_c)"
      ]
     },
     "execution_count": 15,
     "metadata": {},
     "output_type": "execute_result"
    }
   ],
   "source": [
    "Ig = integrate(4*pi*r**2*gr*(1/r-vr), (r, 0, r_c))\n",
    "Ig"
   ]
  },
  {
   "cell_type": "code",
   "execution_count": 16,
   "metadata": {
    "collapsed": false
   },
   "outputs": [
    {
     "data": {
      "text/plain": [
       "91*pi*r_c**2/690"
      ]
     },
     "execution_count": 16,
     "metadata": {},
     "output_type": "execute_result"
    }
   ],
   "source": [
    "Isph = integrate(4*pi*r**2*(1/r-vr), (r, 0, r_c))\n",
    "Isph"
   ]
  },
  {
   "cell_type": "code",
   "execution_count": 17,
   "metadata": {
    "collapsed": false
   },
   "outputs": [
    {
     "name": "stdout",
     "output_type": "stream",
     "text": [
      "Ig = 517399110137/(809268832200*r_c)\n",
      "Isph = 91*pi*r_c**2/690\n",
      "v0 = 11/(4*r_c)\n",
      "\n",
      "gr = 21*(r - r_c)**10*(48620*r**9 + 24310*r**8*r_c + 11440*r**7*r_c**2 + 5005*r**6*r_c**3 + 2002*r**5*r_c**4 + 715*r**4*r_c**5 + 220*r**3*r_c**6 + 55*r**2*r_c**7 + 10*r*r_c**8 + r_c**9)/(4*pi*r_c**22)\n"
     ]
    }
   ],
   "source": [
    "print \"Ig =\", Ig\n",
    "print \"Isph =\", Isph\n",
    "print \"v0 =\", vr.limit(r, 0)\n",
    "print\n",
    "print \"gr =\", gr"
   ]
  },
  {
   "cell_type": "code",
   "execution_count": 18,
   "metadata": {
    "collapsed": false
   },
   "outputs": [
    {
     "name": "stdout",
     "output_type": "stream",
     "text": [
      "Ig = 517399110137/(809268832200*rc)\n",
      "Isph = 91*pi*rc**2/690\n",
      "v0 = 11/(4*rc)\n",
      "\n",
      "gr = 21*(r - rc)**10*(48620*r**9 + 24310*r**8*rc + 11440*r**7*rc**2 + 5005*r**6*rc**3 + 2002*r**5*rc**4 + 715*r**4*rc**5 + 220*r**3*rc**6 + 55*r**2*rc**7 + 10*r*rc**8 + rc**9)/(4*pi*rc**22)\n"
     ]
    }
   ],
   "source": [
    "print \"Ig =\", str(Ig).replace(\"r_c\", \"rc\")\n",
    "print \"Isph =\", str(Isph).replace(\"r_c\", \"rc\")\n",
    "print \"v0 =\", str(vr.limit(r, 0)).replace(\"r_c\", \"rc\")\n",
    "print\n",
    "print \"gr =\", str(gr).replace(\"r_c\", \"rc\")"
   ]
  },
  {
   "cell_type": "markdown",
   "metadata": {},
   "source": [
    "# Example 3"
   ]
  },
  {
   "cell_type": "code",
   "execution_count": 19,
   "metadata": {
    "collapsed": true
   },
   "outputs": [],
   "source": [
    "from scipy.integrate import cumtrapz\n",
    "from scipy.special import erf\n",
    "from numpy import linspace, trapz, pi, sin, empty, size, exp, sqrt\n",
    "\n",
    "def integrate(R, f):\n",
    "    return cumtrapz(f, R, initial=0)\n",
    "    \n",
    "def rpoisson_int(gr, R):\n",
    "    rc = 1\n",
    "    first = integrate(R, (-4*pi*gr)*R**2)\n",
    "    first = first - first[-1] + (-1)\n",
    "    second = integrate(R, first/R**2)\n",
    "    second = second - second[-1] + 1/rc\n",
    "    return second"
   ]
  },
  {
   "cell_type": "code",
   "execution_count": 20,
   "metadata": {
    "collapsed": false
   },
   "outputs": [
    {
     "name": "stdout",
     "output_type": "stream",
     "text": [
      "gr norm: 1.00000000085\n",
      "Ig = 2.01027837029584_dp / rc\n",
      "Isph = 0.08490520777895_dp * rc**2\n",
      "v0 = 6.86830681054508_dp / rc\n",
      "\n",
      "gr norm: 1.00000000001\n",
      "Ig = 2.01031976486788_dp / rc\n",
      "Isph = 0.08490788196539_dp * rc**2\n",
      "v0 = 6.86367256211640_dp / rc\n",
      "\n",
      "gr norm: 1.0\n",
      "Ig = 2.01032017805483_dp / rc\n",
      "Isph = 0.08490790865855_dp * rc**2\n",
      "v0 = 6.86366259004854_dp / rc\n",
      "\n",
      "gr norm: 1.0\n",
      "Ig = 2.01032018218137_dp / rc\n",
      "Isph = 0.08490790892400_dp * rc**2\n",
      "v0 = 6.86366256490661_dp / rc\n",
      "\n"
     ]
    }
   ],
   "source": [
    "alpha = 37\n",
    "C = 1/(pi**(3./2) * erf(sqrt(alpha)) / alpha**(3./2) - 2*pi*exp(-alpha)/alpha)\n",
    "\n",
    "for i in range(3, 7):\n",
    "    R = linspace(1e-5, 1, 10**i)\n",
    "    gr = C * exp(-37*R**2)\n",
    "\n",
    "    print \"gr norm:\", 1/trapz(4*pi*gr*R**2, R)\n",
    "\n",
    "    vr = rpoisson_int(gr, R)\n",
    "\n",
    "    Ig = trapz(4*pi*R**2*gr*(1/R-vr), R)\n",
    "    Isph = trapz(4*pi*R**2*(1/R-vr), R)\n",
    "    v0 = vr[0]\n",
    "\n",
    "    print \"Ig = %.14f_dp / rc\" % Ig\n",
    "    print \"Isph = %.14f_dp * rc**2\" % Isph\n",
    "    print \"v0 = %.14f_dp / rc\" % v0\n",
    "    print"
   ]
  }
 ],
 "metadata": {
  "kernelspec": {
   "display_name": "Python 2",
   "language": "python",
   "name": "python2"
  },
  "language_info": {
   "codemirror_mode": {
    "name": "ipython",
    "version": 2
   },
   "file_extension": ".py",
   "mimetype": "text/x-python",
   "name": "python",
   "nbconvert_exporter": "python",
   "pygments_lexer": "ipython2",
   "version": "2.7.11"
  }
 },
 "nbformat": 4,
 "nbformat_minor": 0
}
