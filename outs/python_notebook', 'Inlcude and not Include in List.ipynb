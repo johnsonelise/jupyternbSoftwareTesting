{
 "cells": [
  {
   "cell_type": "markdown",
   "metadata": {},
   "source": [
    "# 找出包含和不包含某些字串的資料"
   ]
  },
  {
   "cell_type": "code",
   "execution_count": 24,
   "metadata": {
    "collapsed": false
   },
   "outputs": [
    {
     "name": "stdout",
     "output_type": "stream",
     "text": [
      "['1235']\n"
     ]
    }
   ],
   "source": [
    "yes = ['2', '5']\n",
    "no = ['7']\n",
    "lines = [line for line in ['1235', '24567', '789'] if \\\n",
    "         reduce(lambda x,y: x and y, map(lambda x: x in line, yes)) and \\\n",
    "         reduce(lambda x,y: x and y, map(lambda x: x not in line, no))]\n",
    "print lines"
   ]
  },
  {
   "cell_type": "code",
   "execution_count": null,
   "metadata": {
    "collapsed": true
   },
   "outputs": [],
   "source": []
  }
 ],
 "metadata": {
  "kernelspec": {
   "display_name": "Python 2",
   "language": "python",
   "name": "python2"
  },
  "language_info": {
   "codemirror_mode": {
    "name": "ipython",
    "version": 2
   },
   "file_extension": ".py",
   "mimetype": "text/x-python",
   "name": "python",
   "nbconvert_exporter": "python",
   "pygments_lexer": "ipython2",
   "version": "2.7.9"
  }
 },
 "nbformat": 4,
 "nbformat_minor": 0
}
