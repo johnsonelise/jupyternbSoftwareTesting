{
 "cells": [
  {
   "cell_type": "markdown",
   "metadata": {},
   "source": [
    "Let's explore the song names in the files that are in the Wikifonia dump from 2010.\n",
    "\n",
    "The folder wikifonia20100503 comes from a dump of the wikifonia database found here:\n",
    "\n",
    "https://github.com/jganseman/musq"
   ]
  },
  {
   "cell_type": "markdown",
   "metadata": {},
   "source": [
    "First, let's list all those files:"
   ]
  },
  {
   "cell_type": "code",
   "execution_count": 1,
   "metadata": {
    "collapsed": true
   },
   "outputs": [],
   "source": [
    "import glob"
   ]
  },
  {
   "cell_type": "code",
   "execution_count": 4,
   "metadata": {
    "collapsed": false
   },
   "outputs": [
    {
     "data": {
      "text/plain": [
       "['../MusicXML_files/wikifonia20100503\\\\100.xml',\n",
       " '../MusicXML_files/wikifonia20100503\\\\1000.xml',\n",
       " '../MusicXML_files/wikifonia20100503\\\\1002.xml',\n",
       " '../MusicXML_files/wikifonia20100503\\\\1003.xml',\n",
       " '../MusicXML_files/wikifonia20100503\\\\1007.xml',\n",
       " '../MusicXML_files/wikifonia20100503\\\\1008.xml',\n",
       " '../MusicXML_files/wikifonia20100503\\\\101.xml',\n",
       " '../MusicXML_files/wikifonia20100503\\\\1011.xml',\n",
       " '../MusicXML_files/wikifonia20100503\\\\1019.xml',\n",
       " '../MusicXML_files/wikifonia20100503\\\\102.xml']"
      ]
     },
     "execution_count": 4,
     "metadata": {},
     "output_type": "execute_result"
    }
   ],
   "source": [
    "fnames = glob.glob(\"../MusicXML_files/wikifonia20100503/*.xml\")\n",
    "fnames[:10]"
   ]
  },
  {
   "cell_type": "markdown",
   "metadata": {},
   "source": [
    "Now, for every file, let's read it and extract the title."
   ]
  },
  {
   "cell_type": "code",
   "execution_count": 5,
   "metadata": {
    "collapsed": true
   },
   "outputs": [],
   "source": [
    "import xml.etree.cElementTree as ET"
   ]
  },
  {
   "cell_type": "code",
   "execution_count": 12,
   "metadata": {
    "collapsed": false
   },
   "outputs": [],
   "source": [
    "tree = ET.ElementTree(file=fnames[0])"
   ]
  },
  {
   "cell_type": "code",
   "execution_count": 16,
   "metadata": {
    "collapsed": false
   },
   "outputs": [
    {
     "data": {
      "text/plain": [
       "<Element 'score-partwise' at 0x00000000054C96D8>"
      ]
     },
     "execution_count": 16,
     "metadata": {},
     "output_type": "execute_result"
    }
   ],
   "source": [
    "root = tree.getroot()\n",
    "root"
   ]
  },
  {
   "cell_type": "code",
   "execution_count": 17,
   "metadata": {
    "collapsed": false
   },
   "outputs": [
    {
     "data": {
      "text/plain": [
       "[<Element 'work' at 0x00000000054C9818>,\n",
       " <Element 'movement-number' at 0x00000000054C9908>,\n",
       " <Element 'movement-title' at 0x00000000054C9958>,\n",
       " <Element 'identification' at 0x00000000054C99A8>,\n",
       " <Element 'part-list' at 0x00000000054C9D18>,\n",
       " <Element 'part' at 0x00000000054C9F98>,\n",
       " <Element 'part' at 0x00000000054DD638>,\n",
       " <Element 'part' at 0x00000000054F2CC8>]"
      ]
     },
     "execution_count": 17,
     "metadata": {},
     "output_type": "execute_result"
    }
   ],
   "source": [
    "root.getchildren()"
   ]
  },
  {
   "cell_type": "code",
   "execution_count": 21,
   "metadata": {
    "collapsed": false
   },
   "outputs": [
    {
     "data": {
      "text/plain": [
       "'Miles Davis'"
      ]
     },
     "execution_count": 21,
     "metadata": {},
     "output_type": "execute_result"
    }
   ],
   "source": [
    "root.find('identification/creator').text"
   ]
  },
  {
   "cell_type": "code",
   "execution_count": 24,
   "metadata": {
    "collapsed": false
   },
   "outputs": [
    {
     "data": {
      "text/plain": [
       "'All Blues'"
      ]
     },
     "execution_count": 24,
     "metadata": {},
     "output_type": "execute_result"
    }
   ],
   "source": [
    "root.find('movement-title').text"
   ]
  },
  {
   "cell_type": "markdown",
   "metadata": {},
   "source": [
    "Let's write a function."
   ]
  },
  {
   "cell_type": "code",
   "execution_count": 28,
   "metadata": {
    "collapsed": true
   },
   "outputs": [],
   "source": [
    "def title_composer(fname):\n",
    "    \"Returns title and composer name from XML filename.\"\n",
    "    root = ET.ElementTree(file=fname).getroot()\n",
    "    return (root.find('identification/creator').text, root.find('movement-title').text)\n",
    "    "
   ]
  },
  {
   "cell_type": "code",
   "execution_count": 29,
   "metadata": {
    "collapsed": false
   },
   "outputs": [
    {
     "data": {
      "text/plain": [
       "('Miles Davis', 'All Blues')"
      ]
     },
     "execution_count": 29,
     "metadata": {},
     "output_type": "execute_result"
    }
   ],
   "source": [
    "title_composer(fnames[0])"
   ]
  },
  {
   "cell_type": "markdown",
   "metadata": {},
   "source": [
    "   Let's now run a loop over all our data:"
   ]
  },
  {
   "cell_type": "code",
   "execution_count": 31,
   "metadata": {
    "collapsed": false
   },
   "outputs": [],
   "source": [
    "metadata = [title_composer(fname) for fname in fnames]"
   ]
  },
  {
   "cell_type": "markdown",
   "metadata": {},
   "source": [
    "Finally, let's build a pandas dataframe using this data:"
   ]
  },
  {
   "cell_type": "code",
   "execution_count": 32,
   "metadata": {
    "collapsed": true
   },
   "outputs": [],
   "source": [
    "import pandas as pd"
   ]
  },
  {
   "cell_type": "code",
   "execution_count": 35,
   "metadata": {
    "collapsed": false
   },
   "outputs": [
    {
     "data": {
      "text/html": [
       "<div>\n",
       "<table border=\"1\" class=\"dataframe\">\n",
       "  <thead>\n",
       "    <tr style=\"text-align: right;\">\n",
       "      <th></th>\n",
       "      <th>composer</th>\n",
       "      <th>song_title</th>\n",
       "    </tr>\n",
       "  </thead>\n",
       "  <tbody>\n",
       "    <tr>\n",
       "      <th>../MusicXML_files/wikifonia20100503\\100.xml</th>\n",
       "      <td>Miles Davis</td>\n",
       "      <td>All Blues</td>\n",
       "    </tr>\n",
       "    <tr>\n",
       "      <th>../MusicXML_files/wikifonia20100503\\1000.xml</th>\n",
       "      <td>Ukrainian folksong</td>\n",
       "      <td>Gehe nicht, oh Gregor</td>\n",
       "    </tr>\n",
       "    <tr>\n",
       "      <th>../MusicXML_files/wikifonia20100503\\1002.xml</th>\n",
       "      <td>Frederik Vahle</td>\n",
       "      <td>Schlaflied für Anne</td>\n",
       "    </tr>\n",
       "    <tr>\n",
       "      <th>../MusicXML_files/wikifonia20100503\\1003.xml</th>\n",
       "      <td>Belle and Sebastian</td>\n",
       "      <td>Get me away</td>\n",
       "    </tr>\n",
       "    <tr>\n",
       "      <th>../MusicXML_files/wikifonia20100503\\1007.xml</th>\n",
       "      <td>Belle and Sebastian</td>\n",
       "      <td>Storytelling</td>\n",
       "    </tr>\n",
       "    <tr>\n",
       "      <th>../MusicXML_files/wikifonia20100503\\1008.xml</th>\n",
       "      <td>Howard Greenfield, Neal Sedaka</td>\n",
       "      <td>Where the Boys Are</td>\n",
       "    </tr>\n",
       "    <tr>\n",
       "      <th>../MusicXML_files/wikifonia20100503\\101.xml</th>\n",
       "      <td>Charlie Parker</td>\n",
       "      <td>Anthropology</td>\n",
       "    </tr>\n",
       "    <tr>\n",
       "      <th>../MusicXML_files/wikifonia20100503\\1011.xml</th>\n",
       "      <td>Ned Washington</td>\n",
       "      <td>The Nearness of You</td>\n",
       "    </tr>\n",
       "    <tr>\n",
       "      <th>../MusicXML_files/wikifonia20100503\\1019.xml</th>\n",
       "      <td>John Lennon, Yoko Ono</td>\n",
       "      <td>Happy Xmas</td>\n",
       "    </tr>\n",
       "    <tr>\n",
       "      <th>../MusicXML_files/wikifonia20100503\\102.xml</th>\n",
       "      <td>The Rolling Stones</td>\n",
       "      <td>Paint it black</td>\n",
       "    </tr>\n",
       "  </tbody>\n",
       "</table>\n",
       "</div>"
      ],
      "text/plain": [
       "                                                                    composer  \\\n",
       "../MusicXML_files/wikifonia20100503\\100.xml                      Miles Davis   \n",
       "../MusicXML_files/wikifonia20100503\\1000.xml              Ukrainian folksong   \n",
       "../MusicXML_files/wikifonia20100503\\1002.xml                  Frederik Vahle   \n",
       "../MusicXML_files/wikifonia20100503\\1003.xml             Belle and Sebastian   \n",
       "../MusicXML_files/wikifonia20100503\\1007.xml             Belle and Sebastian   \n",
       "../MusicXML_files/wikifonia20100503\\1008.xml  Howard Greenfield, Neal Sedaka   \n",
       "../MusicXML_files/wikifonia20100503\\101.xml                   Charlie Parker   \n",
       "../MusicXML_files/wikifonia20100503\\1011.xml                  Ned Washington   \n",
       "../MusicXML_files/wikifonia20100503\\1019.xml           John Lennon, Yoko Ono   \n",
       "../MusicXML_files/wikifonia20100503\\102.xml               The Rolling Stones   \n",
       "\n",
       "                                                         song_title  \n",
       "../MusicXML_files/wikifonia20100503\\100.xml               All Blues  \n",
       "../MusicXML_files/wikifonia20100503\\1000.xml  Gehe nicht, oh Gregor  \n",
       "../MusicXML_files/wikifonia20100503\\1002.xml    Schlaflied für Anne  \n",
       "../MusicXML_files/wikifonia20100503\\1003.xml            Get me away  \n",
       "../MusicXML_files/wikifonia20100503\\1007.xml           Storytelling  \n",
       "../MusicXML_files/wikifonia20100503\\1008.xml     Where the Boys Are  \n",
       "../MusicXML_files/wikifonia20100503\\101.xml            Anthropology  \n",
       "../MusicXML_files/wikifonia20100503\\1011.xml    The Nearness of You  \n",
       "../MusicXML_files/wikifonia20100503\\1019.xml             Happy Xmas  \n",
       "../MusicXML_files/wikifonia20100503\\102.xml          Paint it black  "
      ]
     },
     "execution_count": 35,
     "metadata": {},
     "output_type": "execute_result"
    }
   ],
   "source": [
    "df = pd.DataFrame(data=metadata, index=fnames, columns=('composer', 'song_title'))\n",
    "df.head(10)"
   ]
  },
  {
   "cell_type": "code",
   "execution_count": 48,
   "metadata": {
    "collapsed": false
   },
   "outputs": [
    {
     "data": {
      "text/plain": [
       "(2265, 2)"
      ]
     },
     "execution_count": 48,
     "metadata": {},
     "output_type": "execute_result"
    }
   ],
   "source": [
    "df.shape"
   ]
  },
  {
   "cell_type": "markdown",
   "metadata": {},
   "source": [
    "We can now easily filter some of the data. For instance all titles from the Rolling Stones."
   ]
  },
  {
   "cell_type": "code",
   "execution_count": 46,
   "metadata": {
    "collapsed": false
   },
   "outputs": [
    {
     "data": {
      "text/html": [
       "<div>\n",
       "<table border=\"1\" class=\"dataframe\">\n",
       "  <thead>\n",
       "    <tr style=\"text-align: right;\">\n",
       "      <th></th>\n",
       "      <th>composer</th>\n",
       "      <th>song_title</th>\n",
       "    </tr>\n",
       "  </thead>\n",
       "  <tbody>\n",
       "    <tr>\n",
       "      <th>../MusicXML_files/wikifonia20100503\\102.xml</th>\n",
       "      <td>The Rolling Stones</td>\n",
       "      <td>Paint it black</td>\n",
       "    </tr>\n",
       "  </tbody>\n",
       "</table>\n",
       "</div>"
      ],
      "text/plain": [
       "                                                       composer  \\\n",
       "../MusicXML_files/wikifonia20100503\\102.xml  The Rolling Stones   \n",
       "\n",
       "                                                 song_title  \n",
       "../MusicXML_files/wikifonia20100503\\102.xml  Paint it black  "
      ]
     },
     "execution_count": 46,
     "metadata": {},
     "output_type": "execute_result"
    }
   ],
   "source": [
    "df[df.composer.str.contains('rolling', case=False)]"
   ]
  },
  {
   "cell_type": "code",
   "execution_count": 47,
   "metadata": {
    "collapsed": false
   },
   "outputs": [
    {
     "data": {
      "text/html": [
       "<div>\n",
       "<table border=\"1\" class=\"dataframe\">\n",
       "  <thead>\n",
       "    <tr style=\"text-align: right;\">\n",
       "      <th></th>\n",
       "      <th>composer</th>\n",
       "      <th>song_title</th>\n",
       "    </tr>\n",
       "  </thead>\n",
       "  <tbody>\n",
       "    <tr>\n",
       "      <th>../MusicXML_files/wikifonia20100503\\102.xml</th>\n",
       "      <td>The Rolling Stones</td>\n",
       "      <td>Paint it black</td>\n",
       "    </tr>\n",
       "    <tr>\n",
       "      <th>../MusicXML_files/wikifonia20100503\\3785.xml</th>\n",
       "      <td>Harry Stone, Jack Stapp</td>\n",
       "      <td>Chattanoogie Shoe Shine Boy</td>\n",
       "    </tr>\n",
       "    <tr>\n",
       "      <th>../MusicXML_files/wikifonia20100503\\3787.xml</th>\n",
       "      <td>Jay Livingstone, Ray Evans</td>\n",
       "      <td>To Each His Own</td>\n",
       "    </tr>\n",
       "    <tr>\n",
       "      <th>../MusicXML_files/wikifonia20100503\\3866.xml</th>\n",
       "      <td>Nelson, Touchstone</td>\n",
       "      <td>Just Because</td>\n",
       "    </tr>\n",
       "    <tr>\n",
       "      <th>../MusicXML_files/wikifonia20100503\\4865.xml</th>\n",
       "      <td>Mack David, Al Hoffman, Jerry Livingstone</td>\n",
       "      <td>Chi-baba chi-baba</td>\n",
       "    </tr>\n",
       "    <tr>\n",
       "      <th>../MusicXML_files/wikifonia20100503\\5416.xml</th>\n",
       "      <td>Merle Travis, Cliffie Stone, Eddie Kirk</td>\n",
       "      <td>So Firm, So Round, So Fully Packed</td>\n",
       "    </tr>\n",
       "  </tbody>\n",
       "</table>\n",
       "</div>"
      ],
      "text/plain": [
       "                                                                               composer  \\\n",
       "../MusicXML_files/wikifonia20100503\\102.xml                          The Rolling Stones   \n",
       "../MusicXML_files/wikifonia20100503\\3785.xml                    Harry Stone, Jack Stapp   \n",
       "../MusicXML_files/wikifonia20100503\\3787.xml                 Jay Livingstone, Ray Evans   \n",
       "../MusicXML_files/wikifonia20100503\\3866.xml                         Nelson, Touchstone   \n",
       "../MusicXML_files/wikifonia20100503\\4865.xml  Mack David, Al Hoffman, Jerry Livingstone   \n",
       "../MusicXML_files/wikifonia20100503\\5416.xml    Merle Travis, Cliffie Stone, Eddie Kirk   \n",
       "\n",
       "                                                                      song_title  \n",
       "../MusicXML_files/wikifonia20100503\\102.xml                       Paint it black  \n",
       "../MusicXML_files/wikifonia20100503\\3785.xml         Chattanoogie Shoe Shine Boy  \n",
       "../MusicXML_files/wikifonia20100503\\3787.xml                     To Each His Own  \n",
       "../MusicXML_files/wikifonia20100503\\3866.xml                        Just Because  \n",
       "../MusicXML_files/wikifonia20100503\\4865.xml                   Chi-baba chi-baba  \n",
       "../MusicXML_files/wikifonia20100503\\5416.xml  So Firm, So Round, So Fully Packed  "
      ]
     },
     "execution_count": 47,
     "metadata": {},
     "output_type": "execute_result"
    }
   ],
   "source": [
    "df[df.composer.str.contains('stone', case=False)]"
   ]
  },
  {
   "cell_type": "code",
   "execution_count": 49,
   "metadata": {
    "collapsed": false
   },
   "outputs": [
    {
     "data": {
      "text/html": [
       "<div>\n",
       "<table border=\"1\" class=\"dataframe\">\n",
       "  <thead>\n",
       "    <tr style=\"text-align: right;\">\n",
       "      <th></th>\n",
       "      <th>composer</th>\n",
       "      <th>song_title</th>\n",
       "    </tr>\n",
       "  </thead>\n",
       "  <tbody>\n",
       "    <tr>\n",
       "      <th>../MusicXML_files/wikifonia20100503\\1099.xml</th>\n",
       "      <td>Keith Richards, Mick Jagger</td>\n",
       "      <td>Angie</td>\n",
       "    </tr>\n",
       "    <tr>\n",
       "      <th>../MusicXML_files/wikifonia20100503\\3765.xml</th>\n",
       "      <td>Ben Peters, Vivian Keith</td>\n",
       "      <td>Before The Next Teardrop Falls</td>\n",
       "    </tr>\n",
       "    <tr>\n",
       "      <th>../MusicXML_files/wikifonia20100503\\5303.xml</th>\n",
       "      <td>Keith Richards, Mick Jagger</td>\n",
       "      <td>Honky-Tonk Woman</td>\n",
       "    </tr>\n",
       "  </tbody>\n",
       "</table>\n",
       "</div>"
      ],
      "text/plain": [
       "                                                                 composer  \\\n",
       "../MusicXML_files/wikifonia20100503\\1099.xml  Keith Richards, Mick Jagger   \n",
       "../MusicXML_files/wikifonia20100503\\3765.xml     Ben Peters, Vivian Keith   \n",
       "../MusicXML_files/wikifonia20100503\\5303.xml  Keith Richards, Mick Jagger   \n",
       "\n",
       "                                                                  song_title  \n",
       "../MusicXML_files/wikifonia20100503\\1099.xml                           Angie  \n",
       "../MusicXML_files/wikifonia20100503\\3765.xml  Before The Next Teardrop Falls  \n",
       "../MusicXML_files/wikifonia20100503\\5303.xml                Honky-Tonk Woman  "
      ]
     },
     "execution_count": 49,
     "metadata": {},
     "output_type": "execute_result"
    }
   ],
   "source": [
    "df[df.composer.str.contains('keith', case=False)]"
   ]
  },
  {
   "cell_type": "code",
   "execution_count": 50,
   "metadata": {
    "collapsed": false
   },
   "outputs": [
    {
     "data": {
      "text/html": [
       "<div>\n",
       "<table border=\"1\" class=\"dataframe\">\n",
       "  <thead>\n",
       "    <tr style=\"text-align: right;\">\n",
       "      <th></th>\n",
       "      <th>composer</th>\n",
       "      <th>song_title</th>\n",
       "    </tr>\n",
       "  </thead>\n",
       "  <tbody>\n",
       "    <tr>\n",
       "      <th>../MusicXML_files/wikifonia20100503\\1019.xml</th>\n",
       "      <td>John Lennon, Yoko Ono</td>\n",
       "      <td>Happy Xmas</td>\n",
       "    </tr>\n",
       "    <tr>\n",
       "      <th>../MusicXML_files/wikifonia20100503\\120.xml</th>\n",
       "      <td>John Lennon, Paul McCartney</td>\n",
       "      <td>Lady Madonna</td>\n",
       "    </tr>\n",
       "    <tr>\n",
       "      <th>../MusicXML_files/wikifonia20100503\\151.xml</th>\n",
       "      <td>John Lennon, Paul McCartney</td>\n",
       "      <td>Eleanor Rigby</td>\n",
       "    </tr>\n",
       "    <tr>\n",
       "      <th>../MusicXML_files/wikifonia20100503\\1904.xml</th>\n",
       "      <td>John Lennon, Paul McCartney</td>\n",
       "      <td>A Hard Day's Night</td>\n",
       "    </tr>\n",
       "    <tr>\n",
       "      <th>../MusicXML_files/wikifonia20100503\\2430.xml</th>\n",
       "      <td>Paul McCartney, John Lennon</td>\n",
       "      <td>Michelle</td>\n",
       "    </tr>\n",
       "    <tr>\n",
       "      <th>../MusicXML_files/wikifonia20100503\\2519.xml</th>\n",
       "      <td>John Lennon, Paul McCartney</td>\n",
       "      <td>Yesterday</td>\n",
       "    </tr>\n",
       "    <tr>\n",
       "      <th>../MusicXML_files/wikifonia20100503\\3012.xml</th>\n",
       "      <td>John Lennon, Paul McCartney</td>\n",
       "      <td>All My Loving</td>\n",
       "    </tr>\n",
       "    <tr>\n",
       "      <th>../MusicXML_files/wikifonia20100503\\3153.xml</th>\n",
       "      <td>John Lennon and Paul McCartney</td>\n",
       "      <td>I saw her standing there</td>\n",
       "    </tr>\n",
       "    <tr>\n",
       "      <th>../MusicXML_files/wikifonia20100503\\3154.xml</th>\n",
       "      <td>John Lennon, Paul McCartney</td>\n",
       "      <td>I saw her standing there</td>\n",
       "    </tr>\n",
       "    <tr>\n",
       "      <th>../MusicXML_files/wikifonia20100503\\3155.xml</th>\n",
       "      <td>John Lennon, Paul McCartney</td>\n",
       "      <td>Ticket to ride</td>\n",
       "    </tr>\n",
       "    <tr>\n",
       "      <th>../MusicXML_files/wikifonia20100503\\3413.xml</th>\n",
       "      <td>John Lennon, Paul McCartney</td>\n",
       "      <td>Do You Want To Know A Secret</td>\n",
       "    </tr>\n",
       "    <tr>\n",
       "      <th>../MusicXML_files/wikifonia20100503\\3485.xml</th>\n",
       "      <td>John Lennon, Paul McCartney</td>\n",
       "      <td>Ob-La-Di Ob-La-Da</td>\n",
       "    </tr>\n",
       "    <tr>\n",
       "      <th>../MusicXML_files/wikifonia20100503\\368.xml</th>\n",
       "      <td>John Lennon, Paul McCartney</td>\n",
       "      <td>A Hard Day's Night</td>\n",
       "    </tr>\n",
       "    <tr>\n",
       "      <th>../MusicXML_files/wikifonia20100503\\3689.xml</th>\n",
       "      <td>John Lennon, Paul McCartney</td>\n",
       "      <td>Love Me Do</td>\n",
       "    </tr>\n",
       "    <tr>\n",
       "      <th>../MusicXML_files/wikifonia20100503\\3834.xml</th>\n",
       "      <td>John Lennon, Paul McCartney</td>\n",
       "      <td>I Want To Hold Your Hand</td>\n",
       "    </tr>\n",
       "    <tr>\n",
       "      <th>../MusicXML_files/wikifonia20100503\\3864.xml</th>\n",
       "      <td>John Lennon, Paul McCartney</td>\n",
       "      <td>And I Love Her</td>\n",
       "    </tr>\n",
       "    <tr>\n",
       "      <th>../MusicXML_files/wikifonia20100503\\3874.xml</th>\n",
       "      <td>John Lennon, Paul McCartney</td>\n",
       "      <td>The Fool On The Hill</td>\n",
       "    </tr>\n",
       "    <tr>\n",
       "      <th>../MusicXML_files/wikifonia20100503\\3911.xml</th>\n",
       "      <td>John Lennon, Paul McCartney</td>\n",
       "      <td>Penny Lane</td>\n",
       "    </tr>\n",
       "    <tr>\n",
       "      <th>../MusicXML_files/wikifonia20100503\\3975.xml</th>\n",
       "      <td>John Lennon, Paul McCartney</td>\n",
       "      <td>You Won't See Me</td>\n",
       "    </tr>\n",
       "    <tr>\n",
       "      <th>../MusicXML_files/wikifonia20100503\\3980.xml</th>\n",
       "      <td>John Lennon, Paul McCartney</td>\n",
       "      <td>Please Please Me</td>\n",
       "    </tr>\n",
       "    <tr>\n",
       "      <th>../MusicXML_files/wikifonia20100503\\4074.xml</th>\n",
       "      <td>John Lennon, Paul McCartney</td>\n",
       "      <td>Yellow Submarine</td>\n",
       "    </tr>\n",
       "    <tr>\n",
       "      <th>../MusicXML_files/wikifonia20100503\\4288.xml</th>\n",
       "      <td>John Lennon, Paul McCartney</td>\n",
       "      <td>Norwegian Wood</td>\n",
       "    </tr>\n",
       "    <tr>\n",
       "      <th>../MusicXML_files/wikifonia20100503\\4400.xml</th>\n",
       "      <td>John Lennon, Paul McCartney</td>\n",
       "      <td>All You Need Is Love</td>\n",
       "    </tr>\n",
       "    <tr>\n",
       "      <th>../MusicXML_files/wikifonia20100503\\4740.xml</th>\n",
       "      <td>John Lennon, Paul McCartney</td>\n",
       "      <td>Eight Days A Week</td>\n",
       "    </tr>\n",
       "    <tr>\n",
       "      <th>../MusicXML_files/wikifonia20100503\\4741.xml</th>\n",
       "      <td>John Lennon, Paul McCartney</td>\n",
       "      <td>From Me To You</td>\n",
       "    </tr>\n",
       "    <tr>\n",
       "      <th>../MusicXML_files/wikifonia20100503\\4742.xml</th>\n",
       "      <td>John Lennon, Paul McCartney</td>\n",
       "      <td>The Long And Winding Road</td>\n",
       "    </tr>\n",
       "    <tr>\n",
       "      <th>../MusicXML_files/wikifonia20100503\\4750.xml</th>\n",
       "      <td>John Lennon, Paul McCartney</td>\n",
       "      <td>Hey Jude</td>\n",
       "    </tr>\n",
       "    <tr>\n",
       "      <th>../MusicXML_files/wikifonia20100503\\5017.xml</th>\n",
       "      <td>John Lennon, Yoko Ono</td>\n",
       "      <td>Happy Xmas</td>\n",
       "    </tr>\n",
       "    <tr>\n",
       "      <th>../MusicXML_files/wikifonia20100503\\530.xml</th>\n",
       "      <td>John Lennon</td>\n",
       "      <td>Imagine</td>\n",
       "    </tr>\n",
       "  </tbody>\n",
       "</table>\n",
       "</div>"
      ],
      "text/plain": [
       "                                                                    composer  \\\n",
       "../MusicXML_files/wikifonia20100503\\1019.xml           John Lennon, Yoko Ono   \n",
       "../MusicXML_files/wikifonia20100503\\120.xml      John Lennon, Paul McCartney   \n",
       "../MusicXML_files/wikifonia20100503\\151.xml      John Lennon, Paul McCartney   \n",
       "../MusicXML_files/wikifonia20100503\\1904.xml     John Lennon, Paul McCartney   \n",
       "../MusicXML_files/wikifonia20100503\\2430.xml     Paul McCartney, John Lennon   \n",
       "../MusicXML_files/wikifonia20100503\\2519.xml     John Lennon, Paul McCartney   \n",
       "../MusicXML_files/wikifonia20100503\\3012.xml     John Lennon, Paul McCartney   \n",
       "../MusicXML_files/wikifonia20100503\\3153.xml  John Lennon and Paul McCartney   \n",
       "../MusicXML_files/wikifonia20100503\\3154.xml     John Lennon, Paul McCartney   \n",
       "../MusicXML_files/wikifonia20100503\\3155.xml     John Lennon, Paul McCartney   \n",
       "../MusicXML_files/wikifonia20100503\\3413.xml     John Lennon, Paul McCartney   \n",
       "../MusicXML_files/wikifonia20100503\\3485.xml     John Lennon, Paul McCartney   \n",
       "../MusicXML_files/wikifonia20100503\\368.xml      John Lennon, Paul McCartney   \n",
       "../MusicXML_files/wikifonia20100503\\3689.xml     John Lennon, Paul McCartney   \n",
       "../MusicXML_files/wikifonia20100503\\3834.xml     John Lennon, Paul McCartney   \n",
       "../MusicXML_files/wikifonia20100503\\3864.xml     John Lennon, Paul McCartney   \n",
       "../MusicXML_files/wikifonia20100503\\3874.xml     John Lennon, Paul McCartney   \n",
       "../MusicXML_files/wikifonia20100503\\3911.xml     John Lennon, Paul McCartney   \n",
       "../MusicXML_files/wikifonia20100503\\3975.xml     John Lennon, Paul McCartney   \n",
       "../MusicXML_files/wikifonia20100503\\3980.xml     John Lennon, Paul McCartney   \n",
       "../MusicXML_files/wikifonia20100503\\4074.xml     John Lennon, Paul McCartney   \n",
       "../MusicXML_files/wikifonia20100503\\4288.xml     John Lennon, Paul McCartney   \n",
       "../MusicXML_files/wikifonia20100503\\4400.xml     John Lennon, Paul McCartney   \n",
       "../MusicXML_files/wikifonia20100503\\4740.xml     John Lennon, Paul McCartney   \n",
       "../MusicXML_files/wikifonia20100503\\4741.xml     John Lennon, Paul McCartney   \n",
       "../MusicXML_files/wikifonia20100503\\4742.xml     John Lennon, Paul McCartney   \n",
       "../MusicXML_files/wikifonia20100503\\4750.xml     John Lennon, Paul McCartney   \n",
       "../MusicXML_files/wikifonia20100503\\5017.xml           John Lennon, Yoko Ono   \n",
       "../MusicXML_files/wikifonia20100503\\530.xml                      John Lennon   \n",
       "\n",
       "                                                                song_title  \n",
       "../MusicXML_files/wikifonia20100503\\1019.xml                    Happy Xmas  \n",
       "../MusicXML_files/wikifonia20100503\\120.xml                   Lady Madonna  \n",
       "../MusicXML_files/wikifonia20100503\\151.xml                  Eleanor Rigby  \n",
       "../MusicXML_files/wikifonia20100503\\1904.xml            A Hard Day's Night  \n",
       "../MusicXML_files/wikifonia20100503\\2430.xml                      Michelle  \n",
       "../MusicXML_files/wikifonia20100503\\2519.xml                     Yesterday  \n",
       "../MusicXML_files/wikifonia20100503\\3012.xml                 All My Loving  \n",
       "../MusicXML_files/wikifonia20100503\\3153.xml      I saw her standing there  \n",
       "../MusicXML_files/wikifonia20100503\\3154.xml      I saw her standing there  \n",
       "../MusicXML_files/wikifonia20100503\\3155.xml                Ticket to ride  \n",
       "../MusicXML_files/wikifonia20100503\\3413.xml  Do You Want To Know A Secret  \n",
       "../MusicXML_files/wikifonia20100503\\3485.xml             Ob-La-Di Ob-La-Da  \n",
       "../MusicXML_files/wikifonia20100503\\368.xml             A Hard Day's Night  \n",
       "../MusicXML_files/wikifonia20100503\\3689.xml                    Love Me Do  \n",
       "../MusicXML_files/wikifonia20100503\\3834.xml      I Want To Hold Your Hand  \n",
       "../MusicXML_files/wikifonia20100503\\3864.xml                And I Love Her  \n",
       "../MusicXML_files/wikifonia20100503\\3874.xml          The Fool On The Hill  \n",
       "../MusicXML_files/wikifonia20100503\\3911.xml                    Penny Lane  \n",
       "../MusicXML_files/wikifonia20100503\\3975.xml              You Won't See Me  \n",
       "../MusicXML_files/wikifonia20100503\\3980.xml              Please Please Me  \n",
       "../MusicXML_files/wikifonia20100503\\4074.xml              Yellow Submarine  \n",
       "../MusicXML_files/wikifonia20100503\\4288.xml                Norwegian Wood  \n",
       "../MusicXML_files/wikifonia20100503\\4400.xml          All You Need Is Love  \n",
       "../MusicXML_files/wikifonia20100503\\4740.xml             Eight Days A Week  \n",
       "../MusicXML_files/wikifonia20100503\\4741.xml                From Me To You  \n",
       "../MusicXML_files/wikifonia20100503\\4742.xml     The Long And Winding Road  \n",
       "../MusicXML_files/wikifonia20100503\\4750.xml                      Hey Jude  \n",
       "../MusicXML_files/wikifonia20100503\\5017.xml                    Happy Xmas  \n",
       "../MusicXML_files/wikifonia20100503\\530.xml                        Imagine  "
      ]
     },
     "execution_count": 50,
     "metadata": {},
     "output_type": "execute_result"
    }
   ],
   "source": [
    "df[df.composer.str.contains('lennon', case=False)]"
   ]
  },
  {
   "cell_type": "code",
   "execution_count": null,
   "metadata": {
    "collapsed": true
   },
   "outputs": [],
   "source": []
  }
 ],
 "metadata": {
  "kernelspec": {
   "display_name": "Python 3",
   "language": "python",
   "name": "python3"
  },
  "language_info": {
   "codemirror_mode": {
    "name": "ipython",
    "version": 3
   },
   "file_extension": ".py",
   "mimetype": "text/x-python",
   "name": "python",
   "nbconvert_exporter": "python",
   "pygments_lexer": "ipython3",
   "version": "3.5.2"
  }
 },
 "nbformat": 4,
 "nbformat_minor": 0
}
