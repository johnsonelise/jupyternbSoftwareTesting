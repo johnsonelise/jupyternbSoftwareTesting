{
 "cells": [
  {
   "cell_type": "markdown",
   "metadata": {},
   "source": [
    "1632036002 JongSeop Park, Koreatech\n",
    "\n",
    "kugipark@gmail.com\n",
    "\n",
    "* * *"
   ]
  },
  {
   "cell_type": "markdown",
   "metadata": {},
   "source": [
    "# [10 Minutes to pandas](http://pandas.pydata.org/pandas-docs/stable/10min.html)\n",
    "\n",
    "This is a short introduction to pandas, geared mainly for new users. You can see more complex recipes in the *[Cookbook](http://pandas.pydata.org/pandas-docs/stable/cookbook.html#cookbook)*\n",
    "\n",
    "Customarily, we import as follows:"
   ]
  },
  {
   "cell_type": "code",
   "execution_count": 1,
   "metadata": {
    "collapsed": true
   },
   "outputs": [],
   "source": [
    "import pandas as pd\n",
    "import numpy as np\n",
    "import matplotlib.pyplot as plt"
   ]
  },
  {
   "cell_type": "markdown",
   "metadata": {},
   "source": [
    "## Object Creation\n",
    "\n",
    "See the *[Data Structure Intro section](http://pandas.pydata.org/pandas-docs/stable/dsintro.html#dsintro)*\n",
    "\n",
    "Creating a **Series** by passing a list of values, letting pandas create a default integer index:"
   ]
  },
  {
   "cell_type": "code",
   "execution_count": 2,
   "metadata": {
    "collapsed": false
   },
   "outputs": [
    {
     "data": {
      "text/plain": [
       "0    1.0\n",
       "1    3.0\n",
       "2    5.0\n",
       "3    NaN\n",
       "4    6.0\n",
       "5    8.0\n",
       "dtype: float64"
      ]
     },
     "execution_count": 2,
     "metadata": {},
     "output_type": "execute_result"
    }
   ],
   "source": [
    "s = pd.Series([1, 3, 5, np.nan, 6, 8])\n",
    "s"
   ]
  },
  {
   "cell_type": "markdown",
   "metadata": {},
   "source": [
    "Creating a **[DataFrame](http://pandas.pydata.org/pandas-docs/stable/generated/pandas.DataFrame.html#pandas.DataFrame)** by passing a numpy array, with a datetime index and labeled columns:"
   ]
  },
  {
   "cell_type": "code",
   "execution_count": 3,
   "metadata": {
    "collapsed": false
   },
   "outputs": [
    {
     "data": {
      "text/plain": [
       "DatetimeIndex(['2016-09-11', '2016-09-12', '2016-09-13', '2016-09-14',\n",
       "               '2016-09-15', '2016-09-16'],\n",
       "              dtype='datetime64[ns]', freq='D')"
      ]
     },
     "execution_count": 3,
     "metadata": {},
     "output_type": "execute_result"
    }
   ],
   "source": [
    "dates = pd.date_range('20160911', periods=6)\n",
    "dates"
   ]
  },
  {
   "cell_type": "code",
   "execution_count": 4,
   "metadata": {
    "collapsed": false
   },
   "outputs": [
    {
     "data": {
      "text/html": [
       "<div>\n",
       "<table border=\"1\" class=\"dataframe\">\n",
       "  <thead>\n",
       "    <tr style=\"text-align: right;\">\n",
       "      <th></th>\n",
       "      <th>A</th>\n",
       "      <th>B</th>\n",
       "      <th>C</th>\n",
       "      <th>D</th>\n",
       "    </tr>\n",
       "  </thead>\n",
       "  <tbody>\n",
       "    <tr>\n",
       "      <th>2016-09-11</th>\n",
       "      <td>-1.637934</td>\n",
       "      <td>-0.958112</td>\n",
       "      <td>0.863694</td>\n",
       "      <td>0.853583</td>\n",
       "    </tr>\n",
       "    <tr>\n",
       "      <th>2016-09-12</th>\n",
       "      <td>0.612740</td>\n",
       "      <td>-1.138497</td>\n",
       "      <td>0.238470</td>\n",
       "      <td>0.562982</td>\n",
       "    </tr>\n",
       "    <tr>\n",
       "      <th>2016-09-13</th>\n",
       "      <td>-0.364335</td>\n",
       "      <td>0.613203</td>\n",
       "      <td>0.138034</td>\n",
       "      <td>-0.241127</td>\n",
       "    </tr>\n",
       "    <tr>\n",
       "      <th>2016-09-14</th>\n",
       "      <td>0.883675</td>\n",
       "      <td>1.808246</td>\n",
       "      <td>-0.635125</td>\n",
       "      <td>-1.790823</td>\n",
       "    </tr>\n",
       "    <tr>\n",
       "      <th>2016-09-15</th>\n",
       "      <td>-0.286747</td>\n",
       "      <td>-0.330165</td>\n",
       "      <td>-0.202244</td>\n",
       "      <td>0.108324</td>\n",
       "    </tr>\n",
       "    <tr>\n",
       "      <th>2016-09-16</th>\n",
       "      <td>0.657548</td>\n",
       "      <td>0.454806</td>\n",
       "      <td>-1.586551</td>\n",
       "      <td>-0.840291</td>\n",
       "    </tr>\n",
       "  </tbody>\n",
       "</table>\n",
       "</div>"
      ],
      "text/plain": [
       "                   A         B         C         D\n",
       "2016-09-11 -1.637934 -0.958112  0.863694  0.853583\n",
       "2016-09-12  0.612740 -1.138497  0.238470  0.562982\n",
       "2016-09-13 -0.364335  0.613203  0.138034 -0.241127\n",
       "2016-09-14  0.883675  1.808246 -0.635125 -1.790823\n",
       "2016-09-15 -0.286747 -0.330165 -0.202244  0.108324\n",
       "2016-09-16  0.657548  0.454806 -1.586551 -0.840291"
      ]
     },
     "execution_count": 4,
     "metadata": {},
     "output_type": "execute_result"
    }
   ],
   "source": [
    "df = pd.DataFrame(np.random.randn(6,4), index=dates, columns=list('ABCD'))\n",
    "df"
   ]
  },
  {
   "cell_type": "markdown",
   "metadata": {},
   "source": [
    "Creating a DataFrame by passing a dict of objects that can be converted to series-like."
   ]
  },
  {
   "cell_type": "code",
   "execution_count": 5,
   "metadata": {
    "collapsed": false
   },
   "outputs": [
    {
     "data": {
      "text/html": [
       "<div>\n",
       "<table border=\"1\" class=\"dataframe\">\n",
       "  <thead>\n",
       "    <tr style=\"text-align: right;\">\n",
       "      <th></th>\n",
       "      <th>A</th>\n",
       "      <th>B</th>\n",
       "      <th>C</th>\n",
       "      <th>D</th>\n",
       "      <th>E</th>\n",
       "      <th>F</th>\n",
       "    </tr>\n",
       "  </thead>\n",
       "  <tbody>\n",
       "    <tr>\n",
       "      <th>0</th>\n",
       "      <td>1.0</td>\n",
       "      <td>2016-09-12</td>\n",
       "      <td>1.0</td>\n",
       "      <td>3</td>\n",
       "      <td>test</td>\n",
       "      <td>foo</td>\n",
       "    </tr>\n",
       "    <tr>\n",
       "      <th>1</th>\n",
       "      <td>1.0</td>\n",
       "      <td>2016-09-12</td>\n",
       "      <td>1.0</td>\n",
       "      <td>3</td>\n",
       "      <td>train</td>\n",
       "      <td>foo</td>\n",
       "    </tr>\n",
       "    <tr>\n",
       "      <th>2</th>\n",
       "      <td>1.0</td>\n",
       "      <td>2016-09-12</td>\n",
       "      <td>1.0</td>\n",
       "      <td>3</td>\n",
       "      <td>test</td>\n",
       "      <td>foo</td>\n",
       "    </tr>\n",
       "    <tr>\n",
       "      <th>3</th>\n",
       "      <td>1.0</td>\n",
       "      <td>2016-09-12</td>\n",
       "      <td>1.0</td>\n",
       "      <td>3</td>\n",
       "      <td>train</td>\n",
       "      <td>foo</td>\n",
       "    </tr>\n",
       "  </tbody>\n",
       "</table>\n",
       "</div>"
      ],
      "text/plain": [
       "     A          B    C  D      E    F\n",
       "0  1.0 2016-09-12  1.0  3   test  foo\n",
       "1  1.0 2016-09-12  1.0  3  train  foo\n",
       "2  1.0 2016-09-12  1.0  3   test  foo\n",
       "3  1.0 2016-09-12  1.0  3  train  foo"
      ]
     },
     "execution_count": 5,
     "metadata": {},
     "output_type": "execute_result"
    }
   ],
   "source": [
    "df2 = pd.DataFrame({ 'A' : 1.,\n",
    "                     'B' : pd.Timestamp('20160912'),\n",
    "                     'C' : pd.Series(1, index=list(range(4)), dtype='float32'),\n",
    "                     'D' : np.array([3] * 4, dtype='int32'),\n",
    "                     'E' : pd.Categorical([\"test\", \"train\", \"test\", \"train\"]),\n",
    "                     'F' : 'foo'\n",
    "                   })\n",
    "df2"
   ]
  },
  {
   "cell_type": "markdown",
   "metadata": {},
   "source": [
    "Having specific *[dtypes](http://pandas.pydata.org/pandas-docs/stable/basics.html#basics-dtypes)*"
   ]
  },
  {
   "cell_type": "code",
   "execution_count": 6,
   "metadata": {
    "collapsed": false
   },
   "outputs": [
    {
     "data": {
      "text/plain": [
       "A           float64\n",
       "B    datetime64[ns]\n",
       "C           float32\n",
       "D             int32\n",
       "E          category\n",
       "F            object\n",
       "dtype: object"
      ]
     },
     "execution_count": 6,
     "metadata": {},
     "output_type": "execute_result"
    }
   ],
   "source": [
    "df2.dtypes"
   ]
  },
  {
   "cell_type": "markdown",
   "metadata": {},
   "source": [
    "If you’re using IPython, tab completion for column names (as well as public attributes) is automatically enabled. Here’s a subset of the attributes that will be completed:"
   ]
  },
  {
   "cell_type": "markdown",
   "metadata": {},
   "source": [
    "**In []:** df2.(TAB)  \n",
    "df2.A  \n",
    "df2.boxplot  \n",
    "df2.abs  \n",
    "df2.C  \n",
    "df2.add  \n",
    "df2.clip  \n",
    "df2.add_prefix  \n",
    "df2.clip_lower  \n",
    "df2.add_suffix  \n",
    "df2.clip_upper  \n",
    "df2.align  \n",
    "df2.columns  \n",
    "df2.all  \n",
    "df2.combine  \n",
    "df2.any  \n",
    "df2.combineAdd  \n",
    "df2.append  \n",
    "df2.combine_first  \n",
    "df2.apply  \n",
    "df2.combineMult  \n",
    "df2.applymap  \n",
    "df2.compound  \n",
    "df2.as_blocks  \n",
    "df2.consolidate  \n",
    "df2.asfreq  \n",
    "df2.convert_objects  \n",
    "df2.as_matrix  \n",
    "df2.copy  \n",
    "df2.astype  \n",
    "df2.corr  \n",
    "df2.at  \n",
    "df2.corrwith  \n",
    "df2.at_time  \n",
    "df2.count  \n",
    "df2.axes  \n",
    "df2.cov  \n",
    "df2.B  \n",
    "df2.cummax  \n",
    "df2.between_time  \n",
    "df2.cummin  \n",
    "df2.bfill  \n",
    "df2.cumprod  \n",
    "df2.blocks  \n",
    "df2.cumsum  \n",
    "df2.bool  \n",
    "df2.D  "
   ]
  },
  {
   "cell_type": "markdown",
   "metadata": {},
   "source": [
    "As you can see, the columns A, B, C, and D are automatically tab completed. E is there as well; the rest of the attributes have been truncated for brevity."
   ]
  },
  {
   "cell_type": "markdown",
   "metadata": {},
   "source": [
    "## Viewing Data"
   ]
  },
  {
   "cell_type": "markdown",
   "metadata": {},
   "source": [
    "See the *[Basics section](http://pandas.pydata.org/pandas-docs/stable/basics.html#basics)*\n",
    "\n",
    "See the top & bottom rows of the frame"
   ]
  },
  {
   "cell_type": "code",
   "execution_count": 7,
   "metadata": {
    "collapsed": false
   },
   "outputs": [
    {
     "data": {
      "text/html": [
       "<div>\n",
       "<table border=\"1\" class=\"dataframe\">\n",
       "  <thead>\n",
       "    <tr style=\"text-align: right;\">\n",
       "      <th></th>\n",
       "      <th>A</th>\n",
       "      <th>B</th>\n",
       "      <th>C</th>\n",
       "      <th>D</th>\n",
       "    </tr>\n",
       "  </thead>\n",
       "  <tbody>\n",
       "    <tr>\n",
       "      <th>2016-09-11</th>\n",
       "      <td>-1.637934</td>\n",
       "      <td>-0.958112</td>\n",
       "      <td>0.863694</td>\n",
       "      <td>0.853583</td>\n",
       "    </tr>\n",
       "    <tr>\n",
       "      <th>2016-09-12</th>\n",
       "      <td>0.612740</td>\n",
       "      <td>-1.138497</td>\n",
       "      <td>0.238470</td>\n",
       "      <td>0.562982</td>\n",
       "    </tr>\n",
       "    <tr>\n",
       "      <th>2016-09-13</th>\n",
       "      <td>-0.364335</td>\n",
       "      <td>0.613203</td>\n",
       "      <td>0.138034</td>\n",
       "      <td>-0.241127</td>\n",
       "    </tr>\n",
       "    <tr>\n",
       "      <th>2016-09-14</th>\n",
       "      <td>0.883675</td>\n",
       "      <td>1.808246</td>\n",
       "      <td>-0.635125</td>\n",
       "      <td>-1.790823</td>\n",
       "    </tr>\n",
       "    <tr>\n",
       "      <th>2016-09-15</th>\n",
       "      <td>-0.286747</td>\n",
       "      <td>-0.330165</td>\n",
       "      <td>-0.202244</td>\n",
       "      <td>0.108324</td>\n",
       "    </tr>\n",
       "  </tbody>\n",
       "</table>\n",
       "</div>"
      ],
      "text/plain": [
       "                   A         B         C         D\n",
       "2016-09-11 -1.637934 -0.958112  0.863694  0.853583\n",
       "2016-09-12  0.612740 -1.138497  0.238470  0.562982\n",
       "2016-09-13 -0.364335  0.613203  0.138034 -0.241127\n",
       "2016-09-14  0.883675  1.808246 -0.635125 -1.790823\n",
       "2016-09-15 -0.286747 -0.330165 -0.202244  0.108324"
      ]
     },
     "execution_count": 7,
     "metadata": {},
     "output_type": "execute_result"
    }
   ],
   "source": [
    "df.head()"
   ]
  },
  {
   "cell_type": "code",
   "execution_count": 8,
   "metadata": {
    "collapsed": false
   },
   "outputs": [
    {
     "data": {
      "text/html": [
       "<div>\n",
       "<table border=\"1\" class=\"dataframe\">\n",
       "  <thead>\n",
       "    <tr style=\"text-align: right;\">\n",
       "      <th></th>\n",
       "      <th>A</th>\n",
       "      <th>B</th>\n",
       "      <th>C</th>\n",
       "      <th>D</th>\n",
       "    </tr>\n",
       "  </thead>\n",
       "  <tbody>\n",
       "    <tr>\n",
       "      <th>2016-09-14</th>\n",
       "      <td>0.883675</td>\n",
       "      <td>1.808246</td>\n",
       "      <td>-0.635125</td>\n",
       "      <td>-1.790823</td>\n",
       "    </tr>\n",
       "    <tr>\n",
       "      <th>2016-09-15</th>\n",
       "      <td>-0.286747</td>\n",
       "      <td>-0.330165</td>\n",
       "      <td>-0.202244</td>\n",
       "      <td>0.108324</td>\n",
       "    </tr>\n",
       "    <tr>\n",
       "      <th>2016-09-16</th>\n",
       "      <td>0.657548</td>\n",
       "      <td>0.454806</td>\n",
       "      <td>-1.586551</td>\n",
       "      <td>-0.840291</td>\n",
       "    </tr>\n",
       "  </tbody>\n",
       "</table>\n",
       "</div>"
      ],
      "text/plain": [
       "                   A         B         C         D\n",
       "2016-09-14  0.883675  1.808246 -0.635125 -1.790823\n",
       "2016-09-15 -0.286747 -0.330165 -0.202244  0.108324\n",
       "2016-09-16  0.657548  0.454806 -1.586551 -0.840291"
      ]
     },
     "execution_count": 8,
     "metadata": {},
     "output_type": "execute_result"
    }
   ],
   "source": [
    "df.tail(3)"
   ]
  },
  {
   "cell_type": "markdown",
   "metadata": {},
   "source": [
    "Display the index, columns, and the underlying numpy data"
   ]
  },
  {
   "cell_type": "code",
   "execution_count": 9,
   "metadata": {
    "collapsed": false
   },
   "outputs": [
    {
     "data": {
      "text/plain": [
       "DatetimeIndex(['2016-09-11', '2016-09-12', '2016-09-13', '2016-09-14',\n",
       "               '2016-09-15', '2016-09-16'],\n",
       "              dtype='datetime64[ns]', freq='D')"
      ]
     },
     "execution_count": 9,
     "metadata": {},
     "output_type": "execute_result"
    }
   ],
   "source": [
    "df.index"
   ]
  },
  {
   "cell_type": "code",
   "execution_count": 10,
   "metadata": {
    "collapsed": false
   },
   "outputs": [
    {
     "data": {
      "text/plain": [
       "Index([u'A', u'B', u'C', u'D'], dtype='object')"
      ]
     },
     "execution_count": 10,
     "metadata": {},
     "output_type": "execute_result"
    }
   ],
   "source": [
    "df.columns"
   ]
  },
  {
   "cell_type": "code",
   "execution_count": 11,
   "metadata": {
    "collapsed": false
   },
   "outputs": [
    {
     "data": {
      "text/plain": [
       "array([[-1.63793405, -0.95811227,  0.86369384,  0.85358317],\n",
       "       [ 0.61274048, -1.13849749,  0.23846998,  0.562982  ],\n",
       "       [-0.36433534,  0.61320339,  0.13803384, -0.24112687],\n",
       "       [ 0.88367489,  1.80824648, -0.6351249 , -1.79082281],\n",
       "       [-0.28674719, -0.33016488, -0.20224406,  0.10832378],\n",
       "       [ 0.65754781,  0.45480593, -1.58655106, -0.84029103]])"
      ]
     },
     "execution_count": 11,
     "metadata": {},
     "output_type": "execute_result"
    }
   ],
   "source": [
    "df.values"
   ]
  },
  {
   "cell_type": "markdown",
   "metadata": {},
   "source": [
    "Describe shows a quick statistic summary of your data"
   ]
  },
  {
   "cell_type": "code",
   "execution_count": 12,
   "metadata": {
    "collapsed": false
   },
   "outputs": [
    {
     "data": {
      "text/html": [
       "<div>\n",
       "<table border=\"1\" class=\"dataframe\">\n",
       "  <thead>\n",
       "    <tr style=\"text-align: right;\">\n",
       "      <th></th>\n",
       "      <th>A</th>\n",
       "      <th>B</th>\n",
       "      <th>C</th>\n",
       "      <th>D</th>\n",
       "    </tr>\n",
       "  </thead>\n",
       "  <tbody>\n",
       "    <tr>\n",
       "      <th>count</th>\n",
       "      <td>6.000000</td>\n",
       "      <td>6.000000</td>\n",
       "      <td>6.000000</td>\n",
       "      <td>6.000000</td>\n",
       "    </tr>\n",
       "    <tr>\n",
       "      <th>mean</th>\n",
       "      <td>-0.022509</td>\n",
       "      <td>0.074914</td>\n",
       "      <td>-0.197287</td>\n",
       "      <td>-0.224559</td>\n",
       "    </tr>\n",
       "    <tr>\n",
       "      <th>std</th>\n",
       "      <td>0.946938</td>\n",
       "      <td>1.108342</td>\n",
       "      <td>0.842590</td>\n",
       "      <td>0.972214</td>\n",
       "    </tr>\n",
       "    <tr>\n",
       "      <th>min</th>\n",
       "      <td>-1.637934</td>\n",
       "      <td>-1.138497</td>\n",
       "      <td>-1.586551</td>\n",
       "      <td>-1.790823</td>\n",
       "    </tr>\n",
       "    <tr>\n",
       "      <th>25%</th>\n",
       "      <td>-0.344938</td>\n",
       "      <td>-0.801125</td>\n",
       "      <td>-0.526905</td>\n",
       "      <td>-0.690500</td>\n",
       "    </tr>\n",
       "    <tr>\n",
       "      <th>50%</th>\n",
       "      <td>0.162997</td>\n",
       "      <td>0.062321</td>\n",
       "      <td>-0.032105</td>\n",
       "      <td>-0.066402</td>\n",
       "    </tr>\n",
       "    <tr>\n",
       "      <th>75%</th>\n",
       "      <td>0.646346</td>\n",
       "      <td>0.573604</td>\n",
       "      <td>0.213361</td>\n",
       "      <td>0.449317</td>\n",
       "    </tr>\n",
       "    <tr>\n",
       "      <th>max</th>\n",
       "      <td>0.883675</td>\n",
       "      <td>1.808246</td>\n",
       "      <td>0.863694</td>\n",
       "      <td>0.853583</td>\n",
       "    </tr>\n",
       "  </tbody>\n",
       "</table>\n",
       "</div>"
      ],
      "text/plain": [
       "              A         B         C         D\n",
       "count  6.000000  6.000000  6.000000  6.000000\n",
       "mean  -0.022509  0.074914 -0.197287 -0.224559\n",
       "std    0.946938  1.108342  0.842590  0.972214\n",
       "min   -1.637934 -1.138497 -1.586551 -1.790823\n",
       "25%   -0.344938 -0.801125 -0.526905 -0.690500\n",
       "50%    0.162997  0.062321 -0.032105 -0.066402\n",
       "75%    0.646346  0.573604  0.213361  0.449317\n",
       "max    0.883675  1.808246  0.863694  0.853583"
      ]
     },
     "execution_count": 12,
     "metadata": {},
     "output_type": "execute_result"
    }
   ],
   "source": [
    "df.describe()"
   ]
  },
  {
   "cell_type": "markdown",
   "metadata": {},
   "source": [
    "Transposing your data"
   ]
  },
  {
   "cell_type": "code",
   "execution_count": 13,
   "metadata": {
    "collapsed": false
   },
   "outputs": [
    {
     "data": {
      "text/html": [
       "<div>\n",
       "<table border=\"1\" class=\"dataframe\">\n",
       "  <thead>\n",
       "    <tr style=\"text-align: right;\">\n",
       "      <th></th>\n",
       "      <th>2016-09-11 00:00:00</th>\n",
       "      <th>2016-09-12 00:00:00</th>\n",
       "      <th>2016-09-13 00:00:00</th>\n",
       "      <th>2016-09-14 00:00:00</th>\n",
       "      <th>2016-09-15 00:00:00</th>\n",
       "      <th>2016-09-16 00:00:00</th>\n",
       "    </tr>\n",
       "  </thead>\n",
       "  <tbody>\n",
       "    <tr>\n",
       "      <th>A</th>\n",
       "      <td>-1.637934</td>\n",
       "      <td>0.612740</td>\n",
       "      <td>-0.364335</td>\n",
       "      <td>0.883675</td>\n",
       "      <td>-0.286747</td>\n",
       "      <td>0.657548</td>\n",
       "    </tr>\n",
       "    <tr>\n",
       "      <th>B</th>\n",
       "      <td>-0.958112</td>\n",
       "      <td>-1.138497</td>\n",
       "      <td>0.613203</td>\n",
       "      <td>1.808246</td>\n",
       "      <td>-0.330165</td>\n",
       "      <td>0.454806</td>\n",
       "    </tr>\n",
       "    <tr>\n",
       "      <th>C</th>\n",
       "      <td>0.863694</td>\n",
       "      <td>0.238470</td>\n",
       "      <td>0.138034</td>\n",
       "      <td>-0.635125</td>\n",
       "      <td>-0.202244</td>\n",
       "      <td>-1.586551</td>\n",
       "    </tr>\n",
       "    <tr>\n",
       "      <th>D</th>\n",
       "      <td>0.853583</td>\n",
       "      <td>0.562982</td>\n",
       "      <td>-0.241127</td>\n",
       "      <td>-1.790823</td>\n",
       "      <td>0.108324</td>\n",
       "      <td>-0.840291</td>\n",
       "    </tr>\n",
       "  </tbody>\n",
       "</table>\n",
       "</div>"
      ],
      "text/plain": [
       "   2016-09-11  2016-09-12  2016-09-13  2016-09-14  2016-09-15  2016-09-16\n",
       "A   -1.637934    0.612740   -0.364335    0.883675   -0.286747    0.657548\n",
       "B   -0.958112   -1.138497    0.613203    1.808246   -0.330165    0.454806\n",
       "C    0.863694    0.238470    0.138034   -0.635125   -0.202244   -1.586551\n",
       "D    0.853583    0.562982   -0.241127   -1.790823    0.108324   -0.840291"
      ]
     },
     "execution_count": 13,
     "metadata": {},
     "output_type": "execute_result"
    }
   ],
   "source": [
    "df.T"
   ]
  },
  {
   "cell_type": "markdown",
   "metadata": {},
   "source": [
    "Sorting by an axis"
   ]
  },
  {
   "cell_type": "code",
   "execution_count": 14,
   "metadata": {
    "collapsed": false
   },
   "outputs": [
    {
     "data": {
      "text/html": [
       "<div>\n",
       "<table border=\"1\" class=\"dataframe\">\n",
       "  <thead>\n",
       "    <tr style=\"text-align: right;\">\n",
       "      <th></th>\n",
       "      <th>D</th>\n",
       "      <th>C</th>\n",
       "      <th>B</th>\n",
       "      <th>A</th>\n",
       "    </tr>\n",
       "  </thead>\n",
       "  <tbody>\n",
       "    <tr>\n",
       "      <th>2016-09-11</th>\n",
       "      <td>0.853583</td>\n",
       "      <td>0.863694</td>\n",
       "      <td>-0.958112</td>\n",
       "      <td>-1.637934</td>\n",
       "    </tr>\n",
       "    <tr>\n",
       "      <th>2016-09-12</th>\n",
       "      <td>0.562982</td>\n",
       "      <td>0.238470</td>\n",
       "      <td>-1.138497</td>\n",
       "      <td>0.612740</td>\n",
       "    </tr>\n",
       "    <tr>\n",
       "      <th>2016-09-13</th>\n",
       "      <td>-0.241127</td>\n",
       "      <td>0.138034</td>\n",
       "      <td>0.613203</td>\n",
       "      <td>-0.364335</td>\n",
       "    </tr>\n",
       "    <tr>\n",
       "      <th>2016-09-14</th>\n",
       "      <td>-1.790823</td>\n",
       "      <td>-0.635125</td>\n",
       "      <td>1.808246</td>\n",
       "      <td>0.883675</td>\n",
       "    </tr>\n",
       "    <tr>\n",
       "      <th>2016-09-15</th>\n",
       "      <td>0.108324</td>\n",
       "      <td>-0.202244</td>\n",
       "      <td>-0.330165</td>\n",
       "      <td>-0.286747</td>\n",
       "    </tr>\n",
       "    <tr>\n",
       "      <th>2016-09-16</th>\n",
       "      <td>-0.840291</td>\n",
       "      <td>-1.586551</td>\n",
       "      <td>0.454806</td>\n",
       "      <td>0.657548</td>\n",
       "    </tr>\n",
       "  </tbody>\n",
       "</table>\n",
       "</div>"
      ],
      "text/plain": [
       "                   D         C         B         A\n",
       "2016-09-11  0.853583  0.863694 -0.958112 -1.637934\n",
       "2016-09-12  0.562982  0.238470 -1.138497  0.612740\n",
       "2016-09-13 -0.241127  0.138034  0.613203 -0.364335\n",
       "2016-09-14 -1.790823 -0.635125  1.808246  0.883675\n",
       "2016-09-15  0.108324 -0.202244 -0.330165 -0.286747\n",
       "2016-09-16 -0.840291 -1.586551  0.454806  0.657548"
      ]
     },
     "execution_count": 14,
     "metadata": {},
     "output_type": "execute_result"
    }
   ],
   "source": [
    "df.sort_index(axis=1, ascending=False)"
   ]
  },
  {
   "cell_type": "markdown",
   "metadata": {},
   "source": [
    "Sorting by values"
   ]
  },
  {
   "cell_type": "code",
   "execution_count": 15,
   "metadata": {
    "collapsed": false
   },
   "outputs": [
    {
     "data": {
      "text/html": [
       "<div>\n",
       "<table border=\"1\" class=\"dataframe\">\n",
       "  <thead>\n",
       "    <tr style=\"text-align: right;\">\n",
       "      <th></th>\n",
       "      <th>A</th>\n",
       "      <th>B</th>\n",
       "      <th>C</th>\n",
       "      <th>D</th>\n",
       "    </tr>\n",
       "  </thead>\n",
       "  <tbody>\n",
       "    <tr>\n",
       "      <th>2016-09-12</th>\n",
       "      <td>0.612740</td>\n",
       "      <td>-1.138497</td>\n",
       "      <td>0.238470</td>\n",
       "      <td>0.562982</td>\n",
       "    </tr>\n",
       "    <tr>\n",
       "      <th>2016-09-11</th>\n",
       "      <td>-1.637934</td>\n",
       "      <td>-0.958112</td>\n",
       "      <td>0.863694</td>\n",
       "      <td>0.853583</td>\n",
       "    </tr>\n",
       "    <tr>\n",
       "      <th>2016-09-15</th>\n",
       "      <td>-0.286747</td>\n",
       "      <td>-0.330165</td>\n",
       "      <td>-0.202244</td>\n",
       "      <td>0.108324</td>\n",
       "    </tr>\n",
       "    <tr>\n",
       "      <th>2016-09-16</th>\n",
       "      <td>0.657548</td>\n",
       "      <td>0.454806</td>\n",
       "      <td>-1.586551</td>\n",
       "      <td>-0.840291</td>\n",
       "    </tr>\n",
       "    <tr>\n",
       "      <th>2016-09-13</th>\n",
       "      <td>-0.364335</td>\n",
       "      <td>0.613203</td>\n",
       "      <td>0.138034</td>\n",
       "      <td>-0.241127</td>\n",
       "    </tr>\n",
       "    <tr>\n",
       "      <th>2016-09-14</th>\n",
       "      <td>0.883675</td>\n",
       "      <td>1.808246</td>\n",
       "      <td>-0.635125</td>\n",
       "      <td>-1.790823</td>\n",
       "    </tr>\n",
       "  </tbody>\n",
       "</table>\n",
       "</div>"
      ],
      "text/plain": [
       "                   A         B         C         D\n",
       "2016-09-12  0.612740 -1.138497  0.238470  0.562982\n",
       "2016-09-11 -1.637934 -0.958112  0.863694  0.853583\n",
       "2016-09-15 -0.286747 -0.330165 -0.202244  0.108324\n",
       "2016-09-16  0.657548  0.454806 -1.586551 -0.840291\n",
       "2016-09-13 -0.364335  0.613203  0.138034 -0.241127\n",
       "2016-09-14  0.883675  1.808246 -0.635125 -1.790823"
      ]
     },
     "execution_count": 15,
     "metadata": {},
     "output_type": "execute_result"
    }
   ],
   "source": [
    "df.sort_values(by='B')"
   ]
  },
  {
   "cell_type": "markdown",
   "metadata": {},
   "source": [
    "## Selection"
   ]
  },
  {
   "cell_type": "markdown",
   "metadata": {},
   "source": [
    "> **Note:**  While standard Python / Numpy expressions for selecting and setting are intuitive and come in handy for interactive work, for production code, we recommend the optimized pandas data access methods, .at, .iat, .loc, .iloc and .ix."
   ]
  },
  {
   "cell_type": "markdown",
   "metadata": {},
   "source": [
    "See the indexing documentation *[Indexing and Selecting](http://pandas.pydata.org/pandas-docs/stable/indexing.html#indexing)* and *[MultiIndex / Advanced Indexing](http://pandas.pydata.org/pandas-docs/stable/advanced.html#advanced)*"
   ]
  },
  {
   "cell_type": "markdown",
   "metadata": {},
   "source": [
    "### Getting"
   ]
  },
  {
   "cell_type": "markdown",
   "metadata": {},
   "source": [
    "Selecting a single column, which yields a Series, equivalent to df.A"
   ]
  },
  {
   "cell_type": "code",
   "execution_count": 16,
   "metadata": {
    "collapsed": false
   },
   "outputs": [
    {
     "data": {
      "text/plain": [
       "2016-09-11   -1.637934\n",
       "2016-09-12    0.612740\n",
       "2016-09-13   -0.364335\n",
       "2016-09-14    0.883675\n",
       "2016-09-15   -0.286747\n",
       "2016-09-16    0.657548\n",
       "Freq: D, Name: A, dtype: float64"
      ]
     },
     "execution_count": 16,
     "metadata": {},
     "output_type": "execute_result"
    }
   ],
   "source": [
    "df['A']"
   ]
  },
  {
   "cell_type": "markdown",
   "metadata": {},
   "source": [
    "Selecting via [], which slices the rows."
   ]
  },
  {
   "cell_type": "code",
   "execution_count": 17,
   "metadata": {
    "collapsed": false
   },
   "outputs": [
    {
     "data": {
      "text/html": [
       "<div>\n",
       "<table border=\"1\" class=\"dataframe\">\n",
       "  <thead>\n",
       "    <tr style=\"text-align: right;\">\n",
       "      <th></th>\n",
       "      <th>A</th>\n",
       "      <th>B</th>\n",
       "      <th>C</th>\n",
       "      <th>D</th>\n",
       "    </tr>\n",
       "  </thead>\n",
       "  <tbody>\n",
       "    <tr>\n",
       "      <th>2016-09-11</th>\n",
       "      <td>-1.637934</td>\n",
       "      <td>-0.958112</td>\n",
       "      <td>0.863694</td>\n",
       "      <td>0.853583</td>\n",
       "    </tr>\n",
       "    <tr>\n",
       "      <th>2016-09-12</th>\n",
       "      <td>0.612740</td>\n",
       "      <td>-1.138497</td>\n",
       "      <td>0.238470</td>\n",
       "      <td>0.562982</td>\n",
       "    </tr>\n",
       "    <tr>\n",
       "      <th>2016-09-13</th>\n",
       "      <td>-0.364335</td>\n",
       "      <td>0.613203</td>\n",
       "      <td>0.138034</td>\n",
       "      <td>-0.241127</td>\n",
       "    </tr>\n",
       "  </tbody>\n",
       "</table>\n",
       "</div>"
      ],
      "text/plain": [
       "                   A         B         C         D\n",
       "2016-09-11 -1.637934 -0.958112  0.863694  0.853583\n",
       "2016-09-12  0.612740 -1.138497  0.238470  0.562982\n",
       "2016-09-13 -0.364335  0.613203  0.138034 -0.241127"
      ]
     },
     "execution_count": 17,
     "metadata": {},
     "output_type": "execute_result"
    }
   ],
   "source": [
    "df[0:3]"
   ]
  },
  {
   "cell_type": "code",
   "execution_count": 18,
   "metadata": {
    "collapsed": false
   },
   "outputs": [
    {
     "data": {
      "text/html": [
       "<div>\n",
       "<table border=\"1\" class=\"dataframe\">\n",
       "  <thead>\n",
       "    <tr style=\"text-align: right;\">\n",
       "      <th></th>\n",
       "      <th>A</th>\n",
       "      <th>B</th>\n",
       "      <th>C</th>\n",
       "      <th>D</th>\n",
       "    </tr>\n",
       "  </thead>\n",
       "  <tbody>\n",
       "    <tr>\n",
       "      <th>2016-09-12</th>\n",
       "      <td>0.612740</td>\n",
       "      <td>-1.138497</td>\n",
       "      <td>0.238470</td>\n",
       "      <td>0.562982</td>\n",
       "    </tr>\n",
       "    <tr>\n",
       "      <th>2016-09-13</th>\n",
       "      <td>-0.364335</td>\n",
       "      <td>0.613203</td>\n",
       "      <td>0.138034</td>\n",
       "      <td>-0.241127</td>\n",
       "    </tr>\n",
       "    <tr>\n",
       "      <th>2016-09-14</th>\n",
       "      <td>0.883675</td>\n",
       "      <td>1.808246</td>\n",
       "      <td>-0.635125</td>\n",
       "      <td>-1.790823</td>\n",
       "    </tr>\n",
       "  </tbody>\n",
       "</table>\n",
       "</div>"
      ],
      "text/plain": [
       "                   A         B         C         D\n",
       "2016-09-12  0.612740 -1.138497  0.238470  0.562982\n",
       "2016-09-13 -0.364335  0.613203  0.138034 -0.241127\n",
       "2016-09-14  0.883675  1.808246 -0.635125 -1.790823"
      ]
     },
     "execution_count": 18,
     "metadata": {},
     "output_type": "execute_result"
    }
   ],
   "source": [
    "df['20160912' : '20160914']"
   ]
  },
  {
   "cell_type": "markdown",
   "metadata": {},
   "source": [
    "### Selection by Label"
   ]
  },
  {
   "cell_type": "markdown",
   "metadata": {},
   "source": [
    "See more in *[Selection by Label](http://pandas.pydata.org/pandas-docs/stable/indexing.html#indexing-label)*\n",
    "\n",
    "For getting a cross section using a label"
   ]
  },
  {
   "cell_type": "code",
   "execution_count": 19,
   "metadata": {
    "collapsed": false
   },
   "outputs": [
    {
     "data": {
      "text/plain": [
       "A   -1.637934\n",
       "B   -0.958112\n",
       "C    0.863694\n",
       "D    0.853583\n",
       "Name: 2016-09-11 00:00:00, dtype: float64"
      ]
     },
     "execution_count": 19,
     "metadata": {},
     "output_type": "execute_result"
    }
   ],
   "source": [
    "df.loc[dates[0]]"
   ]
  },
  {
   "cell_type": "markdown",
   "metadata": {},
   "source": [
    "Selecting on a multi-axis by label"
   ]
  },
  {
   "cell_type": "code",
   "execution_count": 20,
   "metadata": {
    "collapsed": false
   },
   "outputs": [
    {
     "data": {
      "text/html": [
       "<div>\n",
       "<table border=\"1\" class=\"dataframe\">\n",
       "  <thead>\n",
       "    <tr style=\"text-align: right;\">\n",
       "      <th></th>\n",
       "      <th>A</th>\n",
       "      <th>B</th>\n",
       "    </tr>\n",
       "  </thead>\n",
       "  <tbody>\n",
       "    <tr>\n",
       "      <th>2016-09-11</th>\n",
       "      <td>-1.637934</td>\n",
       "      <td>-0.958112</td>\n",
       "    </tr>\n",
       "    <tr>\n",
       "      <th>2016-09-12</th>\n",
       "      <td>0.612740</td>\n",
       "      <td>-1.138497</td>\n",
       "    </tr>\n",
       "    <tr>\n",
       "      <th>2016-09-13</th>\n",
       "      <td>-0.364335</td>\n",
       "      <td>0.613203</td>\n",
       "    </tr>\n",
       "    <tr>\n",
       "      <th>2016-09-14</th>\n",
       "      <td>0.883675</td>\n",
       "      <td>1.808246</td>\n",
       "    </tr>\n",
       "    <tr>\n",
       "      <th>2016-09-15</th>\n",
       "      <td>-0.286747</td>\n",
       "      <td>-0.330165</td>\n",
       "    </tr>\n",
       "    <tr>\n",
       "      <th>2016-09-16</th>\n",
       "      <td>0.657548</td>\n",
       "      <td>0.454806</td>\n",
       "    </tr>\n",
       "  </tbody>\n",
       "</table>\n",
       "</div>"
      ],
      "text/plain": [
       "                   A         B\n",
       "2016-09-11 -1.637934 -0.958112\n",
       "2016-09-12  0.612740 -1.138497\n",
       "2016-09-13 -0.364335  0.613203\n",
       "2016-09-14  0.883675  1.808246\n",
       "2016-09-15 -0.286747 -0.330165\n",
       "2016-09-16  0.657548  0.454806"
      ]
     },
     "execution_count": 20,
     "metadata": {},
     "output_type": "execute_result"
    }
   ],
   "source": [
    "df.loc[:, ['A', 'B']]"
   ]
  },
  {
   "cell_type": "markdown",
   "metadata": {},
   "source": [
    "Showing label slicing, both endpoints are *included*"
   ]
  },
  {
   "cell_type": "code",
   "execution_count": 21,
   "metadata": {
    "collapsed": false
   },
   "outputs": [
    {
     "data": {
      "text/html": [
       "<div>\n",
       "<table border=\"1\" class=\"dataframe\">\n",
       "  <thead>\n",
       "    <tr style=\"text-align: right;\">\n",
       "      <th></th>\n",
       "      <th>A</th>\n",
       "      <th>B</th>\n",
       "    </tr>\n",
       "  </thead>\n",
       "  <tbody>\n",
       "    <tr>\n",
       "      <th>2016-09-12</th>\n",
       "      <td>0.612740</td>\n",
       "      <td>-1.138497</td>\n",
       "    </tr>\n",
       "    <tr>\n",
       "      <th>2016-09-13</th>\n",
       "      <td>-0.364335</td>\n",
       "      <td>0.613203</td>\n",
       "    </tr>\n",
       "    <tr>\n",
       "      <th>2016-09-14</th>\n",
       "      <td>0.883675</td>\n",
       "      <td>1.808246</td>\n",
       "    </tr>\n",
       "  </tbody>\n",
       "</table>\n",
       "</div>"
      ],
      "text/plain": [
       "                   A         B\n",
       "2016-09-12  0.612740 -1.138497\n",
       "2016-09-13 -0.364335  0.613203\n",
       "2016-09-14  0.883675  1.808246"
      ]
     },
     "execution_count": 21,
     "metadata": {},
     "output_type": "execute_result"
    }
   ],
   "source": [
    "df.loc['20160912' : '20160914', ['A', 'B']]"
   ]
  },
  {
   "cell_type": "markdown",
   "metadata": {},
   "source": [
    "Reduction in the dimensions of the returned object"
   ]
  },
  {
   "cell_type": "code",
   "execution_count": 22,
   "metadata": {
    "collapsed": false
   },
   "outputs": [
    {
     "data": {
      "text/plain": [
       "A    0.612740\n",
       "B   -1.138497\n",
       "Name: 2016-09-12 00:00:00, dtype: float64"
      ]
     },
     "execution_count": 22,
     "metadata": {},
     "output_type": "execute_result"
    }
   ],
   "source": [
    "df.loc['20160912', ['A', 'B']]"
   ]
  },
  {
   "cell_type": "markdown",
   "metadata": {},
   "source": [
    "For getting a scalar value"
   ]
  },
  {
   "cell_type": "code",
   "execution_count": 23,
   "metadata": {
    "collapsed": false
   },
   "outputs": [
    {
     "data": {
      "text/plain": [
       "-1.6379340488591911"
      ]
     },
     "execution_count": 23,
     "metadata": {},
     "output_type": "execute_result"
    }
   ],
   "source": [
    "df.loc[dates[0], 'A']"
   ]
  },
  {
   "cell_type": "markdown",
   "metadata": {},
   "source": [
    "For getting fast access to a scalar (equiv to the prior method)"
   ]
  },
  {
   "cell_type": "code",
   "execution_count": 24,
   "metadata": {
    "collapsed": false
   },
   "outputs": [
    {
     "data": {
      "text/plain": [
       "-1.6379340488591911"
      ]
     },
     "execution_count": 24,
     "metadata": {},
     "output_type": "execute_result"
    }
   ],
   "source": [
    "df.at[dates[0], 'A']"
   ]
  },
  {
   "cell_type": "markdown",
   "metadata": {},
   "source": [
    "### Selection by Position"
   ]
  },
  {
   "cell_type": "markdown",
   "metadata": {},
   "source": [
    "See more in *[Selection by Position](http://pandas.pydata.org/pandas-docs/stable/indexing.html#indexing-integer)*\n",
    "\n",
    "Select via the position of the passed integers"
   ]
  },
  {
   "cell_type": "code",
   "execution_count": 25,
   "metadata": {
    "collapsed": false
   },
   "outputs": [
    {
     "data": {
      "text/plain": [
       "A    0.883675\n",
       "B    1.808246\n",
       "C   -0.635125\n",
       "D   -1.790823\n",
       "Name: 2016-09-14 00:00:00, dtype: float64"
      ]
     },
     "execution_count": 25,
     "metadata": {},
     "output_type": "execute_result"
    }
   ],
   "source": [
    "df.iloc[3]"
   ]
  },
  {
   "cell_type": "markdown",
   "metadata": {},
   "source": [
    "By integer slices, acting similar to numpy/python"
   ]
  },
  {
   "cell_type": "code",
   "execution_count": 26,
   "metadata": {
    "collapsed": false
   },
   "outputs": [
    {
     "data": {
      "text/html": [
       "<div>\n",
       "<table border=\"1\" class=\"dataframe\">\n",
       "  <thead>\n",
       "    <tr style=\"text-align: right;\">\n",
       "      <th></th>\n",
       "      <th>A</th>\n",
       "      <th>B</th>\n",
       "    </tr>\n",
       "  </thead>\n",
       "  <tbody>\n",
       "    <tr>\n",
       "      <th>2016-09-14</th>\n",
       "      <td>0.883675</td>\n",
       "      <td>1.808246</td>\n",
       "    </tr>\n",
       "    <tr>\n",
       "      <th>2016-09-15</th>\n",
       "      <td>-0.286747</td>\n",
       "      <td>-0.330165</td>\n",
       "    </tr>\n",
       "  </tbody>\n",
       "</table>\n",
       "</div>"
      ],
      "text/plain": [
       "                   A         B\n",
       "2016-09-14  0.883675  1.808246\n",
       "2016-09-15 -0.286747 -0.330165"
      ]
     },
     "execution_count": 26,
     "metadata": {},
     "output_type": "execute_result"
    }
   ],
   "source": [
    "df.iloc[3:5, 0:2]"
   ]
  },
  {
   "cell_type": "markdown",
   "metadata": {},
   "source": [
    "By lists of integer position locations, similar to the numpy/python style"
   ]
  },
  {
   "cell_type": "code",
   "execution_count": 27,
   "metadata": {
    "collapsed": false
   },
   "outputs": [
    {
     "data": {
      "text/html": [
       "<div>\n",
       "<table border=\"1\" class=\"dataframe\">\n",
       "  <thead>\n",
       "    <tr style=\"text-align: right;\">\n",
       "      <th></th>\n",
       "      <th>A</th>\n",
       "      <th>C</th>\n",
       "    </tr>\n",
       "  </thead>\n",
       "  <tbody>\n",
       "    <tr>\n",
       "      <th>2016-09-12</th>\n",
       "      <td>0.612740</td>\n",
       "      <td>0.238470</td>\n",
       "    </tr>\n",
       "    <tr>\n",
       "      <th>2016-09-13</th>\n",
       "      <td>-0.364335</td>\n",
       "      <td>0.138034</td>\n",
       "    </tr>\n",
       "    <tr>\n",
       "      <th>2016-09-15</th>\n",
       "      <td>-0.286747</td>\n",
       "      <td>-0.202244</td>\n",
       "    </tr>\n",
       "  </tbody>\n",
       "</table>\n",
       "</div>"
      ],
      "text/plain": [
       "                   A         C\n",
       "2016-09-12  0.612740  0.238470\n",
       "2016-09-13 -0.364335  0.138034\n",
       "2016-09-15 -0.286747 -0.202244"
      ]
     },
     "execution_count": 27,
     "metadata": {},
     "output_type": "execute_result"
    }
   ],
   "source": [
    "df.iloc[[1, 2, 4], [0, 2]]"
   ]
  },
  {
   "cell_type": "markdown",
   "metadata": {},
   "source": [
    "For slicing rows explicitly"
   ]
  },
  {
   "cell_type": "code",
   "execution_count": 28,
   "metadata": {
    "collapsed": false
   },
   "outputs": [
    {
     "data": {
      "text/html": [
       "<div>\n",
       "<table border=\"1\" class=\"dataframe\">\n",
       "  <thead>\n",
       "    <tr style=\"text-align: right;\">\n",
       "      <th></th>\n",
       "      <th>A</th>\n",
       "      <th>B</th>\n",
       "      <th>C</th>\n",
       "      <th>D</th>\n",
       "    </tr>\n",
       "  </thead>\n",
       "  <tbody>\n",
       "    <tr>\n",
       "      <th>2016-09-12</th>\n",
       "      <td>0.612740</td>\n",
       "      <td>-1.138497</td>\n",
       "      <td>0.238470</td>\n",
       "      <td>0.562982</td>\n",
       "    </tr>\n",
       "    <tr>\n",
       "      <th>2016-09-13</th>\n",
       "      <td>-0.364335</td>\n",
       "      <td>0.613203</td>\n",
       "      <td>0.138034</td>\n",
       "      <td>-0.241127</td>\n",
       "    </tr>\n",
       "  </tbody>\n",
       "</table>\n",
       "</div>"
      ],
      "text/plain": [
       "                   A         B         C         D\n",
       "2016-09-12  0.612740 -1.138497  0.238470  0.562982\n",
       "2016-09-13 -0.364335  0.613203  0.138034 -0.241127"
      ]
     },
     "execution_count": 28,
     "metadata": {},
     "output_type": "execute_result"
    }
   ],
   "source": [
    "df.iloc[1:3, :]"
   ]
  },
  {
   "cell_type": "markdown",
   "metadata": {},
   "source": [
    "For slicing columns explicitly"
   ]
  },
  {
   "cell_type": "code",
   "execution_count": 29,
   "metadata": {
    "collapsed": false
   },
   "outputs": [
    {
     "data": {
      "text/html": [
       "<div>\n",
       "<table border=\"1\" class=\"dataframe\">\n",
       "  <thead>\n",
       "    <tr style=\"text-align: right;\">\n",
       "      <th></th>\n",
       "      <th>B</th>\n",
       "      <th>C</th>\n",
       "    </tr>\n",
       "  </thead>\n",
       "  <tbody>\n",
       "    <tr>\n",
       "      <th>2016-09-11</th>\n",
       "      <td>-0.958112</td>\n",
       "      <td>0.863694</td>\n",
       "    </tr>\n",
       "    <tr>\n",
       "      <th>2016-09-12</th>\n",
       "      <td>-1.138497</td>\n",
       "      <td>0.238470</td>\n",
       "    </tr>\n",
       "    <tr>\n",
       "      <th>2016-09-13</th>\n",
       "      <td>0.613203</td>\n",
       "      <td>0.138034</td>\n",
       "    </tr>\n",
       "    <tr>\n",
       "      <th>2016-09-14</th>\n",
       "      <td>1.808246</td>\n",
       "      <td>-0.635125</td>\n",
       "    </tr>\n",
       "    <tr>\n",
       "      <th>2016-09-15</th>\n",
       "      <td>-0.330165</td>\n",
       "      <td>-0.202244</td>\n",
       "    </tr>\n",
       "    <tr>\n",
       "      <th>2016-09-16</th>\n",
       "      <td>0.454806</td>\n",
       "      <td>-1.586551</td>\n",
       "    </tr>\n",
       "  </tbody>\n",
       "</table>\n",
       "</div>"
      ],
      "text/plain": [
       "                   B         C\n",
       "2016-09-11 -0.958112  0.863694\n",
       "2016-09-12 -1.138497  0.238470\n",
       "2016-09-13  0.613203  0.138034\n",
       "2016-09-14  1.808246 -0.635125\n",
       "2016-09-15 -0.330165 -0.202244\n",
       "2016-09-16  0.454806 -1.586551"
      ]
     },
     "execution_count": 29,
     "metadata": {},
     "output_type": "execute_result"
    }
   ],
   "source": [
    "df.iloc[:, 1:3]"
   ]
  },
  {
   "cell_type": "markdown",
   "metadata": {},
   "source": [
    "For getting a value explicitly"
   ]
  },
  {
   "cell_type": "code",
   "execution_count": 30,
   "metadata": {
    "collapsed": false
   },
   "outputs": [
    {
     "data": {
      "text/plain": [
       "-1.1384974867395703"
      ]
     },
     "execution_count": 30,
     "metadata": {},
     "output_type": "execute_result"
    }
   ],
   "source": [
    "df.iloc[1, 1]"
   ]
  },
  {
   "cell_type": "markdown",
   "metadata": {},
   "source": [
    "For getting fast access to a scalar (equiv to the prior method)"
   ]
  },
  {
   "cell_type": "code",
   "execution_count": 31,
   "metadata": {
    "collapsed": false
   },
   "outputs": [
    {
     "data": {
      "text/plain": [
       "-1.1384974867395703"
      ]
     },
     "execution_count": 31,
     "metadata": {},
     "output_type": "execute_result"
    }
   ],
   "source": [
    "df.iat[1, 1]"
   ]
  },
  {
   "cell_type": "markdown",
   "metadata": {},
   "source": [
    "### Boolean Indexing"
   ]
  },
  {
   "cell_type": "markdown",
   "metadata": {},
   "source": [
    "Using a single column’s values to select data."
   ]
  },
  {
   "cell_type": "code",
   "execution_count": 32,
   "metadata": {
    "collapsed": false
   },
   "outputs": [
    {
     "data": {
      "text/html": [
       "<div>\n",
       "<table border=\"1\" class=\"dataframe\">\n",
       "  <thead>\n",
       "    <tr style=\"text-align: right;\">\n",
       "      <th></th>\n",
       "      <th>A</th>\n",
       "      <th>B</th>\n",
       "      <th>C</th>\n",
       "      <th>D</th>\n",
       "    </tr>\n",
       "  </thead>\n",
       "  <tbody>\n",
       "    <tr>\n",
       "      <th>2016-09-12</th>\n",
       "      <td>0.612740</td>\n",
       "      <td>-1.138497</td>\n",
       "      <td>0.238470</td>\n",
       "      <td>0.562982</td>\n",
       "    </tr>\n",
       "    <tr>\n",
       "      <th>2016-09-14</th>\n",
       "      <td>0.883675</td>\n",
       "      <td>1.808246</td>\n",
       "      <td>-0.635125</td>\n",
       "      <td>-1.790823</td>\n",
       "    </tr>\n",
       "    <tr>\n",
       "      <th>2016-09-16</th>\n",
       "      <td>0.657548</td>\n",
       "      <td>0.454806</td>\n",
       "      <td>-1.586551</td>\n",
       "      <td>-0.840291</td>\n",
       "    </tr>\n",
       "  </tbody>\n",
       "</table>\n",
       "</div>"
      ],
      "text/plain": [
       "                   A         B         C         D\n",
       "2016-09-12  0.612740 -1.138497  0.238470  0.562982\n",
       "2016-09-14  0.883675  1.808246 -0.635125 -1.790823\n",
       "2016-09-16  0.657548  0.454806 -1.586551 -0.840291"
      ]
     },
     "execution_count": 32,
     "metadata": {},
     "output_type": "execute_result"
    }
   ],
   "source": [
    "df[df.A > 0]"
   ]
  },
  {
   "cell_type": "markdown",
   "metadata": {},
   "source": [
    "A where operation for getting."
   ]
  },
  {
   "cell_type": "code",
   "execution_count": 33,
   "metadata": {
    "collapsed": false
   },
   "outputs": [
    {
     "data": {
      "text/html": [
       "<div>\n",
       "<table border=\"1\" class=\"dataframe\">\n",
       "  <thead>\n",
       "    <tr style=\"text-align: right;\">\n",
       "      <th></th>\n",
       "      <th>A</th>\n",
       "      <th>B</th>\n",
       "      <th>C</th>\n",
       "      <th>D</th>\n",
       "    </tr>\n",
       "  </thead>\n",
       "  <tbody>\n",
       "    <tr>\n",
       "      <th>2016-09-11</th>\n",
       "      <td>NaN</td>\n",
       "      <td>NaN</td>\n",
       "      <td>0.863694</td>\n",
       "      <td>0.853583</td>\n",
       "    </tr>\n",
       "    <tr>\n",
       "      <th>2016-09-12</th>\n",
       "      <td>0.612740</td>\n",
       "      <td>NaN</td>\n",
       "      <td>0.238470</td>\n",
       "      <td>0.562982</td>\n",
       "    </tr>\n",
       "    <tr>\n",
       "      <th>2016-09-13</th>\n",
       "      <td>NaN</td>\n",
       "      <td>0.613203</td>\n",
       "      <td>0.138034</td>\n",
       "      <td>NaN</td>\n",
       "    </tr>\n",
       "    <tr>\n",
       "      <th>2016-09-14</th>\n",
       "      <td>0.883675</td>\n",
       "      <td>1.808246</td>\n",
       "      <td>NaN</td>\n",
       "      <td>NaN</td>\n",
       "    </tr>\n",
       "    <tr>\n",
       "      <th>2016-09-15</th>\n",
       "      <td>NaN</td>\n",
       "      <td>NaN</td>\n",
       "      <td>NaN</td>\n",
       "      <td>0.108324</td>\n",
       "    </tr>\n",
       "    <tr>\n",
       "      <th>2016-09-16</th>\n",
       "      <td>0.657548</td>\n",
       "      <td>0.454806</td>\n",
       "      <td>NaN</td>\n",
       "      <td>NaN</td>\n",
       "    </tr>\n",
       "  </tbody>\n",
       "</table>\n",
       "</div>"
      ],
      "text/plain": [
       "                   A         B         C         D\n",
       "2016-09-11       NaN       NaN  0.863694  0.853583\n",
       "2016-09-12  0.612740       NaN  0.238470  0.562982\n",
       "2016-09-13       NaN  0.613203  0.138034       NaN\n",
       "2016-09-14  0.883675  1.808246       NaN       NaN\n",
       "2016-09-15       NaN       NaN       NaN  0.108324\n",
       "2016-09-16  0.657548  0.454806       NaN       NaN"
      ]
     },
     "execution_count": 33,
     "metadata": {},
     "output_type": "execute_result"
    }
   ],
   "source": [
    "df[df > 0]"
   ]
  },
  {
   "cell_type": "markdown",
   "metadata": {},
   "source": [
    "Using the **[isin()](http://pandas.pydata.org/pandas-docs/stable/generated/pandas.Series.isin.html#pandas.Series.isin)** method for filtering:"
   ]
  },
  {
   "cell_type": "code",
   "execution_count": 34,
   "metadata": {
    "collapsed": false
   },
   "outputs": [
    {
     "data": {
      "text/html": [
       "<div>\n",
       "<table border=\"1\" class=\"dataframe\">\n",
       "  <thead>\n",
       "    <tr style=\"text-align: right;\">\n",
       "      <th></th>\n",
       "      <th>A</th>\n",
       "      <th>B</th>\n",
       "      <th>C</th>\n",
       "      <th>D</th>\n",
       "      <th>E</th>\n",
       "    </tr>\n",
       "  </thead>\n",
       "  <tbody>\n",
       "    <tr>\n",
       "      <th>2016-09-11</th>\n",
       "      <td>-1.637934</td>\n",
       "      <td>-0.958112</td>\n",
       "      <td>0.863694</td>\n",
       "      <td>0.853583</td>\n",
       "      <td>one</td>\n",
       "    </tr>\n",
       "    <tr>\n",
       "      <th>2016-09-12</th>\n",
       "      <td>0.612740</td>\n",
       "      <td>-1.138497</td>\n",
       "      <td>0.238470</td>\n",
       "      <td>0.562982</td>\n",
       "      <td>one</td>\n",
       "    </tr>\n",
       "    <tr>\n",
       "      <th>2016-09-13</th>\n",
       "      <td>-0.364335</td>\n",
       "      <td>0.613203</td>\n",
       "      <td>0.138034</td>\n",
       "      <td>-0.241127</td>\n",
       "      <td>two</td>\n",
       "    </tr>\n",
       "    <tr>\n",
       "      <th>2016-09-14</th>\n",
       "      <td>0.883675</td>\n",
       "      <td>1.808246</td>\n",
       "      <td>-0.635125</td>\n",
       "      <td>-1.790823</td>\n",
       "      <td>three</td>\n",
       "    </tr>\n",
       "    <tr>\n",
       "      <th>2016-09-15</th>\n",
       "      <td>-0.286747</td>\n",
       "      <td>-0.330165</td>\n",
       "      <td>-0.202244</td>\n",
       "      <td>0.108324</td>\n",
       "      <td>four</td>\n",
       "    </tr>\n",
       "    <tr>\n",
       "      <th>2016-09-16</th>\n",
       "      <td>0.657548</td>\n",
       "      <td>0.454806</td>\n",
       "      <td>-1.586551</td>\n",
       "      <td>-0.840291</td>\n",
       "      <td>three</td>\n",
       "    </tr>\n",
       "  </tbody>\n",
       "</table>\n",
       "</div>"
      ],
      "text/plain": [
       "                   A         B         C         D      E\n",
       "2016-09-11 -1.637934 -0.958112  0.863694  0.853583    one\n",
       "2016-09-12  0.612740 -1.138497  0.238470  0.562982    one\n",
       "2016-09-13 -0.364335  0.613203  0.138034 -0.241127    two\n",
       "2016-09-14  0.883675  1.808246 -0.635125 -1.790823  three\n",
       "2016-09-15 -0.286747 -0.330165 -0.202244  0.108324   four\n",
       "2016-09-16  0.657548  0.454806 -1.586551 -0.840291  three"
      ]
     },
     "execution_count": 34,
     "metadata": {},
     "output_type": "execute_result"
    }
   ],
   "source": [
    "df2 = df.copy()\n",
    "df2['E'] = ['one', 'one', 'two', 'three', 'four', 'three']\n",
    "df2"
   ]
  },
  {
   "cell_type": "code",
   "execution_count": 35,
   "metadata": {
    "collapsed": false
   },
   "outputs": [
    {
     "data": {
      "text/html": [
       "<div>\n",
       "<table border=\"1\" class=\"dataframe\">\n",
       "  <thead>\n",
       "    <tr style=\"text-align: right;\">\n",
       "      <th></th>\n",
       "      <th>A</th>\n",
       "      <th>B</th>\n",
       "      <th>C</th>\n",
       "      <th>D</th>\n",
       "      <th>E</th>\n",
       "    </tr>\n",
       "  </thead>\n",
       "  <tbody>\n",
       "    <tr>\n",
       "      <th>2016-09-13</th>\n",
       "      <td>-0.364335</td>\n",
       "      <td>0.613203</td>\n",
       "      <td>0.138034</td>\n",
       "      <td>-0.241127</td>\n",
       "      <td>two</td>\n",
       "    </tr>\n",
       "    <tr>\n",
       "      <th>2016-09-15</th>\n",
       "      <td>-0.286747</td>\n",
       "      <td>-0.330165</td>\n",
       "      <td>-0.202244</td>\n",
       "      <td>0.108324</td>\n",
       "      <td>four</td>\n",
       "    </tr>\n",
       "  </tbody>\n",
       "</table>\n",
       "</div>"
      ],
      "text/plain": [
       "                   A         B         C         D     E\n",
       "2016-09-13 -0.364335  0.613203  0.138034 -0.241127   two\n",
       "2016-09-15 -0.286747 -0.330165 -0.202244  0.108324  four"
      ]
     },
     "execution_count": 35,
     "metadata": {},
     "output_type": "execute_result"
    }
   ],
   "source": [
    "df2[df2['E'].isin(['two', 'four'])]"
   ]
  },
  {
   "cell_type": "markdown",
   "metadata": {},
   "source": [
    "### Setting"
   ]
  },
  {
   "cell_type": "markdown",
   "metadata": {},
   "source": [
    "Setting a new column automatically aligns the data by the indexes"
   ]
  },
  {
   "cell_type": "code",
   "execution_count": 36,
   "metadata": {
    "collapsed": false
   },
   "outputs": [
    {
     "data": {
      "text/plain": [
       "2016-09-12    1\n",
       "2016-09-13    2\n",
       "2016-09-14    3\n",
       "2016-09-15    4\n",
       "2016-09-16    5\n",
       "2016-09-17    6\n",
       "Freq: D, dtype: int64"
      ]
     },
     "execution_count": 36,
     "metadata": {},
     "output_type": "execute_result"
    }
   ],
   "source": [
    "s1 = pd.Series([1, 2, 3, 4, 5, 6], index=pd.date_range('20160912', periods=6))\n",
    "s1"
   ]
  },
  {
   "cell_type": "code",
   "execution_count": 37,
   "metadata": {
    "collapsed": true
   },
   "outputs": [],
   "source": [
    "df['F'] = s1"
   ]
  },
  {
   "cell_type": "markdown",
   "metadata": {},
   "source": [
    "Setting values by label"
   ]
  },
  {
   "cell_type": "code",
   "execution_count": 38,
   "metadata": {
    "collapsed": true
   },
   "outputs": [],
   "source": [
    "df.at[dates[0], 'A'] = 0"
   ]
  },
  {
   "cell_type": "markdown",
   "metadata": {},
   "source": [
    "Setting values by position"
   ]
  },
  {
   "cell_type": "code",
   "execution_count": 39,
   "metadata": {
    "collapsed": true
   },
   "outputs": [],
   "source": [
    "df.iat[0, 1] = 0"
   ]
  },
  {
   "cell_type": "markdown",
   "metadata": {},
   "source": [
    "Setting by assigning with a numpy array"
   ]
  },
  {
   "cell_type": "code",
   "execution_count": 40,
   "metadata": {
    "collapsed": true
   },
   "outputs": [],
   "source": [
    "df.loc[:, 'D'] = np.array([5] * len(df))"
   ]
  },
  {
   "cell_type": "markdown",
   "metadata": {},
   "source": [
    "The result of the prior setting operations"
   ]
  },
  {
   "cell_type": "code",
   "execution_count": 41,
   "metadata": {
    "collapsed": false
   },
   "outputs": [
    {
     "data": {
      "text/html": [
       "<div>\n",
       "<table border=\"1\" class=\"dataframe\">\n",
       "  <thead>\n",
       "    <tr style=\"text-align: right;\">\n",
       "      <th></th>\n",
       "      <th>A</th>\n",
       "      <th>B</th>\n",
       "      <th>C</th>\n",
       "      <th>D</th>\n",
       "      <th>F</th>\n",
       "    </tr>\n",
       "  </thead>\n",
       "  <tbody>\n",
       "    <tr>\n",
       "      <th>2016-09-11</th>\n",
       "      <td>0.000000</td>\n",
       "      <td>0.000000</td>\n",
       "      <td>0.863694</td>\n",
       "      <td>5</td>\n",
       "      <td>NaN</td>\n",
       "    </tr>\n",
       "    <tr>\n",
       "      <th>2016-09-12</th>\n",
       "      <td>0.612740</td>\n",
       "      <td>-1.138497</td>\n",
       "      <td>0.238470</td>\n",
       "      <td>5</td>\n",
       "      <td>1.0</td>\n",
       "    </tr>\n",
       "    <tr>\n",
       "      <th>2016-09-13</th>\n",
       "      <td>-0.364335</td>\n",
       "      <td>0.613203</td>\n",
       "      <td>0.138034</td>\n",
       "      <td>5</td>\n",
       "      <td>2.0</td>\n",
       "    </tr>\n",
       "    <tr>\n",
       "      <th>2016-09-14</th>\n",
       "      <td>0.883675</td>\n",
       "      <td>1.808246</td>\n",
       "      <td>-0.635125</td>\n",
       "      <td>5</td>\n",
       "      <td>3.0</td>\n",
       "    </tr>\n",
       "    <tr>\n",
       "      <th>2016-09-15</th>\n",
       "      <td>-0.286747</td>\n",
       "      <td>-0.330165</td>\n",
       "      <td>-0.202244</td>\n",
       "      <td>5</td>\n",
       "      <td>4.0</td>\n",
       "    </tr>\n",
       "    <tr>\n",
       "      <th>2016-09-16</th>\n",
       "      <td>0.657548</td>\n",
       "      <td>0.454806</td>\n",
       "      <td>-1.586551</td>\n",
       "      <td>5</td>\n",
       "      <td>5.0</td>\n",
       "    </tr>\n",
       "  </tbody>\n",
       "</table>\n",
       "</div>"
      ],
      "text/plain": [
       "                   A         B         C  D    F\n",
       "2016-09-11  0.000000  0.000000  0.863694  5  NaN\n",
       "2016-09-12  0.612740 -1.138497  0.238470  5  1.0\n",
       "2016-09-13 -0.364335  0.613203  0.138034  5  2.0\n",
       "2016-09-14  0.883675  1.808246 -0.635125  5  3.0\n",
       "2016-09-15 -0.286747 -0.330165 -0.202244  5  4.0\n",
       "2016-09-16  0.657548  0.454806 -1.586551  5  5.0"
      ]
     },
     "execution_count": 41,
     "metadata": {},
     "output_type": "execute_result"
    }
   ],
   "source": [
    "df"
   ]
  },
  {
   "cell_type": "markdown",
   "metadata": {},
   "source": [
    "A where operation with setting."
   ]
  },
  {
   "cell_type": "code",
   "execution_count": 42,
   "metadata": {
    "collapsed": false
   },
   "outputs": [
    {
     "data": {
      "text/html": [
       "<div>\n",
       "<table border=\"1\" class=\"dataframe\">\n",
       "  <thead>\n",
       "    <tr style=\"text-align: right;\">\n",
       "      <th></th>\n",
       "      <th>A</th>\n",
       "      <th>B</th>\n",
       "      <th>C</th>\n",
       "      <th>D</th>\n",
       "      <th>F</th>\n",
       "    </tr>\n",
       "  </thead>\n",
       "  <tbody>\n",
       "    <tr>\n",
       "      <th>2016-09-11</th>\n",
       "      <td>0.000000</td>\n",
       "      <td>0.000000</td>\n",
       "      <td>-0.863694</td>\n",
       "      <td>-5</td>\n",
       "      <td>NaN</td>\n",
       "    </tr>\n",
       "    <tr>\n",
       "      <th>2016-09-12</th>\n",
       "      <td>-0.612740</td>\n",
       "      <td>-1.138497</td>\n",
       "      <td>-0.238470</td>\n",
       "      <td>-5</td>\n",
       "      <td>-1.0</td>\n",
       "    </tr>\n",
       "    <tr>\n",
       "      <th>2016-09-13</th>\n",
       "      <td>-0.364335</td>\n",
       "      <td>-0.613203</td>\n",
       "      <td>-0.138034</td>\n",
       "      <td>-5</td>\n",
       "      <td>-2.0</td>\n",
       "    </tr>\n",
       "    <tr>\n",
       "      <th>2016-09-14</th>\n",
       "      <td>-0.883675</td>\n",
       "      <td>-1.808246</td>\n",
       "      <td>-0.635125</td>\n",
       "      <td>-5</td>\n",
       "      <td>-3.0</td>\n",
       "    </tr>\n",
       "    <tr>\n",
       "      <th>2016-09-15</th>\n",
       "      <td>-0.286747</td>\n",
       "      <td>-0.330165</td>\n",
       "      <td>-0.202244</td>\n",
       "      <td>-5</td>\n",
       "      <td>-4.0</td>\n",
       "    </tr>\n",
       "    <tr>\n",
       "      <th>2016-09-16</th>\n",
       "      <td>-0.657548</td>\n",
       "      <td>-0.454806</td>\n",
       "      <td>-1.586551</td>\n",
       "      <td>-5</td>\n",
       "      <td>-5.0</td>\n",
       "    </tr>\n",
       "  </tbody>\n",
       "</table>\n",
       "</div>"
      ],
      "text/plain": [
       "                   A         B         C  D    F\n",
       "2016-09-11  0.000000  0.000000 -0.863694 -5  NaN\n",
       "2016-09-12 -0.612740 -1.138497 -0.238470 -5 -1.0\n",
       "2016-09-13 -0.364335 -0.613203 -0.138034 -5 -2.0\n",
       "2016-09-14 -0.883675 -1.808246 -0.635125 -5 -3.0\n",
       "2016-09-15 -0.286747 -0.330165 -0.202244 -5 -4.0\n",
       "2016-09-16 -0.657548 -0.454806 -1.586551 -5 -5.0"
      ]
     },
     "execution_count": 42,
     "metadata": {},
     "output_type": "execute_result"
    }
   ],
   "source": [
    "df2 = df.copy()\n",
    "df2[df2 > 0 ] = -df2\n",
    "df2"
   ]
  },
  {
   "cell_type": "markdown",
   "metadata": {},
   "source": [
    "## Missing Data"
   ]
  },
  {
   "cell_type": "markdown",
   "metadata": {},
   "source": [
    "pandas primarily uses the value np.nan to represent missing data. It is by default not included in computations. See the *[Missing Data section](http://pandas.pydata.org/pandas-docs/stable/missing_data.html#missing-data)*\n",
    "\n",
    "Reindexing allows you to change/add/delete the index on a specified axis. This returns a copy of the data."
   ]
  },
  {
   "cell_type": "code",
   "execution_count": 43,
   "metadata": {
    "collapsed": false
   },
   "outputs": [
    {
     "data": {
      "text/html": [
       "<div>\n",
       "<table border=\"1\" class=\"dataframe\">\n",
       "  <thead>\n",
       "    <tr style=\"text-align: right;\">\n",
       "      <th></th>\n",
       "      <th>A</th>\n",
       "      <th>B</th>\n",
       "      <th>C</th>\n",
       "      <th>D</th>\n",
       "      <th>F</th>\n",
       "      <th>E</th>\n",
       "    </tr>\n",
       "  </thead>\n",
       "  <tbody>\n",
       "    <tr>\n",
       "      <th>2016-09-11</th>\n",
       "      <td>0.000000</td>\n",
       "      <td>0.000000</td>\n",
       "      <td>0.863694</td>\n",
       "      <td>5</td>\n",
       "      <td>NaN</td>\n",
       "      <td>1.0</td>\n",
       "    </tr>\n",
       "    <tr>\n",
       "      <th>2016-09-12</th>\n",
       "      <td>0.612740</td>\n",
       "      <td>-1.138497</td>\n",
       "      <td>0.238470</td>\n",
       "      <td>5</td>\n",
       "      <td>1.0</td>\n",
       "      <td>1.0</td>\n",
       "    </tr>\n",
       "    <tr>\n",
       "      <th>2016-09-13</th>\n",
       "      <td>-0.364335</td>\n",
       "      <td>0.613203</td>\n",
       "      <td>0.138034</td>\n",
       "      <td>5</td>\n",
       "      <td>2.0</td>\n",
       "      <td>NaN</td>\n",
       "    </tr>\n",
       "    <tr>\n",
       "      <th>2016-09-14</th>\n",
       "      <td>0.883675</td>\n",
       "      <td>1.808246</td>\n",
       "      <td>-0.635125</td>\n",
       "      <td>5</td>\n",
       "      <td>3.0</td>\n",
       "      <td>NaN</td>\n",
       "    </tr>\n",
       "  </tbody>\n",
       "</table>\n",
       "</div>"
      ],
      "text/plain": [
       "                   A         B         C  D    F    E\n",
       "2016-09-11  0.000000  0.000000  0.863694  5  NaN  1.0\n",
       "2016-09-12  0.612740 -1.138497  0.238470  5  1.0  1.0\n",
       "2016-09-13 -0.364335  0.613203  0.138034  5  2.0  NaN\n",
       "2016-09-14  0.883675  1.808246 -0.635125  5  3.0  NaN"
      ]
     },
     "execution_count": 43,
     "metadata": {},
     "output_type": "execute_result"
    }
   ],
   "source": [
    "df1 = df.reindex(index=dates[0:4], columns=list(df.columns) + ['E'])\n",
    "df1.loc[dates[0]:dates[1], 'E'] = 1\n",
    "df1"
   ]
  },
  {
   "cell_type": "markdown",
   "metadata": {},
   "source": [
    "To drop any rows that have missing data."
   ]
  },
  {
   "cell_type": "code",
   "execution_count": 44,
   "metadata": {
    "collapsed": false
   },
   "outputs": [
    {
     "data": {
      "text/html": [
       "<div>\n",
       "<table border=\"1\" class=\"dataframe\">\n",
       "  <thead>\n",
       "    <tr style=\"text-align: right;\">\n",
       "      <th></th>\n",
       "      <th>A</th>\n",
       "      <th>B</th>\n",
       "      <th>C</th>\n",
       "      <th>D</th>\n",
       "      <th>F</th>\n",
       "      <th>E</th>\n",
       "    </tr>\n",
       "  </thead>\n",
       "  <tbody>\n",
       "    <tr>\n",
       "      <th>2016-09-12</th>\n",
       "      <td>0.61274</td>\n",
       "      <td>-1.138497</td>\n",
       "      <td>0.23847</td>\n",
       "      <td>5</td>\n",
       "      <td>1.0</td>\n",
       "      <td>1.0</td>\n",
       "    </tr>\n",
       "  </tbody>\n",
       "</table>\n",
       "</div>"
      ],
      "text/plain": [
       "                  A         B        C  D    F    E\n",
       "2016-09-12  0.61274 -1.138497  0.23847  5  1.0  1.0"
      ]
     },
     "execution_count": 44,
     "metadata": {},
     "output_type": "execute_result"
    }
   ],
   "source": [
    "df1.dropna(how='any')"
   ]
  },
  {
   "cell_type": "markdown",
   "metadata": {},
   "source": [
    "Filling missing data"
   ]
  },
  {
   "cell_type": "code",
   "execution_count": 45,
   "metadata": {
    "collapsed": false
   },
   "outputs": [
    {
     "data": {
      "text/html": [
       "<div>\n",
       "<table border=\"1\" class=\"dataframe\">\n",
       "  <thead>\n",
       "    <tr style=\"text-align: right;\">\n",
       "      <th></th>\n",
       "      <th>A</th>\n",
       "      <th>B</th>\n",
       "      <th>C</th>\n",
       "      <th>D</th>\n",
       "      <th>F</th>\n",
       "      <th>E</th>\n",
       "    </tr>\n",
       "  </thead>\n",
       "  <tbody>\n",
       "    <tr>\n",
       "      <th>2016-09-11</th>\n",
       "      <td>0.000000</td>\n",
       "      <td>0.000000</td>\n",
       "      <td>0.863694</td>\n",
       "      <td>5</td>\n",
       "      <td>5.0</td>\n",
       "      <td>1.0</td>\n",
       "    </tr>\n",
       "    <tr>\n",
       "      <th>2016-09-12</th>\n",
       "      <td>0.612740</td>\n",
       "      <td>-1.138497</td>\n",
       "      <td>0.238470</td>\n",
       "      <td>5</td>\n",
       "      <td>1.0</td>\n",
       "      <td>1.0</td>\n",
       "    </tr>\n",
       "    <tr>\n",
       "      <th>2016-09-13</th>\n",
       "      <td>-0.364335</td>\n",
       "      <td>0.613203</td>\n",
       "      <td>0.138034</td>\n",
       "      <td>5</td>\n",
       "      <td>2.0</td>\n",
       "      <td>5.0</td>\n",
       "    </tr>\n",
       "    <tr>\n",
       "      <th>2016-09-14</th>\n",
       "      <td>0.883675</td>\n",
       "      <td>1.808246</td>\n",
       "      <td>-0.635125</td>\n",
       "      <td>5</td>\n",
       "      <td>3.0</td>\n",
       "      <td>5.0</td>\n",
       "    </tr>\n",
       "  </tbody>\n",
       "</table>\n",
       "</div>"
      ],
      "text/plain": [
       "                   A         B         C  D    F    E\n",
       "2016-09-11  0.000000  0.000000  0.863694  5  5.0  1.0\n",
       "2016-09-12  0.612740 -1.138497  0.238470  5  1.0  1.0\n",
       "2016-09-13 -0.364335  0.613203  0.138034  5  2.0  5.0\n",
       "2016-09-14  0.883675  1.808246 -0.635125  5  3.0  5.0"
      ]
     },
     "execution_count": 45,
     "metadata": {},
     "output_type": "execute_result"
    }
   ],
   "source": [
    "df1.fillna(value=5)"
   ]
  },
  {
   "cell_type": "markdown",
   "metadata": {},
   "source": [
    "To get the boolean mask where values are nan"
   ]
  },
  {
   "cell_type": "code",
   "execution_count": 46,
   "metadata": {
    "collapsed": false
   },
   "outputs": [
    {
     "data": {
      "text/html": [
       "<div>\n",
       "<table border=\"1\" class=\"dataframe\">\n",
       "  <thead>\n",
       "    <tr style=\"text-align: right;\">\n",
       "      <th></th>\n",
       "      <th>A</th>\n",
       "      <th>B</th>\n",
       "      <th>C</th>\n",
       "      <th>D</th>\n",
       "      <th>F</th>\n",
       "      <th>E</th>\n",
       "    </tr>\n",
       "  </thead>\n",
       "  <tbody>\n",
       "    <tr>\n",
       "      <th>2016-09-11</th>\n",
       "      <td>False</td>\n",
       "      <td>False</td>\n",
       "      <td>False</td>\n",
       "      <td>False</td>\n",
       "      <td>True</td>\n",
       "      <td>False</td>\n",
       "    </tr>\n",
       "    <tr>\n",
       "      <th>2016-09-12</th>\n",
       "      <td>False</td>\n",
       "      <td>False</td>\n",
       "      <td>False</td>\n",
       "      <td>False</td>\n",
       "      <td>False</td>\n",
       "      <td>False</td>\n",
       "    </tr>\n",
       "    <tr>\n",
       "      <th>2016-09-13</th>\n",
       "      <td>False</td>\n",
       "      <td>False</td>\n",
       "      <td>False</td>\n",
       "      <td>False</td>\n",
       "      <td>False</td>\n",
       "      <td>True</td>\n",
       "    </tr>\n",
       "    <tr>\n",
       "      <th>2016-09-14</th>\n",
       "      <td>False</td>\n",
       "      <td>False</td>\n",
       "      <td>False</td>\n",
       "      <td>False</td>\n",
       "      <td>False</td>\n",
       "      <td>True</td>\n",
       "    </tr>\n",
       "  </tbody>\n",
       "</table>\n",
       "</div>"
      ],
      "text/plain": [
       "                A      B      C      D      F      E\n",
       "2016-09-11  False  False  False  False   True  False\n",
       "2016-09-12  False  False  False  False  False  False\n",
       "2016-09-13  False  False  False  False  False   True\n",
       "2016-09-14  False  False  False  False  False   True"
      ]
     },
     "execution_count": 46,
     "metadata": {},
     "output_type": "execute_result"
    }
   ],
   "source": [
    "pd.isnull(df1)"
   ]
  },
  {
   "cell_type": "markdown",
   "metadata": {},
   "source": [
    "## Operations"
   ]
  },
  {
   "cell_type": "markdown",
   "metadata": {},
   "source": [
    "See the *[Basic section on Binary Ops](http://pandas.pydata.org/pandas-docs/stable/basics.html#basics-binop)*"
   ]
  },
  {
   "cell_type": "markdown",
   "metadata": {},
   "source": [
    "### Stats"
   ]
  },
  {
   "cell_type": "markdown",
   "metadata": {},
   "source": [
    "Operations in general exclude missing data.\n",
    "\n",
    "Performing a descriptive statistic"
   ]
  },
  {
   "cell_type": "code",
   "execution_count": 47,
   "metadata": {
    "collapsed": false
   },
   "outputs": [
    {
     "data": {
      "text/plain": [
       "A    0.250480\n",
       "B    0.234599\n",
       "C   -0.197287\n",
       "D    5.000000\n",
       "F    3.000000\n",
       "dtype: float64"
      ]
     },
     "execution_count": 47,
     "metadata": {},
     "output_type": "execute_result"
    }
   ],
   "source": [
    "df.mean()"
   ]
  },
  {
   "cell_type": "markdown",
   "metadata": {},
   "source": [
    "Same operation on the other axis"
   ]
  },
  {
   "cell_type": "code",
   "execution_count": 48,
   "metadata": {
    "collapsed": false
   },
   "outputs": [
    {
     "data": {
      "text/plain": [
       "2016-09-11    1.465923\n",
       "2016-09-12    1.142543\n",
       "2016-09-13    1.477380\n",
       "2016-09-14    2.011359\n",
       "2016-09-15    1.636169\n",
       "2016-09-16    1.905161\n",
       "Freq: D, dtype: float64"
      ]
     },
     "execution_count": 48,
     "metadata": {},
     "output_type": "execute_result"
    }
   ],
   "source": [
    "df.mean(1)"
   ]
  },
  {
   "cell_type": "markdown",
   "metadata": {},
   "source": [
    "Operating with objects that have different dimensionality and need alignment. In addition, pandas automatically broadcasts along the specified dimension."
   ]
  },
  {
   "cell_type": "code",
   "execution_count": 49,
   "metadata": {
    "collapsed": false
   },
   "outputs": [
    {
     "data": {
      "text/plain": [
       "2016-09-11    NaN\n",
       "2016-09-12    NaN\n",
       "2016-09-13    1.0\n",
       "2016-09-14    3.0\n",
       "2016-09-15    5.0\n",
       "2016-09-16    NaN\n",
       "Freq: D, dtype: float64"
      ]
     },
     "execution_count": 49,
     "metadata": {},
     "output_type": "execute_result"
    }
   ],
   "source": [
    "s = pd.Series([1, 3, 5, np.nan, 6, 8], index=dates).shift(2)\n",
    "s"
   ]
  },
  {
   "cell_type": "code",
   "execution_count": 50,
   "metadata": {
    "collapsed": false
   },
   "outputs": [
    {
     "data": {
      "text/html": [
       "<div>\n",
       "<table border=\"1\" class=\"dataframe\">\n",
       "  <thead>\n",
       "    <tr style=\"text-align: right;\">\n",
       "      <th></th>\n",
       "      <th>A</th>\n",
       "      <th>B</th>\n",
       "      <th>C</th>\n",
       "      <th>D</th>\n",
       "      <th>F</th>\n",
       "    </tr>\n",
       "  </thead>\n",
       "  <tbody>\n",
       "    <tr>\n",
       "      <th>2016-09-11</th>\n",
       "      <td>NaN</td>\n",
       "      <td>NaN</td>\n",
       "      <td>NaN</td>\n",
       "      <td>NaN</td>\n",
       "      <td>NaN</td>\n",
       "    </tr>\n",
       "    <tr>\n",
       "      <th>2016-09-12</th>\n",
       "      <td>NaN</td>\n",
       "      <td>NaN</td>\n",
       "      <td>NaN</td>\n",
       "      <td>NaN</td>\n",
       "      <td>NaN</td>\n",
       "    </tr>\n",
       "    <tr>\n",
       "      <th>2016-09-13</th>\n",
       "      <td>-1.364335</td>\n",
       "      <td>-0.386797</td>\n",
       "      <td>-0.861966</td>\n",
       "      <td>4.0</td>\n",
       "      <td>1.0</td>\n",
       "    </tr>\n",
       "    <tr>\n",
       "      <th>2016-09-14</th>\n",
       "      <td>-2.116325</td>\n",
       "      <td>-1.191754</td>\n",
       "      <td>-3.635125</td>\n",
       "      <td>2.0</td>\n",
       "      <td>0.0</td>\n",
       "    </tr>\n",
       "    <tr>\n",
       "      <th>2016-09-15</th>\n",
       "      <td>-5.286747</td>\n",
       "      <td>-5.330165</td>\n",
       "      <td>-5.202244</td>\n",
       "      <td>0.0</td>\n",
       "      <td>-1.0</td>\n",
       "    </tr>\n",
       "    <tr>\n",
       "      <th>2016-09-16</th>\n",
       "      <td>NaN</td>\n",
       "      <td>NaN</td>\n",
       "      <td>NaN</td>\n",
       "      <td>NaN</td>\n",
       "      <td>NaN</td>\n",
       "    </tr>\n",
       "  </tbody>\n",
       "</table>\n",
       "</div>"
      ],
      "text/plain": [
       "                   A         B         C    D    F\n",
       "2016-09-11       NaN       NaN       NaN  NaN  NaN\n",
       "2016-09-12       NaN       NaN       NaN  NaN  NaN\n",
       "2016-09-13 -1.364335 -0.386797 -0.861966  4.0  1.0\n",
       "2016-09-14 -2.116325 -1.191754 -3.635125  2.0  0.0\n",
       "2016-09-15 -5.286747 -5.330165 -5.202244  0.0 -1.0\n",
       "2016-09-16       NaN       NaN       NaN  NaN  NaN"
      ]
     },
     "execution_count": 50,
     "metadata": {},
     "output_type": "execute_result"
    }
   ],
   "source": [
    "df.sub(s, axis='index')"
   ]
  },
  {
   "cell_type": "markdown",
   "metadata": {},
   "source": [
    "### Apply"
   ]
  },
  {
   "cell_type": "markdown",
   "metadata": {},
   "source": [
    "Applying functions to the data"
   ]
  },
  {
   "cell_type": "code",
   "execution_count": 51,
   "metadata": {
    "collapsed": false
   },
   "outputs": [
    {
     "data": {
      "text/html": [
       "<div>\n",
       "<table border=\"1\" class=\"dataframe\">\n",
       "  <thead>\n",
       "    <tr style=\"text-align: right;\">\n",
       "      <th></th>\n",
       "      <th>A</th>\n",
       "      <th>B</th>\n",
       "      <th>C</th>\n",
       "      <th>D</th>\n",
       "      <th>F</th>\n",
       "    </tr>\n",
       "  </thead>\n",
       "  <tbody>\n",
       "    <tr>\n",
       "      <th>2016-09-11</th>\n",
       "      <td>0.000000</td>\n",
       "      <td>0.000000</td>\n",
       "      <td>0.863694</td>\n",
       "      <td>5</td>\n",
       "      <td>NaN</td>\n",
       "    </tr>\n",
       "    <tr>\n",
       "      <th>2016-09-12</th>\n",
       "      <td>0.612740</td>\n",
       "      <td>-1.138497</td>\n",
       "      <td>1.102164</td>\n",
       "      <td>10</td>\n",
       "      <td>1.0</td>\n",
       "    </tr>\n",
       "    <tr>\n",
       "      <th>2016-09-13</th>\n",
       "      <td>0.248405</td>\n",
       "      <td>-0.525294</td>\n",
       "      <td>1.240198</td>\n",
       "      <td>15</td>\n",
       "      <td>3.0</td>\n",
       "    </tr>\n",
       "    <tr>\n",
       "      <th>2016-09-14</th>\n",
       "      <td>1.132080</td>\n",
       "      <td>1.282952</td>\n",
       "      <td>0.605073</td>\n",
       "      <td>20</td>\n",
       "      <td>6.0</td>\n",
       "    </tr>\n",
       "    <tr>\n",
       "      <th>2016-09-15</th>\n",
       "      <td>0.845333</td>\n",
       "      <td>0.952787</td>\n",
       "      <td>0.402829</td>\n",
       "      <td>25</td>\n",
       "      <td>10.0</td>\n",
       "    </tr>\n",
       "    <tr>\n",
       "      <th>2016-09-16</th>\n",
       "      <td>1.502881</td>\n",
       "      <td>1.407593</td>\n",
       "      <td>-1.183722</td>\n",
       "      <td>30</td>\n",
       "      <td>15.0</td>\n",
       "    </tr>\n",
       "  </tbody>\n",
       "</table>\n",
       "</div>"
      ],
      "text/plain": [
       "                   A         B         C   D     F\n",
       "2016-09-11  0.000000  0.000000  0.863694   5   NaN\n",
       "2016-09-12  0.612740 -1.138497  1.102164  10   1.0\n",
       "2016-09-13  0.248405 -0.525294  1.240198  15   3.0\n",
       "2016-09-14  1.132080  1.282952  0.605073  20   6.0\n",
       "2016-09-15  0.845333  0.952787  0.402829  25  10.0\n",
       "2016-09-16  1.502881  1.407593 -1.183722  30  15.0"
      ]
     },
     "execution_count": 51,
     "metadata": {},
     "output_type": "execute_result"
    }
   ],
   "source": [
    "df.apply(np.cumsum)"
   ]
  },
  {
   "cell_type": "code",
   "execution_count": 52,
   "metadata": {
    "collapsed": false
   },
   "outputs": [
    {
     "data": {
      "text/plain": [
       "A    1.248010\n",
       "B    2.946744\n",
       "C    2.450245\n",
       "D    0.000000\n",
       "F    4.000000\n",
       "dtype: float64"
      ]
     },
     "execution_count": 52,
     "metadata": {},
     "output_type": "execute_result"
    }
   ],
   "source": [
    "df.apply(lambda x : x.max() - x.min())"
   ]
  },
  {
   "cell_type": "markdown",
   "metadata": {},
   "source": [
    "### Histogramming"
   ]
  },
  {
   "cell_type": "code",
   "execution_count": 53,
   "metadata": {
    "collapsed": false
   },
   "outputs": [
    {
     "data": {
      "text/plain": [
       "0    0\n",
       "1    0\n",
       "2    2\n",
       "3    3\n",
       "4    4\n",
       "5    3\n",
       "6    0\n",
       "7    2\n",
       "8    0\n",
       "9    6\n",
       "dtype: int32"
      ]
     },
     "execution_count": 53,
     "metadata": {},
     "output_type": "execute_result"
    }
   ],
   "source": [
    "s = pd.Series(np.random.randint(0, 7, size=10))\n",
    "s"
   ]
  },
  {
   "cell_type": "code",
   "execution_count": 54,
   "metadata": {
    "collapsed": false
   },
   "outputs": [
    {
     "data": {
      "text/plain": [
       "0    4\n",
       "3    2\n",
       "2    2\n",
       "6    1\n",
       "4    1\n",
       "dtype: int64"
      ]
     },
     "execution_count": 54,
     "metadata": {},
     "output_type": "execute_result"
    }
   ],
   "source": [
    "s.value_counts()"
   ]
  },
  {
   "cell_type": "markdown",
   "metadata": {},
   "source": [
    "### String Methods"
   ]
  },
  {
   "cell_type": "markdown",
   "metadata": {},
   "source": [
    "Series is equipped with a set of string processing methods in the str attribute that make it easy to operate on each element of the array, as in the code snippet below. Note that pattern-matching in str generally uses *[regular expressions](https://docs.python.org/2/library/re.html)* by default (and in some cases always uses them). See more at *[Vectorized String Methods](http://pandas.pydata.org/pandas-docs/stable/text.html#text-string-methods)*."
   ]
  },
  {
   "cell_type": "code",
   "execution_count": 55,
   "metadata": {
    "collapsed": false
   },
   "outputs": [
    {
     "data": {
      "text/plain": [
       "0       a\n",
       "1       b\n",
       "2       c\n",
       "3    aaba\n",
       "4    baca\n",
       "5     NaN\n",
       "6    caba\n",
       "7     dog\n",
       "8     cat\n",
       "dtype: object"
      ]
     },
     "execution_count": 55,
     "metadata": {},
     "output_type": "execute_result"
    }
   ],
   "source": [
    "s = pd.Series(['A', 'B', 'C', 'Aaba', 'Baca', np.nan, 'CABA', 'dog', 'cat'])\n",
    "s.str.lower()"
   ]
  },
  {
   "cell_type": "markdown",
   "metadata": {},
   "source": [
    "## Merge"
   ]
  },
  {
   "cell_type": "markdown",
   "metadata": {},
   "source": [
    "### Concat"
   ]
  },
  {
   "cell_type": "markdown",
   "metadata": {},
   "source": [
    "pandas provides various facilities for easily combining together Series, DataFrame, and Panel objects with various kinds of set logic for the indexes and relational algebra functionality in the case of join / merge-type operations.\n",
    "\n",
    "See the *[Merging section](http://pandas.pydata.org/pandas-docs/stable/merging.html#merging)*\n",
    "\n",
    "Concatenating pandas objects together with **[concat()](http://pandas.pydata.org/pandas-docs/stable/generated/pandas.concat.html#pandas.concat):**"
   ]
  },
  {
   "cell_type": "code",
   "execution_count": 56,
   "metadata": {
    "collapsed": false
   },
   "outputs": [
    {
     "data": {
      "text/html": [
       "<div>\n",
       "<table border=\"1\" class=\"dataframe\">\n",
       "  <thead>\n",
       "    <tr style=\"text-align: right;\">\n",
       "      <th></th>\n",
       "      <th>0</th>\n",
       "      <th>1</th>\n",
       "      <th>2</th>\n",
       "      <th>3</th>\n",
       "    </tr>\n",
       "  </thead>\n",
       "  <tbody>\n",
       "    <tr>\n",
       "      <th>0</th>\n",
       "      <td>-0.037278</td>\n",
       "      <td>-0.598216</td>\n",
       "      <td>1.278513</td>\n",
       "      <td>-0.518883</td>\n",
       "    </tr>\n",
       "    <tr>\n",
       "      <th>1</th>\n",
       "      <td>0.928597</td>\n",
       "      <td>1.335437</td>\n",
       "      <td>0.661293</td>\n",
       "      <td>0.937047</td>\n",
       "    </tr>\n",
       "    <tr>\n",
       "      <th>2</th>\n",
       "      <td>1.735786</td>\n",
       "      <td>0.766098</td>\n",
       "      <td>-1.449271</td>\n",
       "      <td>-0.217771</td>\n",
       "    </tr>\n",
       "    <tr>\n",
       "      <th>3</th>\n",
       "      <td>-1.581625</td>\n",
       "      <td>-0.028861</td>\n",
       "      <td>-0.458227</td>\n",
       "      <td>1.628898</td>\n",
       "    </tr>\n",
       "    <tr>\n",
       "      <th>4</th>\n",
       "      <td>-2.157178</td>\n",
       "      <td>-0.066441</td>\n",
       "      <td>-0.109985</td>\n",
       "      <td>-0.374873</td>\n",
       "    </tr>\n",
       "    <tr>\n",
       "      <th>5</th>\n",
       "      <td>-0.320044</td>\n",
       "      <td>0.438991</td>\n",
       "      <td>-0.147676</td>\n",
       "      <td>0.467608</td>\n",
       "    </tr>\n",
       "    <tr>\n",
       "      <th>6</th>\n",
       "      <td>-0.385834</td>\n",
       "      <td>0.462218</td>\n",
       "      <td>-0.907318</td>\n",
       "      <td>0.685728</td>\n",
       "    </tr>\n",
       "    <tr>\n",
       "      <th>7</th>\n",
       "      <td>-2.124318</td>\n",
       "      <td>-0.920362</td>\n",
       "      <td>0.979259</td>\n",
       "      <td>-0.985745</td>\n",
       "    </tr>\n",
       "    <tr>\n",
       "      <th>8</th>\n",
       "      <td>-0.720860</td>\n",
       "      <td>-0.999267</td>\n",
       "      <td>1.299310</td>\n",
       "      <td>-0.591801</td>\n",
       "    </tr>\n",
       "    <tr>\n",
       "      <th>9</th>\n",
       "      <td>0.708824</td>\n",
       "      <td>-1.374100</td>\n",
       "      <td>1.586122</td>\n",
       "      <td>1.158358</td>\n",
       "    </tr>\n",
       "  </tbody>\n",
       "</table>\n",
       "</div>"
      ],
      "text/plain": [
       "          0         1         2         3\n",
       "0 -0.037278 -0.598216  1.278513 -0.518883\n",
       "1  0.928597  1.335437  0.661293  0.937047\n",
       "2  1.735786  0.766098 -1.449271 -0.217771\n",
       "3 -1.581625 -0.028861 -0.458227  1.628898\n",
       "4 -2.157178 -0.066441 -0.109985 -0.374873\n",
       "5 -0.320044  0.438991 -0.147676  0.467608\n",
       "6 -0.385834  0.462218 -0.907318  0.685728\n",
       "7 -2.124318 -0.920362  0.979259 -0.985745\n",
       "8 -0.720860 -0.999267  1.299310 -0.591801\n",
       "9  0.708824 -1.374100  1.586122  1.158358"
      ]
     },
     "execution_count": 56,
     "metadata": {},
     "output_type": "execute_result"
    }
   ],
   "source": [
    "df = pd.DataFrame(np.random.randn(10, 4))\n",
    "df"
   ]
  },
  {
   "cell_type": "code",
   "execution_count": 57,
   "metadata": {
    "collapsed": false
   },
   "outputs": [
    {
     "data": {
      "text/html": [
       "<div>\n",
       "<table border=\"1\" class=\"dataframe\">\n",
       "  <thead>\n",
       "    <tr style=\"text-align: right;\">\n",
       "      <th></th>\n",
       "      <th>0</th>\n",
       "      <th>1</th>\n",
       "      <th>2</th>\n",
       "      <th>3</th>\n",
       "    </tr>\n",
       "  </thead>\n",
       "  <tbody>\n",
       "    <tr>\n",
       "      <th>0</th>\n",
       "      <td>-0.037278</td>\n",
       "      <td>-0.598216</td>\n",
       "      <td>1.278513</td>\n",
       "      <td>-0.518883</td>\n",
       "    </tr>\n",
       "    <tr>\n",
       "      <th>1</th>\n",
       "      <td>0.928597</td>\n",
       "      <td>1.335437</td>\n",
       "      <td>0.661293</td>\n",
       "      <td>0.937047</td>\n",
       "    </tr>\n",
       "    <tr>\n",
       "      <th>2</th>\n",
       "      <td>1.735786</td>\n",
       "      <td>0.766098</td>\n",
       "      <td>-1.449271</td>\n",
       "      <td>-0.217771</td>\n",
       "    </tr>\n",
       "    <tr>\n",
       "      <th>3</th>\n",
       "      <td>-1.581625</td>\n",
       "      <td>-0.028861</td>\n",
       "      <td>-0.458227</td>\n",
       "      <td>1.628898</td>\n",
       "    </tr>\n",
       "    <tr>\n",
       "      <th>4</th>\n",
       "      <td>-2.157178</td>\n",
       "      <td>-0.066441</td>\n",
       "      <td>-0.109985</td>\n",
       "      <td>-0.374873</td>\n",
       "    </tr>\n",
       "    <tr>\n",
       "      <th>5</th>\n",
       "      <td>-0.320044</td>\n",
       "      <td>0.438991</td>\n",
       "      <td>-0.147676</td>\n",
       "      <td>0.467608</td>\n",
       "    </tr>\n",
       "    <tr>\n",
       "      <th>6</th>\n",
       "      <td>-0.385834</td>\n",
       "      <td>0.462218</td>\n",
       "      <td>-0.907318</td>\n",
       "      <td>0.685728</td>\n",
       "    </tr>\n",
       "    <tr>\n",
       "      <th>7</th>\n",
       "      <td>-2.124318</td>\n",
       "      <td>-0.920362</td>\n",
       "      <td>0.979259</td>\n",
       "      <td>-0.985745</td>\n",
       "    </tr>\n",
       "    <tr>\n",
       "      <th>8</th>\n",
       "      <td>-0.720860</td>\n",
       "      <td>-0.999267</td>\n",
       "      <td>1.299310</td>\n",
       "      <td>-0.591801</td>\n",
       "    </tr>\n",
       "    <tr>\n",
       "      <th>9</th>\n",
       "      <td>0.708824</td>\n",
       "      <td>-1.374100</td>\n",
       "      <td>1.586122</td>\n",
       "      <td>1.158358</td>\n",
       "    </tr>\n",
       "  </tbody>\n",
       "</table>\n",
       "</div>"
      ],
      "text/plain": [
       "          0         1         2         3\n",
       "0 -0.037278 -0.598216  1.278513 -0.518883\n",
       "1  0.928597  1.335437  0.661293  0.937047\n",
       "2  1.735786  0.766098 -1.449271 -0.217771\n",
       "3 -1.581625 -0.028861 -0.458227  1.628898\n",
       "4 -2.157178 -0.066441 -0.109985 -0.374873\n",
       "5 -0.320044  0.438991 -0.147676  0.467608\n",
       "6 -0.385834  0.462218 -0.907318  0.685728\n",
       "7 -2.124318 -0.920362  0.979259 -0.985745\n",
       "8 -0.720860 -0.999267  1.299310 -0.591801\n",
       "9  0.708824 -1.374100  1.586122  1.158358"
      ]
     },
     "execution_count": 57,
     "metadata": {},
     "output_type": "execute_result"
    }
   ],
   "source": [
    "# break it into pieces\n",
    "pieces = [df[:3], df[3:7], df[7:]]\n",
    "pd.concat(pieces)"
   ]
  },
  {
   "cell_type": "markdown",
   "metadata": {},
   "source": [
    "### Join"
   ]
  },
  {
   "cell_type": "markdown",
   "metadata": {},
   "source": [
    "SQL style merges. See the *[Database style joining](http://pandas.pydata.org/pandas-docs/stable/merging.html#merging-join)*"
   ]
  },
  {
   "cell_type": "code",
   "execution_count": 58,
   "metadata": {
    "collapsed": true
   },
   "outputs": [],
   "source": [
    "left = pd.DataFrame({'key': ['foo', 'foo'], 'lval': [1, 2]})\n",
    "right = pd.DataFrame({'key': ['foo', 'foo'], 'rval': [4, 5]})"
   ]
  },
  {
   "cell_type": "code",
   "execution_count": 59,
   "metadata": {
    "collapsed": false
   },
   "outputs": [
    {
     "data": {
      "text/html": [
       "<div>\n",
       "<table border=\"1\" class=\"dataframe\">\n",
       "  <thead>\n",
       "    <tr style=\"text-align: right;\">\n",
       "      <th></th>\n",
       "      <th>key</th>\n",
       "      <th>lval</th>\n",
       "    </tr>\n",
       "  </thead>\n",
       "  <tbody>\n",
       "    <tr>\n",
       "      <th>0</th>\n",
       "      <td>foo</td>\n",
       "      <td>1</td>\n",
       "    </tr>\n",
       "    <tr>\n",
       "      <th>1</th>\n",
       "      <td>foo</td>\n",
       "      <td>2</td>\n",
       "    </tr>\n",
       "  </tbody>\n",
       "</table>\n",
       "</div>"
      ],
      "text/plain": [
       "   key  lval\n",
       "0  foo     1\n",
       "1  foo     2"
      ]
     },
     "execution_count": 59,
     "metadata": {},
     "output_type": "execute_result"
    }
   ],
   "source": [
    "left"
   ]
  },
  {
   "cell_type": "code",
   "execution_count": 60,
   "metadata": {
    "collapsed": false
   },
   "outputs": [
    {
     "data": {
      "text/html": [
       "<div>\n",
       "<table border=\"1\" class=\"dataframe\">\n",
       "  <thead>\n",
       "    <tr style=\"text-align: right;\">\n",
       "      <th></th>\n",
       "      <th>key</th>\n",
       "      <th>rval</th>\n",
       "    </tr>\n",
       "  </thead>\n",
       "  <tbody>\n",
       "    <tr>\n",
       "      <th>0</th>\n",
       "      <td>foo</td>\n",
       "      <td>4</td>\n",
       "    </tr>\n",
       "    <tr>\n",
       "      <th>1</th>\n",
       "      <td>foo</td>\n",
       "      <td>5</td>\n",
       "    </tr>\n",
       "  </tbody>\n",
       "</table>\n",
       "</div>"
      ],
      "text/plain": [
       "   key  rval\n",
       "0  foo     4\n",
       "1  foo     5"
      ]
     },
     "execution_count": 60,
     "metadata": {},
     "output_type": "execute_result"
    }
   ],
   "source": [
    "right"
   ]
  },
  {
   "cell_type": "code",
   "execution_count": 61,
   "metadata": {
    "collapsed": false
   },
   "outputs": [
    {
     "data": {
      "text/html": [
       "<div>\n",
       "<table border=\"1\" class=\"dataframe\">\n",
       "  <thead>\n",
       "    <tr style=\"text-align: right;\">\n",
       "      <th></th>\n",
       "      <th>key</th>\n",
       "      <th>lval</th>\n",
       "      <th>rval</th>\n",
       "    </tr>\n",
       "  </thead>\n",
       "  <tbody>\n",
       "    <tr>\n",
       "      <th>0</th>\n",
       "      <td>foo</td>\n",
       "      <td>1</td>\n",
       "      <td>4</td>\n",
       "    </tr>\n",
       "    <tr>\n",
       "      <th>1</th>\n",
       "      <td>foo</td>\n",
       "      <td>1</td>\n",
       "      <td>5</td>\n",
       "    </tr>\n",
       "    <tr>\n",
       "      <th>2</th>\n",
       "      <td>foo</td>\n",
       "      <td>2</td>\n",
       "      <td>4</td>\n",
       "    </tr>\n",
       "    <tr>\n",
       "      <th>3</th>\n",
       "      <td>foo</td>\n",
       "      <td>2</td>\n",
       "      <td>5</td>\n",
       "    </tr>\n",
       "  </tbody>\n",
       "</table>\n",
       "</div>"
      ],
      "text/plain": [
       "   key  lval  rval\n",
       "0  foo     1     4\n",
       "1  foo     1     5\n",
       "2  foo     2     4\n",
       "3  foo     2     5"
      ]
     },
     "execution_count": 61,
     "metadata": {},
     "output_type": "execute_result"
    }
   ],
   "source": [
    "pd.merge(left, right, on='key')"
   ]
  },
  {
   "cell_type": "markdown",
   "metadata": {},
   "source": [
    "### Append"
   ]
  },
  {
   "cell_type": "markdown",
   "metadata": {},
   "source": [
    "Append rows to a dataframe. See the *[Appending](http://pandas.pydata.org/pandas-docs/stable/merging.html#merging-concatenation)*"
   ]
  },
  {
   "cell_type": "code",
   "execution_count": 62,
   "metadata": {
    "collapsed": false
   },
   "outputs": [
    {
     "data": {
      "text/html": [
       "<div>\n",
       "<table border=\"1\" class=\"dataframe\">\n",
       "  <thead>\n",
       "    <tr style=\"text-align: right;\">\n",
       "      <th></th>\n",
       "      <th>A</th>\n",
       "      <th>B</th>\n",
       "      <th>C</th>\n",
       "      <th>D</th>\n",
       "    </tr>\n",
       "  </thead>\n",
       "  <tbody>\n",
       "    <tr>\n",
       "      <th>0</th>\n",
       "      <td>0.023383</td>\n",
       "      <td>-0.810713</td>\n",
       "      <td>0.806585</td>\n",
       "      <td>0.293877</td>\n",
       "    </tr>\n",
       "    <tr>\n",
       "      <th>1</th>\n",
       "      <td>-1.672713</td>\n",
       "      <td>-0.801594</td>\n",
       "      <td>0.315394</td>\n",
       "      <td>0.662639</td>\n",
       "    </tr>\n",
       "    <tr>\n",
       "      <th>2</th>\n",
       "      <td>-0.019128</td>\n",
       "      <td>-1.204965</td>\n",
       "      <td>0.613909</td>\n",
       "      <td>0.666045</td>\n",
       "    </tr>\n",
       "    <tr>\n",
       "      <th>3</th>\n",
       "      <td>-1.332158</td>\n",
       "      <td>0.609907</td>\n",
       "      <td>-1.685302</td>\n",
       "      <td>0.832213</td>\n",
       "    </tr>\n",
       "    <tr>\n",
       "      <th>4</th>\n",
       "      <td>0.289127</td>\n",
       "      <td>-0.048933</td>\n",
       "      <td>-0.583954</td>\n",
       "      <td>0.653989</td>\n",
       "    </tr>\n",
       "    <tr>\n",
       "      <th>5</th>\n",
       "      <td>-0.730536</td>\n",
       "      <td>-0.738538</td>\n",
       "      <td>0.915074</td>\n",
       "      <td>0.450609</td>\n",
       "    </tr>\n",
       "    <tr>\n",
       "      <th>6</th>\n",
       "      <td>-0.132442</td>\n",
       "      <td>0.364581</td>\n",
       "      <td>0.728304</td>\n",
       "      <td>-0.148335</td>\n",
       "    </tr>\n",
       "    <tr>\n",
       "      <th>7</th>\n",
       "      <td>-0.465923</td>\n",
       "      <td>-0.489872</td>\n",
       "      <td>0.383389</td>\n",
       "      <td>-0.132652</td>\n",
       "    </tr>\n",
       "  </tbody>\n",
       "</table>\n",
       "</div>"
      ],
      "text/plain": [
       "          A         B         C         D\n",
       "0  0.023383 -0.810713  0.806585  0.293877\n",
       "1 -1.672713 -0.801594  0.315394  0.662639\n",
       "2 -0.019128 -1.204965  0.613909  0.666045\n",
       "3 -1.332158  0.609907 -1.685302  0.832213\n",
       "4  0.289127 -0.048933 -0.583954  0.653989\n",
       "5 -0.730536 -0.738538  0.915074  0.450609\n",
       "6 -0.132442  0.364581  0.728304 -0.148335\n",
       "7 -0.465923 -0.489872  0.383389 -0.132652"
      ]
     },
     "execution_count": 62,
     "metadata": {},
     "output_type": "execute_result"
    }
   ],
   "source": [
    "df = pd.DataFrame(np.random.randn(8, 4), columns=['A','B','C','D'])\n",
    "df"
   ]
  },
  {
   "cell_type": "code",
   "execution_count": 63,
   "metadata": {
    "collapsed": false
   },
   "outputs": [
    {
     "data": {
      "text/html": [
       "<div>\n",
       "<table border=\"1\" class=\"dataframe\">\n",
       "  <thead>\n",
       "    <tr style=\"text-align: right;\">\n",
       "      <th></th>\n",
       "      <th>A</th>\n",
       "      <th>B</th>\n",
       "      <th>C</th>\n",
       "      <th>D</th>\n",
       "    </tr>\n",
       "  </thead>\n",
       "  <tbody>\n",
       "    <tr>\n",
       "      <th>0</th>\n",
       "      <td>0.023383</td>\n",
       "      <td>-0.810713</td>\n",
       "      <td>0.806585</td>\n",
       "      <td>0.293877</td>\n",
       "    </tr>\n",
       "    <tr>\n",
       "      <th>1</th>\n",
       "      <td>-1.672713</td>\n",
       "      <td>-0.801594</td>\n",
       "      <td>0.315394</td>\n",
       "      <td>0.662639</td>\n",
       "    </tr>\n",
       "    <tr>\n",
       "      <th>2</th>\n",
       "      <td>-0.019128</td>\n",
       "      <td>-1.204965</td>\n",
       "      <td>0.613909</td>\n",
       "      <td>0.666045</td>\n",
       "    </tr>\n",
       "    <tr>\n",
       "      <th>3</th>\n",
       "      <td>-1.332158</td>\n",
       "      <td>0.609907</td>\n",
       "      <td>-1.685302</td>\n",
       "      <td>0.832213</td>\n",
       "    </tr>\n",
       "    <tr>\n",
       "      <th>4</th>\n",
       "      <td>0.289127</td>\n",
       "      <td>-0.048933</td>\n",
       "      <td>-0.583954</td>\n",
       "      <td>0.653989</td>\n",
       "    </tr>\n",
       "    <tr>\n",
       "      <th>5</th>\n",
       "      <td>-0.730536</td>\n",
       "      <td>-0.738538</td>\n",
       "      <td>0.915074</td>\n",
       "      <td>0.450609</td>\n",
       "    </tr>\n",
       "    <tr>\n",
       "      <th>6</th>\n",
       "      <td>-0.132442</td>\n",
       "      <td>0.364581</td>\n",
       "      <td>0.728304</td>\n",
       "      <td>-0.148335</td>\n",
       "    </tr>\n",
       "    <tr>\n",
       "      <th>7</th>\n",
       "      <td>-0.465923</td>\n",
       "      <td>-0.489872</td>\n",
       "      <td>0.383389</td>\n",
       "      <td>-0.132652</td>\n",
       "    </tr>\n",
       "    <tr>\n",
       "      <th>8</th>\n",
       "      <td>-1.332158</td>\n",
       "      <td>0.609907</td>\n",
       "      <td>-1.685302</td>\n",
       "      <td>0.832213</td>\n",
       "    </tr>\n",
       "  </tbody>\n",
       "</table>\n",
       "</div>"
      ],
      "text/plain": [
       "          A         B         C         D\n",
       "0  0.023383 -0.810713  0.806585  0.293877\n",
       "1 -1.672713 -0.801594  0.315394  0.662639\n",
       "2 -0.019128 -1.204965  0.613909  0.666045\n",
       "3 -1.332158  0.609907 -1.685302  0.832213\n",
       "4  0.289127 -0.048933 -0.583954  0.653989\n",
       "5 -0.730536 -0.738538  0.915074  0.450609\n",
       "6 -0.132442  0.364581  0.728304 -0.148335\n",
       "7 -0.465923 -0.489872  0.383389 -0.132652\n",
       "8 -1.332158  0.609907 -1.685302  0.832213"
      ]
     },
     "execution_count": 63,
     "metadata": {},
     "output_type": "execute_result"
    }
   ],
   "source": [
    "s = df.iloc[3]\n",
    "df.append(s, ignore_index=True)"
   ]
  },
  {
   "cell_type": "markdown",
   "metadata": {},
   "source": [
    "## Grouping"
   ]
  },
  {
   "cell_type": "markdown",
   "metadata": {},
   "source": [
    "By “group by” we are referring to a process involving one or more of the following steps\n",
    "\n",
    "> * **Splitting** the data into groups based on some criteria\n",
    "* **Applying** a function to each group independently\n",
    "* **Combining** the results into a data structure\n",
    "\n",
    "See the *[Grouping section](http://pandas.pydata.org/pandas-docs/stable/groupby.html#groupby)*"
   ]
  },
  {
   "cell_type": "code",
   "execution_count": 64,
   "metadata": {
    "collapsed": false
   },
   "outputs": [
    {
     "data": {
      "text/html": [
       "<div>\n",
       "<table border=\"1\" class=\"dataframe\">\n",
       "  <thead>\n",
       "    <tr style=\"text-align: right;\">\n",
       "      <th></th>\n",
       "      <th>A</th>\n",
       "      <th>B</th>\n",
       "      <th>C</th>\n",
       "      <th>D</th>\n",
       "    </tr>\n",
       "  </thead>\n",
       "  <tbody>\n",
       "    <tr>\n",
       "      <th>0</th>\n",
       "      <td>foo</td>\n",
       "      <td>one</td>\n",
       "      <td>1.126382</td>\n",
       "      <td>1.052989</td>\n",
       "    </tr>\n",
       "    <tr>\n",
       "      <th>1</th>\n",
       "      <td>bar</td>\n",
       "      <td>one</td>\n",
       "      <td>-0.726986</td>\n",
       "      <td>0.418474</td>\n",
       "    </tr>\n",
       "    <tr>\n",
       "      <th>2</th>\n",
       "      <td>foo</td>\n",
       "      <td>two</td>\n",
       "      <td>-0.307363</td>\n",
       "      <td>1.264918</td>\n",
       "    </tr>\n",
       "    <tr>\n",
       "      <th>3</th>\n",
       "      <td>bar</td>\n",
       "      <td>three</td>\n",
       "      <td>0.339404</td>\n",
       "      <td>0.081794</td>\n",
       "    </tr>\n",
       "    <tr>\n",
       "      <th>4</th>\n",
       "      <td>foo</td>\n",
       "      <td>two</td>\n",
       "      <td>0.290021</td>\n",
       "      <td>-0.633727</td>\n",
       "    </tr>\n",
       "    <tr>\n",
       "      <th>5</th>\n",
       "      <td>bar</td>\n",
       "      <td>two</td>\n",
       "      <td>-0.870355</td>\n",
       "      <td>-0.051309</td>\n",
       "    </tr>\n",
       "    <tr>\n",
       "      <th>6</th>\n",
       "      <td>foo</td>\n",
       "      <td>one</td>\n",
       "      <td>0.480506</td>\n",
       "      <td>-1.808107</td>\n",
       "    </tr>\n",
       "    <tr>\n",
       "      <th>7</th>\n",
       "      <td>foo</td>\n",
       "      <td>three</td>\n",
       "      <td>0.603749</td>\n",
       "      <td>1.852242</td>\n",
       "    </tr>\n",
       "  </tbody>\n",
       "</table>\n",
       "</div>"
      ],
      "text/plain": [
       "     A      B         C         D\n",
       "0  foo    one  1.126382  1.052989\n",
       "1  bar    one -0.726986  0.418474\n",
       "2  foo    two -0.307363  1.264918\n",
       "3  bar  three  0.339404  0.081794\n",
       "4  foo    two  0.290021 -0.633727\n",
       "5  bar    two -0.870355 -0.051309\n",
       "6  foo    one  0.480506 -1.808107\n",
       "7  foo  three  0.603749  1.852242"
      ]
     },
     "execution_count": 64,
     "metadata": {},
     "output_type": "execute_result"
    }
   ],
   "source": [
    "df = pd.DataFrame({'A' : ['foo', 'bar', 'foo', 'bar',\n",
    "                          'foo', 'bar', 'foo', 'foo'],\n",
    "                   'B' : ['one', 'one', 'two', 'three',\n",
    "                          'two', 'two', 'one', 'three'],\n",
    "                   'C' : np.random.randn(8),\n",
    "                   'D' : np.random.randn(8)})\n",
    "df"
   ]
  },
  {
   "cell_type": "markdown",
   "metadata": {},
   "source": [
    "Grouping and then applying a function sum to the resulting groups."
   ]
  },
  {
   "cell_type": "code",
   "execution_count": 65,
   "metadata": {
    "collapsed": false
   },
   "outputs": [
    {
     "data": {
      "text/html": [
       "<div>\n",
       "<table border=\"1\" class=\"dataframe\">\n",
       "  <thead>\n",
       "    <tr style=\"text-align: right;\">\n",
       "      <th></th>\n",
       "      <th>C</th>\n",
       "      <th>D</th>\n",
       "    </tr>\n",
       "    <tr>\n",
       "      <th>A</th>\n",
       "      <th></th>\n",
       "      <th></th>\n",
       "    </tr>\n",
       "  </thead>\n",
       "  <tbody>\n",
       "    <tr>\n",
       "      <th>bar</th>\n",
       "      <td>-1.257937</td>\n",
       "      <td>0.448959</td>\n",
       "    </tr>\n",
       "    <tr>\n",
       "      <th>foo</th>\n",
       "      <td>2.193296</td>\n",
       "      <td>1.728315</td>\n",
       "    </tr>\n",
       "  </tbody>\n",
       "</table>\n",
       "</div>"
      ],
      "text/plain": [
       "            C         D\n",
       "A                      \n",
       "bar -1.257937  0.448959\n",
       "foo  2.193296  1.728315"
      ]
     },
     "execution_count": 65,
     "metadata": {},
     "output_type": "execute_result"
    }
   ],
   "source": [
    "df.groupby('A').sum()"
   ]
  },
  {
   "cell_type": "markdown",
   "metadata": {},
   "source": [
    "Grouping by multiple columns forms a hierarchical index, which we then apply the function."
   ]
  },
  {
   "cell_type": "code",
   "execution_count": 66,
   "metadata": {
    "collapsed": false
   },
   "outputs": [
    {
     "data": {
      "text/html": [
       "<div>\n",
       "<table border=\"1\" class=\"dataframe\">\n",
       "  <thead>\n",
       "    <tr style=\"text-align: right;\">\n",
       "      <th></th>\n",
       "      <th></th>\n",
       "      <th>C</th>\n",
       "      <th>D</th>\n",
       "    </tr>\n",
       "    <tr>\n",
       "      <th>A</th>\n",
       "      <th>B</th>\n",
       "      <th></th>\n",
       "      <th></th>\n",
       "    </tr>\n",
       "  </thead>\n",
       "  <tbody>\n",
       "    <tr>\n",
       "      <th rowspan=\"3\" valign=\"top\">bar</th>\n",
       "      <th>one</th>\n",
       "      <td>-0.726986</td>\n",
       "      <td>0.418474</td>\n",
       "    </tr>\n",
       "    <tr>\n",
       "      <th>three</th>\n",
       "      <td>0.339404</td>\n",
       "      <td>0.081794</td>\n",
       "    </tr>\n",
       "    <tr>\n",
       "      <th>two</th>\n",
       "      <td>-0.870355</td>\n",
       "      <td>-0.051309</td>\n",
       "    </tr>\n",
       "    <tr>\n",
       "      <th rowspan=\"3\" valign=\"top\">foo</th>\n",
       "      <th>one</th>\n",
       "      <td>1.606888</td>\n",
       "      <td>-0.755118</td>\n",
       "    </tr>\n",
       "    <tr>\n",
       "      <th>three</th>\n",
       "      <td>0.603749</td>\n",
       "      <td>1.852242</td>\n",
       "    </tr>\n",
       "    <tr>\n",
       "      <th>two</th>\n",
       "      <td>-0.017342</td>\n",
       "      <td>0.631191</td>\n",
       "    </tr>\n",
       "  </tbody>\n",
       "</table>\n",
       "</div>"
      ],
      "text/plain": [
       "                  C         D\n",
       "A   B                        \n",
       "bar one   -0.726986  0.418474\n",
       "    three  0.339404  0.081794\n",
       "    two   -0.870355 -0.051309\n",
       "foo one    1.606888 -0.755118\n",
       "    three  0.603749  1.852242\n",
       "    two   -0.017342  0.631191"
      ]
     },
     "execution_count": 66,
     "metadata": {},
     "output_type": "execute_result"
    }
   ],
   "source": [
    "df.groupby(['A','B']).sum()"
   ]
  },
  {
   "cell_type": "markdown",
   "metadata": {},
   "source": [
    "## Reshaping"
   ]
  },
  {
   "cell_type": "markdown",
   "metadata": {},
   "source": [
    "See the sections on *[Hierarchical Indexing](http://pandas.pydata.org/pandas-docs/stable/advanced.html#advanced-hierarchical)* and *[Reshaping](http://pandas.pydata.org/pandas-docs/stable/reshaping.html#reshaping-stacking)*."
   ]
  },
  {
   "cell_type": "markdown",
   "metadata": {},
   "source": [
    "### Stack"
   ]
  },
  {
   "cell_type": "code",
   "execution_count": 67,
   "metadata": {
    "collapsed": false
   },
   "outputs": [
    {
     "data": {
      "text/html": [
       "<div>\n",
       "<table border=\"1\" class=\"dataframe\">\n",
       "  <thead>\n",
       "    <tr style=\"text-align: right;\">\n",
       "      <th></th>\n",
       "      <th></th>\n",
       "      <th>A</th>\n",
       "      <th>B</th>\n",
       "    </tr>\n",
       "    <tr>\n",
       "      <th>first</th>\n",
       "      <th>second</th>\n",
       "      <th></th>\n",
       "      <th></th>\n",
       "    </tr>\n",
       "  </thead>\n",
       "  <tbody>\n",
       "    <tr>\n",
       "      <th rowspan=\"2\" valign=\"top\">bar</th>\n",
       "      <th>one</th>\n",
       "      <td>-0.283211</td>\n",
       "      <td>0.066034</td>\n",
       "    </tr>\n",
       "    <tr>\n",
       "      <th>two</th>\n",
       "      <td>0.659730</td>\n",
       "      <td>-0.133178</td>\n",
       "    </tr>\n",
       "    <tr>\n",
       "      <th rowspan=\"2\" valign=\"top\">baz</th>\n",
       "      <th>one</th>\n",
       "      <td>0.585934</td>\n",
       "      <td>0.764429</td>\n",
       "    </tr>\n",
       "    <tr>\n",
       "      <th>two</th>\n",
       "      <td>-1.437982</td>\n",
       "      <td>1.544745</td>\n",
       "    </tr>\n",
       "  </tbody>\n",
       "</table>\n",
       "</div>"
      ],
      "text/plain": [
       "                     A         B\n",
       "first second                    \n",
       "bar   one    -0.283211  0.066034\n",
       "      two     0.659730 -0.133178\n",
       "baz   one     0.585934  0.764429\n",
       "      two    -1.437982  1.544745"
      ]
     },
     "execution_count": 67,
     "metadata": {},
     "output_type": "execute_result"
    }
   ],
   "source": [
    "tuples = list(zip(*[['bar', 'bar', 'baz', 'baz',\n",
    "                     'foo', 'foo', 'qux', 'qux'],\n",
    "                    ['one', 'two', 'one', 'two',\n",
    "                     'one', 'two', 'one', 'two']]))\n",
    "index = pd.MultiIndex.from_tuples(tuples, names=['first', 'second'])\n",
    "df = pd.DataFrame(np.random.randn(8, 2), index=index, columns=['A', 'B'])\n",
    "df2 = df[:4]\n",
    "df2"
   ]
  },
  {
   "cell_type": "markdown",
   "metadata": {},
   "source": [
    "The **[stack()](http://pandas.pydata.org/pandas-docs/stable/generated/pandas.DataFrame.stack.html#pandas.DataFrame.stack)** method “compresses” a level in the DataFrame’s columns."
   ]
  },
  {
   "cell_type": "code",
   "execution_count": 68,
   "metadata": {
    "collapsed": false
   },
   "outputs": [
    {
     "data": {
      "text/plain": [
       "first  second   \n",
       "bar    one     A   -0.283211\n",
       "               B    0.066034\n",
       "       two     A    0.659730\n",
       "               B   -0.133178\n",
       "baz    one     A    0.585934\n",
       "               B    0.764429\n",
       "       two     A   -1.437982\n",
       "               B    1.544745\n",
       "dtype: float64"
      ]
     },
     "execution_count": 68,
     "metadata": {},
     "output_type": "execute_result"
    }
   ],
   "source": [
    "stacked = df2.stack()\n",
    "stacked"
   ]
  },
  {
   "cell_type": "markdown",
   "metadata": {},
   "source": [
    "With a “stacked” DataFrame or Series (having a MultiIndex as the index), the inverse operation of **[stack()](http://pandas.pydata.org/pandas-docs/stable/generated/pandas.DataFrame.stack.html#pandas.DataFrame.stack)** is **[unstack()](http://pandas.pydata.org/pandas-docs/stable/generated/pandas.DataFrame.unstack.html#pandas.DataFrame.unstack)**, which by default unstacks the **last level:**"
   ]
  },
  {
   "cell_type": "code",
   "execution_count": 69,
   "metadata": {
    "collapsed": false
   },
   "outputs": [
    {
     "data": {
      "text/html": [
       "<div>\n",
       "<table border=\"1\" class=\"dataframe\">\n",
       "  <thead>\n",
       "    <tr style=\"text-align: right;\">\n",
       "      <th></th>\n",
       "      <th></th>\n",
       "      <th>A</th>\n",
       "      <th>B</th>\n",
       "    </tr>\n",
       "    <tr>\n",
       "      <th>first</th>\n",
       "      <th>second</th>\n",
       "      <th></th>\n",
       "      <th></th>\n",
       "    </tr>\n",
       "  </thead>\n",
       "  <tbody>\n",
       "    <tr>\n",
       "      <th rowspan=\"2\" valign=\"top\">bar</th>\n",
       "      <th>one</th>\n",
       "      <td>-0.283211</td>\n",
       "      <td>0.066034</td>\n",
       "    </tr>\n",
       "    <tr>\n",
       "      <th>two</th>\n",
       "      <td>0.659730</td>\n",
       "      <td>-0.133178</td>\n",
       "    </tr>\n",
       "    <tr>\n",
       "      <th rowspan=\"2\" valign=\"top\">baz</th>\n",
       "      <th>one</th>\n",
       "      <td>0.585934</td>\n",
       "      <td>0.764429</td>\n",
       "    </tr>\n",
       "    <tr>\n",
       "      <th>two</th>\n",
       "      <td>-1.437982</td>\n",
       "      <td>1.544745</td>\n",
       "    </tr>\n",
       "  </tbody>\n",
       "</table>\n",
       "</div>"
      ],
      "text/plain": [
       "                     A         B\n",
       "first second                    \n",
       "bar   one    -0.283211  0.066034\n",
       "      two     0.659730 -0.133178\n",
       "baz   one     0.585934  0.764429\n",
       "      two    -1.437982  1.544745"
      ]
     },
     "execution_count": 69,
     "metadata": {},
     "output_type": "execute_result"
    }
   ],
   "source": [
    "stacked.unstack()"
   ]
  },
  {
   "cell_type": "code",
   "execution_count": 70,
   "metadata": {
    "collapsed": false
   },
   "outputs": [
    {
     "data": {
      "text/html": [
       "<div>\n",
       "<table border=\"1\" class=\"dataframe\">\n",
       "  <thead>\n",
       "    <tr style=\"text-align: right;\">\n",
       "      <th></th>\n",
       "      <th>second</th>\n",
       "      <th>one</th>\n",
       "      <th>two</th>\n",
       "    </tr>\n",
       "    <tr>\n",
       "      <th>first</th>\n",
       "      <th></th>\n",
       "      <th></th>\n",
       "      <th></th>\n",
       "    </tr>\n",
       "  </thead>\n",
       "  <tbody>\n",
       "    <tr>\n",
       "      <th rowspan=\"2\" valign=\"top\">bar</th>\n",
       "      <th>A</th>\n",
       "      <td>-0.283211</td>\n",
       "      <td>0.659730</td>\n",
       "    </tr>\n",
       "    <tr>\n",
       "      <th>B</th>\n",
       "      <td>0.066034</td>\n",
       "      <td>-0.133178</td>\n",
       "    </tr>\n",
       "    <tr>\n",
       "      <th rowspan=\"2\" valign=\"top\">baz</th>\n",
       "      <th>A</th>\n",
       "      <td>0.585934</td>\n",
       "      <td>-1.437982</td>\n",
       "    </tr>\n",
       "    <tr>\n",
       "      <th>B</th>\n",
       "      <td>0.764429</td>\n",
       "      <td>1.544745</td>\n",
       "    </tr>\n",
       "  </tbody>\n",
       "</table>\n",
       "</div>"
      ],
      "text/plain": [
       "second        one       two\n",
       "first                      \n",
       "bar   A -0.283211  0.659730\n",
       "      B  0.066034 -0.133178\n",
       "baz   A  0.585934 -1.437982\n",
       "      B  0.764429  1.544745"
      ]
     },
     "execution_count": 70,
     "metadata": {},
     "output_type": "execute_result"
    }
   ],
   "source": [
    "stacked.unstack(1)"
   ]
  },
  {
   "cell_type": "code",
   "execution_count": 71,
   "metadata": {
    "collapsed": false
   },
   "outputs": [
    {
     "data": {
      "text/html": [
       "<div>\n",
       "<table border=\"1\" class=\"dataframe\">\n",
       "  <thead>\n",
       "    <tr style=\"text-align: right;\">\n",
       "      <th></th>\n",
       "      <th>first</th>\n",
       "      <th>bar</th>\n",
       "      <th>baz</th>\n",
       "    </tr>\n",
       "    <tr>\n",
       "      <th>second</th>\n",
       "      <th></th>\n",
       "      <th></th>\n",
       "      <th></th>\n",
       "    </tr>\n",
       "  </thead>\n",
       "  <tbody>\n",
       "    <tr>\n",
       "      <th rowspan=\"2\" valign=\"top\">one</th>\n",
       "      <th>A</th>\n",
       "      <td>-0.283211</td>\n",
       "      <td>0.585934</td>\n",
       "    </tr>\n",
       "    <tr>\n",
       "      <th>B</th>\n",
       "      <td>0.066034</td>\n",
       "      <td>0.764429</td>\n",
       "    </tr>\n",
       "    <tr>\n",
       "      <th rowspan=\"2\" valign=\"top\">two</th>\n",
       "      <th>A</th>\n",
       "      <td>0.659730</td>\n",
       "      <td>-1.437982</td>\n",
       "    </tr>\n",
       "    <tr>\n",
       "      <th>B</th>\n",
       "      <td>-0.133178</td>\n",
       "      <td>1.544745</td>\n",
       "    </tr>\n",
       "  </tbody>\n",
       "</table>\n",
       "</div>"
      ],
      "text/plain": [
       "first          bar       baz\n",
       "second                      \n",
       "one    A -0.283211  0.585934\n",
       "       B  0.066034  0.764429\n",
       "two    A  0.659730 -1.437982\n",
       "       B -0.133178  1.544745"
      ]
     },
     "execution_count": 71,
     "metadata": {},
     "output_type": "execute_result"
    }
   ],
   "source": [
    "stacked.unstack(0)"
   ]
  },
  {
   "cell_type": "markdown",
   "metadata": {},
   "source": [
    "### Pivot Tables"
   ]
  },
  {
   "cell_type": "markdown",
   "metadata": {},
   "source": [
    "See the section on *[Pivot Tables](http://pandas.pydata.org/pandas-docs/stable/reshaping.html#reshaping-pivot)*."
   ]
  },
  {
   "cell_type": "code",
   "execution_count": 72,
   "metadata": {
    "collapsed": false
   },
   "outputs": [
    {
     "data": {
      "text/html": [
       "<div>\n",
       "<table border=\"1\" class=\"dataframe\">\n",
       "  <thead>\n",
       "    <tr style=\"text-align: right;\">\n",
       "      <th></th>\n",
       "      <th>A</th>\n",
       "      <th>B</th>\n",
       "      <th>C</th>\n",
       "      <th>D</th>\n",
       "      <th>E</th>\n",
       "    </tr>\n",
       "  </thead>\n",
       "  <tbody>\n",
       "    <tr>\n",
       "      <th>0</th>\n",
       "      <td>one</td>\n",
       "      <td>A</td>\n",
       "      <td>foo</td>\n",
       "      <td>-0.838521</td>\n",
       "      <td>0.196732</td>\n",
       "    </tr>\n",
       "    <tr>\n",
       "      <th>1</th>\n",
       "      <td>one</td>\n",
       "      <td>B</td>\n",
       "      <td>foo</td>\n",
       "      <td>-0.479499</td>\n",
       "      <td>0.300596</td>\n",
       "    </tr>\n",
       "    <tr>\n",
       "      <th>2</th>\n",
       "      <td>two</td>\n",
       "      <td>C</td>\n",
       "      <td>foo</td>\n",
       "      <td>0.639016</td>\n",
       "      <td>0.388219</td>\n",
       "    </tr>\n",
       "    <tr>\n",
       "      <th>3</th>\n",
       "      <td>three</td>\n",
       "      <td>A</td>\n",
       "      <td>bar</td>\n",
       "      <td>-1.151870</td>\n",
       "      <td>-0.588326</td>\n",
       "    </tr>\n",
       "    <tr>\n",
       "      <th>4</th>\n",
       "      <td>one</td>\n",
       "      <td>B</td>\n",
       "      <td>bar</td>\n",
       "      <td>-0.621815</td>\n",
       "      <td>1.545994</td>\n",
       "    </tr>\n",
       "    <tr>\n",
       "      <th>5</th>\n",
       "      <td>one</td>\n",
       "      <td>C</td>\n",
       "      <td>bar</td>\n",
       "      <td>-1.846781</td>\n",
       "      <td>-1.015209</td>\n",
       "    </tr>\n",
       "    <tr>\n",
       "      <th>6</th>\n",
       "      <td>two</td>\n",
       "      <td>A</td>\n",
       "      <td>foo</td>\n",
       "      <td>-0.069977</td>\n",
       "      <td>1.036077</td>\n",
       "    </tr>\n",
       "    <tr>\n",
       "      <th>7</th>\n",
       "      <td>three</td>\n",
       "      <td>B</td>\n",
       "      <td>foo</td>\n",
       "      <td>0.828483</td>\n",
       "      <td>-0.692630</td>\n",
       "    </tr>\n",
       "    <tr>\n",
       "      <th>8</th>\n",
       "      <td>one</td>\n",
       "      <td>C</td>\n",
       "      <td>foo</td>\n",
       "      <td>-1.392774</td>\n",
       "      <td>-1.636999</td>\n",
       "    </tr>\n",
       "    <tr>\n",
       "      <th>9</th>\n",
       "      <td>one</td>\n",
       "      <td>A</td>\n",
       "      <td>bar</td>\n",
       "      <td>0.383294</td>\n",
       "      <td>0.429125</td>\n",
       "    </tr>\n",
       "    <tr>\n",
       "      <th>10</th>\n",
       "      <td>two</td>\n",
       "      <td>B</td>\n",
       "      <td>bar</td>\n",
       "      <td>1.268186</td>\n",
       "      <td>0.792338</td>\n",
       "    </tr>\n",
       "    <tr>\n",
       "      <th>11</th>\n",
       "      <td>three</td>\n",
       "      <td>C</td>\n",
       "      <td>bar</td>\n",
       "      <td>-0.161283</td>\n",
       "      <td>0.312764</td>\n",
       "    </tr>\n",
       "  </tbody>\n",
       "</table>\n",
       "</div>"
      ],
      "text/plain": [
       "        A  B    C         D         E\n",
       "0     one  A  foo -0.838521  0.196732\n",
       "1     one  B  foo -0.479499  0.300596\n",
       "2     two  C  foo  0.639016  0.388219\n",
       "3   three  A  bar -1.151870 -0.588326\n",
       "4     one  B  bar -0.621815  1.545994\n",
       "5     one  C  bar -1.846781 -1.015209\n",
       "6     two  A  foo -0.069977  1.036077\n",
       "7   three  B  foo  0.828483 -0.692630\n",
       "8     one  C  foo -1.392774 -1.636999\n",
       "9     one  A  bar  0.383294  0.429125\n",
       "10    two  B  bar  1.268186  0.792338\n",
       "11  three  C  bar -0.161283  0.312764"
      ]
     },
     "execution_count": 72,
     "metadata": {},
     "output_type": "execute_result"
    }
   ],
   "source": [
    "df = pd.DataFrame({'A' : ['one', 'one', 'two', 'three'] * 3,\n",
    "                   'B' : ['A', 'B', 'C'] * 4,\n",
    "                   'C' : ['foo', 'foo', 'foo', 'bar', 'bar', 'bar'] * 2,\n",
    "                   'D' : np.random.randn(12),\n",
    "                   'E' : np.random.randn(12)})\n",
    "df"
   ]
  },
  {
   "cell_type": "markdown",
   "metadata": {},
   "source": [
    "We can produce pivot tables from this data very easily:"
   ]
  },
  {
   "cell_type": "code",
   "execution_count": 73,
   "metadata": {
    "collapsed": false,
    "scrolled": true
   },
   "outputs": [
    {
     "data": {
      "text/html": [
       "<div>\n",
       "<table border=\"1\" class=\"dataframe\">\n",
       "  <thead>\n",
       "    <tr style=\"text-align: right;\">\n",
       "      <th></th>\n",
       "      <th>C</th>\n",
       "      <th>bar</th>\n",
       "      <th>foo</th>\n",
       "    </tr>\n",
       "    <tr>\n",
       "      <th>A</th>\n",
       "      <th>B</th>\n",
       "      <th></th>\n",
       "      <th></th>\n",
       "    </tr>\n",
       "  </thead>\n",
       "  <tbody>\n",
       "    <tr>\n",
       "      <th rowspan=\"3\" valign=\"top\">one</th>\n",
       "      <th>A</th>\n",
       "      <td>0.383294</td>\n",
       "      <td>-0.838521</td>\n",
       "    </tr>\n",
       "    <tr>\n",
       "      <th>B</th>\n",
       "      <td>-0.621815</td>\n",
       "      <td>-0.479499</td>\n",
       "    </tr>\n",
       "    <tr>\n",
       "      <th>C</th>\n",
       "      <td>-1.846781</td>\n",
       "      <td>-1.392774</td>\n",
       "    </tr>\n",
       "    <tr>\n",
       "      <th rowspan=\"3\" valign=\"top\">three</th>\n",
       "      <th>A</th>\n",
       "      <td>-1.151870</td>\n",
       "      <td>NaN</td>\n",
       "    </tr>\n",
       "    <tr>\n",
       "      <th>B</th>\n",
       "      <td>NaN</td>\n",
       "      <td>0.828483</td>\n",
       "    </tr>\n",
       "    <tr>\n",
       "      <th>C</th>\n",
       "      <td>-0.161283</td>\n",
       "      <td>NaN</td>\n",
       "    </tr>\n",
       "    <tr>\n",
       "      <th rowspan=\"3\" valign=\"top\">two</th>\n",
       "      <th>A</th>\n",
       "      <td>NaN</td>\n",
       "      <td>-0.069977</td>\n",
       "    </tr>\n",
       "    <tr>\n",
       "      <th>B</th>\n",
       "      <td>1.268186</td>\n",
       "      <td>NaN</td>\n",
       "    </tr>\n",
       "    <tr>\n",
       "      <th>C</th>\n",
       "      <td>NaN</td>\n",
       "      <td>0.639016</td>\n",
       "    </tr>\n",
       "  </tbody>\n",
       "</table>\n",
       "</div>"
      ],
      "text/plain": [
       "C             bar       foo\n",
       "A     B                    \n",
       "one   A  0.383294 -0.838521\n",
       "      B -0.621815 -0.479499\n",
       "      C -1.846781 -1.392774\n",
       "three A -1.151870       NaN\n",
       "      B       NaN  0.828483\n",
       "      C -0.161283       NaN\n",
       "two   A       NaN -0.069977\n",
       "      B  1.268186       NaN\n",
       "      C       NaN  0.639016"
      ]
     },
     "execution_count": 73,
     "metadata": {},
     "output_type": "execute_result"
    }
   ],
   "source": [
    "pd.pivot_table(df, values='D', index=['A', 'B'], columns=['C'])"
   ]
  },
  {
   "cell_type": "markdown",
   "metadata": {},
   "source": [
    "## Time Series"
   ]
  },
  {
   "cell_type": "markdown",
   "metadata": {},
   "source": [
    "pandas has simple, powerful, and efficient functionality for performing resampling operations during frequency conversion (e.g., converting secondly data into 5-minutely data). This is extremely common in, but not limited to, financial applications. See the *[Time Series section](http://pandas.pydata.org/pandas-docs/stable/timeseries.html#timeseries)*"
   ]
  },
  {
   "cell_type": "code",
   "execution_count": 74,
   "metadata": {
    "collapsed": false
   },
   "outputs": [
    {
     "data": {
      "text/plain": [
       "2016-11-09    27169\n",
       "Freq: 5T, dtype: int32"
      ]
     },
     "execution_count": 74,
     "metadata": {},
     "output_type": "execute_result"
    }
   ],
   "source": [
    "rng = pd.date_range('11/09/2016', periods=100, freq='S')\n",
    "ts = pd.Series(np.random.randint(0, 500, len(rng)), index=rng)\n",
    "ts.resample('5Min').sum()"
   ]
  },
  {
   "cell_type": "markdown",
   "metadata": {},
   "source": [
    "Time zone representation"
   ]
  },
  {
   "cell_type": "code",
   "execution_count": 75,
   "metadata": {
    "collapsed": false
   },
   "outputs": [
    {
     "data": {
      "text/plain": [
       "2016-09-13    0.059407\n",
       "2016-09-14   -0.665813\n",
       "2016-09-15    0.362487\n",
       "2016-09-16    0.442264\n",
       "2016-09-17    0.653662\n",
       "Freq: D, dtype: float64"
      ]
     },
     "execution_count": 75,
     "metadata": {},
     "output_type": "execute_result"
    }
   ],
   "source": [
    "rng = pd.date_range('13/09/2016 00:00', periods=5, freq='D')\n",
    "ts = pd.Series(np.random.randn(len(rng)), rng)\n",
    "ts"
   ]
  },
  {
   "cell_type": "code",
   "execution_count": 76,
   "metadata": {
    "collapsed": false
   },
   "outputs": [
    {
     "data": {
      "text/plain": [
       "2016-09-13 00:00:00+00:00    0.059407\n",
       "2016-09-14 00:00:00+00:00   -0.665813\n",
       "2016-09-15 00:00:00+00:00    0.362487\n",
       "2016-09-16 00:00:00+00:00    0.442264\n",
       "2016-09-17 00:00:00+00:00    0.653662\n",
       "Freq: D, dtype: float64"
      ]
     },
     "execution_count": 76,
     "metadata": {},
     "output_type": "execute_result"
    }
   ],
   "source": [
    "ts_utc = ts.tz_localize('UTC')\n",
    "ts_utc"
   ]
  },
  {
   "cell_type": "markdown",
   "metadata": {},
   "source": [
    "Convert to another time zone"
   ]
  },
  {
   "cell_type": "code",
   "execution_count": 77,
   "metadata": {
    "collapsed": false
   },
   "outputs": [
    {
     "data": {
      "text/plain": [
       "2016-09-12 20:00:00-04:00    0.059407\n",
       "2016-09-13 20:00:00-04:00   -0.665813\n",
       "2016-09-14 20:00:00-04:00    0.362487\n",
       "2016-09-15 20:00:00-04:00    0.442264\n",
       "2016-09-16 20:00:00-04:00    0.653662\n",
       "Freq: D, dtype: float64"
      ]
     },
     "execution_count": 77,
     "metadata": {},
     "output_type": "execute_result"
    }
   ],
   "source": [
    "ts_utc.tz_convert('US/Eastern')"
   ]
  },
  {
   "cell_type": "markdown",
   "metadata": {},
   "source": [
    "Converting between time span representations"
   ]
  },
  {
   "cell_type": "code",
   "execution_count": 78,
   "metadata": {
    "collapsed": false
   },
   "outputs": [
    {
     "data": {
      "text/plain": [
       "2016-11-30    1.430214\n",
       "2016-12-31   -0.542578\n",
       "2017-01-31    0.384792\n",
       "2017-02-28    0.694797\n",
       "2017-03-31   -0.354196\n",
       "Freq: M, dtype: float64"
      ]
     },
     "execution_count": 78,
     "metadata": {},
     "output_type": "execute_result"
    }
   ],
   "source": [
    "rng = pd.date_range('11/09/2016', periods=5, freq='M')\n",
    "ts = pd.Series(np.random.randn(len(rng)), index=rng)\n",
    "ts"
   ]
  },
  {
   "cell_type": "code",
   "execution_count": 79,
   "metadata": {
    "collapsed": false
   },
   "outputs": [
    {
     "data": {
      "text/plain": [
       "2016-11    1.430214\n",
       "2016-12   -0.542578\n",
       "2017-01    0.384792\n",
       "2017-02    0.694797\n",
       "2017-03   -0.354196\n",
       "Freq: M, dtype: float64"
      ]
     },
     "execution_count": 79,
     "metadata": {},
     "output_type": "execute_result"
    }
   ],
   "source": [
    "ps = ts.to_period()\n",
    "ps"
   ]
  },
  {
   "cell_type": "code",
   "execution_count": 80,
   "metadata": {
    "collapsed": false
   },
   "outputs": [
    {
     "data": {
      "text/plain": [
       "2016-11-01    1.430214\n",
       "2016-12-01   -0.542578\n",
       "2017-01-01    0.384792\n",
       "2017-02-01    0.694797\n",
       "2017-03-01   -0.354196\n",
       "Freq: MS, dtype: float64"
      ]
     },
     "execution_count": 80,
     "metadata": {},
     "output_type": "execute_result"
    }
   ],
   "source": [
    "ps.to_timestamp()"
   ]
  },
  {
   "cell_type": "markdown",
   "metadata": {},
   "source": [
    "Converting between period and timestamp enables some convenient arithmetic functions to be used. In the following example, we convert a quarterly frequency with year ending in November to 9am of the end of the month following the quarter end:"
   ]
  },
  {
   "cell_type": "code",
   "execution_count": 81,
   "metadata": {
    "collapsed": false
   },
   "outputs": [
    {
     "data": {
      "text/plain": [
       "1990-03-01 09:00   -0.234071\n",
       "1990-06-01 09:00    0.670755\n",
       "1990-09-01 09:00    1.122715\n",
       "1990-12-01 09:00    0.780259\n",
       "1991-03-01 09:00    0.780369\n",
       "Freq: H, dtype: float64"
      ]
     },
     "execution_count": 81,
     "metadata": {},
     "output_type": "execute_result"
    }
   ],
   "source": [
    "prng = pd.period_range('1990Q1', '2000Q4', freq='Q-NOV')\n",
    "ts = pd.Series(np.random.randn(len(prng)), prng)\n",
    "ts.index = (prng.asfreq('M', 'e') + 1).asfreq('H', 's') + 9\n",
    "ts.head()"
   ]
  },
  {
   "cell_type": "markdown",
   "metadata": {},
   "source": [
    "## Categoricals"
   ]
  },
  {
   "cell_type": "markdown",
   "metadata": {},
   "source": [
    "Since version 0.15, pandas can include categorical data in a DataFrame. For full docs, see the *[categorical introduction](http://pandas.pydata.org/pandas-docs/stable/categorical.html#categorical)* and the *[API documentation](http://pandas.pydata.org/pandas-docs/stable/api.html#api-categorical)*."
   ]
  },
  {
   "cell_type": "code",
   "execution_count": 82,
   "metadata": {
    "collapsed": true
   },
   "outputs": [],
   "source": [
    "df = pd.DataFrame({\"id\":[1,2,3,4,5,6], \"raw_grade\":['a', 'b', 'b', 'a', 'a', 'e']})"
   ]
  },
  {
   "cell_type": "markdown",
   "metadata": {},
   "source": [
    "Convert the raw grades to a categorical data type."
   ]
  },
  {
   "cell_type": "code",
   "execution_count": 83,
   "metadata": {
    "collapsed": false
   },
   "outputs": [
    {
     "data": {
      "text/plain": [
       "0    a\n",
       "1    b\n",
       "2    b\n",
       "3    a\n",
       "4    a\n",
       "5    e\n",
       "Name: grade, dtype: category\n",
       "Categories (3, object): [a, b, e]"
      ]
     },
     "execution_count": 83,
     "metadata": {},
     "output_type": "execute_result"
    }
   ],
   "source": [
    "df[\"grade\"] = df[\"raw_grade\"].astype(\"category\")\n",
    "df[\"grade\"]"
   ]
  },
  {
   "cell_type": "markdown",
   "metadata": {},
   "source": [
    "Rename the categories to more meaningful names (assigning to Series.cat.categories is inplace!)"
   ]
  },
  {
   "cell_type": "code",
   "execution_count": 84,
   "metadata": {
    "collapsed": true
   },
   "outputs": [],
   "source": [
    "df[\"grade\"].cat.categories = [\"very good\", \"good\", \"very bad\"]"
   ]
  },
  {
   "cell_type": "markdown",
   "metadata": {},
   "source": [
    "Reorder the categories and simultaneously add the missing categories (methods under Series .cat return a new Series per default)."
   ]
  },
  {
   "cell_type": "code",
   "execution_count": 85,
   "metadata": {
    "collapsed": false
   },
   "outputs": [
    {
     "data": {
      "text/plain": [
       "0    very good\n",
       "1         good\n",
       "2         good\n",
       "3    very good\n",
       "4    very good\n",
       "5     very bad\n",
       "Name: grade, dtype: category\n",
       "Categories (5, object): [very bad, bad, medium, good, very good]"
      ]
     },
     "execution_count": 85,
     "metadata": {},
     "output_type": "execute_result"
    }
   ],
   "source": [
    "df[\"grade\"] = df[\"grade\"].cat.set_categories([\"very bad\", \"bad\", \"medium\", \"good\", \"very good\"])\n",
    "df[\"grade\"]"
   ]
  },
  {
   "cell_type": "markdown",
   "metadata": {},
   "source": [
    "Sorting is per order in the categories, not lexical order."
   ]
  },
  {
   "cell_type": "code",
   "execution_count": 86,
   "metadata": {
    "collapsed": false
   },
   "outputs": [
    {
     "data": {
      "text/html": [
       "<div>\n",
       "<table border=\"1\" class=\"dataframe\">\n",
       "  <thead>\n",
       "    <tr style=\"text-align: right;\">\n",
       "      <th></th>\n",
       "      <th>id</th>\n",
       "      <th>raw_grade</th>\n",
       "      <th>grade</th>\n",
       "    </tr>\n",
       "  </thead>\n",
       "  <tbody>\n",
       "    <tr>\n",
       "      <th>5</th>\n",
       "      <td>6</td>\n",
       "      <td>e</td>\n",
       "      <td>very bad</td>\n",
       "    </tr>\n",
       "    <tr>\n",
       "      <th>1</th>\n",
       "      <td>2</td>\n",
       "      <td>b</td>\n",
       "      <td>good</td>\n",
       "    </tr>\n",
       "    <tr>\n",
       "      <th>2</th>\n",
       "      <td>3</td>\n",
       "      <td>b</td>\n",
       "      <td>good</td>\n",
       "    </tr>\n",
       "    <tr>\n",
       "      <th>0</th>\n",
       "      <td>1</td>\n",
       "      <td>a</td>\n",
       "      <td>very good</td>\n",
       "    </tr>\n",
       "    <tr>\n",
       "      <th>3</th>\n",
       "      <td>4</td>\n",
       "      <td>a</td>\n",
       "      <td>very good</td>\n",
       "    </tr>\n",
       "    <tr>\n",
       "      <th>4</th>\n",
       "      <td>5</td>\n",
       "      <td>a</td>\n",
       "      <td>very good</td>\n",
       "    </tr>\n",
       "  </tbody>\n",
       "</table>\n",
       "</div>"
      ],
      "text/plain": [
       "   id raw_grade      grade\n",
       "5   6         e   very bad\n",
       "1   2         b       good\n",
       "2   3         b       good\n",
       "0   1         a  very good\n",
       "3   4         a  very good\n",
       "4   5         a  very good"
      ]
     },
     "execution_count": 86,
     "metadata": {},
     "output_type": "execute_result"
    }
   ],
   "source": [
    "df.sort_values(by=\"grade\")"
   ]
  },
  {
   "cell_type": "markdown",
   "metadata": {},
   "source": [
    "Grouping by a categorical column shows also empty categories."
   ]
  },
  {
   "cell_type": "code",
   "execution_count": 87,
   "metadata": {
    "collapsed": false
   },
   "outputs": [
    {
     "data": {
      "text/plain": [
       "grade\n",
       "very bad     1\n",
       "bad          0\n",
       "medium       0\n",
       "good         2\n",
       "very good    3\n",
       "dtype: int64"
      ]
     },
     "execution_count": 87,
     "metadata": {},
     "output_type": "execute_result"
    }
   ],
   "source": [
    "df.groupby(\"grade\").size()"
   ]
  },
  {
   "cell_type": "markdown",
   "metadata": {},
   "source": [
    "## Plotting"
   ]
  },
  {
   "cell_type": "markdown",
   "metadata": {},
   "source": [
    "*[Plotting](http://pandas.pydata.org/pandas-docs/stable/visualization.html#visualization)* docs."
   ]
  },
  {
   "cell_type": "code",
   "execution_count": 88,
   "metadata": {
    "collapsed": false
   },
   "outputs": [
    {
     "data": {
      "text/plain": [
       "<matplotlib.axes._subplots.AxesSubplot at 0x720af50>"
      ]
     },
     "execution_count": 88,
     "metadata": {},
     "output_type": "execute_result"
    }
   ],
   "source": [
    "ts = pd.Series(np.random.randn(1000), index=pd.date_range('1/1/2000', periods=1000))\n",
    "ts = ts.cumsum()\n",
    "ts.plot()"
   ]
  },
  {
   "cell_type": "markdown",
   "metadata": {},
   "source": [
    "On DataFrame, **[plot()](http://pandas.pydata.org/pandas-docs/stable/generated/pandas.DataFrame.plot.html#pandas.DataFrame.plot)** is a convenience to plot all of the columns with labels:"
   ]
  },
  {
   "cell_type": "code",
   "execution_count": 89,
   "metadata": {
    "collapsed": false
   },
   "outputs": [
    {
     "data": {
      "text/plain": [
       "<matplotlib.legend.Legend at 0x73c6a10>"
      ]
     },
     "execution_count": 89,
     "metadata": {},
     "output_type": "execute_result"
    }
   ],
   "source": [
    "df = pd.DataFrame(np.random.randn(1000, 4), index=ts.index,\n",
    "                  columns=['A', 'B', 'C', 'D'])\n",
    "df = df.cumsum()\n",
    "plt.figure(); df.plot(); plt.legend(loc='best')"
   ]
  },
  {
   "cell_type": "markdown",
   "metadata": {},
   "source": [
    "## Getting Data In/Out"
   ]
  },
  {
   "cell_type": "markdown",
   "metadata": {},
   "source": [
    "### CSV"
   ]
  },
  {
   "cell_type": "markdown",
   "metadata": {},
   "source": [
    "*[Writing to a csv file](http://pandas.pydata.org/pandas-docs/stable/io.html#io-store-in-csv)*"
   ]
  },
  {
   "cell_type": "code",
   "execution_count": 90,
   "metadata": {
    "collapsed": true
   },
   "outputs": [],
   "source": [
    "df.to_csv('foo.csv')"
   ]
  },
  {
   "cell_type": "markdown",
   "metadata": {},
   "source": [
    "*[Reading from a csv file](http://pandas.pydata.org/pandas-docs/stable/io.html#io-read-csv-table)*"
   ]
  },
  {
   "cell_type": "code",
   "execution_count": 91,
   "metadata": {
    "collapsed": false
   },
   "outputs": [
    {
     "data": {
      "text/html": [
       "<div>\n",
       "<table border=\"1\" class=\"dataframe\">\n",
       "  <thead>\n",
       "    <tr style=\"text-align: right;\">\n",
       "      <th></th>\n",
       "      <th>Unnamed: 0</th>\n",
       "      <th>A</th>\n",
       "      <th>B</th>\n",
       "      <th>C</th>\n",
       "      <th>D</th>\n",
       "    </tr>\n",
       "  </thead>\n",
       "  <tbody>\n",
       "    <tr>\n",
       "      <th>0</th>\n",
       "      <td>2000-01-01</td>\n",
       "      <td>0.588326</td>\n",
       "      <td>0.176119</td>\n",
       "      <td>-1.112032</td>\n",
       "      <td>-0.781756</td>\n",
       "    </tr>\n",
       "    <tr>\n",
       "      <th>1</th>\n",
       "      <td>2000-01-02</td>\n",
       "      <td>1.787147</td>\n",
       "      <td>-1.786292</td>\n",
       "      <td>-1.755992</td>\n",
       "      <td>-0.920506</td>\n",
       "    </tr>\n",
       "    <tr>\n",
       "      <th>2</th>\n",
       "      <td>2000-01-03</td>\n",
       "      <td>2.361067</td>\n",
       "      <td>-2.125040</td>\n",
       "      <td>-2.523173</td>\n",
       "      <td>-0.356203</td>\n",
       "    </tr>\n",
       "    <tr>\n",
       "      <th>3</th>\n",
       "      <td>2000-01-04</td>\n",
       "      <td>1.866736</td>\n",
       "      <td>-1.444381</td>\n",
       "      <td>-2.170141</td>\n",
       "      <td>0.392747</td>\n",
       "    </tr>\n",
       "    <tr>\n",
       "      <th>4</th>\n",
       "      <td>2000-01-05</td>\n",
       "      <td>4.287767</td>\n",
       "      <td>-2.606854</td>\n",
       "      <td>-3.665608</td>\n",
       "      <td>2.871916</td>\n",
       "    </tr>\n",
       "    <tr>\n",
       "      <th>5</th>\n",
       "      <td>2000-01-06</td>\n",
       "      <td>3.561976</td>\n",
       "      <td>-4.169602</td>\n",
       "      <td>-4.900702</td>\n",
       "      <td>3.408198</td>\n",
       "    </tr>\n",
       "    <tr>\n",
       "      <th>6</th>\n",
       "      <td>2000-01-07</td>\n",
       "      <td>3.348639</td>\n",
       "      <td>-3.828442</td>\n",
       "      <td>-5.342822</td>\n",
       "      <td>4.169734</td>\n",
       "    </tr>\n",
       "    <tr>\n",
       "      <th>7</th>\n",
       "      <td>2000-01-08</td>\n",
       "      <td>3.721827</td>\n",
       "      <td>-3.075071</td>\n",
       "      <td>-6.064197</td>\n",
       "      <td>5.305389</td>\n",
       "    </tr>\n",
       "    <tr>\n",
       "      <th>8</th>\n",
       "      <td>2000-01-09</td>\n",
       "      <td>3.366837</td>\n",
       "      <td>-2.793937</td>\n",
       "      <td>-5.553034</td>\n",
       "      <td>6.395656</td>\n",
       "    </tr>\n",
       "    <tr>\n",
       "      <th>9</th>\n",
       "      <td>2000-01-10</td>\n",
       "      <td>4.704948</td>\n",
       "      <td>-4.351980</td>\n",
       "      <td>-5.107926</td>\n",
       "      <td>6.465528</td>\n",
       "    </tr>\n",
       "    <tr>\n",
       "      <th>10</th>\n",
       "      <td>2000-01-11</td>\n",
       "      <td>4.624377</td>\n",
       "      <td>-2.510391</td>\n",
       "      <td>-4.570263</td>\n",
       "      <td>6.854977</td>\n",
       "    </tr>\n",
       "    <tr>\n",
       "      <th>11</th>\n",
       "      <td>2000-01-12</td>\n",
       "      <td>5.261082</td>\n",
       "      <td>-2.101336</td>\n",
       "      <td>-3.478748</td>\n",
       "      <td>7.398561</td>\n",
       "    </tr>\n",
       "    <tr>\n",
       "      <th>12</th>\n",
       "      <td>2000-01-13</td>\n",
       "      <td>4.668454</td>\n",
       "      <td>-1.944751</td>\n",
       "      <td>-2.409314</td>\n",
       "      <td>6.947614</td>\n",
       "    </tr>\n",
       "    <tr>\n",
       "      <th>13</th>\n",
       "      <td>2000-01-14</td>\n",
       "      <td>3.730626</td>\n",
       "      <td>-3.000031</td>\n",
       "      <td>-4.260730</td>\n",
       "      <td>7.261492</td>\n",
       "    </tr>\n",
       "    <tr>\n",
       "      <th>14</th>\n",
       "      <td>2000-01-15</td>\n",
       "      <td>5.484070</td>\n",
       "      <td>-2.499443</td>\n",
       "      <td>-4.242960</td>\n",
       "      <td>5.501969</td>\n",
       "    </tr>\n",
       "    <tr>\n",
       "      <th>15</th>\n",
       "      <td>2000-01-16</td>\n",
       "      <td>5.081056</td>\n",
       "      <td>-3.810314</td>\n",
       "      <td>-4.455607</td>\n",
       "      <td>5.802618</td>\n",
       "    </tr>\n",
       "    <tr>\n",
       "      <th>16</th>\n",
       "      <td>2000-01-17</td>\n",
       "      <td>5.438831</td>\n",
       "      <td>-3.290017</td>\n",
       "      <td>-4.709719</td>\n",
       "      <td>6.381166</td>\n",
       "    </tr>\n",
       "    <tr>\n",
       "      <th>17</th>\n",
       "      <td>2000-01-18</td>\n",
       "      <td>5.528038</td>\n",
       "      <td>-2.621626</td>\n",
       "      <td>-3.900362</td>\n",
       "      <td>5.893110</td>\n",
       "    </tr>\n",
       "    <tr>\n",
       "      <th>18</th>\n",
       "      <td>2000-01-19</td>\n",
       "      <td>4.878968</td>\n",
       "      <td>-2.989797</td>\n",
       "      <td>-4.529704</td>\n",
       "      <td>4.710176</td>\n",
       "    </tr>\n",
       "    <tr>\n",
       "      <th>19</th>\n",
       "      <td>2000-01-20</td>\n",
       "      <td>4.205925</td>\n",
       "      <td>-1.849449</td>\n",
       "      <td>-6.135930</td>\n",
       "      <td>5.345296</td>\n",
       "    </tr>\n",
       "    <tr>\n",
       "      <th>20</th>\n",
       "      <td>2000-01-21</td>\n",
       "      <td>3.951398</td>\n",
       "      <td>-2.451613</td>\n",
       "      <td>-6.589784</td>\n",
       "      <td>6.127156</td>\n",
       "    </tr>\n",
       "    <tr>\n",
       "      <th>21</th>\n",
       "      <td>2000-01-22</td>\n",
       "      <td>2.685296</td>\n",
       "      <td>-1.862347</td>\n",
       "      <td>-7.309833</td>\n",
       "      <td>6.205350</td>\n",
       "    </tr>\n",
       "    <tr>\n",
       "      <th>22</th>\n",
       "      <td>2000-01-23</td>\n",
       "      <td>3.333610</td>\n",
       "      <td>-0.801743</td>\n",
       "      <td>-8.900903</td>\n",
       "      <td>5.466769</td>\n",
       "    </tr>\n",
       "    <tr>\n",
       "      <th>23</th>\n",
       "      <td>2000-01-24</td>\n",
       "      <td>3.782130</td>\n",
       "      <td>-0.979587</td>\n",
       "      <td>-6.759256</td>\n",
       "      <td>6.227324</td>\n",
       "    </tr>\n",
       "    <tr>\n",
       "      <th>24</th>\n",
       "      <td>2000-01-25</td>\n",
       "      <td>3.945049</td>\n",
       "      <td>-1.294694</td>\n",
       "      <td>-7.054210</td>\n",
       "      <td>5.179351</td>\n",
       "    </tr>\n",
       "    <tr>\n",
       "      <th>25</th>\n",
       "      <td>2000-01-26</td>\n",
       "      <td>3.257225</td>\n",
       "      <td>-0.453106</td>\n",
       "      <td>-6.724254</td>\n",
       "      <td>5.760077</td>\n",
       "    </tr>\n",
       "    <tr>\n",
       "      <th>26</th>\n",
       "      <td>2000-01-27</td>\n",
       "      <td>3.308906</td>\n",
       "      <td>0.319931</td>\n",
       "      <td>-6.201709</td>\n",
       "      <td>6.854866</td>\n",
       "    </tr>\n",
       "    <tr>\n",
       "      <th>27</th>\n",
       "      <td>2000-01-28</td>\n",
       "      <td>3.288681</td>\n",
       "      <td>0.545141</td>\n",
       "      <td>-7.234857</td>\n",
       "      <td>5.738993</td>\n",
       "    </tr>\n",
       "    <tr>\n",
       "      <th>28</th>\n",
       "      <td>2000-01-29</td>\n",
       "      <td>2.679075</td>\n",
       "      <td>0.862002</td>\n",
       "      <td>-7.474431</td>\n",
       "      <td>6.100277</td>\n",
       "    </tr>\n",
       "    <tr>\n",
       "      <th>29</th>\n",
       "      <td>2000-01-30</td>\n",
       "      <td>1.687744</td>\n",
       "      <td>0.880051</td>\n",
       "      <td>-6.954254</td>\n",
       "      <td>7.477527</td>\n",
       "    </tr>\n",
       "    <tr>\n",
       "      <th>...</th>\n",
       "      <td>...</td>\n",
       "      <td>...</td>\n",
       "      <td>...</td>\n",
       "      <td>...</td>\n",
       "      <td>...</td>\n",
       "    </tr>\n",
       "    <tr>\n",
       "      <th>970</th>\n",
       "      <td>2002-08-28</td>\n",
       "      <td>37.225208</td>\n",
       "      <td>42.147804</td>\n",
       "      <td>25.689992</td>\n",
       "      <td>-31.953129</td>\n",
       "    </tr>\n",
       "    <tr>\n",
       "      <th>971</th>\n",
       "      <td>2002-08-29</td>\n",
       "      <td>37.522208</td>\n",
       "      <td>41.245507</td>\n",
       "      <td>25.212575</td>\n",
       "      <td>-30.804316</td>\n",
       "    </tr>\n",
       "    <tr>\n",
       "      <th>972</th>\n",
       "      <td>2002-08-30</td>\n",
       "      <td>37.042231</td>\n",
       "      <td>39.734786</td>\n",
       "      <td>24.462866</td>\n",
       "      <td>-29.959679</td>\n",
       "    </tr>\n",
       "    <tr>\n",
       "      <th>973</th>\n",
       "      <td>2002-08-31</td>\n",
       "      <td>38.108163</td>\n",
       "      <td>40.190831</td>\n",
       "      <td>22.938734</td>\n",
       "      <td>-28.920895</td>\n",
       "    </tr>\n",
       "    <tr>\n",
       "      <th>974</th>\n",
       "      <td>2002-09-01</td>\n",
       "      <td>37.000412</td>\n",
       "      <td>39.967941</td>\n",
       "      <td>22.993469</td>\n",
       "      <td>-28.732170</td>\n",
       "    </tr>\n",
       "    <tr>\n",
       "      <th>975</th>\n",
       "      <td>2002-09-02</td>\n",
       "      <td>36.075304</td>\n",
       "      <td>38.983160</td>\n",
       "      <td>22.425495</td>\n",
       "      <td>-27.023249</td>\n",
       "    </tr>\n",
       "    <tr>\n",
       "      <th>976</th>\n",
       "      <td>2002-09-03</td>\n",
       "      <td>36.132862</td>\n",
       "      <td>39.867969</td>\n",
       "      <td>21.531151</td>\n",
       "      <td>-26.112269</td>\n",
       "    </tr>\n",
       "    <tr>\n",
       "      <th>977</th>\n",
       "      <td>2002-09-04</td>\n",
       "      <td>35.219153</td>\n",
       "      <td>39.391924</td>\n",
       "      <td>22.076749</td>\n",
       "      <td>-26.097241</td>\n",
       "    </tr>\n",
       "    <tr>\n",
       "      <th>978</th>\n",
       "      <td>2002-09-05</td>\n",
       "      <td>35.987888</td>\n",
       "      <td>37.783906</td>\n",
       "      <td>21.234833</td>\n",
       "      <td>-25.477246</td>\n",
       "    </tr>\n",
       "    <tr>\n",
       "      <th>979</th>\n",
       "      <td>2002-09-06</td>\n",
       "      <td>35.535670</td>\n",
       "      <td>37.927259</td>\n",
       "      <td>20.291275</td>\n",
       "      <td>-24.915840</td>\n",
       "    </tr>\n",
       "    <tr>\n",
       "      <th>980</th>\n",
       "      <td>2002-09-07</td>\n",
       "      <td>36.103580</td>\n",
       "      <td>36.182909</td>\n",
       "      <td>21.975396</td>\n",
       "      <td>-23.722400</td>\n",
       "    </tr>\n",
       "    <tr>\n",
       "      <th>981</th>\n",
       "      <td>2002-09-08</td>\n",
       "      <td>35.253216</td>\n",
       "      <td>37.900214</td>\n",
       "      <td>21.766125</td>\n",
       "      <td>-24.430505</td>\n",
       "    </tr>\n",
       "    <tr>\n",
       "      <th>982</th>\n",
       "      <td>2002-09-09</td>\n",
       "      <td>34.833425</td>\n",
       "      <td>37.723974</td>\n",
       "      <td>20.121246</td>\n",
       "      <td>-24.376134</td>\n",
       "    </tr>\n",
       "    <tr>\n",
       "      <th>983</th>\n",
       "      <td>2002-09-10</td>\n",
       "      <td>34.490955</td>\n",
       "      <td>35.771535</td>\n",
       "      <td>20.905088</td>\n",
       "      <td>-24.006456</td>\n",
       "    </tr>\n",
       "    <tr>\n",
       "      <th>984</th>\n",
       "      <td>2002-09-11</td>\n",
       "      <td>34.263904</td>\n",
       "      <td>34.651383</td>\n",
       "      <td>22.565808</td>\n",
       "      <td>-25.163998</td>\n",
       "    </tr>\n",
       "    <tr>\n",
       "      <th>985</th>\n",
       "      <td>2002-09-12</td>\n",
       "      <td>34.187067</td>\n",
       "      <td>34.458027</td>\n",
       "      <td>23.828934</td>\n",
       "      <td>-25.383218</td>\n",
       "    </tr>\n",
       "    <tr>\n",
       "      <th>986</th>\n",
       "      <td>2002-09-13</td>\n",
       "      <td>33.346163</td>\n",
       "      <td>34.915648</td>\n",
       "      <td>24.915727</td>\n",
       "      <td>-25.395224</td>\n",
       "    </tr>\n",
       "    <tr>\n",
       "      <th>987</th>\n",
       "      <td>2002-09-14</td>\n",
       "      <td>32.900190</td>\n",
       "      <td>33.218170</td>\n",
       "      <td>25.275083</td>\n",
       "      <td>-24.158874</td>\n",
       "    </tr>\n",
       "    <tr>\n",
       "      <th>988</th>\n",
       "      <td>2002-09-15</td>\n",
       "      <td>34.641006</td>\n",
       "      <td>31.924415</td>\n",
       "      <td>23.809489</td>\n",
       "      <td>-24.661637</td>\n",
       "    </tr>\n",
       "    <tr>\n",
       "      <th>989</th>\n",
       "      <td>2002-09-16</td>\n",
       "      <td>35.306622</td>\n",
       "      <td>32.033829</td>\n",
       "      <td>24.313817</td>\n",
       "      <td>-24.616696</td>\n",
       "    </tr>\n",
       "    <tr>\n",
       "      <th>990</th>\n",
       "      <td>2002-09-17</td>\n",
       "      <td>36.699249</td>\n",
       "      <td>32.539651</td>\n",
       "      <td>25.512002</td>\n",
       "      <td>-25.518301</td>\n",
       "    </tr>\n",
       "    <tr>\n",
       "      <th>991</th>\n",
       "      <td>2002-09-18</td>\n",
       "      <td>34.614387</td>\n",
       "      <td>29.864879</td>\n",
       "      <td>26.134281</td>\n",
       "      <td>-25.772950</td>\n",
       "    </tr>\n",
       "    <tr>\n",
       "      <th>992</th>\n",
       "      <td>2002-09-19</td>\n",
       "      <td>35.528234</td>\n",
       "      <td>31.002440</td>\n",
       "      <td>25.901149</td>\n",
       "      <td>-25.429756</td>\n",
       "    </tr>\n",
       "    <tr>\n",
       "      <th>993</th>\n",
       "      <td>2002-09-20</td>\n",
       "      <td>35.958512</td>\n",
       "      <td>29.863780</td>\n",
       "      <td>25.636630</td>\n",
       "      <td>-25.634784</td>\n",
       "    </tr>\n",
       "    <tr>\n",
       "      <th>994</th>\n",
       "      <td>2002-09-21</td>\n",
       "      <td>33.606211</td>\n",
       "      <td>28.734405</td>\n",
       "      <td>27.164106</td>\n",
       "      <td>-26.254035</td>\n",
       "    </tr>\n",
       "    <tr>\n",
       "      <th>995</th>\n",
       "      <td>2002-09-22</td>\n",
       "      <td>32.677785</td>\n",
       "      <td>28.507324</td>\n",
       "      <td>27.576422</td>\n",
       "      <td>-25.204780</td>\n",
       "    </tr>\n",
       "    <tr>\n",
       "      <th>996</th>\n",
       "      <td>2002-09-23</td>\n",
       "      <td>31.408383</td>\n",
       "      <td>30.598357</td>\n",
       "      <td>27.905473</td>\n",
       "      <td>-25.868983</td>\n",
       "    </tr>\n",
       "    <tr>\n",
       "      <th>997</th>\n",
       "      <td>2002-09-24</td>\n",
       "      <td>30.582694</td>\n",
       "      <td>29.001341</td>\n",
       "      <td>27.799825</td>\n",
       "      <td>-26.773486</td>\n",
       "    </tr>\n",
       "    <tr>\n",
       "      <th>998</th>\n",
       "      <td>2002-09-25</td>\n",
       "      <td>29.194993</td>\n",
       "      <td>29.387047</td>\n",
       "      <td>28.062325</td>\n",
       "      <td>-27.178912</td>\n",
       "    </tr>\n",
       "    <tr>\n",
       "      <th>999</th>\n",
       "      <td>2002-09-26</td>\n",
       "      <td>30.001737</td>\n",
       "      <td>29.354151</td>\n",
       "      <td>28.041239</td>\n",
       "      <td>-25.000378</td>\n",
       "    </tr>\n",
       "  </tbody>\n",
       "</table>\n",
       "<p>1000 rows × 5 columns</p>\n",
       "</div>"
      ],
      "text/plain": [
       "     Unnamed: 0          A          B          C          D\n",
       "0    2000-01-01   0.588326   0.176119  -1.112032  -0.781756\n",
       "1    2000-01-02   1.787147  -1.786292  -1.755992  -0.920506\n",
       "2    2000-01-03   2.361067  -2.125040  -2.523173  -0.356203\n",
       "3    2000-01-04   1.866736  -1.444381  -2.170141   0.392747\n",
       "4    2000-01-05   4.287767  -2.606854  -3.665608   2.871916\n",
       "5    2000-01-06   3.561976  -4.169602  -4.900702   3.408198\n",
       "6    2000-01-07   3.348639  -3.828442  -5.342822   4.169734\n",
       "7    2000-01-08   3.721827  -3.075071  -6.064197   5.305389\n",
       "8    2000-01-09   3.366837  -2.793937  -5.553034   6.395656\n",
       "9    2000-01-10   4.704948  -4.351980  -5.107926   6.465528\n",
       "10   2000-01-11   4.624377  -2.510391  -4.570263   6.854977\n",
       "11   2000-01-12   5.261082  -2.101336  -3.478748   7.398561\n",
       "12   2000-01-13   4.668454  -1.944751  -2.409314   6.947614\n",
       "13   2000-01-14   3.730626  -3.000031  -4.260730   7.261492\n",
       "14   2000-01-15   5.484070  -2.499443  -4.242960   5.501969\n",
       "15   2000-01-16   5.081056  -3.810314  -4.455607   5.802618\n",
       "16   2000-01-17   5.438831  -3.290017  -4.709719   6.381166\n",
       "17   2000-01-18   5.528038  -2.621626  -3.900362   5.893110\n",
       "18   2000-01-19   4.878968  -2.989797  -4.529704   4.710176\n",
       "19   2000-01-20   4.205925  -1.849449  -6.135930   5.345296\n",
       "20   2000-01-21   3.951398  -2.451613  -6.589784   6.127156\n",
       "21   2000-01-22   2.685296  -1.862347  -7.309833   6.205350\n",
       "22   2000-01-23   3.333610  -0.801743  -8.900903   5.466769\n",
       "23   2000-01-24   3.782130  -0.979587  -6.759256   6.227324\n",
       "24   2000-01-25   3.945049  -1.294694  -7.054210   5.179351\n",
       "25   2000-01-26   3.257225  -0.453106  -6.724254   5.760077\n",
       "26   2000-01-27   3.308906   0.319931  -6.201709   6.854866\n",
       "27   2000-01-28   3.288681   0.545141  -7.234857   5.738993\n",
       "28   2000-01-29   2.679075   0.862002  -7.474431   6.100277\n",
       "29   2000-01-30   1.687744   0.880051  -6.954254   7.477527\n",
       "..          ...        ...        ...        ...        ...\n",
       "970  2002-08-28  37.225208  42.147804  25.689992 -31.953129\n",
       "971  2002-08-29  37.522208  41.245507  25.212575 -30.804316\n",
       "972  2002-08-30  37.042231  39.734786  24.462866 -29.959679\n",
       "973  2002-08-31  38.108163  40.190831  22.938734 -28.920895\n",
       "974  2002-09-01  37.000412  39.967941  22.993469 -28.732170\n",
       "975  2002-09-02  36.075304  38.983160  22.425495 -27.023249\n",
       "976  2002-09-03  36.132862  39.867969  21.531151 -26.112269\n",
       "977  2002-09-04  35.219153  39.391924  22.076749 -26.097241\n",
       "978  2002-09-05  35.987888  37.783906  21.234833 -25.477246\n",
       "979  2002-09-06  35.535670  37.927259  20.291275 -24.915840\n",
       "980  2002-09-07  36.103580  36.182909  21.975396 -23.722400\n",
       "981  2002-09-08  35.253216  37.900214  21.766125 -24.430505\n",
       "982  2002-09-09  34.833425  37.723974  20.121246 -24.376134\n",
       "983  2002-09-10  34.490955  35.771535  20.905088 -24.006456\n",
       "984  2002-09-11  34.263904  34.651383  22.565808 -25.163998\n",
       "985  2002-09-12  34.187067  34.458027  23.828934 -25.383218\n",
       "986  2002-09-13  33.346163  34.915648  24.915727 -25.395224\n",
       "987  2002-09-14  32.900190  33.218170  25.275083 -24.158874\n",
       "988  2002-09-15  34.641006  31.924415  23.809489 -24.661637\n",
       "989  2002-09-16  35.306622  32.033829  24.313817 -24.616696\n",
       "990  2002-09-17  36.699249  32.539651  25.512002 -25.518301\n",
       "991  2002-09-18  34.614387  29.864879  26.134281 -25.772950\n",
       "992  2002-09-19  35.528234  31.002440  25.901149 -25.429756\n",
       "993  2002-09-20  35.958512  29.863780  25.636630 -25.634784\n",
       "994  2002-09-21  33.606211  28.734405  27.164106 -26.254035\n",
       "995  2002-09-22  32.677785  28.507324  27.576422 -25.204780\n",
       "996  2002-09-23  31.408383  30.598357  27.905473 -25.868983\n",
       "997  2002-09-24  30.582694  29.001341  27.799825 -26.773486\n",
       "998  2002-09-25  29.194993  29.387047  28.062325 -27.178912\n",
       "999  2002-09-26  30.001737  29.354151  28.041239 -25.000378\n",
       "\n",
       "[1000 rows x 5 columns]"
      ]
     },
     "execution_count": 91,
     "metadata": {},
     "output_type": "execute_result"
    }
   ],
   "source": [
    "pd.read_csv('foo.csv')"
   ]
  },
  {
   "cell_type": "markdown",
   "metadata": {},
   "source": [
    "### HDF5"
   ]
  },
  {
   "cell_type": "markdown",
   "metadata": {},
   "source": [
    "Reading and writing to *[HDFStores](http://pandas.pydata.org/pandas-docs/stable/io.html#io-hdf5)*\n",
    "\n",
    "Writing to a HDF5 Store"
   ]
  },
  {
   "cell_type": "code",
   "execution_count": 92,
   "metadata": {
    "collapsed": true
   },
   "outputs": [],
   "source": [
    "df.to_hdf('foo.h5','df')"
   ]
  },
  {
   "cell_type": "markdown",
   "metadata": {},
   "source": [
    "Reading from a HDF5 Store"
   ]
  },
  {
   "cell_type": "code",
   "execution_count": 93,
   "metadata": {
    "collapsed": false
   },
   "outputs": [
    {
     "data": {
      "text/html": [
       "<div>\n",
       "<table border=\"1\" class=\"dataframe\">\n",
       "  <thead>\n",
       "    <tr style=\"text-align: right;\">\n",
       "      <th></th>\n",
       "      <th>A</th>\n",
       "      <th>B</th>\n",
       "      <th>C</th>\n",
       "      <th>D</th>\n",
       "    </tr>\n",
       "  </thead>\n",
       "  <tbody>\n",
       "    <tr>\n",
       "      <th>2000-01-01</th>\n",
       "      <td>0.588326</td>\n",
       "      <td>0.176119</td>\n",
       "      <td>-1.112032</td>\n",
       "      <td>-0.781756</td>\n",
       "    </tr>\n",
       "    <tr>\n",
       "      <th>2000-01-02</th>\n",
       "      <td>1.787147</td>\n",
       "      <td>-1.786292</td>\n",
       "      <td>-1.755992</td>\n",
       "      <td>-0.920506</td>\n",
       "    </tr>\n",
       "    <tr>\n",
       "      <th>2000-01-03</th>\n",
       "      <td>2.361067</td>\n",
       "      <td>-2.125040</td>\n",
       "      <td>-2.523173</td>\n",
       "      <td>-0.356203</td>\n",
       "    </tr>\n",
       "    <tr>\n",
       "      <th>2000-01-04</th>\n",
       "      <td>1.866736</td>\n",
       "      <td>-1.444381</td>\n",
       "      <td>-2.170141</td>\n",
       "      <td>0.392747</td>\n",
       "    </tr>\n",
       "    <tr>\n",
       "      <th>2000-01-05</th>\n",
       "      <td>4.287767</td>\n",
       "      <td>-2.606854</td>\n",
       "      <td>-3.665608</td>\n",
       "      <td>2.871916</td>\n",
       "    </tr>\n",
       "    <tr>\n",
       "      <th>2000-01-06</th>\n",
       "      <td>3.561976</td>\n",
       "      <td>-4.169602</td>\n",
       "      <td>-4.900702</td>\n",
       "      <td>3.408198</td>\n",
       "    </tr>\n",
       "    <tr>\n",
       "      <th>2000-01-07</th>\n",
       "      <td>3.348639</td>\n",
       "      <td>-3.828442</td>\n",
       "      <td>-5.342822</td>\n",
       "      <td>4.169734</td>\n",
       "    </tr>\n",
       "    <tr>\n",
       "      <th>2000-01-08</th>\n",
       "      <td>3.721827</td>\n",
       "      <td>-3.075071</td>\n",
       "      <td>-6.064197</td>\n",
       "      <td>5.305389</td>\n",
       "    </tr>\n",
       "    <tr>\n",
       "      <th>2000-01-09</th>\n",
       "      <td>3.366837</td>\n",
       "      <td>-2.793937</td>\n",
       "      <td>-5.553034</td>\n",
       "      <td>6.395656</td>\n",
       "    </tr>\n",
       "    <tr>\n",
       "      <th>2000-01-10</th>\n",
       "      <td>4.704948</td>\n",
       "      <td>-4.351980</td>\n",
       "      <td>-5.107926</td>\n",
       "      <td>6.465528</td>\n",
       "    </tr>\n",
       "    <tr>\n",
       "      <th>2000-01-11</th>\n",
       "      <td>4.624377</td>\n",
       "      <td>-2.510391</td>\n",
       "      <td>-4.570263</td>\n",
       "      <td>6.854977</td>\n",
       "    </tr>\n",
       "    <tr>\n",
       "      <th>2000-01-12</th>\n",
       "      <td>5.261082</td>\n",
       "      <td>-2.101336</td>\n",
       "      <td>-3.478748</td>\n",
       "      <td>7.398561</td>\n",
       "    </tr>\n",
       "    <tr>\n",
       "      <th>2000-01-13</th>\n",
       "      <td>4.668454</td>\n",
       "      <td>-1.944751</td>\n",
       "      <td>-2.409314</td>\n",
       "      <td>6.947614</td>\n",
       "    </tr>\n",
       "    <tr>\n",
       "      <th>2000-01-14</th>\n",
       "      <td>3.730626</td>\n",
       "      <td>-3.000031</td>\n",
       "      <td>-4.260730</td>\n",
       "      <td>7.261492</td>\n",
       "    </tr>\n",
       "    <tr>\n",
       "      <th>2000-01-15</th>\n",
       "      <td>5.484070</td>\n",
       "      <td>-2.499443</td>\n",
       "      <td>-4.242960</td>\n",
       "      <td>5.501969</td>\n",
       "    </tr>\n",
       "    <tr>\n",
       "      <th>2000-01-16</th>\n",
       "      <td>5.081056</td>\n",
       "      <td>-3.810314</td>\n",
       "      <td>-4.455607</td>\n",
       "      <td>5.802618</td>\n",
       "    </tr>\n",
       "    <tr>\n",
       "      <th>2000-01-17</th>\n",
       "      <td>5.438831</td>\n",
       "      <td>-3.290017</td>\n",
       "      <td>-4.709719</td>\n",
       "      <td>6.381166</td>\n",
       "    </tr>\n",
       "    <tr>\n",
       "      <th>2000-01-18</th>\n",
       "      <td>5.528038</td>\n",
       "      <td>-2.621626</td>\n",
       "      <td>-3.900362</td>\n",
       "      <td>5.893110</td>\n",
       "    </tr>\n",
       "    <tr>\n",
       "      <th>2000-01-19</th>\n",
       "      <td>4.878968</td>\n",
       "      <td>-2.989797</td>\n",
       "      <td>-4.529704</td>\n",
       "      <td>4.710176</td>\n",
       "    </tr>\n",
       "    <tr>\n",
       "      <th>2000-01-20</th>\n",
       "      <td>4.205925</td>\n",
       "      <td>-1.849449</td>\n",
       "      <td>-6.135930</td>\n",
       "      <td>5.345296</td>\n",
       "    </tr>\n",
       "    <tr>\n",
       "      <th>2000-01-21</th>\n",
       "      <td>3.951398</td>\n",
       "      <td>-2.451613</td>\n",
       "      <td>-6.589784</td>\n",
       "      <td>6.127156</td>\n",
       "    </tr>\n",
       "    <tr>\n",
       "      <th>2000-01-22</th>\n",
       "      <td>2.685296</td>\n",
       "      <td>-1.862347</td>\n",
       "      <td>-7.309833</td>\n",
       "      <td>6.205350</td>\n",
       "    </tr>\n",
       "    <tr>\n",
       "      <th>2000-01-23</th>\n",
       "      <td>3.333610</td>\n",
       "      <td>-0.801743</td>\n",
       "      <td>-8.900903</td>\n",
       "      <td>5.466769</td>\n",
       "    </tr>\n",
       "    <tr>\n",
       "      <th>2000-01-24</th>\n",
       "      <td>3.782130</td>\n",
       "      <td>-0.979587</td>\n",
       "      <td>-6.759256</td>\n",
       "      <td>6.227324</td>\n",
       "    </tr>\n",
       "    <tr>\n",
       "      <th>2000-01-25</th>\n",
       "      <td>3.945049</td>\n",
       "      <td>-1.294694</td>\n",
       "      <td>-7.054210</td>\n",
       "      <td>5.179351</td>\n",
       "    </tr>\n",
       "    <tr>\n",
       "      <th>2000-01-26</th>\n",
       "      <td>3.257225</td>\n",
       "      <td>-0.453106</td>\n",
       "      <td>-6.724254</td>\n",
       "      <td>5.760077</td>\n",
       "    </tr>\n",
       "    <tr>\n",
       "      <th>2000-01-27</th>\n",
       "      <td>3.308906</td>\n",
       "      <td>0.319931</td>\n",
       "      <td>-6.201709</td>\n",
       "      <td>6.854866</td>\n",
       "    </tr>\n",
       "    <tr>\n",
       "      <th>2000-01-28</th>\n",
       "      <td>3.288681</td>\n",
       "      <td>0.545141</td>\n",
       "      <td>-7.234857</td>\n",
       "      <td>5.738993</td>\n",
       "    </tr>\n",
       "    <tr>\n",
       "      <th>2000-01-29</th>\n",
       "      <td>2.679075</td>\n",
       "      <td>0.862002</td>\n",
       "      <td>-7.474431</td>\n",
       "      <td>6.100277</td>\n",
       "    </tr>\n",
       "    <tr>\n",
       "      <th>2000-01-30</th>\n",
       "      <td>1.687744</td>\n",
       "      <td>0.880051</td>\n",
       "      <td>-6.954254</td>\n",
       "      <td>7.477527</td>\n",
       "    </tr>\n",
       "    <tr>\n",
       "      <th>...</th>\n",
       "      <td>...</td>\n",
       "      <td>...</td>\n",
       "      <td>...</td>\n",
       "      <td>...</td>\n",
       "    </tr>\n",
       "    <tr>\n",
       "      <th>2002-08-28</th>\n",
       "      <td>37.225208</td>\n",
       "      <td>42.147804</td>\n",
       "      <td>25.689992</td>\n",
       "      <td>-31.953129</td>\n",
       "    </tr>\n",
       "    <tr>\n",
       "      <th>2002-08-29</th>\n",
       "      <td>37.522208</td>\n",
       "      <td>41.245507</td>\n",
       "      <td>25.212575</td>\n",
       "      <td>-30.804316</td>\n",
       "    </tr>\n",
       "    <tr>\n",
       "      <th>2002-08-30</th>\n",
       "      <td>37.042231</td>\n",
       "      <td>39.734786</td>\n",
       "      <td>24.462866</td>\n",
       "      <td>-29.959679</td>\n",
       "    </tr>\n",
       "    <tr>\n",
       "      <th>2002-08-31</th>\n",
       "      <td>38.108163</td>\n",
       "      <td>40.190831</td>\n",
       "      <td>22.938734</td>\n",
       "      <td>-28.920895</td>\n",
       "    </tr>\n",
       "    <tr>\n",
       "      <th>2002-09-01</th>\n",
       "      <td>37.000412</td>\n",
       "      <td>39.967941</td>\n",
       "      <td>22.993469</td>\n",
       "      <td>-28.732170</td>\n",
       "    </tr>\n",
       "    <tr>\n",
       "      <th>2002-09-02</th>\n",
       "      <td>36.075304</td>\n",
       "      <td>38.983160</td>\n",
       "      <td>22.425495</td>\n",
       "      <td>-27.023249</td>\n",
       "    </tr>\n",
       "    <tr>\n",
       "      <th>2002-09-03</th>\n",
       "      <td>36.132862</td>\n",
       "      <td>39.867969</td>\n",
       "      <td>21.531151</td>\n",
       "      <td>-26.112269</td>\n",
       "    </tr>\n",
       "    <tr>\n",
       "      <th>2002-09-04</th>\n",
       "      <td>35.219153</td>\n",
       "      <td>39.391924</td>\n",
       "      <td>22.076749</td>\n",
       "      <td>-26.097241</td>\n",
       "    </tr>\n",
       "    <tr>\n",
       "      <th>2002-09-05</th>\n",
       "      <td>35.987888</td>\n",
       "      <td>37.783906</td>\n",
       "      <td>21.234833</td>\n",
       "      <td>-25.477246</td>\n",
       "    </tr>\n",
       "    <tr>\n",
       "      <th>2002-09-06</th>\n",
       "      <td>35.535670</td>\n",
       "      <td>37.927259</td>\n",
       "      <td>20.291275</td>\n",
       "      <td>-24.915840</td>\n",
       "    </tr>\n",
       "    <tr>\n",
       "      <th>2002-09-07</th>\n",
       "      <td>36.103580</td>\n",
       "      <td>36.182909</td>\n",
       "      <td>21.975396</td>\n",
       "      <td>-23.722400</td>\n",
       "    </tr>\n",
       "    <tr>\n",
       "      <th>2002-09-08</th>\n",
       "      <td>35.253216</td>\n",
       "      <td>37.900214</td>\n",
       "      <td>21.766125</td>\n",
       "      <td>-24.430505</td>\n",
       "    </tr>\n",
       "    <tr>\n",
       "      <th>2002-09-09</th>\n",
       "      <td>34.833425</td>\n",
       "      <td>37.723974</td>\n",
       "      <td>20.121246</td>\n",
       "      <td>-24.376134</td>\n",
       "    </tr>\n",
       "    <tr>\n",
       "      <th>2002-09-10</th>\n",
       "      <td>34.490955</td>\n",
       "      <td>35.771535</td>\n",
       "      <td>20.905088</td>\n",
       "      <td>-24.006456</td>\n",
       "    </tr>\n",
       "    <tr>\n",
       "      <th>2002-09-11</th>\n",
       "      <td>34.263904</td>\n",
       "      <td>34.651383</td>\n",
       "      <td>22.565808</td>\n",
       "      <td>-25.163998</td>\n",
       "    </tr>\n",
       "    <tr>\n",
       "      <th>2002-09-12</th>\n",
       "      <td>34.187067</td>\n",
       "      <td>34.458027</td>\n",
       "      <td>23.828934</td>\n",
       "      <td>-25.383218</td>\n",
       "    </tr>\n",
       "    <tr>\n",
       "      <th>2002-09-13</th>\n",
       "      <td>33.346163</td>\n",
       "      <td>34.915648</td>\n",
       "      <td>24.915727</td>\n",
       "      <td>-25.395224</td>\n",
       "    </tr>\n",
       "    <tr>\n",
       "      <th>2002-09-14</th>\n",
       "      <td>32.900190</td>\n",
       "      <td>33.218170</td>\n",
       "      <td>25.275083</td>\n",
       "      <td>-24.158874</td>\n",
       "    </tr>\n",
       "    <tr>\n",
       "      <th>2002-09-15</th>\n",
       "      <td>34.641006</td>\n",
       "      <td>31.924415</td>\n",
       "      <td>23.809489</td>\n",
       "      <td>-24.661637</td>\n",
       "    </tr>\n",
       "    <tr>\n",
       "      <th>2002-09-16</th>\n",
       "      <td>35.306622</td>\n",
       "      <td>32.033829</td>\n",
       "      <td>24.313817</td>\n",
       "      <td>-24.616696</td>\n",
       "    </tr>\n",
       "    <tr>\n",
       "      <th>2002-09-17</th>\n",
       "      <td>36.699249</td>\n",
       "      <td>32.539651</td>\n",
       "      <td>25.512002</td>\n",
       "      <td>-25.518301</td>\n",
       "    </tr>\n",
       "    <tr>\n",
       "      <th>2002-09-18</th>\n",
       "      <td>34.614387</td>\n",
       "      <td>29.864879</td>\n",
       "      <td>26.134281</td>\n",
       "      <td>-25.772950</td>\n",
       "    </tr>\n",
       "    <tr>\n",
       "      <th>2002-09-19</th>\n",
       "      <td>35.528234</td>\n",
       "      <td>31.002440</td>\n",
       "      <td>25.901149</td>\n",
       "      <td>-25.429756</td>\n",
       "    </tr>\n",
       "    <tr>\n",
       "      <th>2002-09-20</th>\n",
       "      <td>35.958512</td>\n",
       "      <td>29.863780</td>\n",
       "      <td>25.636630</td>\n",
       "      <td>-25.634784</td>\n",
       "    </tr>\n",
       "    <tr>\n",
       "      <th>2002-09-21</th>\n",
       "      <td>33.606211</td>\n",
       "      <td>28.734405</td>\n",
       "      <td>27.164106</td>\n",
       "      <td>-26.254035</td>\n",
       "    </tr>\n",
       "    <tr>\n",
       "      <th>2002-09-22</th>\n",
       "      <td>32.677785</td>\n",
       "      <td>28.507324</td>\n",
       "      <td>27.576422</td>\n",
       "      <td>-25.204780</td>\n",
       "    </tr>\n",
       "    <tr>\n",
       "      <th>2002-09-23</th>\n",
       "      <td>31.408383</td>\n",
       "      <td>30.598357</td>\n",
       "      <td>27.905473</td>\n",
       "      <td>-25.868983</td>\n",
       "    </tr>\n",
       "    <tr>\n",
       "      <th>2002-09-24</th>\n",
       "      <td>30.582694</td>\n",
       "      <td>29.001341</td>\n",
       "      <td>27.799825</td>\n",
       "      <td>-26.773486</td>\n",
       "    </tr>\n",
       "    <tr>\n",
       "      <th>2002-09-25</th>\n",
       "      <td>29.194993</td>\n",
       "      <td>29.387047</td>\n",
       "      <td>28.062325</td>\n",
       "      <td>-27.178912</td>\n",
       "    </tr>\n",
       "    <tr>\n",
       "      <th>2002-09-26</th>\n",
       "      <td>30.001737</td>\n",
       "      <td>29.354151</td>\n",
       "      <td>28.041239</td>\n",
       "      <td>-25.000378</td>\n",
       "    </tr>\n",
       "  </tbody>\n",
       "</table>\n",
       "<p>1000 rows × 4 columns</p>\n",
       "</div>"
      ],
      "text/plain": [
       "                    A          B          C          D\n",
       "2000-01-01   0.588326   0.176119  -1.112032  -0.781756\n",
       "2000-01-02   1.787147  -1.786292  -1.755992  -0.920506\n",
       "2000-01-03   2.361067  -2.125040  -2.523173  -0.356203\n",
       "2000-01-04   1.866736  -1.444381  -2.170141   0.392747\n",
       "2000-01-05   4.287767  -2.606854  -3.665608   2.871916\n",
       "2000-01-06   3.561976  -4.169602  -4.900702   3.408198\n",
       "2000-01-07   3.348639  -3.828442  -5.342822   4.169734\n",
       "2000-01-08   3.721827  -3.075071  -6.064197   5.305389\n",
       "2000-01-09   3.366837  -2.793937  -5.553034   6.395656\n",
       "2000-01-10   4.704948  -4.351980  -5.107926   6.465528\n",
       "2000-01-11   4.624377  -2.510391  -4.570263   6.854977\n",
       "2000-01-12   5.261082  -2.101336  -3.478748   7.398561\n",
       "2000-01-13   4.668454  -1.944751  -2.409314   6.947614\n",
       "2000-01-14   3.730626  -3.000031  -4.260730   7.261492\n",
       "2000-01-15   5.484070  -2.499443  -4.242960   5.501969\n",
       "2000-01-16   5.081056  -3.810314  -4.455607   5.802618\n",
       "2000-01-17   5.438831  -3.290017  -4.709719   6.381166\n",
       "2000-01-18   5.528038  -2.621626  -3.900362   5.893110\n",
       "2000-01-19   4.878968  -2.989797  -4.529704   4.710176\n",
       "2000-01-20   4.205925  -1.849449  -6.135930   5.345296\n",
       "2000-01-21   3.951398  -2.451613  -6.589784   6.127156\n",
       "2000-01-22   2.685296  -1.862347  -7.309833   6.205350\n",
       "2000-01-23   3.333610  -0.801743  -8.900903   5.466769\n",
       "2000-01-24   3.782130  -0.979587  -6.759256   6.227324\n",
       "2000-01-25   3.945049  -1.294694  -7.054210   5.179351\n",
       "2000-01-26   3.257225  -0.453106  -6.724254   5.760077\n",
       "2000-01-27   3.308906   0.319931  -6.201709   6.854866\n",
       "2000-01-28   3.288681   0.545141  -7.234857   5.738993\n",
       "2000-01-29   2.679075   0.862002  -7.474431   6.100277\n",
       "2000-01-30   1.687744   0.880051  -6.954254   7.477527\n",
       "...               ...        ...        ...        ...\n",
       "2002-08-28  37.225208  42.147804  25.689992 -31.953129\n",
       "2002-08-29  37.522208  41.245507  25.212575 -30.804316\n",
       "2002-08-30  37.042231  39.734786  24.462866 -29.959679\n",
       "2002-08-31  38.108163  40.190831  22.938734 -28.920895\n",
       "2002-09-01  37.000412  39.967941  22.993469 -28.732170\n",
       "2002-09-02  36.075304  38.983160  22.425495 -27.023249\n",
       "2002-09-03  36.132862  39.867969  21.531151 -26.112269\n",
       "2002-09-04  35.219153  39.391924  22.076749 -26.097241\n",
       "2002-09-05  35.987888  37.783906  21.234833 -25.477246\n",
       "2002-09-06  35.535670  37.927259  20.291275 -24.915840\n",
       "2002-09-07  36.103580  36.182909  21.975396 -23.722400\n",
       "2002-09-08  35.253216  37.900214  21.766125 -24.430505\n",
       "2002-09-09  34.833425  37.723974  20.121246 -24.376134\n",
       "2002-09-10  34.490955  35.771535  20.905088 -24.006456\n",
       "2002-09-11  34.263904  34.651383  22.565808 -25.163998\n",
       "2002-09-12  34.187067  34.458027  23.828934 -25.383218\n",
       "2002-09-13  33.346163  34.915648  24.915727 -25.395224\n",
       "2002-09-14  32.900190  33.218170  25.275083 -24.158874\n",
       "2002-09-15  34.641006  31.924415  23.809489 -24.661637\n",
       "2002-09-16  35.306622  32.033829  24.313817 -24.616696\n",
       "2002-09-17  36.699249  32.539651  25.512002 -25.518301\n",
       "2002-09-18  34.614387  29.864879  26.134281 -25.772950\n",
       "2002-09-19  35.528234  31.002440  25.901149 -25.429756\n",
       "2002-09-20  35.958512  29.863780  25.636630 -25.634784\n",
       "2002-09-21  33.606211  28.734405  27.164106 -26.254035\n",
       "2002-09-22  32.677785  28.507324  27.576422 -25.204780\n",
       "2002-09-23  31.408383  30.598357  27.905473 -25.868983\n",
       "2002-09-24  30.582694  29.001341  27.799825 -26.773486\n",
       "2002-09-25  29.194993  29.387047  28.062325 -27.178912\n",
       "2002-09-26  30.001737  29.354151  28.041239 -25.000378\n",
       "\n",
       "[1000 rows x 4 columns]"
      ]
     },
     "execution_count": 93,
     "metadata": {},
     "output_type": "execute_result"
    }
   ],
   "source": [
    "pd.read_hdf('foo.h5','df')"
   ]
  },
  {
   "cell_type": "markdown",
   "metadata": {},
   "source": [
    "### Excel"
   ]
  },
  {
   "cell_type": "markdown",
   "metadata": {},
   "source": [
    "Reading and writing to *[MS Excel](http://pandas.pydata.org/pandas-docs/stable/io.html#io-excel)*\n",
    "\n",
    "Writing to an excel file"
   ]
  },
  {
   "cell_type": "code",
   "execution_count": 94,
   "metadata": {
    "collapsed": true
   },
   "outputs": [],
   "source": [
    "df.to_excel('foo.xlsx', sheet_name='Sheet1')"
   ]
  },
  {
   "cell_type": "markdown",
   "metadata": {},
   "source": [
    "Reading from an excel file"
   ]
  },
  {
   "cell_type": "code",
   "execution_count": 95,
   "metadata": {
    "collapsed": false
   },
   "outputs": [
    {
     "data": {
      "text/html": [
       "<div>\n",
       "<table border=\"1\" class=\"dataframe\">\n",
       "  <thead>\n",
       "    <tr style=\"text-align: right;\">\n",
       "      <th></th>\n",
       "      <th>A</th>\n",
       "      <th>B</th>\n",
       "      <th>C</th>\n",
       "      <th>D</th>\n",
       "    </tr>\n",
       "  </thead>\n",
       "  <tbody>\n",
       "    <tr>\n",
       "      <th>2000-01-01</th>\n",
       "      <td>0.588326</td>\n",
       "      <td>0.176119</td>\n",
       "      <td>-1.112032</td>\n",
       "      <td>-0.781756</td>\n",
       "    </tr>\n",
       "    <tr>\n",
       "      <th>2000-01-02</th>\n",
       "      <td>1.787147</td>\n",
       "      <td>-1.786292</td>\n",
       "      <td>-1.755992</td>\n",
       "      <td>-0.920506</td>\n",
       "    </tr>\n",
       "    <tr>\n",
       "      <th>2000-01-03</th>\n",
       "      <td>2.361067</td>\n",
       "      <td>-2.125040</td>\n",
       "      <td>-2.523173</td>\n",
       "      <td>-0.356203</td>\n",
       "    </tr>\n",
       "    <tr>\n",
       "      <th>2000-01-04</th>\n",
       "      <td>1.866736</td>\n",
       "      <td>-1.444381</td>\n",
       "      <td>-2.170141</td>\n",
       "      <td>0.392747</td>\n",
       "    </tr>\n",
       "    <tr>\n",
       "      <th>2000-01-05</th>\n",
       "      <td>4.287767</td>\n",
       "      <td>-2.606854</td>\n",
       "      <td>-3.665608</td>\n",
       "      <td>2.871916</td>\n",
       "    </tr>\n",
       "    <tr>\n",
       "      <th>2000-01-06</th>\n",
       "      <td>3.561976</td>\n",
       "      <td>-4.169602</td>\n",
       "      <td>-4.900702</td>\n",
       "      <td>3.408198</td>\n",
       "    </tr>\n",
       "    <tr>\n",
       "      <th>2000-01-07</th>\n",
       "      <td>3.348639</td>\n",
       "      <td>-3.828442</td>\n",
       "      <td>-5.342822</td>\n",
       "      <td>4.169734</td>\n",
       "    </tr>\n",
       "    <tr>\n",
       "      <th>2000-01-08</th>\n",
       "      <td>3.721827</td>\n",
       "      <td>-3.075071</td>\n",
       "      <td>-6.064197</td>\n",
       "      <td>5.305389</td>\n",
       "    </tr>\n",
       "    <tr>\n",
       "      <th>2000-01-09</th>\n",
       "      <td>3.366837</td>\n",
       "      <td>-2.793937</td>\n",
       "      <td>-5.553034</td>\n",
       "      <td>6.395656</td>\n",
       "    </tr>\n",
       "    <tr>\n",
       "      <th>2000-01-10</th>\n",
       "      <td>4.704948</td>\n",
       "      <td>-4.351980</td>\n",
       "      <td>-5.107926</td>\n",
       "      <td>6.465528</td>\n",
       "    </tr>\n",
       "    <tr>\n",
       "      <th>2000-01-11</th>\n",
       "      <td>4.624377</td>\n",
       "      <td>-2.510391</td>\n",
       "      <td>-4.570263</td>\n",
       "      <td>6.854977</td>\n",
       "    </tr>\n",
       "    <tr>\n",
       "      <th>2000-01-12</th>\n",
       "      <td>5.261082</td>\n",
       "      <td>-2.101336</td>\n",
       "      <td>-3.478748</td>\n",
       "      <td>7.398561</td>\n",
       "    </tr>\n",
       "    <tr>\n",
       "      <th>2000-01-13</th>\n",
       "      <td>4.668454</td>\n",
       "      <td>-1.944751</td>\n",
       "      <td>-2.409314</td>\n",
       "      <td>6.947614</td>\n",
       "    </tr>\n",
       "    <tr>\n",
       "      <th>2000-01-14</th>\n",
       "      <td>3.730626</td>\n",
       "      <td>-3.000031</td>\n",
       "      <td>-4.260730</td>\n",
       "      <td>7.261492</td>\n",
       "    </tr>\n",
       "    <tr>\n",
       "      <th>2000-01-15</th>\n",
       "      <td>5.484070</td>\n",
       "      <td>-2.499443</td>\n",
       "      <td>-4.242960</td>\n",
       "      <td>5.501969</td>\n",
       "    </tr>\n",
       "    <tr>\n",
       "      <th>2000-01-16</th>\n",
       "      <td>5.081056</td>\n",
       "      <td>-3.810314</td>\n",
       "      <td>-4.455607</td>\n",
       "      <td>5.802618</td>\n",
       "    </tr>\n",
       "    <tr>\n",
       "      <th>2000-01-17</th>\n",
       "      <td>5.438831</td>\n",
       "      <td>-3.290017</td>\n",
       "      <td>-4.709719</td>\n",
       "      <td>6.381166</td>\n",
       "    </tr>\n",
       "    <tr>\n",
       "      <th>2000-01-18</th>\n",
       "      <td>5.528038</td>\n",
       "      <td>-2.621626</td>\n",
       "      <td>-3.900362</td>\n",
       "      <td>5.893110</td>\n",
       "    </tr>\n",
       "    <tr>\n",
       "      <th>2000-01-19</th>\n",
       "      <td>4.878968</td>\n",
       "      <td>-2.989797</td>\n",
       "      <td>-4.529704</td>\n",
       "      <td>4.710176</td>\n",
       "    </tr>\n",
       "    <tr>\n",
       "      <th>2000-01-20</th>\n",
       "      <td>4.205925</td>\n",
       "      <td>-1.849449</td>\n",
       "      <td>-6.135930</td>\n",
       "      <td>5.345296</td>\n",
       "    </tr>\n",
       "    <tr>\n",
       "      <th>2000-01-21</th>\n",
       "      <td>3.951398</td>\n",
       "      <td>-2.451613</td>\n",
       "      <td>-6.589784</td>\n",
       "      <td>6.127156</td>\n",
       "    </tr>\n",
       "    <tr>\n",
       "      <th>2000-01-22</th>\n",
       "      <td>2.685296</td>\n",
       "      <td>-1.862347</td>\n",
       "      <td>-7.309833</td>\n",
       "      <td>6.205350</td>\n",
       "    </tr>\n",
       "    <tr>\n",
       "      <th>2000-01-23</th>\n",
       "      <td>3.333610</td>\n",
       "      <td>-0.801743</td>\n",
       "      <td>-8.900903</td>\n",
       "      <td>5.466769</td>\n",
       "    </tr>\n",
       "    <tr>\n",
       "      <th>2000-01-24</th>\n",
       "      <td>3.782130</td>\n",
       "      <td>-0.979587</td>\n",
       "      <td>-6.759256</td>\n",
       "      <td>6.227324</td>\n",
       "    </tr>\n",
       "    <tr>\n",
       "      <th>2000-01-25</th>\n",
       "      <td>3.945049</td>\n",
       "      <td>-1.294694</td>\n",
       "      <td>-7.054210</td>\n",
       "      <td>5.179351</td>\n",
       "    </tr>\n",
       "    <tr>\n",
       "      <th>2000-01-26</th>\n",
       "      <td>3.257225</td>\n",
       "      <td>-0.453106</td>\n",
       "      <td>-6.724254</td>\n",
       "      <td>5.760077</td>\n",
       "    </tr>\n",
       "    <tr>\n",
       "      <th>2000-01-27</th>\n",
       "      <td>3.308906</td>\n",
       "      <td>0.319931</td>\n",
       "      <td>-6.201709</td>\n",
       "      <td>6.854866</td>\n",
       "    </tr>\n",
       "    <tr>\n",
       "      <th>2000-01-28</th>\n",
       "      <td>3.288681</td>\n",
       "      <td>0.545141</td>\n",
       "      <td>-7.234857</td>\n",
       "      <td>5.738993</td>\n",
       "    </tr>\n",
       "    <tr>\n",
       "      <th>2000-01-29</th>\n",
       "      <td>2.679075</td>\n",
       "      <td>0.862002</td>\n",
       "      <td>-7.474431</td>\n",
       "      <td>6.100277</td>\n",
       "    </tr>\n",
       "    <tr>\n",
       "      <th>2000-01-30</th>\n",
       "      <td>1.687744</td>\n",
       "      <td>0.880051</td>\n",
       "      <td>-6.954254</td>\n",
       "      <td>7.477527</td>\n",
       "    </tr>\n",
       "    <tr>\n",
       "      <th>...</th>\n",
       "      <td>...</td>\n",
       "      <td>...</td>\n",
       "      <td>...</td>\n",
       "      <td>...</td>\n",
       "    </tr>\n",
       "    <tr>\n",
       "      <th>2002-08-28</th>\n",
       "      <td>37.225208</td>\n",
       "      <td>42.147804</td>\n",
       "      <td>25.689992</td>\n",
       "      <td>-31.953129</td>\n",
       "    </tr>\n",
       "    <tr>\n",
       "      <th>2002-08-29</th>\n",
       "      <td>37.522208</td>\n",
       "      <td>41.245507</td>\n",
       "      <td>25.212575</td>\n",
       "      <td>-30.804316</td>\n",
       "    </tr>\n",
       "    <tr>\n",
       "      <th>2002-08-30</th>\n",
       "      <td>37.042231</td>\n",
       "      <td>39.734786</td>\n",
       "      <td>24.462866</td>\n",
       "      <td>-29.959679</td>\n",
       "    </tr>\n",
       "    <tr>\n",
       "      <th>2002-08-31</th>\n",
       "      <td>38.108163</td>\n",
       "      <td>40.190831</td>\n",
       "      <td>22.938734</td>\n",
       "      <td>-28.920895</td>\n",
       "    </tr>\n",
       "    <tr>\n",
       "      <th>2002-09-01</th>\n",
       "      <td>37.000412</td>\n",
       "      <td>39.967941</td>\n",
       "      <td>22.993469</td>\n",
       "      <td>-28.732170</td>\n",
       "    </tr>\n",
       "    <tr>\n",
       "      <th>2002-09-02</th>\n",
       "      <td>36.075304</td>\n",
       "      <td>38.983160</td>\n",
       "      <td>22.425495</td>\n",
       "      <td>-27.023249</td>\n",
       "    </tr>\n",
       "    <tr>\n",
       "      <th>2002-09-03</th>\n",
       "      <td>36.132862</td>\n",
       "      <td>39.867969</td>\n",
       "      <td>21.531151</td>\n",
       "      <td>-26.112269</td>\n",
       "    </tr>\n",
       "    <tr>\n",
       "      <th>2002-09-04</th>\n",
       "      <td>35.219153</td>\n",
       "      <td>39.391924</td>\n",
       "      <td>22.076749</td>\n",
       "      <td>-26.097241</td>\n",
       "    </tr>\n",
       "    <tr>\n",
       "      <th>2002-09-05</th>\n",
       "      <td>35.987888</td>\n",
       "      <td>37.783906</td>\n",
       "      <td>21.234833</td>\n",
       "      <td>-25.477246</td>\n",
       "    </tr>\n",
       "    <tr>\n",
       "      <th>2002-09-06</th>\n",
       "      <td>35.535670</td>\n",
       "      <td>37.927259</td>\n",
       "      <td>20.291275</td>\n",
       "      <td>-24.915840</td>\n",
       "    </tr>\n",
       "    <tr>\n",
       "      <th>2002-09-07</th>\n",
       "      <td>36.103580</td>\n",
       "      <td>36.182909</td>\n",
       "      <td>21.975396</td>\n",
       "      <td>-23.722400</td>\n",
       "    </tr>\n",
       "    <tr>\n",
       "      <th>2002-09-08</th>\n",
       "      <td>35.253216</td>\n",
       "      <td>37.900214</td>\n",
       "      <td>21.766125</td>\n",
       "      <td>-24.430505</td>\n",
       "    </tr>\n",
       "    <tr>\n",
       "      <th>2002-09-09</th>\n",
       "      <td>34.833425</td>\n",
       "      <td>37.723974</td>\n",
       "      <td>20.121246</td>\n",
       "      <td>-24.376134</td>\n",
       "    </tr>\n",
       "    <tr>\n",
       "      <th>2002-09-10</th>\n",
       "      <td>34.490955</td>\n",
       "      <td>35.771535</td>\n",
       "      <td>20.905088</td>\n",
       "      <td>-24.006456</td>\n",
       "    </tr>\n",
       "    <tr>\n",
       "      <th>2002-09-11</th>\n",
       "      <td>34.263904</td>\n",
       "      <td>34.651383</td>\n",
       "      <td>22.565808</td>\n",
       "      <td>-25.163998</td>\n",
       "    </tr>\n",
       "    <tr>\n",
       "      <th>2002-09-12</th>\n",
       "      <td>34.187067</td>\n",
       "      <td>34.458027</td>\n",
       "      <td>23.828934</td>\n",
       "      <td>-25.383218</td>\n",
       "    </tr>\n",
       "    <tr>\n",
       "      <th>2002-09-13</th>\n",
       "      <td>33.346163</td>\n",
       "      <td>34.915648</td>\n",
       "      <td>24.915727</td>\n",
       "      <td>-25.395224</td>\n",
       "    </tr>\n",
       "    <tr>\n",
       "      <th>2002-09-14</th>\n",
       "      <td>32.900190</td>\n",
       "      <td>33.218170</td>\n",
       "      <td>25.275083</td>\n",
       "      <td>-24.158874</td>\n",
       "    </tr>\n",
       "    <tr>\n",
       "      <th>2002-09-15</th>\n",
       "      <td>34.641006</td>\n",
       "      <td>31.924415</td>\n",
       "      <td>23.809489</td>\n",
       "      <td>-24.661637</td>\n",
       "    </tr>\n",
       "    <tr>\n",
       "      <th>2002-09-16</th>\n",
       "      <td>35.306622</td>\n",
       "      <td>32.033829</td>\n",
       "      <td>24.313817</td>\n",
       "      <td>-24.616696</td>\n",
       "    </tr>\n",
       "    <tr>\n",
       "      <th>2002-09-17</th>\n",
       "      <td>36.699249</td>\n",
       "      <td>32.539651</td>\n",
       "      <td>25.512002</td>\n",
       "      <td>-25.518301</td>\n",
       "    </tr>\n",
       "    <tr>\n",
       "      <th>2002-09-18</th>\n",
       "      <td>34.614387</td>\n",
       "      <td>29.864879</td>\n",
       "      <td>26.134281</td>\n",
       "      <td>-25.772950</td>\n",
       "    </tr>\n",
       "    <tr>\n",
       "      <th>2002-09-19</th>\n",
       "      <td>35.528234</td>\n",
       "      <td>31.002440</td>\n",
       "      <td>25.901149</td>\n",
       "      <td>-25.429756</td>\n",
       "    </tr>\n",
       "    <tr>\n",
       "      <th>2002-09-20</th>\n",
       "      <td>35.958512</td>\n",
       "      <td>29.863780</td>\n",
       "      <td>25.636630</td>\n",
       "      <td>-25.634784</td>\n",
       "    </tr>\n",
       "    <tr>\n",
       "      <th>2002-09-21</th>\n",
       "      <td>33.606211</td>\n",
       "      <td>28.734405</td>\n",
       "      <td>27.164106</td>\n",
       "      <td>-26.254035</td>\n",
       "    </tr>\n",
       "    <tr>\n",
       "      <th>2002-09-22</th>\n",
       "      <td>32.677785</td>\n",
       "      <td>28.507324</td>\n",
       "      <td>27.576422</td>\n",
       "      <td>-25.204780</td>\n",
       "    </tr>\n",
       "    <tr>\n",
       "      <th>2002-09-23</th>\n",
       "      <td>31.408383</td>\n",
       "      <td>30.598357</td>\n",
       "      <td>27.905473</td>\n",
       "      <td>-25.868983</td>\n",
       "    </tr>\n",
       "    <tr>\n",
       "      <th>2002-09-24</th>\n",
       "      <td>30.582694</td>\n",
       "      <td>29.001341</td>\n",
       "      <td>27.799825</td>\n",
       "      <td>-26.773486</td>\n",
       "    </tr>\n",
       "    <tr>\n",
       "      <th>2002-09-25</th>\n",
       "      <td>29.194993</td>\n",
       "      <td>29.387047</td>\n",
       "      <td>28.062325</td>\n",
       "      <td>-27.178912</td>\n",
       "    </tr>\n",
       "    <tr>\n",
       "      <th>2002-09-26</th>\n",
       "      <td>30.001737</td>\n",
       "      <td>29.354151</td>\n",
       "      <td>28.041239</td>\n",
       "      <td>-25.000378</td>\n",
       "    </tr>\n",
       "  </tbody>\n",
       "</table>\n",
       "<p>1000 rows × 4 columns</p>\n",
       "</div>"
      ],
      "text/plain": [
       "                    A          B          C          D\n",
       "2000-01-01   0.588326   0.176119  -1.112032  -0.781756\n",
       "2000-01-02   1.787147  -1.786292  -1.755992  -0.920506\n",
       "2000-01-03   2.361067  -2.125040  -2.523173  -0.356203\n",
       "2000-01-04   1.866736  -1.444381  -2.170141   0.392747\n",
       "2000-01-05   4.287767  -2.606854  -3.665608   2.871916\n",
       "2000-01-06   3.561976  -4.169602  -4.900702   3.408198\n",
       "2000-01-07   3.348639  -3.828442  -5.342822   4.169734\n",
       "2000-01-08   3.721827  -3.075071  -6.064197   5.305389\n",
       "2000-01-09   3.366837  -2.793937  -5.553034   6.395656\n",
       "2000-01-10   4.704948  -4.351980  -5.107926   6.465528\n",
       "2000-01-11   4.624377  -2.510391  -4.570263   6.854977\n",
       "2000-01-12   5.261082  -2.101336  -3.478748   7.398561\n",
       "2000-01-13   4.668454  -1.944751  -2.409314   6.947614\n",
       "2000-01-14   3.730626  -3.000031  -4.260730   7.261492\n",
       "2000-01-15   5.484070  -2.499443  -4.242960   5.501969\n",
       "2000-01-16   5.081056  -3.810314  -4.455607   5.802618\n",
       "2000-01-17   5.438831  -3.290017  -4.709719   6.381166\n",
       "2000-01-18   5.528038  -2.621626  -3.900362   5.893110\n",
       "2000-01-19   4.878968  -2.989797  -4.529704   4.710176\n",
       "2000-01-20   4.205925  -1.849449  -6.135930   5.345296\n",
       "2000-01-21   3.951398  -2.451613  -6.589784   6.127156\n",
       "2000-01-22   2.685296  -1.862347  -7.309833   6.205350\n",
       "2000-01-23   3.333610  -0.801743  -8.900903   5.466769\n",
       "2000-01-24   3.782130  -0.979587  -6.759256   6.227324\n",
       "2000-01-25   3.945049  -1.294694  -7.054210   5.179351\n",
       "2000-01-26   3.257225  -0.453106  -6.724254   5.760077\n",
       "2000-01-27   3.308906   0.319931  -6.201709   6.854866\n",
       "2000-01-28   3.288681   0.545141  -7.234857   5.738993\n",
       "2000-01-29   2.679075   0.862002  -7.474431   6.100277\n",
       "2000-01-30   1.687744   0.880051  -6.954254   7.477527\n",
       "...               ...        ...        ...        ...\n",
       "2002-08-28  37.225208  42.147804  25.689992 -31.953129\n",
       "2002-08-29  37.522208  41.245507  25.212575 -30.804316\n",
       "2002-08-30  37.042231  39.734786  24.462866 -29.959679\n",
       "2002-08-31  38.108163  40.190831  22.938734 -28.920895\n",
       "2002-09-01  37.000412  39.967941  22.993469 -28.732170\n",
       "2002-09-02  36.075304  38.983160  22.425495 -27.023249\n",
       "2002-09-03  36.132862  39.867969  21.531151 -26.112269\n",
       "2002-09-04  35.219153  39.391924  22.076749 -26.097241\n",
       "2002-09-05  35.987888  37.783906  21.234833 -25.477246\n",
       "2002-09-06  35.535670  37.927259  20.291275 -24.915840\n",
       "2002-09-07  36.103580  36.182909  21.975396 -23.722400\n",
       "2002-09-08  35.253216  37.900214  21.766125 -24.430505\n",
       "2002-09-09  34.833425  37.723974  20.121246 -24.376134\n",
       "2002-09-10  34.490955  35.771535  20.905088 -24.006456\n",
       "2002-09-11  34.263904  34.651383  22.565808 -25.163998\n",
       "2002-09-12  34.187067  34.458027  23.828934 -25.383218\n",
       "2002-09-13  33.346163  34.915648  24.915727 -25.395224\n",
       "2002-09-14  32.900190  33.218170  25.275083 -24.158874\n",
       "2002-09-15  34.641006  31.924415  23.809489 -24.661637\n",
       "2002-09-16  35.306622  32.033829  24.313817 -24.616696\n",
       "2002-09-17  36.699249  32.539651  25.512002 -25.518301\n",
       "2002-09-18  34.614387  29.864879  26.134281 -25.772950\n",
       "2002-09-19  35.528234  31.002440  25.901149 -25.429756\n",
       "2002-09-20  35.958512  29.863780  25.636630 -25.634784\n",
       "2002-09-21  33.606211  28.734405  27.164106 -26.254035\n",
       "2002-09-22  32.677785  28.507324  27.576422 -25.204780\n",
       "2002-09-23  31.408383  30.598357  27.905473 -25.868983\n",
       "2002-09-24  30.582694  29.001341  27.799825 -26.773486\n",
       "2002-09-25  29.194993  29.387047  28.062325 -27.178912\n",
       "2002-09-26  30.001737  29.354151  28.041239 -25.000378\n",
       "\n",
       "[1000 rows x 4 columns]"
      ]
     },
     "execution_count": 95,
     "metadata": {},
     "output_type": "execute_result"
    }
   ],
   "source": [
    "pd.read_excel('foo.xlsx', 'Sheet1', index_col=None, na_values=['NA'])"
   ]
  },
  {
   "cell_type": "markdown",
   "metadata": {},
   "source": [
    "## Gotchas"
   ]
  },
  {
   "cell_type": "markdown",
   "metadata": {},
   "source": [
    "If you are trying an operation and you see an exception like:"
   ]
  },
  {
   "cell_type": "markdown",
   "metadata": {},
   "source": [
    "> \n",
    "if pd.Series([False, True, False]):  \n",
    "    print(\"I was true\")  \n",
    "Traceback  \n",
    "    ...  \n",
    "ValueError: The truth value of an array is ambiguous. Use a.empty, a.any() or a.all()."
   ]
  },
  {
   "cell_type": "markdown",
   "metadata": {},
   "source": [
    "See *[Comparisons](http://pandas.pydata.org/pandas-docs/stable/basics.html#basics-compare)* for an explanation and what to do.\n",
    "\n",
    "See *[Gotchas](http://pandas.pydata.org/pandas-docs/stable/gotchas.html#gotchas)* as well."
   ]
  },
  {
   "cell_type": "code",
   "execution_count": null,
   "metadata": {
    "collapsed": true
   },
   "outputs": [],
   "source": []
  }
 ],
 "metadata": {
  "anaconda-cloud": {},
  "kernelspec": {
   "display_name": "Python [Root]",
   "language": "python",
   "name": "Python [Root]"
  },
  "language_info": {
   "codemirror_mode": {
    "name": "ipython",
    "version": 2
   },
   "file_extension": ".py",
   "mimetype": "text/x-python",
   "name": "python",
   "nbconvert_exporter": "python",
   "pygments_lexer": "ipython2",
   "version": "2.7.12"
  }
 },
 "nbformat": 4,
 "nbformat_minor": 0
}
