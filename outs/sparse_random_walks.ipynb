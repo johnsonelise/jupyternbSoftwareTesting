{
 "cells": [
  {
   "cell_type": "markdown",
   "metadata": {},
   "source": [
    "# Trivial Sparse Random Walks\n",
    "\n",
    "Working notes for this [SO question](http://stackoverflow.com/questions/31363261/python-library-for-evaluating-random-walks/31477081#31477081)"
   ]
  },
  {
   "cell_type": "code",
   "execution_count": 4,
   "metadata": {
    "collapsed": false
   },
   "outputs": [
    {
     "name": "stdout",
     "output_type": "stream",
     "text": [
      "[[ 0.0016  0.016   0.0696  0.172   0.2641  0.258   0.1566  0.054   0.0081]]\n"
     ]
    }
   ],
   "source": [
    "import numpy as np\n",
    "import scipy.sparse as sp\n",
    "\n",
    "def random_walk_transition_probability(n, left = 0.3, centre = 0.5, right = 0.2):\n",
    "    m = 2*n+1\n",
    "    A  = sp.csr_matrix((m, m))\n",
    "    A += sp.diags(centre*np.ones(m), 0)\n",
    "    A += sp.diags(left*np.ones(m-1), -1)\n",
    "    A += sp.diags(right*np.ones(m-1),  1)\n",
    "    x = np.zeros((m,1))\n",
    "    x[n] = 1.0\n",
    "    for i in xrange(n):\n",
    "        x = A.dot(x)\n",
    "    return x\n",
    "\n",
    "print random_walk_transition_probability(4).T"
   ]
  },
  {
   "cell_type": "code",
   "execution_count": 5,
   "metadata": {
    "collapsed": false
   },
   "outputs": [
    {
     "name": "stdout",
     "output_type": "stream",
     "text": [
      "100 loops, best of 3: 6.58 ms per loop\n"
     ]
    }
   ],
   "source": [
    "%timeit random_walk_transition_probability(500)"
   ]
  },
  {
   "cell_type": "code",
   "execution_count": 6,
   "metadata": {
    "collapsed": false
   },
   "outputs": [
    {
     "name": "stdout",
     "output_type": "stream",
     "text": [
      "1 loops, best of 3: 1 s per loop\n"
     ]
    }
   ],
   "source": [
    "%timeit random_walk_transition_probability(10000)"
   ]
  },
  {
   "cell_type": "code",
   "execution_count": null,
   "metadata": {
    "collapsed": true
   },
   "outputs": [],
   "source": []
  }
 ],
 "metadata": {
  "kernelspec": {
   "display_name": "Python 2",
   "language": "python",
   "name": "python2"
  },
  "language_info": {
   "codemirror_mode": {
    "name": "ipython",
    "version": 2
   },
   "file_extension": ".py",
   "mimetype": "text/x-python",
   "name": "python",
   "nbconvert_exporter": "python",
   "pygments_lexer": "ipython2",
   "version": "2.7.10"
  }
 },
 "nbformat": 4,
 "nbformat_minor": 0
}
