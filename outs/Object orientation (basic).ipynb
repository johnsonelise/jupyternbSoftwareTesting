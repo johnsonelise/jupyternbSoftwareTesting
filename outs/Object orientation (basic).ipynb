{
 "cells": [
  {
   "cell_type": "markdown",
   "metadata": {
    "slideshow": {
     "slide_type": "slide"
    }
   },
   "source": [
    "# Object orientation (basic)"
   ]
  },
  {
   "cell_type": "markdown",
   "metadata": {
    "slideshow": {
     "slide_type": "subslide"
    }
   },
   "source": [
    "# What is object oriented programming?"
   ]
  },
  {
   "cell_type": "markdown",
   "metadata": {
    "slideshow": {
     "slide_type": "fragment"
    }
   },
   "source": [
    "* classes collect data and code that \"belongs together\"\n",
    "* classes model data types (the idea)\n",
    "* objects are actual instances of classes (the meat)\n",
    "* attributes are variables that are part of a class and can store a state\n",
    "* methods are functions that are part of a class and can modify the state of attributes\n",
    "* classes can inherit from other classes and extend or modify their behavior"
   ]
  },
  {
   "cell_type": "markdown",
   "metadata": {
    "slideshow": {
     "slide_type": "subslide"
    }
   },
   "source": [
    "## On a pure technical level"
   ]
  },
  {
   "cell_type": "markdown",
   "metadata": {},
   "source": [
    "Classes are a way to group variables and functions."
   ]
  },
  {
   "cell_type": "markdown",
   "metadata": {
    "slideshow": {
     "slide_type": "slide"
    }
   },
   "source": [
    "# Example"
   ]
  },
  {
   "cell_type": "markdown",
   "metadata": {},
   "source": [
    "A class to model a person:"
   ]
  },
  {
   "cell_type": "code",
   "execution_count": 1,
   "metadata": {
    "collapsed": false
   },
   "outputs": [],
   "source": [
    "from datetime import date\n",
    "\n",
    "class Person(object):\n",
    "    def __init__(self, name, size=None, date_of_birth=None):\n",
    "        self.name = name\n",
    "        self.size = size\n",
    "        self.date_of_birth = date_of_birth\n",
    "\n",
    "    def age(self):\n",
    "        if self.date_of_birth is None:\n",
    "            result = None\n",
    "        else:\n",
    "            today = date.today()\n",
    "            born_earlier_this_year = \\\n",
    "                (today.month, today.day) \\\n",
    "                < (self.date_of_birth.month, self.date_of_birth.day)\n",
    "            result = today.year - self.date_of_birth.year - born_earlier_this_year\n",
    "        return result"
   ]
  },
  {
   "cell_type": "markdown",
   "metadata": {
    "slideshow": {
     "slide_type": "subslide"
    }
   },
   "source": [
    "## Create instances"
   ]
  },
  {
   "cell_type": "code",
   "execution_count": 2,
   "metadata": {
    "collapsed": true
   },
   "outputs": [],
   "source": [
    "alice = Person('Alice', 172, date(1987, 11, 3))\n",
    "bob = Person('Bob', date_of_birth=date(1976, 4, 27))\n",
    "baerbel = Person('Bärbel')"
   ]
  },
  {
   "cell_type": "code",
   "execution_count": 3,
   "metadata": {
    "collapsed": false
   },
   "outputs": [
    {
     "data": {
      "text/plain": [
       "'Alice'"
      ]
     },
     "execution_count": 3,
     "metadata": {},
     "output_type": "execute_result"
    }
   ],
   "source": [
    "alice.name"
   ]
  },
  {
   "cell_type": "code",
   "execution_count": 4,
   "metadata": {
    "collapsed": false
   },
   "outputs": [
    {
     "data": {
      "text/plain": [
       "datetime.date(1987, 11, 3)"
      ]
     },
     "execution_count": 4,
     "metadata": {},
     "output_type": "execute_result"
    }
   ],
   "source": [
    "alice.date_of_birth"
   ]
  },
  {
   "cell_type": "code",
   "execution_count": 5,
   "metadata": {
    "collapsed": false
   },
   "outputs": [
    {
     "data": {
      "text/plain": [
       "28"
      ]
     },
     "execution_count": 5,
     "metadata": {},
     "output_type": "execute_result"
    }
   ],
   "source": [
    "alice.age()"
   ]
  },
  {
   "cell_type": "markdown",
   "metadata": {
    "slideshow": {
     "slide_type": "subslide"
    }
   },
   "source": [
    "## Modify the state"
   ]
  },
  {
   "cell_type": "code",
   "execution_count": 6,
   "metadata": {
    "collapsed": false
   },
   "outputs": [
    {
     "name": "stdout",
     "output_type": "stream",
     "text": [
      "None\n"
     ]
    }
   ],
   "source": [
    "print(baerbel.date_of_birth)"
   ]
  },
  {
   "cell_type": "code",
   "execution_count": 7,
   "metadata": {
    "collapsed": false
   },
   "outputs": [
    {
     "name": "stdout",
     "output_type": "stream",
     "text": [
      "None\n"
     ]
    }
   ],
   "source": [
    "print(baerbel.age())"
   ]
  },
  {
   "cell_type": "code",
   "execution_count": 8,
   "metadata": {
    "collapsed": false
   },
   "outputs": [
    {
     "data": {
      "text/plain": [
       "25"
      ]
     },
     "execution_count": 8,
     "metadata": {},
     "output_type": "execute_result"
    }
   ],
   "source": [
    "baerbel.date_of_birth = date(1991, 2, 15)\n",
    "baerbel.age()"
   ]
  },
  {
   "cell_type": "markdown",
   "metadata": {
    "slideshow": {
     "slide_type": "subslide"
    }
   },
   "source": [
    "## Show objects as strings"
   ]
  },
  {
   "cell_type": "markdown",
   "metadata": {},
   "source": [
    "By default, objects just show as their address in memory, which is not particular helpful:"
   ]
  },
  {
   "cell_type": "code",
   "execution_count": 9,
   "metadata": {
    "collapsed": false
   },
   "outputs": [
    {
     "data": {
      "text/plain": [
       "<__main__.Person at 0xb45baacc>"
      ]
     },
     "execution_count": 9,
     "metadata": {},
     "output_type": "execute_result"
    }
   ],
   "source": [
    "baerbel"
   ]
  },
  {
   "cell_type": "markdown",
   "metadata": {},
   "source": [
    "You can redefine this using `__str__()` and `__repr__()`:"
   ]
  },
  {
   "cell_type": "markdown",
   "metadata": {
    "slideshow": {
     "slide_type": "subslide"
    }
   },
   "source": [
    "## Show objects as strings (continued)"
   ]
  },
  {
   "cell_type": "code",
   "execution_count": 10,
   "metadata": {
    "collapsed": true
   },
   "outputs": [],
   "source": [
    "class Person(object):\n",
    "    def __init__(self, name, size=None, date_of_birth=None):\n",
    "        self.name = name\n",
    "        self.size = size\n",
    "        self.date_of_birth = date_of_birth\n",
    "\n",
    "    def __str__(self):\n",
    "        return '<Person name={0}, size={1}, date_of_birth={2}>'.format(\n",
    "            self.name, self.size, self.date_of_birth)\n",
    "\n",
    "    def __repr__(self):\n",
    "        return str(self)"
   ]
  },
  {
   "cell_type": "code",
   "execution_count": 11,
   "metadata": {
    "collapsed": false
   },
   "outputs": [
    {
     "data": {
      "text/plain": [
       "<Person name=Bärbel, size=None, date_of_birth=1991-02-15>"
      ]
     },
     "execution_count": 11,
     "metadata": {},
     "output_type": "execute_result"
    }
   ],
   "source": [
    "baerbel = Person('Bärbel', date_of_birth = date(1991, 2, 15))\n",
    "baerbel"
   ]
  },
  {
   "cell_type": "markdown",
   "metadata": {
    "slideshow": {
     "slide_type": "slide"
    }
   },
   "source": [
    "# Inheritance"
   ]
  },
  {
   "cell_type": "markdown",
   "metadata": {},
   "source": [
    "* a powerful tool to share behavior\n",
    "* reuse code\n",
    "* model related things that have slight differences\n",
    "* every class already inherits from `object`\n",
    "* `object` provides basic services such as `__str__()`"
   ]
  },
  {
   "cell_type": "markdown",
   "metadata": {
    "slideshow": {
     "slide_type": "subslide"
    }
   },
   "source": [
    "## Base class `Person`"
   ]
  },
  {
   "cell_type": "code",
   "execution_count": 12,
   "metadata": {
    "collapsed": false
   },
   "outputs": [],
   "source": [
    "class Person(object):\n",
    "    def __init__(self, name, size=None, date_of_birth=None):\n",
    "        self.name = name\n",
    "        self.size = size\n",
    "        self.date_of_birth = date_of_birth\n",
    "\n",
    "    def age(self):\n",
    "        if self.date_of_birth is None:\n",
    "            result = None\n",
    "        else:\n",
    "            today = date.today()\n",
    "            born_earlier_this_year = \\\n",
    "                (today.month, today.day) \\\n",
    "                < (self.date_of_birth.month, self.date_of_birth.day)\n",
    "            result = today.year - self.date_of_birth.year - born_earlier_this_year\n",
    "        return result\n",
    "    \n",
    "    def __str__(self):\n",
    "        return '<Person name={0}, size={1}, date_of_birth={2}>'.format(\n",
    "            self.name, self.size, self.date_of_birth)\n",
    "\n",
    "    def __repr__(self):\n",
    "        return str(self)"
   ]
  },
  {
   "cell_type": "markdown",
   "metadata": {
    "slideshow": {
     "slide_type": "subslide"
    }
   },
   "source": [
    "## Extended class Pupil"
   ]
  },
  {
   "cell_type": "code",
   "execution_count": 13,
   "metadata": {
    "collapsed": true
   },
   "outputs": [],
   "source": [
    "class Pupil(Person):\n",
    "    def __init__(self, name, size=None, date_of_birth=None):\n",
    "        super().__init__(name, size, date_of_birth)\n",
    "        self.exam_to_grade_map = {}\n",
    "        \n",
    "    def __str__(self):\n",
    "        return '<Pupil name={0}, exams={1}, size={2}, date_of_birth={3}>'.format(\n",
    "            self.name, self.exam_to_grade_map, self.size, self.date_of_birth)\n",
    "\n",
    "    def take(self, exam, grade):\n",
    "        self.exam_to_grade_map[exam] = grade"
   ]
  },
  {
   "cell_type": "markdown",
   "metadata": {},
   "source": [
    "* `super()` refers to the parent and allows to reuse code from `Person`.\n",
    "* There is no need to declare `__repr__` because it automatically calls our new `__str__`."
   ]
  },
  {
   "cell_type": "markdown",
   "metadata": {
    "slideshow": {
     "slide_type": "subslide"
    }
   },
   "source": [
    "## Work with a `Pupil`"
   ]
  },
  {
   "cell_type": "code",
   "execution_count": 14,
   "metadata": {
    "collapsed": false
   },
   "outputs": [
    {
     "data": {
      "text/plain": [
       "<Pupil name=Bärbel, exams={}, size=None, date_of_birth=1991-02-15>"
      ]
     },
     "execution_count": 14,
     "metadata": {},
     "output_type": "execute_result"
    }
   ],
   "source": [
    "baerbel = Pupil('Bärbel', date_of_birth = date(1991, 2, 15))\n",
    "baerbel"
   ]
  },
  {
   "cell_type": "code",
   "execution_count": 15,
   "metadata": {
    "collapsed": false
   },
   "outputs": [
    {
     "data": {
      "text/plain": [
       "<Pupil name=Bärbel, exams={'Basic math': 2, 'Advanced english': 3}, size=None, date_of_birth=1991-02-15>"
      ]
     },
     "execution_count": 15,
     "metadata": {},
     "output_type": "execute_result"
    }
   ],
   "source": [
    "baerbel.take('Basic math', 2)\n",
    "baerbel.take('Advanced english', 3)\n",
    "baerbel"
   ]
  },
  {
   "cell_type": "markdown",
   "metadata": {
    "slideshow": {
     "slide_type": "slide"
    }
   },
   "source": [
    "# Summary"
   ]
  },
  {
   "cell_type": "markdown",
   "metadata": {},
   "source": [
    "* classes model behavior\n",
    "* attributes store state, methods change state\n",
    "* inheritance is a powerful mechanism for reuse to:\n",
    "  * add new methods and attributes (`Pupil.take()`)\n",
    "  * extend existing methods (`Pupil.__init__()`)\n",
    "  * redefine existing methods (`Pupil.__str__()`)"
   ]
  }
 ],
 "metadata": {
  "celltoolbar": "Slideshow",
  "kernelspec": {
   "display_name": "Python 3",
   "language": "python",
   "name": "python3"
  },
  "language_info": {
   "codemirror_mode": {
    "name": "ipython",
    "version": 3
   },
   "file_extension": ".py",
   "mimetype": "text/x-python",
   "name": "python",
   "nbconvert_exporter": "python",
   "pygments_lexer": "ipython3",
   "version": "3.5.1"
  }
 },
 "nbformat": 4,
 "nbformat_minor": 0
}
