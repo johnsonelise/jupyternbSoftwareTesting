{
 "cells": [
  {
   "cell_type": "markdown",
   "metadata": {
    "slideshow": {
     "slide_type": "slide"
    }
   },
   "source": [
    "# CS 429: Information Retrieval\n",
    "<br>\n",
    "\n",
    "## Lecture 14: Language Models II\n",
    "\n",
    "<br>\n",
    "\n",
    "### Dr. Aron Culotta\n",
    "### Illinois Institute of Technology\n"
   ]
  },
  {
   "cell_type": "markdown",
   "metadata": {
    "slideshow": {
     "slide_type": "slide"
    }
   },
   "source": [
    "# Last time\n",
    "\n",
    "Language models:\n",
    "- Rank documents by $P(q|M_d)$\n",
    "  - $q$: query\n",
    "  - $M_d$: A probability distribution over words for document $d$\n",
    "    - Unigram model\n",
    "    - smoothing\n",
    "    - interpolation"
   ]
  },
  {
   "cell_type": "markdown",
   "metadata": {},
   "source": [
    "## Interpolated Language Model Example\n",
    "\n",
    "<table>\n",
    "<tr><td>docID</td> <td>Document text</td></tr>\n",
    "<tr> <td>1</td> <td>click go the shears boys click click click</td> </tr>\n",
    "<tr> <td>2</td> <td>click click</td></tr>\n",
    "<tr> <td>3</td> <td>metal here</td></tr>\n",
    "<tr> <td>4</td> <td>metal shears click here</td></tr>\n",
    "</table>\n",
    "\n",
    "<table>\n",
    "<tr><td>Query</td> <td>Doc 1</td> <td>Doc 2</td> <td>Doc 3</td> <td>Doc 4</td></tr>\n",
    "<tr><td>click</td><td> </td><td> </td><td> </td><td> </td></tr>\n",
    "<tr><td>shears</td><td> </td><td> </td><td> </td><td> </td></tr>\n",
    "<tr><td>click shears</td><td> </td><td> </td><td> </td><td> </td></tr>\n",
    "</table>\n",
    "\n",
    "(Source: [MRS](http://nlp.stanford.edu/IR-book/pdf/12lmodel.pdf))\n",
    "\n",
    "Let $\\lambda=0.5$.\n",
    "\n",
    "$\\begin{align} P_{interp}(q|M_d) = \\prod_{t \\in q} P_{interp}(t|M_d) = \\prod_{t \\in q} \\lambda \\frac{tf_{t, d}}{L_d} + (1-\\lambda) \\frac{cf_{t}}{T}  \\end{align}$\n",
    "\n",
    "\n",
    "|P(t&#124;$M_d$)|$d_1$|$d_2$|$d_3$|$d_4$|\n",
    "|--------|---|---|---|---|\n",
    "| click  | 4/8 | 2/2 | 0/2 | 1/4|\n",
    "| shears | 1/8 | 0/2 | 0/2 | 1/4|\n",
    "\n",
    "$T=16$ (number of total tokens)\n",
    "\n",
    "| | P(t&#124;$M_c$)|\n",
    "|--------|---|\n",
    "| click  | 7/16 |\n",
    "| shears | 2/16 |\n",
    "\n",
    "**For $q=$ \"click\"**\n",
    "\n",
    "$P_{interp}(click|M_{d_1}) = 0.5 * P(click|M_{d_1}) + 0.5 * P(click|M_c) = 0.5(\\frac{4}{8}) + 0.5(\\frac{7}{16}) \\approx 0.48$  \n",
    "$P_{interp}(click|M_{d_2}) = 0.5(\\frac{2}{2}) + 0.5(\\frac{7}{16}) \\approx 0.71875$  \n",
    "$P_{interp}(click|M_{d_3}) = 0.5(\\frac{0}{2}) + 0.5(\\frac{7}{16}) \\approx 0.21875$  \n",
    "$P_{interp}(click|M_{d_4}) = 0.5(\\frac{1}{4}) + 0.5(\\frac{7}{16}) \\approx 0.34375$\n",
    "\n",
    "**For $q=$ \"shears\"**\n",
    "\n",
    "$P_{interp}(shears|M_{d_1}) = 0.5(\\frac{1}{8}) + 0.5(\\frac{2}{16}) \\approx 0.125$  \n",
    "$P_{interp}(shears|M_{d_2}) = 0.5(\\frac{0}{2}) + 0.5(\\frac{2}{16}) \\approx 0.0625$  \n",
    "$P_{interp}(shears|M_{d_3}) = 0.5(\\frac{0}{2}) + 0.5(\\frac{2}{16}) \\approx 0.0625$  \n",
    "$P_{interp}(shears|M_{d_4}) = 0.5(\\frac{1}{4}) + 0.5(\\frac{2}{16}) \\approx 0.1875$\n",
    "\n",
    "**For $q=$ \"click shears\"**\n",
    "Just multiply $P_{interp}(click|M_{d}) * P_{interp}(shears|M_{d})$\n",
    "\n",
    "$P_{interp}(click, shears|M_{d_1}) \\approx 0.48 * 0.125 = 0.06$  \n",
    "$P_{interp}(click, shears|M_{d_2}) \\approx 0.71875 * 0.0625 = 0.0449$  \n",
    "$P_{interp}(click, shears|M_{d_3}) \\approx 0.21875 * 0.0625 = 0.0137$  \n",
    "$P_{interp}(click, shears|M_{d_4}) \\approx 0.34375 * 0.1875 = 0.0645$  \n",
    "\n"
   ]
  },
  {
   "cell_type": "markdown",
   "metadata": {},
   "source": [
    "The ranking functions above do not use a model for the query; simply loop over query terms.\n",
    "\n",
    "What if we had a query model $P(t|M_q)$?\n",
    "\n",
    "- Most useful for long queries\n",
    "- Can estimate using any of the document models above (e.g., $P_{interp}$)"
   ]
  },
  {
   "cell_type": "code",
   "execution_count": 8,
   "metadata": {
    "collapsed": true
   },
   "outputs": [],
   "source": [
    "from collections import Counter\n",
    "import math\n",
    "import matplotlib.pyplot as plt\n",
    "import numpy as np\n",
    "%matplotlib inline"
   ]
  },
  {
   "cell_type": "code",
   "execution_count": 9,
   "metadata": {
    "collapsed": false
   },
   "outputs": [
    {
     "data": {
      "text/plain": [
       "Counter({'gold': 0.10526315789473684,\n",
       "         'in': 0.10526315789473684,\n",
       "         'medals': 0.10526315789473684,\n",
       "         'nine': 0.10526315789473684,\n",
       "         'olympics': 0.10526315789473684,\n",
       "         'states': 0.10526315789473684,\n",
       "         'the': 0.15789473684210525,\n",
       "         'united': 0.10526315789473684,\n",
       "         'won': 0.10526315789473684})"
      ]
     },
     "execution_count": 9,
     "metadata": {},
     "output_type": "execute_result"
    }
   ],
   "source": [
    "def doc2model_smooth(doc, smooth_term, vocab):\n",
    "    \"\"\"Convert a document d into a language model M_d using Laplacian (+1) smoothing.\"\"\"\n",
    "    counts = Counter(doc)\n",
    "    for term in vocab:\n",
    "        counts[term] = (counts[term] + smooth_term) / (1. * len(doc) + smooth_term * len(vocab))\n",
    "    return counts\n",
    "\n",
    "vocab = ['the', 'united', 'states', 'won', 'nine', 'gold', 'medals', 'in', 'olympics']\n",
    "\n",
    "m_d = doc2model_smooth(['the', 'united', 'states', 'won', 'nine', 'gold', 'medals',\n",
    "                        'in', 'the', 'olympics'],\n",
    "                       smooth_term=1, vocab=vocab)\n",
    "m_d"
   ]
  },
  {
   "cell_type": "code",
   "execution_count": 12,
   "metadata": {
    "collapsed": false
   },
   "outputs": [
    {
     "data": {
      "text/plain": [
       "Counter({'gold': 0.09090909090909091,\n",
       "         'in': 0.09090909090909091,\n",
       "         'medals': 0.09090909090909091,\n",
       "         'nine': 0.09090909090909091,\n",
       "         'olympics': 0.18181818181818182,\n",
       "         'states': 0.09090909090909091,\n",
       "         'the': 0.18181818181818182,\n",
       "         'united': 0.09090909090909091,\n",
       "         'won': 0.09090909090909091})"
      ]
     },
     "execution_count": 12,
     "metadata": {},
     "output_type": "execute_result"
    }
   ],
   "source": [
    "# Use same function to create a query model.\n",
    "m_q = doc2model_smooth(['the', 'olympics'], smooth_term=1, vocab=vocab)\n",
    "m_q"
   ]
  },
  {
   "cell_type": "markdown",
   "metadata": {},
   "source": [
    "**How do we score documents with a query model?**\n",
    "\n",
    "Idea:\n",
    "- Compute the distance between $M_q$ and $M_d$\n",
    "- Documents with small distances should be more relevant\n",
    "\n",
    "<br><br><br><br>"
   ]
  },
  {
   "cell_type": "markdown",
   "metadata": {},
   "source": [
    "## Distance between probability distributions\n",
    "\n",
    "Given two probability distributions $P(w|M_d)$ and $P(w|M_q)$, how do we compute the distance between them?\n",
    "\n",
    "<br><br><br><br><br><br><br><br><br>"
   ]
  },
  {
   "cell_type": "markdown",
   "metadata": {},
   "source": [
    "**Mean Absolute Error**\n",
    "\n",
    "$$ MAE(M_q, M_d) = \\frac{1}{|V|}\\sum_{t \\in V} |P(t|M_q) - P(t|M_d)|$$"
   ]
  },
  {
   "cell_type": "code",
   "execution_count": 13,
   "metadata": {
    "collapsed": false
   },
   "outputs": [
    {
     "data": {
      "text/plain": [
       "0.022328548644338114"
      ]
     },
     "execution_count": 13,
     "metadata": {},
     "output_type": "execute_result"
    }
   ],
   "source": [
    "def mae(m_q, m_d):\n",
    "    terms = m_q.keys() | m_d.keys()\n",
    "    return np.mean(([abs(m_q[t] - m_d[t]) for t in terms]))\n",
    "\n",
    "mae(m_q, m_d)"
   ]
  },
  {
   "cell_type": "markdown",
   "metadata": {},
   "source": [
    "**Mean Squared Error**\n",
    "\n",
    "$$ MSE(M_q, M_d) = \\frac{1}{|V|}\\sum_{t \\in V} [P(t|M_q) - P(t|M_d)]^2$$"
   ]
  },
  {
   "cell_type": "code",
   "execution_count": 14,
   "metadata": {
    "collapsed": false
   },
   "outputs": [
    {
     "data": {
      "text/plain": [
       "0.00087503084229349651"
      ]
     },
     "execution_count": 14,
     "metadata": {},
     "output_type": "execute_result"
    }
   ],
   "source": [
    "def mse(m_q, m_d):\n",
    "    terms = m_q.keys() | m_d.keys()\n",
    "    return np.mean(([(m_q[t] - m_d[t])**2 for t in terms]))\n",
    "\n",
    "mse(m_q, m_d)"
   ]
  },
  {
   "cell_type": "markdown",
   "metadata": {},
   "source": [
    "**1 - Cosine Similarity**\n",
    "\n",
    "$$ C(M_q, M_d) = 1 -  \\frac{\\sum_{t \\in V} P(t|M_q) * P(t|M_d)}{||P(t|M_q)||*||P(t|M_d)||}$$"
   ]
  },
  {
   "cell_type": "code",
   "execution_count": 15,
   "metadata": {
    "collapsed": false
   },
   "outputs": [
    {
     "data": {
      "text/plain": [
       "0.032226593745385834"
      ]
     },
     "execution_count": 15,
     "metadata": {},
     "output_type": "execute_result"
    }
   ],
   "source": [
    "def norm(m):\n",
    "    \"\"\" sqrt(sum(x^2))\"\"\"\n",
    "    return math.sqrt(np.sum(v**2 for v in m.values()))\n",
    "\n",
    "def cosine(m_q, m_d):\n",
    "    \"\"\" 1 - cosine similarity between m_q and m_d.\"\"\"\n",
    "    terms = m_q.keys() | m_d.keys()    \n",
    "    return 1-sum((m_q[t] * m_d[t]) for t in terms) / (norm(m_q) * norm(m_d))\n",
    "    \n",
    "cosine(m_q, m_d)"
   ]
  },
  {
   "cell_type": "markdown",
   "metadata": {},
   "source": [
    "** Kullback–Leibler divergence (KL divergence)**\n",
    "\n",
    "$$ KL(M_q||M_d) = \\sum_{t \\in q} P(t|M_q) \\log \\frac{P(t|M_q)}{P(t|M_d)}$$"
   ]
  },
  {
   "cell_type": "code",
   "execution_count": 16,
   "metadata": {
    "collapsed": false
   },
   "outputs": [
    {
     "data": {
      "text/plain": [
       "0.005086160014412729"
      ]
     },
     "execution_count": 16,
     "metadata": {},
     "output_type": "execute_result"
    }
   ],
   "source": [
    "def kl(m_q, m_d):\n",
    "    return np.mean(([ m_q[t] * math.log2(m_q[t] / m_d[t]) for t in m_q]))\n",
    "kl(m_q, m_d)"
   ]
  },
  {
   "cell_type": "markdown",
   "metadata": {},
   "source": [
    "**More about KL-divergence**\n",
    "\n",
    "- Not symmetric: $KL(M_q||M_d) \\ne KL(M_d|| M_q)$\n",
    "  - Therefore, not a true **metric**\n",
    "- Also does not obey triangle inequality\n",
    "  - $KL(a||c) \\nleq KL(a||b) + KL(b||c)$"
   ]
  },
  {
   "cell_type": "code",
   "execution_count": 17,
   "metadata": {
    "collapsed": false
   },
   "outputs": [
    {
     "data": {
      "text/plain": [
       "0.004523190063415135"
      ]
     },
     "execution_count": 17,
     "metadata": {},
     "output_type": "execute_result"
    }
   ],
   "source": [
    "# KL divergence not symmetric.\n",
    "kl(m_d, m_q)"
   ]
  },
  {
   "cell_type": "markdown",
   "metadata": {},
   "source": [
    "- KL divergence has a nice interpretation from information theory.\n",
    "\n",
    "**Entropy**: measure of the \"randomness\": of a distribution\n",
    "$$H(P) = -\\sum_i p(i) \\log p(i)$$"
   ]
  },
  {
   "cell_type": "code",
   "execution_count": 18,
   "metadata": {
    "collapsed": false
   },
   "outputs": [
    {
     "data": {
      "image/png": "[encoded data removed]",
      "text/plain": [
       "<matplotlib.figure.Figure at 0x1063d7978>"
      ]
     },
     "metadata": {},
     "output_type": "display_data"
    }
   ],
   "source": [
    "def entropy(p):\n",
    "    return -sum(pi * math.log2(pi) for pi in p.values())\n",
    "\n",
    "probs = np.arange(1,10) / 10\n",
    "entropies = [entropy({'a': p, 'b': 1 - p}) for p in probs]\n",
    "plt.figure()\n",
    "plt.plot(probs, entropies)\n",
    "plt.xlabel('P(a)', size=16)\n",
    "plt.ylabel('H(P)', size=16)\n",
    "plt.title('Entropy is maximized when P(a)=P(b)=.5', size=15)\n",
    "plt.show()"
   ]
  },
  {
   "cell_type": "markdown",
   "metadata": {},
   "source": [
    "**Coding theory:**\n",
    "- The goal of data compression: represent each object with as few bits as possible.\n",
    "- Let $C(x)$ be the code for object $x$\n",
    "  - e.g., $C(6) = 0110$\n",
    "- Let $l(C(x))$ be the length of the code (e.g., 4 bits)\n",
    "- Then the expected length of the code for any object is:\n",
    "  $$ E(l(c)) = \\sum_x l(C(x))P(x)$$\n",
    "- Entropy of $P(x)$ determines amount of compression possible\n",
    "  - E.g., consider flipping two coins.\n",
    "  - If fair coins (high entropy)\n",
    "    - $P(H,H) = P(H,T) = P(T,H) = P(T,T) = .25$\n",
    "    - Each outcome represneted as two bits (e.g., HH=11)\n",
    "  - If very biased (low entropy)\n",
    "    - $P(H,H) = .9; P(H,T) = P(T,H) = P(T,T) = 0.03$\n",
    "    - Can use variable length encoding.\n",
    "      - E.g., use one bit for $[H,H]$, two bits for rest."
   ]
  },
  {
   "cell_type": "markdown",
   "metadata": {},
   "source": [
    "**Cross-entropy:**\n",
    "- Measure of how well $Q$ approximates $P$\n",
    "- Number of bits to encode objects with $Q$, rather than true distribution $P$\n",
    "\n",
    "$$H(P, Q) = - \\sum_i p(i) \\log q(i) $$"
   ]
  },
  {
   "cell_type": "markdown",
   "metadata": {},
   "source": [
    "**KL divergence KL(P||Q)** can be rewritten as cross-entropy minus entropy of P.\n",
    "\n",
    "$$KL(P||Q) = H(P,Q) - H(P)$$\n",
    "\n",
    "- How many *additional* bits are needed to encode data using $Q$ beyond that required if using the \"true\" distribution $P$?\n",
    "\n",
    "Back to our problem:\n",
    "\n",
    "$$KL(M_q||M_d) = H(M_q, M_d) - H(M_q)$$\n",
    "\n",
    "How bad of an approximation to $M_q$ is $M_d$?\n",
    "\n"
   ]
  },
  {
   "cell_type": "markdown",
   "metadata": {},
   "source": [
    "Summary:\n",
    "- We can compare the query and document models to rank documents.\n",
    "- The choice of distance function will affect ranking.\n",
    "\n",
    "Let's compare the distance functions on a simple example."
   ]
  },
  {
   "cell_type": "code",
   "execution_count": 19,
   "metadata": {
    "collapsed": false
   },
   "outputs": [
    {
     "name": "stdout",
     "output_type": "stream",
     "text": [
      "{'b': 0.90000000000000002, 'a': 0.10000000000000001}\n",
      "{'b': 0.80000000000000004, 'a': 0.20000000000000001}\n",
      "{'b': 0.69999999999999996, 'a': 0.29999999999999999}\n",
      "{'b': 0.59999999999999998, 'a': 0.40000000000000002}\n",
      "{'b': 0.5, 'a': 0.5}\n",
      "{'b': 0.40000000000000002, 'a': 0.59999999999999998}\n",
      "{'b': 0.30000000000000004, 'a': 0.69999999999999996}\n",
      "{'b': 0.19999999999999996, 'a': 0.80000000000000004}\n",
      "{'b': 0.099999999999999978, 'a': 0.90000000000000002}\n"
     ]
    },
    {
     "data": {
      "image/png": "[encoded data removed]",
      "text/plain": [
       "<matplotlib.figure.Figure at 0x106c48c18>"
      ]
     },
     "metadata": {},
     "output_type": "display_data"
    }
   ],
   "source": [
    "# How do these different measures compare?\n",
    "\n",
    "def plot_measures(m_q2):\n",
    "    maes = []\n",
    "    mses = []\n",
    "    cosines = []\n",
    "    kls = []\n",
    "\n",
    "    # Loop over possible document distributions.\n",
    "    probs = np.arange(1,10) / 10\n",
    "    for pi in probs:\n",
    "        m_d2 = {'a': pi, 'b': 1 - pi}\n",
    "        print(m_d2)\n",
    "        maes.append(mae(m_q2, m_d2))\n",
    "        mses.append(mse(m_q2, m_d2))\n",
    "        cosines.append(cosine(m_q2, m_d2))\n",
    "        kls.append(kl(m_q2, m_d2))\n",
    "\n",
    "    # plot.\n",
    "    plt.figure(figsize=(10,5))\n",
    "    plt.plot(probs, maes, label='mae')\n",
    "    plt.plot(probs, mses, label='mse')\n",
    "    plt.plot(probs, cosines, label='1-cosine')\n",
    "    plt.plot(probs, kls, label='kl')\n",
    "    plt.xlabel('$P(a|M_d)$', size=16)\n",
    "    plt.ylabel('distance($M_q, M_d$)', size=16)\n",
    "    plt.legend(loc='best')\n",
    "    plt.show()\n",
    "    \n",
    "plot_measures({'a': .5, 'b': .5})"
   ]
  },
  {
   "cell_type": "code",
   "execution_count": 20,
   "metadata": {
    "collapsed": false
   },
   "outputs": [
    {
     "name": "stdout",
     "output_type": "stream",
     "text": [
      "{'b': 0.90000000000000002, 'a': 0.10000000000000001}\n",
      "{'b': 0.80000000000000004, 'a': 0.20000000000000001}\n",
      "{'b': 0.69999999999999996, 'a': 0.29999999999999999}\n",
      "{'b': 0.59999999999999998, 'a': 0.40000000000000002}\n",
      "{'b': 0.5, 'a': 0.5}\n",
      "{'b': 0.40000000000000002, 'a': 0.59999999999999998}\n",
      "{'b': 0.30000000000000004, 'a': 0.69999999999999996}\n",
      "{'b': 0.19999999999999996, 'a': 0.80000000000000004}\n",
      "{'b': 0.099999999999999978, 'a': 0.90000000000000002}\n"
     ]
    },
    {
     "data": {
      "image/png": "[encoded data removed]",
      "text/plain": [
       "<matplotlib.figure.Figure at 0x106c920b8>"
      ]
     },
     "metadata": {},
     "output_type": "display_data"
    }
   ],
   "source": [
    "plot_measures({'a': .9, 'b': .1})"
   ]
  },
  {
   "cell_type": "markdown",
   "metadata": {},
   "source": [
    "So, KL-divergence will place a larger penalty on documents that have a large mismatch for one query term."
   ]
  },
  {
   "cell_type": "markdown",
   "metadata": {},
   "source": [
    "## Language Models: Summary\n",
    "\n",
    "<img src='lmsummary.png'>\n"
   ]
  },
  {
   "cell_type": "markdown",
   "metadata": {},
   "source": [
    "**Possible shortcoming:**\n",
    "- Language models are not optimized to have high evaluation metrics\n",
    "- E.g., if we want to maximize Precision, Recall, MAP, nothing about language models directly optimize this.\n",
    "\n",
    "Alternative:\n",
    "- Machine learning: use historical data to optimize an evaluation metrics\n"
   ]
  }
 ],
 "metadata": {
  "kernelspec": {
   "display_name": "Python 3",
   "language": "python",
   "name": "python3"
  },
  "language_info": {
   "codemirror_mode": {
    "name": "ipython",
    "version": 3
   },
   "file_extension": ".py",
   "mimetype": "text/x-python",
   "name": "python",
   "nbconvert_exporter": "python",
   "pygments_lexer": "ipython3",
   "version": "3.5.0"
  }
 },
 "nbformat": 4,
 "nbformat_minor": 0
}
