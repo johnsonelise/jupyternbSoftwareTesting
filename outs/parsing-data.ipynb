{
 "cells": [
  {
   "cell_type": "markdown",
   "metadata": {},
   "source": [
    "# Parsing Data from External Sources in Python"
   ]
  },
  {
   "cell_type": "markdown",
   "metadata": {},
   "source": [
    "## XML"
   ]
  },
  {
   "cell_type": "markdown",
   "metadata": {},
   "source": [
    "XML is a widely used toll to store and transport data. XML stands for EXtensiable Markup Language, and stores data in tags similar to HTML, except that in XML, tags are NOT pre-defined.\n",
    "\n",
    "A sample XML file is like this\n",
    "\n",
    "\n",
    "```\n",
    "<book>\n",
    "    <title> Parsing Data in Python </title>\n",
    "    <author> John Smith </author>\n",
    "    <year> 2016  </year>\n",
    "    <price> 25.00  </price>\n",
    "</book>\n",
    "```\n",
    "\n",
    "Each field is given by a tag. Now, given an XML file, if we want to retreive some data, XPath can be used. Here, we illustrate how to use XPath to retreive data from XML. Using the example XML data above, XPath uses a \n",
    "\n",
    " * First, we need to create"
   ]
  },
  {
   "cell_type": "code",
   "execution_count": 4,
   "metadata": {
    "collapsed": false
   },
   "outputs": [
    {
     "data": {
      "text/plain": [
       "<Element T1 at 0x7f0b44d47908>"
      ]
     },
     "execution_count": 4,
     "metadata": {},
     "output_type": "execute_result"
    }
   ],
   "source": [
    "import lxml, lxml.etree\n",
    "\n",
    "sample_data = '<T1> <T2> Child 1 <T3> Child 3</T3> Child 2</T2> </T1>'\n",
    "\n",
    "lxml.etree.XML(sample_data)"
   ]
  },
  {
   "cell_type": "code",
   "execution_count": null,
   "metadata": {
    "collapsed": true
   },
   "outputs": [],
   "source": []
  }
 ],
 "metadata": {
  "kernelspec": {
   "display_name": "Python 3",
   "language": "python",
   "name": "python3"
  },
  "language_info": {
   "codemirror_mode": {
    "name": "ipython",
    "version": 3
   },
   "file_extension": ".py",
   "mimetype": "text/x-python",
   "name": "python",
   "nbconvert_exporter": "python",
   "pygments_lexer": "ipython3",
   "version": "3.4.3"
  }
 },
 "nbformat": 4,
 "nbformat_minor": 0
}
