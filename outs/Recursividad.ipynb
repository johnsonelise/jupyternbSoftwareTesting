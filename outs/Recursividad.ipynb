{
 "cells": [
  {
   "cell_type": "code",
   "execution_count": 1,
   "metadata": {
    "collapsed": false
   },
   "outputs": [
    {
     "name": "stdout",
     "output_type": "stream",
     "text": [
      "Populating the interactive namespace from numpy and matplotlib\n"
     ]
    }
   ],
   "source": [
    "%pylab inline \n",
    "# (%pylab == import numpy as np && import matplotlib as plt), (inline == graficas dentro del notebook)"
   ]
  },
  {
   "cell_type": "markdown",
   "metadata": {},
   "source": [
    "# Recursividad"
   ]
  },
  {
   "cell_type": "markdown",
   "metadata": {},
   "source": [
    "En esta parte queremos aprender a hacer cálculos con recursividad. Ustedes ya tienen familiaridad haciendo otro tipo de cálculos iterativos (usando ciclos/bucles). Estas se llaman funciones **Iterativas**."
   ]
  },
  {
   "cell_type": "markdown",
   "metadata": {},
   "source": [
    "## Funciones Iterativas vs. Recursivas"
   ]
  },
  {
   "cell_type": "markdown",
   "metadata": {},
   "source": [
    "La diferencia principal es que las funciones recursivas se llaman a si mismas. Confundidos? Calculemos un factorial!"
   ]
  },
  {
   "cell_type": "markdown",
   "metadata": {},
   "source": [
    "Los factoriales aparecen siempre en matemáticas y ciencias naturales.\n",
    "Un ejemplo:\n",
    "$$4! = 4\\times3\\times2\\times1 = 24$$\n",
    "\n",
    "En general, los factoriales tienen esta forma:\n",
    "$$n! = n\\times(n-1)\\times(n-2) ... \\times2\\times1$$\n",
    "\n",
    "Qué hacemos exactamente en ese \"...\"? o más precisamente, qué hace el computador?\n",
    "\n",
    "\n",
    "Podemos intentar re-escribrir esa última ecuación:\n",
    "\n",
    "$$n! = n\\times(n-1)!$$\n",
    "\n",
    "Pero esto no resuelve nuestro problema; tenemos una definición circular.\n",
    "\n",
    "Pero si la dividimos en casos, tenemos una definición funcional.\n",
    "\n",
    "$$n! = 1, n=0$$\n",
    "$$n! = n\\times(n-1)!, n>0$$\n",
    "\n",
    "Esto sirve para $n$ entero. Es decir, dividimos nuestro problema en un caso base y caso recursivo."
   ]
  },
  {
   "cell_type": "code",
   "execution_count": 2,
   "metadata": {
    "collapsed": false
   },
   "outputs": [],
   "source": [
    "def factorial_iterativo(n):\n",
    "    resultado = 1\n",
    "    for i in range(1, n+1):\n",
    "        resultado *= i\n",
    "    return resultado"
   ]
  },
  {
   "cell_type": "code",
   "execution_count": 3,
   "metadata": {
    "collapsed": false
   },
   "outputs": [
    {
     "name": "stdout",
     "output_type": "stream",
     "text": [
      "1\n",
      "2\n",
      "6\n",
      "24\n",
      "120\n",
      "720\n",
      "5040\n",
      "40320\n",
      "362880\n",
      "3628800\n",
      "39916800\n"
     ]
    }
   ],
   "source": [
    "for i in range(1,12):\n",
    "    print(factorial_iterativo(i))"
   ]
  },
  {
   "cell_type": "code",
   "execution_count": 5,
   "metadata": {
    "collapsed": false
   },
   "outputs": [],
   "source": [
    "def factorial_recursivo(n):\n",
    "    if n == 0:\n",
    "        return 1\n",
    "    else:\n",
    "        return n*factorial_recursivo(n-1)"
   ]
  },
  {
   "cell_type": "code",
   "execution_count": 6,
   "metadata": {
    "collapsed": false
   },
   "outputs": [],
   "source": [
    "x = zeros(10)\n",
    "y = range(1,10)\n",
    "for i in y:\n",
    "    x[i] = factorial_recursivo(i)"
   ]
  },
  {
   "cell_type": "code",
   "execution_count": 7,
   "metadata": {
    "collapsed": false
   },
   "outputs": [
    {
     "data": {
      "text/plain": [
       "[<matplotlib.lines.Line2D at 0x7fc454029e80>]"
      ]
     },
     "execution_count": 7,
     "metadata": {},
     "output_type": "execute_result"
    },
    {
     "data": {
      "image/png": "[encoded data removed]",
      "text/plain": [
       "<matplotlib.figure.Figure at 0x7fc45434ba90>"
      ]
     },
     "metadata": {},
     "output_type": "display_data"
    }
   ],
   "source": [
    "plot(x)"
   ]
  },
  {
   "cell_type": "markdown",
   "metadata": {},
   "source": [
    "## Fibonacci y más..."
   ]
  },
  {
   "cell_type": "markdown",
   "metadata": {},
   "source": [
    "Cómo escribiría la serie de fibonacci?"
   ]
  }
 ],
 "metadata": {
  "kernelspec": {
   "display_name": "Python 3",
   "language": "python",
   "name": "python3"
  },
  "language_info": {
   "codemirror_mode": {
    "name": "ipython",
    "version": 3
   },
   "file_extension": ".py",
   "mimetype": "text/x-python",
   "name": "python",
   "nbconvert_exporter": "python",
   "pygments_lexer": "ipython3",
   "version": "3.4.2"
  }
 },
 "nbformat": 4,
 "nbformat_minor": 0
}
