{
 "cells": [
  {
   "cell_type": "markdown",
   "metadata": {},
   "source": [
    "Paradigm entropy\n",
    "================\n",
    "\n",
    "This notebook shows some conditional entropy calculations from Ackerman & Malouf (2013)."
   ]
  },
  {
   "cell_type": "code",
   "execution_count": 7,
   "metadata": {
    "collapsed": false
   },
   "outputs": [],
   "source": [
    "%precision 3\n",
    "\n",
    "import pandas as pd\n",
    "import numpy as np\n",
    "pd.set_option('display.float_format',lambda x : '%.3f'%x)"
   ]
  },
  {
   "cell_type": "code",
   "execution_count": 8,
   "metadata": {
    "collapsed": false
   },
   "outputs": [],
   "source": [
    "import entropy"
   ]
  },
  {
   "cell_type": "markdown",
   "metadata": {},
   "source": [
    "Read in the paradigms from tab-delimited file as a pandas DataFrame:"
   ]
  },
  {
   "cell_type": "code",
   "execution_count": 9,
   "metadata": {
    "collapsed": false
   },
   "outputs": [
    {
     "data": {
      "text/html": [
       "<div style=\"max-height:1000px;max-width:1500px;overflow:auto;\">\n",
       "<table border=\"1\" class=\"dataframe\">\n",
       "  <thead>\n",
       "    <tr style=\"text-align: right;\">\n",
       "      <th></th>\n",
       "      <th>nom.sg</th>\n",
       "      <th>gen.sg</th>\n",
       "      <th>acc.sg</th>\n",
       "      <th>voc.sg</th>\n",
       "      <th>nom.pl</th>\n",
       "      <th>gen.pl</th>\n",
       "      <th>acc.pl</th>\n",
       "      <th>voc.pl</th>\n",
       "    </tr>\n",
       "    <tr>\n",
       "      <th>class</th>\n",
       "      <th></th>\n",
       "      <th></th>\n",
       "      <th></th>\n",
       "      <th></th>\n",
       "      <th></th>\n",
       "      <th></th>\n",
       "      <th></th>\n",
       "      <th></th>\n",
       "    </tr>\n",
       "  </thead>\n",
       "  <tbody>\n",
       "    <tr>\n",
       "      <th>1</th>\n",
       "      <td> -os</td>\n",
       "      <td>  -u</td>\n",
       "      <td> -on</td>\n",
       "      <td>  -e</td>\n",
       "      <td>  -i</td>\n",
       "      <td> -on</td>\n",
       "      <td> -us</td>\n",
       "      <td>  -i</td>\n",
       "    </tr>\n",
       "    <tr>\n",
       "      <th>2</th>\n",
       "      <td>  -s</td>\n",
       "      <td>  -0</td>\n",
       "      <td>  -0</td>\n",
       "      <td>  -0</td>\n",
       "      <td> -es</td>\n",
       "      <td> -on</td>\n",
       "      <td> -es</td>\n",
       "      <td> -es</td>\n",
       "    </tr>\n",
       "    <tr>\n",
       "      <th>3</th>\n",
       "      <td>  -0</td>\n",
       "      <td>  -s</td>\n",
       "      <td>  -0</td>\n",
       "      <td>  -0</td>\n",
       "      <td> -es</td>\n",
       "      <td> -on</td>\n",
       "      <td> -es</td>\n",
       "      <td> -es</td>\n",
       "    </tr>\n",
       "    <tr>\n",
       "      <th>4</th>\n",
       "      <td>  -0</td>\n",
       "      <td>  -s</td>\n",
       "      <td>  -0</td>\n",
       "      <td>  -0</td>\n",
       "      <td> -is</td>\n",
       "      <td> -on</td>\n",
       "      <td> -is</td>\n",
       "      <td> -is</td>\n",
       "    </tr>\n",
       "    <tr>\n",
       "      <th>5</th>\n",
       "      <td>  -o</td>\n",
       "      <td>  -u</td>\n",
       "      <td>  -o</td>\n",
       "      <td>  -o</td>\n",
       "      <td>  -a</td>\n",
       "      <td> -on</td>\n",
       "      <td>  -a</td>\n",
       "      <td>  -a</td>\n",
       "    </tr>\n",
       "    <tr>\n",
       "      <th>6</th>\n",
       "      <td>  -0</td>\n",
       "      <td>  -u</td>\n",
       "      <td>  -0</td>\n",
       "      <td>  -0</td>\n",
       "      <td>  -a</td>\n",
       "      <td> -on</td>\n",
       "      <td>  -a</td>\n",
       "      <td>  -a</td>\n",
       "    </tr>\n",
       "    <tr>\n",
       "      <th>7</th>\n",
       "      <td> -os</td>\n",
       "      <td> -us</td>\n",
       "      <td> -os</td>\n",
       "      <td> -os</td>\n",
       "      <td>  -i</td>\n",
       "      <td> -on</td>\n",
       "      <td>  -i</td>\n",
       "      <td>  -i</td>\n",
       "    </tr>\n",
       "    <tr>\n",
       "      <th>8</th>\n",
       "      <td>  -0</td>\n",
       "      <td> -os</td>\n",
       "      <td>  -0</td>\n",
       "      <td>  -0</td>\n",
       "      <td>  -a</td>\n",
       "      <td> -on</td>\n",
       "      <td>  -a</td>\n",
       "      <td>  -a</td>\n",
       "    </tr>\n",
       "  </tbody>\n",
       "</table>\n",
       "</div>"
      ],
      "text/plain": [
       "      nom.sg gen.sg acc.sg voc.sg nom.pl gen.pl acc.pl voc.pl\n",
       "class                                                        \n",
       "1        -os     -u    -on     -e     -i    -on    -us     -i\n",
       "2         -s     -0     -0     -0    -es    -on    -es    -es\n",
       "3         -0     -s     -0     -0    -es    -on    -es    -es\n",
       "4         -0     -s     -0     -0    -is    -on    -is    -is\n",
       "5         -o     -u     -o     -o     -a    -on     -a     -a\n",
       "6         -0     -u     -0     -0     -a    -on     -a     -a\n",
       "7        -os    -us    -os    -os     -i    -on     -i     -i\n",
       "8         -0    -os     -0     -0     -a    -on     -a     -a"
      ]
     },
     "execution_count": 9,
     "metadata": {},
     "output_type": "execute_result"
    }
   ],
   "source": [
    "greek = pd.read_table('mgreek.txt',index_col=0)\n",
    "greek"
   ]
  },
  {
   "cell_type": "markdown",
   "metadata": {},
   "source": [
    "The gen.sg and acc.pl are the cells with the largest number of distinct realizations and the gen.pl is the cell with the least:"
   ]
  },
  {
   "cell_type": "code",
   "execution_count": 10,
   "metadata": {
    "collapsed": false
   },
   "outputs": [
    {
     "data": {
      "text/html": [
       "<div style=\"max-height:1000px;max-width:1500px;overflow:auto;\">\n",
       "<table border=\"1\" class=\"dataframe\">\n",
       "  <thead>\n",
       "    <tr style=\"text-align: right;\">\n",
       "      <th></th>\n",
       "      <th>nom.sg</th>\n",
       "      <th>gen.sg</th>\n",
       "      <th>acc.sg</th>\n",
       "      <th>voc.sg</th>\n",
       "      <th>nom.pl</th>\n",
       "      <th>gen.pl</th>\n",
       "      <th>acc.pl</th>\n",
       "      <th>voc.pl</th>\n",
       "    </tr>\n",
       "  </thead>\n",
       "  <tbody>\n",
       "    <tr>\n",
       "      <th>count</th>\n",
       "      <td>  8</td>\n",
       "      <td>  8</td>\n",
       "      <td>  8</td>\n",
       "      <td>  8</td>\n",
       "      <td>  8</td>\n",
       "      <td>   8</td>\n",
       "      <td>  8</td>\n",
       "      <td>  8</td>\n",
       "    </tr>\n",
       "    <tr>\n",
       "      <th>unique</th>\n",
       "      <td>  4</td>\n",
       "      <td>  5</td>\n",
       "      <td>  4</td>\n",
       "      <td>  4</td>\n",
       "      <td>  4</td>\n",
       "      <td>   1</td>\n",
       "      <td>  5</td>\n",
       "      <td>  4</td>\n",
       "    </tr>\n",
       "    <tr>\n",
       "      <th>top</th>\n",
       "      <td> -0</td>\n",
       "      <td> -u</td>\n",
       "      <td> -0</td>\n",
       "      <td> -0</td>\n",
       "      <td> -a</td>\n",
       "      <td> -on</td>\n",
       "      <td> -a</td>\n",
       "      <td> -a</td>\n",
       "    </tr>\n",
       "    <tr>\n",
       "      <th>freq</th>\n",
       "      <td>  4</td>\n",
       "      <td>  3</td>\n",
       "      <td>  5</td>\n",
       "      <td>  5</td>\n",
       "      <td>  3</td>\n",
       "      <td>   8</td>\n",
       "      <td>  3</td>\n",
       "      <td>  3</td>\n",
       "    </tr>\n",
       "  </tbody>\n",
       "</table>\n",
       "</div>"
      ],
      "text/plain": [
       "       nom.sg gen.sg acc.sg voc.sg nom.pl gen.pl acc.pl voc.pl\n",
       "count       8      8      8      8      8      8      8      8\n",
       "unique      4      5      4      4      4      1      5      4\n",
       "top        -0     -u     -0     -0     -a    -on     -a     -a\n",
       "freq        4      3      5      5      3      8      3      3"
      ]
     },
     "execution_count": 10,
     "metadata": {},
     "output_type": "execute_result"
    }
   ],
   "source": [
    "greek.describe()"
   ]
  },
  {
   "cell_type": "markdown",
   "metadata": {},
   "source": [
    "If $D$ is the set of declensions for a particular paradigm, the probability (assuming all declensions are equally likely) of an arbitrary lexeme belonging to a particular paradigm $d$ is\n",
    "\n",
    "$$P(d)=\\frac{1}{|D|}$$\n",
    "\n",
    "Since there are eight distinct classes, the probability of any lexeme belonging to any one class would be $\\frac{1}{8}$. We could represent a lexeme's declension as a choice among eight equally likely alternatives, which thus has an entropy of $-\\log_2 8=3$ bits. This is the **declension entropy** $H(D)$, the average information required to record the inflection class membership of a lexeme:"
   ]
  },
  {
   "cell_type": "code",
   "execution_count": 11,
   "metadata": {
    "collapsed": false
   },
   "outputs": [
    {
     "data": {
      "text/plain": [
       "3.000"
      ]
     },
     "execution_count": 11,
     "metadata": {},
     "output_type": "execute_result"
    }
   ],
   "source": [
    "np.log2(len(greek.index))"
   ]
  },
  {
   "cell_type": "markdown",
   "metadata": {},
   "source": [
    "Let $D_{c=r}$ be the set of declensions for which the paradigm cell $c$ has the formal realization $r$.  Then the probability $P_{c}(r)$ of a paradigm cell $c$ of a particular lexeme having the realization $r$ is the probability of that lexeme belonging to one of the declensions in $D_{c=r}$,  or:\n",
    "\n",
    "$$P_{c}(r)=\\sum_{d\\in D_{c=r}}P(d)$$\n",
    "\n",
    "The entropy of this distribution is the **paradigm cell entropy** $H(c)$, the uncertainty in the realization for a paradigm cell $c$:"
   ]
  },
  {
   "cell_type": "code",
   "execution_count": 12,
   "metadata": {
    "collapsed": false
   },
   "outputs": [
    {
     "data": {
      "text/html": [
       "<div style=\"max-height:1000px;max-width:1500px;overflow:auto;\">\n",
       "<table border=\"1\" class=\"dataframe\">\n",
       "  <thead>\n",
       "    <tr style=\"text-align: right;\">\n",
       "      <th></th>\n",
       "      <th>nom.sg</th>\n",
       "      <th>gen.sg</th>\n",
       "      <th>acc.sg</th>\n",
       "      <th>voc.sg</th>\n",
       "      <th>nom.pl</th>\n",
       "      <th>gen.pl</th>\n",
       "      <th>acc.pl</th>\n",
       "      <th>voc.pl</th>\n",
       "    </tr>\n",
       "  </thead>\n",
       "  <tbody>\n",
       "    <tr>\n",
       "      <th>H</th>\n",
       "      <td>1.750</td>\n",
       "      <td>2.156</td>\n",
       "      <td>1.549</td>\n",
       "      <td>1.549</td>\n",
       "      <td>1.906</td>\n",
       "      <td>-0.000</td>\n",
       "      <td>2.156</td>\n",
       "      <td>1.906</td>\n",
       "    </tr>\n",
       "  </tbody>\n",
       "</table>\n",
       "</div>"
      ],
      "text/plain": [
       "   nom.sg  gen.sg  acc.sg  voc.sg  nom.pl  gen.pl  acc.pl  voc.pl\n",
       "H   1.750   2.156   1.549   1.549   1.906  -0.000   2.156   1.906"
      ]
     },
     "execution_count": 12,
     "metadata": {},
     "output_type": "execute_result"
    }
   ],
   "source": [
    "pd.DataFrame([entropy.entropy(greek)],index=['H'])"
   ]
  },
  {
   "cell_type": "markdown",
   "metadata": {},
   "source": [
    "The average cell entropy is a measure of how difficult it is for a speaker to guess the realization of any one wordform of any particular lexeme in the absence of any information about that lexeme's declension:"
   ]
  },
  {
   "cell_type": "code",
   "execution_count": 13,
   "metadata": {
    "collapsed": false
   },
   "outputs": [
    {
     "data": {
      "text/plain": [
       "1.621"
      ]
     },
     "execution_count": 13,
     "metadata": {},
     "output_type": "execute_result"
    }
   ],
   "source": [
    "entropy.entropy(greek).mean()"
   ]
  },
  {
   "cell_type": "markdown",
   "metadata": {},
   "source": [
    "Above we defined $P_{c}(r)$, the probability that paradigm cell $c$ of a lexeme has the realization $r$.  We can easily generalize that to the joint probability of two cells $c_1$ and $c_2$ having the realizations $r_1$ and $r_2$ respectively:\n",
    "\n",
    "$$P_{c_1,c_2}(r_1,r_2)=\\sum_{d\\in D_{c_1=r_1 \\wedge c_2=r_2}}P(d)$$\n",
    "\n",
    "To quantify paradigm cell inter-predictability in terms of conditional entropy, we can define the conditional probability of a realization given another realization of a cell in the same lexeme's paradigm:\n",
    "\n",
    "$$P_{c_1}(r_1|c_2=r_2)=\\frac{P_{c_1,c_2}(r_1,r_2)}{P_{c_2}(r_2)}$$\n",
    "\n",
    "With this background, the conditional entropy $H(c_1|c_2)$ of a cell $c_1$ given knowledge of the realization of $c_2$ for a particular lexeme is:\n",
    "\n",
    "$$H(c_1|c_2)=\\sum_{r_1}\\sum_{r_2}P_{c_1}(r_1)\\,P_{c_2}(r_2)\\log_2 P_{c_1}(r_1|c_2=r_2)$$\n"
   ]
  },
  {
   "cell_type": "code",
   "execution_count": 14,
   "metadata": {
    "collapsed": false
   },
   "outputs": [
    {
     "data": {
      "text/html": [
       "<div style=\"max-height:1000px;max-width:1500px;overflow:auto;\">\n",
       "<table border=\"1\" class=\"dataframe\">\n",
       "  <thead>\n",
       "    <tr style=\"text-align: right;\">\n",
       "      <th></th>\n",
       "      <th>nom.sg</th>\n",
       "      <th>gen.sg</th>\n",
       "      <th>acc.sg</th>\n",
       "      <th>voc.sg</th>\n",
       "      <th>nom.pl</th>\n",
       "      <th>gen.pl</th>\n",
       "      <th>acc.pl</th>\n",
       "      <th>voc.pl</th>\n",
       "    </tr>\n",
       "  </thead>\n",
       "  <tbody>\n",
       "    <tr>\n",
       "      <th>nom.sg</th>\n",
       "      <td>  NaN</td>\n",
       "      <td>1.000</td>\n",
       "      <td>0.250</td>\n",
       "      <td>0.250</td>\n",
       "      <td>0.750</td>\n",
       "      <td>0.000</td>\n",
       "      <td>1.000</td>\n",
       "      <td>0.750</td>\n",
       "    </tr>\n",
       "    <tr>\n",
       "      <th>gen.sg</th>\n",
       "      <td>0.594</td>\n",
       "      <td>  NaN</td>\n",
       "      <td>0.594</td>\n",
       "      <td>0.594</td>\n",
       "      <td>0.594</td>\n",
       "      <td>0.000</td>\n",
       "      <td>0.594</td>\n",
       "      <td>0.594</td>\n",
       "    </tr>\n",
       "    <tr>\n",
       "      <th>acc.sg</th>\n",
       "      <td>0.451</td>\n",
       "      <td>1.201</td>\n",
       "      <td>  NaN</td>\n",
       "      <td>0.000</td>\n",
       "      <td>0.951</td>\n",
       "      <td>0.000</td>\n",
       "      <td>0.951</td>\n",
       "      <td>0.951</td>\n",
       "    </tr>\n",
       "    <tr>\n",
       "      <th>voc.sg</th>\n",
       "      <td>0.451</td>\n",
       "      <td>1.201</td>\n",
       "      <td>0.000</td>\n",
       "      <td>  NaN</td>\n",
       "      <td>0.951</td>\n",
       "      <td>0.000</td>\n",
       "      <td>0.951</td>\n",
       "      <td>0.951</td>\n",
       "    </tr>\n",
       "    <tr>\n",
       "      <th>nom.pl</th>\n",
       "      <td>0.594</td>\n",
       "      <td>0.844</td>\n",
       "      <td>0.594</td>\n",
       "      <td>0.594</td>\n",
       "      <td>  NaN</td>\n",
       "      <td>0.000</td>\n",
       "      <td>0.250</td>\n",
       "      <td>0.000</td>\n",
       "    </tr>\n",
       "    <tr>\n",
       "      <th>gen.pl</th>\n",
       "      <td>1.750</td>\n",
       "      <td>2.156</td>\n",
       "      <td>1.549</td>\n",
       "      <td>1.549</td>\n",
       "      <td>1.906</td>\n",
       "      <td>  NaN</td>\n",
       "      <td>2.156</td>\n",
       "      <td>1.906</td>\n",
       "    </tr>\n",
       "    <tr>\n",
       "      <th>acc.pl</th>\n",
       "      <td>0.594</td>\n",
       "      <td>0.594</td>\n",
       "      <td>0.344</td>\n",
       "      <td>0.344</td>\n",
       "      <td>0.000</td>\n",
       "      <td>0.000</td>\n",
       "      <td>  NaN</td>\n",
       "      <td>0.000</td>\n",
       "    </tr>\n",
       "    <tr>\n",
       "      <th>voc.pl</th>\n",
       "      <td>0.594</td>\n",
       "      <td>0.844</td>\n",
       "      <td>0.594</td>\n",
       "      <td>0.594</td>\n",
       "      <td>0.000</td>\n",
       "      <td>0.000</td>\n",
       "      <td>0.250</td>\n",
       "      <td>  NaN</td>\n",
       "    </tr>\n",
       "  </tbody>\n",
       "</table>\n",
       "</div>"
      ],
      "text/plain": [
       "       nom.sg gen.sg acc.sg voc.sg nom.pl gen.pl acc.pl voc.pl\n",
       "nom.sg    NaN  1.000  0.250  0.250  0.750  0.000  1.000  0.750\n",
       "gen.sg  0.594    NaN  0.594  0.594  0.594  0.000  0.594  0.594\n",
       "acc.sg  0.451  1.201    NaN  0.000  0.951  0.000  0.951  0.951\n",
       "voc.sg  0.451  1.201  0.000    NaN  0.951  0.000  0.951  0.951\n",
       "nom.pl  0.594  0.844  0.594  0.594    NaN  0.000  0.250  0.000\n",
       "gen.pl  1.750  2.156  1.549  1.549  1.906    NaN  2.156  1.906\n",
       "acc.pl  0.594  0.594  0.344  0.344  0.000  0.000    NaN  0.000\n",
       "voc.pl  0.594  0.844  0.594  0.594  0.000  0.000  0.250    NaN"
      ]
     },
     "execution_count": 14,
     "metadata": {},
     "output_type": "execute_result"
    }
   ],
   "source": [
    "H = entropy.cond_entropy(greek)\n",
    "H"
   ]
  },
  {
   "cell_type": "markdown",
   "metadata": {},
   "source": [
    "The column averages measure *predictedness*, how hard it is to guess the realization of a cell given some other cell:"
   ]
  },
  {
   "cell_type": "code",
   "execution_count": 15,
   "metadata": {
    "collapsed": false
   },
   "outputs": [
    {
     "data": {
      "text/html": [
       "<div style=\"max-height:1000px;max-width:1500px;overflow:auto;\">\n",
       "<table border=\"1\" class=\"dataframe\">\n",
       "  <thead>\n",
       "    <tr style=\"text-align: right;\">\n",
       "      <th></th>\n",
       "      <th>nom.sg</th>\n",
       "      <th>gen.sg</th>\n",
       "      <th>acc.sg</th>\n",
       "      <th>voc.sg</th>\n",
       "      <th>nom.pl</th>\n",
       "      <th>gen.pl</th>\n",
       "      <th>acc.pl</th>\n",
       "      <th>voc.pl</th>\n",
       "    </tr>\n",
       "  </thead>\n",
       "  <tbody>\n",
       "    <tr>\n",
       "      <th>AVG</th>\n",
       "      <td>0.719</td>\n",
       "      <td>1.120</td>\n",
       "      <td>0.561</td>\n",
       "      <td>0.561</td>\n",
       "      <td>0.736</td>\n",
       "      <td>0.000</td>\n",
       "      <td>0.879</td>\n",
       "      <td>0.736</td>\n",
       "    </tr>\n",
       "  </tbody>\n",
       "</table>\n",
       "</div>"
      ],
      "text/plain": [
       "     nom.sg  gen.sg  acc.sg  voc.sg  nom.pl  gen.pl  acc.pl  voc.pl\n",
       "AVG   0.719   1.120   0.561   0.561   0.736   0.000   0.879   0.736"
      ]
     },
     "execution_count": 15,
     "metadata": {},
     "output_type": "execute_result"
    }
   ],
   "source": [
    "pd.DataFrame([H.mean(0)],index=['AVG'])"
   ]
  },
  {
   "cell_type": "markdown",
   "metadata": {},
   "source": [
    "And the row averages measures *predictiveness*, how hard it is to guess the realization of some other cell given this cell:"
   ]
  },
  {
   "cell_type": "code",
   "execution_count": 16,
   "metadata": {
    "collapsed": false
   },
   "outputs": [
    {
     "data": {
      "text/html": [
       "<div style=\"max-height:1000px;max-width:1500px;overflow:auto;\">\n",
       "<table border=\"1\" class=\"dataframe\">\n",
       "  <thead>\n",
       "    <tr style=\"text-align: right;\">\n",
       "      <th></th>\n",
       "      <th>nom.sg</th>\n",
       "      <th>gen.sg</th>\n",
       "      <th>acc.sg</th>\n",
       "      <th>voc.sg</th>\n",
       "      <th>nom.pl</th>\n",
       "      <th>gen.pl</th>\n",
       "      <th>acc.pl</th>\n",
       "      <th>voc.pl</th>\n",
       "    </tr>\n",
       "  </thead>\n",
       "  <tbody>\n",
       "    <tr>\n",
       "      <th>AVG</th>\n",
       "      <td>0.571</td>\n",
       "      <td>0.509</td>\n",
       "      <td>0.644</td>\n",
       "      <td>0.644</td>\n",
       "      <td>0.411</td>\n",
       "      <td>1.853</td>\n",
       "      <td>0.268</td>\n",
       "      <td>0.411</td>\n",
       "    </tr>\n",
       "  </tbody>\n",
       "</table>\n",
       "</div>"
      ],
      "text/plain": [
       "     nom.sg  gen.sg  acc.sg  voc.sg  nom.pl  gen.pl  acc.pl  voc.pl\n",
       "AVG   0.571   0.509   0.644   0.644   0.411   1.853   0.268   0.411"
      ]
     },
     "execution_count": 16,
     "metadata": {},
     "output_type": "execute_result"
    }
   ],
   "source": [
    "pd.DataFrame([H.mean(1)],index=['AVG'])"
   ]
  },
  {
   "cell_type": "markdown",
   "metadata": {},
   "source": [
    "Using pandas, we can add row and column averages to the table:"
   ]
  },
  {
   "cell_type": "code",
   "execution_count": 17,
   "metadata": {
    "collapsed": false
   },
   "outputs": [
    {
     "data": {
      "text/html": [
       "<div style=\"max-height:1000px;max-width:1500px;overflow:auto;\">\n",
       "<table border=\"1\" class=\"dataframe\">\n",
       "  <thead>\n",
       "    <tr style=\"text-align: right;\">\n",
       "      <th></th>\n",
       "      <th>nom.sg</th>\n",
       "      <th>gen.sg</th>\n",
       "      <th>acc.sg</th>\n",
       "      <th>voc.sg</th>\n",
       "      <th>nom.pl</th>\n",
       "      <th>gen.pl</th>\n",
       "      <th>acc.pl</th>\n",
       "      <th>voc.pl</th>\n",
       "      <th>AVG</th>\n",
       "    </tr>\n",
       "  </thead>\n",
       "  <tbody>\n",
       "    <tr>\n",
       "      <th>nom.sg</th>\n",
       "      <td>  NaN</td>\n",
       "      <td>1.000</td>\n",
       "      <td>0.250</td>\n",
       "      <td>0.250</td>\n",
       "      <td>0.750</td>\n",
       "      <td>0.000</td>\n",
       "      <td>1.000</td>\n",
       "      <td>0.750</td>\n",
       "      <td>0.571</td>\n",
       "    </tr>\n",
       "    <tr>\n",
       "      <th>gen.sg</th>\n",
       "      <td>0.594</td>\n",
       "      <td>  NaN</td>\n",
       "      <td>0.594</td>\n",
       "      <td>0.594</td>\n",
       "      <td>0.594</td>\n",
       "      <td>0.000</td>\n",
       "      <td>0.594</td>\n",
       "      <td>0.594</td>\n",
       "      <td>0.509</td>\n",
       "    </tr>\n",
       "    <tr>\n",
       "      <th>acc.sg</th>\n",
       "      <td>0.451</td>\n",
       "      <td>1.201</td>\n",
       "      <td>  NaN</td>\n",
       "      <td>0.000</td>\n",
       "      <td>0.951</td>\n",
       "      <td>0.000</td>\n",
       "      <td>0.951</td>\n",
       "      <td>0.951</td>\n",
       "      <td>0.644</td>\n",
       "    </tr>\n",
       "    <tr>\n",
       "      <th>voc.sg</th>\n",
       "      <td>0.451</td>\n",
       "      <td>1.201</td>\n",
       "      <td>0.000</td>\n",
       "      <td>  NaN</td>\n",
       "      <td>0.951</td>\n",
       "      <td>0.000</td>\n",
       "      <td>0.951</td>\n",
       "      <td>0.951</td>\n",
       "      <td>0.644</td>\n",
       "    </tr>\n",
       "    <tr>\n",
       "      <th>nom.pl</th>\n",
       "      <td>0.594</td>\n",
       "      <td>0.844</td>\n",
       "      <td>0.594</td>\n",
       "      <td>0.594</td>\n",
       "      <td>  NaN</td>\n",
       "      <td>0.000</td>\n",
       "      <td>0.250</td>\n",
       "      <td>0.000</td>\n",
       "      <td>0.411</td>\n",
       "    </tr>\n",
       "    <tr>\n",
       "      <th>gen.pl</th>\n",
       "      <td>1.750</td>\n",
       "      <td>2.156</td>\n",
       "      <td>1.549</td>\n",
       "      <td>1.549</td>\n",
       "      <td>1.906</td>\n",
       "      <td>  NaN</td>\n",
       "      <td>2.156</td>\n",
       "      <td>1.906</td>\n",
       "      <td>1.853</td>\n",
       "    </tr>\n",
       "    <tr>\n",
       "      <th>acc.pl</th>\n",
       "      <td>0.594</td>\n",
       "      <td>0.594</td>\n",
       "      <td>0.344</td>\n",
       "      <td>0.344</td>\n",
       "      <td>0.000</td>\n",
       "      <td>0.000</td>\n",
       "      <td>  NaN</td>\n",
       "      <td>0.000</td>\n",
       "      <td>0.268</td>\n",
       "    </tr>\n",
       "    <tr>\n",
       "      <th>voc.pl</th>\n",
       "      <td>0.594</td>\n",
       "      <td>0.844</td>\n",
       "      <td>0.594</td>\n",
       "      <td>0.594</td>\n",
       "      <td>0.000</td>\n",
       "      <td>0.000</td>\n",
       "      <td>0.250</td>\n",
       "      <td>  NaN</td>\n",
       "      <td>0.411</td>\n",
       "    </tr>\n",
       "    <tr>\n",
       "      <th>AVG</th>\n",
       "      <td>0.719</td>\n",
       "      <td>1.120</td>\n",
       "      <td>0.561</td>\n",
       "      <td>0.561</td>\n",
       "      <td>0.736</td>\n",
       "      <td>0.000</td>\n",
       "      <td>0.879</td>\n",
       "      <td>0.736</td>\n",
       "      <td>0.664</td>\n",
       "    </tr>\n",
       "  </tbody>\n",
       "</table>\n",
       "</div>"
      ],
      "text/plain": [
       "       nom.sg gen.sg acc.sg voc.sg nom.pl gen.pl acc.pl voc.pl   AVG\n",
       "nom.sg    NaN  1.000  0.250  0.250  0.750  0.000  1.000  0.750 0.571\n",
       "gen.sg  0.594    NaN  0.594  0.594  0.594  0.000  0.594  0.594 0.509\n",
       "acc.sg  0.451  1.201    NaN  0.000  0.951  0.000  0.951  0.951 0.644\n",
       "voc.sg  0.451  1.201  0.000    NaN  0.951  0.000  0.951  0.951 0.644\n",
       "nom.pl  0.594  0.844  0.594  0.594    NaN  0.000  0.250  0.000 0.411\n",
       "gen.pl  1.750  2.156  1.549  1.549  1.906    NaN  2.156  1.906 1.853\n",
       "acc.pl  0.594  0.594  0.344  0.344  0.000  0.000    NaN  0.000 0.268\n",
       "voc.pl  0.594  0.844  0.594  0.594  0.000  0.000  0.250    NaN 0.411\n",
       "AVG     0.719  1.120  0.561  0.561  0.736  0.000  0.879  0.736 0.664"
      ]
     },
     "execution_count": 17,
     "metadata": {},
     "output_type": "execute_result"
    }
   ],
   "source": [
    "H = H.join(pd.Series(H.mean(1),name='AVG'))\n",
    "H = H.append(pd.Series(H.mean(0),name='AVG'))\n",
    "H"
   ]
  },
  {
   "cell_type": "markdown",
   "metadata": {},
   "source": [
    "And format the result in $\\LaTeX$"
   ]
  },
  {
   "cell_type": "code",
   "execution_count": 18,
   "metadata": {
    "collapsed": false
   },
   "outputs": [
    {
     "name": "stdout",
     "output_type": "stream",
     "text": [
      "\\begin{tabular}{lllllllllr}\n",
      "\\toprule\n",
      "{} & nom.sg & gen.sg & acc.sg & voc.sg & nom.pl & gen.pl & acc.pl & voc.pl &   AVG \\\\\n",
      "\\midrule\n",
      "nom.sg &    --- &  1.000 &  0.250 &  0.250 &  0.750 &  0.000 &  1.000 &  0.750 & 0.571 \\\\\n",
      "gen.sg &  0.594 &    --- &  0.594 &  0.594 &  0.594 &  0.000 &  0.594 &  0.594 & 0.509 \\\\\n",
      "acc.sg &  0.451 &  1.201 &    --- &  0.000 &  0.951 &  0.000 &  0.951 &  0.951 & 0.644 \\\\\n",
      "voc.sg &  0.451 &  1.201 &  0.000 &    --- &  0.951 &  0.000 &  0.951 &  0.951 & 0.644 \\\\\n",
      "nom.pl &  0.594 &  0.844 &  0.594 &  0.594 &    --- &  0.000 &  0.250 &  0.000 & 0.411 \\\\\n",
      "gen.pl &  1.750 &  2.156 &  1.549 &  1.549 &  1.906 &    --- &  2.156 &  1.906 & 1.853 \\\\\n",
      "acc.pl &  0.594 &  0.594 &  0.344 &  0.344 &  0.000 &  0.000 &    --- &  0.000 & 0.268 \\\\\n",
      "voc.pl &  0.594 &  0.844 &  0.594 &  0.594 &  0.000 &  0.000 &  0.250 &    --- & 0.411 \\\\\n",
      "AVG    &  0.719 &  1.120 &  0.561 &  0.561 &  0.736 &  0.000 &  0.879 &  0.736 & 0.664 \\\\\n",
      "\\bottomrule\n",
      "\\end{tabular}\n",
      "\n"
     ]
    }
   ],
   "source": [
    "print H.to_latex(na_rep='---')"
   ]
  },
  {
   "cell_type": "markdown",
   "metadata": {},
   "source": [
    "Next we try a simple bootstrap simulation to test the importance of implicational relations in the paradigm. \n",
    "\n",
    "Statistical hypothesis testing proceeds by identifying a statistic whose sampling distribution is known under the null hypothesis $H_0$, and then estimating the  probability of finding a result which deviates from what would be expected under $H_0$ at least as much as the observed data does. In this case,  $H_0$ is that implicational relations are not a factor in reducing average conditional entropy in Modern Greek, and the relevant statistic is the average conditional entropy.  Unfortunately, we have no theoretical basis for deriving the sampling distribution of average conditional entropy under $H_0$, which precludes the use of conventional statistical methods. However, we can use a simple computational procedure for estimating the sampling distribution of the average conditional entropy.  Take MGreek$'$, an alternate version of Modern Greek with formal realizations assigned randomly to paradigm cells. More specifically, we generate  MGreek$'$ by constructing 8 random declensions, where each declension is produced by randomly selecting for each of the 8 paradigm cells one of the possible realizations of that cell.  The result is a language with more or less the same same number of declensions, paradigm cells, and allomorphs as genuine Modern Greek, but with no implicational structure."
   ]
  },
  {
   "cell_type": "code",
   "execution_count": 19,
   "metadata": {
    "collapsed": false
   },
   "outputs": [],
   "source": [
    "boot = entropy.bootstrap(greek, 999)"
   ]
  },
  {
   "cell_type": "markdown",
   "metadata": {},
   "source": [
    "Averaged across 999 simulation runs (plus the original), the average average conditional entropy is 0.850 bits, somewhat higher than the true average conditional entropy of 0.664 bits:"
   ]
  },
  {
   "cell_type": "code",
   "execution_count": 23,
   "metadata": {
    "collapsed": false
   },
   "outputs": [
    {
     "data": {
      "text/plain": [
       "0.850"
      ]
     },
     "execution_count": 23,
     "metadata": {},
     "output_type": "execute_result"
    }
   ],
   "source": [
    "boot.mean()"
   ]
  },
  {
   "cell_type": "code",
   "execution_count": 24,
   "metadata": {
    "collapsed": false
   },
   "outputs": [
    {
     "data": {
      "text/plain": [
       "0.664"
      ]
     },
     "execution_count": 24,
     "metadata": {},
     "output_type": "execute_result"
    }
   ],
   "source": [
    "boot[0]"
   ]
  },
  {
   "cell_type": "markdown",
   "metadata": {},
   "source": [
    "Across the distribution of simulated MGreek$'$s, the real MGreek is an outlier: only 0.1% of the sample have an average conditional entropy as lower or lower than that of real Modern Greek:"
   ]
  },
  {
   "cell_type": "code",
   "execution_count": 26,
   "metadata": {
    "collapsed": false
   },
   "outputs": [
    {
     "data": {
      "text/plain": [
       "0.001"
      ]
     },
     "execution_count": 26,
     "metadata": {},
     "output_type": "execute_result"
    }
   ],
   "source": [
    "sum(boot <= boot[0]) / 1000."
   ]
  },
  {
   "cell_type": "code",
   "execution_count": 28,
   "metadata": {
    "collapsed": false
   },
   "outputs": [
    {
     "data": {
      "image/png": "[encoded data removed]",
      "text/plain": [
       "<matplotlib.figure.Figure at 0x7f3063d5f590>"
      ]
     },
     "metadata": {},
     "output_type": "display_data"
    }
   ],
   "source": [
    "%matplotlib inline\n",
    "\n",
    "plot = boot.hist()"
   ]
  },
  {
   "cell_type": "code",
   "execution_count": null,
   "metadata": {
    "collapsed": true
   },
   "outputs": [],
   "source": []
  }
 ],
 "metadata": {
  "kernelspec": {
   "display_name": "Python 2",
   "language": "python",
   "name": "python2"
  },
  "language_info": {
   "codemirror_mode": {
    "name": "ipython",
    "version": 2
   },
   "file_extension": ".py",
   "mimetype": "text/x-python",
   "name": "python",
   "nbconvert_exporter": "python",
   "pygments_lexer": "ipython2",
   "version": "2.7.10"
  }
 },
 "nbformat": 4,
 "nbformat_minor": 0
}
