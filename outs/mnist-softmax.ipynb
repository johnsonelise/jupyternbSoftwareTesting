{
 "cells": [
  {
   "cell_type": "code",
   "execution_count": 1,
   "metadata": {
    "collapsed": false,
    "deletable": true,
    "editable": true
   },
   "outputs": [],
   "source": [
    "from mnist import MNIST\n",
    "\n",
    "mnist = MNIST('./data')\n",
    "images, labels = mnist.load_training()"
   ]
  },
  {
   "cell_type": "code",
   "execution_count": 2,
   "metadata": {
    "collapsed": false,
    "deletable": true,
    "editable": true
   },
   "outputs": [
    {
     "data": {
      "text/plain": [
       "(60000, 60000)"
      ]
     },
     "execution_count": 2,
     "metadata": {},
     "output_type": "execute_result"
    }
   ],
   "source": [
    "len(images), len(labels)"
   ]
  },
  {
   "cell_type": "code",
   "execution_count": 3,
   "metadata": {
    "collapsed": false,
    "deletable": true,
    "editable": true
   },
   "outputs": [
    {
     "data": {
      "text/plain": [
       "784"
      ]
     },
     "execution_count": 3,
     "metadata": {},
     "output_type": "execute_result"
    }
   ],
   "source": [
    "len(images[0])"
   ]
  },
  {
   "cell_type": "code",
   "execution_count": 4,
   "metadata": {
    "collapsed": false,
    "deletable": true,
    "editable": true,
    "scrolled": true
   },
   "outputs": [
    {
     "data": {
      "text/plain": [
       "784"
      ]
     },
     "execution_count": 4,
     "metadata": {},
     "output_type": "execute_result"
    }
   ],
   "source": [
    "28 * 28"
   ]
  },
  {
   "cell_type": "code",
   "execution_count": 5,
   "metadata": {
    "collapsed": false,
    "deletable": true,
    "editable": true
   },
   "outputs": [],
   "source": [
    "import numpy as np\n",
    "\n",
    "images = np.array(images).astype('float32') / 255\n",
    "labels = np.array(labels)"
   ]
  },
  {
   "cell_type": "code",
   "execution_count": 6,
   "metadata": {
    "collapsed": false,
    "deletable": true,
    "editable": true
   },
   "outputs": [
    {
     "data": {
      "text/plain": [
       "(dtype('float32'), (60000, 784))"
      ]
     },
     "execution_count": 6,
     "metadata": {},
     "output_type": "execute_result"
    }
   ],
   "source": [
    "images.dtype, images.shape"
   ]
  },
  {
   "cell_type": "code",
   "execution_count": 7,
   "metadata": {
    "collapsed": false,
    "deletable": true,
    "editable": true
   },
   "outputs": [
    {
     "data": {
      "text/plain": [
       "(dtype('uint8'), (60000,))"
      ]
     },
     "execution_count": 7,
     "metadata": {},
     "output_type": "execute_result"
    }
   ],
   "source": [
    "labels.dtype, labels.shape"
   ]
  },
  {
   "cell_type": "code",
   "execution_count": 8,
   "metadata": {
    "collapsed": false,
    "deletable": true,
    "editable": true
   },
   "outputs": [
    {
     "data": {
      "text/plain": [
       "(1000, 784)"
      ]
     },
     "execution_count": 8,
     "metadata": {},
     "output_type": "execute_result"
    }
   ],
   "source": [
    "images[:1000].shape"
   ]
  },
  {
   "cell_type": "code",
   "execution_count": 9,
   "metadata": {
    "collapsed": false,
    "deletable": true,
    "editable": true
   },
   "outputs": [
    {
     "data": {
      "text/plain": [
       "(1000,)"
      ]
     },
     "execution_count": 9,
     "metadata": {},
     "output_type": "execute_result"
    }
   ],
   "source": [
    "labels[:1000].shape"
   ]
  },
  {
   "cell_type": "code",
   "execution_count": 10,
   "metadata": {
    "collapsed": false,
    "deletable": true,
    "editable": true
   },
   "outputs": [
    {
     "name": "stdout",
     "output_type": "stream",
     "text": [
      "0 0 (100, 784)\n",
      "1 100 (100, 784)\n",
      "2 200 (100, 784)\n",
      "3 300 (100, 784)\n",
      "4 400 (100, 784)\n",
      "5 500 (100, 784)\n",
      "6 600 (100, 784)\n",
      "7 700 (100, 784)\n",
      "8 800 (100, 784)\n",
      "9 900 (100, 784)\n"
     ]
    }
   ],
   "source": [
    "batch_size = 100\n",
    "\n",
    "for i in range(10):\n",
    "    offset = batch_size * i\n",
    "    print(i, offset, images[offset:offset + batch_size].shape)"
   ]
  },
  {
   "cell_type": "code",
   "execution_count": 11,
   "metadata": {
    "collapsed": false,
    "deletable": true,
    "editable": true
   },
   "outputs": [
    {
     "data": {
      "text/plain": [
       "600"
      ]
     },
     "execution_count": 11,
     "metadata": {},
     "output_type": "execute_result"
    }
   ],
   "source": [
    "batch_count = images.shape[0] // batch_size\n",
    "batch_count"
   ]
  },
  {
   "cell_type": "code",
   "execution_count": 12,
   "metadata": {
    "collapsed": false,
    "deletable": true,
    "editable": true
   },
   "outputs": [
    {
     "data": {
      "text/plain": [
       "array([[ 0.,  0.,  0., ...,  0.,  0.,  0.],\n",
       "       [ 0.,  0.,  0., ...,  0.,  0.,  0.]], dtype=float32)"
      ]
     },
     "execution_count": 12,
     "metadata": {},
     "output_type": "execute_result"
    }
   ],
   "source": [
    "def batch(data, index, batch_size):\n",
    "    offset = batch_size * index\n",
    "    return data[offset:offset + batch_size]\n",
    "\n",
    "batch(images, 0, 2)"
   ]
  },
  {
   "cell_type": "code",
   "execution_count": 13,
   "metadata": {
    "collapsed": false,
    "deletable": true,
    "editable": true
   },
   "outputs": [
    {
     "data": {
      "text/plain": [
       "(60000, 28, 28)"
      ]
     },
     "execution_count": 13,
     "metadata": {},
     "output_type": "execute_result"
    }
   ],
   "source": [
    "images2d = images.reshape([-1, 28, 28])\n",
    "images2d.shape"
   ]
  },
  {
   "cell_type": "code",
   "execution_count": 14,
   "metadata": {
    "collapsed": false,
    "deletable": true,
    "editable": true
   },
   "outputs": [
    {
     "name": "stdout",
     "output_type": "stream",
     "text": [
      "5\n"
     ]
    },
    {
     "data": {
      "image/png": "[encoded data removed]",
      "text/plain": [
       "<matplotlib.figure.Figure at 0x12429d630>"
      ]
     },
     "metadata": {},
     "output_type": "display_data"
    },
    {
     "name": "stdout",
     "output_type": "stream",
     "text": [
      "0\n"
     ]
    },
    {
     "data": {
      "image/png": "[encoded data removed]",
      "text/plain": [
       "<matplotlib.figure.Figure at 0x124d3a860>"
      ]
     },
     "metadata": {},
     "output_type": "display_data"
    },
    {
     "name": "stdout",
     "output_type": "stream",
     "text": [
      "4\n"
     ]
    },
    {
     "data": {
      "image/png": "[encoded data removed]",
      "text/plain": [
       "<matplotlib.figure.Figure at 0x124f197f0>"
      ]
     },
     "metadata": {},
     "output_type": "display_data"
    },
    {
     "name": "stdout",
     "output_type": "stream",
     "text": [
      "1\n"
     ]
    },
    {
     "data": {
      "image/png": "[encoded data removed]",
      "text/plain": [
       "<matplotlib.figure.Figure at 0x124ff2780>"
      ]
     },
     "metadata": {},
     "output_type": "display_data"
    },
    {
     "name": "stdout",
     "output_type": "stream",
     "text": [
      "9\n"
     ]
    },
    {
     "data": {
      "image/png": "[encoded data removed]",
      "text/plain": [
       "<matplotlib.figure.Figure at 0x1250b2f28>"
      ]
     },
     "metadata": {},
     "output_type": "display_data"
    }
   ],
   "source": [
    "import matplotlib.pyplot as plt\n",
    "\n",
    "for i in range(5):\n",
    "    print(labels[i])\n",
    "    plt.imshow(images2d[i])\n",
    "    plt.show()"
   ]
  },
  {
   "cell_type": "code",
   "execution_count": 15,
   "metadata": {
    "collapsed": false,
    "deletable": true,
    "editable": true
   },
   "outputs": [],
   "source": [
    "import tensorflow as tf\n",
    "\n",
    "session = tf.Session()"
   ]
  },
  {
   "cell_type": "code",
   "execution_count": 16,
   "metadata": {
    "collapsed": false,
    "deletable": true,
    "editable": true,
    "scrolled": true
   },
   "outputs": [],
   "source": [
    "x = tf.placeholder(tf.float32, [None, 28 * 28])\n",
    "z = tf.placeholder(tf.int64, [None])"
   ]
  },
  {
   "cell_type": "code",
   "execution_count": 17,
   "metadata": {
    "collapsed": false,
    "deletable": true,
    "editable": true
   },
   "outputs": [
    {
     "name": "stdout",
     "output_type": "stream",
     "text": [
      "0 9925.03\n",
      "1 9957.77\n",
      "2 10110.8\n",
      "3 9806.78\n",
      "4 9662.6\n",
      "5 9627.38\n",
      "6 9849.09\n",
      "7 10834.0\n",
      "8 10549.4\n",
      "9 10216.4\n"
     ]
    }
   ],
   "source": [
    "op = tf.reduce_sum(x)\n",
    "\n",
    "for i in range(10):\n",
    "    data = {\n",
    "        x: batch(images, i, batch_size),\n",
    "        z: batch(labels, i, batch_size)\n",
    "    }\n",
    "    print(i, session.run(op, feed_dict=data))"
   ]
  },
  {
   "cell_type": "code",
   "execution_count": 18,
   "metadata": {
    "collapsed": false,
    "deletable": true,
    "editable": true
   },
   "outputs": [],
   "source": [
    "w = tf.Variable(tf.truncated_normal([28 * 28, 10]))\n",
    "b = tf.Variable(tf.truncated_normal([10]))\n",
    "y = tf.nn.softmax(tf.matmul(x, w) + b)\n",
    "\n",
    "t = tf.one_hot(z, 10)\n",
    "\n",
    "cross_entropy = -tf.reduce_sum(t * tf.log(y), axis=1)\n",
    "loss = tf.reduce_mean(cross_entropy)\n",
    "\n",
    "train = tf.train.GradientDescentOptimizer(0.5).minimize(loss)"
   ]
  },
  {
   "cell_type": "code",
   "execution_count": 19,
   "metadata": {
    "collapsed": false,
    "deletable": true,
    "editable": true
   },
   "outputs": [],
   "source": [
    "correct = tf.equal(tf.argmax(y, axis=1), z)\n",
    "accuracy = tf.reduce_mean(tf.cast(correct, tf.float32))"
   ]
  },
  {
   "cell_type": "code",
   "execution_count": 20,
   "metadata": {
    "collapsed": false,
    "deletable": true,
    "editable": true,
    "scrolled": false
   },
   "outputs": [
    {
     "name": "stdout",
     "output_type": "stream",
     "text": [
      "0.078\n",
      "1 0.091\n",
      "2 0.119\n",
      "3 0.112\n",
      "4 0.121\n",
      "5 0.147\n",
      "6 0.167\n",
      "7 0.201\n",
      "8 0.2\n",
      "9 0.228\n",
      "10 0.248\n",
      "11 0.265\n",
      "12 0.306\n",
      "13 0.319\n",
      "14 0.343\n",
      "15 0.387\n",
      "16 0.395\n",
      "17 0.412\n",
      "18 0.418\n",
      "19 0.415\n",
      "20 0.443\n",
      "21 0.442\n",
      "22 0.458\n",
      "23 0.476\n",
      "24 0.484\n",
      "25 0.5\n",
      "26 0.504\n",
      "27 0.516\n",
      "28 0.535\n",
      "29 0.53\n",
      "30 0.535\n",
      "31 0.535\n",
      "32 0.549\n",
      "33 0.558\n",
      "34 0.569\n",
      "35 0.563\n",
      "36 0.577\n",
      "37 0.57\n",
      "38 0.587\n",
      "39 0.596\n",
      "40 0.607\n",
      "41 0.604\n",
      "42 0.608\n",
      "43 0.609\n",
      "44 0.615\n",
      "45 0.613\n",
      "46 0.627\n",
      "47 0.627\n",
      "48 0.642\n",
      "49 0.644\n",
      "50 0.64\n",
      "51 0.638\n",
      "52 0.636\n",
      "53 0.627\n",
      "54 0.616\n",
      "55 0.634\n",
      "56 0.635\n",
      "57 0.639\n",
      "58 0.64\n",
      "59 0.654\n",
      "60 0.654\n",
      "61 0.67\n",
      "62 0.668\n",
      "63 0.677\n",
      "64 0.679\n",
      "65 0.679\n",
      "66 0.667\n",
      "67 0.681\n",
      "68 0.688\n",
      "69 0.69\n",
      "70 0.69\n",
      "71 0.696\n",
      "72 0.691\n",
      "73 0.712\n",
      "74 0.7\n",
      "75 0.709\n",
      "76 0.705\n",
      "77 0.689\n",
      "78 0.697\n",
      "79 0.684\n",
      "80 0.698\n",
      "81 0.7\n",
      "82 0.7\n",
      "83 0.704\n",
      "84 0.699\n",
      "85 0.718\n",
      "86 0.718\n",
      "87 0.724\n",
      "88 0.719\n",
      "89 0.722\n",
      "90 0.723\n",
      "91 0.723\n",
      "92 0.728\n",
      "93 0.723\n",
      "94 0.728\n",
      "95 0.726\n",
      "96 0.731\n",
      "97 0.732\n",
      "98 0.729\n",
      "99 0.736\n",
      "100 0.742\n",
      "101 0.738\n",
      "102 0.738\n",
      "103 0.745\n",
      "104 0.744\n",
      "105 0.742\n",
      "106 0.738\n",
      "107 0.739\n",
      "108 0.741\n",
      "109 0.734\n",
      "110 0.751\n",
      "111 0.751\n",
      "112 0.743\n",
      "113 0.75\n",
      "114 0.748\n",
      "115 0.762\n",
      "116 0.745\n",
      "117 0.748\n",
      "118 0.754\n",
      "119 0.757\n",
      "120 0.75\n",
      "121 0.751\n",
      "122 0.757\n",
      "123 0.76\n",
      "124 0.759\n",
      "125 0.762\n",
      "126 0.761\n",
      "127 0.759\n",
      "128 0.769\n",
      "129 0.772\n",
      "130 0.768\n",
      "131 0.767\n",
      "132 0.767\n",
      "133 0.766\n",
      "134 0.765\n",
      "135 0.763\n",
      "136 0.768\n",
      "137 0.772\n",
      "138 0.774\n",
      "139 0.774\n",
      "140 0.772\n",
      "141 0.775\n",
      "142 0.778\n",
      "143 0.781\n",
      "144 0.776\n",
      "145 0.78\n",
      "146 0.775\n",
      "147 0.783\n",
      "148 0.779\n",
      "149 0.781\n",
      "150 0.776\n",
      "151 0.777\n",
      "152 0.785\n",
      "153 0.785\n",
      "154 0.787\n",
      "155 0.783\n",
      "156 0.784\n",
      "157 0.784\n",
      "158 0.792\n",
      "159 0.783\n",
      "160 0.777\n",
      "161 0.787\n",
      "162 0.783\n",
      "163 0.787\n",
      "164 0.785\n",
      "165 0.787\n",
      "166 0.793\n",
      "167 0.785\n",
      "168 0.785\n",
      "169 0.789\n",
      "170 0.789\n",
      "171 0.793\n",
      "172 0.799\n",
      "173 0.798\n",
      "174 0.795\n",
      "175 0.79\n",
      "176 0.795\n",
      "177 0.797\n",
      "178 0.793\n",
      "179 0.803\n",
      "180 0.795\n",
      "181 0.793\n",
      "182 0.796\n",
      "183 0.797\n",
      "184 0.796\n",
      "185 0.794\n",
      "186 0.787\n",
      "187 0.796\n",
      "188 0.797\n",
      "189 0.795\n",
      "190 0.793\n",
      "191 0.801\n",
      "192 0.793\n",
      "193 0.8\n",
      "194 0.798\n",
      "195 0.794\n",
      "196 0.801\n",
      "197 0.797\n",
      "198 0.797\n",
      "199 0.794\n",
      "200 0.795\n"
     ]
    }
   ],
   "source": [
    "session = tf.Session()\n",
    "session.run(tf.global_variables_initializer())\n",
    "\n",
    "test_data = {\n",
    "    x: images[:1000],\n",
    "    z: labels[:1000]\n",
    "}\n",
    "\n",
    "print(session.run(accuracy, feed_dict=test_data))\n",
    "\n",
    "for i in range(200):\n",
    "    data = {\n",
    "        x: batch(images[1000:], i, batch_size),\n",
    "        z: batch(labels[1000:], i, batch_size)\n",
    "    }\n",
    "    session.run(train, feed_dict=data)\n",
    "    print(i + 1, session.run(accuracy, feed_dict=test_data))"
   ]
  },
  {
   "cell_type": "code",
   "execution_count": 21,
   "metadata": {
    "collapsed": false,
    "deletable": true,
    "editable": true,
    "scrolled": false
   },
   "outputs": [
    {
     "name": "stdout",
     "output_type": "stream",
     "text": [
      "9 2\n"
     ]
    },
    {
     "data": {
      "image/png": "[encoded data removed]",
      "text/plain": [
       "<matplotlib.figure.Figure at 0x111401748>"
      ]
     },
     "metadata": {},
     "output_type": "display_data"
    },
    {
     "name": "stdout",
     "output_type": "stream",
     "text": [
      "2 5\n"
     ]
    },
    {
     "data": {
      "image/png": "[encoded data removed]",
      "text/plain": [
       "<matplotlib.figure.Figure at 0x11145a4e0>"
      ]
     },
     "metadata": {},
     "output_type": "display_data"
    },
    {
     "name": "stdout",
     "output_type": "stream",
     "text": [
      "9 7\n"
     ]
    },
    {
     "data": {
      "image/png": "[encoded data removed]",
      "text/plain": [
       "<matplotlib.figure.Figure at 0x111a43828>"
      ]
     },
     "metadata": {},
     "output_type": "display_data"
    },
    {
     "name": "stdout",
     "output_type": "stream",
     "text": [
      "8 6\n"
     ]
    },
    {
     "data": {
      "image/png": "[encoded data removed]",
      "text/plain": [
       "<matplotlib.figure.Figure at 0x111a65080>"
      ]
     },
     "metadata": {},
     "output_type": "display_data"
    },
    {
     "name": "stdout",
     "output_type": "stream",
     "text": [
      "9 4\n"
     ]
    },
    {
     "data": {
      "image/png": "[encoded data removed]",
      "text/plain": [
       "<matplotlib.figure.Figure at 0x111b07940>"
      ]
     },
     "metadata": {},
     "output_type": "display_data"
    },
    {
     "name": "stdout",
     "output_type": "stream",
     "text": [
      "9 1\n"
     ]
    },
    {
     "data": {
      "image/png": "[encoded data removed]",
      "text/plain": [
       "<matplotlib.figure.Figure at 0x111b07ba8>"
      ]
     },
     "metadata": {},
     "output_type": "display_data"
    },
    {
     "name": "stdout",
     "output_type": "stream",
     "text": [
      "7 2\n"
     ]
    },
    {
     "data": {
      "image/png": "[encoded data removed]",
      "text/plain": [
       "<matplotlib.figure.Figure at 0x111b6a7b8>"
      ]
     },
     "metadata": {},
     "output_type": "display_data"
    },
    {
     "name": "stdout",
     "output_type": "stream",
     "text": [
      "6 3\n"
     ]
    },
    {
     "data": {
      "image/png": "[encoded data removed]",
      "text/plain": [
       "<matplotlib.figure.Figure at 0x111c9a588>"
      ]
     },
     "metadata": {},
     "output_type": "display_data"
    },
    {
     "name": "stdout",
     "output_type": "stream",
     "text": [
      "7 9\n"
     ]
    },
    {
     "data": {
      "image/png": "[encoded data removed]",
      "text/plain": [
       "<matplotlib.figure.Figure at 0x111bd4240>"
      ]
     },
     "metadata": {},
     "output_type": "display_data"
    },
    {
     "name": "stdout",
     "output_type": "stream",
     "text": [
      "3 5\n"
     ]
    },
    {
     "data": {
      "image/png": "[encoded data removed]",
      "text/plain": [
       "<matplotlib.figure.Figure at 0x111d51588>"
      ]
     },
     "metadata": {},
     "output_type": "display_data"
    },
    {
     "name": "stdout",
     "output_type": "stream",
     "text": [
      "5 9\n"
     ]
    },
    {
     "data": {
      "image/png": "[encoded data removed]",
      "text/plain": [
       "<matplotlib.figure.Figure at 0x111b47da0>"
      ]
     },
     "metadata": {},
     "output_type": "display_data"
    }
   ],
   "source": [
    "predictions = session.run(tf.argmax(y, axis=1), feed_dict=test_data)\n",
    "\n",
    "for i in range(50):\n",
    "    if predictions[i] != labels[i]:\n",
    "        print(predictions[i], labels[i])\n",
    "        plt.imshow(images2d[i])\n",
    "        plt.show()"
   ]
  }
 ],
 "metadata": {
  "kernelspec": {
   "display_name": "Python 3",
   "language": "python",
   "name": "python3"
  },
  "language_info": {
   "codemirror_mode": {
    "name": "ipython",
    "version": 3
   },
   "file_extension": ".py",
   "mimetype": "text/x-python",
   "name": "python",
   "nbconvert_exporter": "python",
   "pygments_lexer": "ipython3",
   "version": "3.5.1"
  }
 },
 "nbformat": 4,
 "nbformat_minor": 2
}
