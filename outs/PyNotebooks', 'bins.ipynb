{
 "cells": [
  {
   "cell_type": "code",
   "execution_count": 7,
   "metadata": {
    "collapsed": false
   },
   "outputs": [],
   "source": [
    "#solution by josef.pktd\n",
    "\n",
    "import itertools\n",
    "import numpy as np\n",
    "\n",
    "def enumit(nobs, rr):\n",
    "    return np.array(list(filter(lambda ii: sum(ii)<=nobs,\n",
    "                                 itertools.product(*[range(nobs + 1)]*rr))))"
   ]
  },
  {
   "cell_type": "code",
   "execution_count": 11,
   "metadata": {
    "collapsed": false
   },
   "outputs": [],
   "source": [
    "#my recursive solution with memoization\n",
    "def enumit_my(nobs, rr, memo):\n",
    "    \n",
    "    key = (nobs, rr)\n",
    "    if key in memo:\n",
    "        return memo[key]\n",
    "    \n",
    "    if nobs == 0:\n",
    "        return [rr * [0, ], ]\n",
    "    if rr == 1:\n",
    "        return [[i, ] for i in range(nobs + 1)]\n",
    "    res = []\n",
    "    for i1 in range(nobs + 1):\n",
    "        res += [[i1,] + vec for vec in enumit_my(nobs - i1, rr - 1, memo)]\n",
    "    \n",
    "    memo[key] = res\n",
    "    return res\n",
    "    "
   ]
  },
  {
   "cell_type": "code",
   "execution_count": 12,
   "metadata": {
    "collapsed": false
   },
   "outputs": [
    {
     "name": "stdout",
     "output_type": "stream",
     "text": [
      "(286, 3)\n",
      "[ 1  3  6 10 15 21 28 36 45 55 66]\n"
     ]
    }
   ],
   "source": [
    "nobs = 10\n",
    "rr = 3\n",
    "\n",
    "m_all = enumit(nobs, rr)\n",
    "print(m_all.shape)\n",
    "print(np.bincount(m_all.sum(1)))\n"
   ]
  },
  {
   "cell_type": "code",
   "execution_count": 13,
   "metadata": {
    "collapsed": false
   },
   "outputs": [
    {
     "name": "stdout",
     "output_type": "stream",
     "text": [
      "1000 loops, best of 3: 636 µs per loop\n"
     ]
    }
   ],
   "source": [
    "%%timeit\n",
    "memo = {}\n",
    "enumit_my(10, 3, memo)"
   ]
  },
  {
   "cell_type": "code",
   "execution_count": 14,
   "metadata": {
    "collapsed": false
   },
   "outputs": [
    {
     "name": "stdout",
     "output_type": "stream",
     "text": [
      "1000 loops, best of 3: 725 µs per loop\n"
     ]
    }
   ],
   "source": [
    "%%timeit\n",
    "enumit(10, 3)"
   ]
  },
  {
   "cell_type": "code",
   "execution_count": 16,
   "metadata": {
    "collapsed": false
   },
   "outputs": [
    {
     "name": "stdout",
     "output_type": "stream",
     "text": [
      "(286, 3)\n",
      "[ 1  3  6 10 15 21 28 36 45 55 66]\n"
     ]
    }
   ],
   "source": [
    "memo = {}\n",
    "m_all = np.asarray(enumit_my(10, 3, memo))\n",
    "print(m_all.shape)\n",
    "print(np.bincount(m_all.sum(1)))"
   ]
  },
  {
   "cell_type": "code",
   "execution_count": null,
   "metadata": {
    "collapsed": false
   },
   "outputs": [],
   "source": []
  },
  {
   "cell_type": "code",
   "execution_count": null,
   "metadata": {
    "collapsed": true
   },
   "outputs": [],
   "source": []
  }
 ],
 "metadata": {
  "kernelspec": {
   "display_name": "Python 3",
   "language": "python",
   "name": "python3"
  },
  "language_info": {
   "codemirror_mode": {
    "name": "ipython",
    "version": 3
   },
   "file_extension": ".py",
   "mimetype": "text/x-python",
   "name": "python",
   "nbconvert_exporter": "python",
   "pygments_lexer": "ipython3",
   "version": "3.4.3"
  }
 },
 "nbformat": 4,
 "nbformat_minor": 0
}
