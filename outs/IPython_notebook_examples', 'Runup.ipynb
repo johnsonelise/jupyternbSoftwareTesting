{
 "cells": [
  {
   "cell_type": "markdown",
   "metadata": {},
   "source": [
    "##Runup and Reverse Shoaling Calculations\n",
    "\n",
    "###  Reverse Shoaling\n",
    "Reverse shoaling is used to estimate deepwater wave height Ho from wave heights measured at intermediate depths equal to, or deeper than, the breaking depth hb."
   ]
  },
  {
   "cell_type": "code",
   "execution_count": 9,
   "metadata": {
    "collapsed": true
   },
   "outputs": [],
   "source": [
    "import numpy as np\n",
    "import matplotlib.pyplot as plt\n",
    "%matplotlib inline\n",
    "g = 9.81\n",
    "pi = np.pi"
   ]
  },
  {
   "cell_type": "code",
   "execution_count": 10,
   "metadata": {
    "collapsed": false
   },
   "outputs": [],
   "source": [
    "def qkhfs( w, h ):\n",
    "    \"\"\"\n",
    "    Quick iterative calculation of kh in gravity-wave dispersion relationship\n",
    "    kh = qkhfs(w, h )\n",
    "    \n",
    "    Input\n",
    "        w - array of angular wave frequencies = 2*pi/T where T = wave period [1/s]\n",
    "        h - array of water depths [m]\n",
    "    Returns\n",
    "        kh - [len(wa), len(ha)] array of wavenumber * depth [ ]\n",
    "\n",
    "    Orbital velocities from kh are accurate to 3e-12 !\n",
    "\n",
    "    RL Soulsby (2006) \\\"Simplified calculation of wave orbital velocities\\\"\n",
    "    HR Wallingford Report TR 155, February 2006\n",
    "    Eqns. 12a - 14\n",
    "    \"\"\"\n",
    "    tanh = np.tanh\n",
    "    g = 9.81\n",
    "    x = w**2.0 *h/g\n",
    "    y = np.sqrt(x) * (x<1.) + x *(x>=1.)\n",
    "    # is this faster than a loop?\n",
    "    t = tanh( y )\n",
    "    y = y-( (y*t -x)/(t+y*(1.0-t**2.0)))\n",
    "    t = tanh( y )\n",
    "    y = y-( (y*t -x)/(t+y*(1.0-t**2.0)))\n",
    "    t = tanh( y )\n",
    "    y = y-( (y*t -x)/(t+y*(1.0-t**2.0)))\n",
    "    kh = y\n",
    "    return kh"
   ]
  },
  {
   "cell_type": "code",
   "execution_count": 11,
   "metadata": {
    "collapsed": false
   },
   "outputs": [],
   "source": [
    "T = 10. # wave period (s)\n",
    "H = 1.54\n",
    "h = 8.\n",
    "Bf=.08 # beach steepness in foreshore ()\n",
    "gam = 0.78 # Ratio height to depth at breaking Hb/hb. Could 0.78.\n",
    "\n",
    "# Case 1 - Measured at break height\n",
    "Hb = H\n",
    "hb = Hb/gam\n",
    "w = 2.*pi/T\n",
    "Lo = g*T*T/(2.*pi)\n",
    "ko = 2*pi/Lo\n",
    "kh = qkhfs( w, hb )\n",
    "Ks = 1./ np.sqrt( np.tanh(kh)*(1.+2.*kh/np.sinh(2.*kh)) )\n",
    "Ksn = (4.*ko*h)**(-1./4.) * (1.+0.25*ko*h+(13./228.)*(ko*h)**2.)\n",
    "Ksb = (4.*ko*h)**(-1./4.) * (1.+0.25*ko*h+(13./228.)*(ko*h)**2.)*(1.+(3./8.)*(H/Lo)**1.5*(ko*h)**(-3.))"
   ]
  },
  {
   "cell_type": "code",
   "execution_count": 12,
   "metadata": {
    "collapsed": false
   },
   "outputs": [
    {
     "name": "stdout",
     "output_type": "stream",
     "text": [
      "Deepwater wave height Ho =  1.13344767624  m\n",
      "Break height Hb =  1.54  m\n",
      "Break depth hb =  1.97435897436  m\n",
      "Shoaling coefficient Ks =  1.35868645045  ()\n",
      "Approximate explicit shoaling coefficient Ks =  1.01983030633  ()\n",
      "...with breaker correction Ksb =  1.03105732398  ()\n",
      "Deepwater wavelength Lo =  156.130999173  m\n",
      "Irribarren number =  0.938931303123\n",
      "R2, eta, Sinc, SIG:  1.03056057542 0.372480326287 0.798172127757 0.798172127757\n",
      "Beach angle, runup distance x: {0}, {1} 4.5739212599 12.92316387\n"
     ]
    }
   ],
   "source": [
    "Ho = Hb/Ks # deepwater wave height (m)\n",
    "Lo = g*T*T/(2.*pi)\n",
    "I = Bf*(np.sqrt(Lo/Ho))\n",
    "print 'Deepwater wave height Ho = ',Ho,' m'\n",
    "print 'Break height Hb = ',Hb,' m'\n",
    "print 'Break depth hb = ',hb,' m'\n",
    "print 'Shoaling coefficient Ks = ',Ks,' ()'\n",
    "print 'Approximate explicit shoaling coefficient Ks = ',Ksn,' ()'\n",
    "print '...with breaker correction Ksb = ',Ksb,' ()'\n",
    "print 'Deepwater wavelength Lo = ',Lo,' m'\n",
    "print 'Irribarren number = ',I\n",
    "eta = 0.35*Bf*np.sqrt(Ho*Lo)\n",
    "Sinc = 0.75*Bf*np.sqrt(Ho*Lo)\n",
    "SIG = 0.06*np.sqrt(Ho*Lo)\n",
    "R2 = 1.1*(eta+0.5*np.sqrt(Sinc**2+SIG**2)) #Eqns 6 and 7\n",
    "print \"R2, eta, Sinc, SIG: \",R2,eta,Sinc,SIG\n",
    "if(I<0.3):\n",
    "    R2L = 0.043*np.sqrt(Ho*Lo)\n",
    "    print \"Dissipative R2: \",R2L\n",
    "Bang = np.arctan(Bf)\n",
    "x = R2/np.sin(Bang)\n",
    "print \"Beach angle, runup distance x: {0}, {1}\",Bang*180./pi, x"
   ]
  },
  {
   "cell_type": "code",
   "execution_count": 13,
   "metadata": {
    "collapsed": false
   },
   "outputs": [
    {
     "name": "stdout",
     "output_type": "stream",
     "text": [
      "Deepwater wave height Ho =  1.54  m\n",
      "Break height Hb =  2.18481659147  m\n",
      "Break depth hb =  2.80104691214  m\n",
      "Shoaling coefficient Ks =  1.25543413867  ()\n",
      "Approximate explicit shoaling coefficient Ks =  1.01983030633  ()\n",
      "...with breaker correction Ksb =  1.03105732398  ()\n",
      "Deepwater wavelength Lo =  156.130999173  m\n",
      "Irribarren number =  0.80551604606\n",
      "R2, eta, Sinc, SIG:  1.20124929696 0.434173148826 0.930371033199 0.930371033199\n",
      "Beach angle, runup distance x:  4.5739212599 15.063589549\n"
     ]
    }
   ],
   "source": [
    "# Case 2 - Measured in deep water\n",
    "Ho = H\n",
    "Lo = g*T*T/(2.*pi)\n",
    "ko = 2*pi/Lo\n",
    "Hb = 0.39*pow(g,(1./5.))*pow( T*Ho*Ho, (2./5.) ) # Komar 6.6\n",
    "hb = Hb/gam\n",
    "kh = qkhfs( w, hb )\n",
    "Ks = 1./ np.sqrt( np.tanh(kh)*(1.+2.*kh/np.sinh(2.*kh)) )\n",
    "Ksn = (4.*ko*h)**(-1./4.) * (1.+0.25*ko*h+(13./228.)*(ko*h)**2.)\n",
    "Ksb = (4.*ko*h)**(-1./4.) * (1.+0.25*ko*h+(13./228.)*(ko*h)**2.)*(1.+(3./8.)*(Ho/Lo)**1.5*(ko*h)**(-3.))\n",
    "\n",
    "I = Bf*(np.sqrt(Lo/Ho))\n",
    "print 'Deepwater wave height Ho = ',Ho,' m'\n",
    "print 'Break height Hb = ',Hb,' m'\n",
    "print 'Break depth hb = ',hb,' m'\n",
    "print 'Shoaling coefficient Ks = ',Ks,' ()'\n",
    "print 'Approximate explicit shoaling coefficient Ks = ',Ksn,' ()'\n",
    "print '...with breaker correction Ksb = ',Ksb,' ()'\n",
    "print 'Deepwater wavelength Lo = ',Lo,' m'\n",
    "print 'Irribarren number = ',I\n",
    "eta = 0.35*Bf*np.sqrt(Ho*Lo)\n",
    "Sinc = 0.75*Bf*np.sqrt(Ho*Lo)\n",
    "SIG = 0.06*np.sqrt(Ho*Lo)\n",
    "R2 = 1.1*(eta+0.5*np.sqrt(Sinc**2+SIG**2)) #Eqns 6 and 7\n",
    "print \"R2, eta, Sinc, SIG: \",R2,eta,Sinc,SIG\n",
    "if(I<0.3):\n",
    "    R2L = 0.043*np.sqrt(Ho*Lo)\n",
    "    print \"Dissipative R2: \",R2L\n",
    "Bang = np.arctan(Bf)\n",
    "x = R2/np.sin(Bang)\n",
    "print \"Beach angle, runup distance x: \",Bang*180./pi, x"
   ]
  },
  {
   "cell_type": "code",
   "execution_count": 14,
   "metadata": {
    "collapsed": false
   },
   "outputs": [
    {
     "name": "stdout",
     "output_type": "stream",
     "text": [
      "(50L,) (50L,) (50L,)\n"
     ]
    },
    {
     "data": {
      "text/plain": [
       "(0.9, 2.2)"
      ]
     },
     "execution_count": 14,
     "metadata": {},
     "output_type": "execute_result"
    },
    {
     "data": {
      "image/png": "[encoded data removed]",
      "text/plain": [
       "<matplotlib.figure.Figure at 0xa4a0dd8>"
      ]
     },
     "metadata": {},
     "output_type": "display_data"
    }
   ],
   "source": [
    "h = np.logspace(-2, 3., 50)\n",
    "w = 2.*pi/T\n",
    "ko = 2*pi/Lo\n",
    "wa = np.array([w])\n",
    "kh = np.squeeze(qkhfs( wa, h ))\n",
    "Cgo = 0.5*g*T/(2*pi)\n",
    "n = 0.5+kh/np.sinh(2.*kh)\n",
    "Cg = n*g*T/(2.*pi)\n",
    "Ks = 1./ np.sqrt( np.tanh(kh)*(1.+2*kh/np.sinh(2*kh)) )\n",
    "Ksb = (4.*ko*h)**(-1./4.) * (1.+0.25*ko*h+(13./228.)*(ko*h)**2.)*(1.+(3./8.)*(Ho/Lo)**1.5*(ko*h)**(-3.))\n",
    "print np.shape(h), np.shape(Ks), np.shape(Ksb)\n",
    "plt.plot(h/Lo,Ks)\n",
    "plt.plot(h/Lo,Ksb)\n",
    "plt.xlim((0.,.05))\n",
    "plt.ylim((.9,2.2))"
   ]
  },
  {
   "cell_type": "code",
   "execution_count": 15,
   "metadata": {
    "collapsed": true
   },
   "outputs": [],
   "source": [
    "eta = 0.35*Bf*np.sqrt(Ho*Lo)\n",
    "Sinc = 0.75*Bf*np.sqrt(Ho*Lo)\n",
    "SIG = 0.06*np.sqrt(Ho*Lo)\n",
    "R2 = 1.1*(eta*0.5*np.sqrt(Sinc**2+SIG**2)) #Eqns 6 and 7"
   ]
  }
 ],
 "metadata": {
  "kernelspec": {
   "display_name": "Python 2",
   "language": "python",
   "name": "python2"
  },
  "language_info": {
   "codemirror_mode": {
    "name": "ipython",
    "version": 2
   },
   "file_extension": ".py",
   "mimetype": "text/x-python",
   "name": "python",
   "nbconvert_exporter": "python",
   "pygments_lexer": "ipython2",
   "version": "2.7.11"
  }
 },
 "nbformat": 4,
 "nbformat_minor": 0
}
