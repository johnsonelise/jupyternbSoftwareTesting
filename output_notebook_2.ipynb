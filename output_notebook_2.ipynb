{
 "cells": [
  {
   "cell_type": "code",
   "execution_count": null,
   "id": "860f4a07",
   "metadata": {},
   "outputs": [],
   "source": [
    "x = \"Hello World\"\n",
    "z = \"whats up\"\n",
    "print(x)\n",
    "y = \"!\\nWelcome to Juypter Notebooks!!\"\n",
    "print(x+y)\n",
    "print(z)\n"
   ]
  }
 ],
 "metadata": {},
 "nbformat": 4,
 "nbformat_minor": 5
}
