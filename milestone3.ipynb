{
 "cells": [
  {
   "cell_type": "markdown",
   "metadata": {},
   "source": [
    "# Jupyter Notebooks Project\n",
    "## Milestone 3\n",
    "##### Read a Jupyter Notebook File"
   ]
  },
  {
   "cell_type": "code",
   "execution_count": 1,
   "metadata": {},
   "outputs": [],
   "source": [
    "import nbformat\n",
    "import sys\n",
    "import matplotlib.pyplot as plt\n",
    "\n",
    "import glob\n",
    "import os.path\n",
    "\n",
    "folder_path = \"./quick_run/\"\n",
    "\n",
    "# Create a pattern to match all files in the folder\n",
    "pattern = os.path.join(folder_path, '*')\n",
    "count = 0\n",
    "# Specify the path to the Jupyter Notebook file\n",
    "# notebook_file_path = 'outs/order-testing.ipynb'\n",
    "original_stdout = sys.stdout\n",
    "sys.stdout = open('with_changes_test.txt', 'w')\n",
    "print('starting...')\n",
    "plt.switch_backend('Agg')\n",
    "file_number = 0\n",
    "\n",
    "def setup(notebook_file_path):\n",
    "    with open(notebook_file_path, 'r', encoding='utf-8') as notebook_file:\n",
    "        notebook_content = nbformat.read(notebook_file, as_version=4)\n",
    "\n",
    "    code = []\n",
    "    # read everything in the file!\n",
    "    for cell in notebook_content['cells']:\n",
    "        if cell.cell_type == 'code':\n",
    "            code_source = cell['source']\n",
    "            code.append(str(code_source) + '\\n')\n",
    "\n",
    "        elif cell.cell_type == 'markdown':\n",
    "            markdown_source = cell['source']\n",
    "\n",
    "    # print(\"here is the array version:\")\n",
    "    return code\n"
   ]
  },
  {
   "cell_type": "markdown",
   "metadata": {},
   "source": [
    "##### Try different orders of cells\n",
    "\n",
    "This is my permutation function that will create all of the different orders I can run my cells in."
   ]
  },
  {
   "cell_type": "code",
   "execution_count": 2,
   "metadata": {},
   "outputs": [],
   "source": [
    "def permutation(a):\n",
    "    if len(a) == 1:\n",
    "        return a\n",
    "\n",
    "    returner = []\n",
    "    for i in range(len(a)):\n",
    "        first = a[i]\n",
    "        other = a[:i] + a[i+1:]\n",
    "        for e in permutation(other):\n",
    "            added = first + str(e)\n",
    "            returner.append(added)\n",
    "\n",
    "    return returner"
   ]
  },
  {
   "cell_type": "markdown",
   "metadata": {},
   "source": [
    "#### Test Permutations\n",
    "\n",
    "This is where I test the different permutations I created to see which ones work."
   ]
  },
  {
   "cell_type": "code",
   "execution_count": 3,
   "metadata": {},
   "outputs": [],
   "source": [
    "def createSolution(code):\n",
    "    options = permutation(code)\n",
    "    count = len(options)\n",
    "    solutions = []\n",
    "    for e in options:\n",
    "        # print(\"Resetting...\")\n",
    "        local =  {}\n",
    "        try:\n",
    "            exec(e, None, local)\n",
    "            worked = 1\n",
    "        except:\n",
    "            count = count - 1\n",
    "            # print(\"ERROR\")\n",
    "            worked = 0\n",
    "        finally:\n",
    "            if worked == 1:\n",
    "                solutions.append(e)\n",
    "                break\n",
    "\n",
    "\n",
    "    # if count != 5:\n",
    "        # print(\"--------- EXTRA HUGE ERROR ---------\") \n",
    "    # print(f'{count} execution options.')\n",
    "\n",
    "    # print(\"solutions: \")\n",
    "\n",
    "    for val in solutions:\n",
    "        print(val)\n",
    "    \n",
    "    thepick = solutions[0]\n",
    "\n",
    "    stringanswer = ''\n",
    "    for ele in thepick:\n",
    "        stringanswer += str(ele)\n",
    "\n",
    "    print(stringanswer)\n",
    "    return stringanswer"
   ]
  },
  {
   "cell_type": "markdown",
   "metadata": {},
   "source": [
    "#### Try the original code -- if it doesn't work try other options\n",
    "\n",
    "This is where I can test to see if the notebook works on its own or if I need to rearrange the cells to find an order that might work better."
   ]
  },
  {
   "cell_type": "code",
   "execution_count": 4,
   "metadata": {},
   "outputs": [],
   "source": [
    "def find_solution(code):\n",
    "    answer = '' # make variable that can take in the code string\n",
    "\n",
    "    for ele in code:\n",
    "        answer += str(ele) # make the code string\n",
    "\n",
    "    print(\"Resetting...\") # update me\n",
    "\n",
    "    local =  {} # clear variables\n",
    "    try:\n",
    "        exec(answer, None, local) # check if OG code works\n",
    "    except:\n",
    "        print(\"does not work -- need to run options\") # it doesnt so try mine!\n",
    "        answer = createSolution(code)\n",
    "\n",
    "    nb = nbformat.v4.new_notebook() # output to a new notebook!\n",
    "\n",
    "    cell = nbformat.v4.new_code_cell(answer)\n",
    "    nb.cells.append(cell)\n",
    "\n",
    "    nbformat.write(nb, f'output_notebook_{file_number}.ipynb') # write to notebook to keep the format"
   ]
  },
  {
   "cell_type": "markdown",
   "metadata": {},
   "source": [
    "#### Run code for all files in the folder!"
   ]
  },
  {
   "cell_type": "code",
   "execution_count": 5,
   "metadata": {},
   "outputs": [],
   "source": [
    "# Iterate through the files\n",
    "worked = 0\n",
    "for file_path in glob.glob(pattern):\n",
    "    print(count)\n",
    "    file_number = file_number + 1\n",
    "    # Check if it's a file (not a directory)\n",
    "    if os.path.isfile(file_path):\n",
    "        file_name = os.path.basename(file_path)\n",
    "        \n",
    "        code = setup('./quick_run/' + file_name)\n",
    "\n",
    "        try:\n",
    "            find_solution(code)\n",
    "            worked = worked + 1\n",
    "        except:\n",
    "            print(\"FAIL\")\n",
    "            worked = worked - 1\n",
    "    if worked != 0:\n",
    "        print(f\"{worked}: worked!! - elise\")\n"
   ]
  },
  {
   "cell_type": "markdown",
   "metadata": {},
   "source": [
    "### DONES:\n",
    "\n",
    " - find some examples of order not working\n",
    "   - try to get at least one out of order cell working\n",
    " - find some examples of order working\n",
    "\n",
    "### Milestone Three\n",
    "#### what to get done\n",
    " - test with whole data-set\n",
    " - debug\n",
    " - make the scripts more adaptable "
   ]
  }
 ],
 "metadata": {
  "kernelspec": {
   "display_name": "Python 3",
   "language": "python",
   "name": "python3"
  },
  "language_info": {
   "codemirror_mode": {
    "name": "ipython",
    "version": 3
   },
   "file_extension": ".py",
   "mimetype": "text/x-python",
   "name": "python",
   "nbconvert_exporter": "python",
   "pygments_lexer": "ipython3",
   "version": "3.8.10"
  }
 },
 "nbformat": 4,
 "nbformat_minor": 2
}
