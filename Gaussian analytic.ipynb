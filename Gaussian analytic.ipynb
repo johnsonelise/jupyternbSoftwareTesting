{
 "cells": [
  {
   "cell_type": "code",
   "execution_count": 1,
   "metadata": {
    "collapsed": false
   },
   "outputs": [],
   "source": [
    "from sympy import pi, sqrt, erf, integrate, var, S, exp, init_printing, oo, Symbol"
   ]
  },
  {
   "cell_type": "code",
   "execution_count": 2,
   "metadata": {
    "collapsed": false
   },
   "outputs": [],
   "source": [
    "var(\"r\")\n",
    "alpha = Symbol(\"alpha\", positive=True)"
   ]
  },
  {
   "cell_type": "code",
   "execution_count": 3,
   "metadata": {
    "collapsed": false
   },
   "outputs": [],
   "source": [
    "g = alpha**3/pi**(S(3)/2)*exp(-alpha**2*r**2)"
   ]
  },
  {
   "cell_type": "code",
   "execution_count": 4,
   "metadata": {
    "collapsed": false
   },
   "outputs": [],
   "source": [
    "V = erf(alpha*r)/r"
   ]
  },
  {
   "cell_type": "code",
   "execution_count": 5,
   "metadata": {
    "collapsed": false
   },
   "outputs": [],
   "source": [
    "Ig = 4*pi*integrate(g*(1/r-V)*r**2, (r, 0, oo))"
   ]
  },
  {
   "cell_type": "code",
   "execution_count": 6,
   "metadata": {
    "collapsed": true
   },
   "outputs": [],
   "source": [
    "Isph = 4*pi*integrate((1/r-V)*r**2, (r, 0, 1))"
   ]
  },
  {
   "cell_type": "code",
   "execution_count": 7,
   "metadata": {
    "collapsed": true
   },
   "outputs": [],
   "source": [
    "alpha_code = 37"
   ]
  },
  {
   "cell_type": "code",
   "execution_count": 8,
   "metadata": {
    "collapsed": false
   },
   "outputs": [
    {
     "data": {
      "text/plain": [
       "2.010320207622576710962755"
      ]
     },
     "execution_count": 8,
     "metadata": {},
     "output_type": "execute_result"
    }
   ],
   "source": [
    "Ig.subs(alpha, sqrt(alpha_code)).n(25)"
   ]
  },
  {
   "cell_type": "code",
   "execution_count": 9,
   "metadata": {
    "collapsed": false
   },
   "outputs": [
    {
     "data": {
      "text/plain": [
       "0.08490790955648089702710017"
      ]
     },
     "execution_count": 9,
     "metadata": {},
     "output_type": "execute_result"
    }
   ],
   "source": [
    "Isph.subs(alpha, sqrt(alpha_code)).n(25)"
   ]
  },
  {
   "cell_type": "code",
   "execution_count": 10,
   "metadata": {
    "collapsed": false
   },
   "outputs": [
    {
     "name": "stdout",
     "output_type": "stream",
     "text": [
      "1 6.103391218853852058466783\n",
      "2 6.855206721888216457088578\n",
      "3 6.863577866679608029294916\n",
      "4 6.863661671059414495539896\n",
      "5 6.863662509112513937641552\n",
      "6 6.863662517493045862208506\n",
      "7 6.863662517576851181547190\n",
      "8 6.863662517577689234740586\n",
      "9 6.863662517577697615272520\n",
      "10 6.863662517577697699077840\n",
      "11 6.863662517577697699915893\n",
      "12 6.863662517577697699924273\n",
      "13 6.863662517577697699924357\n",
      "14 6.863662517577697699924358\n",
      "15 6.863662517577697699924358\n",
      "16 6.863662517577697699924358\n",
      "17 6.863662517577697699924358\n"
     ]
    }
   ],
   "source": [
    "e = V.subs(alpha, sqrt(alpha_code))\n",
    "for i in range(1, 18):\n",
    "    print i, e.subs(r, S(1)/10**i).n(25)"
   ]
  },
  {
   "cell_type": "code",
   "execution_count": 11,
   "metadata": {
    "collapsed": false
   },
   "outputs": [
    {
     "name": "stdout",
     "output_type": "stream",
     "text": [
      "Ig = 2.0103202076225765715378_dp / rc\n",
      "Isph = 0.0849079095564808927765_dp * rc**2\n",
      "v0 = 6.8636625175776977414444_dp / rc\n"
     ]
    }
   ],
   "source": [
    "print \"Ig = %.22f_dp / rc\" % Ig.subs(alpha, sqrt(alpha_code)).n(25)\n",
    "print \"Isph = %.22f_dp * rc**2\" % Isph.subs(alpha, sqrt(alpha_code)).n(25)\n",
    "print \"v0 = %.22f_dp / rc\" % e.subs(r, S(1)/10**18).n(25)"
   ]
  }
 ],
 "metadata": {
  "kernelspec": {
   "display_name": "Python 2",
   "language": "python",
   "name": "python2"
  },
  "language_info": {
   "codemirror_mode": {
    "name": "ipython",
    "version": 2
   },
   "file_extension": ".py",
   "mimetype": "text/x-python",
   "name": "python",
   "nbconvert_exporter": "python",
   "pygments_lexer": "ipython2",
   "version": "2.7.11"
  }
 },
 "nbformat": 4,
 "nbformat_minor": 0
}
