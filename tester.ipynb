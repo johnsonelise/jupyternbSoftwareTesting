{
 "cells": [
  {
   "cell_type": "code",
   "execution_count": null,
   "id": "2ff14646",
   "metadata": {},
   "outputs": [],
   "source": [
    "x = \"This is how you create a variable\"\n",
    "print(x)\n"
   ]
  }
 ],
 "metadata": {},
 "nbformat": 4,
 "nbformat_minor": 5
}
