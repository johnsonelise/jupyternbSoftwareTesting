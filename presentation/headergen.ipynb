{
 "cells": [
  {
   "cell_type": "markdown",
   "metadata": {},
   "source": [
    "#### HeaderGen Example Cases"
   ]
  },
  {
   "cell_type": "code",
   "execution_count": 3,
   "metadata": {},
   "outputs": [
    {
     "name": "stdout",
     "output_type": "stream",
     "text": [
      "z equals = [4.0, 5.0, 6.0, 7.0, 8.0]\n"
     ]
    }
   ],
   "source": [
    "import numpy as np # give imports new names!\n",
    "\n",
    "z = 100 # no type declaration\n",
    "\n",
    "z = [] # change variable types and values\n",
    "\n",
    "x = [3,4,5,6,7]\n",
    "y = np.ones(5)\n",
    "i = 0\n",
    "\n",
    "for ele in y:\n",
    "    z.append(ele + x[i])\n",
    "    i = i + 1\n",
    "\n",
    "print(f\"z equals = {z}\")\n"
   ]
  }
 ],
 "metadata": {
  "kernelspec": {
   "display_name": "Python 3",
   "language": "python",
   "name": "python3"
  },
  "language_info": {
   "codemirror_mode": {
    "name": "ipython",
    "version": 3
   },
   "file_extension": ".py",
   "mimetype": "text/x-python",
   "name": "python",
   "nbconvert_exporter": "python",
   "pygments_lexer": "ipython3",
   "version": "3.8.10"
  }
 },
 "nbformat": 4,
 "nbformat_minor": 2
}
