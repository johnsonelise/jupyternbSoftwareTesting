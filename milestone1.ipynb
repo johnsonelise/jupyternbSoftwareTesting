{
 "cells": [
  {
   "cell_type": "code",
   "execution_count": null,
   "metadata": {},
   "outputs": [],
   "source": [
    "import requests\n",
    "import csv\n",
    "\n",
    "\n",
    "csv_file = open('data/downloaded_notebooks.csv', 'r', encoding='utf-8')\n",
    "reader = csv.reader(csv_file)\n",
    "\n",
    "for row in reader:\n",
    "\n",
    "    pathstring = str(row).split(',')\n",
    "    filename   = str(row).split('/')\n",
    "    filename   = filename[   len(filename) - 1]\n",
    "    filename   = filename[ : len(filename) - 2]\n",
    "\n",
    "    # Specify the repository and file path\n",
    "    repository = str(pathstring[0])[2:len(str(pathstring[0])) - 1]\n",
    "    file_path  = str(pathstring[1])[2:len(str(pathstring[1])) - 2]\n",
    "\n",
    "    # Make an API request to fetch the default branch\n",
    "    repo_info_url = f\"https://api.github.com/repos/{repository}\"\n",
    "    response = requests.get(repo_info_url)\n",
    "\n",
    "    if response.status_code == 200:\n",
    "        repo_info = response.json()\n",
    "        default_branch = repo_info[\"default_branch\"]\n",
    "        \n",
    "        # Construct the raw file URL using the default branch\n",
    "        github_raw_url = f\"https://raw.githubusercontent.com/{repository}/{default_branch}/{file_path}\"\n",
    "\n",
    "        # Specify the local file path where you want to save the downloaded file\n",
    "        local_file_path = f\"outs/{filename}\"  # Change this to your desired local file path\n",
    "\n",
    "        # Send an HTTP GET request to the GitHub raw file URL\n",
    "        response = requests.get(github_raw_url)\n",
    "\n",
    "        # Check if the request was successful (status code 200)\n",
    "        if response.status_code == 200:\n",
    "            # Write the content of the file to the local file\n",
    "            with open(local_file_path, \"wb\") as file:\n",
    "                file.write(response.content)\n",
    "            print(f\"File '{local_file_path}' downloaded successfully from branch '{default_branch}'.\")\n",
    "        else:\n",
    "            print(f\"Failed to download file. Status code: {response.status_code}\")\n",
    "    else:\n",
    "        print(f\"Failed to fetch repository info. Status code: {response.status_code}\")\n"
   ]
  }
 ],
 "metadata": {
  "kernelspec": {
   "display_name": "Python 3",
   "language": "python",
   "name": "python3"
  },
  "language_info": {
   "codemirror_mode": {
    "name": "ipython",
    "version": 3
   },
   "file_extension": ".py",
   "mimetype": "text/x-python",
   "name": "python",
   "nbconvert_exporter": "python",
   "pygments_lexer": "ipython3",
   "version": "3.8.10"
  }
 },
 "nbformat": 4,
 "nbformat_minor": 2
}
