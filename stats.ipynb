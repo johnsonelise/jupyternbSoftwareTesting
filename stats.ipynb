{
 "cells": [
  {
   "cell_type": "markdown",
   "metadata": {},
   "source": [
    "### number of projects"
   ]
  },
  {
   "cell_type": "code",
   "execution_count": 4,
   "metadata": {},
   "outputs": [
    {
     "name": "stdout",
     "output_type": "stream",
     "text": [
      "number of individual projects: 3237\n"
     ]
    }
   ],
   "source": [
    "import pandas as pd\n",
    "\n",
    "notebooks_info = pd.read_csv('./data/downloaded_notebooks.csv').head(11058)\n",
    "\n",
    "print(f'number of individual projects: {len(notebooks_info[notebooks_info.columns[0]].unique())}')\n"
   ]
  },
  {
   "cell_type": "code",
   "execution_count": 5,
   "metadata": {},
   "outputs": [
    {
     "name": "stdout",
     "output_type": "stream",
     "text": [
      "30\n"
     ]
    }
   ],
   "source": [
    "import pandas as pd\n",
    "import os\n",
    "\n",
    "# Assuming you have a DataFrame named df with columns 'stats' and 'file_name'\n",
    "# and a folder path where your files are stored\n",
    "folder_path = './final_valid_notebooks/'\n",
    "df = pd.read_csv('./data/downloaded_notebooks.csv').head(11058)\n",
    "\n",
    "# Function to get stats for a given file name\n",
    "def get_stats(file_name):\n",
    "    # Your logic to retrieve stats for the given file_name\n",
    "    # For example, you might read the file and extract relevant information\n",
    "    # Here, I'm just returning a placeholder value\n",
    "    return f'Stats for {file_name}'\n",
    "\n",
    "# Add a new column to store the stats\n",
    "df['stats'] = df['file_name'].apply(lambda x: get_stats(x) if os.path.exists(os.path.join(folder_path, x)) else None)\n",
    "\n",
    "# Display the updated DataFrame\n",
    "print(len(df['stats'].unique()))"
   ]
  },
  {
   "cell_type": "code",
   "execution_count": 6,
   "metadata": {},
   "outputs": [
    {
     "name": "stdout",
     "output_type": "stream",
     "text": [
      "number of files: 11058\n"
     ]
    }
   ],
   "source": [
    "print(f'number of files: {len(notebooks_info[notebooks_info.columns[0]])}')"
   ]
  },
  {
   "cell_type": "code",
   "execution_count": 11,
   "metadata": {},
   "outputs": [
    {
     "name": "stdout",
     "output_type": "stream",
     "text": [
      "752\n",
      "average number of cells: 12.788563829787234\n"
     ]
    }
   ],
   "source": [
    "import nbformat\n",
    "import sys\n",
    "import matplotlib.pyplot as plt\n",
    "import random\n",
    "import glob\n",
    "import os.path\n",
    "import numpy as np\n",
    "from nbformat.reader import NotJSONError\n",
    "from json.decoder import JSONDecodeError\n",
    "\n",
    "folder_path = './final_valid_notebooks/'\n",
    "pattern = os.path.join(folder_path, '*')\n",
    "# count = 0\n",
    "print(len(glob.glob(pattern)))\n",
    "\n",
    "cell_lens = []\n",
    "for file_path in glob.glob(pattern):\n",
    "    # count += 1\n",
    "    # print(count)\n",
    "    if os.path.isfile(file_path):\n",
    "        file_name = os.path.basename(file_path)\n",
    "\n",
    "\n",
    "        try:\n",
    "            with open(folder_path + file_name, 'r', encoding='utf-8') as notebook_file:\n",
    "                notebook_content = nbformat.read(notebook_file, as_version=4)\n",
    "            cell_lens.append(len(notebook_content['cells']))\n",
    "\n",
    "        except (JSONDecodeError, NotJSONError) as e:\n",
    "            print(f\"Error reading notebook at {folder_path + file_name}: {e}\")\n",
    "\n",
    "np_cell = np.array(cell_lens)\n",
    "\n",
    "\n",
    "print(f'average number of cells: {np.average(np_cell)}')\n",
    "\n",
    "# NOTE: roughly 5 mins\n"
   ]
  }
 ],
 "metadata": {
  "kernelspec": {
   "display_name": "Python 3",
   "language": "python",
   "name": "python3"
  },
  "language_info": {
   "codemirror_mode": {
    "name": "ipython",
    "version": 3
   },
   "file_extension": ".py",
   "mimetype": "text/x-python",
   "name": "python",
   "nbconvert_exporter": "python",
   "pygments_lexer": "ipython3",
   "version": "3.8.10"
  }
 },
 "nbformat": 4,
 "nbformat_minor": 2
}
